{
 "cells": [
  {
   "cell_type": "code",
   "execution_count": 1,
   "id": "cf8b5b2e",
   "metadata": {},
   "outputs": [],
   "source": [
    "from checklist.test_suite import TestSuite\n",
    "import config\n",
    "import pickle\n",
    "import pandas as pd\n",
    "import numpy as np"
   ]
  },
  {
   "cell_type": "markdown",
   "id": "f9da8e04",
   "metadata": {},
   "source": [
    "### Sentiment Analysis"
   ]
  },
  {
   "cell_type": "code",
   "execution_count": 29,
   "id": "43f70448",
   "metadata": {},
   "outputs": [],
   "source": [
    "suite = TestSuite.from_file(config.sa_suite)"
   ]
  },
  {
   "cell_type": "code",
   "execution_count": 30,
   "id": "396608ca",
   "metadata": {},
   "outputs": [
    {
     "data": {
      "text/plain": [
       "defaultdict(<function <lambda>()>,\n",
       "            {'single positive words': defaultdict(<function <lambda>()>,\n",
       "                         {'capability': 'Vocabulary',\n",
       "                          'type': 'MFT',\n",
       "                          'description]': ''}),\n",
       "             'single negative words': defaultdict(<function <lambda>()>,\n",
       "                         {'capability': 'Vocabulary',\n",
       "                          'type': 'MFT',\n",
       "                          'description]': ''}),\n",
       "             'single neutral words': defaultdict(<function <lambda>()>,\n",
       "                         {'capability': 'Vocabulary',\n",
       "                          'type': 'MFT',\n",
       "                          'description': 'TODO_DESCRIPTION',\n",
       "                          'description]': ''}),\n",
       "             'Sentiment-laden words in context': defaultdict(<function <lambda>()>,\n",
       "                         {'capability': 'Vocabulary',\n",
       "                          'type': 'MFT',\n",
       "                          'description': 'Use positive and negative verbs and adjectives with airline nouns such as seats, pilot, flight, etc. E.g. \"This was a bad flight\"',\n",
       "                          'description]': ''}),\n",
       "             'neutral words in context': defaultdict(<function <lambda>()>,\n",
       "                         {'capability': 'Vocabulary',\n",
       "                          'type': 'MFT',\n",
       "                          'description': 'Use neutral verbs and adjectives with airline nouns such as seats, pilot, flight, etc. E.g. \"The pilot is American\"',\n",
       "                          'description]': ''}),\n",
       "             'intensifiers': defaultdict(<function <lambda>()>,\n",
       "                         {'capability': 'Vocabulary',\n",
       "                          'type': 'DIR',\n",
       "                          'description': 'Test is composed of pairs of sentences (x1, x2), where we add an intensifier\\nsuch as \"really\",or \"very\" to x2 and expect the confidence to NOT go down (with tolerance=0.1). e.g.:\\nx1 = \"That was a good flight\"\\nx2 = \"That was a very good flight\"\\nWe disregard cases where the prediction of x1 is neutral.\\n',\n",
       "                          'description]': ''}),\n",
       "             'reducers': defaultdict(<function <lambda>()>,\n",
       "                         {'capability': 'Vocabulary',\n",
       "                          'type': 'DIR',\n",
       "                          'description': 'Test is composed of pairs of sentences (x1, x2), where we add a reducer\\nsuch as \"somewhat\", or \"kinda\" to x2 and expect the confidence to NOT go up (with tolerance=0.1). e.g.:\\nx1 = \"The cabin crew was good.\"\\nx2 = \"The cabin crew was somewhat good.\"\\nWe disregard cases where the prediction of x1 is neutral.\\n',\n",
       "                          'description]': ''}),\n",
       "             'change neutral words with BERT': defaultdict(<function <lambda>()>,\n",
       "                         {'capability': 'Vocabulary',\n",
       "                          'type': 'INV',\n",
       "                          'description': 'Change a set of neutral words with other context-appropriate neutral words (using BERT).',\n",
       "                          'description]': ''}),\n",
       "             'add positive phrases': defaultdict(<function <lambda>()>,\n",
       "                         {'capability': 'Vocabulary',\n",
       "                          'type': 'DIR',\n",
       "                          'description': 'Add very positive phrases (e.g. I love you) to the end of sentences, expect probability of positive to NOT go down (tolerance=0.1)',\n",
       "                          'description]': ''}),\n",
       "             'add negative phrases': defaultdict(<function <lambda>()>,\n",
       "                         {'capability': 'Vocabulary',\n",
       "                          'type': 'DIR',\n",
       "                          'description': 'Add very negative phrases (e.g. I hate you) to the end of sentences, expect probability of positive to NOT go up (tolerance=0.1)',\n",
       "                          'description]': ''}),\n",
       "             'add random urls and handles': defaultdict(<function <lambda>()>,\n",
       "                         {'capability': 'Robustness',\n",
       "                          'type': 'INV',\n",
       "                          'description': 'add randomly generated urls and handles to the start or end of sentence',\n",
       "                          'description]': ''}),\n",
       "             'punctuation': defaultdict(<function <lambda>()>,\n",
       "                         {'capability': 'Robustness',\n",
       "                          'type': 'INV',\n",
       "                          'description': 'strip punctuation and / or add \".\"',\n",
       "                          'description]': ''}),\n",
       "             'typos': defaultdict(<function <lambda>()>,\n",
       "                         {'capability': 'Robustness',\n",
       "                          'type': 'INV',\n",
       "                          'description': 'Add one typo to input by swapping two adjacent characters',\n",
       "                          'description]': ''}),\n",
       "             '2 typos': defaultdict(<function <lambda>()>,\n",
       "                         {'capability': 'Robustness',\n",
       "                          'type': 'INV',\n",
       "                          'description': 'Add two typos to input by swapping two adjacent characters twice',\n",
       "                          'description]': ''}),\n",
       "             'contractions': defaultdict(<function <lambda>()>,\n",
       "                         {'capability': 'Robustness',\n",
       "                          'type': 'INV',\n",
       "                          'description': \"Contract or expand contractions, e.g. What is -> What's\",\n",
       "                          'description]': ''}),\n",
       "             'change names': defaultdict(<function <lambda>()>,\n",
       "                         {'capability': 'NER',\n",
       "                          'type': 'INV',\n",
       "                          'description': 'Replace names with other common names',\n",
       "                          'description]': ''}),\n",
       "             'change locations': defaultdict(<function <lambda>()>,\n",
       "                         {'capability': 'NER',\n",
       "                          'type': 'INV',\n",
       "                          'description': 'Replace city or country names with other cities or countries',\n",
       "                          'description]': ''}),\n",
       "             'change numbers': defaultdict(<function <lambda>()>,\n",
       "                         {'capability': 'NER',\n",
       "                          'type': 'INV',\n",
       "                          'description': 'Replace integers with random integers within a 20% radius of the original',\n",
       "                          'description]': ''}),\n",
       "             'used to, but now': defaultdict(<function <lambda>()>,\n",
       "                         {'capability': 'Temporal',\n",
       "                          'type': 'MFT',\n",
       "                          'description': 'Have two conflicing statements, one about the past and one about the present.\\nExpect the present to carry the sentiment. Examples:\\nI used to love this airline, now I hate it -> should be negative\\nI love this airline, although I used to hate it -> should be positive\\n',\n",
       "                          'description]': ''}),\n",
       "             '\"used to\" should reduce': defaultdict(<function <lambda>()>,\n",
       "                         {'capability': 'Temporal',\n",
       "                          'type': 'DIR',\n",
       "                          'description': 'A model should not be more confident on \"I used to think X\" when compared to \"X\", e.g. \"I used to love this airline\" should have less confidence than \"I love this airline\"',\n",
       "                          'description]': ''}),\n",
       "             'protected: race': defaultdict(<function <lambda>()>,\n",
       "                         {'capability': 'Fairness',\n",
       "                          'type': 'INV',\n",
       "                          'description': 'Prediction should be the same for various adjectives within a protected class',\n",
       "                          'description]': ''}),\n",
       "             'protected: sexual': defaultdict(<function <lambda>()>,\n",
       "                         {'capability': 'Fairness',\n",
       "                          'type': 'INV',\n",
       "                          'description': 'Prediction should be the same for various adjectives within a protected class',\n",
       "                          'description]': ''}),\n",
       "             'protected: religion': defaultdict(<function <lambda>()>,\n",
       "                         {'capability': 'Fairness',\n",
       "                          'type': 'INV',\n",
       "                          'description': 'Prediction should be the same for various adjectives within a protected class',\n",
       "                          'description]': ''}),\n",
       "             'protected: nationality': defaultdict(<function <lambda>()>,\n",
       "                         {'capability': 'Fairness',\n",
       "                          'type': 'INV',\n",
       "                          'description': 'Prediction should be the same for various adjectives within a protected class',\n",
       "                          'description]': ''}),\n",
       "             'simple negations: not negative': defaultdict(<function <lambda>()>,\n",
       "                         {'capability': 'Negation',\n",
       "                          'type': 'MFT',\n",
       "                          'description': 'Very simple negations of negative statements. Expectation requires prediction to NOT be negative (i.e. neutral or positive)',\n",
       "                          'description]': ''}),\n",
       "             'simple negations: not neutral is still neutral': defaultdict(<function <lambda>()>,\n",
       "                         {'capability': 'Negation',\n",
       "                          'type': 'MFT',\n",
       "                          'description': 'Negating neutral statements should still result in neutral predictions',\n",
       "                          'description]': ''}),\n",
       "             'simple negations: I thought x was positive, but it was not (should be negative)': defaultdict(<function <lambda>()>,\n",
       "                         {'capability': 'Negation',\n",
       "                          'type': 'MFT',\n",
       "                          'description]': ''}),\n",
       "             'simple negations: I thought x was negative, but it was not (should be neutral or positive)': defaultdict(<function <lambda>()>,\n",
       "                         {'capability': 'Negation',\n",
       "                          'type': 'MFT',\n",
       "                          'description]': ''}),\n",
       "             'simple negations: but it was not (neutral) should still be neutral': defaultdict(<function <lambda>()>,\n",
       "                         {'capability': 'Negation',\n",
       "                          'type': 'MFT',\n",
       "                          'description]': ''}),\n",
       "             'Hard: Negation of positive with neutral stuff in the middle (should be negative)': defaultdict(<function <lambda>()>,\n",
       "                         {'capability': 'Negation',\n",
       "                          'type': 'MFT',\n",
       "                          'description]': ''}),\n",
       "             'Hard: Negation of negative with neutral stuff in the middle (should be positive or neutral)': defaultdict(<function <lambda>()>,\n",
       "                         {'capability': 'Negation',\n",
       "                          'type': 'MFT',\n",
       "                          'description]': ''}),\n",
       "             'negation of neutral with neutral in the middle, should still neutral': defaultdict(<function <lambda>()>,\n",
       "                         {'capability': 'Negation',\n",
       "                          'type': 'MFT',\n",
       "                          'description]': ''}),\n",
       "             'my opinion is what matters': defaultdict(<function <lambda>()>,\n",
       "                         {'capability': 'SRL',\n",
       "                          'type': 'MFT',\n",
       "                          'description': 'Have conflicting statements where the author has an opinion and a third party has a contrary opinion.\\nExpect sentiment to be the authors\\'. Example:\\n\"Some people think you are great, but I think you are terrible\" -> should be negative\\n',\n",
       "                          'description]': ''}),\n",
       "             'Q & A: yes': defaultdict(<function <lambda>()>,\n",
       "                         {'capability': 'SRL',\n",
       "                          'type': 'MFT',\n",
       "                          'description': 'TODO_DESCRIPTION',\n",
       "                          'description]': ''}),\n",
       "             'Q & A: yes (neutral)': defaultdict(<function <lambda>()>,\n",
       "                         {'capability': 'SRL',\n",
       "                          'type': 'MFT',\n",
       "                          'description': 'TODO_DESCRIPTION',\n",
       "                          'description]': ''}),\n",
       "             'Q & A: no': defaultdict(<function <lambda>()>,\n",
       "                         {'capability': 'SRL',\n",
       "                          'type': 'MFT',\n",
       "                          'description': 'TODO_DESCRIPTION',\n",
       "                          'description]': ''}),\n",
       "             'Q & A: no (neutral)': defaultdict(<function <lambda>()>,\n",
       "                         {'capability': 'SRL',\n",
       "                          'type': 'MFT',\n",
       "                          'description': 'TODO_DESCRIPTION',\n",
       "                          'description]': ''}),\n",
       "             'simple negations: negative': defaultdict(<function <lambda>()>,\n",
       "                         {'capability': 'Negation',\n",
       "                          'type': 'MFT',\n",
       "                          'description': 'Very simple negations of positive statements',\n",
       "                          'description]': ''})})"
      ]
     },
     "execution_count": 30,
     "metadata": {},
     "output_type": "execute_result"
    }
   ],
   "source": [
    "suite.info"
   ]
  },
  {
   "cell_type": "code",
   "execution_count": 31,
   "id": "58fb5336",
   "metadata": {
    "scrolled": true
   },
   "outputs": [
    {
     "name": "stdout",
     "output_type": "stream",
     "text": [
      "'single positive words':\n",
      "'single negative words':\n",
      "'single neutral words':\n",
      "'Sentiment-laden words in context':\n",
      "'neutral words in context':\n",
      "'intensifiers':\n",
      "'reducers':\n",
      "'change neutral words with BERT':\n",
      "'add positive phrases':\n",
      "'add negative phrases':\n",
      "'add random urls and handles':\n",
      "'punctuation':\n",
      "'typos':\n",
      "'2 typos':\n",
      "'contractions':\n",
      "'change names':\n",
      "'change locations':\n",
      "'change numbers':\n",
      "'used to, but now':\n",
      "'\"used to\" should reduce':\n",
      "'protected: race':\n",
      "'protected: sexual':\n",
      "'protected: religion':\n",
      "'protected: nationality':\n",
      "'simple negations: not negative':\n",
      "'simple negations: not neutral is still neutral':\n",
      "'simple negations: I thought x was positive, but it was not (should be negative)':\n",
      "'simple negations: I thought x was negative, but it was not (should be neutral or positive)':\n",
      "'simple negations: but it was not (neutral) should still be neutral':\n",
      "'Hard: Negation of positive with neutral stuff in the middle (should be negative)':\n",
      "'Hard: Negation of negative with neutral stuff in the middle (should be positive or neutral)':\n",
      "'negation of neutral with neutral in the middle, should still neutral':\n",
      "'my opinion is what matters':\n",
      "'Q & A: yes':\n",
      "'Q & A: yes (neutral)':\n",
      "'Q & A: no':\n",
      "'Q & A: no (neutral)':\n",
      "'simple negations: negative':\n"
     ]
    }
   ],
   "source": [
    "for v in suite.info.keys():\n",
    "    print(f\"'{v}':\")"
   ]
  },
  {
   "cell_type": "code",
   "execution_count": 32,
   "id": "ebc4f71b",
   "metadata": {},
   "outputs": [],
   "source": [
    "func_descriptions = {\n",
    "    \"single positive words\": \"single positive words should be positive\",\n",
    "    \"single negative words\": \"single negative words should be negative\",\n",
    "    'single neutral words': \"single neutral words should be neutral\",\n",
    "    'Sentiment-laden words in context': \"negative words in context should be negative and positive words in context should be positive\",\n",
    "    'neutral words in context': \"neutral words in context should be neutral\",\n",
    "    'intensifiers': 'intensifiers such as \"really\" and \"very\" reinforce the sentiment of the words they modify',\n",
    "    'reducers': 'reducers such as \"somewhat\" and \"kinda\" lessen the sentiment of the words they modify',\n",
    "    'change neutral words with BERT': 'neutral words such as \"the\", \"and\", \"of\", and \"to\" should be irrelevant to sentence sentiment',\n",
    "    'add positive phrases': 'positive phrases should increase the confidence for positive sentiment',\n",
    "    'add negative phrases': 'negative phrases should increase the confidence for negative sentiment',\n",
    "    'add random urls and handles': 'URLs and usernames should be irrelevant to sentence sentiment',\n",
    "    'punctuation': 'end punctuation should be irrelevant to sentence sentiment',\n",
    "    'typos': 'typos should be irrelevant to sentence sentiment',\n",
    "    '2 typos': 'typos should be irrelevant to sentence sentiment',\n",
    "    'contractions': 'contractions should be irrelevant to sentence sentiment',\n",
    "    'change names': 'names should be irrelevant to sentence sentiment',\n",
    "    'change locations': 'locations should be irrelevant to sentence sentiment',\n",
    "    'change numbers': 'numbers should be irrelevant to sentence sentiment',\n",
    "    'used to, but now': 'present sentiment should outweigh past sentiment',\n",
    "    '\"used to\" should reduce': 'confidence for past sentiment should be lower than for present sentiment',\n",
    "    'protected: race': 'race should be irrelevant to sentence sentiment',\n",
    "    'protected: sexual': 'sexual orientation should be irrelevant to sentence sentiment',\n",
    "    'protected: religion': 'religion should be irrelevant to sentence sentiment',\n",
    "    'protected: nationality': 'nationality should be irrelevant to sentence sentiment',\n",
    "    'simple negations: not negative': 'negation of negative statement should be positive or neutral',\n",
    "    'simple negations: not neutral is still neutral': 'negation of neutral statements should be neutral',\n",
    "    'simple negations: I thought x was positive, but it was not (should be negative)': 'negation of previous positive statement should be negative',\n",
    "    'simple negations: I thought x was negative, but it was not (should be neutral or positive)': 'negation of previous negative statement should be neutral or positive',\n",
    "    'simple negations: but it was not (neutral) should still be neutral': 'negation of previous neutral statement should be neutral',\n",
    "    'Hard: Negation of positive with neutral stuff in the middle (should be negative)': 'negation at the beggining of positive statement at the end should be negative',\n",
    "    'Hard: Negation of negative with neutral stuff in the middle (should be positive or neutral)': 'negation at the beginning of negative statement at the end should be neutral or positive',\n",
    "    'negation of neutral with neutral in the middle, should still neutral': 'negation at the beggining of neutral statement at the end should be neutral',\n",
    "    'my opinion is what matters': \"the speaker's sentiment should outweigh other's sentiment\",\n",
    "    'Q & A: yes': \"replying \\\"yes\\\" to a question affirms the question's sentiment\",\n",
    "    'Q & A: yes (neutral)': \"replying \\\"yes\\\" to a neutral question affirms the neutral sentiment\",\n",
    "    'Q & A: no':  \"replying \\\"no\\\" to a question negates the question's sentiment\",\n",
    "    'Q & A: no (neutral)':  \"replying \\\"no\\\" to a neutral question should be neutral\",\n",
    "    'simple negations: negative': 'negation of positive statement should be negative',\n",
    "}"
   ]
  },
  {
   "cell_type": "code",
   "execution_count": 33,
   "id": "90ea5e4c",
   "metadata": {},
   "outputs": [
    {
     "data": {
      "text/plain": [
       "{'single positive words': 'single positive words should be positive',\n",
       " 'single negative words': 'single negative words should be negative',\n",
       " 'single neutral words': 'single neutral words should be neutral',\n",
       " 'Sentiment-laden words in context': 'negative words in context should be negative and positive words in context should be positive',\n",
       " 'neutral words in context': 'neutral words in context should be neutral',\n",
       " 'intensifiers': 'intensifiers such as \"really\" and \"very\" reinforce the sentiment of the words they modify',\n",
       " 'reducers': 'reducers such as \"somewhat\" and \"kinda\" lessen the sentiment of the words they modify',\n",
       " 'change neutral words with BERT': 'neutral words such as \"the\", \"and\", \"of\", and \"to\" should be irrelevant to sentence sentiment',\n",
       " 'add positive phrases': 'positive phrases should increase the confidence for positive sentiment',\n",
       " 'add negative phrases': 'negative phrases should increase the confidence for negative sentiment',\n",
       " 'add random urls and handles': 'URLs and usernames should be irrelevant to sentence sentiment',\n",
       " 'punctuation': 'end punctuation should be irrelevant to sentence sentiment',\n",
       " 'typos': 'typos should be irrelevant to sentence sentiment',\n",
       " '2 typos': 'typos should be irrelevant to sentence sentiment',\n",
       " 'contractions': 'contractions should be irrelevant to sentence sentiment',\n",
       " 'change names': 'names should be irrelevant to sentence sentiment',\n",
       " 'change locations': 'locations should be irrelevant to sentence sentiment',\n",
       " 'change numbers': 'numbers should be irrelevant to sentence sentiment',\n",
       " 'used to, but now': 'present sentiment should outweigh past sentiment',\n",
       " '\"used to\" should reduce': 'confidence for past sentiment should be lower than for present sentiment',\n",
       " 'protected: race': 'race should be irrelevant to sentence sentiment',\n",
       " 'protected: sexual': 'sexual orientation should be irrelevant to sentence sentiment',\n",
       " 'protected: religion': 'religion should be irrelevant to sentence sentiment',\n",
       " 'protected: nationality': 'nationality should be irrelevant to sentence sentiment',\n",
       " 'simple negations: not negative': 'negation of negative statement should be positive or neutral',\n",
       " 'simple negations: not neutral is still neutral': 'negation of neutral statements should be neutral',\n",
       " 'simple negations: I thought x was positive, but it was not (should be negative)': 'negation of previous positive statement should be negative',\n",
       " 'simple negations: I thought x was negative, but it was not (should be neutral or positive)': 'negation of previous negative statement should be neutral or positive',\n",
       " 'simple negations: but it was not (neutral) should still be neutral': 'negation of previous neutral statement should be neutral',\n",
       " 'Hard: Negation of positive with neutral stuff in the middle (should be negative)': 'negation at the beggining of positive statement at the end should be negative',\n",
       " 'Hard: Negation of negative with neutral stuff in the middle (should be positive or neutral)': 'negation at the beginning of negative statement at the end should be neutral or positive',\n",
       " 'negation of neutral with neutral in the middle, should still neutral': 'negation at the beggining of neutral statement at the end should be neutral',\n",
       " 'my opinion is what matters': \"the speaker's sentiment should outweigh other's sentiment\",\n",
       " 'Q & A: yes': 'replying \"yes\" to a question affirms the question\\'s sentiment',\n",
       " 'Q & A: yes (neutral)': 'replying \"yes\" to a neutral question affirms the neutral sentiment',\n",
       " 'Q & A: no': 'replying \"no\" to a question negates the question\\'s sentiment',\n",
       " 'Q & A: no (neutral)': 'replying \"no\" to a neutral question should be neutral',\n",
       " 'simple negations: negative': 'negation of positive statement should be negative'}"
      ]
     },
     "execution_count": 33,
     "metadata": {},
     "output_type": "execute_result"
    }
   ],
   "source": [
    "func_descriptions"
   ]
  },
  {
   "cell_type": "code",
   "execution_count": 34,
   "id": "e09bc4a2",
   "metadata": {},
   "outputs": [],
   "source": [
    "with open(\"./data/sa/suite/func_desc.pkl\", \"wb\") as file:\n",
    "    pickle.dump(func_descriptions, file, protocol=4)"
   ]
  },
  {
   "cell_type": "code",
   "execution_count": 8,
   "id": "c57e45a8",
   "metadata": {},
   "outputs": [
    {
     "name": "stdout",
     "output_type": "stream",
     "text": [
      "2\n",
      "0\n",
      "1\n",
      "[2, 2, 2, 2, 2, 2, 2, 2, 2, 2, 2, 2, 2, 2, 2, 2, 2, 2, 2, 2, 2, 2, 2, 2, 2, 2, 2, 2, 2, 2, 2, 2, 2, 2, 2, 2, 2, 2, 2, 2, 2, 2, 2, 2, 2, 2, 2, 2, 2, 2, 2, 2, 2, 2, 2, 2, 2, 2, 2, 2, 2, 2, 2, 2, 2, 2, 2, 2, 2, 2, 2, 2, 2, 2, 2, 2, 2, 2, 2, 2, 2, 2, 2, 2, 2, 2, 2, 2, 2, 2, 2, 2, 2, 2, 2, 2, 2, 2, 2, 2, 2, 2, 2, 2, 2, 2, 2, 2, 2, 2, 2, 2, 2, 2, 2, 2, 2, 2, 2, 2, 2, 2, 2, 2, 2, 2, 2, 2, 2, 2, 2, 2, 2, 2, 2, 2, 2, 2, 2, 2, 2, 2, 2, 2, 2, 2, 2, 2, 2, 2, 2, 2, 2, 2, 2, 2, 2, 2, 2, 2, 2, 2, 2, 2, 2, 2, 2, 2, 2, 2, 2, 2, 2, 2, 2, 2, 2, 2, 2, 2, 2, 2, 2, 2, 2, 2, 2, 2, 2, 2, 2, 2, 2, 2, 2, 2, 2, 2, 2, 2, 2, 2, 2, 2, 2, 2, 2, 2, 2, 2, 2, 2, 2, 2, 2, 2, 2, 2, 2, 2, 2, 2, 2, 2, 2, 2, 2, 2, 2, 2, 2, 2, 2, 2, 2, 2, 2, 2, 2, 2, 2, 2, 2, 2, 2, 2, 2, 2, 2, 2, 2, 2, 2, 2, 2, 2, 2, 2, 2, 2, 2, 2, 2, 2, 2, 2, 2, 2, 2, 2, 2, 2, 2, 2, 2, 2, 2, 2, 2, 2, 2, 2, 2, 2, 2, 2, 2, 2, 2, 2, 2, 2, 2, 2, 2, 2, 2, 2, 2, 2, 2, 2, 2, 2, 2, 2, 2, 2, 2, 2, 2, 2, 2, 2, 2, 2, 2, 2, 2, 2, 2, 2, 2, 2, 2, 2, 2, 2, 2, 2, 2, 2, 2, 2, 2, 2, 2, 2, 2, 2, 2, 2, 2, 2, 2, 2, 2, 2, 2, 2, 2, 2, 2, 2, 2, 2, 2, 2, 2, 2, 2, 2, 2, 2, 2, 2, 2, 2, 2, 2, 2, 2, 2, 2, 2, 2, 2, 2, 2, 2, 2, 2, 2, 2, 2, 2, 2, 2, 2, 2, 2, 2, 2, 2, 2, 2, 2, 2, 2, 2, 2, 2, 2, 2, 2, 2, 2, 2, 2, 2, 2, 2, 2, 2, 2, 2, 2, 2, 2, 2, 2, 2, 2, 2, 2, 2, 2, 2, 2, 2, 2, 2, 2, 2, 2, 2, 2, 2, 2, 2, 2, 2, 2, 2, 2, 2, 2, 2, 2, 2, 2, 2, 2, 2, 2, 2, 2, 2, 2, 2, 2, 2, 2, 2, 2, 2, 2, 2, 2, 2, 2, 2, 2, 2, 2, 2, 2, 2, 2, 2, 2, 2, 2, 2, 2, 2, 2, 2, 2, 2, 2, 2, 2, 2, 2, 2, 2, 2, 2, 2, 2, 2, 2, 2, 2, 2, 2, 2, 2, 2, 2, 2, 2, 2, 2, 2, 2, 2, 2, 2, 2, 2, 2, 2, 2, 2, 2, 2, 2, 2, 2, 2, 2, 2, 2, 2, 2, 2, 2, 2, 2, 2, 2, 2, 2, 2, 2, 2, 2, 2, 2, 2, 2, 2, 2, 2, 2, 2, 2, 2, 2, 2, 2, 2, 2, 2, 2, 2, 2, 2, 2, 2, 2, 2, 2, 2, 2, 2, 2, 2, 2, 2, 2, 2, 2, 2, 2, 2, 2, 2, 2, 2, 2, 2, 2, 2, 2, 2, 2, 2, 2, 2, 2, 2, 2, 2, 2, 2, 2, 2, 2, 2, 2, 2, 2, 2, 2, 2, 2, 2, 2, 2, 2, 2, 2, 2, 2, 2, 2, 2, 2, 2, 2, 2, 2, 2, 2, 2, 2, 2, 2, 2, 2, 2, 2, 2, 2, 2, 2, 2, 2, 2, 2, 2, 2, 2, 2, 2, 2, 2, 2, 2, 2, 2, 2, 2, 2, 2, 2, 2, 2, 2, 2, 2, 2, 2, 2, 2, 2, 2, 2, 2, 2, 2, 2, 2, 2, 2, 2, 2, 2, 2, 2, 2, 2, 2, 2, 2, 2, 2, 2, 2, 2, 2, 2, 2, 2, 2, 2, 2, 2, 2, 2, 2, 2, 2, 2, 2, 2, 2, 2, 2, 2, 2, 2, 2, 2, 2, 2, 2, 2, 2, 2, 2, 2, 2, 2, 2, 2, 2, 2, 2, 2, 2, 2, 2, 2, 2, 2, 2, 2, 2, 2, 2, 2, 2, 2, 2, 2, 2, 2, 2, 2, 2, 2, 2, 2, 2, 2, 2, 2, 2, 2, 2, 2, 2, 2, 2, 2, 2, 2, 2, 2, 2, 2, 2, 2, 2, 2, 2, 2, 2, 2, 2, 2, 2, 2, 2, 2, 2, 2, 2, 2, 2, 2, 2, 2, 2, 2, 2, 2, 2, 2, 2, 2, 2, 2, 2, 2, 2, 2, 2, 2, 2, 2, 2, 2, 2, 2, 2, 2, 2, 2, 2, 2, 2, 2, 2, 2, 2, 2, 2, 2, 2, 2, 2, 2, 2, 2, 2, 2, 2, 2, 2, 2, 2, 2, 2, 2, 2, 2, 2, 2, 2, 2, 2, 2, 2, 2, 2, 2, 2, 2, 2, 2, 2, 2, 2, 2, 2, 2, 2, 2, 2, 2, 2, 2, 2, 2, 2, 2, 2, 2, 2, 2, 2, 2, 2, 2, 2, 2, 2, 2, 2, 2, 2, 2, 2, 2, 2, 2, 2, 2, 2, 2, 2, 2, 2, 2, 2, 2, 2, 2, 2, 2, 2, 2, 2, 2, 2, 2, 2, 2, 2, 2, 2, 2, 2, 2, 2, 2, 2, 2, 2, 2, 2, 2, 2, 2, 2, 2, 2, 2, 2, 2, 2, 2, 2, 2, 2, 2, 2, 2, 2, 2, 2, 2, 2, 2, 2, 2, 2, 2, 2, 2, 2, 2, 2, 2, 2, 2, 2, 2, 2, 2, 2, 2, 2, 2, 2, 2, 2, 2, 2, 2, 2, 2, 2, 2, 2, 2, 2, 2, 2, 2, 2, 2, 2, 2, 2, 2, 2, 2, 2, 2, 2, 2, 2, 2, 2, 2, 2, 2, 2, 2, 2, 2, 2, 2, 2, 2, 2, 2, 2, 2, 2, 2, 2, 2, 2, 2, 2, 2, 2, 2, 2, 2, 2, 2, 2, 2, 2, 2, 2, 2, 2, 2, 2, 2, 2, 2, 2, 2, 2, 2, 2, 2, 2, 2, 2, 2, 2, 2, 2, 2, 2, 2, 2, 2, 2, 2, 2, 2, 2, 2, 2, 2, 2, 2, 2, 2, 2, 2, 2, 2, 2, 2, 2, 2, 2, 2, 2, 2, 2, 2, 2, 2, 2, 2, 2, 2, 2, 2, 2, 2, 2, 2, 2, 2, 2, 2, 2, 2, 2, 2, 2, 2, 2, 2, 2, 2, 2, 2, 2, 2, 2, 2, 2, 2, 2, 2, 2, 2, 2, 2, 2, 2, 2, 2, 2, 2, 2, 2, 2, 2, 2, 2, 2, 2, 2, 2, 2, 2, 2, 2, 2, 2, 2, 2, 2, 2, 2, 2, 2, 2, 2, 2, 2, 2, 2, 2, 2, 2, 2, 2, 2, 2, 2, 2, 2, 2, 2, 2, 2, 2, 2, 2, 2, 2, 2, 2, 2, 2, 2, 2, 2, 2, 2, 2, 2, 2, 2, 2, 2, 2, 2, 2, 2, 2, 2, 2, 2, 2, 2, 2, 2, 2, 2, 2, 2, 2, 2, 2, 2, 2, 2, 2, 2, 2, 2, 2, 2, 2, 2, 2, 2, 2, 2, 2, 2, 2, 2, 2, 2, 2, 2, 2, 2, 2, 2, 2, 2, 2, 2, 2, 2, 2, 2, 2, 2, 2, 2, 2, 2, 2, 2, 2, 2, 2, 2, 2, 2, 2, 2, 2, 2, 2, 2, 2, 2, 2, 2, 2, 2, 2, 2, 2, 2, 2, 2, 2, 2, 2, 2, 2, 2, 2, 2, 2, 2, 2, 2, 2, 2, 2, 2, 2, 2, 2, 2, 2, 2, 2, 2, 2, 2, 2, 2, 2, 2, 2, 2, 2, 2, 2, 2, 2, 2, 2, 2, 2, 2, 2, 2, 2, 2, 2, 2, 2, 2, 2, 2, 2, 2, 2, 2, 2, 2, 2, 2, 2, 2, 2, 2, 2, 2, 2, 2, 2, 2, 2, 2, 2, 2, 2, 2, 2, 2, 2, 2, 2, 2, 2, 2, 2, 2, 2, 2, 2, 2, 2, 2, 2, 2, 2, 2, 2, 2, 2, 2, 2, 2, 2, 2, 2, 2, 2, 2, 2, 2, 2, 2, 2, 2, 2, 2, 2, 2, 2, 2, 2, 2, 2, 2, 2, 2, 2, 2, 2, 2, 2, 2, 2, 2, 2, 2, 2, 2, 2, 2, 2, 2, 2, 2, 2, 2, 2, 2, 2, 2, 2, 2, 2, 2, 2, 2, 2, 2, 2, 2, 2, 2, 2, 2, 2, 2, 2, 2, 2, 2, 2, 2, 2, 2, 2, 2, 2, 2, 2, 2, 2, 2, 2, 2, 2, 2, 2, 2, 2, 2, 2, 2, 2, 2, 2, 2, 2, 2, 2, 2, 2, 2, 2, 2, 2, 2, 2, 2, 2, 2, 2, 2, 2, 2, 2, 2, 2, 2, 2, 2, 2, 2, 2, 2, 2, 2, 2, 2, 2, 2, 2, 2, 2, 2, 2, 2, 2, 2, 2, 2, 2, 2, 2, 2, 2, 2, 2, 2, 2, 2, 2, 2, 2, 2, 2, 2, 2, 2, 2, 2, 2, 2, 2, 2, 2, 2, 2, 2, 2, 2, 2, 2, 2, 2, 2, 2, 2, 2, 2, 2, 2, 2, 2, 2, 2, 2, 2, 2, 2, 2, 2, 2, 2, 2, 2, 2, 2, 2, 2, 2, 2, 2, 2, 2, 2, 2, 2, 2, 2, 2, 2, 2, 2, 2, 2, 2, 2, 2, 2, 2, 2, 2, 2, 2, 2, 2, 2, 2, 2, 2, 2, 2, 2, 2, 2, 2, 2, 2, 2, 2, 2, 2, 2, 2, 2, 2, 2, 2, 2, 2, 2, 2, 2, 2, 2, 2, 2, 2, 2, 2, 2, 2, 2, 2, 2, 2, 2, 2, 2, 2, 2, 2, 2, 2, 2, 2, 2, 2, 2, 2, 2, 2, 2, 2, 2, 2, 2, 2, 2, 2, 2, 2, 2, 2, 2, 2, 2, 2, 2, 2, 2, 2, 2, 2, 2, 2, 2, 2, 2, 2, 2, 2, 2, 2, 2, 2, 2, 2, 2, 2, 2, 2, 2, 2, 2, 2, 2, 2, 2, 2, 2, 2, 2, 2, 2, 2, 2, 2, 2, 2, 2, 2, 2, 2, 2, 2, 2, 2, 2, 2, 2, 2, 2, 2, 2, 2, 2, 2, 2, 2, 2, 2, 2, 2, 2, 2, 2, 2, 2, 2, 2, 2, 2, 2, 2, 2, 2, 2, 2, 2, 2, 2, 2, 2, 2, 2, 2, 2, 2, 2, 2, 2, 2, 2, 2, 2, 2, 2, 2, 2, 2, 2, 2, 2, 2, 2, 2, 2, 2, 2, 2, 2, 2, 2, 2, 2, 2, 2, 2, 2, 2, 2, 2, 2, 2, 2, 2, 2, 2, 2, 2, 2, 2, 2, 2, 2, 2, 2, 2, 2, 2, 2, 2, 2, 2, 2, 2, 2, 2, 2, 2, 2, 2, 2, 2, 2, 2, 2, 2, 2, 2, 2, 2, 2, 2, 2, 2, 2, 2, 2, 2, 2, 2, 2, 2, 2, 2, 2, 2, 2, 2, 2, 2, 2, 2, 2, 2, 2, 2, 2, 2, 2, 2, 2, 2, 2, 2, 2, 2, 2, 2, 2, 2, 2, 2, 2, 2, 2, 2, 2, 2, 2, 2, 2, 2, 2, 2, 2, 2, 2, 2, 2, 2, 2, 2, 2, 2, 2, 2, 2, 2, 2, 2, 2, 2, 2, 2, 2, 2, 2, 2, 2, 2, 2, 2, 2, 2, 2, 2, 2, 2, 2, 2, 2, 2, 2, 2, 2, 2, 2, 2, 2, 2, 2, 2, 2, 2, 2, 2, 2, 2, 2, 2, 2, 2, 2, 2, 2, 2, 2, 2, 2, 2, 2, 2, 2, 2, 2, 2, 2, 2, 2, 2, 2, 2, 2, 2, 2, 2, 2, 2, 2, 2, 2, 2, 2, 2, 2, 2, 2, 2, 2, 2, 2, 2, 2, 2, 2, 2, 2, 2, 2, 2, 2, 2, 2, 2, 2, 2, 2, 2, 2, 2, 2, 2, 2, 2, 2, 2, 2, 2, 2, 2, 2, 2, 2, 2, 2, 2, 2, 2, 2, 2, 2, 2, 2, 2, 2, 2, 2, 2, 2, 2, 2, 2, 2, 2, 2, 2, 2, 2, 2, 2, 2, 2, 2, 2, 2, 2, 2, 2, 2, 2, 2, 2, 2, 2, 2, 2, 2, 2, 2, 2, 2, 2, 2, 2, 2, 2, 2, 2, 2, 2, 2, 2, 2, 2, 2, 2, 2, 2, 2, 2, 2, 2, 2, 2, 2, 2, 2, 2, 2, 2, 2, 2, 2, 2, 2, 2, 2, 2, 2, 2, 2, 2, 2, 2, 2, 2, 2, 2, 2, 2, 2, 2, 2, 2, 2, 2, 2, 2, 2, 2, 2, 2, 2, 2, 2, 2, 2, 2, 2, 2, 2, 2, 2, 2, 2, 2, 2, 2, 2, 2, 2, 2, 2, 2, 2, 2, 2, 2, 2, 2, 2, 2, 2, 2, 2, 2, 2, 2, 2, 2, 2, 2, 2, 2, 2, 2, 2, 2, 2, 2, 2, 2, 2, 2, 2, 2, 2, 2, 2, 2, 2, 2, 2, 2, 2, 2, 2, 2, 2, 2, 2, 2, 2, 2, 2, 2, 2, 2, 2, 2, 2, 2, 2, 2, 2, 2, 2, 2, 2, 2, 2, 2, 2, 2, 2, 2, 2, 2, 2, 2, 2, 2, 2, 2, 2, 2, 2, 2, 2, 2, 2, 2, 2, 2, 2, 2, 2, 2, 2, 2, 2, 2, 2, 2, 2, 2, 2, 2, 2, 2, 2, 2, 2, 2, 2, 2, 2, 2, 2, 2, 2, 2, 2, 2, 2, 2, 2, 2, 2, 2, 2, 2, 2, 2, 2, 2, 2, 2, 2, 2, 2, 2, 2, 2, 2, 2, 2, 2, 2, 2, 2, 2, 2, 2, 2, 2, 2, 2, 2, 2, 2, 2, 2, 2, 2, 2, 2, 2, 2, 2, 2, 2, 2, 2, 2, 2, 2, 2, 2, 2, 2, 2, 2, 2, 2, 2, 2, 2, 2, 2, 2, 2, 2, 2, 2, 2, 2, 2, 2, 2, 2, 2, 2, 2, 2, 2, 2, 2, 2, 2, 2, 2, 2, 2, 2, 2, 2, 2, 2, 2, 2, 2, 2, 2, 2, 2, 2, 2, 2, 2, 2, 2, 2, 2, 2, 2, 2, 2, 2, 2, 2, 2, 2, 2, 2, 2, 2, 2, 2, 2, 2, 2, 2, 2, 2, 2, 2, 2, 2, 2, 2, 2, 2, 2, 2, 2, 2, 2, 2, 2, 2, 2, 2, 2, 2, 2, 2, 2, 2, 2, 2, 2, 2, 2, 2, 2, 2, 2, 2, 2, 2, 2, 2, 2, 2, 2, 2, 2, 2, 2, 2, 2, 2, 2, 2, 2, 2, 2, 2, 2, 2, 2, 2, 2, 2, 2, 2, 2, 2, 2, 2, 2, 2, 2, 2, 2, 2, 2, 2, 2, 2, 2, 2, 2, 2, 2, 2, 2, 2, 2, 2, 2, 2, 2, 2, 2, 2, 2, 2, 2, 2, 2, 2, 2, 2, 2, 2, 2, 2, 2, 2, 2, 2, 2, 2, 2, 2, 2, 2, 2, 2, 2, 2, 2, 2, 2, 2, 2, 2, 2, 2, 2, 2, 2, 2, 2, 2, 2, 2, 2, 2, 2, 2, 2, 2, 2, 2, 2, 2, 2, 2, 2, 2, 2, 2, 2, 2, 2, 2, 2, 2, 2, 2, 2, 2, 2, 2, 2, 2, 2, 2, 2, 2, 2, 2, 2, 2, 2, 2, 2, 2, 2, 2, 2, 2, 2, 2, 2, 2, 2, 2, 2, 2, 2, 2, 2, 2, 2, 2, 2, 2, 2, 2, 2, 2, 2, 2, 2, 2, 2, 2, 2, 2, 2, 2, 2, 2, 2, 2, 2, 2, 2, 2, 2, 2, 2, 2, 2, 2, 2, 2, 2, 2, 2, 2, 2, 2, 2, 2, 2, 2, 2, 2, 2, 2, 2, 2, 2, 2, 2, 2, 2, 2, 2, 2, 2, 2, 2, 2, 2, 2, 2, 2, 2, 2, 2, 2, 2, 2, 2, 2, 2, 2, 2, 2, 2, 2, 2, 2, 2, 2, 2, 2, 2, 2, 2, 2, 2, 2, 2, 2, 2, 2, 2, 2, 2, 2, 2, 2, 2, 2, 2, 2, 2, 2, 2, 2, 2, 2, 2, 2, 2, 2, 2, 2, 2, 2, 2, 2, 2, 2, 2, 2, 2, 2, 2, 2, 2, 2, 2, 2, 2, 2, 2, 2, 2, 2, 2, 2, 2, 2, 2, 2, 2, 2, 2, 2, 2, 2, 2, 2, 2, 2, 2, 2, 2, 2, 2, 2, 2, 2, 2, 2, 2, 2, 2, 2, 2, 2, 2, 2, 2, 2, 2, 2, 2, 2, 2, 2, 2, 2, 2, 2, 2, 2, 2, 2, 2, 2, 2, 2, 2, 2, 2, 2, 2, 2, 2, 2, 2, 2, 2, 2, 2, 2, 2, 2, 2, 2, 2, 2, 2, 2, 2, 2, 2, 2, 2, 2, 2, 2, 2, 2, 2, 2, 2, 2, 2, 2, 2, 2, 2, 2, 2, 2, 2, 2, 2, 2, 2, 2, 2, 2, 2, 2, 2, 2, 2, 2, 2, 2, 2, 2, 2, 2, 2, 2, 2, 2, 2, 2, 2, 2, 2, 2, 2, 2, 2, 2, 2, 2, 2, 2, 2, 2, 2, 2, 2, 2, 2, 2, 2, 2, 2, 2, 2, 2, 2, 2, 2, 2, 2, 2, 2, 2, 2, 2, 2, 2, 2, 2, 2, 2, 2, 2, 2, 2, 2, 2, 2, 2, 2, 2, 2, 2, 2, 2, 2, 2, 2, 2, 2, 2, 2, 2, 2, 2, 2, 2, 2, 2, 2, 2, 2, 2, 2, 2, 2, 2, 2, 2, 2, 2, 2, 2, 2, 2, 2, 2, 2, 2, 2, 2, 2, 2, 2, 2, 2, 2, 2, 2, 2, 2, 2, 2, 2, 2, 2, 2, 2, 2, 2, 2, 2, 2, 2, 2, 2, 2, 2, 2, 2, 2, 2, 2, 2, 2, 2, 2, 2, 2, 2, 2, 2, 2, 2, 2, 2, 2, 2, 2, 2, 2, 2, 2, 2, 2, 2, 2, 2, 2, 2, 2, 2, 2, 2, 2, 2, 2, 2, 2, 2, 2, 2, 2, 2, 2, 2, 2, 2, 2, 2, 2, 2, 2, 2, 2, 2, 2, 2, 2, 2, 2, 2, 2, 2, 2, 2, 2, 2, 2, 2, 2, 2, 2, 2, 2, 2, 2, 2, 2, 2, 2, 2, 2, 2, 2, 2, 2, 2, 2, 2, 2, 2, 2, 2, 2, 2, 2, 2, 2, 2, 2, 2, 2, 2, 2, 2, 2, 2, 2, 2, 2, 2, 2, 2, 2, 2, 2, 2, 2, 2, 2, 2, 2, 2, 2, 2, 2, 2, 2, 2, 2, 2, 2, 2, 2, 2, 2, 2, 2, 2, 2, 2, 2, 2, 2, 2, 2, 2, 2, 2, 2, 2, 2, 2, 2, 2, 2, 2, 2, 2, 2, 2, 2, 2, 2, 2, 2, 2, 2, 2, 2, 2, 2, 2, 2, 2, 2, 2, 2, 2, 2, 2, 2, 2, 2, 2, 2, 2, 2, 2, 2, 2, 2, 2, 2, 2, 2, 2, 2, 2, 2, 2, 2, 2, 2, 2, 2, 2, 2, 2, 2, 2, 2, 2, 2, 2, 2, 2, 2, 2, 2, 2, 2, 2, 2, 2, 2, 2, 2, 2, 2, 2, 2, 2, 2, 2, 2, 2, 2, 2, 2, 2, 2, 2, 2, 2, 2, 2, 2, 2, 2, 2, 2, 2, 2, 2, 2, 2, 2, 2, 2, 2, 2, 2, 2, 2, 2, 2, 2, 2, 2, 2, 2, 2, 2, 2, 2, 2, 2, 2, 2, 2, 2, 2, 2, 2, 2, 2, 2, 2, 2, 2, 2, 2, 2, 2, 2, 2, 2, 2, 2, 2, 2, 2, 2, 2, 2, 2, 2, 2, 2, 2, 2, 2, 2, 2, 2, 2, 2, 2, 2, 2, 2, 2, 2, 2, 2, 2, 2, 2, 2, 2, 2, 2, 2, 2, 2, 2, 2, 2, 2, 2, 2, 2, 2, 2, 2, 2, 2, 2, 2, 2, 2, 2, 2, 2, 2, 2, 2, 2, 2, 2, 2, 2, 2, 2, 2, 2, 2, 2, 2, 2, 2, 2, 2, 2, 2, 2, 2, 2, 2, 2, 2, 2, 2, 2, 2, 2, 2, 2, 2, 2, 2, 2, 2, 2, 2, 2, 2, 2, 2, 2, 2, 2, 2, 2, 2, 2, 2, 2, 2, 2, 2, 2, 2, 2, 2, 2, 2, 2, 2, 2, 2, 2, 2, 2, 2, 2, 2, 2, 2, 2, 2, 2, 2, 2, 2, 2, 2, 2, 2, 2, 2, 2, 2, 2, 2, 2, 2, 2, 2, 2, 2, 2, 2, 2, 2, 2, 2, 2, 2, 2, 2, 2, 2, 2, 2, 2, 2, 2, 2, 2, 2, 2, 2, 2, 2, 2, 2, 2, 2, 2, 2, 2, 2, 2, 2, 2, 2, 2, 2, 2, 2, 2, 2, 2, 2, 2, 2, 2, 2, 2, 2, 2, 2, 2, 2, 2, 2, 2, 2, 2, 2, 2, 2, 2, 2, 2, 2, 2, 2, 2, 2, 2, 2, 2, 2, 2, 2, 2, 2, 2, 2, 2, 2, 2, 2, 2, 2, 2, 2, 2, 2, 2, 2, 2, 2, 2, 2, 2, 2, 2, 2, 2, 2, 2, 2, 2, 2, 2, 2, 2, 2, 2, 2, 2, 2, 2, 2, 2, 2, 2, 2, 2, 2, 2, 2, 2, 2, 2, 2, 2, 2, 2, 2, 2, 2, 2, 2, 2, 2, 2, 2, 2, 2, 2, 2, 2, 2, 2, 2, 2, 2, 2, 2, 2, 2, 2, 2, 2, 2, 2, 2, 2, 2, 2, 2, 2, 2, 2, 2, 2, 2, 2, 2, 2, 2, 2, 2, 2, 2, 2, 2, 2, 2, 2, 2, 2, 2, 2, 2, 2, 2, 2, 2, 2, 2, 2, 2, 2, 2, 2, 2, 2, 2, 2, 2, 2, 2, 2, 2, 2, 2, 2, 2, 2, 2, 2, 2, 2, 2, 2, 2, 2, 2, 2, 2, 2, 2, 2, 2, 2, 2, 2, 2, 2, 2, 2, 2, 2, 2, 2, 2, 2, 2, 2, 2, 2, 2, 2, 2, 2, 2, 2, 2, 2, 2, 2, 2, 2, 2, 2, 2, 2, 2, 2, 2, 2, 2, 2, 2, 2, 2, 2, 2, 2, 2, 2, 2, 2, 2, 2, 2, 2, 2, 2, 2, 2, 2, 2, 2, 2, 2, 2, 2, 2, 2, 2, 2, 2, 2, 2, 2, 2, 2, 2, 2, 2, 2, 2, 2, 2, 2, 2, 2, 2, 2, 2, 2, 2, 2, 2, 2, 2, 2, 2, 2, 2, 2, 2, 2, 2, 2, 2, 2, 2, 2, 2, 2, 2, 2, 2, 2, 2, 2, 2, 2, 2, 2, 2, 2, 2, 2, 2, 2, 2, 2, 2, 2, 2, 2, 2, 2, 2, 2, 2, 2, 2, 2, 2, 2, 2, 2, 2, 2, 2, 2, 2, 2, 2, 2, 2, 2, 2, 2, 2, 2, 2, 2, 2, 2, 2, 2, 2, 2, 2, 2, 2, 2, 2, 2, 2, 2, 2, 2, 2, 2, 2, 2, 2, 2, 2, 2, 2, 2, 2, 2, 2, 2, 2, 2, 2, 2, 2, 2, 2, 2, 2, 2, 2, 2, 2, 2, 2, 2, 2, 2, 2, 2, 2, 2, 2, 2, 2, 2, 2, 2, 2, 2, 2, 2, 2, 2, 2, 2, 2, 2, 2, 2, 2, 2, 2, 2, 2, 2, 2, 2, 2, 2, 2, 2, 2, 2, 2, 2, 2, 2, 2, 2, 2, 2, 2, 2, 2, 2, 2, 2, 2, 2, 2, 2, 2, 2, 2, 2, 2, 2, 2, 2, 2, 2, 2, 2, 2, 2, 2, 2, 2, 2, 2, 2, 2, 2, 2, 2, 2, 2, 2, 2, 2, 2, 2, 2, 2, 2, 2, 2, 2, 2, 2, 2, 2, 2, 2, 2, 2, 2, 2, 2, 2, 2, 2, 2, 2, 2, 2, 2, 2, 2, 2, 2, 2, 2, 2, 2, 2, 2, 2, 2, 2, 2, 2, 2, 2, 2, 2, 2, 2, 2, 2, 2, 2, 2, 2, 2, 2, 2, 2, 2, 2, 2, 2, 2, 2, 2, 2, 2, 2, 2, 2, 2, 2, 2, 2, 2, 2, 2, 2, 2, 2, 2, 2, 2, 2, 2, 2, 2, 2, 2, 2, 2, 2, 2, 2, 2, 2, 2, 2, 2, 2, 2, 2, 2, 2, 2, 2, 2, 2, 2, 2, 2, 2, 2, 2, 2, 2, 2, 2, 2, 2, 2, 2, 2, 2, 2, 2, 2, 2, 2, 2, 2, 2, 2, 2, 2, 2, 2, 2, 2, 2, 2, 2, 2, 2, 2, 2, 2, 2, 2, 2, 2, 2, 2, 2, 2, 2, 2, 2, 2, 0, 0, 0, 0, 0, 0, 0, 0, 0, 0, 0, 0, 0, 0, 0, 0, 0, 0, 0, 0, 0, 0, 0, 0, 0, 0, 0, 0, 0, 0, 0, 0, 0, 0, 0, 0, 0, 0, 0, 0, 0, 0, 0, 0, 0, 0, 0, 0, 0, 0, 0, 0, 0, 0, 0, 0, 0, 0, 0, 0, 0, 0, 0, 0, 0, 0, 0, 0, 0, 0, 0, 0, 0, 0, 0, 0, 0, 0, 0, 0, 0, 0, 0, 0, 0, 0, 0, 0, 0, 0, 0, 0, 0, 0, 0, 0, 0, 0, 0, 0, 0, 0, 0, 0, 0, 0, 0, 0, 0, 0, 0, 0, 0, 0, 0, 0, 0, 0, 0, 0, 0, 0, 0, 0, 0, 0, 0, 0, 0, 0, 0, 0, 0, 0, 0, 0, 0, 0, 0, 0, 0, 0, 0, 0, 0, 0, 0, 0, 0, 0, 0, 0, 0, 0, 0, 0, 0, 0, 0, 0, 0, 0, 0, 0, 0, 0, 0, 0, 0, 0, 0, 0, 0, 0, 0, 0, 0, 0, 0, 0, 0, 0, 0, 0, 0, 0, 0, 0, 0, 0, 0, 0, 0, 0, 0, 0, 0, 0, 0, 0, 0, 0, 0, 0, 0, 0, 0, 0, 0, 0, 0, 0, 0, 0, 0, 0, 0, 0, 0, 0, 0, 0, 0, 0, 0, 0, 0, 0, 0, 0, 0, 0, 0, 0, 0, 0, 0, 0, 0, 0, 0, 0, 0, 0, 0, 0, 0, 0, 0, 0, 0, 0, 0, 0, 0, 0, 0, 0, 0, 0, 0, 0, 0, 0, 0, 0, 0, 0, 0, 0, 0, 0, 0, 0, 0, 0, 0, 0, 0, 0, 0, 0, 0, 0, 0, 0, 0, 0, 0, 0, 0, 0, 0, 0, 0, 0, 0, 0, 0, 0, 0, 0, 0, 0, 0, 0, 0, 0, 0, 0, 0, 0, 0, 0, 0, 0, 0, 0, 0, 0, 0, 0, 0, 0, 0, 0, 0, 0, 0, 0, 0, 0, 0, 0, 0, 0, 0, 0, 0, 0, 0, 0, 0, 0, 0, 0, 0, 0, 0, 0, 0, 0, 0, 0, 0, 0, 0, 0, 0, 0, 0, 0, 0, 0, 0, 0, 0, 0, 0, 0, 0, 0, 0, 0, 0, 0, 0, 0, 0, 0, 0, 0, 0, 0, 0, 0, 0, 0, 0, 0, 0, 0, 0, 0, 0, 0, 0, 0, 0, 0, 0, 0, 0, 0, 0, 0, 0, 0, 0, 0, 0, 0, 0, 0, 0, 0, 0, 0, 0, 0, 0, 0, 0, 0, 0, 0, 0, 0, 0, 0, 0, 0, 0, 0, 0, 0, 0, 0, 0, 0, 0, 0, 0, 0, 0, 0, 0, 0, 0, 0, 0, 0, 0, 0, 0, 0, 0, 0, 0, 0, 0, 0, 0, 0, 0, 0, 0, 0, 0, 0, 0, 0, 0, 0, 0, 0, 0, 0, 0, 0, 0, 0, 0, 0, 0, 0, 0, 0, 0, 0, 0, 0, 0, 0, 0, 0, 0, 0, 0, 0, 0, 0, 0, 0, 0, 0, 0, 0, 0, 0, 0, 0, 0, 0, 0, 0, 0, 0, 0, 0, 0, 0, 0, 0, 0, 0, 0, 0, 0, 0, 0, 0, 0, 0, 0, 0, 0, 0, 0, 0, 0, 0, 0, 0, 0, 0, 0, 0, 0, 0, 0, 0, 0, 0, 0, 0, 0, 0, 0, 0, 0, 0, 0, 0, 0, 0, 0, 0, 0, 0, 0, 0, 0, 0, 0, 0, 0, 0, 0, 0, 0, 0, 0, 0, 0, 0, 0, 0, 0, 0, 0, 0, 0, 0, 0, 0, 0, 0, 0, 0, 0, 0, 0, 0, 0, 0, 0, 0, 0, 0, 0, 0, 0, 0, 0, 0, 0, 0, 0, 0, 0, 0, 0, 0, 0, 0, 0, 0, 0, 0, 0, 0, 0, 0, 0, 0, 0, 0, 0, 0, 0, 0, 0, 0, 0, 0, 0, 0, 0, 0, 0, 0, 0, 0, 0, 0, 0, 0, 0, 0, 0, 0, 0, 0, 0, 0, 0, 0, 0, 0, 0, 0, 0, 0, 0, 0, 0, 0, 0, 0, 0, 0, 0, 0, 0, 0, 0, 0, 0, 0, 0, 0, 0, 0, 0, 0, 0, 0, 0, 0, 0, 0, 0, 0, 0, 0, 0, 0, 0, 0, 0, 0, 0, 0, 0, 0, 0, 0, 0, 0, 0, 0, 0, 0, 0, 0, 0, 0, 0, 0, 0, 0, 0, 0, 0, 0, 0, 0, 0, 0, 0, 0, 0, 0, 0, 0, 0, 0, 0, 0, 0, 0, 0, 0, 0, 0, 0, 0, 0, 0, 0, 0, 0, 0, 0, 0, 0, 0, 0, 0, 0, 0, 0, 0, 0, 0, 0, 0, 0, 0, 0, 0, 0, 0, 0, 0, 0, 0, 0, 0, 0, 0, 0, 0, 0, 0, 0, 0, 0, 0, 0, 0, 0, 0, 0, 0, 0, 0, 0, 0, 0, 0, 0, 0, 0, 0, 0, 0, 0, 0, 0, 0, 0, 0, 0, 0, 0, 0, 0, 0, 0, 0, 0, 0, 0, 0, 0, 0, 0, 0, 0, 0, 0, 0, 0, 0, 0, 0, 0, 0, 0, 0, 0, 0, 0, 0, 0, 0, 0, 0, 0, 0, 0, 0, 0, 0, 0, 0, 0, 0, 0, 0, 0, 0, 0, 0, 0, 0, 0, 0, 0, 0, 0, 0, 0, 0, 0, 0, 0, 0, 0, 0, 0, 0, 0, 0, 0, 0, 0, 0, 0, 0, 0, 0, 0, 0, 0, 0, 0, 0, 0, 0, 0, 0, 0, 0, 0, 0, 0, 0, 0, 0, 0, 0, 0, 0, 0, 0, 0, 0, 0, 0, 0, 0, 0, 0, 0, 0, 0, 0, 0, 0, 0, 0, 0, 0, 0, 0, 0, 0, 0, 0, 0, 0, 0, 0, 0, 0, 0, 0, 0, 0, 0, 0, 0, 0, 0, 0, 0, 0, 0, 0, 0, 0, 0, 0, 0, 0, 0, 0, 0, 0, 0, 0, 0, 0, 0, 0, 0, 0, 0, 0, 0, 0, 0, 0, 0, 0, 0, 0, 0, 0, 0, 0, 0, 0, 0, 0, 0, 0, 0, 0, 0, 0, 0, 0, 0, 0, 0, 0, 0, 0, 0, 0, 0, 0, 0, 0, 0, 0, 0, 0, 0, 0, 0, 0, 0, 0, 0, 0, 0, 0, 0, 0, 0, 0, 0, 0, 0, 0, 0, 0, 0, 0, 0, 0, 0, 0, 0, 0, 0, 0, 0, 0, 0, 0, 0, 0, 0, 0, 0, 0, 0, 0, 0, 0, 0, 0, 0, 0, 0, 0, 0, 0, 0, 0, 0, 0, 0, 0, 0, 0, 0, 0, 0, 0, 0, 0, 0, 0, 0, 0, 0, 0, 0, 0, 0, 0, 0, 0, 0, 0, 0, 0, 0, 0, 0, 0, 0, 0, 0, 0, 0, 0, 0, 0, 0, 0, 0, 0, 0, 0, 0, 0, 0, 0, 0, 0, 0, 0, 0, 0, 0, 0, 0, 0, 0, 0, 0, 0, 0, 0, 0, 0, 0, 0, 0, 0, 0, 0, 0, 0, 0, 0, 0, 0, 0, 0, 0, 0, 0, 0, 0, 0, 0, 0, 0, 0, 0, 0, 0, 0, 0, 0, 0, 0, 0, 0, 0, 0, 0, 0, 0, 0, 0, 0, 0, 0, 0, 0, 0, 0, 0, 0, 0, 0, 0, 0, 0, 0, 0, 0, 0, 0, 0, 0, 0, 0, 0, 0, 0, 0, 0, 0, 0, 0, 0, 0, 0, 0, 0, 0, 0, 0, 0, 0, 0, 0, 0, 0, 0, 0, 0, 0, 0, 0, 0, 0, 0, 0, 0, 0, 0, 0, 0, 0, 0, 0, 0, 0, 0, 0, 0, 0, 0, 0, 0, 0, 0, 0, 0, 0, 0, 0, 0, 0, 0, 0, 0, 0, 0, 0, 0, 0, 0, 0, 0, 0, 0, 0, 0, 0, 0, 0, 0, 0, 0, 0, 0, 0, 0, 0, 0, 0, 0, 0, 0, 0, 0, 0, 0, 0, 0, 0, 0, 0, 0, 0, 0, 0, 0, 0, 0, 0, 0, 0, 0, 0, 0, 0, 0, 0, 0, 0, 0, 0, 0, 0, 0, 0, 0, 0, 0, 0, 0, 0, 0, 0, 0, 0, 0, 0, 0, 0, 0, 0, 0, 0, 0, 0, 0, 0, 0, 0, 0, 0, 0, 0, 0, 0, 0, 0, 0, 0, 0, 0, 0, 0, 0, 0, 0, 0, 0, 0, 0, 0, 0, 0, 0, 0, 0, 0, 0, 0, 0, 0, 0, 0, 0, 0, 0, 0, 0, 0, 0, 0, 0, 0, 0, 0, 0, 0, 0, 0, 0, 0, 0, 0, 0, 0, 0, 0, 0, 0, 0, 0, 0, 0, 0, 0, 0, 0, 0, 0, 0, 0, 0, 0, 0, 0, 0, 0, 0, 0, 0, 0, 0, 0, 0, 0, 0, 0, 0, 0, 0, 0, 0, 0, 0, 0, 0, 0, 0, 0, 0, 0, 0, 0, 0, 0, 0, 0, 0, 0, 0, 0, 0, 0, 0, 0, 0, 0, 0, 0, 0, 0, 0, 0, 0, 0, 0, 0, 0, 0, 0, 0, 0, 0, 0, 0, 0, 0, 0, 0, 0, 0, 0, 0, 0, 0, 0, 0, 0, 0, 0, 0, 0, 0, 0, 0, 0, 0, 0, 0, 0, 0, 0, 0, 0, 0, 0, 0, 0, 0, 0, 0, 0, 0, 0, 0, 0, 0, 0, 0, 0, 0, 0, 0, 0, 0, 0, 0, 0, 0, 0, 0, 0, 0, 0, 0, 0, 0, 0, 0, 0, 0, 0, 0, 0, 0, 0, 0, 0, 0, 0, 0, 0, 0, 0, 0, 0, 0, 0, 0, 0, 0, 0, 0, 0, 0, 0, 0, 0, 0, 0, 0, 0, 0, 0, 0, 0, 0, 0, 0, 0, 0, 0, 0, 0, 0, 0, 0, 0, 0, 0, 0, 0, 0, 0, 0, 0, 0, 0, 0, 0, 0, 0, 0, 0, 0, 0, 0, 0, 0, 0, 0, 0, 0, 0, 0, 0, 0, 0, 0, 0, 0, 0, 0, 0, 0, 0, 0, 0, 0, 0, 0, 0, 0, 0, 0, 0, 0, 0, 0, 0, 0, 0, 0, 0, 0, 0, 0, 0, 0, 0, 0, 0, 0, 0, 0, 0, 0, 0, 0, 0, 0, 0, 0, 0, 0, 0, 0, 0, 0, 0, 0, 0, 0, 0, 0, 0, 0, 0, 0, 0, 0, 0, 0, 0, 0, 0, 0, 0, 0, 0, 0, 0, 0, 0, 0, 0, 0, 0, 0, 0, 0, 0, 0, 0, 0, 0, 0, 0, 0, 0, 0, 0, 0, 0, 0, 0, 0, 0, 0, 0, 0, 0, 0, 0, 0, 0, 0, 0, 0, 0, 0, 0, 0, 0, 0, 0, 0, 0, 0, 0, 0, 0, 0, 0, 0, 0, 0, 0, 0, 0, 0, 0, 0, 0, 0, 0, 0, 0, 0, 0, 0, 0, 0, 0, 0, 0, 0, 0, 0, 0, 0, 0, 0, 0, 0, 0, 0, 0, 0, 0, 0, 0, 0, 0, 0, 0, 0, 0, 0, 0, 0, 0, 0, 0, 0, 0, 0, 0, 0, 0, 0, 0, 0, 0, 0, 0, 0, 0, 0, 0, 0, 0, 0, 0, 0, 0, 0, 0, 0, 0, 0, 0, 0, 0, 0, 0, 0, 0, 0, 0, 0, 0, 0, 0, 0, 0, 0, 0, 0, 0, 0, 0, 0, 0, 0, 0, 0, 0, 0, 0, 0, 0, 0, 0, 0, 0, 0, 0, 0, 0, 0, 0, 0, 0, 0, 0, 0, 0, 0, 0, 0, 0, 0, 0, 0, 0, 0, 0, 0, 0, 0, 0, 0, 0, 0, 0, 0, 0, 0, 0, 0, 0, 0, 0, 0, 0, 0, 0, 0, 0, 0, 0, 0, 0, 0, 0, 0, 0, 0, 0, 0, 0, 0, 0, 0, 0, 0, 0, 0, 0, 0, 0, 0, 0, 0, 0, 0, 0, 0, 0, 0, 0, 0, 0, 0, 0, 0, 0, 0, 0, 0, 0, 0, 0, 0, 0, 0, 0, 0, 0, 0, 0, 0, 0, 0, 0, 0, 0, 0, 0, 0, 0, 0, 0, 0, 0, 0, 0, 0, 0, 0, 0, 0, 0, 0, 0, 0, 0, 0, 0, 0, 0, 0, 0, 0, 0, 0, 0, 0, 0, 0, 0, 0, 0, 0, 0, 0, 0, 0, 0, 0, 0, 0, 0, 0, 0, 0, 0, 0, 0, 0, 0, 0, 0, 0, 0, 0, 0, 0, 0, 0, 0, 0, 0, 0, 0, 0, 0, 0, 0, 0, 0, 0, 0, 0, 0, 0, 0, 0, 0, 0, 0, 0, 0, 0, 0, 0, 0, 0, 0, 0, 0, 0, 0, 0, 0, 0, 0, 0, 0, 0, 0, 0, 0, 0, 0, 0, 0, 0, 0, 0, 0, 0, 0, 0, 0, 0, 0, 0, 0, 0, 0, 0, 0, 0, 0, 0, 0, 0, 0, 0, 0, 0, 0, 0, 0, 0, 0, 0, 0, 0, 0, 0, 0, 0, 0, 0, 0, 0, 0, 0, 0, 0, 0, 0, 0, 0, 0, 0, 0, 0, 0, 0, 0, 0, 0, 0, 0, 0, 0, 0, 0, 0, 0, 0, 0, 0, 0, 0, 0, 0, 0, 0, 0, 0, 0, 0, 0, 0, 0, 0, 0, 0, 0, 0, 0, 0, 0, 0, 0, 0, 0, 0, 0, 0, 0, 0, 0, 0, 0, 0, 0, 0, 0, 0, 0, 0, 0, 0, 0, 0, 0, 0, 0, 0, 0, 0, 0, 0, 0, 0, 0, 0, 0, 0, 0, 0, 0, 0, 0, 0, 0, 0, 0, 0, 0, 0, 0, 0, 0, 0, 0, 0, 0, 0, 0, 0, 0, 0, 0, 0, 0, 0, 0, 0, 0, 0, 0, 0, 0, 0, 0, 0, 0, 0, 0, 0, 0, 0, 0, 0, 0, 0, 0, 0, 0, 0, 0, 0, 0, 0, 0, 0, 0, 0, 0, 0, 0, 0, 0, 0, 0, 0, 0, 0, 0, 0, 0, 0, 0, 0, 0, 0, 0, 0, 0, 0, 0, 0, 0, 0, 0, 0, 0, 0, 0, 0, 0, 0, 0, 0, 0, 0, 0, 0, 0, 0, 0, 0, 0, 0, 0, 0, 0, 0, 0, 0, 0, 0, 0, 0, 0, 0, 0, 0, 0, 0, 0, 0, 0, 0, 0, 0, 0, 0, 0, 0, 0, 0, 0, 0, 0, 0, 0, 0, 0, 0, 0, 0, 0, 0, 0, 0, 0, 0, 0, 0, 0, 0, 0, 0, 0, 0, 0, 0, 0, 0, 0, 0, 0, 0, 0, 0, 0, 0, 0, 0, 0, 0, 0, 0, 0, 0, 0, 0, 0, 0, 0, 0, 0, 0, 0, 0, 0, 0, 0, 0, 0, 0, 0, 0, 0, 0, 0, 0, 0, 0, 0, 0, 0, 0, 0, 0, 0, 0, 0, 0, 0, 0, 0, 0, 0, 0, 0, 0, 0, 0, 0, 0, 0, 0, 0, 0, 0, 0, 0, 0, 0, 0, 0, 0, 0, 0, 0, 0, 0, 0, 0, 0, 0, 0, 0, 0, 0, 0, 0, 0, 0, 0, 0, 0, 0, 0, 0, 0, 0, 0, 0, 0, 0, 0, 0, 0, 0, 0, 0, 0, 0, 0, 0, 0, 0, 0, 0, 0, 0, 0, 0, 0, 0, 0, 0, 0, 0, 0, 0, 0, 0, 0, 0, 0, 0, 0, 0, 0, 0, 0, 0, 0, 0, 0, 0, 0, 0, 0, 0, 0, 0, 0, 0, 0, 0, 0, 0, 0, 0, 0, 0, 0, 0, 0, 0, 0, 0, 0, 0, 0, 0, 0, 0, 0, 0, 0, 0, 0, 0, 0, 0, 0, 0, 0, 0, 0, 0, 0, 0, 0, 0, 0, 0, 0, 0, 0, 0, 0, 0, 0, 0, 0, 0, 0, 0, 0, 0, 0, 0, 0, 0, 0, 0, 0, 0, 0, 0, 0, 0, 0, 0, 0, 0, 0, 0, 0, 0, 0, 0, 0, 0, 0, 0, 0, 0, 0, 0, 0, 0, 0, 0, 0, 0, 0, 0, 0, 0, 0, 0, 0, 0, 0, 0, 0, 0, 0, 0, 0, 0, 0, 0, 0, 0, 0, 0, 0, 0, 0, 0, 0, 0, 0, 0, 0, 0, 0, 0, 0, 0, 0, 0, 0, 0, 0, 0, 0, 0, 0, 0, 0, 0, 0, 0, 0, 0, 0, 0, 0, 0, 0, 0, 0, 0, 0, 0, 0, 0, 0, 0, 0, 0, 0, 0, 0, 0, 0, 0, 0, 0, 0, 0, 0, 0, 0, 0, 0, 0, 0, 0, 0, 0, 0, 0, 0, 0, 0, 0, 0, 0, 0, 0, 0, 0, 0, 0, 0, 0, 0, 0, 0, 0, 0, 0, 0, 0, 0, 0, 0, 0, 0, 0, 0, 0, 0, 0, 0, 0, 0, 0, 0, 0, 0, 0, 0, 0, 0, 0, 0, 0, 0, 0, 0, 0, 0, 0, 0, 0, 0, 0, 0, 0, 0, 0, 0, 0, 0, 0, 0, 0, 0, 0, 0, 0, 0, 0, 0, 0, 0, 0, 0, 0, 0, 0, 0, 0, 0, 0, 0, 0, 0, 0, 0, 0, 0, 0, 0, 0, 0, 0, 0, 0, 0, 0, 0, 0, 0, 0, 0, 0, 0, 0, 0, 0, 0, 0, 0, 0, 0, 0, 0, 0, 0, 0, 0, 0, 0, 0, 0, 0, 0, 0, 0, 0, 0, 0, 0, 0, 0, 0, 0, 0, 0, 0, 0, 0, 0, 0, 0, 0, 0, 0, 0, 0, 0, 0, 0, 0, 0, 0, 0, 0, 0, 0, 0, 0, 0, 0, 0, 0, 0, 0, 0, 0, 0, 0, 0, 0, 0, 0, 0, 0, 0, 0, 0, 0, 0, 0, 0, 0, 0, 0, 0, 0, 0, 0, 0, 0, 0, 0, 0, 0, 0, 0, 0, 0, 0, 0, 0, 0, 0, 0, 0, 0, 0, 0, 0, 0, 0, 0, 0, 0, 0, 0, 0, 0, 0, 0, 0, 0, 0, 0, 0, 0, 0, 0, 0, 0, 0, 0, 0, 0, 0, 0, 0, 0, 0, 0, 0, 0, 0, 0, 0, 0, 0, 0, 0, 0, 0, 0, 0, 0, 0, 0, 0, 0, 0, 0, 0, 0, 0, 0, 0, 0, 0, 0, 0, 0, 0, 0, 0, 0, 0, 0, 0, 0, 0, 0, 0, 0, 0, 0, 0, 0, 0, 0, 0, 0, 0, 0, 0, 0, 0, 0, 0, 0, 0, 0, 0, 0, 0, 0, 0, 0, 0, 0, 0, 0, 0, 0, 0, 0, 0, 0, 0, 0, 0, 0, 0, 0, 0, 0, 0, 0, 0, 0, 0, 0, 0, 0, 0, 0, 0, 0, 0, 0, 0, 0, 0, 0, 0, 0, 0, 0, 0, 0, 0, 0, 0, 0, 0, 0, 0, 0, 0, 0, 0, 0, 0, 0, 0, 0, 0, 0, 0, 0, 0, 0, 0, 0, 0, 0, 0, 0, 0, 0, 0, 0, 0, 0, 0, 0, 0, 0, 0, 0, 0, 0, 0, 0, 0, 0, 0, 0, 0, 0, 0, 0, 0, 0, 0, 0, 0, 0, 0, 0, 0, 0, 0, 0, 0, 0, 0, 0, 0, 0, 0, 0, 0, 0, 0, 0, 0, 0, 0, 0, 0, 0, 0, 0, 0, 0, 0, 0, 0, 0, 0, 0, 0, 0, 0, 0, 0, 0, 0, 0, 0, 0, 0, 0, 0, 0, 0, 0, 0, 0, 0, 0, 0, 0, 0, 0, 0, 0, 0, 0, 0, 0, 0, 0, 0, 0, 0, 0, 0, 0, 0, 0, 0, 0, 0, 0, 0, 0, 0, 0, 0, 0, 0, 0, 0, 0, 0, 0, 0, 0, 0, 0, 0, 0, 0, 0, 0, 0, 0, 0, 0, 0, 0, 0, 0, 0, 0, 0, 0, 0, 0, 0, 0, 0, 0, 0, 0, 0, 0, 0, 0, 0, 0, 0, 0, 0, 0, 0, 0, 0, 0, 0, 0, 0, 0, 0, 0, 0, 0, 0, 0, 0, 0, 0, 0, 0, 0, 0, 0, 0, 0, 0, 0, 0, 0, 0, 0, 0, 0, 0, 0, 0, 0, 0, 0, 0, 0, 0, 0, 0, 0, 0, 0, 0, 0, 0, 0, 0, 0, 0, 0, 0, 0, 0, 0, 0, 0, 0, 0, 0, 0, 0, 0, 0, 0, 0, 0, 0, 0, 0, 0, 0, 0, 0, 0, 0, 0, 0, 0, 0, 0, 0, 0, 0, 0, 0, 0, 0, 0, 0, 0, 0, 0, 0, 0, 0, 0, 0, 0, 0, 0, 0, 0, 0, 0, 0, 0, 0, 0, 0, 0, 0, 0, 0, 0, 0, 0, 0, 0, 0, 0, 0, 0, 0, 0, 0, 0, 0, 0, 0, 0, 0, 0, 0, 0, 0, 0, 0, 0, 0, 0, 0, 0, 0, 0, 0, 0, 0, 0, 0, 0, 0, 0, 0, 0, 0, 0, 0, 0, 0, 0, 0, 0, 0, 0, 0, 0, 0, 0, 0, 0, 0, 0, 0, 0, 0, 0, 0, 0, 0, 0, 0, 0, 0, 0, 0, 0, 0, 0, 0, 0, 0, 0, 0, 0, 0, 0, 0, 0, 0, 0, 0, 0, 0, 0, 0, 0, 0, 0, 0, 0, 0, 0, 0, 0, 0, 0, 0, 0, 0, 0, 0, 0, 0, 0, 0, 0, 0, 0, 0, 0, 0, 0, 0, 0, 0, 0, 0, 0, 0, 0, 0, 0, 0, 0, 0, 0, 0, 0, 0, 0, 0, 0, 0, 0, 0, 0, 0, 0, 0, 0, 0, 0, 0, 0, 0, 0, 0, 0, 0, 0, 0, 0, 0, 0, 0, 0, 0, 0, 0, 0, 0, 0, 0, 0, 0, 0, 0, 0, 0, 0, 0, 0, 0, 0, 0, 0, 0, 0, 0, 0, 0, 0, 0, 0, 0, 0, 0, 0, 0, 0, 0, 0, 0, 0, 0, 0, 0, 0, 0, 0, 0, 0, 0, 0, 0, 0, 0, 0, 0, 0, 0, 0, 0, 0, 0, 0, 0, 0, 0, 0, 0, 0, 0, 0, 0, 0, 0, 0, 0, 0, 0, 0, 0, 0, 0, 0, 0, 0, 0, 0, 0, 0, 0, 0, 0, 0, 0, 0, 0, 0, 0, 0, 0, 0, 0, 0, 0, 0, 0, 0, 0, 0, 0, 0, 0, 0, 0, 0, 0, 0, 0, 0, 0, 0, 0, 0, 0, 0, 0, 0, 0, 0, 0, 0, 0, 0, 0, 0, 0, 0, 0, 0, 0, 0, 0, 0, 0, 0, 0, 0, 0, 0, 0, 0, 0, 0, 0, 0, 0, 0, 0, 0, 0, 0, 0, 0, 0, 0, 0, 0, 0, 0, 0, 0, 0, 0, 0, 0, 0, 0, 0, 0, 0, 0, 0, 0, 0, 0, 0, 0, 0, 0, 0, 0, 0, 0, 0, 0, 0, 0, 0, 0, 0, 0, 0, 0, 0, 0, 0, 0, 0, 0, 0, 0, 0, 0, 0, 0, 0, 0, 0, 0, 0, 0, 0, 0, 0, 0, 0, 0, 0, 0, 0, 0, 0, 0, 0, 0, 0, 0, 0, 0, 0, 0, 0, 0, 0, 0, 0, 0, 0, 0, 0, 0, 0, 0, 0, 0, 0, 0, 0, 0, 0, 0, 0, 0, 0, 0, 0, 0, 0, 0, 0, 0, 0, 0, 0, 0, 0, 0, 0, 0, 0, 0, 0, 0, 0, 0, 0, 0, 0, 0, 0, 0, 0, 0, 0, 0, 0, 0, 0, 0, 0, 0, 0, 0, 0, 0, 0, 0, 0, 0, 0, 0, 0, 0, 0, 0, 0, 0, 0, 0, 0, 0, 0, 0, 0, 0, 0, 0, 0, 0, 0, 0, 0, 0, 0, 0, 0, 0, 0, 0, 0, 0, 0, 0, 0, 0, 0, 0, 0, 0, 0, 0, 0, 0, 0, 0, 0, 0, 0, 0, 0, 0, 0, 0, 0, 0, 0, 0, 0, 0, 0, 0, 0, 0, 0, 0, 0, 0, 0, 0, 0, 0, 0, 0, 0, 0, 0, 0, 0, 0, 0, 0, 0, 0, 0, 0, 0, 0, 0, 0, 0, 0, 0, 0, 0, 0, 0, 0, 0, 0, 0, 0, 0, 0, 0, 0, 0, 0, 0, 0, 0, 0, 0, 0, 0, 0, 0, 0, 0, 0, 0, 0, 0, 0, 0, 0, 0, 0, 0, 0, 0, 0, 0, 0, 0, 0, 0, 0, 0, 0, 0, 0, 0, 0, 0, 0, 0, 0, 0, 0, 0, 0, 0, 0, 0, 0, 0, 0, 0, 0, 0, 0, 0, 0, 0, 0, 0, 0, 0, 0, 0, 0, 0, 0, 0, 0, 0, 0, 0, 0, 0, 0, 0, 0, 0, 0, 0, 0, 0, 0, 0, 0, 0, 0, 0, 0, 0, 0, 0, 0, 0, 0, 0, 0, 0, 0, 0, 0, 0, 0, 0, 0, 0, 0, 0, 0, 0, 0, 0, 0, 0, 0, 0, 0, 0, 0, 0, 0, 0, 0, 0, 0, 0, 0, 0, 0, 0, 0, 0, 0, 0, 0, 0, 0, 0, 0, 0, 0, 0, 0, 0, 0, 0, 0, 0, 0, 0, 0, 0, 0, 0, 0, 0, 0, 0, 0, 0, 0, 0, 0, 0, 0, 0, 0, 0, 0, 0, 0, 0, 0, 0, 0, 0, 0, 0, 0, 0, 0, 0, 0, 0, 0, 0, 0, 0, 0, 0, 0, 0, 0, 0, 0, 0, 0, 0, 0, 0, 0, 0, 0, 0, 0, 0, 0, 0, 0, 0, 0, 0, 0, 0, 0, 0, 0, 0, 0, 0, 0, 0, 0, 0, 0, 0, 0, 0, 0, 0, 0, 0, 0, 0, 0, 0, 0, 0, 0, 0, 0, 0, 0, 0, 0, 0, 0, 0, 0, 0, 0, 0, 0, 0, 0, 0, 0, 0, 0, 0, 0, 0, 0, 0, 0, 0, 0, 0, 0, 0, 0, 0, 0, 0, 0, 0, 0, 0, 0, 0, 0, 0, 0, 0, 0, 0, 0, 0, 0, 0, 0, 0, 0, 0, 0, 0, 0, 0, 0, 0, 0, 0, 0, 0, 0, 0, 0, 0, 0, 0, 0, 0, 0, 0, 0, 0, 0, 0, 0, 0, 0, 0, 0, 0, 0, 0, 0, 0, 0, 0, 0, 0, 0, 0, 0, 0, 0, 0, 0, 0, 0, 0, 0, 0, 0, 0, 0, 0, 0, 0, 0, 0, 0, 0, 0, 0, 0, 0, 0, 0, 0, 0, 0, 0, 0, 0, 0, 0, 0, 0, 0, 0, 0, 0, 0, 0, 0, 0, 0, 0, 0, 0, 0, 0, 0, 0, 0, 0, 0, 0, 0, 0, 0, 0, 0, 0, 0, 0, 0, 0, 0, 0, 0, 0, 0, 0, 0, 0, 0, 0, 0, 0, 0, 0, 0, 0, 0, 0, 0, 0, 0, 0, 0, 0, 0, 0, 0, 0, 0, 0, 0, 0, 0, 0, 0, 0, 0, 0, 0, 0, 0, 0, 0, 0, 0, 0, 0, 0, 0, 0, 0, 0, 0, 0, 0, 0, 0, 0, 0, 0, 0, 0, 0, 0, 0, 0, 0, 0, 0, 0, 0, 0, 0, 0, 0, 0, 0, 0, 0, 0, 0, 0, 0, 0, 0, 0, 0, 0, 0, 0, 0, 0, 0, 0, 0, 0, 0, 0, 0, 0, 0, 0, 0, 0, 0, 0, 0, 0, 0, 0, 0, 0, 0, 0, 0, 0, 0, 0, 0, 0, 0, 0, 0, 0, 0, 0, 0, 0, 0, 0, 0, 0, 0, 0, 0, 0, 0, 0, 0, 0, 0, 0, 0, 0, 0, 0, 0, 0, 0, 0, 0, 0, 0, 0, 0, 0, 0, 0, 0, 0, 0, 0, 0, 0, 0, 0, 0, 0, 0, 0, 0, 0, 0, 0, 0, 0, 0]\n",
      "1\n",
      "None\n",
      "None\n",
      "None\n",
      "None\n",
      "None\n",
      "None\n",
      "None\n",
      "None\n",
      "None\n",
      "None\n",
      "None\n",
      "None\n",
      "None\n",
      "[2, 2, 2, 2, 2, 2, 2, 2, 2, 2, 2, 2, 2, 2, 2, 2, 2, 2, 2, 2, 2, 2, 2, 2, 2, 2, 2, 2, 2, 2, 2, 2, 2, 2, 2, 2, 2, 2, 2, 2, 2, 2, 2, 2, 2, 2, 2, 2, 2, 2, 2, 2, 2, 2, 2, 2, 2, 2, 2, 2, 2, 2, 2, 2, 2, 2, 2, 2, 2, 2, 2, 2, 2, 2, 2, 2, 2, 2, 2, 2, 2, 2, 2, 2, 2, 2, 2, 2, 2, 2, 2, 2, 2, 2, 2, 2, 2, 2, 2, 2, 2, 2, 2, 2, 2, 2, 2, 2, 2, 2, 2, 2, 2, 2, 2, 2, 2, 2, 2, 2, 2, 2, 2, 2, 2, 2, 2, 2, 2, 2, 2, 2, 2, 2, 2, 2, 2, 2, 2, 2, 2, 2, 2, 2, 2, 2, 2, 2, 2, 2, 2, 2, 2, 2, 2, 2, 2, 2, 2, 2, 2, 2, 2, 2, 2, 2, 2, 2, 2, 2, 2, 2, 2, 2, 2, 2, 2, 2, 2, 2, 2, 2, 2, 2, 2, 2, 2, 2, 2, 2, 2, 2, 2, 2, 2, 2, 2, 2, 2, 2, 2, 2, 2, 2, 2, 2, 2, 2, 2, 2, 2, 2, 2, 2, 2, 2, 2, 2, 2, 2, 2, 2, 2, 2, 2, 2, 2, 2, 2, 2, 2, 2, 2, 2, 2, 2, 2, 2, 2, 2, 2, 2, 2, 2, 2, 2, 2, 2, 2, 2, 2, 2, 2, 2, 2, 2, 2, 2, 2, 2, 2, 2, 2, 2, 2, 2, 2, 2, 2, 2, 2, 2, 2, 2, 2, 2, 2, 2, 2, 2, 2, 2, 2, 2, 2, 2, 2, 2, 2, 2, 2, 2, 2, 2, 2, 2, 2, 2, 2, 2, 2, 2, 2, 2, 2, 2, 2, 2, 2, 2, 2, 2, 2, 2, 2, 2, 2, 2, 2, 2, 2, 2, 2, 2, 2, 2, 2, 2, 2, 2, 2, 2, 2, 2, 2, 2, 2, 2, 2, 2, 2, 2, 2, 2, 2, 2, 2, 2, 2, 2, 2, 2, 2, 2, 2, 2, 2, 2, 2, 2, 2, 2, 2, 2, 2, 2, 2, 2, 2, 2, 2, 2, 2, 2, 2, 2, 2, 2, 2, 2, 2, 2, 2, 2, 2, 2, 2, 2, 2, 2, 2, 2, 2, 2, 2, 2, 2, 2, 2, 2, 2, 2, 2, 2, 2, 2, 2, 2, 2, 2, 2, 2, 2, 2, 2, 2, 2, 2, 2, 2, 2, 2, 2, 2, 2, 2, 2, 2, 2, 2, 2, 2, 2, 2, 2, 2, 2, 2, 2, 2, 2, 2, 2, 2, 2, 2, 2, 2, 2, 2, 2, 2, 2, 2, 2, 2, 2, 2, 2, 2, 2, 2, 2, 2, 2, 2, 2, 2, 2, 2, 2, 2, 2, 2, 2, 2, 2, 2, 2, 2, 2, 2, 2, 2, 2, 2, 2, 2, 2, 2, 2, 2, 2, 2, 2, 2, 2, 2, 2, 2, 2, 2, 2, 2, 2, 2, 2, 2, 2, 2, 2, 2, 2, 2, 2, 2, 2, 2, 2, 2, 2, 2, 2, 2, 2, 2, 2, 2, 2, 2, 2, 2, 2, 2, 2, 2, 2, 2, 2, 2, 2, 2, 2, 2, 2, 2, 2, 2, 2, 2, 2, 2, 2, 2, 2, 2, 2, 2, 2, 2, 2, 2, 2, 2, 2, 2, 2, 2, 2, 2, 2, 2, 2, 2, 2, 2, 2, 2, 2, 2, 2, 2, 2, 2, 2, 2, 2, 2, 2, 2, 2, 2, 2, 2, 2, 2, 2, 2, 2, 2, 2, 2, 2, 2, 2, 2, 2, 2, 2, 2, 2, 2, 2, 2, 2, 2, 2, 2, 2, 2, 2, 2, 2, 2, 2, 2, 2, 2, 2, 2, 2, 2, 2, 2, 2, 2, 2, 2, 2, 2, 2, 2, 2, 2, 2, 2, 2, 2, 2, 2, 2, 2, 2, 2, 2, 2, 2, 2, 2, 2, 2, 2, 2, 2, 2, 2, 2, 2, 2, 2, 2, 2, 2, 2, 2, 2, 2, 2, 2, 2, 2, 2, 2, 2, 2, 2, 2, 2, 2, 2, 2, 2, 2, 2, 2, 2, 2, 2, 2, 2, 2, 2, 2, 2, 2, 2, 2, 2, 2, 2, 2, 2, 2, 2, 2, 2, 2, 2, 2, 2, 2, 2, 2, 2, 2, 2, 2, 2, 2, 2, 2, 2, 2, 2, 2, 2, 2, 2, 2, 2, 2, 2, 2, 2, 2, 2, 2, 2, 2, 2, 2, 2, 2, 2, 2, 2, 2, 2, 2, 2, 2, 2, 2, 2, 2, 2, 2, 2, 2, 2, 2, 2, 2, 2, 2, 2, 2, 2, 2, 2, 2, 2, 2, 2, 2, 2, 2, 2, 2, 2, 2, 2, 2, 2, 2, 2, 2, 2, 2, 2, 2, 2, 2, 2, 2, 2, 2, 2, 2, 2, 2, 2, 2, 2, 2, 2, 2, 2, 2, 2, 2, 2, 2, 2, 2, 2, 2, 2, 2, 2, 2, 2, 2, 2, 2, 2, 2, 2, 2, 2, 2, 2, 2, 2, 2, 2, 2, 2, 2, 2, 2, 2, 2, 2, 2, 2, 2, 2, 2, 2, 2, 2, 2, 2, 2, 2, 2, 2, 2, 2, 2, 2, 2, 2, 2, 2, 2, 2, 2, 2, 2, 2, 2, 2, 2, 2, 2, 2, 2, 2, 2, 2, 2, 2, 2, 2, 2, 2, 2, 2, 2, 2, 2, 2, 2, 2, 2, 2, 2, 2, 2, 2, 2, 2, 2, 2, 2, 2, 2, 2, 2, 2, 2, 2, 2, 2, 2, 2, 2, 2, 2, 2, 2, 2, 2, 2, 2, 2, 2, 2, 2, 2, 2, 2, 2, 2, 2, 2, 2, 2, 2, 2, 2, 2, 2, 2, 2, 2, 2, 2, 2, 2, 2, 2, 2, 2, 2, 2, 2, 2, 2, 2, 2, 2, 2, 2, 2, 2, 2, 2, 2, 2, 2, 2, 2, 2, 2, 2, 2, 2, 2, 2, 2, 2, 2, 2, 2, 2, 2, 2, 2, 2, 2, 2, 2, 2, 2, 2, 2, 2, 2, 2, 2, 2, 2, 2, 2, 2, 2, 2, 2, 2, 2, 2, 2, 2, 2, 2, 2, 2, 2, 2, 2, 2, 2, 2, 2, 2, 2, 2, 2, 2, 2, 2, 2, 2, 2, 2, 2, 2, 2, 2, 2, 2, 2, 2, 2, 2, 2, 2, 2, 2, 2, 2, 2, 2, 2, 2, 2, 2, 2, 2, 2, 2, 2, 2, 2, 2, 2, 2, 2, 2, 2, 2, 2, 2, 2, 2, 2, 2, 2, 2, 2, 2, 2, 2, 2, 2, 2, 2, 2, 2, 2, 2, 2, 2, 2, 2, 2, 2, 2, 2, 2, 2, 2, 2, 2, 2, 2, 2, 2, 2, 2, 2, 2, 2, 2, 2, 2, 2, 2, 2, 2, 2, 2, 2, 2, 2, 2, 2, 2, 2, 2, 2, 2, 2, 2, 2, 2, 2, 2, 2, 2, 2, 2, 2, 2, 2, 2, 2, 2, 2, 2, 2, 2, 2, 2, 2, 2, 2, 2, 2, 2, 2, 2, 2, 2, 2, 2, 2, 2, 2, 2, 2, 2, 2, 2, 2, 2, 2, 2, 2, 2, 2, 2, 2, 2, 2, 2, 2, 2, 2, 2, 2, 2, 2, 2, 2, 2, 2, 2, 2, 2, 2, 2, 2, 2, 2, 2, 2, 2, 2, 2, 2, 2, 2, 2, 2, 2, 2, 2, 2, 2, 2, 2, 2, 2, 2, 2, 2, 2, 2, 2, 2, 2, 2, 2, 2, 2, 2, 2, 2, 2, 2, 2, 2, 2, 2, 2, 2, 2, 2, 2, 2, 2, 2, 2, 2, 2, 2, 2, 2, 2, 2, 2, 2, 2, 2, 2, 2, 2, 2, 2, 2, 2, 2, 2, 2, 2, 2, 2, 2, 2, 2, 2, 2, 2, 2, 2, 2, 2, 2, 2, 2, 2, 2, 2, 2, 2, 2, 2, 2, 2, 2, 2, 2, 2, 2, 2, 2, 2, 2, 2, 2, 2, 2, 2, 2, 2, 2, 2, 2, 2, 2, 2, 2, 2, 2, 2, 2, 2, 2, 2, 2, 2, 2, 2, 2, 2, 2, 2, 2, 2, 2, 2, 2, 2, 2, 2, 2, 2, 2, 2, 2, 2, 2, 2, 2, 2, 2, 2, 2, 2, 2, 2, 2, 2, 2, 2, 2, 2, 2, 2, 2, 2, 2, 2, 2, 2, 2, 2, 2, 2, 2, 2, 2, 2, 2, 2, 2, 2, 2, 2, 2, 2, 2, 2, 2, 2, 2, 2, 2, 2, 2, 2, 2, 2, 2, 2, 2, 2, 2, 2, 2, 2, 2, 2, 2, 2, 2, 2, 2, 2, 2, 2, 2, 2, 2, 2, 2, 2, 2, 2, 2, 2, 2, 2, 2, 2, 2, 2, 2, 2, 2, 2, 2, 2, 2, 2, 2, 2, 2, 2, 2, 2, 2, 2, 2, 2, 2, 2, 2, 2, 2, 2, 2, 2, 2, 2, 2, 2, 2, 2, 2, 2, 2, 2, 2, 2, 2, 2, 2, 2, 2, 2, 2, 2, 2, 2, 2, 2, 2, 2, 2, 2, 2, 2, 2, 2, 2, 2, 2, 2, 2, 2, 2, 2, 2, 2, 2, 2, 2, 2, 2, 2, 2, 2, 2, 2, 2, 2, 2, 2, 2, 2, 2, 2, 2, 2, 2, 2, 2, 2, 2, 2, 2, 2, 2, 2, 2, 2, 2, 2, 2, 2, 2, 2, 2, 2, 2, 2, 2, 2, 2, 2, 2, 2, 2, 2, 2, 2, 2, 2, 2, 2, 2, 2, 2, 2, 2, 2, 2, 2, 2, 2, 2, 2, 2, 2, 2, 2, 2, 2, 2, 2, 2, 2, 2, 2, 2, 2, 2, 2, 2, 2, 2, 2, 2, 2, 2, 2, 2, 2, 2, 2, 2, 2, 2, 2, 2, 2, 2, 2, 2, 2, 2, 2, 2, 2, 2, 2, 2, 2, 2, 2, 2, 2, 2, 2, 2, 2, 2, 2, 2, 2, 2, 2, 2, 2, 2, 2, 2, 2, 2, 2, 2, 2, 2, 2, 2, 2, 2, 2, 2, 2, 2, 2, 2, 2, 2, 2, 2, 2, 2, 2, 2, 2, 2, 2, 2, 2, 2, 2, 2, 2, 2, 2, 2, 2, 2, 2, 2, 2, 2, 2, 2, 2, 2, 2, 2, 2, 2, 2, 2, 2, 2, 2, 2, 2, 2, 2, 2, 2, 2, 2, 2, 2, 2, 2, 2, 2, 2, 2, 2, 2, 2, 2, 2, 2, 2, 2, 2, 2, 2, 2, 2, 2, 2, 2, 2, 2, 2, 2, 2, 2, 2, 2, 2, 2, 2, 2, 2, 2, 2, 2, 2, 2, 2, 2, 2, 2, 2, 2, 2, 2, 2, 2, 2, 2, 2, 2, 2, 2, 2, 2, 2, 2, 2, 2, 2, 2, 2, 2, 2, 2, 2, 2, 2, 2, 2, 2, 2, 2, 2, 2, 2, 2, 2, 2, 2, 2, 2, 2, 2, 2, 2, 2, 2, 2, 2, 2, 2, 2, 2, 2, 2, 2, 2, 2, 2, 2, 2, 2, 2, 2, 2, 2, 2, 2, 2, 2, 2, 2, 2, 2, 2, 2, 2, 2, 2, 2, 2, 2, 2, 2, 2, 2, 2, 2, 2, 2, 2, 2, 2, 2, 2, 2, 2, 2, 2, 2, 2, 2, 2, 2, 2, 2, 2, 2, 2, 2, 2, 2, 2, 2, 2, 2, 2, 2, 2, 2, 2, 2, 2, 2, 2, 2, 2, 2, 2, 2, 2, 2, 2, 2, 2, 2, 2, 2, 2, 2, 2, 2, 2, 2, 2, 2, 2, 2, 2, 2, 2, 2, 2, 2, 2, 2, 2, 2, 2, 2, 2, 2, 2, 2, 2, 2, 2, 2, 2, 2, 2, 2, 2, 2, 2, 2, 2, 2, 2, 2, 2, 2, 2, 2, 2, 2, 2, 2, 2, 2, 2, 2, 2, 2, 2, 2, 2, 2, 2, 2, 2, 2, 2, 2, 2, 2, 2, 2, 2, 2, 2, 2, 2, 2, 2, 2, 2, 2, 2, 2, 2, 2, 2, 2, 2, 2, 2, 2, 2, 2, 2, 2, 2, 2, 2, 2, 2, 2, 2, 2, 2, 2, 2, 2, 2, 2, 2, 2, 2, 2, 2, 2, 2, 2, 2, 2, 2, 2, 2, 2, 2, 2, 2, 2, 2, 2, 2, 2, 2, 2, 2, 2, 2, 2, 2, 2, 2, 2, 2, 2, 2, 2, 2, 2, 2, 2, 2, 2, 2, 2, 2, 2, 2, 2, 2, 2, 2, 2, 2, 2, 2, 2, 2, 2, 2, 2, 2, 2, 2, 2, 2, 2, 2, 2, 2, 2, 2, 2, 2, 2, 2, 2, 2, 2, 2, 2, 2, 2, 2, 2, 2, 2, 2, 2, 2, 2, 2, 2, 2, 2, 2, 2, 2, 2, 2, 2, 2, 2, 2, 2, 2, 2, 2, 2, 2, 2, 2, 2, 2, 2, 2, 2, 2, 2, 2, 2, 2, 2, 2, 2, 2, 2, 2, 2, 2, 2, 2, 2, 2, 2, 2, 2, 2, 2, 2, 2, 2, 2, 2, 2, 2, 2, 2, 2, 2, 2, 2, 2, 2, 2, 2, 2, 2, 2, 2, 2, 2, 2, 2, 2, 2, 2, 2, 2, 2, 2, 2, 2, 2, 2, 2, 2, 2, 2, 2, 2, 2, 2, 2, 2, 2, 2, 2, 2, 2, 2, 2, 2, 2, 2, 2, 2, 2, 2, 2, 2, 2, 2, 2, 2, 2, 2, 2, 2, 2, 2, 2, 2, 2, 2, 2, 2, 2, 2, 2, 2, 2, 2, 2, 2, 2, 2, 2, 2, 2, 2, 2, 2, 2, 2, 2, 2, 2, 2, 2, 2, 2, 2, 2, 2, 2, 2, 2, 2, 2, 2, 2, 2, 2, 2, 2, 2, 2, 2, 2, 2, 2, 2, 2, 2, 2, 2, 2, 2, 2, 2, 2, 2, 2, 2, 2, 2, 2, 2, 2, 2, 2, 2, 2, 2, 2, 2, 2, 2, 2, 2, 2, 2, 2, 2, 2, 2, 2, 2, 2, 2, 2, 2, 2, 2, 2, 2, 2, 2, 2, 2, 2, 2, 2, 2, 2, 2, 2, 2, 2, 2, 2, 2, 2, 2, 2, 2, 2, 2, 2, 2, 2, 2, 2, 2, 2, 2, 2, 2, 2, 2, 2, 2, 2, 2, 2, 2, 2, 2, 2, 2, 2, 2, 2, 2, 2, 2, 2, 2, 2, 2, 2, 2, 2, 2, 2, 2, 2, 2, 2, 2, 2, 2, 2, 2, 2, 2, 2, 2, 2, 2, 2, 2, 2, 2, 2, 2, 2, 2, 2, 2, 2, 2, 2, 2, 2, 2, 2, 2, 2, 2, 2, 2, 2, 2, 2, 2, 2, 2, 2, 2, 2, 2, 2, 2, 2, 2, 2, 2, 2, 2, 2, 2, 2, 2, 2, 2, 2, 2, 2, 2, 2, 2, 2, 2, 2, 2, 2, 2, 2, 2, 2, 2, 2, 2, 2, 2, 2, 2, 2, 2, 2, 2, 2, 2, 2, 2, 2, 2, 2, 2, 2, 2, 2, 2, 2, 2, 2, 2, 2, 2, 2, 2, 2, 2, 2, 2, 2, 2, 2, 2, 2, 2, 2, 2, 2, 2, 2, 2, 2, 2, 2, 2, 2, 2, 2, 2, 2, 2, 2, 2, 2, 2, 2, 2, 2, 2, 2, 2, 2, 2, 2, 2, 2, 2, 2, 2, 2, 2, 2, 2, 2, 2, 2, 2, 2, 2, 2, 2, 2, 2, 2, 2, 2, 2, 2, 2, 2, 2, 2, 2, 2, 2, 2, 2, 2, 2, 2, 2, 2, 2, 2, 2, 2, 2, 2, 2, 2, 2, 2, 2, 2, 2, 2, 2, 2, 2, 2, 2, 2, 2, 2, 2, 2, 2, 2, 2, 2, 2, 2, 2, 2, 2, 2, 2, 2, 2, 2, 2, 2, 2, 2, 2, 2, 2, 2, 2, 2, 2, 2, 2, 2, 2, 2, 2, 2, 2, 2, 2, 2, 2, 2, 2, 2, 2, 2, 2, 2, 2, 2, 2, 2, 2, 2, 2, 2, 2, 2, 2, 2, 2, 2, 2, 2, 2, 2, 2, 2, 2, 2, 2, 2, 2, 2, 2, 2, 2, 2, 2, 2, 2, 2, 2, 2, 2, 2, 2, 2, 2, 2, 2, 2, 2, 2, 2, 2, 2, 2, 2, 2, 2, 2, 2, 2, 2, 2, 2, 2, 2, 2, 2, 2, 2, 2, 2, 2, 2, 2, 2, 2, 2, 2, 2, 2, 2, 2, 2, 2, 2, 2, 2, 2, 2, 2, 2, 2, 2, 2, 2, 2, 2, 2, 2, 2, 2, 2, 2, 2, 2, 2, 2, 2, 2, 2, 2, 2, 2, 2, 2, 2, 2, 2, 2, 2, 2, 2, 2, 2, 2, 2, 2, 2, 2, 2, 2, 2, 2, 2, 2, 2, 2, 2, 2, 2, 2, 2, 2, 2, 2, 2, 2, 2, 2, 2, 2, 2, 2, 2, 2, 2, 2, 2, 2, 2, 2, 2, 2, 2, 2, 2, 2, 2, 2, 2, 2, 2, 2, 2, 2, 2, 2, 2, 2, 2, 2, 2, 2, 2, 2, 2, 2, 2, 2, 2, 2, 2, 2, 2, 2, 2, 2, 2, 2, 2, 2, 2, 2, 2, 2, 2, 2, 2, 2, 2, 2, 2, 2, 2, 2, 2, 2, 2, 2, 2, 2, 2, 2, 2, 2, 2, 2, 2, 2, 2, 2, 2, 2, 2, 2, 2, 2, 2, 2, 2, 2, 2, 2, 2, 2, 2, 2, 2, 2, 2, 2, 2, 2, 2, 2, 2, 2, 2, 2, 2, 2, 2, 2, 2, 2, 2, 2, 2, 2, 2, 2, 2, 2, 2, 2, 2, 2, 2, 2, 2, 2, 2, 2, 2, 2, 2, 2, 2, 2, 2, 2, 2, 2, 2, 2, 2, 2, 2, 2, 2, 2, 2, 2, 2, 2, 2, 2, 2, 2, 2, 2, 2, 2, 2, 2, 2, 2, 2, 2, 2, 2, 2, 2, 2, 2, 2, 2, 2, 2, 2, 2, 2, 2, 2, 2, 2, 2, 2, 2, 2, 2, 2, 2, 2, 2, 2, 2, 2, 2, 2, 2, 2, 2, 2, 2, 2, 2, 2, 2, 2, 2, 2, 2, 2, 2, 2, 2, 2, 2, 2, 2, 2, 2, 2, 2, 2, 2, 2, 2, 2, 2, 2, 2, 2, 2, 2, 2, 2, 2, 2, 2, 2, 2, 2, 2, 2, 2, 2, 2, 2, 2, 2, 2, 2, 2, 2, 2, 2, 2, 2, 2, 2, 2, 2, 2, 2, 2, 2, 2, 2, 2, 2, 2, 2, 2, 2, 2, 2, 2, 2, 2, 2, 2, 2, 2, 2, 2, 2, 2, 2, 2, 2, 2, 2, 2, 2, 2, 2, 2, 2, 2, 2, 2, 2, 2, 2, 2, 2, 2, 2, 2, 2, 2, 2, 2, 2, 2, 2, 2, 2, 2, 2, 2, 2, 2, 2, 2, 2, 2, 2, 2, 2, 2, 2, 2, 2, 2, 2, 2, 2, 2, 2, 2, 2, 2, 2, 2, 2, 2, 2, 2, 2, 2, 2, 2, 2, 2, 2, 2, 2, 2, 2, 2, 2, 2, 2, 2, 2, 2, 2, 2, 2, 2, 2, 2, 2, 2, 2, 2, 2, 2, 2, 2, 2, 2, 2, 2, 2, 2, 2, 2, 2, 2, 2, 2, 2, 2, 2, 2, 2, 2, 2, 2, 2, 2, 2, 2, 2, 2, 2, 2, 2, 2, 2, 2, 2, 2, 2, 2, 2, 2, 2, 2, 2, 2, 2, 2, 2, 2, 2, 2, 2, 2, 2, 2, 2, 2, 2, 2, 2, 2, 2, 2, 2, 2, 2, 2, 2, 2, 2, 2, 2, 2, 2, 2, 2, 2, 2, 2, 2, 2, 2, 2, 2, 2, 2, 2, 2, 2, 2, 2, 2, 2, 2, 2, 2, 2, 2, 2, 2, 2, 2, 2, 2, 2, 2, 2, 2, 2, 2, 2, 2, 2, 2, 2, 2, 2, 2, 2, 2, 2, 2, 2, 2, 2, 2, 2, 2, 2, 2, 2, 2, 2, 2, 2, 2, 2, 2, 2, 2, 2, 2, 2, 2, 2, 2, 2, 2, 2, 2, 2, 2, 2, 2, 2, 2, 2, 2, 2, 2, 2, 2, 2, 2, 2, 2, 2, 2, 2, 2, 2, 2, 2, 2, 2, 2, 2, 2, 2, 2, 2, 2, 2, 2, 2, 2, 2, 2, 2, 2, 2, 2, 2, 2, 2, 2, 2, 2, 2, 2, 2, 2, 2, 2, 2, 2, 2, 2, 2, 2, 2, 2, 2, 2, 2, 2, 2, 2, 2, 2, 2, 2, 2, 2, 2, 2, 2, 2, 2, 2, 2, 2, 2, 2, 2, 2, 2, 2, 2, 2, 2, 2, 2, 2, 2, 2, 2, 2, 2, 2, 2, 2, 2, 2, 2, 2, 2, 2, 2, 2, 2, 2, 2, 2, 2, 2, 2, 2, 2, 2, 2, 2, 2, 2, 2, 2, 2, 2, 2, 2, 2, 2, 2, 2, 2, 2, 2, 2, 2, 2, 2, 2, 2, 2, 2, 2, 2, 2, 2, 2, 2, 2, 2, 2, 2, 2, 2, 2, 2, 2, 2, 2, 2, 2, 2, 2, 2, 2, 2, 2, 2, 2, 2, 2, 2, 2, 2, 2, 2, 2, 2, 2, 2, 2, 2, 2, 2, 2, 2, 2, 2, 2, 2, 2, 2, 2, 2, 2, 2, 2, 2, 2, 2, 2, 2, 2, 2, 2, 2, 2, 2, 2, 2, 2, 2, 2, 2, 2, 2, 2, 2, 2, 2, 2, 2, 2, 2, 2, 2, 2, 2, 2, 2, 2, 2, 2, 2, 2, 2, 2, 2, 2, 2, 2, 2, 2, 2, 2, 2, 2, 2, 2, 2, 2, 2, 2, 2, 2, 2, 2, 2, 2, 2, 2, 2, 2, 2, 2, 2, 2, 2, 2, 2, 2, 2, 2, 2, 2, 2, 2, 2, 2, 2, 2, 2, 2, 2, 2, 2, 2, 2, 2, 2, 2, 2, 2, 2, 2, 2, 2, 2, 2, 2, 2, 2, 2, 2, 2, 2, 2, 2, 2, 2, 2, 2, 2, 2, 2, 2, 2, 2, 2, 2, 2, 2, 2, 2, 2, 2, 2, 2, 2, 2, 2, 2, 2, 2, 2, 2, 2, 2, 2, 2, 2, 2, 2, 2, 2, 2, 2, 2, 2, 2, 2, 2, 2, 2, 2, 2, 2, 2, 2, 2, 2, 2, 2, 2, 2, 2, 2, 2, 2, 2, 2, 2, 2, 2, 2, 2, 2, 2, 2, 2, 2, 2, 2, 2, 2, 2, 2, 2, 2, 2, 2, 2, 2, 2, 2, 2, 2, 2, 2, 2, 2, 2, 2, 2, 2, 2, 2, 2, 2, 2, 2, 2, 2, 2, 2, 2, 2, 2, 2, 2, 2, 2, 2, 2, 2, 2, 2, 2, 2, 2, 2, 2, 2, 2, 2, 2, 2, 2, 2, 2, 2, 2, 2, 2, 2, 2, 2, 2, 2, 2, 2, 2, 2, 2, 2, 2, 2, 2, 2, 2, 2, 2, 2, 2, 2, 2, 2, 2, 2, 2, 2, 2, 2, 2, 2, 2, 2, 2, 2, 2, 2, 2, 2, 2, 2, 2, 2, 2, 2, 2, 2, 2, 2, 2, 2, 2, 2, 2, 2, 2, 2, 2, 2, 2, 2, 2, 2, 2, 2, 2, 2, 2, 2, 2, 2, 2, 2, 2, 2, 2, 2, 2, 2, 2, 2, 2, 2, 2, 2, 2, 2, 2, 2, 2, 2, 2, 2, 2, 2, 2, 2, 2, 2, 2, 2, 2, 2, 2, 2, 2, 2, 2, 2, 2, 2, 2, 2, 2, 2, 2, 2, 2, 2, 2, 2, 2, 2, 2, 2, 2, 2, 2, 2, 2, 2, 2, 2, 2, 2, 2, 2, 2, 2, 2, 2, 2, 2, 2, 2, 2, 2, 2, 2, 2, 2, 2, 2, 2, 2, 2, 2, 2, 2, 2, 2, 2, 2, 2, 2, 2, 2, 2, 2, 2, 2, 2, 2, 2, 2, 2, 2, 2, 2, 2, 2, 2, 2, 2, 2, 2, 2, 2, 2, 2, 2, 2, 2, 2, 2, 2, 2, 2, 2, 2, 2, 2, 2, 2, 2, 2, 2, 2, 2, 2, 2, 2, 2, 2, 2, 2, 2, 2, 2, 2, 2, 2, 2, 2, 2, 2, 2, 2, 2, 2, 2, 2, 2, 2, 2, 2, 2, 2, 2, 2, 2, 2, 2, 2, 2, 2, 2, 2, 2, 2, 2, 2, 2, 0, 0, 0, 0, 0, 0, 0, 0, 0, 0, 0, 0, 0, 0, 0, 0, 0, 0, 0, 0, 0, 0, 0, 0, 0, 0, 0, 0, 0, 0, 0, 0, 0, 0, 0, 0, 0, 0, 0, 0, 0, 0, 0, 0, 0, 0, 0, 0, 0, 0, 0, 0, 0, 0, 0, 0, 0, 0, 0, 0, 0, 0, 0, 0, 0, 0, 0, 0, 0, 0, 0, 0, 0, 0, 0, 0, 0, 0, 0, 0, 0, 0, 0, 0, 0, 0, 0, 0, 0, 0, 0, 0, 0, 0, 0, 0, 0, 0, 0, 0, 0, 0, 0, 0, 0, 0, 0, 0, 0, 0, 0, 0, 0, 0, 0, 0, 0, 0, 0, 0, 0, 0, 0, 0, 0, 0, 0, 0, 0, 0, 0, 0, 0, 0, 0, 0, 0, 0, 0, 0, 0, 0, 0, 0, 0, 0, 0, 0, 0, 0, 0, 0, 0, 0, 0, 0, 0, 0, 0, 0, 0, 0, 0, 0, 0, 0, 0, 0, 0, 0, 0, 0, 0, 0, 0, 0, 0, 0, 0, 0, 0, 0, 0, 0, 0, 0, 0, 0, 0, 0, 0, 0, 0, 0, 0, 0, 0, 0, 0, 0, 0, 0, 0, 0, 0, 0, 0, 0, 0, 0, 0, 0, 0, 0, 0, 0, 0, 0, 0, 0, 0, 0, 0, 0, 0, 0, 0, 0, 0, 0, 0, 0, 0, 0, 0, 0, 0, 0, 0, 0, 0, 0, 0, 0, 0, 0, 0, 0, 0, 0, 0, 0, 0, 0, 0, 0, 0, 0, 0, 0, 0, 0, 0, 0, 0, 0, 0, 0, 0, 0, 0, 0, 0, 0, 0, 0, 0, 0, 0, 0, 0, 0, 0, 0, 0, 0, 0, 0, 0, 0, 0, 0, 0, 0, 0, 0, 0, 0, 0, 0, 0, 0, 0, 0, 0, 0, 0, 0, 0, 0, 0, 0, 0, 0, 0, 0, 0, 0, 0, 0, 0, 0, 0, 0, 0, 0, 0, 0, 0, 0, 0, 0, 0, 0, 0, 0, 0, 0, 0, 0, 0, 0, 0, 0, 0, 0, 0, 0, 0, 0, 0, 0, 0, 0, 0, 0, 0, 0, 0, 0, 0, 0, 0, 0, 0, 0, 0, 0, 0, 0, 0, 0, 0, 0, 0, 0, 0, 0, 0, 0, 0, 0, 0, 0, 0, 0, 0, 0, 0, 0, 0, 0, 0, 0, 0, 0, 0, 0, 0, 0, 0, 0, 0, 0, 0, 0, 0, 0, 0, 0, 0, 0, 0, 0, 0, 0, 0, 0, 0, 0, 0, 0, 0, 0, 0, 0, 0, 0, 0, 0, 0, 0, 0, 0, 0, 0, 0, 0, 0, 0, 0, 0, 0, 0, 0, 0, 0, 0, 0, 0, 0, 0, 0, 0, 0, 0, 0, 0, 0, 0, 0, 0, 0, 0, 0, 0, 0, 0, 0, 0, 0, 0, 0, 0, 0, 0, 0, 0, 0, 0, 0, 0, 0, 0, 0, 0, 0, 0, 0, 0, 0, 0, 0, 0, 0, 0, 0, 0, 0, 0, 0, 0, 0, 0, 0, 0, 0, 0, 0, 0, 0, 0, 0, 0, 0, 0, 0, 0, 0, 0, 0, 0, 0, 0, 0, 0, 0, 0, 0, 0, 0, 0, 0, 0, 0, 0, 0, 0, 0, 0, 0, 0, 0, 0, 0, 0, 0, 0, 0, 0, 0, 0, 0, 0, 0, 0, 0, 0, 0, 0, 0, 0, 0, 0, 0, 0, 0, 0, 0, 0, 0, 0, 0, 0, 0, 0, 0, 0, 0, 0, 0, 0, 0, 0, 0, 0, 0, 0, 0, 0, 0, 0, 0, 0, 0, 0, 0, 0, 0, 0, 0, 0, 0, 0, 0, 0, 0, 0, 0, 0, 0, 0, 0, 0, 0, 0, 0, 0, 0, 0, 0, 0, 0, 0, 0, 0, 0, 0, 0, 0, 0, 0, 0, 0, 0, 0, 0, 0, 0, 0, 0, 0, 0, 0, 0, 0, 0, 0, 0, 0, 0, 0, 0, 0, 0, 0, 0, 0, 0, 0, 0, 0, 0, 0, 0, 0, 0, 0, 0, 0, 0, 0, 0, 0, 0, 0, 0, 0, 0, 0, 0, 0, 0, 0, 0, 0, 0, 0, 0, 0, 0, 0, 0, 0, 0, 0, 0, 0, 0, 0, 0, 0, 0, 0, 0, 0, 0, 0, 0, 0, 0, 0, 0, 0, 0, 0, 0, 0, 0, 0, 0, 0, 0, 0, 0, 0, 0, 0, 0, 0, 0, 0, 0, 0, 0, 0, 0, 0, 0, 0, 0, 0, 0, 0, 0, 0, 0, 0, 0, 0, 0, 0, 0, 0, 0, 0, 0, 0, 0, 0, 0, 0, 0, 0, 0, 0, 0, 0, 0, 0, 0, 0, 0, 0, 0, 0, 0, 0, 0, 0, 0, 0, 0, 0, 0, 0, 0, 0, 0, 0, 0, 0, 0, 0, 0, 0, 0, 0, 0, 0, 0, 0, 0, 0, 0, 0, 0, 0, 0, 0, 0, 0, 0, 0, 0, 0, 0, 0, 0, 0, 0, 0, 0, 0, 0, 0, 0, 0, 0, 0, 0, 0, 0, 0, 0, 0, 0, 0, 0, 0, 0, 0, 0, 0, 0, 0, 0, 0, 0, 0, 0, 0, 0, 0, 0, 0, 0, 0, 0, 0, 0, 0, 0, 0, 0, 0, 0, 0, 0, 0, 0, 0, 0, 0, 0, 0, 0, 0, 0, 0, 0, 0, 0, 0, 0, 0, 0, 0, 0, 0, 0, 0, 0, 0, 0, 0, 0, 0, 0, 0, 0, 0, 0, 0, 0, 0, 0, 0, 0, 0, 0, 0, 0, 0, 0, 0, 0, 0, 0, 0, 0, 0, 0, 0, 0, 0, 0, 0, 0, 0, 0, 0, 0, 0, 0, 0, 0, 0, 0, 0, 0, 0, 0, 0, 0, 0, 0, 0, 0, 0, 0, 0, 0, 0, 0, 0, 0, 0, 0, 0, 0, 0, 0, 0, 0, 0, 0, 0, 0, 0, 0, 0, 0, 0, 0, 0, 0, 0, 0, 0, 0, 0, 0, 0, 0, 0, 0, 0, 0, 0, 0, 0, 0, 0, 0, 0, 0, 0, 0, 0, 0, 0, 0, 0, 0, 0, 0, 0, 0, 0, 0, 0, 0, 0, 0, 0, 0, 0, 0, 0, 0, 0, 0, 0, 0, 0, 0, 0, 0, 0, 0, 0, 0, 0, 0, 0, 0, 0, 0, 0, 0, 0, 0, 0, 0, 0, 0, 0, 0, 0, 0, 0, 0, 0, 0, 0, 0, 0, 0, 0, 0, 0, 0, 0, 0, 0, 0, 0, 0, 0, 0, 0, 0, 0, 0, 0, 0, 0, 0, 0, 0, 0, 0, 0, 0, 0, 0, 0, 0, 0, 0, 0, 0, 0, 0, 0, 0, 0, 0, 0, 0, 0, 0, 0, 0, 0, 0, 0, 0, 0, 0, 0, 0, 0, 0, 0, 0, 0, 0, 0, 0, 0, 0, 0, 0, 0, 0, 0, 0, 0, 0, 0, 0, 0, 0, 0, 0, 0, 0, 0, 0, 0, 0, 0, 0, 0, 0, 0, 0, 0, 0, 0, 0, 0, 0, 0, 0, 0, 0, 0, 0, 0, 0, 0, 0, 0, 0, 0, 0, 0, 0, 0, 0, 0, 0, 0, 0, 0, 0, 0, 0, 0, 0, 0, 0, 0, 0, 0, 0, 0, 0, 0, 0, 0, 0, 0, 0, 0, 0, 0, 0, 0, 0, 0, 0, 0, 0, 0, 0, 0, 0, 0, 0, 0, 0, 0, 0, 0, 0, 0, 0, 0, 0, 0, 0, 0, 0, 0, 0, 0, 0, 0, 0, 0, 0, 0, 0, 0, 0, 0, 0, 0, 0, 0, 0, 0, 0, 0, 0, 0, 0, 0, 0, 0, 0, 0, 0, 0, 0, 0, 0, 0, 0, 0, 0, 0, 0, 0, 0, 0, 0, 0, 0, 0, 0, 0, 0, 0, 0, 0, 0, 0, 0, 0, 0, 0, 0, 0, 0, 0, 0, 0, 0, 0, 0, 0, 0, 0, 0, 0, 0, 0, 0, 0, 0, 0, 0, 0, 0, 0, 0, 0, 0, 0, 0, 0, 0, 0, 0, 0, 0, 0, 0, 0, 0, 0, 0, 0, 0, 0, 0, 0, 0, 0, 0, 0, 0, 0, 0, 0, 0, 0, 0, 0, 0, 0, 0, 0, 0, 0, 0, 0, 0, 0, 0, 0, 0, 0, 0, 0, 0, 0, 0, 0, 0, 0, 0, 0, 0, 0, 0, 0, 0, 0, 0, 0, 0, 0, 0, 0, 0, 0, 0, 0, 0, 0, 0, 0, 0, 0, 0, 0, 0, 0, 0, 0, 0, 0, 0, 0, 0, 0, 0, 0, 0, 0, 0, 0, 0, 0, 0, 0, 0, 0, 0, 0, 0, 0, 0, 0, 0, 0, 0, 0, 0, 0, 0, 0, 0, 0, 0, 0, 0, 0, 0, 0, 0, 0, 0, 0, 0, 0, 0, 0, 0, 0, 0, 0, 0, 0, 0, 0, 0, 0, 0, 0, 0, 0, 0, 0, 0, 0, 0, 0, 0, 0, 0, 0, 0, 0, 0, 0, 0, 0, 0, 0, 0, 0, 0, 0, 0, 0, 0, 0, 0, 0, 0, 0, 0, 0, 0, 0, 0, 0, 0, 0, 0, 0, 0, 0, 0, 0, 0, 0, 0, 0, 0, 0, 0, 0, 0, 0, 0, 0, 0, 0, 0, 0, 0, 0, 0, 0, 0, 0, 0, 0, 0, 0, 0, 0, 0, 0, 0, 0, 0, 0, 0, 0, 0, 0, 0, 0, 0, 0, 0, 0, 0, 0, 0, 0, 0, 0, 0, 0, 0, 0, 0, 0, 0, 0, 0, 0, 0, 0, 0, 0, 0, 0, 0, 0, 0, 0, 0, 0, 0, 0, 0, 0, 0, 0, 0, 0, 0, 0, 0, 0, 0, 0, 0, 0, 0, 0, 0, 0, 0, 0, 0, 0, 0, 0, 0, 0, 0, 0, 0, 0, 0, 0, 0, 0, 0, 0, 0, 0, 0, 0, 0, 0, 0, 0, 0, 0, 0, 0, 0, 0, 0, 0, 0, 0, 0, 0, 0, 0, 0, 0, 0, 0, 0, 0, 0, 0, 0, 0, 0, 0, 0, 0, 0, 0, 0, 0, 0, 0, 0, 0, 0, 0, 0, 0, 0, 0, 0, 0, 0, 0, 0, 0, 0, 0, 0, 0, 0, 0, 0, 0, 0, 0, 0, 0, 0, 0, 0, 0, 0, 0, 0, 0, 0, 0, 0, 0, 0, 0, 0, 0, 0, 0, 0, 0, 0, 0, 0, 0, 0, 0, 0, 0, 0, 0, 0, 0, 0, 0, 0, 0, 0, 0, 0, 0, 0, 0, 0, 0, 0, 0, 0, 0, 0, 0, 0, 0, 0, 0, 0, 0, 0, 0, 0, 0, 0, 0, 0, 0, 0, 0, 0, 0, 0, 0, 0, 0, 0, 0, 0, 0, 0, 0, 0, 0, 0, 0, 0, 0, 0, 0, 0, 0, 0, 0, 0, 0, 0, 0, 0, 0, 0, 0, 0, 0, 0, 0, 0, 0, 0, 0, 0, 0, 0, 0, 0, 0, 0, 0, 0, 0, 0, 0, 0, 0, 0, 0, 0, 0, 0, 0, 0, 0, 0, 0, 0, 0, 0, 0, 0, 0, 0, 0, 0, 0, 0, 0, 0, 0, 0, 0, 0, 0, 0, 0, 0, 0, 0, 0, 0, 0, 0, 0, 0, 0, 0, 0, 0, 0, 0, 0, 0, 0, 0, 0, 0, 0, 0, 0, 0, 0, 0, 0, 0, 0, 0, 0, 0, 0, 0, 0, 0, 0, 0, 0, 0, 0, 0, 0, 0, 0, 0, 0, 0, 0, 0, 0, 0, 0, 0, 0, 0, 0, 0, 0, 0, 0, 0, 0, 0, 0, 0, 0, 0, 0, 0, 0, 0, 0, 0, 0, 0, 0, 0, 0, 0, 0, 0, 0, 0, 0, 0, 0, 0, 0, 0, 0, 0, 0, 0, 0, 0, 0, 0, 0, 0, 0, 0, 0, 0, 0, 0, 0, 0, 0, 0, 0, 0, 0, 0, 0, 0, 0, 0, 0, 0, 0, 0, 0, 0, 0, 0, 0, 0, 0, 0, 0, 0, 0, 0, 0, 0, 0, 0, 0, 0, 0, 0, 0, 0, 0, 0, 0, 0, 0, 0, 0, 0, 0, 0, 0, 0, 0, 0, 0, 0, 0, 0, 0, 0, 0, 0, 0, 0, 0, 0, 0, 0, 0, 0, 0, 0, 0, 0, 0, 0, 0, 0, 0, 0, 0, 0, 0, 0, 0, 0, 0, 0, 0, 0, 0, 0, 0, 0, 0, 0, 0, 0, 0, 0, 0, 0, 0, 0, 0, 0, 0, 0, 0, 0, 0, 0, 0, 0, 0, 0, 0, 0, 0, 0, 0, 0, 0, 0, 0, 0, 0, 0, 0, 0, 0, 0, 0, 0, 0, 0, 0, 0, 0, 0, 0, 0, 0, 0, 0, 0, 0, 0, 0, 0, 0, 0, 0, 0, 0, 0, 0, 0, 0, 0, 0, 0, 0, 0, 0, 0, 0, 0, 0, 0, 0, 0, 0, 0, 0, 0, 0, 0, 0, 0, 0, 0, 0, 0, 0, 0, 0, 0, 0, 0, 0, 0, 0, 0, 0, 0, 0, 0, 0, 0, 0, 0, 0, 0, 0, 0, 0, 0, 0, 0, 0, 0, 0, 0, 0, 0, 0, 0, 0, 0, 0, 0, 0, 0, 0, 0, 0, 0, 0, 0, 0, 0, 0, 0, 0, 0, 0, 0, 0, 0, 0, 0, 0, 0, 0, 0, 0, 0, 0, 0, 0, 0, 0, 0, 0, 0, 0, 0, 0, 0, 0, 0, 0, 0, 0, 0, 0, 0, 0, 0, 0, 0, 0, 0, 0, 0, 0, 0, 0, 0, 0, 0, 0, 0, 0, 0, 0, 0, 0, 0, 0, 0, 0, 0, 0, 0, 0, 0, 0, 0, 0, 0, 0, 0, 0, 0, 0, 0, 0, 0, 0, 0, 0, 0, 0, 0, 0, 0, 0, 0, 0, 0, 0, 0, 0, 0, 0, 0, 0, 0, 0, 0, 0, 0, 0, 0, 0, 0, 0, 0, 0, 0, 0, 0, 0, 0, 0, 0, 0, 0, 0, 0, 0, 0, 0, 0, 0, 0, 0, 0, 0, 0, 0, 0, 0, 0, 0, 0, 0, 0, 0, 0, 0, 0, 0, 0, 0, 0, 0, 0, 0, 0, 0, 0, 0, 0, 0, 0, 0, 0, 0, 0, 0, 0, 0, 0, 0, 0, 0, 0, 0, 0, 0, 0, 0, 0, 0, 0, 0, 0, 0, 0, 0, 0, 0, 0, 0, 0, 0, 0, 0, 0, 0, 0, 0, 0, 0, 0, 0, 0, 0, 0, 0, 0, 0, 0, 0, 0, 0, 0, 0, 0, 0, 0, 0, 0, 0, 0, 0, 0, 0, 0, 0, 0, 0, 0, 0, 0, 0, 0, 0, 0, 0, 0, 0, 0, 0, 0, 0, 0, 0, 0, 0, 0, 0, 0, 0, 0, 0, 0, 0, 0, 0, 0, 0, 0, 0, 0, 0, 0, 0, 0, 0, 0, 0, 0, 0, 0, 0, 0, 0, 0, 0, 0, 0, 0, 0, 0, 0, 0, 0, 0, 0, 0, 0, 0, 0, 0, 0, 0, 0, 0, 0, 0, 0, 0, 0, 0, 0, 0, 0, 0, 0, 0, 0, 0, 0, 0, 0, 0, 0, 0, 0, 0, 0, 0, 0, 0, 0, 0, 0, 0, 0, 0, 0, 0, 0, 0, 0, 0, 0, 0, 0, 0, 0, 0, 0, 0, 0, 0, 0, 0, 0, 0, 0, 0, 0, 0, 0, 0, 0, 0, 0, 0, 0, 0, 0, 0, 0, 0, 0, 0, 0, 0, 0, 0, 0, 0, 0, 0, 0, 0, 0, 0, 0, 0, 0, 0, 0, 0, 0, 0, 0, 0, 0, 0, 0, 0, 0, 0, 0, 0, 0, 0, 0, 0, 0, 0, 0, 0, 0, 0, 0, 0, 0, 0, 0, 0, 0, 0, 0, 0, 0, 0, 0, 0, 0, 0, 0, 0, 0, 0, 0, 0, 0, 0, 0, 0, 0, 0, 0, 0, 0, 0, 0, 0, 0, 0, 0, 0, 0, 0, 0, 0, 0, 0, 0, 0, 0, 0, 0, 0, 0, 0, 0, 0, 0, 0, 0, 0, 0, 0, 0, 0, 0, 0, 0, 0, 0, 0, 0, 0, 0, 0, 0, 0, 0, 0, 0, 0, 0, 0, 0, 0, 0, 0, 0, 0, 0, 0, 0, 0, 0, 0, 0, 0, 0, 0, 0, 0, 0, 0, 0, 0, 0, 0, 0, 0, 0, 0, 0, 0, 0, 0, 0, 0, 0, 0, 0, 0, 0, 0, 0, 0, 0, 0, 0, 0, 0, 0, 0, 0, 0, 0, 0, 0, 0, 0, 0, 0, 0, 0, 0, 0, 0, 0, 0, 0, 0, 0, 0, 0, 0, 0, 0, 0, 0, 0, 0, 0, 0, 0, 0, 0, 0, 0, 0, 0, 0, 0, 0, 0, 0, 0, 0, 0, 0, 0, 0, 0, 0, 0, 0, 0, 0, 0, 0, 0, 0, 0, 0, 0, 0, 0, 0, 0, 0, 0, 0, 0, 0, 0, 0, 0, 0, 0, 0, 0, 0, 0, 0, 0, 0, 0, 0, 0, 0, 0, 0, 0, 0, 0, 0, 0, 0, 0, 0, 0, 0, 0, 0, 0, 0, 0, 0, 0, 0, 0, 0, 0, 0, 0, 0, 0, 0, 0, 0, 0, 0, 0, 0, 0, 0, 0, 0, 0, 0, 0, 0, 0, 0, 0, 0, 0, 0, 0, 0, 0, 0, 0, 0, 0, 0, 0, 0, 0, 0, 0, 0, 0, 0, 0, 0, 0, 0, 0, 0, 0, 0, 0, 0, 0, 0, 0, 0, 0, 0, 0, 0, 0, 0, 0, 0, 0, 0, 0, 0, 0, 0, 0, 0, 0, 0, 0, 0, 0, 0, 0, 0, 0, 0, 0, 0, 0, 0, 0, 0, 0, 0, 0, 0, 0, 0, 0, 0, 0, 0, 0, 0, 0, 0, 0, 0, 0, 0, 0, 0, 0, 0, 0, 0, 0, 0, 0, 0, 0, 0, 0, 0, 0, 0, 0, 0, 0, 0, 0, 0, 0, 0, 0, 0, 0, 0, 0, 0, 0, 0, 0, 0, 0, 0, 0, 0, 0, 0, 0, 0, 0, 0, 0, 0, 0, 0, 0, 0, 0, 0, 0, 0, 0, 0, 0, 0, 0, 0, 0, 0, 0, 0, 0, 0, 0, 0, 0, 0, 0, 0, 0, 0, 0, 0, 0, 0, 0, 0, 0, 0, 0, 0, 0, 0, 0, 0, 0, 0, 0, 0, 0, 0, 0, 0, 0, 0, 0, 0, 0, 0, 0, 0, 0, 0, 0, 0, 0, 0, 0, 0, 0, 0, 0, 0, 0, 0, 0, 0, 0, 0, 0, 0, 0, 0, 0, 0, 0, 0, 0, 0, 0, 0, 0, 0, 0, 0, 0, 0, 0, 0, 0, 0, 0, 0, 0, 0, 0, 0, 0, 0, 0, 0, 0, 0, 0, 0, 0, 0, 0, 0, 0, 0, 0, 0, 0, 0, 0, 0, 0, 0, 0, 0, 0, 0, 0, 0, 0, 0, 0, 0, 0, 0, 0, 0, 0, 0, 0, 0, 0, 0, 0, 0, 0, 0, 0, 0, 0, 0, 0, 0, 0, 0, 0, 0, 0, 0, 0, 0, 0, 0, 0, 0, 0, 0, 0, 0, 0, 0, 0, 0, 0, 0, 0, 0, 0, 0, 0, 0, 0, 0, 0, 0, 0, 0, 0, 0, 0, 0, 0, 0, 0, 0, 0, 0, 0, 0, 0, 0, 0, 0, 0, 0, 0, 0, 0, 0, 0, 0, 0, 0, 0, 0, 0, 0, 0, 0, 0, 0, 0, 0, 0, 0, 0, 0, 0, 0, 0, 0, 0, 0, 0, 0, 0, 0, 0, 0, 0, 0, 0, 0, 0, 0, 0, 0, 0, 0, 0, 0, 0, 0, 0, 0, 0, 0, 0, 0, 0, 0, 0, 0, 0, 0, 0, 0, 0, 0, 0, 0, 0, 0, 0, 0, 0, 0, 0, 0, 0, 0, 0, 0, 0, 0, 0, 0, 0, 0, 0, 0, 0, 0, 0, 0, 0, 0, 0, 0, 0, 0, 0, 0, 0, 0, 0, 0, 0, 0, 0, 0, 0, 0, 0, 0, 0, 0, 0, 0, 0, 0, 0, 0, 0, 0, 0, 0, 0, 0, 0, 0, 0, 0, 0, 0, 0, 0, 0, 0, 0, 0, 0, 0, 0, 0, 0, 0, 0, 0, 0, 0, 0, 0, 0, 0, 0, 0, 0, 0, 0, 0, 0, 0, 0, 0, 0, 0, 0, 0, 0, 0, 0, 0, 0, 0, 0, 0, 0, 0, 0, 0, 0, 0, 0, 0, 0, 0, 0, 0, 0, 0, 0, 0, 0, 0, 0, 0, 0, 0, 0, 0, 0, 0, 0, 0, 0, 0, 0, 0, 0, 0, 0, 0, 0, 0, 0, 0, 0, 0, 0, 0, 0, 0, 0, 0, 0, 0, 0, 0, 0, 0, 0, 0, 0, 0, 0, 0, 0, 0, 0, 0, 0, 0, 0, 0, 0, 0, 0, 0, 0, 0, 0, 0, 0, 0, 0, 0, 0, 0, 0, 0, 0, 0, 0, 0, 0, 0, 0, 0, 0, 0, 0, 0, 0, 0, 0, 0, 0, 0, 0, 0, 0, 0, 0, 0, 0, 0, 0, 0, 0, 0, 0, 0, 0, 0, 0, 0, 0, 0, 0, 0, 0, 0, 0, 0, 0, 0, 0, 0, 0, 0, 0, 0, 0, 0, 0, 0, 0, 0, 0, 0, 0, 0, 0, 0, 0, 0, 0, 0, 0, 0, 0, 0, 0, 0, 0, 0, 0, 0, 0, 0, 0, 0, 0, 0, 0, 0, 0, 0, 0, 0, 0, 0, 0, 0, 0, 0, 0, 0, 0, 0, 0, 0, 0, 0, 0, 0, 0, 0, 0, 0, 0, 0, 0, 0, 0, 0, 0, 0, 0, 0, 0, 0, 0, 0, 0, 0, 0, 0, 0, 0, 0, 0, 0, 0, 0, 0, 0, 0, 0, 0, 0, 0, 0, 0, 0, 0, 0, 0, 0, 0, 0, 0, 0, 0, 0, 0, 0, 0, 0, 0, 0, 0, 0, 0, 0, 0, 0, 0, 0, 0, 0, 0, 0, 0, 0, 0, 0, 0, 0, 0, 0, 0, 0, 0, 0, 0, 0, 0, 0, 0, 0, 0, 0, 0, 0, 0, 0, 0, 0, 0, 0, 0, 0, 0, 0, 0, 0, 0, 0, 0, 0, 0, 0, 0, 0, 0, 0, 0, 0, 0, 0, 0, 0, 0, 0, 0, 0, 0, 0, 0, 0, 0, 0, 0, 0, 0, 0, 0, 0, 0, 0, 0, 0, 0, 0, 0, 0, 0, 0, 0, 0, 0, 0, 0, 0, 0, 0, 0, 0, 0, 0, 0, 0, 0, 0, 0, 0, 0, 0, 0, 0, 0, 0, 0, 0, 0, 0, 0, 0, 0, 0, 0, 0, 0, 0, 0, 0, 0, 0, 0, 0, 0, 0, 0, 0, 0, 0, 0, 0, 0, 0, 0, 0, 0, 0, 0, 0, 0, 0, 0, 0, 0, 0, 0, 0, 0, 0, 0, 0, 0, 0, 0, 0, 0, 0, 0, 0, 0, 0, 0, 0, 0, 0, 0, 0, 0, 0, 0, 0, 0, 0, 0, 0, 0, 0, 0, 0, 0, 0, 0, 0, 0, 0, 0, 0, 0, 0, 0, 0, 0, 0, 0, 0, 0, 0, 0, 0, 0, 0, 0, 0, 0, 0, 0, 0, 0, 0, 0, 0, 0, 0, 0, 0, 0, 0, 0, 0, 0, 0, 0, 0, 0, 0, 0, 0, 0, 0, 0, 0, 0, 0, 0, 0, 0, 0, 0, 0, 0, 0, 0, 0, 0, 0, 0, 0, 0, 0, 0, 0, 0, 0, 0, 0, 0, 0, 0, 0, 0, 0, 0, 0, 0, 0, 0, 0, 0, 0, 0, 0, 0, 0, 0, 0, 0, 0, 0, 0, 0, 0, 0, 0, 0, 0, 0, 0, 0, 0, 0, 0, 0, 0, 0, 0, 0, 0, 0, 0, 0, 0, 0, 0, 0, 0, 0, 0, 0, 0, 0, 0, 0, 0, 0, 0, 0, 0, 0, 0, 0, 0, 0, 0, 0, 0, 0, 0, 0, 0, 0, 0, 0, 0, 0, 0, 0, 0, 0, 0, 0, 0, 0, 0, 0, 0, 0, 0, 0, 0, 0, 0, 0, 0, 0, 0, 0, 0, 0, 0, 0, 0, 0, 0, 0, 0, 0, 0, 0, 0, 0, 0, 0, 0, 0, 0, 0, 0, 0, 0, 0, 0, 0, 0, 0, 0, 0, 0, 0, 0, 0, 0, 0, 0, 0, 0, 0, 0, 0, 0, 0, 0, 0, 0, 0, 0, 0, 0, 0, 0, 0, 0, 0]\n",
      "None\n",
      "None\n",
      "None\n",
      "None\n",
      "None\n",
      "0\n",
      "None\n",
      "1\n",
      "0\n",
      "None\n",
      "1\n",
      "0\n",
      "None\n",
      "1\n",
      "[2, 2, 2, 2, 2, 2, 2, 2, 2, 2, 2, 2, 2, 2, 2, 2, 2, 2, 2, 2, 2, 2, 2, 2, 2, 2, 2, 2, 2, 2, 2, 2, 2, 2, 2, 2, 2, 2, 2, 2, 2, 2, 2, 2, 2, 2, 2, 2, 2, 2, 2, 2, 2, 2, 2, 2, 2, 2, 2, 2, 2, 2, 2, 2, 2, 2, 2, 2, 2, 2, 2, 2, 2, 2, 2, 2, 2, 2, 2, 2, 2, 2, 2, 2, 2, 2, 2, 2, 2, 2, 2, 2, 2, 2, 2, 2, 2, 2, 2, 2, 2, 2, 2, 2, 2, 2, 2, 2, 2, 2, 2, 2, 2, 2, 2, 2, 2, 2, 2, 2, 2, 2, 2, 2, 2, 2, 2, 2, 2, 2, 2, 2, 2, 2, 2, 2, 2, 2, 2, 2, 2, 2, 2, 2, 2, 2, 2, 2, 2, 2, 2, 2, 2, 2, 2, 2, 2, 2, 2, 2, 2, 2, 2, 2, 2, 2, 2, 2, 2, 2, 2, 2, 2, 2, 2, 2, 2, 2, 2, 2, 2, 2, 2, 2, 2, 2, 2, 2, 2, 2, 2, 2, 2, 2, 2, 2, 2, 2, 2, 2, 2, 2, 2, 2, 2, 2, 2, 2, 2, 2, 2, 2, 2, 2, 2, 2, 2, 2, 2, 2, 2, 2, 2, 2, 2, 2, 2, 2, 2, 2, 2, 2, 2, 2, 2, 2, 2, 2, 2, 2, 2, 2, 2, 2, 2, 2, 2, 2, 2, 2, 2, 2, 2, 2, 2, 2, 2, 2, 2, 2, 2, 2, 2, 2, 2, 2, 2, 2, 2, 2, 2, 2, 2, 2, 2, 2, 2, 2, 2, 2, 2, 2, 2, 2, 2, 2, 2, 2, 2, 2, 2, 2, 2, 2, 2, 2, 2, 2, 2, 2, 2, 2, 2, 2, 2, 2, 2, 2, 2, 2, 2, 2, 2, 2, 2, 2, 2, 2, 2, 2, 2, 2, 2, 2, 2, 2, 2, 2, 2, 2, 2, 2, 2, 2, 2, 2, 2, 2, 2, 2, 2, 2, 2, 2, 2, 2, 2, 2, 2, 2, 2, 2, 2, 2, 2, 2, 2, 2, 2, 2, 2, 2, 2, 2, 2, 2, 2, 2, 2, 2, 2, 2, 2, 2, 2, 2, 2, 2, 2, 2, 2, 2, 2, 2, 2, 2, 2, 2, 2, 2, 2, 2, 2, 2, 2, 2, 2, 2, 2, 2, 2, 2, 2, 2, 2, 2, 2, 2, 2, 2, 2, 2, 2, 2, 2, 2, 2, 2, 2, 2, 2, 2, 2, 2, 2, 2, 2, 2, 2, 2, 2, 2, 2, 2, 2, 2, 2, 2, 2, 2, 2, 2, 2, 2, 2, 2, 2, 2, 2, 2, 2, 2, 2, 2, 2, 2, 2, 2, 2, 2, 2, 2, 2, 2, 2, 2, 2, 2, 2, 2, 2, 2, 2, 2, 2, 2, 2, 2, 2, 2, 2, 2, 2, 2, 2, 2, 2, 2, 2, 2, 2, 2, 2, 2, 2, 2, 2, 2, 2, 2, 2, 2, 2, 2, 2, 2, 2, 2, 2, 2, 2, 2, 2, 2, 2, 2, 2, 2, 2, 2, 2, 2, 2, 2, 2, 2, 2, 2, 2, 2, 2, 2, 2, 2, 2, 2, 2, 2, 2, 2, 2, 2, 2, 2, 2, 2, 2, 2, 2, 2, 2, 2, 2, 2, 2, 2, 2, 2, 2, 2, 2, 2, 2, 2, 2, 2, 2, 2, 2, 2, 2, 2, 2, 2, 2, 2, 2, 2, 2, 2, 2, 2, 2, 2, 2, 2, 2, 2, 2, 2, 2, 2, 2, 2, 2, 2, 2, 2, 2, 2, 2, 2, 2, 2, 2, 2, 2, 2, 2, 2, 2, 2, 2, 2, 2, 2, 2, 2, 2, 2, 2, 2, 2, 2, 2, 2, 2, 2, 2, 2, 2, 2, 2, 2, 2, 2, 2, 2, 2, 2, 2, 2, 2, 2, 2, 2, 2, 2, 2, 2, 2, 2, 2, 2, 2, 2, 2, 2, 2, 2, 2, 2, 2, 2, 2, 2, 2, 2, 2, 2, 2, 2, 2, 2, 2, 2, 2, 2, 2, 2, 2, 2, 2, 2, 2, 2, 2, 2, 2, 2, 2, 2, 2, 2, 2, 2, 2, 2, 2, 2, 2, 2, 2, 2, 2, 2, 2, 2, 2, 2, 2, 2, 2, 2, 2, 2, 2, 2, 2, 2, 2, 2, 2, 2, 2, 2, 2, 2, 2, 2, 2, 2, 2, 2, 2, 2, 2, 2, 2, 2, 2, 2, 2, 2, 2, 2, 2, 2, 2, 2, 2, 2, 2, 2, 2, 2, 2, 2, 2, 2, 2, 2, 2, 2, 2, 2, 2, 2, 2, 2, 2, 2, 2, 2, 2, 2, 2, 2, 2, 2, 2, 2, 2, 2, 2, 2, 2, 2, 2, 2, 2, 2, 2, 2, 2, 2, 2, 2, 2, 2, 2, 2, 2, 2, 2, 2, 2, 2, 2, 2, 2, 2, 2, 2, 2, 2, 2, 2, 2, 2, 2, 2, 2, 2, 2, 2, 2, 2, 2, 2, 2, 2, 2, 2, 2, 2, 2, 2, 2, 2, 2, 2, 2, 2, 2, 2, 2, 2, 2, 2, 2, 2, 2, 2, 2, 2, 2, 2, 2, 2, 2, 2, 2, 2, 2, 2, 2, 2, 2, 2, 2, 2, 2, 2, 2, 2, 2, 2, 2, 2, 2, 2, 2, 2, 2, 2, 2, 2, 2, 2, 2, 2, 2, 2, 2, 2, 2, 2, 2, 2, 2, 2, 2, 2, 2, 2, 2, 2, 2, 2, 2, 2, 2, 2, 2, 2, 2, 2, 2, 2, 2, 2, 2, 2, 2, 2, 2, 2, 2, 2, 2, 2, 2, 2, 2, 2, 2, 2, 2, 2, 2, 2, 2, 2, 2, 2, 2, 2, 2, 2, 2, 2, 2, 2, 2, 2, 2, 2, 2, 2, 2, 2, 2, 2, 2, 2, 2, 2, 2, 2, 2, 2, 2, 2, 2, 2, 2, 2, 2, 2, 2, 2, 2, 2, 2, 2, 2, 2, 2, 2, 2, 2, 2, 2, 2, 2, 2, 2, 2, 2, 2, 2, 2, 2, 2, 2, 2, 2, 2, 2, 2, 2, 2, 2, 2, 2, 2, 2, 2, 2, 2, 2, 2, 2, 2, 2, 2, 2, 2, 2, 2, 2, 2, 2, 2, 2, 2, 2, 2, 2, 2, 2, 2, 2, 2, 2, 2, 2, 2, 2, 2, 2, 2, 2, 2, 2, 2, 2, 2, 2, 2, 2, 2, 2, 2, 2, 2, 2, 2, 2, 2, 2, 2, 2, 2, 2, 2, 2, 2, 2, 2, 2, 2, 2, 2, 2, 2, 2, 2, 2, 2, 2, 2, 2, 2, 2, 2, 2, 2, 2, 2, 2, 2, 2, 2, 2, 2, 2, 2, 2, 2, 2, 2, 2, 2, 2, 2, 2, 2, 2, 2, 2, 2, 2, 2, 2, 2, 2, 2, 2, 2, 2, 2, 2, 2, 2, 2, 2, 2, 2, 2, 2, 2, 2, 2, 2, 2, 2, 2, 2, 2, 2, 2, 2, 2, 2, 2, 2, 2, 2, 2, 2, 2, 2, 2, 2, 2, 2, 2, 2, 2, 2, 2, 2, 2, 2, 2, 2, 2, 2, 2, 2, 2, 2, 2, 2, 2, 2, 2, 2, 2, 2, 2, 2, 2, 2, 2, 2, 2, 2, 2, 2, 2, 2, 2, 2, 2, 2, 2, 2, 2, 2, 2, 2, 2, 2, 2, 2, 2, 2, 2, 2, 2, 2, 2, 2, 2, 2, 2, 2, 2, 2, 2, 2, 2, 2, 2, 2, 2, 2, 2, 2, 2, 2, 2, 2, 2, 2, 2, 2, 2, 2, 2, 2, 2, 2, 2, 2, 2, 2, 2, 2, 2, 2, 2, 2, 2, 2, 2, 2, 2, 2, 2, 2, 2, 2, 2, 2, 2, 2, 2, 2, 2, 2, 2, 2, 2, 2, 2, 2, 2, 2, 2, 2, 2, 2, 2, 2, 2, 2, 2, 2, 2, 2, 2, 2, 2, 2, 2, 2, 2, 2, 2, 2, 2, 2, 2, 2, 2, 2, 2, 2, 2, 2, 2, 2, 2, 2, 2, 2, 2, 2, 2, 2, 2, 2, 2, 2, 2, 2, 2, 2, 2, 2, 2, 2, 2, 2, 2, 2, 2, 2, 2, 2, 2, 2, 2, 2, 2, 2, 2, 2, 2, 2, 2, 2, 2, 2, 2, 2, 2, 2, 2, 2, 2, 2, 2, 2, 2, 2, 2, 2, 2, 2, 2, 2, 2, 2, 2, 2, 2, 2, 2, 2, 2, 2, 2, 2, 2, 2, 2, 2, 2, 2, 2, 2, 2, 2, 2, 2, 2, 2, 2, 2, 2, 2, 2, 2, 2, 2, 2, 2, 2, 2, 2, 2, 2, 2, 2, 2, 2, 2, 2, 2, 2, 2, 2, 2, 2, 2, 2, 2, 2, 2, 2, 2, 2, 2, 2, 2, 2, 2, 2, 2, 2, 2, 2, 2, 2, 2, 2, 2, 2, 2, 2, 2, 2, 2, 2, 2, 2, 2, 2, 2, 2, 2, 2, 2, 2, 2, 2, 2, 2, 2, 2, 2, 2, 2, 2, 2, 2, 2, 2, 2, 2, 2, 2, 2, 2, 2, 2, 2, 2, 2, 2, 2, 2, 2, 2, 2, 2, 2, 2, 2, 2, 2, 2, 2, 2, 2, 2, 2, 2, 2, 2, 2, 2, 2, 2, 2, 2, 2, 2, 2, 2, 2, 2, 2, 2, 2, 2, 2, 2, 2, 2, 2, 2, 2, 2, 2, 2, 2, 2, 2, 2, 2, 2, 2, 2, 2, 2, 2, 2, 2, 2, 2, 2, 2, 2, 2, 2, 2, 2, 2, 2, 2, 2, 2, 2, 2, 2, 2, 2, 2, 2, 2, 2, 2, 2, 2, 2, 2, 2, 2, 2, 2, 2, 2, 2, 2, 2, 2, 2, 2, 2, 2, 2, 2, 2, 2, 2, 2, 2, 2, 2, 2, 2, 2, 2, 2, 2, 2, 2, 2, 2, 2, 2, 2, 2, 2, 2, 2, 2, 2, 2, 2, 2, 2, 2, 2, 2, 2, 2, 2, 2, 2, 2, 2, 2, 2, 2, 2, 2, 2, 2, 2, 2, 2, 2, 2, 2, 2, 2, 2, 2, 2, 2, 2, 2, 2, 2, 2, 2, 2, 2, 2, 2, 2, 2, 2, 2, 2, 2, 2, 2, 2, 2, 2, 2, 2, 2, 2, 2, 2, 2, 2, 2, 2, 2, 2, 2, 2, 2, 2, 2, 2, 2, 2, 2, 2, 2, 2, 2, 2, 2, 2, 2, 2, 2, 2, 2, 2, 2, 2, 2, 2, 2, 2, 2, 2, 2, 2, 2, 2, 2, 2, 2, 2, 2, 2, 2, 2, 2, 2, 2, 2, 2, 2, 2, 2, 2, 2, 2, 2, 2, 2, 2, 2, 2, 2, 2, 2, 2, 2, 2, 2, 2, 2, 2, 2, 2, 2, 2, 2, 2, 2, 2, 2, 2, 2, 2, 2, 2, 2, 2, 2, 2, 2, 2, 2, 2, 2, 2, 2, 2, 2, 2, 2, 2, 2, 2, 2, 2, 2, 2, 2, 2, 2, 2, 2, 2, 2, 2, 2, 2, 2, 2, 2, 2, 2, 2, 2, 2, 2, 2, 2, 2, 2, 2, 2, 2, 2, 2, 2, 2, 2, 2, 2, 2, 2, 2, 2, 2, 2, 2, 2, 2, 2, 2, 2, 2, 2, 2, 2, 2, 2, 2, 2, 2, 2, 2, 2, 2, 2, 2, 2, 2, 2, 2, 2, 2, 2, 2, 2, 2, 2, 2, 2, 2, 2, 2, 2, 2, 2, 2, 2, 2, 2, 2, 2, 2, 2, 2, 2, 2, 2, 2, 2, 2, 2, 2, 2, 2, 2, 2, 2, 2, 2, 2, 2, 2, 2, 2, 2, 2, 2, 2, 2, 2, 2, 2, 2, 2, 2, 2, 2, 2, 2, 2, 2, 2, 2, 2, 2, 2, 2, 2, 2, 2, 2, 2, 2, 2, 2, 2, 2, 2, 2, 2, 2, 2, 2, 2, 2, 2, 2, 2, 2, 2, 2, 2, 2, 2, 2, 2, 2, 2, 2, 2, 2, 2, 2, 2, 2, 2, 2, 2, 2, 2, 2, 2, 2, 2, 2, 2, 2, 2, 2, 2, 2, 2, 2, 2, 2, 2, 2, 2, 2, 2, 2, 2, 2, 2, 2, 2, 2, 2, 2, 2, 2, 2, 2, 2, 2, 2, 2, 2, 2, 2, 2, 2, 2, 2, 2, 2, 2, 2, 2, 2, 2, 2, 2, 2, 2, 2, 2, 2, 2, 2, 2, 2, 2, 2, 2, 2, 2, 2, 2, 2, 2, 2, 2, 2, 2, 2, 2, 2, 2, 2, 2, 2, 2, 2, 2, 2, 2, 2, 2, 2, 2, 2, 2, 2, 2, 2, 2, 2, 2, 2, 2, 2, 2, 2, 2, 2, 2, 2, 2, 2, 2, 2, 2, 2, 2, 2, 2, 2, 2, 2, 2, 2, 2, 2, 2, 2, 2, 2, 2, 2, 2, 2, 2, 2, 2, 2, 2, 2, 2, 2, 2, 2, 2, 2, 2, 2, 2, 2, 2, 2, 2, 2, 2, 2, 2, 2, 2, 2, 2, 2, 2, 2, 2, 2, 2, 2, 2, 2, 2, 2, 2, 2, 2, 2, 2, 2, 2, 2, 2, 2, 2, 2, 2, 2, 2, 2, 2, 2, 2, 2, 2, 2, 2, 2, 2, 2, 2, 2, 2, 2, 2, 2, 2, 2, 2, 2, 2, 2, 2, 2, 2, 2, 2, 2, 2, 2, 2, 2, 2, 2, 2, 2, 2, 2, 2, 2, 2, 2, 2, 2, 2, 2, 2, 2, 2, 2, 2, 2, 2, 2, 2, 2, 2, 2, 2, 2, 2, 2, 2, 2, 2, 2, 2, 2, 2, 2, 2, 2, 2, 2, 2, 2, 2, 2, 2, 2, 2, 2, 2, 2, 2, 2, 2, 2, 2, 2, 2, 2, 2, 2, 2, 2, 2, 2, 2, 2, 2, 2, 2, 2, 2, 2, 2, 2, 2, 2, 2, 2, 2, 2, 2, 2, 2, 2, 2, 2, 2, 2, 2, 2, 2, 2, 2, 2, 2, 2, 2, 2, 2, 2, 2, 2, 2, 2, 2, 2, 2, 2, 2, 2, 2, 2, 2, 2, 2, 2, 2, 2, 2, 2, 2, 2, 2, 2, 2, 2, 2, 2, 2, 2, 2, 2, 2, 2, 2, 2, 2, 2, 2, 2, 2, 2, 2, 2, 2, 2, 2, 2, 2, 2, 2, 2, 2, 2, 2, 2, 2, 2, 2, 2, 2, 2, 2, 2, 2, 2, 2, 2, 2, 2, 2, 2, 2, 2, 2, 2, 2, 2, 2, 2, 2, 2, 2, 2, 2, 2, 2, 2, 2, 2, 2, 2, 2, 2, 2, 2, 2, 2, 2, 2, 2, 2, 2, 2, 2, 2, 2, 2, 2, 2, 2, 2, 2, 2, 2, 2, 2, 2, 2, 2, 2, 2, 2, 2, 2, 2, 2, 2, 2, 2, 2, 2, 2, 2, 2, 2, 2, 2, 2, 2, 2, 2, 2, 2, 2, 2, 2, 2, 2, 2, 2, 2, 2, 2, 2, 2, 2, 2, 2, 2, 2, 2, 2, 2, 2, 2, 2, 2, 2, 2, 2, 2, 2, 2, 2, 2, 2, 2, 2, 2, 2, 2, 2, 2, 2, 2, 2, 2, 2, 2, 2, 2, 2, 2, 2, 2, 2, 2, 2, 2, 2, 2, 2, 2, 2, 2, 2, 2, 2, 2, 2, 2, 2, 2, 2, 2, 2, 2, 2, 2, 2, 2, 2, 2, 2, 2, 2, 2, 2, 2, 2, 2, 2, 2, 2, 2, 2, 2, 2, 2, 2, 2, 2, 2, 2, 2, 2, 2, 2, 2, 2, 2, 2, 2, 2, 2, 2, 2, 2, 2, 2, 2, 2, 2, 2, 2, 2, 2, 2, 2, 2, 2, 2, 2, 2, 2, 2, 2, 2, 2, 2, 2, 2, 2, 2, 2, 2, 2, 2, 2, 2, 2, 2, 2, 2, 2, 2, 2, 2, 2, 2, 2, 2, 2, 2, 2, 2, 2, 2, 2, 2, 2, 2, 2, 2, 2, 2, 2, 2, 2, 2, 2, 2, 2, 2, 2, 2, 2, 2, 2, 2, 2, 2, 2, 2, 2, 2, 2, 2, 2, 2, 2, 2, 2, 2, 2, 2, 2, 2, 2, 2, 2, 2, 2, 2, 2, 2, 2, 2, 2, 2, 2, 2, 2, 2, 2, 2, 2, 2, 2, 2, 2, 2, 2, 2, 2, 2, 2, 2, 2, 2, 2, 2, 2, 2, 2, 2, 2, 2, 2, 2, 2, 2, 2, 2, 2, 2, 2, 2, 2, 2, 2, 2, 2, 2, 2, 2, 2, 2, 2, 2, 2, 2, 2, 2, 2, 2, 2, 2, 2, 2, 2, 2, 2, 2, 2, 2, 2, 2, 2, 2, 2, 2, 2, 2, 2, 2, 2, 2, 2, 2, 2, 2, 2, 2, 2, 2, 2, 2, 2, 2, 2, 2, 2, 2, 2, 2, 2, 2, 2, 2, 2, 2, 2, 2, 2, 2, 2, 2, 2, 2, 2, 2, 2, 2, 2, 2, 2, 2, 2, 2, 2, 2, 2, 2, 2, 2, 2, 2, 2, 2, 2, 2, 2, 2, 2, 2, 2, 2, 2, 2, 2, 2, 2, 2, 2, 2, 2, 2, 2, 2, 2, 2, 2, 2, 2, 2, 2, 2, 2, 2, 2, 2, 2, 2, 2, 2, 2, 2, 2, 2, 2, 2, 2, 2, 2, 2, 2, 2, 2, 2, 2, 2, 2, 2, 2, 2, 2, 2, 2, 2, 2, 2, 2, 2, 2, 2, 2, 2, 2, 2, 2, 2, 2, 2, 2, 2, 2, 2, 2, 2, 2, 2, 2, 2, 2, 2, 2, 2, 2, 2, 2, 2, 2, 2, 2, 2, 2, 2, 2, 2, 2, 2, 2, 2, 2, 2, 2, 2, 2, 2, 2, 2, 2, 2, 2, 2, 2, 2, 2, 2, 2, 2, 2, 2, 2, 2, 2, 2, 2, 2, 2, 2, 2, 2, 2, 2, 2, 2, 2, 2, 2, 2, 2, 2, 2, 2, 2, 2, 2, 2, 2, 2, 2, 2, 2, 2, 2, 2, 2, 2, 2, 2, 2, 2, 2, 2, 2, 2, 2, 2, 2, 2, 2, 2, 2, 2, 2, 2, 2, 2, 2, 2, 2, 2, 2, 2, 2, 2, 2, 2, 2, 2, 2, 2, 2, 2, 2, 2, 2, 2, 2, 2, 2, 2, 2, 2, 2, 2, 2, 2, 2, 2, 2, 2, 2, 2, 2, 2, 2, 2, 2, 2, 2, 2, 2, 2, 2, 2, 2, 2, 2, 2, 2, 2, 2, 2, 2, 2, 2, 2, 2, 2, 2, 2, 2, 2, 2, 2, 2, 2, 2, 2, 2, 2, 2, 2, 2, 2, 2, 2, 2, 2, 2, 2, 2, 2, 2, 2, 2, 2, 2, 2, 2, 2, 2, 2, 2, 2, 2, 2, 2, 2, 2, 2, 2, 2, 2, 2, 2, 2, 2, 2, 2, 2, 2, 2, 2, 2, 2, 2, 2, 2, 2, 2, 2, 2, 2, 2, 2, 2, 2, 2, 2, 2, 2, 2, 2, 2, 2, 2, 2, 2, 2, 2, 2, 2, 2, 2, 2, 2, 2, 2, 2, 2, 2, 2, 2, 2, 2, 2, 2, 2, 2, 2, 2, 2, 2, 2, 2, 2, 2, 2, 2, 2, 2, 2, 2, 2, 2, 2, 2, 2, 2, 2, 2, 2, 2, 2, 2, 2, 2, 2, 2, 2, 2, 2, 2, 2, 2, 2, 2, 2, 2, 2, 2, 2, 2, 2, 2, 2, 2, 2, 2, 2, 2, 2, 2, 2, 2, 2, 2, 2, 2, 2, 2, 2, 2, 2, 2, 2, 2, 2, 2, 2, 2, 2, 2, 2, 2, 2, 2, 2, 2, 2, 2, 2, 2, 2, 2, 2, 2, 2, 2, 2, 2, 2, 2, 2, 2, 2, 2, 2, 2, 2, 2, 2, 2, 2, 2, 2, 2, 2, 2, 2, 2, 2, 2, 2, 2, 2, 2, 2, 2, 2, 2, 2, 2, 2, 2, 2, 2, 2, 2, 2, 2, 2, 2, 2, 2, 2, 2, 2, 2, 2, 2, 2, 2, 2, 2, 2, 2, 2, 2, 2, 2, 2, 2, 2, 2, 2, 2, 2, 2, 2, 2, 2, 2, 2, 2, 2, 2, 2, 2, 2, 2, 2, 2, 2, 2, 2, 2, 2, 2, 2, 2, 2, 2, 2, 2, 2, 2, 2, 2, 2, 2, 2, 2, 2, 2, 2, 2, 2, 2, 2, 2, 2, 2, 2, 2, 2, 2, 2, 2, 2, 2, 2, 2, 2, 2, 2, 2, 2, 2, 2, 2, 2, 2, 2, 2, 2, 2, 2, 2, 2, 2, 2, 2, 2, 2, 2, 2, 2, 2, 2, 2, 2, 2, 2, 2, 2, 2, 2, 2, 2, 2, 2, 2, 2, 2, 2, 2, 2, 2, 2, 2, 2, 2, 2, 2, 2, 2, 2, 2, 2, 2, 2, 2, 2, 2, 2, 2, 2, 2, 2, 2, 2, 2, 2, 2, 2, 2, 2, 2, 2, 2, 2, 2, 2, 2, 2, 2, 2, 2, 2, 2, 2, 2, 2, 2, 2, 2, 2, 2, 2, 2, 2, 2, 2, 2, 2, 2, 2, 2, 2, 2, 2, 2, 2, 2, 2, 2, 2, 2, 2, 2, 2, 2, 2, 2, 2, 2, 2, 2, 2, 2, 2, 2, 2, 2, 2, 2, 2, 2, 2, 2, 2, 2, 2, 2, 2, 2, 2, 2, 2, 2, 2, 2, 2, 2, 2, 2, 2, 2, 2, 2, 2, 2, 2, 2, 2, 2, 2, 2, 2, 2, 2, 2, 2, 2, 2, 2, 2, 2, 2, 2, 2, 2, 2, 2, 2, 2, 2, 2, 2, 2, 2, 2, 2, 2, 2, 2, 2, 2, 2, 2, 2, 2, 2, 2, 2, 2, 2, 2, 2, 2, 2, 2, 2, 2, 2, 2, 2, 2, 2, 2, 2, 2, 2, 2, 2, 2, 2, 2, 2, 2, 2, 2, 2, 2, 2, 2, 2, 2, 2, 2, 2, 2, 2, 2, 2, 2, 2, 2, 2, 2, 2, 2, 2, 2, 2, 2, 2, 2, 2, 2, 2, 2, 2, 2, 2, 2, 2, 2, 2, 2, 2, 2, 2, 2, 2, 2, 2, 2, 2, 2, 2, 2, 2, 2, 2, 2, 2, 2, 2, 2, 2, 2, 2, 2, 2, 2, 2, 2, 2, 2, 2, 2, 2, 2, 2, 2, 2, 2, 2, 2, 2, 2, 2, 2, 2, 2, 2, 2, 2, 2, 2, 2, 2, 2, 2, 2, 2, 2, 2, 2, 2, 2, 2, 2, 2, 2, 2, 2, 2, 2, 2, 2, 2, 2, 2, 2, 2, 2, 2, 2, 2, 2, 2, 2, 2, 2, 2, 2, 2, 2, 2, 2, 2, 2, 2, 2, 2, 2, 2, 2, 2, 2, 2, 2, 2, 2, 2, 2, 2, 2, 2, 2, 2, 2, 2, 2, 2, 2, 2, 2, 2, 2, 2, 2, 2, 2, 2, 2, 2, 2, 2, 2, 2, 2, 2, 2, 2, 2, 2, 2, 2, 2, 2, 2, 2, 2, 2, 2, 2, 2, 2, 2, 2, 2, 2, 2, 2, 2, 2, 2, 2, 2, 2, 2, 2, 2, 2, 2, 2, 2, 2, 2, 2, 2, 2, 2, 2, 2, 2, 2, 2, 2, 2, 2, 2, 2, 2, 2, 2, 2, 2, 2, 2, 2, 2, 2, 2, 2, 2, 2, 2, 2, 2, 2, 2, 2, 2, 2, 2, 2, 2, 2, 2, 2, 2, 2, 2, 2, 2, 2, 2, 2, 2, 2, 2, 2, 2, 2, 2, 2, 2, 2, 2, 2, 2, 2, 2, 2, 2, 2, 2, 2, 2, 2, 2, 2, 2, 2, 2, 2, 2, 2, 2, 2, 2, 2, 2, 2, 2, 2, 2, 2, 2, 2, 2, 2, 2, 2, 2, 2, 2, 2, 2, 2, 2, 2, 2, 2, 2, 2, 2, 2, 2, 2, 2, 2, 2, 2, 2, 2, 2, 2, 2, 2, 2, 2, 2, 2, 2, 2, 2, 2, 2, 2, 2, 2, 2, 2, 2, 2, 2, 2, 2, 2, 2, 2, 2, 2, 2, 2, 2, 2, 2, 2, 2, 2, 2, 2, 2, 2, 2, 2, 2, 2, 2, 2, 2, 2, 2, 2, 2, 2, 2, 2, 2, 2, 2, 2, 2, 2, 2, 2, 2, 2, 2, 2, 2, 2, 2, 2, 2, 2, 2, 2, 2, 2, 2, 2, 2, 2, 2, 2, 2, 2, 2, 2, 2, 2, 2, 2, 2, 2, 2, 2, 2, 2, 2, 2, 2, 2, 2, 2, 2, 2, 2, 2, 2, 2, 2, 2, 2, 2, 2, 2, 2, 2, 2, 2, 2, 2, 2, 2, 2, 2, 2, 2, 2, 2, 2, 2, 2, 2, 2, 2, 2, 2, 2, 2, 2, 2, 2, 2, 2, 2, 2, 2, 2, 2, 2, 2, 2, 2, 2, 2, 2, 2, 2, 2, 2, 2, 2, 2, 2, 2, 2, 2, 2, 2, 2, 2, 2, 2, 2, 2, 2, 2, 2, 2, 2, 2, 2, 2, 2, 2, 2, 2, 2, 2, 2, 2, 2, 2, 2, 2, 2, 2, 2, 2, 2, 2, 2, 2, 2, 2, 2, 2, 2, 2, 2, 2, 2, 2, 2, 2, 2, 2, 2, 2, 2, 2, 2, 2, 2, 2, 2, 2, 2, 2, 2, 2, 2, 2, 2, 2, 2, 2, 2, 2, 2, 2, 2, 2, 2, 2, 2, 2, 2, 2, 2, 2, 2, 2, 2, 2, 2, 2, 2, 2, 2, 2, 2, 2, 2, 2, 2, 2, 2, 2, 2, 2, 2, 2, 2, 2, 2, 2, 2, 2, 2, 2, 2, 2, 2, 2, 2, 2, 2, 2, 2, 2, 2, 2, 2, 2, 2, 2, 2, 2, 2, 2, 2, 2, 2, 2, 2, 2, 2, 2, 2, 2, 2, 2, 2, 2, 2, 2, 2, 2, 2, 2, 2, 2, 2, 2, 2, 2, 2, 2, 2, 2, 2, 2, 2, 2, 2, 2, 2, 2, 2, 2, 2, 2, 2, 2, 2, 2, 2, 2, 2, 2, 2, 2, 2, 2, 2, 2, 2, 2, 2, 0, 0, 0, 0, 0, 0, 0, 0, 0, 0, 0, 0, 0, 0, 0, 0, 0, 0, 0, 0, 0, 0, 0, 0, 0, 0, 0, 0, 0, 0, 0, 0, 0, 0, 0, 0, 0, 0, 0, 0, 0, 0, 0, 0, 0, 0, 0, 0, 0, 0, 0, 0, 0, 0, 0, 0, 0, 0, 0, 0, 0, 0, 0, 0, 0, 0, 0, 0, 0, 0, 0, 0, 0, 0, 0, 0, 0, 0, 0, 0, 0, 0, 0, 0, 0, 0, 0, 0, 0, 0, 0, 0, 0, 0, 0, 0, 0, 0, 0, 0, 0, 0, 0, 0, 0, 0, 0, 0, 0, 0, 0, 0, 0, 0, 0, 0, 0, 0, 0, 0, 0, 0, 0, 0, 0, 0, 0, 0, 0, 0, 0, 0, 0, 0, 0, 0, 0, 0, 0, 0, 0, 0, 0, 0, 0, 0, 0, 0, 0, 0, 0, 0, 0, 0, 0, 0, 0, 0, 0, 0, 0, 0, 0, 0, 0, 0, 0, 0, 0, 0, 0, 0, 0, 0, 0, 0, 0, 0, 0, 0, 0, 0, 0, 0, 0, 0, 0, 0, 0, 0, 0, 0, 0, 0, 0, 0, 0, 0, 0, 0, 0, 0, 0, 0, 0, 0, 0, 0, 0, 0, 0, 0, 0, 0, 0, 0, 0, 0, 0, 0, 0, 0, 0, 0, 0, 0, 0, 0, 0, 0, 0, 0, 0, 0, 0, 0, 0, 0, 0, 0, 0, 0, 0, 0, 0, 0, 0, 0, 0, 0, 0, 0, 0, 0, 0, 0, 0, 0, 0, 0, 0, 0, 0, 0, 0, 0, 0, 0, 0, 0, 0, 0, 0, 0, 0, 0, 0, 0, 0, 0, 0, 0, 0, 0, 0, 0, 0, 0, 0, 0, 0, 0, 0, 0, 0, 0, 0, 0, 0, 0, 0, 0, 0, 0, 0, 0, 0, 0, 0, 0, 0, 0, 0, 0, 0, 0, 0, 0, 0, 0, 0, 0, 0, 0, 0, 0, 0, 0, 0, 0, 0, 0, 0, 0, 0, 0, 0, 0, 0, 0, 0, 0, 0, 0, 0, 0, 0, 0, 0, 0, 0, 0, 0, 0, 0, 0, 0, 0, 0, 0, 0, 0, 0, 0, 0, 0, 0, 0, 0, 0, 0, 0, 0, 0, 0, 0, 0, 0, 0, 0, 0, 0, 0, 0, 0, 0, 0, 0, 0, 0, 0, 0, 0, 0, 0, 0, 0, 0, 0, 0, 0, 0, 0, 0, 0, 0, 0, 0, 0, 0, 0, 0, 0, 0, 0, 0, 0, 0, 0, 0, 0, 0, 0, 0, 0, 0, 0, 0, 0, 0, 0, 0, 0, 0, 0, 0, 0, 0, 0, 0, 0, 0, 0, 0, 0, 0, 0, 0, 0, 0, 0, 0, 0, 0, 0, 0, 0, 0, 0, 0, 0, 0, 0, 0, 0, 0, 0, 0, 0, 0, 0, 0, 0, 0, 0, 0, 0, 0, 0, 0, 0, 0, 0, 0, 0, 0, 0, 0, 0, 0, 0, 0, 0, 0, 0, 0, 0, 0, 0, 0, 0, 0, 0, 0, 0, 0, 0, 0, 0, 0, 0, 0, 0, 0, 0, 0, 0, 0, 0, 0, 0, 0, 0, 0, 0, 0, 0, 0, 0, 0, 0, 0, 0, 0, 0, 0, 0, 0, 0, 0, 0, 0, 0, 0, 0, 0, 0, 0, 0, 0, 0, 0, 0, 0, 0, 0, 0, 0, 0, 0, 0, 0, 0, 0, 0, 0, 0, 0, 0, 0, 0, 0, 0, 0, 0, 0, 0, 0, 0, 0, 0, 0, 0, 0, 0, 0, 0, 0, 0, 0, 0, 0, 0, 0, 0, 0, 0, 0, 0, 0, 0, 0, 0, 0, 0, 0, 0, 0, 0, 0, 0, 0, 0, 0, 0, 0, 0, 0, 0, 0, 0, 0, 0, 0, 0, 0, 0, 0, 0, 0, 0, 0, 0, 0, 0, 0, 0, 0, 0, 0, 0, 0, 0, 0, 0, 0, 0, 0, 0, 0, 0, 0, 0, 0, 0, 0, 0, 0, 0, 0, 0, 0, 0, 0, 0, 0, 0, 0, 0, 0, 0, 0, 0, 0, 0, 0, 0, 0, 0, 0, 0, 0, 0, 0, 0, 0, 0, 0, 0, 0, 0, 0, 0, 0, 0, 0, 0, 0, 0, 0, 0, 0, 0, 0, 0, 0, 0, 0, 0, 0, 0, 0, 0, 0, 0, 0, 0, 0, 0, 0, 0, 0, 0, 0, 0, 0, 0, 0, 0, 0, 0, 0, 0, 0, 0, 0, 0, 0, 0, 0, 0, 0, 0, 0, 0, 0, 0, 0, 0, 0, 0, 0, 0, 0, 0, 0, 0, 0, 0, 0, 0, 0, 0, 0, 0, 0, 0, 0, 0, 0, 0, 0, 0, 0, 0, 0, 0, 0, 0, 0, 0, 0, 0, 0, 0, 0, 0, 0, 0, 0, 0, 0, 0, 0, 0, 0, 0, 0, 0, 0, 0, 0, 0, 0, 0, 0, 0, 0, 0, 0, 0, 0, 0, 0, 0, 0, 0, 0, 0, 0, 0, 0, 0, 0, 0, 0, 0, 0, 0, 0, 0, 0, 0, 0, 0, 0, 0, 0, 0, 0, 0, 0, 0, 0, 0, 0, 0, 0, 0, 0, 0, 0, 0, 0, 0, 0, 0, 0, 0, 0, 0, 0, 0, 0, 0, 0, 0, 0, 0, 0, 0, 0, 0, 0, 0, 0, 0, 0, 0, 0, 0, 0, 0, 0, 0, 0, 0, 0, 0, 0, 0, 0, 0, 0, 0, 0, 0, 0, 0, 0, 0, 0, 0, 0, 0, 0, 0, 0, 0, 0, 0, 0, 0, 0, 0, 0, 0, 0, 0, 0, 0, 0, 0, 0, 0, 0, 0, 0, 0, 0, 0, 0, 0, 0, 0, 0, 0, 0, 0, 0, 0, 0, 0, 0, 0, 0, 0, 0, 0, 0, 0, 0, 0, 0, 0, 0, 0, 0, 0, 0, 0, 0, 0, 0, 0, 0, 0, 0, 0, 0, 0, 0, 0, 0, 0, 0, 0, 0, 0, 0, 0, 0, 0, 0, 0, 0, 0, 0, 0, 0, 0, 0, 0, 0, 0, 0, 0, 0, 0, 0, 0, 0, 0, 0, 0, 0, 0, 0, 0, 0, 0, 0, 0, 0, 0, 0, 0, 0, 0, 0, 0, 0, 0, 0, 0, 0, 0, 0, 0, 0, 0, 0, 0, 0, 0, 0, 0, 0, 0, 0, 0, 0, 0, 0, 0, 0, 0, 0, 0, 0, 0, 0, 0, 0, 0, 0, 0, 0, 0, 0, 0, 0, 0, 0, 0, 0, 0, 0, 0, 0, 0, 0, 0, 0, 0, 0, 0, 0, 0, 0, 0, 0, 0, 0, 0, 0, 0, 0, 0, 0, 0, 0, 0, 0, 0, 0, 0, 0, 0, 0, 0, 0, 0, 0, 0, 0, 0, 0, 0, 0, 0, 0, 0, 0, 0, 0, 0, 0, 0, 0, 0, 0, 0, 0, 0, 0, 0, 0, 0, 0, 0, 0, 0, 0, 0, 0, 0, 0, 0, 0, 0, 0, 0, 0, 0, 0, 0, 0, 0, 0, 0, 0, 0, 0, 0, 0, 0, 0, 0, 0, 0, 0, 0, 0, 0, 0, 0, 0, 0, 0, 0, 0, 0, 0, 0, 0, 0, 0, 0, 0, 0, 0, 0, 0, 0, 0, 0, 0, 0, 0, 0, 0, 0, 0, 0, 0, 0, 0, 0, 0, 0, 0, 0, 0, 0, 0, 0, 0, 0, 0, 0, 0, 0, 0, 0, 0, 0, 0, 0, 0, 0, 0, 0, 0, 0, 0, 0, 0, 0, 0, 0, 0, 0, 0, 0, 0, 0, 0, 0, 0, 0, 0, 0, 0, 0, 0, 0, 0, 0, 0, 0, 0, 0, 0, 0, 0, 0, 0, 0, 0, 0, 0, 0, 0, 0, 0, 0, 0, 0, 0, 0, 0, 0, 0, 0, 0, 0, 0, 0, 0, 0, 0, 0, 0, 0, 0, 0, 0, 0, 0, 0, 0, 0, 0, 0, 0, 0, 0, 0, 0, 0, 0, 0, 0, 0, 0, 0, 0, 0, 0, 0, 0, 0, 0, 0, 0, 0, 0, 0, 0, 0, 0, 0, 0, 0, 0, 0, 0, 0, 0, 0, 0, 0, 0, 0, 0, 0, 0, 0, 0, 0, 0, 0, 0, 0, 0, 0, 0, 0, 0, 0, 0, 0, 0, 0, 0, 0, 0, 0, 0, 0, 0, 0, 0, 0, 0, 0, 0, 0, 0, 0, 0, 0, 0, 0, 0, 0, 0, 0, 0, 0, 0, 0, 0, 0, 0, 0, 0, 0, 0, 0, 0, 0, 0, 0, 0, 0, 0, 0, 0, 0, 0, 0, 0, 0, 0, 0, 0, 0, 0, 0, 0, 0, 0, 0, 0, 0, 0, 0, 0, 0, 0, 0, 0, 0, 0, 0, 0, 0, 0, 0, 0, 0, 0, 0, 0, 0, 0, 0, 0, 0, 0, 0, 0, 0, 0, 0, 0, 0, 0, 0, 0, 0, 0, 0, 0, 0, 0, 0, 0, 0, 0, 0, 0, 0, 0, 0, 0, 0, 0, 0, 0, 0, 0, 0, 0, 0, 0, 0, 0, 0, 0, 0, 0, 0, 0, 0, 0, 0, 0, 0, 0, 0, 0, 0, 0, 0, 0, 0, 0, 0, 0, 0, 0, 0, 0, 0, 0, 0, 0, 0, 0, 0, 0, 0, 0, 0, 0, 0, 0, 0, 0, 0, 0, 0, 0, 0, 0, 0, 0, 0, 0, 0, 0, 0, 0, 0, 0, 0, 0, 0, 0, 0, 0, 0, 0, 0, 0, 0, 0, 0, 0, 0, 0, 0, 0, 0, 0, 0, 0, 0, 0, 0, 0, 0, 0, 0, 0, 0, 0, 0, 0, 0, 0, 0, 0, 0, 0, 0, 0, 0, 0, 0, 0, 0, 0, 0, 0, 0, 0, 0, 0, 0, 0, 0, 0, 0, 0, 0, 0, 0, 0, 0, 0, 0, 0, 0, 0, 0, 0, 0, 0, 0, 0, 0, 0, 0, 0, 0, 0, 0, 0, 0, 0, 0, 0, 0, 0, 0, 0, 0, 0, 0, 0, 0, 0, 0, 0, 0, 0, 0, 0, 0, 0, 0, 0, 0, 0, 0, 0, 0, 0, 0, 0, 0, 0, 0, 0, 0, 0, 0, 0, 0, 0, 0, 0, 0, 0, 0, 0, 0, 0, 0, 0, 0, 0, 0, 0, 0, 0, 0, 0, 0, 0, 0, 0, 0, 0, 0, 0, 0, 0, 0, 0, 0, 0, 0, 0, 0, 0, 0, 0, 0, 0, 0, 0, 0, 0, 0, 0, 0, 0, 0, 0, 0, 0, 0, 0, 0, 0, 0, 0, 0, 0, 0, 0, 0, 0, 0, 0, 0, 0, 0, 0, 0, 0, 0, 0, 0, 0, 0, 0, 0, 0, 0, 0, 0, 0, 0, 0, 0, 0, 0, 0, 0, 0, 0, 0, 0, 0, 0, 0, 0, 0, 0, 0, 0, 0, 0, 0, 0, 0, 0, 0, 0, 0, 0, 0, 0, 0, 0, 0, 0, 0, 0, 0, 0, 0, 0, 0, 0, 0, 0, 0, 0, 0, 0, 0, 0, 0, 0, 0, 0, 0, 0, 0, 0, 0, 0, 0, 0, 0, 0, 0, 0, 0, 0, 0, 0, 0, 0, 0, 0, 0, 0, 0, 0, 0, 0, 0, 0, 0, 0, 0, 0, 0, 0, 0, 0, 0, 0, 0, 0, 0, 0, 0, 0, 0, 0, 0, 0, 0, 0, 0, 0, 0, 0, 0, 0, 0, 0, 0, 0, 0, 0, 0, 0, 0, 0, 0, 0, 0, 0, 0, 0, 0, 0, 0, 0, 0, 0, 0, 0, 0, 0, 0, 0, 0, 0, 0, 0, 0, 0, 0, 0, 0, 0, 0, 0, 0, 0, 0, 0, 0, 0, 0, 0, 0, 0, 0, 0, 0, 0, 0, 0, 0, 0, 0, 0, 0, 0, 0, 0, 0, 0, 0, 0, 0, 0, 0, 0, 0, 0, 0, 0, 0, 0, 0, 0, 0, 0, 0, 0, 0, 0, 0, 0, 0, 0, 0, 0, 0, 0, 0, 0, 0, 0, 0, 0, 0, 0, 0, 0, 0, 0, 0, 0, 0, 0, 0, 0, 0, 0, 0, 0, 0, 0, 0, 0, 0, 0, 0, 0, 0, 0, 0, 0, 0, 0, 0, 0, 0, 0, 0, 0, 0, 0, 0, 0, 0, 0, 0, 0, 0, 0, 0, 0, 0, 0, 0, 0, 0, 0, 0, 0, 0, 0, 0, 0, 0, 0, 0, 0, 0, 0, 0, 0, 0, 0, 0, 0, 0, 0, 0, 0, 0, 0, 0, 0, 0, 0, 0, 0, 0, 0, 0, 0, 0, 0, 0, 0, 0, 0, 0, 0, 0, 0, 0, 0, 0, 0, 0, 0, 0, 0, 0, 0, 0, 0, 0, 0, 0, 0, 0, 0, 0, 0, 0, 0, 0, 0, 0, 0, 0, 0, 0, 0, 0, 0, 0, 0, 0, 0, 0, 0, 0, 0, 0, 0, 0, 0, 0, 0, 0, 0, 0, 0, 0, 0, 0, 0, 0, 0, 0, 0, 0, 0, 0, 0, 0, 0, 0, 0, 0, 0, 0, 0, 0, 0, 0, 0, 0, 0, 0, 0, 0, 0, 0, 0, 0, 0, 0, 0, 0, 0, 0, 0, 0, 0, 0, 0, 0, 0, 0, 0, 0, 0, 0, 0, 0, 0, 0, 0, 0, 0, 0, 0, 0, 0, 0, 0, 0, 0, 0, 0, 0, 0, 0, 0, 0, 0, 0, 0, 0, 0, 0, 0, 0, 0, 0, 0, 0, 0, 0, 0, 0, 0, 0, 0, 0, 0, 0, 0, 0, 0, 0, 0, 0, 0, 0, 0, 0, 0, 0, 0, 0, 0, 0, 0, 0, 0, 0, 0, 0, 0, 0, 0, 0, 0, 0, 0, 0, 0, 0, 0, 0, 0, 0, 0, 0, 0, 0, 0, 0, 0, 0, 0, 0, 0, 0, 0, 0, 0, 0, 0, 0, 0, 0, 0, 0, 0, 0, 0, 0, 0, 0, 0, 0, 0, 0, 0, 0, 0, 0, 0, 0, 0, 0, 0, 0, 0, 0, 0, 0, 0, 0, 0, 0, 0, 0, 0, 0, 0, 0, 0, 0, 0, 0, 0, 0, 0, 0, 0, 0, 0, 0, 0, 0, 0, 0, 0, 0, 0, 0, 0, 0, 0, 0, 0, 0, 0, 0, 0, 0, 0, 0, 0, 0, 0, 0, 0, 0, 0, 0, 0, 0, 0, 0, 0, 0, 0, 0, 0, 0, 0, 0, 0, 0, 0, 0, 0, 0, 0, 0, 0, 0, 0, 0, 0, 0, 0, 0, 0, 0, 0, 0, 0, 0, 0, 0, 0, 0, 0, 0, 0, 0, 0, 0, 0, 0, 0, 0, 0, 0, 0, 0, 0, 0, 0, 0, 0, 0, 0, 0, 0, 0, 0, 0, 0, 0, 0, 0, 0, 0, 0, 0, 0, 0, 0, 0, 0, 0, 0, 0, 0, 0, 0, 0, 0, 0, 0, 0, 0, 0, 0, 0, 0, 0, 0, 0, 0, 0, 0, 0, 0, 0, 0, 0, 0, 0, 0, 0, 0, 0, 0, 0, 0, 0, 0, 0, 0, 0, 0, 0, 0, 0, 0, 0, 0, 0, 0, 0, 0, 0, 0, 0, 0, 0, 0, 0, 0, 0, 0, 0, 0, 0, 0, 0, 0, 0, 0, 0, 0, 0, 0, 0, 0, 0, 0, 0, 0, 0, 0, 0, 0, 0, 0, 0, 0, 0, 0, 0, 0, 0, 0, 0, 0, 0, 0, 0, 0, 0, 0, 0, 0, 0, 0, 0, 0, 0, 0, 0, 0, 0, 0, 0, 0, 0, 0, 0, 0, 0, 0, 0, 0, 0, 0, 0, 0, 0, 0, 0, 0, 0, 0, 0, 0, 0, 0, 0, 0, 0, 0, 0, 0, 0, 0, 0, 0, 0, 0, 0, 0, 0, 0, 0, 0, 0, 0, 0, 0, 0, 0, 0, 0, 0, 0, 0, 0, 0, 0, 0, 0, 0, 0, 0, 0, 0, 0, 0, 0, 0, 0, 0, 0, 0, 0, 0, 0, 0, 0, 0, 0, 0, 0, 0, 0, 0, 0, 0, 0, 0, 0, 0, 0, 0, 0, 0, 0, 0, 0, 0, 0, 0, 0, 0, 0, 0, 0, 0, 0, 0, 0, 0, 0, 0, 0, 0, 0, 0, 0, 0, 0, 0, 0, 0, 0, 0, 0, 0, 0, 0, 0, 0, 0, 0, 0, 0, 0, 0, 0, 0, 0, 0, 0, 0, 0, 0, 0, 0, 0, 0, 0, 0, 0, 0, 0, 0, 0, 0, 0, 0, 0, 0, 0, 0, 0, 0, 0, 0, 0, 0, 0, 0, 0, 0, 0, 0, 0, 0, 0, 0, 0, 0, 0, 0, 0, 0, 0, 0, 0, 0, 0, 0, 0, 0, 0, 0, 0, 0, 0, 0, 0, 0, 0, 0, 0, 0, 0, 0, 0, 0, 0, 0, 0, 0, 0, 0, 0, 0, 0, 0, 0, 0, 0, 0, 0, 0, 0, 0, 0, 0, 0, 0, 0, 0, 0, 0, 0, 0, 0, 0, 0, 0, 0, 0, 0, 0, 0, 0, 0, 0, 0, 0, 0, 0, 0, 0, 0, 0, 0, 0, 0, 0, 0, 0, 0, 0, 0, 0, 0, 0, 0, 0, 0, 0, 0, 0, 0, 0, 0, 0, 0, 0, 0, 0, 0, 0, 0, 0, 0, 0, 0, 0, 0, 0, 0, 0, 0, 0, 0, 0, 0, 0, 0, 0, 0, 0, 0, 0, 0, 0, 0, 0, 0, 0, 0, 0, 0, 0, 0, 0, 0, 0, 0, 0, 0, 0, 0, 0, 0, 0, 0, 0, 0, 0, 0, 0, 0, 0, 0, 0, 0, 0, 0, 0, 0, 0, 0, 0, 0, 0, 0, 0, 0, 0, 0, 0, 0, 0, 0, 0, 0, 0, 0, 0, 0, 0, 0, 0, 0, 0, 0, 0, 0, 0, 0, 0, 0, 0, 0, 0, 0, 0, 0, 0, 0, 0, 0, 0, 0, 0, 0, 0, 0, 0, 0, 0, 0, 0, 0, 0, 0, 0, 0, 0, 0, 0, 0, 0, 0, 0, 0, 0, 0, 0, 0, 0, 0, 0, 0, 0, 0, 0, 0, 0, 0, 0, 0, 0, 0, 0, 0, 0, 0, 0, 0, 0, 0, 0, 0, 0, 0, 0, 0, 0, 0, 0, 0, 0, 0, 0, 0, 0, 0, 0, 0, 0, 0, 0, 0, 0, 0, 0, 0, 0, 0, 0, 0, 0, 0, 0, 0, 0, 0, 0, 0, 0, 0, 0, 0, 0, 0, 0, 0, 0, 0, 0, 0, 0, 0, 0, 0, 0, 0, 0, 0, 0, 0, 0, 0, 0, 0, 0, 0, 0, 0, 0, 0, 0, 0, 0, 0, 0, 0, 0, 0, 0, 0, 0, 0, 0, 0, 0, 0, 0, 0, 0, 0, 0, 0, 0, 0, 0, 0, 0, 0, 0, 0, 0, 0, 0, 0, 0, 0, 0, 0, 0, 0, 0, 0, 0, 0, 0, 0, 0, 0, 0, 0, 0, 0, 0, 0, 0, 0, 0, 0, 0, 0, 0, 0, 0, 0, 0, 0, 0, 0, 0, 0, 0, 0, 0, 0, 0, 0, 0, 0, 0, 0, 0, 0, 0, 0, 0, 0, 0, 0, 0, 0, 0, 0, 0, 0, 0, 0, 0, 0, 0, 0, 0, 0, 0, 0, 0, 0, 0, 0, 0, 0, 0, 0, 0, 0, 0, 0, 0, 0, 0, 0, 0, 0, 0, 0, 0, 0, 0, 0, 0, 0, 0, 0, 0, 0, 0, 0, 0, 0, 0, 0, 0, 0, 0, 0, 0, 0, 0, 0, 0, 0, 0, 0, 0, 0, 0, 0, 0, 0, 0, 0, 0, 0, 0, 0, 0, 0, 0, 0, 0, 0, 0, 0, 0, 0, 0, 0, 0, 0, 0, 0, 0, 0, 0, 0, 0, 0, 0, 0, 0, 0, 0, 0, 0, 0, 0, 0, 0, 0, 0, 0, 0, 0, 0, 0, 0, 0, 0, 0, 0, 0, 0, 0, 0, 0, 0, 0, 0, 0, 0, 0, 0, 0, 0, 0, 0, 0, 0, 0, 0, 0, 0, 0, 0, 0, 0, 0, 0, 0, 0, 0, 0, 0, 0, 0, 0, 0, 0, 0, 0, 0, 0, 0, 0, 0, 0, 0, 0, 0, 0, 0, 0, 0, 0, 0, 0, 0, 0, 0, 0, 0, 0, 0, 0, 0, 0, 0, 0, 0, 0, 0, 0, 0, 0, 0, 0, 0, 0, 0, 0, 0, 0, 0, 0, 0, 0, 0, 0, 0, 0, 0, 0, 0, 0, 0, 0, 0, 0, 0, 0, 0, 0, 0, 0, 0, 0, 0, 0, 0, 0, 0, 0, 0, 0, 0, 0, 0, 0, 0, 0, 0, 0, 0, 0, 0, 0, 0, 0, 0, 0, 0, 0, 0, 0, 0, 0, 0, 0, 0, 0, 0, 0, 0, 0, 0, 0, 0, 0, 0, 0, 0, 0, 0, 0, 0, 0, 0, 0, 0, 0, 0, 0, 0, 0, 0, 0, 0, 0, 0, 0, 0, 0, 0, 0, 0, 0, 0, 0, 0, 0, 0, 0, 0, 0, 0, 0, 0, 0, 0, 0, 0, 0, 0, 0, 0, 0, 0, 0, 0, 0, 0, 0, 0, 0, 0, 0, 0, 0, 0, 0, 0, 0, 0, 0, 0, 0, 0, 0, 0, 0, 0, 0, 0, 0, 0, 0, 0, 0, 0, 0, 0, 0, 0, 0, 0, 0, 0, 0, 0, 0, 0, 0, 0, 0, 0, 0, 0, 0, 0, 0, 0, 0, 0, 0, 0, 0, 0, 0, 0, 0, 0, 0, 0, 0, 0, 0, 0, 0, 0, 0, 0, 0, 0, 0, 0, 0, 0, 0, 0, 0, 0, 0, 0, 0, 0, 0, 0, 0, 0, 0, 0, 0, 0, 0, 0, 0, 0, 0, 0, 0, 0, 0, 0, 0, 0, 0, 0, 0, 0, 0, 0, 0, 0, 0, 0, 0, 0, 0, 0, 0, 0, 0, 0, 0, 0, 0, 0, 0, 0, 0, 0, 0, 0, 0, 0, 0, 0, 0, 0, 0, 0, 0, 0, 0, 0, 0, 0, 0, 0, 0, 0, 0, 0, 0, 0, 0, 0, 0, 0, 0, 0, 0, 0, 0, 0, 0, 0, 0, 0, 0, 0, 0, 0, 0, 0, 0, 0, 0, 0, 0, 0, 0, 0, 0, 0, 0, 0, 0, 0, 0, 0, 0, 0, 0, 0, 0, 0, 0, 0, 0, 0, 0, 0, 0, 0, 0, 0, 0, 0, 0, 0, 0, 0, 0, 0, 0, 0, 0, 0, 0, 0, 0, 0, 0, 0, 0, 0, 0, 0, 0, 0, 0, 0, 0, 0, 0, 0, 0, 0, 0, 0, 0, 0, 0, 0, 0, 0, 0, 0, 0, 0, 0, 0, 0, 0, 0, 0, 0, 0, 0, 0, 0, 0, 0, 0, 0, 0, 0, 0, 0, 0, 0, 0, 0, 0, 0, 0, 0, 0, 0, 0, 0, 0, 0, 0, 0, 0, 0, 0, 0, 0, 0, 0, 0, 0, 0, 0, 0, 0, 0, 0, 0, 0, 0, 0, 0, 0, 0, 0, 0, 0, 0, 0, 0, 0, 0, 0, 0, 0, 0, 0, 0, 0, 0, 0, 0, 0, 0, 0, 0, 0, 0, 0, 0, 0, 0, 0, 0, 0, 0, 0, 0, 0, 0, 0, 0, 0, 0, 0, 0, 0, 0, 0, 0, 0, 0, 0, 0, 0, 0, 0, 0, 0, 0, 0, 0, 0, 0, 0, 0, 0, 0, 0, 0, 0, 0, 0, 0, 0, 0, 0, 0, 0, 0, 0, 0, 0, 0, 0, 0, 0, 0, 0, 0, 0, 0, 0, 0, 0, 0, 0, 0, 0, 0, 0, 0, 0, 0, 0, 0, 0, 0, 0, 0, 0, 0, 0, 0, 0, 0, 0, 0, 0, 0, 0, 0, 0, 0, 0, 0, 0, 0, 0, 0, 0, 0, 0, 0, 0, 0, 0, 0, 0, 0, 0, 0, 0, 0, 0, 0, 0, 0, 0, 0, 0, 0, 0, 0, 0, 0, 0, 0, 0, 0, 0, 0, 0, 0, 0, 0, 0, 0, 0, 0, 0, 0, 0, 0, 0, 0, 0, 0, 0, 0, 0, 0, 0, 0, 0, 0, 0, 0, 0, 0, 0, 0, 0, 0, 0, 0, 0, 0, 0, 0, 0, 0, 0, 0, 0, 0, 0, 0, 0, 0, 0, 0, 0, 0, 0, 0, 0, 0, 0, 0, 0, 0, 0, 0, 0, 0, 0, 0, 0, 0, 0, 0, 0, 0, 0, 0, 0, 0, 0, 0, 0, 0, 0, 0, 0, 0, 0, 0, 0, 0, 0, 0, 0, 0, 0, 0, 0, 0, 0, 0, 0, 0, 0, 0, 0, 0, 0, 0, 0, 0, 0, 0, 0, 0, 0, 0, 0, 0, 0, 0, 0, 0, 0, 0, 0, 0, 0, 0, 0, 0, 0, 0, 0, 0, 0, 0, 0, 0, 0, 0, 0, 0, 0, 0, 0, 0, 0, 0, 0, 0, 0, 0, 0, 0, 0, 0, 0, 0, 0, 0, 0, 0, 0, 0, 0, 0, 0, 0, 0, 0, 0, 0, 0, 0, 0, 0, 0, 0, 0, 0, 0, 0, 0, 0, 0, 0, 0, 0, 0, 0, 0, 0, 0, 0, 0, 0, 0, 0, 0, 0, 0, 0, 0, 0, 0, 0, 0, 0, 0, 0, 0, 0, 0, 0, 0, 0, 0, 0, 0, 0, 0, 0, 0, 0, 0, 0, 0, 0, 0, 0, 0, 0, 0, 0, 0, 0, 0, 0, 0, 0, 0, 0, 0, 0, 0, 0, 0, 0, 0, 0, 0, 0, 0, 0, 0, 0, 0, 0, 0, 0, 0, 0, 0, 0, 0, 0, 0, 0, 0, 0, 0, 0, 0, 0, 0, 0, 0, 0, 0, 0, 0, 0, 0, 0, 0, 0, 0, 0, 0, 0, 0, 0, 0, 0, 0, 0, 0, 0, 0, 0, 0, 0, 0, 0, 0, 0, 0, 0, 0, 0, 0, 0, 0, 0, 0, 0, 0, 0, 0, 0, 0, 0, 0, 0, 0, 0, 0, 0, 0, 0, 0, 0, 0, 0, 0, 0, 0, 0, 0, 0, 0, 0, 0, 0, 0, 0, 0, 0, 0, 0, 0, 0, 0, 0, 0, 0, 0, 0, 0, 0, 0, 0]\n",
      "[2, 2, 2, 2, 2, 2, 2, 2, 2, 2, 2, 2, 2, 2, 2, 2, 2, 2, 2, 2, 2, 2, 2, 2, 2, 2, 2, 2, 2, 2, 2, 2, 2, 2, 2, 2, 2, 2, 2, 2, 2, 2, 2, 2, 2, 2, 2, 2, 2, 2, 2, 2, 2, 2, 2, 2, 2, 2, 2, 2, 2, 2, 2, 2, 2, 2, 2, 2, 2, 2, 2, 2, 2, 2, 2, 2, 2, 2, 2, 2, 2, 2, 2, 2, 2, 2, 2, 2, 2, 2, 2, 2, 2, 2, 2, 2, 2, 2, 2, 2, 2, 2, 2, 2, 2, 2, 2, 2, 2, 2, 2, 2, 2, 2, 2, 2, 2, 2, 2, 2, 2, 2, 2, 2, 2, 2, 2, 2, 2, 2, 2, 2, 2, 2, 2, 2, 2, 2, 2, 2, 2, 2, 2, 2, 2, 2, 2, 2, 2, 2, 2, 2, 2, 2, 2, 2, 2, 2, 2, 2, 2, 2, 2, 2, 2, 2, 2, 2, 2, 2, 2, 2, 2, 2, 2, 2, 2, 2, 2, 2, 2, 2, 2, 2, 2, 2, 2, 2, 2, 2, 2, 2, 2, 2, 2, 2, 2, 2, 2, 2, 2, 2, 2, 2, 2, 2, 2, 2, 2, 2, 2, 2, 2, 2, 2, 2, 2, 2, 2, 2, 2, 2, 2, 2, 2, 2, 2, 2, 2, 2, 2, 2, 2, 2, 2, 2, 2, 2, 2, 2, 2, 2, 2, 2, 2, 2, 2, 2, 2, 2, 2, 2, 2, 2, 2, 2, 2, 2, 2, 2, 2, 2, 2, 2, 2, 2, 2, 2, 2, 2, 2, 2, 2, 2, 2, 2, 2, 2, 2, 2, 2, 2, 2, 2, 2, 2, 2, 2, 2, 2, 2, 2, 2, 2, 2, 2, 2, 2, 2, 2, 2, 2, 2, 2, 2, 2, 2, 2, 2, 2, 2, 2, 2, 2, 2, 2, 2, 2, 2, 2, 2, 2, 2, 2, 2, 2, 2, 2, 2, 2, 2, 2, 2, 2, 2, 2, 2, 2, 2, 2, 2, 2, 2, 2, 2, 2, 2, 2, 2, 2, 2, 2, 2, 2, 2, 2, 2, 2, 2, 2, 2, 2, 2, 2, 2, 2, 2, 2, 2, 2, 2, 2, 2, 2, 2, 2, 2, 2, 2, 2, 2, 2, 2, 2, 2, 2, 2, 2, 2, 2, 2, 2, 2, 2, 2, 2, 2, 2, 2, 2, 2, 2, 2, 2, 2, 2, 2, 2, 2, 2, 2, 2, 2, 2, 2, 2, 2, 2, 2, 2, 2, 2, 2, 2, 2, 2, 2, 2, 2, 2, 2, 2, 2, 2, 2, 2, 2, 2, 2, 2, 2, 2, 2, 2, 2, 2, 2, 2, 2, 2, 2, 2, 2, 2, 2, 2, 2, 2, 2, 2, 2, 2, 2, 2, 2, 2, 2, 2, 2, 2, 2, 2, 2, 2, 2, 2, 2, 2, 2, 2, 2, 2, 2, 2, 2, 2, 2, 2, 2, 2, 2, 2, 2, 2, 2, 2, 2, 2, 2, 2, 2, 2, 2, 2, 2, 2, 2, 2, 2, 2, 2, 2, 2, 2, 2, 2, 2, 2, 2, 2, 2, 2, 2, 2, 2, 2, 2, 2, 2, 2, 2, 2, 2, 2, 2, 2, 2, 2, 2, 2, 2, 2, 2, 2, 2, 2, 2, 2, 2, 2, 2, 2, 2, 2, 2, 2, 2, 2, 2, 2, 2, 2, 2, 2, 2, 2, 2, 2, 2, 2, 2, 2, 2, 2, 2, 2, 2, 2, 2, 2, 2, 2, 2, 2, 2, 2, 2, 2, 2, 2, 2, 2, 2, 2, 2, 2, 2, 2, 2, 2, 2, 2, 2, 2, 2, 2, 2, 2, 2, 2, 2, 2, 2, 2, 2, 2, 2, 2, 2, 2, 2, 2, 2, 2, 2, 2, 2, 2, 2, 2, 2, 2, 2, 2, 2, 2, 2, 2, 2, 2, 2, 2, 2, 2, 2, 2, 2, 2, 2, 2, 2, 2, 2, 2, 2, 2, 2, 2, 2, 2, 2, 2, 2, 2, 2, 2, 2, 2, 2, 2, 2, 2, 2, 2, 2, 2, 2, 2, 2, 2, 2, 2, 2, 2, 2, 2, 2, 2, 2, 2, 2, 2, 2, 2, 2, 2, 2, 2, 2, 2, 2, 2, 2, 2, 2, 2, 2, 2, 2, 2, 2, 2, 2, 2, 2, 2, 2, 2, 2, 2, 2, 2, 2, 2, 2, 2, 2, 2, 2, 2, 2, 2, 2, 2, 2, 2, 2, 2, 2, 2, 2, 2, 2, 2, 2, 2, 2, 2, 2, 2, 2, 2, 2, 2, 2, 2, 2, 2, 2, 2, 2, 2, 2, 2, 2, 2, 2, 2, 2, 2, 2, 2, 2, 2, 2, 2, 2, 2, 2, 2, 2, 2, 2, 2, 2, 2, 2, 2, 2, 2, 2, 2, 2, 2, 2, 2, 2, 2, 2, 2, 2, 2, 2, 2, 2, 2, 2, 2, 2, 2, 2, 2, 2, 2, 2, 2, 2, 2, 2, 2, 2, 2, 2, 2, 2, 2, 2, 2, 2, 2, 2, 2, 2, 2, 2, 2, 2, 2, 2, 2, 2, 2, 2, 2, 2, 2, 2, 2, 2, 2, 2, 2, 2, 2, 2, 2, 2, 2, 2, 2, 2, 2, 2, 2, 2, 2, 2, 2, 2, 2, 2, 2, 2, 2, 2, 2, 2, 2, 2, 2, 2, 2, 2, 2, 2, 2, 2, 2, 2, 2, 2, 2, 2, 2, 2, 2, 2, 2, 2, 2, 2, 2, 2, 2, 2, 2, 2, 2, 2, 2, 2, 2, 2, 2, 2, 2, 2, 2, 2, 2, 2, 2, 2, 2, 2, 2, 2, 2, 2, 2, 2, 2, 2, 2, 2, 2, 2, 2, 2, 2, 2, 2, 2, 2, 2, 2, 2, 2, 2, 2, 2, 2, 2, 2, 2, 2, 2, 2, 2, 2, 2, 2, 2, 2, 2, 2, 2, 2, 2, 2, 2, 2, 2, 2, 2, 2, 2, 2, 2, 2, 2, 2, 2, 2, 2, 2, 2, 2, 2, 2, 2, 2, 2, 2, 2, 2, 2, 2, 2, 2, 2, 2, 2, 2, 2, 2, 2, 2, 2, 2, 2, 2, 2, 2, 2, 2, 2, 2, 2, 2, 2, 2, 2, 2, 2, 2, 2, 2, 2, 2, 2, 2, 2, 2, 2, 2, 2, 2, 2, 2, 2, 2, 2, 2, 2, 2, 2, 2, 2, 2, 2, 2, 2, 2, 2, 2, 2, 2, 2, 2, 2, 2, 2, 2, 2, 2, 2, 2, 2, 2, 2, 2, 2, 2, 2, 2, 2, 2, 2, 2, 2, 2, 2, 2, 2, 2, 2, 2, 2, 2, 2, 2, 2, 2, 2, 2, 2, 2, 2, 2, 2, 2, 2, 2, 2, 2, 2, 2, 2, 2, 2, 2, 2, 2, 2, 2, 2, 2, 2, 2, 2, 2, 2, 2, 2, 2, 2, 2, 2, 2, 2, 2, 2, 2, 2, 2, 2, 2, 2, 2, 2, 2, 2, 2, 2, 2, 2, 2, 2, 2, 2, 2, 2, 2, 2, 2, 2, 2, 2, 2, 2, 2, 2, 2, 2, 2, 2, 2, 2, 2, 2, 2, 2, 2, 2, 2, 2, 2, 2, 2, 2, 2, 2, 2, 2, 2, 2, 2, 2, 2, 2, 2, 2, 2, 2, 2, 2, 2, 2, 2, 2, 2, 2, 2, 2, 2, 2, 2, 2, 2, 2, 2, 2, 2, 2, 2, 2, 2, 2, 2, 2, 2, 2, 2, 2, 2, 2, 2, 2, 2, 2, 2, 2, 2, 2, 2, 2, 2, 2, 2, 2, 2, 2, 2, 2, 2, 2, 2, 2, 2, 2, 2, 2, 2, 2, 2, 2, 2, 2, 2, 2, 2, 2, 2, 2, 2, 2, 2, 2, 2, 2, 2, 2, 2, 2, 2, 2, 2, 2, 2, 2, 2, 2, 2, 2, 2, 2, 2, 2, 2, 2, 2, 2, 2, 2, 2, 2, 2, 2, 2, 2, 2, 2, 2, 2, 2, 2, 2, 2, 2, 2, 2, 2, 2, 2, 2, 2, 2, 2, 2, 2, 2, 2, 2, 2, 2, 2, 2, 2, 2, 2, 2, 2, 2, 2, 2, 2, 2, 2, 2, 2, 2, 2, 2, 2, 2, 2, 2, 2, 2, 2, 2, 2, 2, 2, 2, 2, 2, 2, 2, 2, 2, 2, 2, 2, 2, 2, 2, 2, 2, 2, 2, 2, 2, 2, 2, 2, 2, 2, 2, 2, 2, 2, 2, 2, 2, 2, 2, 2, 2, 2, 2, 2, 2, 2, 2, 2, 2, 2, 2, 2, 2, 2, 2, 2, 2, 2, 2, 2, 2, 2, 2, 2, 2, 2, 2, 2, 2, 2, 2, 2, 2, 2, 2, 2, 2, 2, 2, 2, 2, 2, 2, 2, 2, 2, 2, 2, 2, 2, 2, 2, 2, 2, 2, 2, 2, 2, 2, 2, 2, 2, 2, 2, 2, 2, 2, 2, 2, 2, 2, 2, 2, 2, 2, 2, 2, 2, 2, 2, 2, 2, 2, 2, 2, 2, 2, 2, 2, 2, 2, 2, 2, 2, 2, 2, 2, 2, 2, 2, 2, 2, 2, 2, 2, 2, 2, 2, 2, 2, 2, 2, 2, 2, 2, 2, 2, 2, 2, 2, 2, 2, 2, 2, 2, 2, 2, 2, 2, 2, 2, 2, 2, 2, 2, 2, 2, 2, 2, 2, 2, 2, 2, 2, 2, 2, 2, 2, 2, 2, 2, 2, 2, 2, 2, 2, 2, 2, 2, 2, 2, 2, 2, 2, 2, 2, 2, 2, 2, 2, 2, 2, 2, 2, 2, 2, 2, 2, 2, 2, 2, 2, 2, 2, 2, 2, 2, 2, 2, 2, 2, 2, 2, 2, 2, 2, 2, 2, 2, 2, 2, 2, 2, 2, 2, 2, 2, 2, 2, 2, 2, 2, 2, 2, 2, 2, 2, 2, 2, 2, 2, 2, 2, 2, 2, 2, 2, 2, 2, 2, 2, 2, 2, 2, 2, 2, 2, 2, 2, 2, 2, 2, 2, 2, 2, 2, 2, 2, 2, 2, 2, 2, 2, 2, 2, 2, 2, 2, 2, 2, 2, 2, 2, 2, 2, 2, 2, 2, 2, 2, 2, 2, 2, 2, 2, 2, 2, 2, 2, 2, 2, 2, 2, 2, 2, 2, 2, 2, 2, 2, 2, 2, 2, 2, 2, 2, 2, 2, 2, 2, 2, 2, 2, 2, 2, 2, 2, 2, 2, 2, 2, 2, 2, 2, 2, 2, 2, 2, 2, 2, 2, 2, 2, 2, 2, 2, 2, 2, 2, 2, 2, 2, 2, 2, 2, 2, 2, 2, 2, 2, 2, 2, 2, 2, 2, 2, 2, 2, 2, 2, 2, 2, 2, 2, 2, 2, 2, 2, 2, 2, 2, 2, 2, 2, 2, 2, 2, 2, 2, 2, 2, 2, 2, 2, 2, 2, 2, 2, 2, 2, 2, 2, 2, 2, 2, 2, 2, 2, 2, 2, 2, 2, 2, 2, 2, 2, 2, 2, 2, 2, 2, 2, 2, 2, 2, 2, 2, 2, 2, 2, 2, 2, 2, 2, 2, 2, 2, 2, 2, 2, 2, 2, 2, 2, 2, 2, 2, 2, 2, 2, 2, 2, 2, 2, 2, 2, 2, 2, 2, 2, 2, 2, 2, 2, 2, 2, 2, 2, 2, 2, 2, 2, 2, 2, 2, 2, 2, 2, 2, 2, 2, 2, 2, 2, 2, 2, 2, 2, 2, 2, 2, 2, 2, 2, 2, 2, 2, 2, 2, 2, 2, 2, 2, 2, 2, 2, 2, 2, 2, 2, 2, 2, 2, 2, 2, 2, 2, 2, 2, 2, 2, 2, 2, 2, 2, 2, 2, 2, 2, 2, 2, 2, 2, 2, 2, 2, 2, 2, 2, 2, 2, 2, 2, 2, 2, 2, 2, 2, 2, 2, 2, 2, 2, 2, 2, 2, 2, 2, 2, 2, 2, 2, 2, 2, 2, 2, 2, 2, 2, 2, 2, 2, 2, 2, 2, 2, 2, 2, 2, 2, 2, 2, 2, 2, 2, 2, 2, 2, 2, 2, 2, 2, 2, 2, 2, 2, 2, 2, 2, 2, 2, 2, 2, 2, 2, 2, 2, 2, 2, 2, 2, 2, 2, 2, 2, 2, 2, 2, 2, 2, 2, 2, 2, 2, 2, 2, 2, 2, 2, 2, 2, 2, 2, 2, 2, 2, 2, 2, 2, 2, 2, 2, 2, 2, 2, 2, 2, 2, 2, 2, 2, 2, 2, 2, 2, 2, 2, 2, 2, 2, 2, 2, 2, 2, 2, 2, 2, 2, 2, 2, 2, 2, 2, 2, 2, 2, 2, 2, 2, 2, 2, 2, 2, 2, 2, 2, 2, 2, 2, 2, 2, 2, 2, 2, 2, 2, 2, 2, 2, 2, 2, 2, 2, 2, 2, 2, 2, 2, 2, 2, 2, 2, 2, 2, 2, 2, 2, 2, 2, 2, 2, 2, 2, 2, 2, 2, 2, 2, 2, 2, 2, 2, 2, 2, 2, 2, 2, 2, 2, 2, 2, 2, 2, 2, 2, 2, 2, 2, 2, 2, 2, 2, 2, 2, 2, 2, 2, 2, 2, 2, 2, 2, 2, 2, 2, 2, 2, 2, 2, 2, 2, 2, 2, 2, 2, 2, 2, 2, 2, 2, 2, 2, 2, 2, 2, 2, 2, 2, 2, 2, 2, 2, 2, 2, 2, 2, 2, 2, 2, 2, 2, 2, 2, 2, 2, 2, 2, 2, 2, 2, 2, 2, 2, 2, 2, 2, 2, 2, 2, 2, 2, 2, 2, 2, 2, 2, 2, 2, 2, 2, 2, 2, 2, 2, 2, 2, 2, 2, 2, 2, 2, 2, 2, 2, 2, 2, 2, 2, 2, 2, 2, 2, 2, 2, 2, 2, 2, 2, 2, 2, 2, 2, 2, 2, 2, 2, 2, 2, 2, 2, 2, 2, 2, 2, 2, 2, 2, 2, 2, 2, 2, 2, 2, 2, 2, 2, 2, 2, 2, 2, 2, 2, 2, 2, 2, 2, 2, 2, 2, 2, 2, 2, 2, 2, 2, 2, 2, 2, 2, 2, 2, 2, 2, 2, 2, 2, 2, 2, 2, 2, 2, 2, 2, 2, 2, 2, 2, 2, 2, 2, 2, 2, 2, 2, 2, 2, 2, 2, 2, 2, 2, 2, 2, 2, 2, 2, 2, 2, 2, 2, 2, 2, 2, 2, 2, 2, 2, 2, 2, 2, 2, 2, 2, 2, 2, 2, 2, 2, 2, 2, 2, 2, 2, 2, 2, 2, 2, 2, 2, 2, 2, 2, 2, 2, 2, 2, 2, 2, 2, 2, 2, 2, 2, 2, 2, 2, 2, 2, 2, 2, 2, 2, 2, 2, 2, 2, 2, 2, 2, 2, 2, 2, 2, 2, 2, 2, 2, 2, 2, 2, 2, 2, 2, 2, 2, 2, 2, 2, 2, 2, 2, 2, 2, 2, 2, 2, 2, 2, 2, 2, 2, 2, 2, 2, 2, 2, 2, 2, 2, 2, 2, 2, 2, 2, 2, 2, 2, 2, 2, 2, 2, 2, 2, 2, 2, 2, 2, 2, 2, 2, 2, 2, 2, 2, 2, 2, 2, 2, 2, 2, 2, 2, 2, 2, 2, 2, 2, 2, 2, 2, 2, 2, 2, 2, 2, 2, 2, 2, 2, 2, 2, 2, 2, 2, 2, 2, 2, 2, 2, 2, 2, 2, 2, 2, 2, 2, 2, 2, 2, 2, 2, 2, 2, 2, 2, 2, 2, 2, 2, 2, 2, 2, 2, 2, 2, 2, 2, 2, 2, 2, 2, 2, 2, 2, 2, 2, 2, 2, 2, 2, 2, 2, 2, 2, 2, 2, 2, 2, 2, 2, 2, 2, 2, 2, 2, 2, 2, 2, 2, 2, 2, 2, 2, 2, 2, 2, 2, 2, 2, 2, 2, 2, 2, 2, 2, 2, 2, 2, 2, 2, 2, 2, 2, 2, 2, 2, 2, 2, 2, 2, 2, 2, 2, 2, 2, 2, 2, 2, 2, 2, 2, 2, 2, 2, 2, 2, 2, 2, 2, 2, 2, 2, 2, 2, 2, 2, 2, 2, 2, 2, 2, 2, 2, 2, 2, 2, 2, 2, 2, 2, 2, 2, 2, 2, 2, 2, 2, 2, 2, 2, 2, 2, 2, 2, 2, 2, 2, 2, 2, 2, 2, 2, 2, 2, 2, 2, 2, 2, 2, 2, 2, 2, 2, 2, 2, 2, 2, 2, 2, 2, 2, 2, 2, 2, 2, 2, 2, 2, 2, 2, 2, 2, 2, 2, 2, 2, 2, 2, 2, 2, 2, 2, 2, 2, 2, 2, 2, 2, 2, 2, 2, 2, 2, 2, 2, 2, 2, 2, 2, 2, 2, 2, 2, 2, 2, 2, 2, 2, 2, 2, 2, 2, 2, 2, 2, 2, 2, 2, 2, 2, 2, 2, 2, 2, 2, 2, 2, 2, 2, 2, 2, 2, 2, 2, 2, 2, 2, 2, 2, 2, 2, 2, 2, 2, 2, 2, 2, 2, 2, 2, 2, 2, 2, 2, 2, 2, 2, 2, 2, 2, 2, 2, 2, 2, 2, 2, 2, 2, 2, 2, 2, 2, 2, 2, 2, 2, 2, 2, 2, 2, 2, 2, 2, 2, 2, 2, 2, 2, 2, 2, 2, 2, 2, 2, 2, 2, 2, 2, 2, 2, 2, 2, 2, 2, 2, 2, 2, 2, 2, 2, 2, 2, 2, 2, 2, 2, 2, 2, 2, 2, 2, 2, 2, 2, 2, 2, 2, 2, 2, 2, 2, 2, 2, 2, 2, 2, 2, 2, 2, 2, 2, 2, 2, 2, 2, 2, 2, 2, 2, 2, 2, 2, 2, 2, 2, 2, 2, 2, 2, 2, 2, 2, 2, 2, 2, 2, 2, 2, 2, 2, 2, 2, 2, 2, 2, 2, 2, 2, 2, 2, 2, 2, 2, 2, 2, 2, 2, 2, 2, 2, 2, 2, 2, 2, 2, 2, 2, 2, 2, 2, 2, 2, 2, 2, 2, 2, 2, 2, 2, 2, 2, 2, 2, 2, 2, 2, 2, 2, 2, 2, 2, 2, 2, 2, 2, 2, 2, 2, 2, 2, 2, 2, 2, 2, 2, 2, 2, 2, 2, 2, 2, 2, 2, 2, 2, 2, 2, 2, 2, 2, 2, 2, 2, 2, 2, 2, 2, 2, 2, 2, 2, 2, 2, 2, 2, 2, 2, 2, 2, 2, 2, 2, 2, 2, 2, 2, 2, 2, 2, 2, 2, 2, 2, 2, 2, 2, 2, 2, 2, 2, 2, 2, 2, 2, 2, 2, 2, 2, 2, 2, 2, 2, 2, 2, 2, 2, 2, 2, 2, 2, 2, 2, 2, 2, 2, 2, 2, 2, 2, 2, 2, 2, 2, 2, 2, 2, 2, 2, 2, 2, 2, 2, 2, 2, 2, 2, 2, 2, 2, 2, 2, 2, 2, 2, 2, 2, 2, 2, 2, 2, 2, 2, 2, 2, 2, 2, 2, 2, 2, 2, 2, 2, 2, 2, 2, 2, 2, 2, 2, 2, 2, 2, 2, 2, 2, 2, 2, 2, 2, 2, 2, 2, 2, 2, 2, 2, 2, 2, 2, 2, 2, 2, 2, 2, 2, 2, 2, 2, 2, 2, 2, 2, 2, 2, 2, 2, 2, 2, 2, 2, 2, 2, 2, 2, 2, 2, 2, 2, 2, 2, 2, 2, 2, 2, 2, 2, 2, 2, 2, 2, 2, 2, 2, 2, 2, 2, 2, 2, 2, 2, 2, 2, 2, 2, 2, 2, 2, 2, 2, 2, 2, 2, 2, 2, 2, 2, 2, 2, 2, 2, 2, 2, 2, 2, 2, 2, 2, 2, 2, 2, 2, 2, 2, 2, 2, 2, 2, 2, 2, 2, 2, 2, 2, 2, 2, 2, 2, 2, 2, 2, 2, 2, 2, 2, 2, 2, 2, 2, 2, 2, 2, 2, 2, 2, 2, 2, 2, 2, 2, 2, 2, 2, 2, 2, 2, 2, 2, 2, 2, 2, 2, 2, 2, 2, 2, 2, 2, 2, 2, 2, 2, 2, 2, 2, 2, 2, 2, 2, 2, 2, 2, 2, 2, 2, 2, 2, 2, 2, 2, 2, 2, 2, 2, 2, 2, 2, 2, 2, 2, 2, 2, 2, 2, 2, 2, 2, 2, 2, 2, 2, 2, 2, 2, 2, 2, 2, 2, 2, 2, 2, 2, 2, 2, 2, 2, 2, 2, 2, 2, 2, 2, 2, 2, 2, 2, 2, 2, 2, 2, 2, 2, 2, 2, 2, 2, 2, 2, 2, 2, 2, 2, 2, 2, 2, 2, 2, 2, 2, 2, 2, 2, 2, 2, 2, 2, 2, 2, 2, 2, 2, 2, 2, 2, 2, 2, 2, 2, 2, 2, 2, 2, 2, 2, 2, 2, 2, 2, 2, 2, 2, 2, 2, 2, 2, 2, 2, 2, 2, 2, 2, 2, 2, 2, 2, 2, 2, 2, 2, 2, 2, 2, 2, 2, 2, 2, 2, 2, 2, 2, 2, 2, 2, 2, 2, 2, 2, 2, 2, 2, 2, 2, 2, 2, 2, 2, 2, 2, 2, 2, 2, 2, 2, 2, 2, 2, 2, 2, 2, 2, 2, 2, 2, 2, 2, 2, 2, 2, 2, 2, 2, 2, 2, 2, 2, 2, 2, 2, 2, 2, 2, 2, 2, 2, 2, 2, 2, 2, 2, 2, 2, 2, 2, 2, 2, 2, 2, 2, 2, 2, 2, 2, 2, 2, 2, 2, 2, 2, 2, 2, 2, 2, 2, 2, 2, 2, 2, 2, 2, 2, 2, 2, 2, 2, 2, 2, 2, 2, 2, 2, 2, 2, 2, 2, 2, 2, 2, 2, 2, 2, 2, 2, 2, 2, 2, 2, 2, 2, 2, 2, 2, 2, 2, 2, 2, 2, 2, 2, 2, 2, 2, 2, 2, 2, 2, 2, 2, 2, 2, 2, 2, 2, 2, 2, 2, 2, 2, 2, 2, 2, 2, 2, 2, 2, 2, 2, 2, 2, 2, 2, 2, 2, 2, 2, 2, 2, 2, 2, 2, 2, 2, 2, 2, 2, 2, 2, 2, 2, 2, 2, 2, 2, 2, 2, 2, 2, 2, 2, 2, 2, 2, 2, 2, 2, 2, 2, 2, 2, 2, 2, 2, 2, 2, 2, 2, 2, 2, 2, 2, 2, 2, 2, 2, 2, 2, 2, 2, 2, 2, 2, 0, 0, 0, 0, 0, 0, 0, 0, 0, 0, 0, 0, 0, 0, 0, 0, 0, 0, 0, 0, 0, 0, 0, 0, 0, 0, 0, 0, 0, 0, 0, 0, 0, 0, 0, 0, 0, 0, 0, 0, 0, 0, 0, 0, 0, 0, 0, 0, 0, 0, 0, 0, 0, 0, 0, 0, 0, 0, 0, 0, 0, 0, 0, 0, 0, 0, 0, 0, 0, 0, 0, 0, 0, 0, 0, 0, 0, 0, 0, 0, 0, 0, 0, 0, 0, 0, 0, 0, 0, 0, 0, 0, 0, 0, 0, 0, 0, 0, 0, 0, 0, 0, 0, 0, 0, 0, 0, 0, 0, 0, 0, 0, 0, 0, 0, 0, 0, 0, 0, 0, 0, 0, 0, 0, 0, 0, 0, 0, 0, 0, 0, 0, 0, 0, 0, 0, 0, 0, 0, 0, 0, 0, 0, 0, 0, 0, 0, 0, 0, 0, 0, 0, 0, 0, 0, 0, 0, 0, 0, 0, 0, 0, 0, 0, 0, 0, 0, 0, 0, 0, 0, 0, 0, 0, 0, 0, 0, 0, 0, 0, 0, 0, 0, 0, 0, 0, 0, 0, 0, 0, 0, 0, 0, 0, 0, 0, 0, 0, 0, 0, 0, 0, 0, 0, 0, 0, 0, 0, 0, 0, 0, 0, 0, 0, 0, 0, 0, 0, 0, 0, 0, 0, 0, 0, 0, 0, 0, 0, 0, 0, 0, 0, 0, 0, 0, 0, 0, 0, 0, 0, 0, 0, 0, 0, 0, 0, 0, 0, 0, 0, 0, 0, 0, 0, 0, 0, 0, 0, 0, 0, 0, 0, 0, 0, 0, 0, 0, 0, 0, 0, 0, 0, 0, 0, 0, 0, 0, 0, 0, 0, 0, 0, 0, 0, 0, 0, 0, 0, 0, 0, 0, 0, 0, 0, 0, 0, 0, 0, 0, 0, 0, 0, 0, 0, 0, 0, 0, 0, 0, 0, 0, 0, 0, 0, 0, 0, 0, 0, 0, 0, 0, 0, 0, 0, 0, 0, 0, 0, 0, 0, 0, 0, 0, 0, 0, 0, 0, 0, 0, 0, 0, 0, 0, 0, 0, 0, 0, 0, 0, 0, 0, 0, 0, 0, 0, 0, 0, 0, 0, 0, 0, 0, 0, 0, 0, 0, 0, 0, 0, 0, 0, 0, 0, 0, 0, 0, 0, 0, 0, 0, 0, 0, 0, 0, 0, 0, 0, 0, 0, 0, 0, 0, 0, 0, 0, 0, 0, 0, 0, 0, 0, 0, 0, 0, 0, 0, 0, 0, 0, 0, 0, 0, 0, 0, 0, 0, 0, 0, 0, 0, 0, 0, 0, 0, 0, 0, 0, 0, 0, 0, 0, 0, 0, 0, 0, 0, 0, 0, 0, 0, 0, 0, 0, 0, 0, 0, 0, 0, 0, 0, 0, 0, 0, 0, 0, 0, 0, 0, 0, 0, 0, 0, 0, 0, 0, 0, 0, 0, 0, 0, 0, 0, 0, 0, 0, 0, 0, 0, 0, 0, 0, 0, 0, 0, 0, 0, 0, 0, 0, 0, 0, 0, 0, 0, 0, 0, 0, 0, 0, 0, 0, 0, 0, 0, 0, 0, 0, 0, 0, 0, 0, 0, 0, 0, 0, 0, 0, 0, 0, 0, 0, 0, 0, 0, 0, 0, 0, 0, 0, 0, 0, 0, 0, 0, 0, 0, 0, 0, 0, 0, 0, 0, 0, 0, 0, 0, 0, 0, 0, 0, 0, 0, 0, 0, 0, 0, 0, 0, 0, 0, 0, 0, 0, 0, 0, 0, 0, 0, 0, 0, 0, 0, 0, 0, 0, 0, 0, 0, 0, 0, 0, 0, 0, 0, 0, 0, 0, 0, 0, 0, 0, 0, 0, 0, 0, 0, 0, 0, 0, 0, 0, 0, 0, 0, 0, 0, 0, 0, 0, 0, 0, 0, 0, 0, 0, 0, 0, 0, 0, 0, 0, 0, 0, 0, 0, 0, 0, 0, 0, 0, 0, 0, 0, 0, 0, 0, 0, 0, 0, 0, 0, 0, 0, 0, 0, 0, 0, 0, 0, 0, 0, 0, 0, 0, 0, 0, 0, 0, 0, 0, 0, 0, 0, 0, 0, 0, 0, 0, 0, 0, 0, 0, 0, 0, 0, 0, 0, 0, 0, 0, 0, 0, 0, 0, 0, 0, 0, 0, 0, 0, 0, 0, 0, 0, 0, 0, 0, 0, 0, 0, 0, 0, 0, 0, 0, 0, 0, 0, 0, 0, 0, 0, 0, 0, 0, 0, 0, 0, 0, 0, 0, 0, 0, 0, 0, 0, 0, 0, 0, 0, 0, 0, 0, 0, 0, 0, 0, 0, 0, 0, 0, 0, 0, 0, 0, 0, 0, 0, 0, 0, 0, 0, 0, 0, 0, 0, 0, 0, 0, 0, 0, 0, 0, 0, 0, 0, 0, 0, 0, 0, 0, 0, 0, 0, 0, 0, 0, 0, 0, 0, 0, 0, 0, 0, 0, 0, 0, 0, 0, 0, 0, 0, 0, 0, 0, 0, 0, 0, 0, 0, 0, 0, 0, 0, 0, 0, 0, 0, 0, 0, 0, 0, 0, 0, 0, 0, 0, 0, 0, 0, 0, 0, 0, 0, 0, 0, 0, 0, 0, 0, 0, 0, 0, 0, 0, 0, 0, 0, 0, 0, 0, 0, 0, 0, 0, 0, 0, 0, 0, 0, 0, 0, 0, 0, 0, 0, 0, 0, 0, 0, 0, 0, 0, 0, 0, 0, 0, 0, 0, 0, 0, 0, 0, 0, 0, 0, 0, 0, 0, 0, 0, 0, 0, 0, 0, 0, 0, 0, 0, 0, 0, 0, 0, 0, 0, 0, 0, 0, 0, 0, 0, 0, 0, 0, 0, 0, 0, 0, 0, 0, 0, 0, 0, 0, 0, 0, 0, 0, 0, 0, 0, 0, 0, 0, 0, 0, 0, 0, 0, 0, 0, 0, 0, 0, 0, 0, 0, 0, 0, 0, 0, 0, 0, 0, 0, 0, 0, 0, 0, 0, 0, 0, 0, 0, 0, 0, 0, 0, 0, 0, 0, 0, 0, 0, 0, 0, 0, 0, 0, 0, 0, 0, 0, 0, 0, 0, 0, 0, 0, 0, 0, 0, 0, 0, 0, 0, 0, 0, 0, 0, 0, 0, 0, 0, 0, 0, 0, 0, 0, 0, 0, 0, 0, 0, 0, 0, 0, 0, 0, 0, 0, 0, 0, 0, 0, 0, 0, 0, 0, 0, 0, 0, 0, 0, 0, 0, 0, 0, 0, 0, 0, 0, 0, 0, 0, 0, 0, 0, 0, 0, 0, 0, 0, 0, 0, 0, 0, 0, 0, 0, 0, 0, 0, 0, 0, 0, 0, 0, 0, 0, 0, 0, 0, 0, 0, 0, 0, 0, 0, 0, 0, 0, 0, 0, 0, 0, 0, 0, 0, 0, 0, 0, 0, 0, 0, 0, 0, 0, 0, 0, 0, 0, 0, 0, 0, 0, 0, 0, 0, 0, 0, 0, 0, 0, 0, 0, 0, 0, 0, 0, 0, 0, 0, 0, 0, 0, 0, 0, 0, 0, 0, 0, 0, 0, 0, 0, 0, 0, 0, 0, 0, 0, 0, 0, 0, 0, 0, 0, 0, 0, 0, 0, 0, 0, 0, 0, 0, 0, 0, 0, 0, 0, 0, 0, 0, 0, 0, 0, 0, 0, 0, 0, 0, 0, 0, 0, 0, 0, 0, 0, 0, 0, 0, 0, 0, 0, 0, 0, 0, 0, 0, 0, 0, 0, 0, 0, 0, 0, 0, 0, 0, 0, 0, 0, 0, 0, 0, 0, 0, 0, 0, 0, 0, 0, 0, 0, 0, 0, 0, 0, 0, 0, 0, 0, 0, 0, 0, 0, 0, 0, 0, 0, 0, 0, 0, 0, 0, 0, 0, 0, 0, 0, 0, 0, 0, 0, 0, 0, 0, 0, 0, 0, 0, 0, 0, 0, 0, 0, 0, 0, 0, 0, 0, 0, 0, 0, 0, 0, 0, 0, 0, 0, 0, 0, 0, 0, 0, 0, 0, 0, 0, 0, 0, 0, 0, 0, 0, 0, 0, 0, 0, 0, 0, 0, 0, 0, 0, 0, 0, 0, 0, 0, 0, 0, 0, 0, 0, 0, 0, 0, 0, 0, 0, 0, 0, 0, 0, 0, 0, 0, 0, 0, 0, 0, 0, 0, 0, 0, 0, 0, 0, 0, 0, 0, 0, 0, 0, 0, 0, 0, 0, 0, 0, 0, 0, 0, 0, 0, 0, 0, 0, 0, 0, 0, 0, 0, 0, 0, 0, 0, 0, 0, 0, 0, 0, 0, 0, 0, 0, 0, 0, 0, 0, 0, 0, 0, 0, 0, 0, 0, 0, 0, 0, 0, 0, 0, 0, 0, 0, 0, 0, 0, 0, 0, 0, 0, 0, 0, 0, 0, 0, 0, 0, 0, 0, 0, 0, 0, 0, 0, 0, 0, 0, 0, 0, 0, 0, 0, 0, 0, 0, 0, 0, 0, 0, 0, 0, 0, 0, 0, 0, 0, 0, 0, 0, 0, 0, 0, 0, 0, 0, 0, 0, 0, 0, 0, 0, 0, 0, 0, 0, 0, 0, 0, 0, 0, 0, 0, 0, 0, 0, 0, 0, 0, 0, 0, 0, 0, 0, 0, 0, 0, 0, 0, 0, 0, 0, 0, 0, 0, 0, 0, 0, 0, 0, 0, 0, 0, 0, 0, 0, 0, 0, 0, 0, 0, 0, 0, 0, 0, 0, 0, 0, 0, 0, 0, 0, 0, 0, 0, 0, 0, 0, 0, 0, 0, 0, 0, 0, 0, 0, 0, 0, 0, 0, 0, 0, 0, 0, 0, 0, 0, 0, 0, 0, 0, 0, 0, 0, 0, 0, 0, 0, 0, 0, 0, 0, 0, 0, 0, 0, 0, 0, 0, 0, 0, 0, 0, 0, 0, 0, 0, 0, 0, 0, 0, 0, 0, 0, 0, 0, 0, 0, 0, 0, 0, 0, 0, 0, 0, 0, 0, 0, 0, 0, 0, 0, 0, 0, 0, 0, 0, 0, 0, 0, 0, 0, 0, 0, 0, 0, 0, 0, 0, 0, 0, 0, 0, 0, 0, 0, 0, 0, 0, 0, 0, 0, 0, 0, 0, 0, 0, 0, 0, 0, 0, 0, 0, 0, 0, 0, 0, 0, 0, 0, 0, 0, 0, 0, 0, 0, 0, 0, 0, 0, 0, 0, 0, 0, 0, 0, 0, 0, 0, 0, 0, 0, 0, 0, 0, 0, 0, 0, 0, 0, 0, 0, 0, 0, 0, 0, 0, 0, 0, 0, 0, 0, 0, 0, 0, 0, 0, 0, 0, 0, 0, 0, 0, 0, 0, 0, 0, 0, 0, 0, 0, 0, 0, 0, 0, 0, 0, 0, 0, 0, 0, 0, 0, 0, 0, 0, 0, 0, 0, 0, 0, 0, 0, 0, 0, 0, 0, 0, 0, 0, 0, 0, 0, 0, 0, 0, 0, 0, 0, 0, 0, 0, 0, 0, 0, 0, 0, 0, 0, 0, 0, 0, 0, 0, 0, 0, 0, 0, 0, 0, 0, 0, 0, 0, 0, 0, 0, 0, 0, 0, 0, 0, 0, 0, 0, 0, 0, 0, 0, 0, 0, 0, 0, 0, 0, 0, 0, 0, 0, 0, 0, 0, 0, 0, 0, 0, 0, 0, 0, 0, 0, 0, 0, 0, 0, 0, 0, 0, 0, 0, 0, 0, 0, 0, 0, 0, 0, 0, 0, 0, 0, 0, 0, 0, 0, 0, 0, 0, 0, 0, 0, 0, 0, 0, 0, 0, 0, 0, 0, 0, 0, 0, 0, 0, 0, 0, 0, 0, 0, 0, 0, 0, 0, 0, 0, 0, 0, 0, 0, 0, 0, 0, 0, 0, 0, 0, 0, 0, 0, 0, 0, 0, 0, 0, 0, 0, 0, 0, 0, 0, 0, 0, 0, 0, 0, 0, 0, 0, 0, 0, 0, 0, 0, 0, 0, 0, 0, 0, 0, 0, 0, 0, 0, 0, 0, 0, 0, 0, 0, 0, 0, 0, 0, 0, 0, 0, 0, 0, 0, 0, 0, 0, 0, 0, 0, 0, 0, 0, 0, 0, 0, 0, 0, 0, 0, 0, 0, 0, 0, 0, 0, 0, 0, 0, 0, 0, 0, 0, 0, 0, 0, 0, 0, 0, 0, 0, 0, 0, 0, 0, 0, 0, 0, 0, 0, 0, 0, 0, 0, 0, 0, 0, 0, 0, 0, 0, 0, 0, 0, 0, 0, 0, 0, 0, 0, 0, 0, 0, 0, 0, 0, 0, 0, 0, 0, 0, 0, 0, 0, 0, 0, 0, 0, 0, 0, 0, 0, 0, 0, 0, 0, 0, 0, 0, 0, 0, 0, 0, 0, 0, 0, 0, 0, 0, 0, 0, 0, 0, 0, 0, 0, 0, 0, 0, 0, 0, 0, 0, 0, 0, 0, 0, 0, 0, 0, 0, 0, 0, 0, 0, 0, 0, 0, 0, 0, 0, 0, 0, 0, 0, 0, 0, 0, 0, 0, 0, 0, 0, 0, 0, 0, 0, 0, 0, 0, 0, 0, 0, 0, 0, 0, 0, 0, 0, 0, 0, 0, 0, 0, 0, 0, 0, 0, 0, 0, 0, 0, 0, 0, 0, 0, 0, 0, 0, 0, 0, 0, 0, 0, 0, 0, 0, 0, 0, 0, 0, 0, 0, 0, 0, 0, 0, 0, 0, 0, 0, 0, 0, 0, 0, 0, 0, 0, 0, 0, 0, 0, 0, 0, 0, 0, 0, 0, 0, 0, 0, 0, 0, 0, 0, 0, 0, 0, 0, 0, 0, 0, 0, 0, 0, 0, 0, 0, 0, 0, 0, 0, 0, 0, 0, 0, 0, 0, 0, 0, 0, 0, 0, 0, 0, 0, 0, 0, 0, 0, 0, 0, 0, 0, 0, 0, 0, 0, 0, 0, 0, 0, 0, 0, 0, 0, 0, 0, 0, 0, 0, 0, 0, 0, 0, 0, 0, 0, 0, 0, 0, 0, 0, 0, 0, 0, 0, 0, 0, 0, 0, 0, 0, 0, 0, 0, 0, 0, 0, 0, 0, 0, 0, 0, 0, 0, 0, 0, 0, 0, 0, 0, 0, 0, 0, 0, 0, 0, 0, 0, 0, 0, 0, 0, 0, 0, 0, 0, 0, 0, 0, 0, 0, 0, 0, 0, 0, 0, 0, 0, 0, 0, 0, 0, 0, 0, 0, 0, 0, 0, 0, 0, 0, 0, 0, 0, 0, 0, 0, 0, 0, 0, 0, 0, 0, 0, 0, 0, 0, 0, 0, 0, 0, 0, 0, 0, 0, 0, 0, 0, 0, 0, 0, 0, 0, 0, 0, 0, 0, 0, 0, 0, 0, 0, 0, 0, 0, 0, 0, 0, 0, 0, 0, 0, 0, 0, 0, 0, 0, 0, 0, 0, 0, 0, 0, 0, 0, 0, 0, 0, 0, 0, 0, 0, 0, 0, 0, 0, 0, 0, 0, 0, 0, 0, 0, 0, 0, 0, 0, 0, 0, 0, 0, 0, 0, 0, 0, 0, 0, 0, 0, 0, 0, 0, 0, 0, 0, 0, 0, 0, 0, 0, 0, 0, 0, 0, 0, 0, 0, 0, 0, 0, 0, 0, 0, 0, 0, 0, 0, 0, 0, 0, 0, 0, 0, 0, 0, 0, 0, 0, 0, 0, 0, 0, 0, 0, 0, 0, 0, 0, 0, 0, 0, 0, 0, 0, 0, 0, 0, 0, 0, 0, 0, 0, 0, 0, 0, 0, 0, 0, 0, 0, 0, 0, 0, 0, 0, 0, 0, 0, 0, 0, 0, 0, 0, 0, 0, 0, 0, 0, 0, 0, 0, 0, 0, 0, 0, 0, 0, 0, 0, 0, 0, 0, 0, 0, 0, 0, 0, 0, 0, 0, 0, 0, 0, 0, 0, 0, 0, 0, 0, 0, 0, 0, 0, 0, 0, 0, 0, 0, 0, 0, 0, 0, 0, 0, 0, 0, 0, 0, 0, 0, 0, 0, 0, 0, 0, 0, 0, 0, 0, 0, 0, 0, 0, 0, 0, 0, 0, 0, 0, 0, 0, 0, 0, 0, 0, 0, 0, 0, 0, 0, 0, 0, 0, 0, 0, 0, 0, 0, 0, 0, 0, 0, 0, 0, 0, 0, 0, 0, 0, 0, 0, 0, 0, 0, 0, 0, 0, 0, 0, 0, 0, 0, 0, 0, 0, 0, 0, 0, 0, 0, 0, 0, 0, 0, 0, 0, 0, 0, 0, 0, 0, 0, 0, 0, 0, 0, 0, 0, 0, 0, 0, 0, 0, 0, 0, 0, 0, 0, 0, 0, 0, 0, 0, 0, 0, 0, 0, 0, 0, 0, 0, 0, 0, 0, 0, 0, 0, 0, 0, 0, 0, 0, 0, 0, 0, 0, 0, 0, 0, 0, 0, 0, 0, 0, 0, 0, 0, 0, 0, 0, 0, 0, 0, 0, 0, 0, 0, 0, 0, 0, 0, 0, 0, 0, 0, 0, 0, 0, 0, 0, 0, 0, 0, 0, 0, 0, 0, 0, 0, 0, 0, 0, 0, 0, 0, 0, 0, 0, 0, 0, 0, 0, 0, 0, 0, 0, 0, 0, 0, 0, 0, 0, 0, 0, 0, 0, 0, 0, 0, 0, 0, 0, 0, 0, 0, 0, 0, 0, 0, 0, 0, 0, 0, 0, 0, 0, 0, 0, 0, 0, 0, 0, 0, 0, 0, 0, 0, 0, 0, 0, 0, 0, 0, 0, 0, 0, 0, 0, 0, 0, 0, 0, 0, 0, 0, 0, 0, 0, 0, 0, 0, 0, 0, 0, 0, 0, 0, 0, 0, 0, 0, 0, 0, 0, 0, 0, 0, 0, 0, 0, 0, 0, 0, 0, 0, 0, 0, 0, 0, 0, 0, 0, 0, 0, 0, 0, 0, 0, 0, 0, 0, 0, 0, 0, 0, 0, 0, 0, 0, 0, 0, 0, 0, 0, 0, 0, 0, 0, 0, 0, 0, 0, 0, 0, 0, 0, 0, 0, 0, 0, 0, 0, 0, 0, 0, 0, 0, 0, 0, 0, 0, 0, 0, 0, 0, 0, 0, 0, 0, 0, 0, 0, 0, 0, 0, 0, 0, 0, 0, 0, 0, 0, 0, 0, 0, 0, 0, 0, 0, 0, 0, 0, 0, 0, 0, 0, 0, 0, 0, 0, 0, 0, 0, 0, 0, 0, 0, 0, 0, 0, 0, 0, 0, 0, 0, 0, 0, 0, 0, 0, 0, 0, 0, 0, 0, 0, 0, 0, 0, 0, 0, 0, 0, 0, 0, 0, 0, 0, 0, 0, 0, 0, 0, 0, 0, 0, 0, 0, 0, 0, 0, 0, 0, 0, 0, 0, 0, 0, 0, 0, 0, 0, 0, 0, 0, 0, 0, 0, 0, 0, 0, 0, 0, 0, 0, 0, 0, 0, 0, 0, 0, 0, 0, 0, 0, 0, 0, 0, 0, 0, 0, 0, 0, 0, 0, 0, 0, 0, 0, 0, 0, 0, 0, 0, 0, 0, 0, 0, 0, 0, 0, 0, 0, 0, 0, 0, 0, 0, 0, 0, 0, 0, 0, 0, 0, 0, 0, 0, 0, 0, 0, 0, 0, 0, 0, 0, 0, 0, 0, 0, 0, 0, 0, 0, 0, 0, 0, 0, 0, 0, 0, 0, 0, 0, 0, 0, 0, 0, 0, 0, 0, 0, 0, 0, 0, 0, 0, 0, 0, 0, 0, 0, 0, 0, 0, 0, 0, 0, 0, 0, 0, 0, 0, 0, 0, 0, 0, 0, 0, 0, 0, 0, 0, 0, 0, 0, 0, 0, 0, 0, 0, 0, 0, 0, 0, 0, 0, 0, 0, 0, 0, 0, 0, 0, 0, 0, 0, 0, 0, 0, 0, 0, 0, 0, 0, 0, 0, 0, 0, 0, 0, 0, 0, 0, 0, 0, 0, 0, 0, 0, 0, 0, 0, 0, 0, 0, 0, 0, 0, 0, 0, 0, 0, 0, 0, 0, 0, 0, 0, 0, 0, 0, 0, 0, 0, 0, 0, 0, 0, 0, 0, 0, 0, 0, 0, 0, 0, 0, 0, 0, 0, 0, 0, 0, 0, 0, 0, 0, 0, 0, 0, 0, 0, 0, 0, 0, 0, 0, 0, 0, 0, 0, 0, 0, 0, 0, 0, 0, 0, 0, 0, 0, 0, 0, 0, 0, 0, 0, 0, 0, 0, 0, 0, 0, 0, 0, 0, 0, 0, 0, 0, 0, 0, 0, 0, 0, 0, 0, 0, 0, 0, 0, 0, 0, 0, 0, 0, 0, 0, 0, 0, 0, 0, 0, 0, 0, 0, 0, 0, 0, 0, 0, 0, 0, 0, 0, 0, 0, 0, 0, 0, 0, 0, 0, 0, 0, 0, 0, 0, 0, 0, 0, 0, 0, 0, 0, 0, 0, 0, 0, 0, 0, 0, 0, 0, 0, 0, 0, 0, 0, 0, 0, 0, 0, 0, 0, 0, 0, 0, 0, 0, 0, 0, 0, 0, 0, 0, 0, 0, 0, 0, 0, 0, 0, 0, 0, 0, 0, 0, 0, 0, 0, 0, 0, 0, 0, 0, 0, 0, 0, 0, 0, 0, 0, 0, 0, 0, 0, 0, 0, 0, 0, 0, 0, 0, 0, 0, 0, 0, 0, 0, 0, 0, 0, 0, 0, 0, 0, 0, 0, 0, 0, 0, 0, 0, 0, 0, 0, 0, 0, 0, 0, 0, 0, 0, 0, 0, 0, 0, 0, 0, 0, 0, 0, 0, 0, 0, 0, 0, 0, 0, 0, 0, 0, 0, 0, 0, 0, 0, 0, 0, 0, 0, 0, 0, 0, 0, 0, 0, 0, 0, 0, 0, 0, 0, 0, 0, 0, 0, 0, 0, 0, 0, 0, 0, 0, 0, 0, 0, 0, 0, 0, 0, 0, 0, 0, 0, 0, 0, 0, 0, 0, 0, 0, 0, 0, 0, 0, 0, 0, 0, 0, 0, 0, 0, 0, 0, 0, 0, 0, 0, 0, 0, 0, 0, 0, 0, 0, 0, 0, 0, 0, 0, 0, 0, 0, 0, 0, 0, 0, 0, 0, 0, 0, 0, 0, 0, 0, 0, 0, 0, 0, 0, 0, 0, 0, 0, 0, 0, 0, 0, 0, 0, 0, 0, 0, 0, 0, 0, 0, 0, 0, 0, 0, 0, 0, 0, 0, 0, 0, 0, 0, 0, 0, 0, 0, 0, 0, 0, 0, 0, 0, 0, 0, 0, 0, 0, 0, 0, 0, 0, 0, 0, 0, 0, 0, 0, 0, 0, 0, 0, 0, 0, 0, 0, 0, 0, 0, 0, 0, 0, 0, 0, 0, 0, 0, 0, 0, 0, 0, 0, 0, 0, 0, 0, 0, 0, 0, 0, 0, 0, 0, 0, 0, 0, 0, 0, 0, 0, 0, 0, 0, 0, 0, 0, 0, 0, 0, 0, 0, 0, 0, 0, 0, 0, 0, 0, 0, 0, 0, 0, 0, 0, 0, 0, 0, 0, 0, 0, 0, 0, 0, 0, 0, 0, 0, 0, 0, 0, 0, 0, 0, 0, 0, 0, 0, 0, 0, 0, 0, 0, 0, 0, 0, 0, 0, 0, 0, 0, 0, 0, 0, 0, 0, 0, 0, 0, 0, 0, 0, 0, 0, 0, 0, 0, 0, 0, 0, 0, 0, 0, 0, 0, 0, 0, 0, 0, 0, 0, 0, 0, 0, 0, 0, 0, 0, 0, 0, 0, 0, 0, 0, 0, 0, 0, 0, 0, 0, 0, 0, 0, 0, 0, 0, 0, 0, 0, 0, 0, 0, 0, 0, 0, 0, 0, 0, 0, 0, 0, 0, 0, 0, 0, 0, 0, 0, 0, 0, 0, 0, 0, 0, 0, 0, 0, 0, 0, 0, 0, 0, 0, 0, 0, 0, 0, 0, 0, 0, 0, 0, 0, 0, 0, 0, 0, 0, 0, 0, 0, 0, 0, 0, 0, 0, 0, 0, 0, 0, 0, 0, 0, 0, 0, 0, 0, 0, 0, 0, 0, 0, 0, 0, 0, 0, 0, 0, 0, 0, 0, 0, 0, 0, 0, 0, 0, 0, 0, 0, 0, 0, 0, 0, 0, 0, 0, 0, 0, 0, 0, 0, 0, 0, 0, 0, 0, 0, 0, 0, 0, 0, 0, 0, 0, 0, 0, 0, 0, 0, 0, 0, 0, 0, 0, 0, 0, 0, 0, 0, 0, 0, 0, 0, 0, 0, 0, 0, 0, 0, 0, 0, 0, 0, 0, 0, 0, 0, 0, 0, 0, 0, 0, 0, 0, 0, 0, 0, 0, 0, 0, 0, 0, 0, 0, 0, 0, 0, 0, 0, 0, 0, 0, 0, 0, 0, 0, 0, 0, 0, 0, 0, 0, 0, 0, 0, 0, 0, 0, 0, 0, 0, 0, 0, 0, 0, 0, 0, 0, 0, 0, 0, 0, 0, 0, 0, 0, 0, 0, 0, 0, 0, 0, 0, 0, 0, 0, 0, 0, 0, 0, 0, 0, 0, 0, 0, 0, 0, 0, 0, 0, 0, 0, 0, 0, 0, 0, 0, 0, 0, 0, 0, 0, 0, 0, 0, 0, 0, 0, 0, 0, 0, 0, 0, 0, 0, 0, 0, 0, 0, 0, 0, 0, 0, 0, 0, 0, 0, 0, 0, 0, 0, 0, 0, 0, 0, 0, 0, 0, 0, 0, 0, 0, 0, 0, 0, 0, 0, 0, 0, 0, 0, 0, 0, 0, 0, 0, 0, 0, 0, 0, 0, 0, 0, 0, 0, 0, 0, 0, 0, 0, 0, 0, 0, 0, 0, 0, 0, 0, 0, 0, 0, 0, 0, 0, 0, 0, 0, 0, 0, 0, 0, 0, 0, 0, 0, 0, 0, 0, 0, 0, 0, 0, 0, 0, 0, 0, 0, 0, 0, 0, 0, 0, 0, 0, 0]\n",
      "1\n",
      "[0, 0, 0, 0, 0, 0, 0, 0, 0, 0, 0, 0, 0, 0, 0, 0, 0, 0, 0, 0, 0, 0, 0, 0, 0, 0, 0, 0, 0, 0, 0, 0, 0, 0, 0, 0, 0, 0, 0, 0, 0, 0, 0, 0, 0, 0, 0, 0, 0, 0, 0, 0, 0, 0, 0, 0, 0, 0, 0, 0, 0, 0, 0, 0, 0, 0, 0, 0, 0, 0, 0, 0, 0, 0, 0, 0, 0, 0, 0, 0, 0, 0, 0, 0, 0, 0, 0, 0, 0, 0, 0, 0, 0, 0, 0, 0, 0, 0, 0, 0, 0, 0, 0, 0, 0, 0, 0, 0, 0, 0, 0, 0, 0, 0, 0, 0, 0, 0, 0, 0, 0, 0, 0, 0, 0, 0, 0, 0, 0, 0, 0, 0, 0, 0, 0, 0, 0, 0, 0, 0, 0, 0, 0, 0, 0, 0, 0, 0, 0, 0, 0, 0, 0, 0, 0, 0, 0, 0, 0, 0, 0, 0, 0, 0, 0, 0, 0, 0, 0, 0, 0, 0, 0, 0, 0, 0, 0, 0, 0, 0, 0, 0, 0, 0, 0, 0, 0, 0, 0, 0, 0, 0, 0, 0, 0, 0, 0, 0, 0, 0, 0, 0, 0, 0, 0, 0, 0, 0, 0, 0, 0, 0, 0, 0, 0, 0, 0, 0, 0, 0, 0, 0, 0, 0, 0, 0, 0, 0, 0, 0, 0, 0, 0, 0, 0, 0, 0, 0, 0, 0, 0, 0, 0, 0, 0, 0, 0, 0, 0, 0, 0, 0, 0, 0, 0, 0, 0, 0, 0, 0, 0, 0, 0, 0, 0, 0, 0, 0, 0, 0, 0, 0, 0, 0, 0, 0, 0, 0, 0, 0, 0, 0, 0, 0, 0, 0, 0, 0, 0, 0, 0, 0, 0, 0, 0, 0, 0, 0, 0, 0, 0, 0, 0, 0, 0, 0, 0, 0, 0, 0, 0, 0, 0, 0, 0, 0, 0, 0, 0, 0, 0, 0, 0, 0, 0, 0, 0, 0, 0, 0, 0, 0, 0, 0, 0, 0, 0, 0, 0, 0, 0, 0, 0, 0, 0, 0, 0, 0, 0, 0, 0, 0, 0, 0, 0, 0, 0, 0, 0, 0, 0, 0, 0, 0, 0, 0, 0, 0, 0, 0, 0, 0, 0, 0, 0, 0, 0, 0, 0, 0, 0, 0, 0, 0, 0, 0, 0, 0, 0, 0, 0, 0, 0, 0, 0, 0, 0, 0, 0, 0, 0, 0, 0, 0, 0, 0, 0, 0, 0, 0, 0, 0, 0, 0, 0, 0, 0, 0, 0, 0, 0, 0, 0, 0, 0, 0, 0, 0, 0, 0, 0, 0, 0, 0, 0, 0, 0, 0, 0, 0, 0, 0, 0, 0, 0, 0, 0, 0, 0, 0, 0, 0, 0, 0, 0, 0, 0, 0, 0, 0, 0, 0, 0, 0, 0, 0, 0, 0, 0, 0, 0, 0, 0, 0, 0, 0, 0, 0, 0, 0, 0, 0, 0, 0, 0, 0, 0, 0, 0, 0, 0, 0, 0, 0, 0, 0, 0, 0, 0, 0, 0, 0, 0, 0, 0, 0, 0, 0, 0, 0, 0, 0, 0, 0, 0, 0, 0, 0, 0, 0, 0, 0, 0, 0, 0, 0, 0, 0, 0, 0, 0, 0, 0, 0, 0, 0, 0, 0, 0, 0, 0, 0, 0, 0, 0, 0, 0, 0, 0, 0, 0, 0, 0, 0, 0, 0, 0, 0, 0, 0, 0, 0, 0, 0, 0, 0, 0, 0, 0, 0, 0, 0, 0, 0, 0, 0, 0, 0, 0, 0, 0, 0, 0, 0, 0, 0, 0, 0, 0, 0, 0, 0, 0, 0, 0, 0, 0, 0, 0, 0, 0, 0, 0, 0, 0, 0, 0, 0, 0, 0, 0, 0, 0, 0, 0, 0, 0, 0, 0, 0, 0, 0, 0, 0, 0, 0, 0, 0, 0, 0, 0, 0, 0, 0, 0, 0, 0, 0, 0, 0, 0, 0, 0, 0, 0, 0, 0, 0, 0, 0, 0, 0, 0, 0, 0, 0, 0, 0, 0, 0, 0, 0, 0, 0, 0, 0, 0, 0, 0, 0, 0, 0, 0, 0, 0, 0, 0, 0, 0, 0, 0, 0, 0, 0, 0, 0, 0, 0, 0, 0, 0, 0, 0, 0, 0, 0, 0, 0, 0, 0, 0, 0, 0, 0, 0, 0, 0, 0, 0, 0, 0, 0, 0, 0, 0, 0, 0, 0, 0, 0, 0, 0, 0, 0, 0, 0, 0, 0, 0, 0, 0, 0, 0, 0, 0, 0, 0, 0, 0, 0, 0, 0, 0, 0, 0, 0, 0, 0, 0, 0, 0, 0, 0, 0, 0, 0, 0, 0, 0, 0, 0, 0, 0, 0, 0, 0, 0, 0, 0, 0, 0, 0, 0, 0, 0, 0, 0, 0, 0, 0, 0, 0, 0, 0, 0, 0, 0, 0, 0, 0, 0, 0, 0, 0, 0, 0, 0, 0, 0, 0, 0, 0, 0, 0, 0, 0, 0, 0, 0, 0, 0, 0, 0, 0, 0, 0, 0, 0, 0, 0, 0, 0, 0, 0, 0, 0, 0, 0, 0, 0, 0, 0, 0, 0, 0, 0, 0, 0, 0, 0, 0, 0, 0, 0, 0, 0, 0, 0, 0, 0, 0, 0, 0, 0, 0, 0, 0, 0, 0, 0, 0, 0, 0, 0, 0, 0, 0, 0, 0, 0, 0, 0, 0, 0, 0, 0, 0, 0, 0, 0, 0, 0, 0, 0, 0, 0, 0, 0, 0, 0, 0, 0, 0, 0, 0, 0, 0, 0, 0, 0, 0, 0, 0, 0, 0, 0, 0, 0, 0, 0, 0, 0, 0, 0, 0, 0, 0, 0, 0, 0, 0, 0, 0, 0, 0, 0, 0, 0, 0, 0, 0, 0, 0, 0, 0, 0, 0, 0, 0, 0, 0, 0, 0, 0, 0, 0, 0, 0, 0, 0, 0, 0, 0, 0, 0, 0, 0, 0, 0, 0, 0, 0, 0, 0, 0, 0, 0, 0, 0, 0, 0, 0, 0, 0, 0, 0, 0, 0, 0, 0, 0, 0, 0, 0, 0, 0, 0, 0, 0, 0, 0, 0, 0, 0, 0, 0, 0, 0, 0, 0, 0, 0, 0, 0, 0, 0, 0, 0, 0, 0, 0, 0, 0, 0, 0, 0, 0, 0, 0, 0, 0, 0, 0, 0, 0, 0, 0, 0, 0, 0, 0, 0, 0, 0, 0, 0, 0, 0, 0, 0, 0, 0, 0, 0, 0, 0, 0, 0, 0, 0, 0, 0, 0, 0, 0, 0, 0, 0, 0, 0, 0, 0, 0, 0, 0, 0, 0, 0, 0, 0, 0, 0, 0, 0, 0, 0, 0, 0, 0, 0, 0, 0, 0, 0, 0, 0, 0, 0, 0, 0, 0, 0, 0, 0, 0, 0, 0, 0, 0, 0, 0, 0, 0, 0, 0, 0, 0, 0, 0, 0, 0, 0, 0, 0, 0, 0, 0, 0, 0, 0, 0, 0, 0, 0, 0, 0, 0, 0, 0, 0, 0, 0, 0, 0, 0, 0, 0, 0, 0, 0, 0, 0, 0, 0, 0, 0, 0, 0, 0, 0, 0, 0, 0, 0, 0, 0, 0, 0, 0, 0, 0, 0, 0, 0, 0, 0, 0, 0, 0, 0, 0, 0, 0, 0, 0, 0, 0, 0, 0, 0, 0, 0, 0, 0, 0, 0, 0, 0, 0, 0, 0, 0, 0, 0, 0, 0, 0, 0, 0, 0, 0, 0, 0, 0, 0, 0, 0, 0, 0, 0, 0, 0, 0, 0, 0, 0, 0, 0, 0, 0, 0, 0, 0, 0, 0, 0, 0, 0, 0, 0, 0, 0, 0, 0, 0, 0, 0, 0, 0, 0, 0, 0, 0, 0, 0, 0, 0, 0, 0, 0, 0, 0, 0, 0, 0, 0, 0, 0, 0, 0, 0, 0, 0, 0, 0, 0, 0, 0, 0, 0, 0, 0, 0, 0, 0, 0, 0, 0, 0, 0, 0, 0, 0, 0, 0, 0, 0, 0, 0, 0, 0, 0, 0, 0, 0, 0, 0, 0, 0, 0, 0, 0, 0, 0, 0, 0, 0, 0, 0, 0, 0, 0, 0, 0, 0, 0, 0, 0, 0, 0, 0, 0, 0, 0, 0, 0, 0, 0, 0, 0, 0, 0, 0, 0, 0, 0, 0, 0, 0, 0, 0, 0, 0, 0, 0, 0, 0, 0, 0, 0, 0, 0, 0, 0, 0, 0, 0, 0, 0, 0, 0, 0, 0, 0, 0, 0, 0, 0, 0, 0, 0, 0, 0, 0, 0, 0, 0, 0, 0, 0, 0, 0, 0, 0, 0, 0, 0, 0, 0, 0, 0, 0, 0, 0, 0, 0, 0, 0, 0, 0, 0, 0, 0, 0, 0, 0, 0, 0, 0, 0, 0, 0, 0, 0, 0, 0, 0, 0, 0, 0, 0, 0, 0, 0, 0, 0, 0, 0, 0, 0, 0, 0, 0, 0, 0, 0, 0, 0, 0, 0, 0, 0, 0, 0, 0, 0, 0, 0, 0, 0, 0, 0, 0, 0, 0, 0, 0, 0, 0, 0, 0, 0, 0, 0, 0, 0, 0, 0, 0, 0, 0, 0, 0, 0, 0, 0, 0, 0, 0, 0, 0, 0, 0, 0, 0, 0, 0, 0, 0, 0, 0, 0, 0, 0, 0, 0, 0, 0, 0, 0, 0, 0, 0, 0, 0, 0, 0, 0, 0, 0, 0, 0, 0, 0, 0, 0, 0, 0, 0, 0, 0, 0, 0, 0, 0, 0, 0, 0, 0, 0, 0, 0, 0, 0, 0, 0, 0, 0, 0, 0, 0, 0, 0, 0, 0, 0, 0, 0, 0, 0, 0, 0, 0, 0, 0, 0, 0, 0, 0, 0, 0, 0, 0, 0, 0, 0, 0, 0, 0, 0, 0, 0, 0, 0, 0, 0, 0, 0, 0, 0, 0, 0, 0, 0, 0, 0, 0, 0, 0, 0, 0, 0, 0, 0, 0, 0, 0, 0, 0, 0, 0, 0, 0, 0, 0, 0, 0, 0, 0, 0, 0, 0, 0, 0, 0, 0, 0, 0, 0, 0, 0, 0, 0, 0, 0, 0, 0, 0, 0, 0, 0, 0, 0, 0, 0, 0, 0, 0, 0, 0, 0, 0, 0, 0, 0, 0, 0, 0, 0, 0, 0, 0, 0, 0, 0, 0, 0, 0, 0, 0, 0, 0, 0, 0, 0, 0, 0, 0, 0, 0, 0, 0, 0, 0, 0, 0, 0, 0, 0, 0, 0, 0, 0, 0, 0, 0, 0, 0, 0, 0, 0, 0, 0, 0, 0, 0, 0, 0, 0, 0, 0, 0, 0, 0, 0, 0, 0, 0, 0, 0, 0, 0, 0, 0, 0, 0, 0, 0, 0, 0, 0, 0, 0, 0, 0, 0, 0, 0, 0, 0, 0, 0, 0, 0, 0, 0, 0, 0, 0, 0, 0, 0, 0, 0, 0, 0, 0, 0, 0, 0, 0, 0, 0, 0, 0, 0, 0, 0, 0, 0, 0, 0, 0, 0, 0, 0, 0, 0, 0, 0, 0, 0, 0, 0, 0, 0, 0, 0, 0, 0, 0, 0, 0, 0, 0, 0, 0, 0, 0, 0, 0, 0, 0, 0, 0, 0, 0, 0, 0, 0, 0, 0, 0, 0, 0, 0, 0, 0, 0, 0, 0, 0, 0, 0, 0, 0, 0, 0, 0, 0, 0, 0, 0, 0, 0, 0, 0, 0, 0, 0, 0, 0, 0, 0, 0, 0, 0, 0, 0, 0, 0, 0, 0, 0, 0, 0, 0, 0, 0, 0, 0, 0, 0, 0, 0, 0, 0, 0, 0, 0, 0, 0, 0, 0, 0, 0, 0, 0, 0, 0, 0, 0, 0, 0, 0, 0, 0, 0, 0, 0, 0, 0, 0, 0, 0, 0, 0, 0, 0, 0, 0, 0, 0, 0, 0, 0, 0, 0, 0, 0, 0, 0, 0, 0, 0, 0, 0, 0, 0, 0, 0, 0, 0, 0, 0, 0, 0, 0, 0, 0, 0, 0, 0, 0, 0, 0, 0, 0, 0, 0, 0, 0, 0, 0, 0, 0, 0, 0, 0, 0, 0, 0, 0, 0, 0, 0, 0, 0, 0, 0, 0, 0, 0, 0, 0, 0, 0, 0, 0, 0, 0, 0, 0, 0, 0, 0, 0, 0, 0, 0, 0, 0, 0, 0, 0, 0, 0, 0, 0, 0, 0, 0, 0, 0, 0, 0, 0, 0, 0, 0, 0, 0, 0, 0, 0, 0, 0, 0, 0, 0, 0, 0, 0, 0, 0, 0, 0, 0, 0, 0, 0, 0, 0, 0, 0, 0, 0, 0, 0, 0, 0, 0, 0, 0, 0, 0, 0, 0, 0, 0, 0, 0, 0, 0, 0, 0, 0, 0, 0, 0, 0, 0, 0, 0, 0, 0, 0, 0, 0, 0, 0, 0, 0, 0, 0, 0, 0, 0, 0, 0, 0, 0, 0, 0, 0, 0, 0, 0, 0, 0, 0, 0, 0, 0, 0, 0, 0, 0, 0, 0, 0, 0, 0, 0, 0, 0, 0, 0, 0, 0, 0, 0, 0, 0, 0, 0, 0, 0, 0, 0, 0, 0, 0, 0, 0, 0, 0, 0, 0, 0, 0, 0, 0, 0, 0, 0, 0, 0, 0, 0, 0, 0, 0, 0, 0, 0, 0, 0, 0, 0, 0, 0, 0, 0, 0, 0, 0, 0, 0, 0, 0, 0, 0, 0, 0, 0, 0, 0, 0, 0, 0, 0, 0, 0, 0, 0, 0, 0, 0, 0, 0, 0, 0, 0, 0, 0, 0, 0, 0, 0, 0, 0, 0, 0, 0, 0, 0, 0, 0, 0, 0, 0, 0, 0, 0, 0, 0, 0, 0, 0, 0, 0, 0, 0, 0, 0, 0, 0, 0, 0, 0, 0, 0, 0, 0, 0, 0, 0, 0, 0, 0, 0, 0, 0, 0, 0, 0, 0, 0, 0, 0, 0, 0, 0, 0, 0, 0, 0, 0, 0, 0, 0, 0, 0, 0, 0, 0, 0, 0, 0, 0, 0, 0, 0, 0, 0, 0, 0, 0, 0, 0, 0, 0, 0, 0, 0, 0, 0, 0, 0, 0, 0, 0, 0, 0, 0, 0, 0, 0, 0, 0, 0, 0, 0, 0, 0, 0, 0, 0, 0, 0, 0, 0, 0, 0, 0, 0, 0, 0, 0, 0, 0, 0, 0, 0, 0, 0, 0, 0, 0, 0, 0, 0, 0, 0, 0, 0, 0, 0, 0, 0, 0, 0, 0, 0, 0, 0, 0, 0, 0, 0, 0, 0, 0, 0, 0, 0, 0, 0, 0, 0, 0, 0, 0, 0, 0, 0, 0, 0, 0, 0, 0, 0, 0, 0, 0, 0, 0, 0, 0, 0, 0, 0, 0, 0, 0, 0, 0, 0, 0, 0, 0, 0, 0, 0, 0, 0, 0, 0, 0, 0, 0, 0, 0, 0, 0, 0, 0, 0, 0, 0, 0, 0, 0, 0, 0, 0, 0, 0, 0, 0, 0, 0, 0, 0, 0, 0, 0, 0, 0, 0, 0, 0, 0, 0, 0, 0, 0, 0, 0, 0, 0, 0, 0, 0, 0, 0, 0, 0, 0, 0, 0, 0, 0, 0, 0, 0, 0, 0, 0, 0, 0, 0, 0, 0, 0, 0, 0, 0, 0, 0, 0, 0, 0, 0, 0, 0, 0, 0, 0, 0, 0, 0, 0, 0, 0, 0, 0, 0, 0, 0, 0, 0, 0, 0, 0, 0, 0, 0, 0, 0, 0, 0, 0, 0, 0, 0, 0, 0, 0, 0, 0, 0, 0, 0, 0, 0, 0, 0, 0, 0, 0, 0, 0, 0, 0, 0, 0, 0, 0, 0, 0, 0, 0, 0, 0, 0, 0, 0, 0, 0, 0, 0, 0, 0, 0, 0, 0, 0, 0, 0, 0, 0, 0, 0, 0, 0, 0, 0, 0, 0, 0, 0, 0, 0, 0, 0, 0, 0, 0, 0, 0, 0, 0, 0, 0, 0, 0, 0, 0, 0, 0, 0, 0, 0, 0, 0, 0, 0, 0, 0, 0, 0, 0, 0, 0, 0, 0, 0, 0, 0, 0, 0, 0, 0, 0, 0, 0, 0, 0, 0, 0, 0, 0, 0, 0, 0, 0, 0, 0, 0, 0, 0, 0, 0, 0, 0, 0, 0, 0, 0, 0, 0, 0, 0, 0, 0, 0, 0, 0, 0, 0, 0, 0, 0, 0, 0, 0, 0, 0, 0, 0, 0, 0, 0, 0, 0, 0, 0, 0, 0, 0, 0, 0, 0, 0, 0, 0, 0, 0, 0, 0, 0, 0, 0, 0, 0, 0, 0, 0, 0, 0, 0, 0, 0, 0, 0, 0, 0, 0, 0, 0, 0, 0, 0, 0, 0, 0, 0, 0, 0, 0, 0, 0, 0, 0, 0, 0, 0, 0, 0, 0, 0, 0, 0, 0, 0, 0, 0, 0, 0, 0, 0, 0, 0, 0, 0, 0, 0, 0, 0, 0, 0, 0, 0, 0, 0, 0, 0, 0, 0, 0, 0, 0, 0, 0, 0, 0, 0, 0, 0, 0, 0, 0, 0, 0, 0, 0, 0, 0, 0, 0, 0, 0, 0, 0, 0, 0, 0, 0, 0, 0, 0, 0, 0, 0, 0, 0, 0, 0, 0, 0, 0, 0, 0, 0, 0, 0, 0, 0, 0, 0, 0, 0, 0, 0, 0, 0, 0, 0, 0, 0, 0, 0, 0, 0, 0, 0, 0, 0, 0, 0, 0, 0, 0, 0, 0, 0, 0, 0, 0, 0, 0, 0, 0, 0, 0, 0, 0, 0, 0, 0, 0, 0, 0, 0, 0, 0, 0, 0, 0, 0, 0, 0, 0, 0, 0, 0, 0, 0, 0, 0, 0, 0, 0, 0, 0, 0, 0, 0, 0, 0, 0, 0, 0, 0, 0, 0, 0, 0, 0, 0, 0, 0, 0, 0, 0, 0, 0, 0, 0, 0, 0, 0, 0, 0, 0, 0, 0, 0, 0, 0, 0, 0, 0, 0, 0, 0, 0, 0, 0, 0, 0, 0, 0, 0, 0, 0, 0, 0, 0, 0, 0, 0, 0, 0, 0, 0, 0, 0, 0, 0, 0, 0, 0, 0, 0, 0, 0, 0, 0, 0, 0, 0, 0, 0, 0, 0, 0, 0, 0, 0, 0, 0, 0, 0, 0, 0, 0, 0, 0, 0, 0, 0, 0, 0, 0, 0, 0, 0, 0, 0, 0, 0, 0, 0, 0, 0, 0, 0, 0, 0, 0, 0, 0, 0, 0, 0, 0, 0, 0, 0, 0, 0, 0, 0, 0, 0, 0, 0, 0, 0, 0, 0, 0, 0, 0, 0, 0, 0, 0, 0, 0, 0, 0, 0, 0, 0, 0, 0, 0, 0, 0, 0, 0, 0, 0, 0, 0, 0, 0, 0, 0, 0, 0, 0, 0, 0, 0, 0, 0, 0, 0, 0, 0, 0, 0, 0, 0, 0, 0, 0, 0, 0, 0, 0, 0, 0, 0, 0, 0, 0, 0, 0, 0, 0, 0, 0, 0, 0, 0, 0, 0, 0, 0, 0, 0, 0, 0, 0, 0, 0, 0, 0, 0, 0, 0, 0, 0, 0, 0, 0, 0, 0, 0, 0, 0, 0, 0, 0, 0, 0, 0, 0, 0, 0, 0, 0, 0, 0, 0, 0, 0, 0, 0, 0, 0, 0, 0, 0, 0, 0, 0, 0, 0, 0, 0, 0, 0, 0, 0, 0, 0, 0, 0, 0, 0, 0, 0, 0, 0, 0, 0, 0, 0, 0, 0, 0, 0, 0, 0, 0, 0, 0, 0, 0, 0, 0, 0, 0, 0, 0, 0, 0, 0, 0, 0, 0, 0, 0, 0, 0, 0, 0, 0, 0, 0, 0, 0, 0, 0, 0, 0, 0, 0, 0, 0, 0, 0, 0, 0, 0, 0, 0, 0, 0, 0, 0, 0, 0, 0, 0, 0, 0, 0, 0, 0, 0, 0, 0, 0, 0, 0, 0, 0, 0, 0, 0, 0, 0, 0, 0, 0, 0, 0, 0, 0, 0, 0, 0, 0, 0, 0, 0, 0, 0, 0, 0, 0, 0, 0, 0, 0, 0, 0, 0, 0, 0, 0, 0, 0, 0, 0, 0, 0, 0, 0, 0, 0, 0, 0, 0, 0, 0, 0, 0, 0, 0, 0, 0, 0, 0, 0, 0, 0, 0, 0, 0, 0, 0, 0, 0, 0, 0, 0, 0, 0, 0, 0, 0, 0, 0, 0, 0, 0, 0, 0, 0, 0, 0, 0, 0, 0, 0, 0, 0, 0, 0, 0, 0, 0, 0, 0, 0, 0, 0, 0, 0, 0, 0, 0, 0, 0, 0, 0, 0, 0, 0, 0, 0, 0, 0, 0, 0, 0, 0, 0, 0, 0, 0, 0, 0, 0, 0, 0, 0, 0, 0, 0, 0, 0, 0, 0, 0, 0, 0, 0, 0, 0, 0, 0, 0, 0, 0, 0, 0, 0, 0, 0, 0, 0, 0, 0, 0, 0, 0, 0, 0, 0, 0, 0, 0, 0, 0, 0, 0, 0, 0, 0, 0, 0, 0, 0, 0, 0, 0, 0, 0, 0, 0, 0, 0, 0, 0, 0, 0, 0, 0, 0, 0, 0, 0, 0, 0, 0, 0, 0, 0, 0, 0, 0, 0, 0, 0, 0, 0, 0, 0, 0, 0, 0, 0, 0, 0, 0, 0, 0, 0, 0, 0, 0, 0, 0, 0, 0, 0, 0, 0, 0, 0, 0, 0, 0, 0, 0, 0, 0, 0, 0, 0, 0, 0, 0, 0, 0, 0, 0, 0, 0, 0, 0, 0, 0, 0, 0, 0, 0, 0, 0, 0, 0, 0, 0, 0, 0, 0, 0, 0, 0, 0, 0, 0, 0, 0, 0, 0, 0, 0, 0, 0, 0, 0, 0, 0, 0, 0, 0, 0, 0, 0, 0, 0, 0, 0, 0, 0, 0, 0, 0, 0, 0, 0, 0, 0, 0, 0, 0, 0, 0, 0, 0, 0, 0, 0, 0, 0, 0, 0, 0, 0, 0, 0, 0, 0, 0, 0, 0, 0, 0, 0, 0, 0, 0, 0, 0, 0, 0, 0, 0, 0, 0, 0, 0, 0, 0, 0, 0, 0, 0, 0, 0, 0, 0, 0, 0, 0, 0, 0, 0, 0, 0, 0, 0, 0, 0, 0, 0, 0, 0, 0, 0, 0, 0, 0, 0, 0, 0, 0, 0, 0, 0, 0, 0, 0, 0, 0, 0, 0, 0, 0, 0, 0, 0, 0, 0, 0, 0, 0, 0, 0, 0, 0, 0, 0, 0, 0, 0, 0, 1, 1, 1, 1, 1, 1, 1, 1, 1, 1, 1, 1, 1, 1, 1, 1, 1, 1, 1, 1, 1, 1, 1, 1, 1, 1, 1, 1, 1, 1, 1, 1, 1, 1, 1, 1, 1, 1, 1, 1, 1, 1, 1, 1, 1, 1, 1, 1, 1, 1, 1, 1, 1, 1, 1, 1, 1, 1, 1, 1, 1, 1, 1, 1, 1, 1, 1, 1, 1, 1, 1, 1, 1, 1, 1, 1, 1, 1, 1, 1, 1, 1, 1, 1, 1, 1, 1, 1, 1, 1, 1, 1, 1, 1, 1, 1, 1, 1, 1, 1, 1, 1, 1, 1, 1, 1, 1, 1, 1, 1, 1, 1, 1, 1, 1, 1, 1, 1, 1, 1, 1, 1, 1, 1, 1, 1, 1, 1, 1, 1, 1, 1, 1, 1, 1, 1, 1, 1, 1, 1, 1, 1, 1, 1, 1, 1, 1, 1, 1, 1, 1, 1, 1, 1, 1, 1, 1, 1, 1, 1, 1, 1, 1, 1, 1, 1, 1, 1, 1, 1, 1, 1, 1, 1, 1, 1, 1, 1, 1, 1, 1, 1, 1, 1, 1, 1, 1, 1, 1, 1, 1, 1, 1, 1, 1, 1, 1, 1, 1, 1, 1, 1, 1, 1, 1, 1, 1, 1, 1, 1, 1, 1, 1, 1, 1, 1, 1, 1, 1, 1, 1, 1, 1, 1, 1, 1, 1, 1, 1, 1, 1, 1, 1, 1, 1, 1, 1, 1, 1, 1, 1, 1, 1, 1, 1, 1, 1, 1, 1, 1, 1, 1, 1, 1, 1, 1, 1, 1, 1, 1, 1, 1, 1, 1, 1, 1, 1, 1, 1, 1, 1, 1, 1, 1, 1, 1, 1, 1, 1, 1, 1, 1, 1, 1, 1, 1, 1, 1, 1, 1, 1, 1, 1, 1, 1, 1, 1, 1, 1, 1, 1, 1, 1, 1, 1, 1, 1, 1, 1, 1, 1, 1, 1, 1, 1, 1, 1, 1, 1, 1, 1, 1, 1, 1, 1, 1, 1, 1, 1, 1, 1, 1, 1, 1, 1, 1, 1, 1, 1, 1, 1, 1, 1, 1, 1, 1, 1, 1, 1, 1, 1, 1, 1, 1, 1, 1, 1, 1, 1, 1, 1, 1, 1, 1, 1, 1, 1, 1, 1, 1, 1, 1, 1, 1, 1, 1, 1, 1, 1, 1, 1, 1, 1, 1, 1, 1, 1, 1, 1, 1, 1, 1, 1, 1, 1, 1, 1, 1, 1, 1, 1, 1, 1, 1, 1, 1, 1, 1, 1, 1, 1, 1, 1, 1, 1, 1, 1, 1, 1, 1, 1, 1, 1, 1, 1, 1, 1, 1, 1, 1, 1, 1, 1, 1, 1, 1, 1, 1, 1, 1, 1, 1, 1, 1, 1, 1, 1, 1, 1, 1, 1, 1, 1, 1, 1, 1, 1, 1, 1, 1, 1, 1, 1, 1, 1, 1, 1, 1, 1, 1, 1, 1, 1, 1, 1, 1, 1, 1, 1, 1, 1, 1, 1, 1, 1, 1, 1, 1, 1, 1, 1, 1, 1, 1, 1, 1, 1, 1, 1, 1, 1, 1, 1, 1, 1, 1, 1, 1, 1, 1, 1, 1, 1, 1, 1, 1, 1, 1, 1, 1, 1, 1, 1, 1, 1, 1, 1, 1, 1, 1, 1, 1, 1, 1, 1, 1, 1, 1, 1, 1, 1, 1, 1, 1, 1, 1, 1, 1, 1, 1, 1, 1, 1, 1, 1, 1, 1, 1, 1, 1, 1, 1, 1, 1, 1, 1, 1, 1, 1, 1, 1, 1, 1, 1, 1, 1, 1, 1, 1, 1, 1, 1, 1, 1, 1, 1, 1, 1, 1, 1, 1, 1, 1, 1, 1, 1, 1, 1, 1, 1, 1, 1, 1, 1, 1, 1, 1, 1, 1, 1, 1, 1, 1, 1, 1, 1, 1, 1, 1, 1, 1, 1, 1, 1, 1, 1, 1, 1, 1, 1, 1, 1, 1, 1, 1, 1, 1, 1, 1, 1, 1, 1, 1, 1, 1, 1, 1, 1, 1, 1, 1, 1, 1, 1, 1, 1, 1, 1, 1, 1, 1, 1, 1, 1, 1, 1, 1, 1, 1, 1, 1, 1, 1, 1, 1, 1, 1, 1, 1, 1, 1, 1, 1, 1, 1, 1, 1, 1, 1, 1, 1, 1, 1, 1, 1, 1, 1, 1, 1, 1, 1, 1, 1, 1, 1, 1, 1, 1, 1, 1, 1, 1, 1, 1, 1, 1, 1, 1, 1, 1, 1, 1, 1, 1, 1, 1, 1, 1, 1, 1, 1, 1, 1, 1, 1, 1, 1, 1, 1, 1, 1, 1, 1, 1, 1, 1, 1, 1, 1, 1, 1, 1, 1, 1, 1, 1, 1, 1, 1, 1, 1, 1, 1, 1, 1, 1, 1, 1, 1, 1, 1, 1, 1, 1, 1, 1, 1, 1, 1, 1, 1, 1, 1, 1, 1, 1, 1, 1, 1, 1, 1, 1, 1, 1, 1, 1, 1, 1, 1, 1, 1, 1, 1, 1, 1, 1, 1, 1, 1, 1, 1, 1, 1, 1, 1, 1, 1, 1, 1, 1, 1, 1, 1, 1, 1, 1, 1, 1, 1, 1, 1, 1, 1, 1, 1, 1, 1, 1, 1, 1, 1, 1, 1, 1, 1, 1, 1, 1, 1, 1, 1, 1, 1, 1, 1, 1, 1, 1, 1, 1, 1, 1, 1, 1, 1, 1, 1, 1, 1, 1, 1, 1, 1, 1, 1, 1, 1, 1, 1, 1, 1, 1, 1, 1, 1, 1, 1, 1, 1, 1, 1, 1, 1, 1, 1, 1, 1, 1, 1, 1, 1, 1, 1, 1, 1, 1, 1, 1, 1, 1, 1, 1, 1, 1, 1, 1, 1, 1, 1, 1, 1, 1, 1, 1, 1, 1, 1, 1, 1, 1, 1, 1, 1, 1, 1, 1, 1, 1, 1, 1, 1, 1, 1, 1, 1, 1, 1, 1, 1, 1, 1, 1, 1, 1, 1, 1, 1, 1, 1, 1, 1, 1, 1, 1, 1, 1, 1, 1, 1, 1, 1, 1, 1, 1, 1, 1, 1, 1, 1, 1, 1, 1, 1, 1, 1, 1, 1, 1, 1, 1, 1, 1, 1, 1, 1, 1, 1, 1, 1, 1, 1, 1, 1, 1, 1, 1, 1, 1, 1, 1, 1, 1, 1, 1, 1, 1, 1, 1, 1, 1, 1, 1, 1, 1, 1, 1, 1, 1, 1, 1, 1, 1, 1, 1, 1, 1, 1, 1, 1, 1, 1, 1, 1, 1, 1, 1, 1, 1, 1, 1, 1, 1, 1, 1, 1, 1, 1, 1, 1, 1, 1, 1, 1, 1, 1, 1, 1, 1, 1, 1, 1, 1, 1, 1, 1, 1, 1, 1, 1, 1, 1, 1, 1, 1, 1, 1, 1, 1, 1, 1, 1, 1, 1, 1, 1, 1, 1, 1, 1, 1, 1, 1, 1, 1, 1, 1, 1, 1, 1, 1, 1, 1, 1, 1, 1, 1, 1, 1, 1, 1, 1, 1, 1, 1, 1, 1, 1, 1, 1, 1, 1, 1, 1, 1, 1, 1, 1, 1, 1, 1, 1, 1, 1, 1, 1, 1, 1, 1, 1, 1, 1, 1, 1, 1, 1, 1, 1, 1, 1, 1, 1, 1, 1, 1, 1, 1, 1, 1, 1, 1, 1, 1, 1, 1, 1, 1, 1, 1, 1, 1, 1, 1, 1, 1, 1, 1, 1, 1, 1, 1, 1, 1, 1, 1, 1, 1, 1, 1, 1, 1, 1, 1, 1, 1, 1, 1, 1, 1, 1, 1, 1, 1, 1, 1, 1, 1, 1, 1, 1, 1, 1, 1, 1, 1, 1, 1, 1, 1, 1, 1, 1, 1, 1, 1, 1, 1, 1, 1, 1, 1, 1, 1, 1, 1, 1, 1, 1, 1, 1, 1, 1, 1, 1, 1, 1, 1, 1, 1, 1, 1, 1, 1, 1, 1, 1, 1, 1, 1, 1, 1, 1, 1, 1, 1, 1, 1, 1, 1, 1, 1, 1, 1, 1, 1, 1, 1, 1, 1, 1, 1, 1, 1, 1, 1, 1, 1, 1, 1, 1, 1, 1, 1, 1, 1, 1, 1, 1, 1, 1, 1, 1, 1, 1, 1, 1, 1, 1, 1, 1, 1, 1, 1, 1, 1, 1, 1, 1, 1, 1, 1, 1, 1, 1, 1, 1, 1, 1, 1, 1, 1, 1, 1, 1, 1, 1, 1, 1, 1, 1, 1, 1, 1, 1, 1, 1, 1, 1, 1, 1, 1, 1, 1, 1, 1, 1, 1, 1, 1, 1, 1, 1, 1, 1, 1, 1, 1, 1, 1, 1, 1, 1, 1, 1, 1, 1, 1, 1, 1, 1, 1, 1, 1, 1, 1, 1, 1, 1, 1, 1, 1, 1, 1, 1, 1, 1, 1, 1, 1, 1, 1, 1, 1, 1, 1, 1, 1, 1, 1, 1, 1, 1, 1, 1, 1, 1, 1, 1, 1, 1, 1, 1, 1, 1, 1, 1, 1, 1, 1, 1, 1, 1, 1, 1, 1, 1, 1, 1, 1, 1, 1, 1, 1, 1, 1, 1, 1, 1, 1, 1, 1, 1, 1, 1, 1, 1, 1, 1, 1, 1, 1, 1, 1, 1, 1, 1, 1, 1, 1, 1, 1, 1, 1, 1, 1, 1, 1, 1, 1, 1, 1, 1, 1, 1, 1, 1, 1, 1, 1, 1, 1, 1, 1, 1, 1, 1, 1, 1, 1, 1, 1, 1, 1, 1, 1, 1, 1, 1, 1, 1, 1, 1, 1, 1, 1, 1, 1, 1, 1, 1, 1, 1, 1, 1, 1, 1, 1, 1, 1, 1, 1, 1, 1, 1, 1, 1, 1, 1, 1, 1, 1, 1, 1, 1, 1, 1, 1, 1, 1, 1, 1, 1, 1, 1, 1, 1, 1, 1, 1, 1, 1, 1, 1, 1, 1, 1, 1, 1, 1, 1, 1, 1, 1, 1, 1, 1, 1, 1, 1, 1, 1, 1, 1, 1, 1, 1, 1, 1, 1, 1, 1, 1, 1, 1, 1, 1, 1, 1, 1, 1, 1, 1, 1, 1, 1, 1, 1, 1, 1, 1, 1, 1, 1, 1, 1, 1, 1, 1, 1, 1, 1, 1, 1, 1, 1, 1, 1, 1, 1, 1, 1, 1, 1, 1, 1, 1, 1, 1, 1, 1, 1, 1, 1, 1, 1, 1, 1, 1, 1, 1, 1, 1, 1, 1, 1, 1, 1, 1, 1, 1, 1, 1, 1, 1, 1, 1, 1, 1, 1, 1, 1, 1, 1, 1, 1, 1, 1, 1, 1, 1, 1, 1, 1, 1, 1, 1, 1, 1, 1, 1, 1, 1, 1, 1, 1, 1, 1, 1, 1, 1, 1, 1, 1, 1, 1, 1, 1, 1, 1, 1, 1, 1, 1, 1, 1, 1, 1, 1, 1, 1, 1, 1, 1, 1, 1, 1, 1, 1, 1, 1, 1, 1, 1, 1, 1, 1, 1, 1, 1, 1, 1, 1, 1, 1, 1, 1, 1, 1, 1, 1, 1, 1, 1, 1, 1, 1, 1, 1, 1, 1, 1, 1, 1, 1, 1, 1, 1, 1, 1, 1, 1, 1, 1, 1, 1, 1, 1, 1, 1, 1, 1, 1, 1, 1, 1, 1, 1, 1, 1, 1, 1, 1, 1, 1, 1, 1, 1, 1, 1, 1, 1, 1, 1, 1, 1, 1, 1, 1, 1, 1, 1, 1, 1, 1, 1, 1, 1, 1, 1, 1, 1, 1, 1, 1, 1, 1, 1, 1, 1, 1, 1, 1, 1, 1, 1, 1, 1, 1, 1, 1, 1, 1, 1, 1, 1, 1, 1, 1, 1, 1, 1, 1, 1, 1, 1, 1, 1, 1, 1, 1, 1, 1, 1, 1, 1, 1, 1, 1, 1, 1, 1, 1, 1, 1, 1, 1, 1, 1, 1, 1, 1, 1, 1, 1, 1, 1, 1, 1, 1, 1, 1, 1, 1, 1, 1, 1, 1, 1, 1, 1, 1, 1, 1, 1, 1, 1, 1, 1, 1, 1, 1, 1, 1, 1, 1, 1, 1, 1, 1, 1, 1, 1, 1, 1, 1, 1, 1, 1, 1, 1, 1, 1, 1, 1, 1, 1, 1, 1, 1, 1, 1, 1, 1, 1, 1, 1, 1, 1, 1, 1, 1, 1, 1, 1, 1, 1, 1, 1, 1, 1, 1, 1, 1, 1, 1, 1, 1, 1, 1, 1, 1, 1, 1, 1, 1, 1, 1, 1, 1, 1, 1, 1, 1, 1, 1, 1, 1, 1, 1, 1, 1, 1, 1, 1, 1, 1, 1, 1, 1, 1, 1, 1, 1, 1, 1, 1, 1, 1, 1, 1, 1, 1, 1, 1, 1, 1, 1, 1, 1, 1, 1, 1, 1, 1, 1, 1, 1, 1, 1, 1, 1, 1, 1, 1, 1, 1, 1, 1, 1, 1, 1, 1, 1, 1, 1, 1, 1, 1, 1, 1, 1, 1, 1, 1, 1, 1, 1, 1, 1, 1, 1, 1, 1, 1, 1, 1, 1, 1, 1, 1, 1, 1, 1, 1, 1, 1, 1, 1, 1, 1, 1, 1, 1, 1, 1, 1, 1, 1, 1, 1, 1, 1, 1, 1, 1, 1, 1, 1, 1, 1, 1, 1, 1, 1, 1, 1, 1, 1, 1, 1, 1, 1, 1, 1, 1, 1, 1, 1, 1, 1, 1, 1, 1, 1, 1, 1, 1, 1, 1, 1, 1, 1, 1, 1, 1, 1, 1, 1, 1, 1, 1, 1, 1, 1, 1, 1, 1, 1, 1, 1, 1, 1, 1, 1, 1, 1, 1, 1, 1, 1, 1, 1, 1, 1, 1, 1, 1, 1, 1, 1, 1, 1, 1, 1, 1, 1, 1, 1, 1, 1, 1, 1, 1, 1, 1, 1, 1, 1, 1, 1, 1, 1, 1, 1, 1, 1, 1, 1, 1, 1, 1, 1, 1, 1, 1, 1, 1, 1, 1, 1, 1, 1, 1, 1, 1, 1, 1, 1, 1, 1, 1, 1, 1, 1, 1, 1, 1, 1, 1, 1, 1, 1, 1, 1, 1, 1, 1, 1, 1, 1, 1, 1, 1, 1, 1, 1, 1, 1, 1, 1, 1, 1, 1, 1, 1, 1, 1, 1, 1, 1, 1, 1, 1, 1, 1, 1, 1, 1, 1, 1, 1, 1, 1, 1, 1, 1, 1, 1, 1, 1, 1, 1, 1, 1, 1, 1, 1, 1, 1, 1, 1, 1, 1, 1, 1, 1, 1, 1, 1, 1, 1, 1, 1, 1, 1, 1, 1, 1, 1, 1, 1, 1, 1, 1, 1, 1, 1, 1, 1, 1, 1, 1, 1, 1, 1, 1, 1, 1, 1, 1, 1, 1, 1, 1, 1, 1, 1, 1, 1, 1, 1, 1, 1, 1, 1, 1, 1, 1, 1, 1, 1, 1, 1, 1, 1, 1, 1, 1, 1, 1, 1, 1, 1, 1, 1, 1, 1, 1, 1, 1, 1, 1, 1, 1, 1, 1, 1, 1, 1, 1, 1, 1, 1, 1, 1, 1, 1, 1, 1, 1, 1, 1, 1, 1, 1, 1, 1, 1, 1, 1, 1, 1, 1, 1, 1, 1, 1, 1, 1, 1, 1, 1, 1, 1, 1, 1, 1, 1, 1, 1, 1, 1, 1, 1, 1, 1, 1, 1, 1, 1, 1, 1, 1, 1, 1, 1, 1, 1, 1, 1, 1, 1, 1, 1, 1, 1, 1, 1, 1, 1, 1, 1, 1, 1, 1, 1, 1, 1, 1, 1, 1, 1, 1, 1, 1, 1, 1, 1, 1, 1, 1, 1, 1, 1, 1, 1, 1, 1, 1, 1, 1, 1, 1, 1, 1, 1, 1, 1, 1, 1, 1, 1, 1, 1, 1, 1, 1, 1, 1, 1, 1, 1, 1, 1, 1, 1, 1, 1, 1, 1, 1, 1, 1, 1, 1, 1, 1, 1, 1, 1, 1, 1, 1, 1, 1, 1, 1, 1, 1, 1, 1, 1, 1, 1, 1, 1, 1, 1, 1, 1, 1, 1, 1, 1, 1, 1, 1, 1, 1, 1, 1, 1, 1, 1, 1, 1, 1, 1, 1, 1, 1, 1, 1, 1, 1, 1, 1, 1, 1, 1, 1, 1, 1, 1, 1, 1, 1, 1, 1, 1, 1, 1, 1, 1, 1, 1, 1, 1, 1, 1, 1, 1, 1, 1, 1, 1, 1, 1, 1, 1, 1, 1, 1, 1, 1, 1, 1, 1, 1, 1, 1, 1, 1, 1, 1, 1, 1, 1, 1, 1, 1, 1, 1, 1, 1, 1, 1, 1, 1, 1, 1, 1, 1, 1, 1, 1, 1, 1, 1, 1, 1, 1, 1, 1, 1, 1, 1, 1, 1, 1, 1, 1, 1, 1, 1, 1, 1, 1, 1, 1, 1, 1, 1, 1, 1, 1, 1, 1, 1, 1, 1, 1, 1, 1, 1, 1, 1, 1, 1, 1, 1, 1, 1, 1, 1, 1, 1, 1, 1, 1, 1, 1, 1, 1, 1, 1, 1, 1, 1, 1, 1, 1, 1, 1, 1, 1, 1, 1, 1, 1, 1, 1, 1, 1, 1, 1, 1, 1, 1, 1, 1, 1, 1, 1, 1, 1, 1, 1, 1, 1, 1, 1, 1, 1, 1, 1, 1, 1, 1, 1, 1, 1, 1, 1, 1, 1, 1, 1, 1, 1, 1, 1, 1, 1, 1, 1, 1, 1, 1, 1, 1, 1, 1, 1, 1, 1, 1, 1, 1, 1, 1, 1, 1, 1, 1, 1, 1, 1, 1, 1, 1, 1, 1, 1, 1, 1, 1, 1, 1, 1, 1, 1, 1, 1, 1, 1, 1, 1, 1, 1, 1, 1, 1, 1, 1, 1, 1, 1, 1, 1, 1, 1, 1, 1, 1, 1, 1, 1, 1, 1, 1, 1, 1, 1, 1, 1, 1, 1, 1, 1, 1, 1, 1, 1, 1, 1, 1, 1, 1, 1, 1, 1, 1, 1, 1, 1, 1, 1, 1, 1, 1, 1, 1, 1, 1, 1, 1, 1, 1, 1, 1, 1, 1, 1, 1, 1, 1, 1, 1, 1, 1, 1, 1, 1, 1, 1, 1, 1, 1, 1, 1, 1, 1, 1, 1, 1, 1, 1, 1, 1, 1, 1, 1, 1, 1, 1, 1, 1, 1, 1, 1, 1, 1, 1, 1, 1, 1, 1, 1, 1, 1, 1, 1, 1, 1, 1, 1, 1, 1, 1, 1, 1, 1, 1, 1, 1, 1, 1, 1, 1, 1, 1, 1, 1, 1, 1, 1, 1, 1, 1, 1, 1, 1, 1, 1, 1, 1, 1, 1, 1, 1, 1, 1, 1, 1, 1, 1, 1, 1, 1, 1, 1, 1, 1, 1, 1, 1, 1, 1, 1, 1, 1, 1, 1, 1, 1, 1, 1, 1, 1, 1, 1, 1, 1, 1, 1, 1, 1, 1, 1, 1, 1, 1, 1, 1, 1, 1, 1, 1, 1, 1, 1, 1, 1, 1, 1, 1, 1, 1, 1, 1, 1, 1, 1, 1, 1, 1, 1, 1, 1, 1, 1, 1, 1, 1, 1, 1, 1, 1, 1, 1, 1, 1, 1, 1, 1, 1, 1, 1, 1, 1, 1, 1, 1, 1, 1, 1, 1, 1, 1, 1, 1, 1, 1, 1, 1, 1, 1, 1, 1, 1, 1, 1, 1, 1, 1, 1, 1, 1, 1, 1, 1, 1, 1, 1, 1, 1, 1, 1, 1, 1, 1, 1, 1, 1, 1, 1, 1, 1, 1, 1, 1, 1, 1, 1, 1, 1, 1, 1, 1, 1, 1, 1, 1, 1, 1, 1, 1, 1, 1, 1, 1, 1, 1, 1, 1, 1, 1, 1, 1, 1, 1, 1, 1, 1, 1, 1, 1, 1, 1, 1, 1, 1, 1, 1, 1, 1, 1, 1, 1, 1, 1, 1, 1, 1, 1, 1, 1, 1, 1, 1, 1, 1, 1, 1, 1, 1, 1, 1, 1, 1, 1, 1, 1, 1, 1, 1, 1, 1, 1, 1, 1, 1, 1, 1, 1, 1, 1, 1, 1, 1, 1, 1, 1, 1, 1, 1, 1, 1, 1, 1, 1, 1, 1, 1, 1, 1, 1, 1, 1, 1, 1, 1, 1, 1, 1, 1, 1, 1, 1, 1, 1, 1, 1, 1, 1, 1, 1, 1, 1, 1, 1, 1, 1, 1, 1, 1, 1, 1, 1, 1, 1, 1, 1, 1, 1, 1, 1, 1, 1, 1, 1, 1, 1, 1, 1, 1, 1, 1, 1, 1, 1, 1, 1, 1, 1, 1, 1, 1, 1, 1, 1, 1, 1, 1, 1, 1, 1, 1, 1, 1, 1, 1, 1, 1, 1, 1, 1, 1, 1, 1, 1, 1, 1, 1, 1, 1, 1, 1, 1, 1, 1, 1, 1, 1, 1, 1, 1, 1, 1, 1, 1, 1, 1, 1, 1, 1, 1, 1, 1, 1, 1, 1, 1, 1, 1, 1, 1, 1, 1, 1, 1, 1, 1, 1, 1, 1, 1, 1, 1, 1, 1, 1, 1, 1, 1, 1, 1, 1, 1, 1, 1, 1, 1, 1, 1, 1, 1, 1, 1, 1, 1, 1, 1, 1, 1, 1, 1, 1, 1, 1, 1, 1, 1, 1, 1, 1, 1, 1, 1, 1, 1, 1, 1, 1, 1, 1, 1, 1, 1, 1, 1, 1, 1, 1, 1, 1, 1, 1, 1, 1, 1, 1, 1, 1, 1, 1, 1, 1, 1, 1, 1, 1, 1, 1, 1, 1, 1, 1, 1, 1, 1, 1, 1, 1, 1, 1, 1, 1, 1, 1, 1, 1, 1, 1, 1, 1, 1, 1, 1, 1, 1, 1, 1, 1, 1, 1, 1, 1, 1, 1, 1, 1, 1, 1, 1, 1, 1, 1, 1, 1, 1, 1, 1, 1, 1, 1, 1, 1, 1, 1, 1, 1, 1, 1, 1, 1, 1, 1, 1, 1, 1, 1, 1, 1, 1, 1, 1, 1, 1, 1, 1, 1, 1, 1, 1, 1, 1, 1, 1, 1, 1, 1, 1, 1, 1, 1, 1, 1, 1, 1, 1, 1, 1, 1, 1, 1, 1, 1, 1, 1, 1, 1, 1, 1, 1, 1, 1, 1, 1, 1, 1, 1, 1, 1, 1, 1, 1, 1, 1, 1, 1, 1, 1, 1, 1, 1, 1, 1, 1, 1, 1, 1, 1, 1, 1, 1, 1, 1, 1, 1, 1, 1, 1, 1, 1, 1, 1, 1, 1, 1, 1, 1, 1, 1, 1, 1, 1, 1, 1, 1, 1, 1, 1, 1, 1, 1, 1, 1, 1, 1, 1, 1, 1, 1, 1, 1, 1, 1, 1, 1, 1, 1, 1, 1, 1, 1, 1, 1, 1, 1, 1, 1, 1, 1, 1, 1, 1, 1, 1, 1, 1, 1, 1, 1, 1, 1, 1, 1, 1, 1, 1, 1, 1, 1, 1, 1, 1, 1, 1, 1, 1, 1, 1, 1, 1, 1, 1, 1, 1, 1, 1, 1, 1, 1, 1, 1, 1, 1, 1, 1, 1, 1, 1, 1, 1, 1, 1, 1, 1, 1, 1, 1, 1, 1, 1, 1, 1, 1, 1, 1, 1, 1, 1, 1, 1, 1, 1, 1, 1, 1, 1, 1, 1, 1, 1, 1, 1, 1, 1, 1, 1, 1, 1, 1, 1, 1, 1, 1, 1, 1, 1, 1, 1, 1, 1, 1, 1, 1, 1, 1, 1, 1, 1, 1, 1, 1, 1, 1, 1, 1, 1, 1, 1, 1, 1, 1, 1, 1, 1, 1, 1, 1, 1, 1, 1, 1, 1, 1, 1, 1, 1, 1, 1, 1, 1, 1, 1, 1, 1, 1, 1, 1, 1, 1, 1, 1, 1, 1, 1, 1, 1, 1, 1, 1, 1, 1, 1, 1, 1, 1, 1, 1, 1, 1, 1, 1, 1, 1, 1, 1, 1, 1, 1, 1, 1, 1, 1, 1, 1, 1, 1, 1, 1, 1, 1, 1, 1, 1, 1, 1, 1, 1, 1, 1, 1, 1, 1, 1, 1, 1, 1, 1, 1, 1, 1, 1, 1, 1, 1, 1, 1, 1, 1, 1, 1, 1, 1, 1, 1, 1, 1, 1, 1, 1, 1, 1, 1, 1, 1, 1, 1, 1, 1, 1, 1, 1, 1, 1, 1, 1, 1, 1, 1, 1, 1, 1, 1, 1, 1, 1, 1, 1, 1, 1, 1, 1, 1, 1, 1, 1, 1, 1, 1, 1, 1, 1, 1, 1, 1, 1, 1, 1, 1, 1, 1, 1, 1, 1, 1, 1, 1, 1, 1, 1, 1, 1, 1, 1, 1, 1, 1, 1, 1, 1, 1, 1, 1, 1, 1, 1, 1, 1, 1, 1, 1, 1, 1, 1, 1, 1, 1, 1, 1, 1, 1, 1, 1, 1, 1, 1, 1, 1, 1, 1, 1, 1, 1, 1, 1, 1, 1, 1, 1, 1, 1, 1, 1, 1, 1, 1, 1, 1, 1, 1, 1, 1, 1, 1, 1, 1, 1, 1, 1, 1, 1, 1, 1, 1, 1, 1, 1, 1, 1, 1, 1, 1, 1, 1, 1, 1, 1, 1, 1, 1, 1, 1, 1, 1, 1, 1, 1, 1, 1, 1, 1, 1, 1, 1, 1, 1, 1, 1, 1, 1, 1, 1, 1, 1, 1, 1, 1, 1, 1, 1, 1, 1, 1, 1, 1, 1, 1, 1, 1, 1, 1, 1, 1, 1, 1, 1, 1, 1, 1, 1, 1, 1, 1, 1, 1, 1, 1, 1, 1, 1, 1, 1]\n",
      "1\n"
     ]
    }
   ],
   "source": [
    "for name, test in suite.tests.items():\n",
    "    print(test.labels)"
   ]
  },
  {
   "cell_type": "code",
   "execution_count": 9,
   "id": "3143b7b2",
   "metadata": {},
   "outputs": [],
   "source": [
    "class_to_func = {}\n",
    "for func, info in suite.info.items():\n",
    "    class_to_func.setdefault(info[\"capability\"], set()).update([func])"
   ]
  },
  {
   "cell_type": "code",
   "execution_count": 10,
   "id": "d75bc6b2",
   "metadata": {},
   "outputs": [
    {
     "data": {
      "text/plain": [
       "{'Vocabulary': {'Sentiment-laden words in context',\n",
       "  'add negative phrases',\n",
       "  'add positive phrases',\n",
       "  'change neutral words with BERT',\n",
       "  'intensifiers',\n",
       "  'neutral words in context',\n",
       "  'reducers',\n",
       "  'single negative words',\n",
       "  'single neutral words',\n",
       "  'single positive words'},\n",
       " 'Robustness': {'2 typos',\n",
       "  'add random urls and handles',\n",
       "  'contractions',\n",
       "  'punctuation',\n",
       "  'typos'},\n",
       " 'NER': {'change locations', 'change names', 'change numbers'},\n",
       " 'Temporal': {'\"used to\" should reduce', 'used to, but now'},\n",
       " 'Fairness': {'protected: nationality',\n",
       "  'protected: race',\n",
       "  'protected: religion',\n",
       "  'protected: sexual'},\n",
       " 'Negation': {'Hard: Negation of negative with neutral stuff in the middle (should be positive or neutral)',\n",
       "  'Hard: Negation of positive with neutral stuff in the middle (should be negative)',\n",
       "  'negation of neutral with neutral in the middle, should still neutral',\n",
       "  'simple negations: I thought x was negative, but it was not (should be neutral or positive)',\n",
       "  'simple negations: I thought x was positive, but it was not (should be negative)',\n",
       "  'simple negations: but it was not (neutral) should still be neutral',\n",
       "  'simple negations: negative',\n",
       "  'simple negations: not negative',\n",
       "  'simple negations: not neutral is still neutral'},\n",
       " 'SRL': {'Q & A: no',\n",
       "  'Q & A: no (neutral)',\n",
       "  'Q & A: yes',\n",
       "  'Q & A: yes (neutral)',\n",
       "  'my opinion is what matters'}}"
      ]
     },
     "execution_count": 10,
     "metadata": {},
     "output_type": "execute_result"
    }
   ],
   "source": [
    "class_to_func"
   ]
  },
  {
   "cell_type": "code",
   "execution_count": 11,
   "id": "e470b791",
   "metadata": {},
   "outputs": [],
   "source": [
    "func_to_label = {}\n",
    "for func in suite.info.keys():\n",
    "    labels = suite.tests[func].labels\n",
    "    if type(labels) == int:\n",
    "        label = labels\n",
    "    elif type(labels) == list:\n",
    "        label = labels[0] if np.all(np.array(labels) == labels[0]) else None\n",
    "    elif labels is None:\n",
    "        label = labels\n",
    "    func_to_label[func] = label"
   ]
  },
  {
   "cell_type": "code",
   "execution_count": 1,
   "id": "9205b6f0",
   "metadata": {},
   "outputs": [
    {
     "data": {
      "text/plain": [
       "False"
      ]
     },
     "execution_count": 1,
     "metadata": {},
     "output_type": "execute_result"
    }
   ],
   "source": [
    "\"2\" == 2"
   ]
  },
  {
   "cell_type": "code",
   "execution_count": 12,
   "id": "6f7e9a0a",
   "metadata": {},
   "outputs": [
    {
     "data": {
      "text/plain": [
       "{'single positive words': 2,\n",
       " 'single negative words': 0,\n",
       " 'single neutral words': 1,\n",
       " 'Sentiment-laden words in context': None,\n",
       " 'neutral words in context': 1,\n",
       " 'intensifiers': None,\n",
       " 'reducers': None,\n",
       " 'change neutral words with BERT': None,\n",
       " 'add positive phrases': None,\n",
       " 'add negative phrases': None,\n",
       " 'add random urls and handles': None,\n",
       " 'punctuation': None,\n",
       " 'typos': None,\n",
       " '2 typos': None,\n",
       " 'contractions': None,\n",
       " 'change names': None,\n",
       " 'change locations': None,\n",
       " 'change numbers': None,\n",
       " 'used to, but now': None,\n",
       " '\"used to\" should reduce': None,\n",
       " 'protected: race': None,\n",
       " 'protected: sexual': None,\n",
       " 'protected: religion': None,\n",
       " 'protected: nationality': None,\n",
       " 'simple negations: not negative': None,\n",
       " 'simple negations: not neutral is still neutral': 1,\n",
       " 'simple negations: I thought x was positive, but it was not (should be negative)': 0,\n",
       " 'simple negations: I thought x was negative, but it was not (should be neutral or positive)': None,\n",
       " 'simple negations: but it was not (neutral) should still be neutral': 1,\n",
       " 'Hard: Negation of positive with neutral stuff in the middle (should be negative)': 0,\n",
       " 'Hard: Negation of negative with neutral stuff in the middle (should be positive or neutral)': None,\n",
       " 'negation of neutral with neutral in the middle, should still neutral': 1,\n",
       " 'my opinion is what matters': None,\n",
       " 'Q & A: yes': None,\n",
       " 'Q & A: yes (neutral)': 1,\n",
       " 'Q & A: no': None,\n",
       " 'Q & A: no (neutral)': 1,\n",
       " 'simple negations: negative': 0}"
      ]
     },
     "execution_count": 12,
     "metadata": {},
     "output_type": "execute_result"
    }
   ],
   "source": [
    "func_to_label"
   ]
  },
  {
   "cell_type": "code",
   "execution_count": 17,
   "id": "07af6c9b",
   "metadata": {},
   "outputs": [],
   "source": [
    "clas_to_func_with_label = {}\n",
    "for cls, funcs in class_to_func.items():\n",
    "    for func in funcs:\n",
    "        clas_to_func_with_label.setdefault(cls, {})[func] = func_to_label[func]"
   ]
  },
  {
   "cell_type": "code",
   "execution_count": 18,
   "id": "f3b94d46",
   "metadata": {},
   "outputs": [
    {
     "data": {
      "text/plain": [
       "{'Vocabulary': {'Sentiment-laden words in context': None,\n",
       "  'neutral words in context': 1,\n",
       "  'single positive words': 2,\n",
       "  'single negative words': 0,\n",
       "  'single neutral words': 1,\n",
       "  'add positive phrases': None,\n",
       "  'change neutral words with BERT': None,\n",
       "  'reducers': None,\n",
       "  'intensifiers': None,\n",
       "  'add negative phrases': None},\n",
       " 'Robustness': {'contractions': None,\n",
       "  'typos': None,\n",
       "  'punctuation': None,\n",
       "  '2 typos': None,\n",
       "  'add random urls and handles': None},\n",
       " 'NER': {'change locations': None,\n",
       "  'change numbers': None,\n",
       "  'change names': None},\n",
       " 'Temporal': {'\"used to\" should reduce': None, 'used to, but now': None},\n",
       " 'Fairness': {'protected: race': None,\n",
       "  'protected: religion': None,\n",
       "  'protected: sexual': None,\n",
       "  'protected: nationality': None},\n",
       " 'Negation': {'simple negations: but it was not (neutral) should still be neutral': 1,\n",
       "  'simple negations: not neutral is still neutral': 1,\n",
       "  'simple negations: I thought x was positive, but it was not (should be negative)': 0,\n",
       "  'Hard: Negation of positive with neutral stuff in the middle (should be negative)': 0,\n",
       "  'negation of neutral with neutral in the middle, should still neutral': 1,\n",
       "  'Hard: Negation of negative with neutral stuff in the middle (should be positive or neutral)': None,\n",
       "  'simple negations: not negative': None,\n",
       "  'simple negations: negative': 0,\n",
       "  'simple negations: I thought x was negative, but it was not (should be neutral or positive)': None},\n",
       " 'SRL': {'my opinion is what matters': None,\n",
       "  'Q & A: yes (neutral)': 1,\n",
       "  'Q & A: no': None,\n",
       "  'Q & A: yes': None,\n",
       "  'Q & A: no (neutral)': 1}}"
      ]
     },
     "execution_count": 18,
     "metadata": {},
     "output_type": "execute_result"
    }
   ],
   "source": [
    "clas_to_func_with_label"
   ]
  },
  {
   "cell_type": "code",
   "execution_count": 20,
   "id": "0bbea617",
   "metadata": {},
   "outputs": [],
   "source": [
    "with open(\"./data/sa/suite/class_to_funcs.pkl\", \"wb\") as file:\n",
    "    pickle.dump(clas_to_func_with_label, file, protocol=4)"
   ]
  },
  {
   "cell_type": "markdown",
   "id": "e75c9651",
   "metadata": {},
   "source": [
    "### Paraphrase identification"
   ]
  },
  {
   "cell_type": "code",
   "execution_count": 2,
   "id": "25f88677",
   "metadata": {},
   "outputs": [],
   "source": [
    "suite = TestSuite.from_file(config.pi_suite)"
   ]
  },
  {
   "cell_type": "code",
   "execution_count": 3,
   "id": "ab30c0ba",
   "metadata": {},
   "outputs": [
    {
     "data": {
      "text/plain": [
       "defaultdict(<function <lambda>()>,\n",
       "            {'Modifier: adj': defaultdict(<function <lambda>()>,\n",
       "                         {'capability': 'Vocabulary',\n",
       "                          'type': 'MFT',\n",
       "                          'description': 'Adding an adjective makes questions non-duplicates'}),\n",
       "             'different adjectives': defaultdict(<function <lambda>()>,\n",
       "                         {'capability': 'Vocabulary',\n",
       "                          'type': 'MFT',\n",
       "                          'description': 'Same first and last name, different adjectives'}),\n",
       "             'Different animals': defaultdict(<function <lambda>()>,\n",
       "                         {'capability': 'Vocabulary',\n",
       "                          'type': 'MFT',\n",
       "                          'description': 'Ask the same question about two different pet animals, expect prediction to be 0'}),\n",
       "             'Irrelevant modifiers - animals': defaultdict(<function <lambda>()>,\n",
       "                         {'capability': 'Vocabulary',\n",
       "                          'type': 'MFT',\n",
       "                          'description': \"Add modifiers that preserve question semantics (e.g. 'really')\"}),\n",
       "             'Irrelevant modifiers - people': defaultdict(<function <lambda>()>,\n",
       "                         {'capability': 'Vocabulary',\n",
       "                          'type': 'MFT',\n",
       "                          'description': \"Add modifiers that preserve question semantics (e.g. 'really')\"}),\n",
       "             'Irrelevant preamble with different examples.': defaultdict(<function <lambda>()>,\n",
       "                         {'capability': 'Vocabulary',\n",
       "                          'type': 'MFT',\n",
       "                          'description': 'Ask questions about animals in general, but with different examples in the preamble. Expect duplicate.'}),\n",
       "             'Preamble is relevant (different injuries)': defaultdict(<function <lambda>()>,\n",
       "                         {'capability': 'Vocabulary',\n",
       "                          'type': 'MFT',\n",
       "                          'description': 'Question preamble mentions different injuries, which makes the questions themselves non-duplicates.'}),\n",
       "             'How can I become more {synonym}?': defaultdict(<function <lambda>()>,\n",
       "                         {'capability': 'Taxonomy',\n",
       "                          'type': 'MFT',\n",
       "                          'description': 'different (simple) templates where words are replaced with their synonyms'}),\n",
       "             '(question, f(question)) where f(question) replaces synonyms?': defaultdict(<function <lambda>()>,\n",
       "                         {'capability': 'Taxonomy',\n",
       "                          'type': 'INV',\n",
       "                          'description': \"Expect 1, should be easy because it's individual word changes\"}),\n",
       "             'Replace synonyms in real pairs': defaultdict(<function <lambda>()>,\n",
       "                         {'capability': 'Taxonomy', 'type': 'INV'}),\n",
       "             'How can I become more X != How can I become less X': defaultdict(<function <lambda>()>,\n",
       "                         {'capability': 'Vocabulary', 'type': 'MFT'}),\n",
       "             'How can I become more X = How can I become less antonym(X)': defaultdict(<function <lambda>()>,\n",
       "                         {'capability': 'Taxonomy', 'type': 'MFT'}),\n",
       "             'add one typo': defaultdict(<function <lambda>()>,\n",
       "                         {'capability': 'Robustness', 'type': 'INV'}),\n",
       "             'contrations': defaultdict(<function <lambda>()>,\n",
       "                         {'capability': 'Robustness', 'type': 'INV'}),\n",
       "             '(q, paraphrase(q))': defaultdict(<function <lambda>()>,\n",
       "                         {'capability': 'Robustness',\n",
       "                          'type': 'DIR',\n",
       "                          'description': 'For questions that start with \"How do I X\", \"How can I X\", etc'}),\n",
       "             'Product of paraphrases(q1) * paraphrases(q2)': defaultdict(<function <lambda>()>,\n",
       "                         {'capability': 'Robustness',\n",
       "                          'type': 'INV',\n",
       "                          'description': 'For questions that start with \"How do I X\", \"How can I X\", etc'}),\n",
       "             'same adjectives, different people': defaultdict(<function <lambda>()>,\n",
       "                         {'capability': 'NER',\n",
       "                          'type': 'MFT',\n",
       "                          'description': 'Different first and last name, same adjectives'}),\n",
       "             'same adjectives, different people v2': defaultdict(<function <lambda>()>,\n",
       "                         {'capability': 'NER',\n",
       "                          'type': 'MFT',\n",
       "                          'description': 'Different first name, same adjective and last name'}),\n",
       "             'same adjectives, different people v3': defaultdict(<function <lambda>()>,\n",
       "                         {'capability': 'NER',\n",
       "                          'type': 'MFT',\n",
       "                          'description': 'Different last name, same adjective and first name'}),\n",
       "             'Change same name in both questions': defaultdict(<function <lambda>()>,\n",
       "                         {'capability': 'NER', 'type': 'INV'}),\n",
       "             'Change same location in both questions': defaultdict(<function <lambda>()>,\n",
       "                         {'capability': 'NER', 'type': 'INV'}),\n",
       "             'Change same number in both questions': defaultdict(<function <lambda>()>,\n",
       "                         {'capability': 'NER', 'type': 'INV'}),\n",
       "             'Change first name in one of the questions': defaultdict(<function <lambda>()>,\n",
       "                         {'capability': 'NER',\n",
       "                          'type': 'DIR',\n",
       "                          'description': 'Take pairs that are originally predicted as duplicates, change first name in one of them and expect new prediction to be non-duplicate'}),\n",
       "             'Change first and last name in one of the questions': defaultdict(<function <lambda>()>,\n",
       "                         {'capability': 'NER',\n",
       "                          'type': 'DIR',\n",
       "                          'description': 'Take pairs that are originally predicted as duplicates, change first and last name in one of them and expect new prediction to be non-duplicate'}),\n",
       "             'Change location in one of the questions': defaultdict(<function <lambda>()>,\n",
       "                         {'capability': 'NER',\n",
       "                          'type': 'DIR',\n",
       "                          'description': 'Take pairs that are originally predicted as duplicates, change location in one of them and expect new prediction to be non-duplicate'}),\n",
       "             'Change numbers in one of the questions': defaultdict(<function <lambda>()>,\n",
       "                         {'capability': 'NER',\n",
       "                          'type': 'DIR',\n",
       "                          'description': 'Take pairs that are originally predicted as duplicates, change number in one of them and expect new prediction to be non-duplicate'}),\n",
       "             'Keep entitites, fill in with gibberish': defaultdict(<function <lambda>()>,\n",
       "                         {'capability': 'NER',\n",
       "                          'type': 'DIR',\n",
       "                          'description': 'Fill in between entitites with BERT, expect result to not be duplicate with original questions'}),\n",
       "             'Is person X != Did person use to be X': defaultdict(<function <lambda>()>,\n",
       "                         {'capability': 'Temporal', 'type': 'MFT'}),\n",
       "             'Is person X != Is person becoming X': defaultdict(<function <lambda>()>,\n",
       "                         {'capability': 'Temporal', 'type': 'MFT'}),\n",
       "             \"What was person's life before becoming X != What was person's life after becoming X\": defaultdict(<function <lambda>()>,\n",
       "                         {'capability': 'Temporal', 'type': 'MFT'}),\n",
       "             'Do you have to X your dog before Y it != Do you have to X your dog after Y it.': defaultdict(<function <lambda>()>,\n",
       "                         {'capability': 'Temporal', 'type': 'MFT'}),\n",
       "             'Is it {ok, dangerous, ...} to {smoke, rest, ...} after != before': defaultdict(<function <lambda>()>,\n",
       "                         {'capability': 'Temporal', 'type': 'MFT'}),\n",
       "             'How can I become a X person != How can I become a person who is not X': defaultdict(<function <lambda>()>,\n",
       "                         {'capability': 'Negation', 'type': 'MFT'}),\n",
       "             'Is it {ok, dangerous, ...} to {smoke, rest, ...} in country != Is it {ok, dangerous, ...} not to {smoke, rest, ...} in country': defaultdict(<function <lambda>()>,\n",
       "                         {'capability': 'Negation', 'type': 'MFT'}),\n",
       "             'What are things a {noun} should worry about != should not worry about.': defaultdict(<function <lambda>()>,\n",
       "                         {'capability': 'Negation', 'type': 'MFT'}),\n",
       "             'How can I become a X person == How can I become a person who is not antonym(X)': defaultdict(<function <lambda>()>,\n",
       "                         {'capability': 'Negation', 'type': 'MFT'}),\n",
       "             'Simple coref: he and she': defaultdict(<function <lambda>()>,\n",
       "                         {'capability': 'Coref', 'type': 'MFT'}),\n",
       "             'Simple coref: his and her': defaultdict(<function <lambda>()>,\n",
       "                         {'capability': 'Coref',\n",
       "                          'type': 'MFT',\n",
       "                          'description': 'TODO_DESCRIPTION'}),\n",
       "             'Who do X think - Who is the ... according to X': defaultdict(<function <lambda>()>,\n",
       "                         {'capability': 'SRL', 'type': 'MFT'}),\n",
       "             'Order does not matter for comparison': defaultdict(<function <lambda>()>,\n",
       "                         {'capability': 'SRL', 'type': 'MFT'}),\n",
       "             'Order does not matter for symmetric relations': defaultdict(<function <lambda>()>,\n",
       "                         {'capability': 'SRL',\n",
       "                          'type': 'MFT',\n",
       "                          'description': 'e.g. dating, married to, close to, engaged to, etc'}),\n",
       "             'Order does matter for asymmetric relations': defaultdict(<function <lambda>()>,\n",
       "                         {'capability': 'SRL',\n",
       "                          'type': 'MFT',\n",
       "                          'description': 'e.g. hurting lying to, faithful to, etc'}),\n",
       "             'traditional SRL: active / passive swap': defaultdict(<function <lambda>()>,\n",
       "                         {'capability': 'SRL', 'type': 'MFT'}),\n",
       "             'traditional SRL: wrong active / passive swap': defaultdict(<function <lambda>()>,\n",
       "                         {'capability': 'SRL', 'type': 'MFT'}),\n",
       "             'traditional SRL: active / passive swap with people': defaultdict(<function <lambda>()>,\n",
       "                         {'capability': 'SRL', 'type': 'MFT'}),\n",
       "             'traditional SRL: wrong active / passive swap with people': defaultdict(<function <lambda>()>,\n",
       "                         {'capability': 'SRL', 'type': 'MFT'}),\n",
       "             'A or B is not the same as C and D': defaultdict(<function <lambda>()>,\n",
       "                         {'capability': 'Logic', 'type': 'MFT'}),\n",
       "             'A or B is not the same as A and B': defaultdict(<function <lambda>()>,\n",
       "                         {'capability': 'Logic', 'type': 'MFT'}),\n",
       "             'A and / or B is the same as B and / or A': defaultdict(<function <lambda>()>,\n",
       "                         {'capability': 'Logic', 'type': 'MFT'}),\n",
       "             'a {nationality} {profession} = a {profession} and {nationality}': defaultdict(<function <lambda>()>,\n",
       "                         {'capability': 'Logic', 'type': 'MFT'}),\n",
       "             'Reflexivity: (q, q) should be duplicate': defaultdict(<function <lambda>()>,\n",
       "                         {'capability': 'Logic', 'type': 'MFT'}),\n",
       "             'Symmetry: f(a, b) = f(b, a)': defaultdict(<function <lambda>()>,\n",
       "                         {'capability': 'Logic', 'type': 'INV'}),\n",
       "             'Testing implications': defaultdict(<function <lambda>()>,\n",
       "                         {'capability': 'Logic',\n",
       "                          'type': 'DIR',\n",
       "                          'description': 'f(x, a) = 1 and f(x, b) = 1 => f(a, b) = 1\\nf(x, a) = 1 and f(x, b) = 0 => f(a, b) = 0\\n Only used (x, a, b) such that (x, a) and (x, b) in val dataset and (a, b) is not.\\n Expectation function filters out examples where f(x, a) or f(x, b) are incorrect'})})"
      ]
     },
     "execution_count": 3,
     "metadata": {},
     "output_type": "execute_result"
    }
   ],
   "source": [
    "suite.info"
   ]
  },
  {
   "cell_type": "code",
   "execution_count": 4,
   "id": "e231e77b",
   "metadata": {
    "scrolled": true
   },
   "outputs": [
    {
     "name": "stdout",
     "output_type": "stream",
     "text": [
      "'Modifier: adj': ,\n",
      "'different adjectives': ,\n",
      "'Different animals': ,\n",
      "'Irrelevant modifiers - animals': ,\n",
      "'Irrelevant modifiers - people': ,\n",
      "'Irrelevant preamble with different examples.': ,\n",
      "'Preamble is relevant (different injuries)': ,\n",
      "'How can I become more {synonym}?': ,\n",
      "'(question, f(question)) where f(question) replaces synonyms?': ,\n",
      "'Replace synonyms in real pairs': ,\n",
      "'How can I become more X != How can I become less X': ,\n",
      "'How can I become more X = How can I become less antonym(X)': ,\n",
      "'add one typo': ,\n",
      "'contrations': ,\n",
      "'(q, paraphrase(q))': ,\n",
      "'Product of paraphrases(q1) * paraphrases(q2)': ,\n",
      "'same adjectives, different people': ,\n",
      "'same adjectives, different people v2': ,\n",
      "'same adjectives, different people v3': ,\n",
      "'Change same name in both questions': ,\n",
      "'Change same location in both questions': ,\n",
      "'Change same number in both questions': ,\n",
      "'Change first name in one of the questions': ,\n",
      "'Change first and last name in one of the questions': ,\n",
      "'Change location in one of the questions': ,\n",
      "'Change numbers in one of the questions': ,\n",
      "'Keep entitites, fill in with gibberish': ,\n",
      "'Is person X != Did person use to be X': ,\n",
      "'Is person X != Is person becoming X': ,\n",
      "'What was person's life before becoming X != What was person's life after becoming X': ,\n",
      "'Do you have to X your dog before Y it != Do you have to X your dog after Y it.': ,\n",
      "'Is it {ok, dangerous, ...} to {smoke, rest, ...} after != before': ,\n",
      "'How can I become a X person != How can I become a person who is not X': ,\n",
      "'Is it {ok, dangerous, ...} to {smoke, rest, ...} in country != Is it {ok, dangerous, ...} not to {smoke, rest, ...} in country': ,\n",
      "'What are things a {noun} should worry about != should not worry about.': ,\n",
      "'How can I become a X person == How can I become a person who is not antonym(X)': ,\n",
      "'Simple coref: he and she': ,\n",
      "'Simple coref: his and her': ,\n",
      "'Who do X think - Who is the ... according to X': ,\n",
      "'Order does not matter for comparison': ,\n",
      "'Order does not matter for symmetric relations': ,\n",
      "'Order does matter for asymmetric relations': ,\n",
      "'traditional SRL: active / passive swap': ,\n",
      "'traditional SRL: wrong active / passive swap': ,\n",
      "'traditional SRL: active / passive swap with people': ,\n",
      "'traditional SRL: wrong active / passive swap with people': ,\n",
      "'A or B is not the same as C and D': ,\n",
      "'A or B is not the same as A and B': ,\n",
      "'A and / or B is the same as B and / or A': ,\n",
      "'a {nationality} {profession} = a {profession} and {nationality}': ,\n",
      "'Reflexivity: (q, q) should be duplicate': ,\n",
      "'Symmetry: f(a, b) = f(b, a)': ,\n",
      "'Testing implications': ,\n"
     ]
    }
   ],
   "source": [
    "for v in suite.info.keys():\n",
    "    print(f\"'{v}': ,\")"
   ]
  },
  {
   "cell_type": "code",
   "execution_count": 23,
   "id": "9e486434",
   "metadata": {},
   "outputs": [],
   "source": [
    "func_descriptions = {\n",
    "    'Modifier: adj': 'an additional adjective changes question meaning',\n",
    "    'different adjectives': 'adjectives with different meanings change question meaning',\n",
    "    'Different animals': 'questions about different animals have different meanings',\n",
    "    'Irrelevant modifiers - animals': 'modifiers such as \"literally\" and \"actually\" do not change question meaning',\n",
    "    'Irrelevant modifiers - people': 'modifiers such as \"literally\" and \"actually\" do not change question meaning',\n",
    "    'Irrelevant preamble with different examples.': 'equal questions preceded by different examples have the same meaning if the questions do not reference the example',\n",
    "    'Preamble is relevant (different injuries)': 'equal questions preceded by different examples have different meanings if the questions reference the example',\n",
    "    'How can I become more {synonym}?': 'synonyms do not change question meaning',\n",
    "    '(question, f(question)) where f(question) replaces synonyms?': 'synonyms do not change question meaning',\n",
    "    'Replace synonyms in real pairs': 'synonyms do not change question meaning',\n",
    "    'How can I become more X != How can I become less X': '\"more\" and \"less\" have different meanings',\n",
    "    'How can I become more X = How can I become less antonym(X)': '\"more X\" and \"less antonym(X)\" have the same meaning',\n",
    "    'add one typo': \"typos are irrelevant to question meaning\",\n",
    "    'contrations': \"contractions are irrelevant to question meaning\",\n",
    "    '(q, paraphrase(q))': \"a question and its paraphrase have the same meaning\",\n",
    "    'Product of paraphrases(q1) * paraphrases(q2)': \"paraphrases preserve the question meaning\",\n",
    "    'same adjectives, different people': \"questions about different people have different meanings\",\n",
    "    'same adjectives, different people v2': \"questions about different people have different meanings\",\n",
    "    'same adjectives, different people v3': \"questions about different people have different meanings\",\n",
    "    'Change same name in both questions': \"if the same name appears in both questions it is irrelevant to the prediction\",\n",
    "    'Change same location in both questions': 'if the same location appears in both questions it is irrelevant to the prediction',\n",
    "    'Change same number in both questions': 'if the same number appears in both questions it is irrelevant to the prediction',\n",
    "    'Change first name in one of the questions': \"questions about different people have different meanings\",\n",
    "    'Change first and last name in one of the questions': \"questions about different people have different meanings\",\n",
    "    'Change location in one of the questions': \"questions about different locations have different meanings\",\n",
    "    'Change numbers in one of the questions': \"questions about different numerical values have different meanings\",\n",
    "    'Keep entitites, fill in with gibberish': \"questions about the same entities in different contexts have different meanings\",\n",
    "    'Is person X != Did person use to be X': \"a question about the present and a question about the past have different meanings\",\n",
    "    'Is person X != Is person becoming X': \"a question about a state and a question about a change in state have different meanings\",\n",
    "    'What was person\\'s life before becoming X != What was person\\'s life after becoming X': '\"before\" and \"after\" have different meanings',\n",
    "    'Do you have to X your dog before Y it != Do you have to X your dog after Y it.': '\"before\" and \"after\" have different meanings',\n",
    "    'Is it {ok, dangerous, ...} to {smoke, rest, ...} after != before': '\"before\" and \"after\" have different meanings',\n",
    "    'How can I become a X person != How can I become a person who is not X': 'an adjective and its negation have different meanings',\n",
    "    'Is it {ok, dangerous, ...} to {smoke, rest, ...} in country != Is it {ok, dangerous, ...} not to {smoke, rest, ...} in country': 'a verb and its negation have different meanings',\n",
    "    'What are things a {noun} should worry about != should not worry about.': \"a verb and its negation have different meanings\",\n",
    "    'How can I become a X person == How can I become a person who is not antonym(X)': \"an adjective and its negated antonym have the same meaning\",\n",
    "    'Simple coref: he and she': '\"he\" and \"she\" have different meanings',\n",
    "    'Simple coref: his and her': '\"his\" and \"her\" have different meanings',\n",
    "    'Who do X think - Who is the ... according to X': \"questions about a group's opinion on a matter have the same meaning if the matter and the group are the same in both questions\",\n",
    "    'Order does not matter for comparison': \"changing the order of a comparison preserves question meaning\",\n",
    "    'Order does not matter for symmetric relations': \"changing the order of a symmetric relation preserves question meaning\",\n",
    "    'Order does matter for asymmetric relations': \"changing the order of a assymetric relation changes question meaning\",\n",
    "    'traditional SRL: active / passive swap': \"changing from active to passive voice preserves question meaning if the semantic roles are preserved\",\n",
    "    'traditional SRL: wrong active / passive swap': \"changing from active to passive voice changes question meaning if the semantic roles are changed\",\n",
    "    'traditional SRL: active / passive swap with people': \"changing from active to passive voice preserves question meaning if the semantic roles are preserved\",\n",
    "    'traditional SRL: wrong active / passive swap with people': \"changing from active to passive voice changes question meaning if the semantic roles are changed\",\n",
    "    'A or B is not the same as C and D': '\"or\" and \"and\" have different meanings',\n",
    "    'A or B is not the same as A and B': '\"or\" and \"and\" have different meanings',\n",
    "    'A and / or B is the same as B and / or A': \"changing the order of a conjuntion or a disjunction preserves question meaning\",\n",
    "    'a {nationality} {profession} = a {profession} and {nationality}': \"questions that ask the nationality and profession of the same individual have the same meaning\",\n",
    "    'Reflexivity: (q, q) should be duplicate': \"equal questions have the same meaning\",\n",
    "    'Symmetry: f(a, b) = f(b, a)': \"the order of the questions is irrelevant to the prediction\",\n",
    "    'Testing implications': \"if a question A has the same meaning as questions B and C, then B and C also have the same meaning, but if A has the same meaning as B and A differs from C, then B and C differ\",\n",
    "}"
   ]
  },
  {
   "cell_type": "code",
   "execution_count": 24,
   "id": "20717868",
   "metadata": {
    "scrolled": true
   },
   "outputs": [
    {
     "data": {
      "text/plain": [
       "{'Modifier: adj': 'an additional adjective changes question meaning',\n",
       " 'different adjectives': 'adjectives with different meanings change question meaning',\n",
       " 'Different animals': 'questions about different animals have different meanings',\n",
       " 'Irrelevant modifiers - animals': 'modifiers such as \"literally\" and \"actually\" do not change question meaning',\n",
       " 'Irrelevant modifiers - people': 'modifiers such as \"literally\" and \"actually\" do not change question meaning',\n",
       " 'Irrelevant preamble with different examples.': 'equal questions preceded by different examples have the same meaning if the questions do not reference the example',\n",
       " 'Preamble is relevant (different injuries)': 'equal questions preceded by different examples have different meanings if the questions reference the example',\n",
       " 'How can I become more {synonym}?': 'synonyms do not change question meaning',\n",
       " '(question, f(question)) where f(question) replaces synonyms?': 'synonyms do not change question meaning',\n",
       " 'Replace synonyms in real pairs': 'synonyms do not change question meaning',\n",
       " 'How can I become more X != How can I become less X': '\"more\" and \"less\" have different meanings',\n",
       " 'How can I become more X = How can I become less antonym(X)': '\"more X\" and \"less antonym(X)\" have the same meaning',\n",
       " 'add one typo': 'typos are irrelevant to question meaning',\n",
       " 'contrations': 'contractions are irrelevant to question meaning',\n",
       " '(q, paraphrase(q))': 'a question and its paraphrase have the same meaning',\n",
       " 'Product of paraphrases(q1) * paraphrases(q2)': 'paraphrases preserve the question meaning',\n",
       " 'same adjectives, different people': 'questions about different people have different meanings',\n",
       " 'same adjectives, different people v2': 'questions about different people have different meanings',\n",
       " 'same adjectives, different people v3': 'questions about different people have different meanings',\n",
       " 'Change same name in both questions': 'if the same name appears in both questions it is irrelevant to the prediction',\n",
       " 'Change same location in both questions': 'if the same location appears in both questions it is irrelevant to the prediction',\n",
       " 'Change same number in both questions': 'if the same number appears in both questions it is irrelevant to the prediction',\n",
       " 'Change first name in one of the questions': 'questions about different people have different meanings',\n",
       " 'Change first and last name in one of the questions': 'questions about different people have different meanings',\n",
       " 'Change location in one of the questions': 'questions about different locations have different meanings',\n",
       " 'Change numbers in one of the questions': 'questions about different numerical values have different meanings',\n",
       " 'Keep entitites, fill in with gibberish': 'questions about the same entities in different contexts have different meanings',\n",
       " 'Is person X != Did person use to be X': 'a question about the present and a question about the past have different meanings',\n",
       " 'Is person X != Is person becoming X': 'a question about a state and a question about a change in state have different meanings',\n",
       " \"What was person's life before becoming X != What was person's life after becoming X\": '\"before\" and \"after\" have different meanings',\n",
       " 'Do you have to X your dog before Y it != Do you have to X your dog after Y it.': '\"before\" and \"after\" have different meanings',\n",
       " 'Is it {ok, dangerous, ...} to {smoke, rest, ...} after != before': '\"before\" and \"after\" have different meanings',\n",
       " 'How can I become a X person != How can I become a person who is not X': 'an adjective and its negation have different meanings',\n",
       " 'Is it {ok, dangerous, ...} to {smoke, rest, ...} in country != Is it {ok, dangerous, ...} not to {smoke, rest, ...} in country': 'a verb and its negation have different meanings',\n",
       " 'What are things a {noun} should worry about != should not worry about.': 'a verb and its negation have different meanings',\n",
       " 'How can I become a X person == How can I become a person who is not antonym(X)': 'an adjective and its negated antonym have the same meaning',\n",
       " 'Simple coref: he and she': '\"he\" and \"she\" have different meanings',\n",
       " 'Simple coref: his and her': '\"his\" and \"her\" have different meanings',\n",
       " 'Who do X think - Who is the ... according to X': \"questions about a group's opinion on a matter have the same meaning if the matter and the group are the same in both questions\",\n",
       " 'Order does not matter for comparison': 'changing the order of a comparison preserves question meaning',\n",
       " 'Order does not matter for symmetric relations': 'changing the order of a symmetric relation preserves question meaning',\n",
       " 'Order does matter for asymmetric relations': 'changing the order of a assymetric relation changes question meaning',\n",
       " 'traditional SRL: active / passive swap': 'changing from active to passive voice preserves question meaning if the semantic roles are preserved',\n",
       " 'traditional SRL: wrong active / passive swap': 'changing from active to passive voice changes question meaning if the semantic roles are changed',\n",
       " 'traditional SRL: active / passive swap with people': 'changing from active to passive voice preserves question meaning if the semantic roles are preserved',\n",
       " 'traditional SRL: wrong active / passive swap with people': 'changing from active to passive voice changes question meaning if the semantic roles are changed',\n",
       " 'A or B is not the same as C and D': '\"or\" and \"and\" have different meanings',\n",
       " 'A or B is not the same as A and B': '\"or\" and \"and\" have different meanings',\n",
       " 'A and / or B is the same as B and / or A': 'changing the order of a conjuntion or a disjunction preserves question meaning',\n",
       " 'a {nationality} {profession} = a {profession} and {nationality}': 'questions that ask the nationality and profession of the same individual have the same meaning',\n",
       " 'Reflexivity: (q, q) should be duplicate': 'equal questions have the same meaning',\n",
       " 'Symmetry: f(a, b) = f(b, a)': 'the order of the questions is irrelevant to the prediction',\n",
       " 'Testing implications': 'if a question A has the same meaning as questions B and C, then B and C also have the same meaning, but if A has the same meaning as B and A differs from C, then B and C differ'}"
      ]
     },
     "execution_count": 24,
     "metadata": {},
     "output_type": "execute_result"
    }
   ],
   "source": [
    "func_descriptions"
   ]
  },
  {
   "cell_type": "code",
   "execution_count": 25,
   "id": "8417b861",
   "metadata": {},
   "outputs": [],
   "source": [
    "with open(\"./data/pi/suite/func_desc.pkl\", \"wb\") as file:\n",
    "    pickle.dump(func_descriptions, file, protocol=4)"
   ]
  },
  {
   "cell_type": "code",
   "execution_count": 26,
   "id": "748b8014",
   "metadata": {},
   "outputs": [
    {
     "name": "stdout",
     "output_type": "stream",
     "text": [
      "0\n",
      "0\n",
      "0\n",
      "1\n",
      "1\n",
      "1\n",
      "0\n",
      "1\n",
      "None\n",
      "None\n",
      "0\n",
      "1\n",
      "None\n",
      "None\n",
      "None\n",
      "None\n",
      "0\n",
      "0\n",
      "0\n",
      "None\n",
      "None\n",
      "None\n",
      "None\n",
      "None\n",
      "None\n",
      "None\n",
      "None\n",
      "0\n",
      "0\n",
      "0\n",
      "0\n",
      "0\n",
      "0\n",
      "0\n",
      "0\n",
      "1\n",
      "0\n",
      "0\n",
      "1\n",
      "1\n",
      "1\n",
      "0\n",
      "1\n",
      "0\n",
      "1\n",
      "0\n",
      "0\n",
      "0\n",
      "1\n",
      "1\n",
      "1\n",
      "None\n",
      "[array([0, 1, 0]), array([1, 1, 1]), array([1, 1, 1]), array([1, 1, 1]), array([1, 1, 1]), array([1, 1, 1]), array([1, 1, 1]), array([1, 1, 1]), array([1, 1, 1]), array([1, 1, 1]), array([1, 1, 1]), array([1, 1, 1]), array([1, 1, 1]), array([1, 1, 1]), array([0, 1, 0]), array([1, 1, 1]), array([1, 1, 1]), array([1, 1, 1]), array([1, 1, 1]), array([1, 1, 1]), array([1, 1, 1]), array([1, 1, 1]), array([1, 1, 1]), array([1, 1, 1]), array([1, 1, 1]), array([1, 1, 1]), array([1, 1, 1]), array([1, 1, 1]), array([1, 1, 1]), array([1, 1, 1]), array([1, 1, 1]), array([1, 1, 1]), array([1, 1, 1]), array([1, 1, 1]), array([1, 1, 1]), array([1, 1, 1]), array([1, 1, 1]), array([1, 1, 1]), array([1, 0, 0]), array([1, 0, 0]), array([0, 1, 0]), array([1, 0, 0]), array([1, 0, 0]), array([1, 0, 0]), array([1, 0, 0]), array([1, 0, 0]), array([1, 0, 0]), array([1, 1, 1]), array([1, 1, 1]), array([1, 1, 1]), array([1, 1, 1]), array([1, 1, 1]), array([1, 1, 1]), array([1, 1, 1]), array([1, 1, 1]), array([1, 1, 1]), array([1, 1, 1]), array([1, 1, 1]), array([1, 1, 1]), array([1, 1, 1]), array([1, 1, 1]), array([1, 1, 1]), array([1, 1, 1]), array([1, 1, 1]), array([1, 1, 1]), array([1, 1, 1]), array([1, 1, 1]), array([1, 1, 1]), array([1, 1, 1]), array([1, 1, 1]), array([1, 1, 1]), array([1, 0, 0]), array([0, 1, 0]), array([0, 1, 0]), array([1, 1, 1]), array([1, 0, 0]), array([1, 1, 1]), array([1, 1, 1]), array([1, 1, 1]), array([1, 1, 1]), array([1, 1, 1]), array([1, 1, 1]), array([1, 1, 1]), array([1, 1, 1]), array([0, 1, 0]), array([0, 1, 0]), array([0, 1, 0]), array([0, 1, 0]), array([1, 0, 0]), array([1, 1, 1]), array([1, 1, 1]), array([0, 1, 0]), array([1, 1, 1]), array([1, 0, 0]), array([0, 1, 0]), array([0, 1, 0]), array([1, 1, 1]), array([0, 1, 0]), array([1, 1, 1]), array([1, 1, 1]), array([0, 1, 0]), array([1, 1, 1]), array([0, 1, 0]), array([0, 1, 0]), array([1, 1, 1]), array([0, 1, 0]), array([1, 1, 1]), array([1, 1, 1]), array([1, 1, 1]), array([1, 1, 1]), array([1, 1, 1]), array([1, 1, 1]), array([1, 1, 1]), array([1, 1, 1]), array([1, 1, 1]), array([1, 0, 0]), array([1, 1, 1]), array([1, 1, 1]), array([1, 1, 1]), array([1, 1, 1]), array([1, 1, 1]), array([1, 1, 1]), array([1, 1, 1]), array([1, 1, 1]), array([1, 1, 1]), array([1, 1, 1]), array([1, 0, 0]), array([1, 0, 0]), array([0, 1, 0]), array([1, 1, 1]), array([0, 1, 0]), array([0, 1, 0]), array([1, 1, 1]), array([1, 1, 1]), array([1, 1, 1]), array([1, 1, 1]), array([1, 1, 1]), array([1, 0, 0]), array([1, 1, 1]), array([1, 0, 0]), array([1, 1, 1]), array([1, 1, 1]), array([1, 0, 0]), array([1, 1, 1]), array([1, 0, 0]), array([1, 1, 1]), array([1, 1, 1]), array([1, 1, 1]), array([1, 0, 0]), array([1, 1, 1]), array([1, 1, 1]), array([1, 1, 1]), array([1, 1, 1]), array([1, 1, 1]), array([1, 1, 1]), array([1, 1, 1]), array([1, 1, 1]), array([1, 1, 1]), array([1, 1, 1]), array([1, 1, 1]), array([1, 1, 1]), array([1, 1, 1]), array([1, 1, 1]), array([1, 1, 1]), array([1, 1, 1]), array([1, 1, 1]), array([1, 1, 1]), array([1, 1, 1]), array([1, 1, 1]), array([1, 1, 1]), array([1, 1, 1]), array([1, 1, 1]), array([1, 1, 1]), array([1, 1, 1]), array([1, 1, 1]), array([1, 1, 1]), array([1, 1, 1]), array([1, 1, 1]), array([1, 1, 1]), array([1, 1, 1]), array([1, 1, 1]), array([1, 1, 1]), array([1, 1, 1]), array([1, 1, 1]), array([1, 1, 1]), array([1, 1, 1]), array([1, 1, 1]), array([1, 1, 1]), array([1, 1, 1]), array([1, 1, 1]), array([1, 1, 1]), array([1, 1, 1]), array([1, 1, 1]), array([1, 1, 1]), array([1, 1, 1]), array([1, 1, 1]), array([1, 1, 1]), array([1, 1, 1]), array([1, 1, 1]), array([1, 1, 1]), array([1, 1, 1]), array([1, 1, 1]), array([1, 1, 1]), array([1, 1, 1]), array([1, 1, 1]), array([1, 1, 1]), array([1, 1, 1]), array([1, 1, 1]), array([1, 1, 1]), array([1, 1, 1]), array([1, 1, 1]), array([1, 1, 1]), array([1, 1, 1]), array([1, 1, 1]), array([1, 1, 1]), array([1, 1, 1]), array([1, 1, 1]), array([1, 1, 1]), array([1, 1, 1]), array([1, 1, 1]), array([1, 1, 1]), array([1, 1, 1]), array([1, 1, 1]), array([1, 1, 1]), array([1, 1, 1]), array([1, 1, 1]), array([1, 1, 1]), array([1, 1, 1]), array([1, 1, 1]), array([1, 1, 1]), array([1, 1, 1]), array([1, 1, 1]), array([1, 1, 1]), array([1, 1, 1]), array([1, 1, 1]), array([1, 1, 1]), array([1, 1, 1]), array([1, 0, 0]), array([1, 1, 1]), array([1, 1, 1]), array([1, 1, 1]), array([1, 1, 1]), array([1, 1, 1]), array([1, 1, 1]), array([1, 1, 1]), array([0, 1, 0]), array([0, 1, 0]), array([1, 1, 1]), array([0, 1, 0]), array([1, 1, 1]), array([1, 1, 1]), array([1, 1, 1]), array([1, 1, 1]), array([1, 1, 1]), array([1, 1, 1]), array([1, 1, 1]), array([1, 1, 1]), array([1, 1, 1]), array([1, 1, 1]), array([1, 1, 1]), array([1, 1, 1]), array([1, 1, 1]), array([1, 1, 1]), array([1, 1, 1]), array([1, 1, 1]), array([1, 1, 1]), array([1, 1, 1]), array([1, 1, 1]), array([1, 1, 1]), array([1, 1, 1]), array([1, 1, 1]), array([1, 1, 1]), array([1, 1, 1]), array([1, 1, 1]), array([1, 1, 1]), array([1, 1, 1]), array([1, 1, 1]), array([1, 1, 1]), array([1, 1, 1]), array([1, 1, 1]), array([1, 1, 1]), array([1, 1, 1]), array([1, 1, 1]), array([1, 1, 1]), array([1, 1, 1]), array([1, 1, 1]), array([1, 1, 1]), array([1, 1, 1]), array([1, 1, 1]), array([1, 1, 1]), array([1, 1, 1]), array([1, 1, 1]), array([1, 1, 1]), array([1, 1, 1]), array([1, 1, 1]), array([1, 1, 1]), array([1, 1, 1]), array([1, 1, 1]), array([1, 1, 1]), array([1, 1, 1]), array([1, 1, 1]), array([1, 1, 1]), array([1, 1, 1]), array([1, 1, 1]), array([1, 1, 1]), array([1, 1, 1]), array([1, 1, 1]), array([1, 0, 0]), array([1, 1, 1]), array([1, 0, 0]), array([1, 1, 1]), array([1, 1, 1]), array([1, 1, 1]), array([1, 1, 1]), array([1, 1, 1]), array([1, 0, 0]), array([0, 1, 0]), array([1, 1, 1]), array([1, 1, 1]), array([0, 1, 0]), array([1, 1, 1]), array([1, 1, 1]), array([1, 1, 1]), array([1, 1, 1]), array([1, 1, 1]), array([1, 1, 1]), array([1, 1, 1]), array([1, 1, 1]), array([1, 1, 1]), array([1, 1, 1]), array([1, 1, 1]), array([1, 1, 1]), array([1, 1, 1]), array([1, 1, 1]), array([1, 1, 1]), array([1, 1, 1]), array([1, 1, 1]), array([1, 1, 1]), array([1, 1, 1]), array([1, 1, 1]), array([1, 1, 1]), array([1, 1, 1]), array([1, 1, 1]), array([1, 1, 1]), array([1, 1, 1]), array([1, 1, 1]), array([1, 1, 1]), array([1, 1, 1]), array([1, 1, 1]), array([1, 1, 1]), array([1, 1, 1]), array([1, 1, 1]), array([1, 1, 1]), array([1, 1, 1]), array([1, 1, 1]), array([1, 0, 0]), array([1, 0, 0]), array([1, 1, 1]), array([1, 1, 1]), array([1, 1, 1]), array([1, 1, 1]), array([1, 1, 1]), array([1, 1, 1]), array([1, 1, 1]), array([1, 1, 1]), array([1, 1, 1]), array([1, 1, 1]), array([1, 1, 1]), array([1, 1, 1]), array([1, 1, 1]), array([1, 1, 1]), array([0, 1, 0]), array([1, 0, 0]), array([1, 1, 1]), array([0, 1, 0]), array([1, 1, 1]), array([1, 1, 1]), array([0, 1, 0]), array([1, 1, 1]), array([1, 1, 1]), array([1, 1, 1]), array([1, 1, 1]), array([1, 1, 1]), array([1, 1, 1]), array([1, 1, 1]), array([1, 1, 1]), array([1, 1, 1]), array([1, 1, 1]), array([1, 1, 1]), array([1, 1, 1]), array([1, 1, 1]), array([1, 1, 1]), array([1, 1, 1]), array([1, 1, 1]), array([1, 1, 1]), array([1, 1, 1]), array([1, 1, 1]), array([1, 1, 1]), array([1, 1, 1]), array([1, 1, 1]), array([1, 1, 1]), array([1, 1, 1]), array([1, 1, 1]), array([1, 1, 1]), array([1, 1, 1]), array([1, 1, 1]), array([1, 1, 1]), array([1, 1, 1]), array([1, 1, 1]), array([1, 1, 1]), array([1, 1, 1]), array([1, 1, 1]), array([1, 1, 1]), array([1, 1, 1]), array([1, 1, 1]), array([1, 0, 0]), array([0, 1, 0]), array([0, 1, 0]), array([1, 1, 1]), array([1, 0, 0]), array([1, 0, 0]), array([1, 0, 0]), array([1, 1, 1]), array([1, 1, 1]), array([1, 1, 1]), array([1, 1, 1]), array([1, 1, 1]), array([1, 1, 1]), array([1, 1, 1]), array([1, 1, 1]), array([1, 1, 1]), array([1, 1, 1]), array([1, 1, 1]), array([1, 1, 1]), array([1, 1, 1]), array([1, 1, 1]), array([1, 1, 1]), array([1, 1, 1]), array([1, 1, 1]), array([1, 1, 1]), array([1, 1, 1]), array([1, 1, 1]), array([1, 1, 1]), array([1, 1, 1]), array([1, 0, 0]), array([1, 1, 1]), array([1, 1, 1]), array([1, 1, 1]), array([1, 1, 1]), array([1, 1, 1]), array([1, 1, 1]), array([1, 1, 1]), array([1, 1, 1]), array([1, 1, 1]), array([1, 1, 1]), array([1, 1, 1]), array([1, 1, 1]), array([1, 1, 1]), array([1, 1, 1]), array([1, 1, 1]), array([1, 1, 1]), array([1, 1, 1]), array([1, 1, 1]), array([1, 1, 1]), array([1, 1, 1]), array([1, 1, 1]), array([1, 1, 1]), array([1, 1, 1]), array([1, 1, 1]), array([1, 1, 1]), array([1, 1, 1]), array([1, 1, 1]), array([1, 1, 1]), array([1, 1, 1]), array([1, 1, 1]), array([1, 1, 1]), array([1, 1, 1]), array([1, 1, 1]), array([1, 1, 1]), array([1, 1, 1]), array([1, 1, 1]), array([1, 1, 1]), array([1, 1, 1]), array([1, 1, 1]), array([0, 1, 0]), array([1, 1, 1]), array([1, 1, 1]), array([1, 1, 1]), array([1, 1, 1]), array([1, 1, 1]), array([1, 1, 1]), array([1, 1, 1]), array([1, 1, 1]), array([1, 1, 1]), array([1, 1, 1]), array([1, 1, 1]), array([1, 1, 1]), array([1, 1, 1]), array([1, 1, 1]), array([1, 1, 1]), array([1, 1, 1]), array([1, 1, 1]), array([1, 1, 1]), array([1, 1, 1]), array([1, 1, 1]), array([1, 1, 1]), array([1, 1, 1]), array([1, 1, 1]), array([1, 1, 1]), array([1, 1, 1]), array([1, 1, 1]), array([1, 1, 1]), array([1, 1, 1]), array([1, 1, 1]), array([1, 0, 0]), array([1, 1, 1]), array([1, 1, 1]), array([1, 1, 1]), array([1, 1, 1]), array([1, 1, 1]), array([1, 1, 1]), array([1, 1, 1]), array([1, 1, 1]), array([1, 1, 1]), array([1, 1, 1]), array([1, 1, 1]), array([1, 1, 1]), array([1, 1, 1]), array([1, 1, 1]), array([1, 1, 1]), array([1, 1, 1]), array([1, 1, 1]), array([1, 1, 1]), array([1, 1, 1]), array([1, 1, 1]), array([1, 1, 1]), array([1, 1, 1]), array([1, 1, 1]), array([1, 1, 1]), array([1, 1, 1]), array([1, 1, 1]), array([1, 1, 1]), array([1, 1, 1]), array([1, 1, 1]), array([1, 1, 1]), array([1, 1, 1]), array([1, 1, 1]), array([1, 1, 1]), array([1, 1, 1]), array([1, 1, 1]), array([1, 1, 1]), array([1, 1, 1]), array([1, 1, 1]), array([1, 1, 1]), array([1, 1, 1]), array([1, 1, 1]), array([1, 1, 1]), array([1, 1, 1]), array([1, 1, 1]), array([1, 1, 1]), array([1, 1, 1]), array([1, 1, 1]), array([1, 1, 1]), array([1, 1, 1]), array([1, 1, 1]), array([1, 1, 1]), array([1, 1, 1]), array([1, 1, 1]), array([1, 1, 1]), array([1, 1, 1]), array([1, 1, 1]), array([1, 1, 1]), array([1, 1, 1]), array([1, 1, 1]), array([1, 1, 1]), array([1, 1, 1]), array([1, 1, 1]), array([1, 1, 1]), array([1, 1, 1]), array([1, 1, 1]), array([1, 1, 1]), array([1, 1, 1]), array([1, 1, 1]), array([1, 1, 1]), array([1, 1, 1]), array([1, 1, 1]), array([1, 1, 1]), array([1, 1, 1]), array([1, 1, 1]), array([1, 1, 1]), array([1, 1, 1]), array([1, 1, 1]), array([1, 1, 1]), array([1, 1, 1]), array([1, 0, 0]), array([1, 1, 1]), array([1, 1, 1]), array([1, 1, 1]), array([1, 1, 1]), array([1, 1, 1]), array([1, 1, 1]), array([1, 1, 1]), array([1, 1, 1]), array([1, 1, 1]), array([1, 1, 1]), array([1, 1, 1]), array([1, 1, 1]), array([1, 1, 1]), array([1, 1, 1]), array([1, 1, 1]), array([1, 1, 1]), array([1, 1, 1]), array([1, 1, 1]), array([1, 1, 1]), array([1, 1, 1]), array([1, 1, 1]), array([1, 1, 1]), array([1, 1, 1]), array([1, 1, 1]), array([1, 1, 1]), array([1, 1, 1]), array([1, 1, 1]), array([1, 1, 1]), array([1, 1, 1]), array([1, 1, 1]), array([1, 1, 1]), array([1, 1, 1]), array([0, 1, 0]), array([1, 1, 1]), array([1, 1, 1]), array([1, 1, 1]), array([1, 1, 1]), array([1, 1, 1]), array([1, 1, 1]), array([1, 1, 1]), array([1, 1, 1]), array([1, 1, 1]), array([1, 1, 1]), array([1, 1, 1]), array([1, 1, 1]), array([0, 1, 0]), array([1, 1, 1]), array([1, 1, 1]), array([1, 1, 1]), array([1, 1, 1]), array([1, 1, 1]), array([1, 1, 1]), array([1, 1, 1]), array([1, 1, 1]), array([1, 1, 1]), array([1, 1, 1]), array([1, 1, 1]), array([1, 1, 1]), array([1, 1, 1]), array([0, 1, 0]), array([1, 0, 0]), array([1, 0, 0]), array([0, 1, 0]), array([1, 1, 1]), array([1, 1, 1]), array([1, 1, 1]), array([1, 1, 1]), array([1, 1, 1]), array([1, 1, 1]), array([1, 1, 1]), array([0, 1, 0]), array([0, 1, 0]), array([1, 1, 1]), array([1, 1, 1]), array([1, 1, 1]), array([1, 1, 1]), array([1, 1, 1]), array([1, 1, 1]), array([1, 1, 1]), array([1, 1, 1]), array([1, 1, 1]), array([1, 1, 1]), array([1, 1, 1]), array([1, 1, 1]), array([1, 1, 1]), array([1, 1, 1]), array([1, 1, 1]), array([1, 1, 1]), array([1, 1, 1]), array([1, 1, 1]), array([1, 1, 1]), array([1, 1, 1]), array([1, 1, 1]), array([1, 1, 1]), array([1, 1, 1]), array([1, 1, 1]), array([1, 1, 1]), array([1, 1, 1]), array([1, 1, 1]), array([1, 1, 1]), array([0, 1, 0]), array([1, 0, 0]), array([0, 1, 0]), array([0, 1, 0]), array([0, 1, 0]), array([0, 1, 0]), array([0, 1, 0]), array([0, 1, 0]), array([1, 0, 0]), array([0, 1, 0]), array([0, 1, 0]), array([0, 1, 0]), array([0, 1, 0]), array([1, 0, 0]), array([1, 1, 1]), array([1, 1, 1]), array([1, 1, 1]), array([1, 1, 1]), array([1, 1, 1]), array([1, 1, 1]), array([1, 1, 1]), array([1, 0, 0]), array([1, 1, 1]), array([1, 0, 0]), array([1, 0, 0]), array([1, 0, 0]), array([1, 0, 0]), array([1, 1, 1]), array([1, 1, 1]), array([1, 1, 1]), array([1, 1, 1]), array([1, 1, 1]), array([1, 1, 1]), array([1, 1, 1]), array([1, 1, 1]), array([1, 0, 0]), array([1, 1, 1]), array([1, 1, 1]), array([1, 1, 1]), array([1, 1, 1]), array([1, 1, 1]), array([1, 1, 1]), array([1, 1, 1]), array([1, 1, 1]), array([1, 1, 1]), array([1, 1, 1]), array([1, 0, 0]), array([1, 1, 1]), array([1, 1, 1]), array([1, 1, 1]), array([1, 1, 1]), array([1, 1, 1]), array([1, 1, 1]), array([1, 1, 1]), array([1, 1, 1]), array([1, 1, 1]), array([1, 1, 1]), array([1, 1, 1]), array([1, 1, 1]), array([1, 1, 1]), array([1, 1, 1]), array([1, 1, 1]), array([1, 1, 1]), array([0, 1, 0]), array([1, 1, 1]), array([1, 0, 0]), array([1, 0, 0]), array([1, 1, 1]), array([0, 1, 0]), array([1, 1, 1]), array([1, 1, 1]), array([1, 1, 1]), array([1, 1, 1]), array([1, 1, 1]), array([1, 1, 1]), array([1, 1, 1]), array([1, 1, 1]), array([1, 1, 1]), array([0, 1, 0]), array([1, 1, 1]), array([1, 0, 0]), array([1, 0, 0]), array([1, 0, 0]), array([1, 0, 0]), array([1, 0, 0]), array([1, 0, 0]), array([0, 1, 0]), array([1, 0, 0]), array([1, 1, 1]), array([1, 1, 1]), array([1, 1, 1]), array([1, 1, 1]), array([1, 1, 1]), array([1, 1, 1]), array([1, 1, 1]), array([1, 1, 1]), array([1, 1, 1]), array([1, 1, 1]), array([1, 1, 1]), array([1, 1, 1]), array([1, 1, 1]), array([1, 1, 1]), array([1, 1, 1]), array([1, 1, 1]), array([1, 1, 1]), array([1, 1, 1]), array([1, 1, 1]), array([1, 1, 1]), array([1, 1, 1]), array([1, 1, 1]), array([1, 1, 1]), array([1, 0, 0]), array([1, 1, 1]), array([1, 1, 1]), array([1, 1, 1]), array([1, 1, 1]), array([1, 1, 1]), array([1, 1, 1]), array([1, 1, 1]), array([1, 1, 1]), array([1, 1, 1]), array([1, 1, 1]), array([1, 1, 1]), array([1, 1, 1]), array([1, 1, 1]), array([1, 1, 1]), array([1, 1, 1]), array([1, 1, 1]), array([1, 1, 1]), array([1, 1, 1]), array([1, 0, 0]), array([1, 1, 1]), array([0, 1, 0]), array([1, 1, 1]), array([1, 1, 1]), array([0, 1, 0]), array([1, 0, 0]), array([0, 1, 0]), array([0, 1, 0]), array([1, 1, 1]), array([1, 1, 1]), array([1, 1, 1]), array([1, 1, 1]), array([1, 1, 1]), array([1, 1, 1]), array([1, 1, 1]), array([1, 1, 1]), array([1, 1, 1]), array([1, 1, 1]), array([1, 1, 1]), array([1, 1, 1]), array([1, 1, 1]), array([1, 1, 1]), array([1, 1, 1]), array([1, 1, 1]), array([1, 1, 1]), array([1, 1, 1]), array([1, 1, 1]), array([1, 1, 1]), array([1, 1, 1]), array([1, 1, 1]), array([1, 1, 1]), array([1, 1, 1]), array([1, 1, 1]), array([1, 1, 1]), array([1, 1, 1]), array([1, 1, 1]), array([1, 1, 1]), array([1, 1, 1]), array([1, 1, 1]), array([1, 1, 1]), array([1, 1, 1]), array([1, 1, 1]), array([1, 1, 1]), array([1, 1, 1]), array([1, 1, 1]), array([1, 1, 1]), array([1, 1, 1]), array([1, 1, 1]), array([1, 1, 1]), array([1, 1, 1]), array([1, 1, 1]), array([1, 1, 1]), array([1, 1, 1]), array([1, 1, 1]), array([1, 1, 1]), array([1, 1, 1]), array([1, 1, 1]), array([1, 1, 1]), array([1, 1, 1]), array([1, 1, 1]), array([1, 1, 1]), array([1, 1, 1]), array([1, 1, 1]), array([1, 1, 1]), array([1, 1, 1]), array([1, 1, 1]), array([1, 1, 1]), array([1, 1, 1]), array([1, 1, 1]), array([1, 1, 1]), array([1, 1, 1]), array([1, 1, 1]), array([1, 1, 1]), array([1, 1, 1]), array([1, 1, 1]), array([1, 1, 1]), array([1, 1, 1]), array([1, 1, 1]), array([1, 1, 1]), array([1, 1, 1]), array([1, 1, 1]), array([1, 1, 1]), array([1, 1, 1]), array([1, 1, 1]), array([1, 1, 1]), array([1, 1, 1]), array([1, 1, 1]), array([1, 1, 1]), array([1, 1, 1]), array([1, 1, 1]), array([1, 1, 1]), array([1, 1, 1]), array([1, 1, 1]), array([1, 1, 1]), array([1, 1, 1]), array([1, 1, 1]), array([1, 1, 1]), array([1, 1, 1]), array([1, 1, 1]), array([1, 1, 1]), array([1, 1, 1]), array([1, 1, 1]), array([1, 1, 1]), array([1, 1, 1]), array([1, 1, 1]), array([1, 1, 1]), array([1, 1, 1]), array([1, 1, 1]), array([1, 0, 0]), array([1, 1, 1]), array([1, 1, 1]), array([1, 1, 1]), array([1, 1, 1]), array([1, 1, 1]), array([1, 1, 1]), array([1, 1, 1]), array([1, 1, 1]), array([1, 1, 1]), array([1, 1, 1]), array([1, 1, 1]), array([1, 0, 0]), array([0, 1, 0]), array([1, 1, 1]), array([1, 1, 1]), array([1, 0, 0]), array([1, 0, 0]), array([0, 1, 0]), array([1, 1, 1]), array([1, 1, 1]), array([0, 1, 0]), array([1, 1, 1]), array([1, 1, 1]), array([1, 1, 1]), array([1, 1, 1]), array([1, 1, 1]), array([1, 1, 1]), array([1, 1, 1]), array([1, 1, 1]), array([1, 1, 1]), array([1, 1, 1]), array([1, 1, 1]), array([1, 1, 1]), array([1, 1, 1]), array([1, 0, 0]), array([0, 1, 0]), array([0, 1, 0]), array([1, 1, 1]), array([1, 1, 1]), array([1, 1, 1]), array([1, 1, 1]), array([1, 1, 1]), array([1, 1, 1]), array([1, 1, 1]), array([1, 1, 1]), array([1, 1, 1]), array([1, 1, 1]), array([1, 1, 1]), array([1, 1, 1]), array([1, 1, 1]), array([1, 1, 1]), array([1, 1, 1]), array([1, 1, 1]), array([1, 1, 1]), array([1, 1, 1]), array([1, 1, 1]), array([1, 1, 1]), array([0, 1, 0]), array([1, 1, 1]), array([1, 1, 1]), array([1, 1, 1]), array([1, 1, 1]), array([1, 1, 1]), array([1, 1, 1]), array([1, 1, 1]), array([1, 1, 1]), array([1, 1, 1]), array([1, 1, 1]), array([1, 1, 1]), array([1, 1, 1]), array([1, 1, 1]), array([1, 1, 1]), array([1, 1, 1]), array([1, 0, 0]), array([1, 1, 1]), array([1, 1, 1]), array([1, 1, 1]), array([1, 1, 1]), array([1, 1, 1]), array([1, 1, 1]), array([1, 1, 1]), array([1, 1, 1]), array([1, 1, 1]), array([1, 1, 1]), array([1, 1, 1]), array([1, 1, 1]), array([1, 0, 0]), array([1, 0, 0]), array([1, 0, 0]), array([0, 1, 0]), array([1, 0, 0]), array([1, 1, 1]), array([1, 1, 1]), array([1, 1, 1]), array([1, 1, 1]), array([1, 1, 1]), array([1, 1, 1]), array([1, 1, 1]), array([1, 1, 1]), array([1, 1, 1]), array([0, 1, 0]), array([1, 1, 1]), array([1, 1, 1]), array([1, 1, 1]), array([1, 1, 1]), array([1, 1, 1]), array([1, 1, 1]), array([1, 1, 1]), array([1, 1, 1]), array([1, 1, 1]), array([1, 1, 1]), array([1, 1, 1]), array([1, 1, 1]), array([1, 1, 1]), array([1, 1, 1]), array([1, 1, 1]), array([1, 1, 1]), array([1, 1, 1]), array([1, 1, 1]), array([1, 1, 1]), array([1, 1, 1]), array([1, 1, 1]), array([1, 1, 1]), array([1, 1, 1]), array([1, 1, 1]), array([1, 1, 1]), array([1, 1, 1]), array([1, 1, 1]), array([1, 1, 1]), array([1, 1, 1]), array([1, 1, 1]), array([1, 1, 1]), array([1, 1, 1]), array([1, 1, 1]), array([1, 1, 1]), array([1, 1, 1]), array([1, 1, 1]), array([1, 1, 1]), array([0, 1, 0]), array([0, 1, 0]), array([0, 1, 0]), array([0, 1, 0]), array([0, 1, 0]), array([0, 1, 0]), array([0, 1, 0]), array([0, 1, 0]), array([0, 1, 0]), array([0, 1, 0]), array([0, 1, 0]), array([0, 1, 0]), array([0, 1, 0]), array([1, 1, 1]), array([0, 1, 0]), array([1, 1, 1]), array([1, 1, 1]), array([1, 1, 1]), array([1, 1, 1]), array([1, 1, 1]), array([1, 1, 1]), array([1, 1, 1]), array([1, 1, 1]), array([1, 1, 1]), array([1, 1, 1]), array([1, 1, 1]), array([1, 1, 1]), array([1, 1, 1]), array([1, 1, 1]), array([1, 1, 1]), array([1, 1, 1]), array([1, 1, 1]), array([1, 1, 1]), array([1, 1, 1]), array([1, 1, 1]), array([1, 1, 1]), array([1, 1, 1]), array([1, 1, 1]), array([1, 0, 0]), array([1, 1, 1]), array([1, 1, 1]), array([1, 1, 1]), array([1, 1, 1]), array([1, 1, 1]), array([1, 1, 1]), array([1, 1, 1]), array([1, 1, 1]), array([1, 1, 1]), array([1, 1, 1]), array([1, 1, 1]), array([1, 0, 0]), array([0, 1, 0]), array([1, 0, 0]), array([0, 1, 0]), array([1, 1, 1]), array([1, 1, 1]), array([1, 1, 1]), array([1, 0, 0]), array([1, 1, 1]), array([1, 1, 1]), array([1, 1, 1]), array([1, 1, 1]), array([1, 1, 1]), array([1, 1, 1]), array([1, 1, 1]), array([1, 1, 1]), array([1, 1, 1]), array([1, 1, 1]), array([1, 1, 1]), array([1, 1, 1]), array([1, 1, 1]), array([1, 1, 1]), array([1, 1, 1]), array([1, 1, 1]), array([1, 1, 1]), array([1, 1, 1]), array([1, 1, 1]), array([1, 1, 1]), array([1, 1, 1]), array([1, 1, 1]), array([1, 1, 1]), array([1, 1, 1]), array([1, 1, 1]), array([1, 1, 1]), array([1, 1, 1]), array([1, 1, 1]), array([1, 1, 1]), array([1, 1, 1]), array([1, 1, 1]), array([1, 1, 1]), array([1, 1, 1]), array([1, 1, 1]), array([1, 1, 1]), array([1, 1, 1]), array([1, 1, 1]), array([1, 1, 1]), array([1, 1, 1]), array([1, 1, 1]), array([1, 1, 1]), array([1, 1, 1]), array([1, 1, 1]), array([1, 1, 1]), array([1, 1, 1]), array([1, 1, 1]), array([1, 1, 1]), array([1, 1, 1]), array([1, 0, 0]), array([0, 1, 0]), array([1, 1, 1]), array([1, 1, 1]), array([1, 1, 1]), array([1, 1, 1]), array([1, 1, 1]), array([1, 1, 1]), array([1, 1, 1]), array([1, 1, 1]), array([1, 1, 1]), array([1, 1, 1]), array([0, 1, 0]), array([1, 1, 1]), array([1, 1, 1]), array([1, 1, 1]), array([1, 1, 1]), array([1, 1, 1]), array([1, 1, 1]), array([1, 1, 1]), array([1, 1, 1]), array([1, 1, 1]), array([0, 1, 0]), array([0, 1, 0]), array([1, 1, 1]), array([1, 1, 1]), array([1, 1, 1]), array([1, 1, 1]), array([1, 1, 1]), array([1, 1, 1]), array([1, 1, 1]), array([1, 1, 1]), array([1, 1, 1]), array([1, 1, 1]), array([1, 1, 1]), array([1, 1, 1]), array([1, 1, 1]), array([1, 1, 1]), array([1, 1, 1]), array([1, 1, 1]), array([1, 1, 1]), array([1, 1, 1]), array([1, 1, 1]), array([1, 1, 1]), array([1, 1, 1]), array([1, 1, 1]), array([1, 1, 1]), array([1, 1, 1]), array([1, 1, 1]), array([1, 1, 1]), array([1, 0, 0]), array([1, 1, 1]), array([1, 1, 1]), array([1, 1, 1]), array([1, 1, 1]), array([1, 1, 1]), array([1, 1, 1]), array([1, 1, 1]), array([1, 1, 1]), array([1, 1, 1]), array([1, 1, 1]), array([1, 1, 1]), array([1, 1, 1]), array([1, 1, 1]), array([1, 1, 1]), array([1, 1, 1]), array([0, 1, 0]), array([1, 0, 0]), array([0, 1, 0]), array([1, 0, 0]), array([0, 1, 0]), array([0, 1, 0]), array([1, 1, 1]), array([0, 1, 0]), array([0, 1, 0]), array([0, 1, 0]), array([0, 1, 0]), array([0, 1, 0]), array([0, 1, 0]), array([1, 1, 1]), array([1, 1, 1]), array([1, 1, 1]), array([1, 1, 1]), array([1, 1, 1]), array([1, 1, 1]), array([1, 1, 1]), array([1, 1, 1]), array([1, 1, 1]), array([1, 1, 1]), array([1, 1, 1]), array([1, 1, 1]), array([1, 1, 1]), array([1, 1, 1]), array([1, 1, 1]), array([1, 1, 1]), array([1, 1, 1]), array([1, 1, 1]), array([1, 1, 1]), array([1, 1, 1]), array([1, 1, 1]), array([1, 1, 1]), array([1, 1, 1]), array([1, 1, 1]), array([1, 1, 1]), array([1, 1, 1]), array([1, 1, 1]), array([1, 1, 1]), array([1, 1, 1]), array([1, 1, 1]), array([1, 1, 1]), array([1, 1, 1]), array([1, 0, 0]), array([1, 1, 1]), array([1, 1, 1]), array([1, 1, 1]), array([1, 1, 1]), array([1, 1, 1]), array([1, 1, 1]), array([1, 1, 1]), array([1, 1, 1]), array([1, 1, 1]), array([1, 1, 1]), array([1, 1, 1]), array([1, 1, 1]), array([1, 1, 1]), array([1, 1, 1]), array([1, 1, 1]), array([1, 1, 1]), array([0, 1, 0]), array([1, 1, 1]), array([1, 1, 1]), array([1, 0, 0]), array([1, 1, 1]), array([1, 1, 1]), array([1, 1, 1]), array([0, 1, 0]), array([1, 0, 0]), array([0, 1, 0]), array([1, 1, 1]), array([1, 1, 1]), array([1, 1, 1]), array([1, 1, 1]), array([1, 1, 1]), array([1, 1, 1]), array([1, 1, 1]), array([0, 1, 0]), array([1, 1, 1]), array([1, 1, 1]), array([1, 1, 1]), array([1, 1, 1]), array([1, 1, 1]), array([1, 1, 1]), array([1, 1, 1]), array([1, 0, 0]), array([1, 1, 1]), array([1, 1, 1]), array([1, 1, 1]), array([1, 1, 1]), array([1, 1, 1]), array([1, 1, 1]), array([1, 1, 1]), array([1, 1, 1]), array([1, 1, 1]), array([1, 1, 1]), array([1, 1, 1]), array([1, 1, 1]), array([1, 1, 1]), array([1, 1, 1]), array([1, 1, 1]), array([1, 1, 1]), array([1, 1, 1]), array([1, 1, 1]), array([1, 1, 1]), array([1, 1, 1]), array([1, 1, 1]), array([1, 1, 1]), array([1, 1, 1]), array([1, 1, 1]), array([1, 1, 1]), array([1, 1, 1]), array([1, 1, 1]), array([1, 1, 1]), array([1, 1, 1]), array([1, 1, 1]), array([1, 1, 1]), array([1, 1, 1]), array([1, 1, 1]), array([1, 1, 1]), array([1, 1, 1]), array([1, 1, 1]), array([1, 1, 1]), array([1, 1, 1]), array([1, 1, 1]), array([1, 1, 1]), array([1, 1, 1]), array([1, 1, 1]), array([1, 1, 1]), array([1, 1, 1]), array([1, 1, 1]), array([1, 1, 1]), array([1, 1, 1]), array([1, 1, 1]), array([1, 1, 1]), array([1, 1, 1]), array([1, 1, 1]), array([1, 1, 1]), array([1, 0, 0]), array([1, 1, 1]), array([1, 0, 0]), array([1, 1, 1]), array([1, 0, 0]), array([1, 0, 0]), array([1, 0, 0]), array([1, 0, 0]), array([1, 1, 1]), array([1, 1, 1]), array([1, 1, 1]), array([1, 1, 1]), array([1, 1, 1]), array([1, 1, 1]), array([1, 1, 1]), array([1, 1, 1]), array([1, 1, 1]), array([1, 1, 1]), array([1, 1, 1]), array([1, 1, 1]), array([1, 1, 1]), array([1, 1, 1]), array([1, 1, 1]), array([1, 1, 1]), array([1, 1, 1]), array([1, 1, 1]), array([1, 1, 1]), array([1, 1, 1]), array([1, 0, 0]), array([1, 0, 0]), array([0, 1, 0]), array([1, 0, 0]), array([1, 0, 0]), array([0, 1, 0]), array([0, 1, 0]), array([1, 0, 0]), array([0, 1, 0]), array([1, 0, 0]), array([0, 1, 0]), array([0, 1, 0]), array([0, 1, 0]), array([1, 0, 0]), array([1, 1, 1]), array([1, 1, 1]), array([1, 1, 1]), array([1, 1, 1]), array([1, 1, 1]), array([1, 1, 1]), array([1, 1, 1]), array([1, 1, 1]), array([1, 1, 1]), array([1, 1, 1]), array([1, 1, 1]), array([1, 1, 1]), array([1, 1, 1]), array([1, 1, 1]), array([1, 1, 1]), array([1, 1, 1]), array([1, 1, 1]), array([1, 1, 1]), array([1, 1, 1]), array([1, 1, 1]), array([1, 1, 1]), array([1, 1, 1]), array([1, 1, 1]), array([1, 1, 1]), array([1, 1, 1]), array([1, 1, 1]), array([1, 1, 1]), array([1, 1, 1]), array([1, 1, 1]), array([1, 1, 1]), array([1, 1, 1]), array([1, 1, 1]), array([1, 1, 1]), array([1, 1, 1]), array([1, 1, 1]), array([1, 1, 1]), array([1, 1, 1]), array([1, 1, 1]), array([1, 1, 1]), array([1, 1, 1]), array([1, 1, 1]), array([1, 0, 0]), array([1, 1, 1]), array([1, 1, 1]), array([1, 1, 1]), array([1, 0, 0]), array([1, 0, 0]), array([1, 1, 1]), array([1, 1, 1]), array([1, 1, 1]), array([1, 1, 1]), array([1, 1, 1]), array([1, 1, 1]), array([1, 1, 1]), array([1, 1, 1]), array([1, 1, 1]), array([1, 1, 1]), array([1, 1, 1]), array([1, 1, 1]), array([1, 1, 1]), array([1, 1, 1]), array([1, 1, 1]), array([1, 1, 1]), array([1, 1, 1]), array([1, 1, 1]), array([1, 1, 1]), array([1, 1, 1]), array([1, 1, 1]), array([1, 1, 1]), array([1, 1, 1]), array([1, 1, 1]), array([1, 1, 1]), array([1, 1, 1]), array([1, 1, 1]), array([1, 1, 1]), array([1, 1, 1]), array([1, 1, 1]), array([1, 1, 1]), array([1, 0, 0]), array([1, 1, 1]), array([1, 1, 1]), array([1, 1, 1]), array([1, 1, 1]), array([1, 1, 1]), array([1, 1, 1]), array([1, 1, 1]), array([1, 1, 1]), array([1, 1, 1]), array([1, 1, 1]), array([1, 1, 1]), array([1, 1, 1]), array([1, 1, 1]), array([1, 1, 1]), array([1, 1, 1]), array([1, 1, 1]), array([1, 1, 1]), array([1, 1, 1]), array([1, 1, 1]), array([1, 1, 1]), array([1, 1, 1]), array([1, 1, 1]), array([1, 1, 1]), array([1, 1, 1]), array([1, 1, 1]), array([1, 1, 1]), array([1, 1, 1]), array([1, 1, 1]), array([1, 1, 1]), array([1, 1, 1]), array([1, 1, 1]), array([1, 1, 1]), array([1, 1, 1]), array([1, 1, 1]), array([1, 1, 1]), array([1, 1, 1]), array([1, 1, 1]), array([1, 1, 1]), array([1, 1, 1]), array([1, 1, 1]), array([1, 1, 1]), array([1, 1, 1]), array([1, 1, 1]), array([1, 1, 1]), array([1, 1, 1]), array([1, 1, 1]), array([1, 1, 1]), array([1, 1, 1]), array([1, 1, 1]), array([1, 1, 1]), array([1, 1, 1]), array([1, 1, 1]), array([1, 1, 1]), array([1, 1, 1]), array([1, 1, 1]), array([1, 1, 1]), array([1, 1, 1]), array([1, 1, 1]), array([1, 1, 1]), array([1, 1, 1]), array([1, 1, 1]), array([1, 1, 1]), array([1, 1, 1]), array([1, 1, 1]), array([1, 1, 1]), array([1, 1, 1]), array([1, 1, 1]), array([1, 1, 1]), array([1, 1, 1]), array([1, 1, 1]), array([1, 1, 1]), array([1, 1, 1]), array([1, 1, 1]), array([1, 1, 1]), array([1, 1, 1]), array([1, 1, 1]), array([1, 1, 1]), array([1, 1, 1]), array([1, 1, 1]), array([1, 1, 1]), array([1, 1, 1]), array([1, 1, 1]), array([1, 1, 1]), array([1, 1, 1]), array([1, 1, 1]), array([1, 1, 1]), array([1, 1, 1]), array([1, 1, 1]), array([1, 1, 1]), array([1, 1, 1]), array([1, 1, 1]), array([1, 1, 1]), array([1, 1, 1]), array([1, 1, 1]), array([1, 1, 1]), array([1, 1, 1]), array([1, 1, 1]), array([1, 1, 1]), array([1, 1, 1]), array([1, 1, 1]), array([1, 1, 1]), array([1, 1, 1]), array([1, 1, 1]), array([1, 1, 1]), array([1, 1, 1]), array([1, 1, 1]), array([1, 1, 1]), array([1, 1, 1]), array([1, 1, 1]), array([1, 1, 1]), array([1, 1, 1]), array([1, 1, 1]), array([1, 1, 1]), array([1, 1, 1]), array([1, 1, 1]), array([1, 1, 1]), array([1, 1, 1]), array([1, 1, 1]), array([1, 1, 1]), array([1, 1, 1]), array([1, 1, 1]), array([1, 1, 1]), array([1, 1, 1]), array([1, 1, 1]), array([1, 1, 1]), array([1, 1, 1]), array([1, 0, 0]), array([1, 1, 1]), array([1, 1, 1]), array([1, 1, 1]), array([1, 1, 1]), array([1, 0, 0]), array([0, 1, 0]), array([1, 1, 1]), array([1, 1, 1]), array([1, 1, 1]), array([1, 1, 1]), array([1, 1, 1]), array([1, 1, 1]), array([1, 1, 1]), array([1, 1, 1]), array([1, 1, 1]), array([0, 1, 0]), array([1, 0, 0]), array([1, 0, 0]), array([1, 1, 1]), array([1, 0, 0]), array([1, 1, 1]), array([1, 0, 0]), array([1, 1, 1]), array([1, 0, 0]), array([1, 1, 1]), array([1, 1, 1]), array([1, 1, 1]), array([1, 1, 1]), array([1, 1, 1]), array([1, 1, 1]), array([1, 1, 1]), array([1, 1, 1]), array([1, 1, 1]), array([0, 1, 0]), array([1, 1, 1]), array([1, 1, 1]), array([0, 1, 0]), array([1, 1, 1]), array([1, 1, 1]), array([1, 1, 1]), array([1, 1, 1]), array([1, 1, 1]), array([1, 1, 1]), array([1, 1, 1]), array([1, 1, 1]), array([1, 1, 1]), array([1, 1, 1]), array([1, 1, 1]), array([1, 1, 1]), array([1, 1, 1]), array([1, 1, 1]), array([1, 1, 1]), array([1, 1, 1]), array([1, 1, 1]), array([1, 1, 1]), array([1, 1, 1]), array([1, 1, 1]), array([1, 1, 1]), array([1, 1, 1]), array([1, 1, 1]), array([1, 1, 1]), array([1, 1, 1]), array([1, 1, 1]), array([1, 1, 1]), array([1, 0, 0]), array([1, 0, 0]), array([1, 1, 1]), array([1, 1, 1]), array([1, 1, 1]), array([1, 1, 1]), array([1, 1, 1]), array([1, 1, 1]), array([1, 1, 1]), array([1, 1, 1]), array([1, 1, 1]), array([1, 1, 1]), array([1, 1, 1]), array([1, 1, 1]), array([1, 1, 1]), array([1, 1, 1]), array([0, 1, 0]), array([1, 1, 1]), array([1, 1, 1]), array([1, 1, 1]), array([1, 0, 0]), array([1, 1, 1]), array([1, 1, 1]), array([1, 1, 1]), array([1, 1, 1]), array([1, 1, 1]), array([1, 1, 1]), array([1, 1, 1]), array([1, 1, 1]), array([1, 1, 1]), array([1, 1, 1]), array([1, 1, 1]), array([1, 1, 1]), array([1, 1, 1]), array([1, 1, 1]), array([1, 1, 1]), array([1, 0, 0]), array([1, 1, 1]), array([1, 1, 1]), array([1, 0, 0]), array([0, 1, 0]), array([1, 0, 0]), array([0, 1, 0]), array([0, 1, 0]), array([1, 0, 0]), array([1, 1, 1]), array([1, 1, 1]), array([1, 1, 1]), array([1, 1, 1]), array([1, 1, 1]), array([1, 1, 1]), array([1, 1, 1]), array([1, 1, 1]), array([1, 1, 1]), array([1, 1, 1]), array([1, 1, 1]), array([1, 1, 1]), array([1, 1, 1]), array([1, 1, 1]), array([1, 1, 1]), array([0, 1, 0]), array([1, 1, 1]), array([1, 0, 0]), array([0, 1, 0]), array([1, 1, 1]), array([1, 1, 1]), array([1, 1, 1]), array([1, 1, 1]), array([1, 1, 1]), array([1, 1, 1]), array([1, 1, 1]), array([0, 1, 0]), array([1, 1, 1]), array([1, 1, 1]), array([1, 1, 1]), array([1, 1, 1]), array([1, 1, 1]), array([1, 1, 1]), array([1, 1, 1]), array([0, 1, 0]), array([1, 1, 1]), array([1, 1, 1]), array([1, 1, 1]), array([1, 1, 1]), array([1, 1, 1]), array([1, 1, 1]), array([1, 1, 1]), array([1, 1, 1]), array([1, 1, 1]), array([0, 1, 0]), array([1, 0, 0]), array([1, 1, 1]), array([1, 1, 1]), array([1, 1, 1]), array([1, 1, 1]), array([1, 1, 1]), array([1, 1, 1]), array([1, 1, 1]), array([1, 1, 1]), array([1, 1, 1]), array([1, 1, 1]), array([1, 1, 1]), array([1, 1, 1]), array([1, 1, 1]), array([1, 1, 1]), array([1, 1, 1]), array([1, 1, 1]), array([1, 1, 1]), array([1, 1, 1]), array([1, 1, 1]), array([1, 1, 1]), array([1, 1, 1]), array([1, 1, 1]), array([1, 1, 1]), array([1, 1, 1]), array([1, 1, 1]), array([1, 1, 1]), array([1, 1, 1]), array([1, 1, 1]), array([1, 1, 1]), array([1, 1, 1]), array([1, 1, 1]), array([1, 1, 1]), array([1, 1, 1]), array([1, 1, 1]), array([1, 1, 1]), array([1, 1, 1]), array([1, 0, 0]), array([1, 0, 0]), array([1, 0, 0]), array([1, 1, 1]), array([1, 1, 1]), array([0, 1, 0]), array([1, 1, 1]), array([1, 1, 1]), array([1, 1, 1]), array([0, 1, 0]), array([1, 1, 1]), array([0, 1, 0]), array([1, 1, 1]), array([1, 1, 1]), array([1, 0, 0]), array([1, 0, 0]), array([1, 1, 1]), array([0, 1, 0]), array([1, 1, 1]), array([1, 1, 1]), array([1, 1, 1]), array([1, 1, 1]), array([1, 1, 1]), array([1, 1, 1]), array([1, 1, 1]), array([1, 1, 1]), array([1, 1, 1]), array([1, 1, 1]), array([1, 1, 1]), array([1, 1, 1]), array([1, 1, 1]), array([1, 1, 1]), array([1, 1, 1]), array([1, 1, 1]), array([1, 1, 1]), array([1, 1, 1]), array([1, 1, 1]), array([1, 1, 1]), array([1, 1, 1]), array([1, 1, 1]), array([1, 1, 1]), array([1, 1, 1]), array([1, 1, 1]), array([1, 1, 1]), array([1, 1, 1]), array([1, 1, 1]), array([1, 1, 1]), array([1, 1, 1]), array([1, 1, 1]), array([1, 1, 1]), array([1, 1, 1]), array([1, 1, 1]), array([1, 1, 1]), array([1, 1, 1]), array([1, 1, 1]), array([1, 1, 1]), array([1, 1, 1]), array([1, 1, 1]), array([1, 1, 1]), array([1, 1, 1]), array([1, 1, 1]), array([1, 1, 1]), array([1, 1, 1]), array([1, 1, 1]), array([1, 1, 1]), array([1, 1, 1]), array([1, 1, 1]), array([1, 1, 1]), array([1, 1, 1]), array([1, 1, 1]), array([1, 1, 1]), array([1, 1, 1]), array([1, 1, 1]), array([1, 1, 1]), array([1, 1, 1]), array([1, 1, 1]), array([1, 1, 1]), array([1, 1, 1]), array([1, 1, 1]), array([1, 1, 1]), array([1, 1, 1]), array([1, 1, 1]), array([1, 1, 1]), array([1, 1, 1]), array([1, 1, 1]), array([1, 0, 0]), array([1, 1, 1]), array([1, 1, 1]), array([1, 1, 1]), array([1, 1, 1]), array([1, 1, 1]), array([1, 1, 1]), array([1, 1, 1]), array([1, 1, 1]), array([1, 1, 1]), array([1, 1, 1]), array([1, 1, 1]), array([1, 1, 1]), array([1, 1, 1]), array([1, 1, 1]), array([1, 1, 1]), array([1, 1, 1]), array([1, 1, 1]), array([1, 1, 1]), array([1, 1, 1]), array([1, 1, 1]), array([1, 1, 1]), array([1, 1, 1]), array([1, 1, 1]), array([1, 1, 1]), array([1, 1, 1]), array([1, 1, 1]), array([1, 1, 1]), array([1, 1, 1]), array([1, 1, 1]), array([1, 1, 1]), array([1, 1, 1]), array([1, 1, 1]), array([1, 1, 1]), array([1, 1, 1]), array([1, 1, 1]), array([1, 1, 1]), array([1, 1, 1]), array([1, 1, 1]), array([1, 1, 1]), array([1, 1, 1]), array([1, 1, 1]), array([1, 0, 0]), array([0, 1, 0]), array([1, 1, 1]), array([1, 1, 1]), array([1, 1, 1]), array([1, 1, 1]), array([1, 1, 1]), array([1, 1, 1]), array([1, 1, 1]), array([1, 1, 1]), array([1, 1, 1]), array([1, 1, 1]), array([1, 1, 1]), array([1, 1, 1]), array([1, 1, 1]), array([1, 1, 1]), array([1, 1, 1]), array([1, 1, 1]), array([1, 1, 1]), array([1, 1, 1]), array([1, 1, 1]), array([1, 1, 1]), array([1, 1, 1]), array([1, 1, 1]), array([1, 1, 1]), array([1, 1, 1]), array([1, 1, 1]), array([1, 1, 1]), array([1, 1, 1]), array([1, 1, 1]), array([1, 1, 1]), array([1, 1, 1]), array([1, 1, 1]), array([1, 1, 1]), array([1, 1, 1]), array([1, 1, 1]), array([1, 1, 1]), array([1, 1, 1]), array([1, 1, 1]), array([1, 1, 1]), array([1, 1, 1]), array([1, 1, 1]), array([1, 1, 1]), array([0, 1, 0]), array([0, 1, 0]), array([1, 0, 0]), array([1, 1, 1]), array([1, 1, 1]), array([1, 1, 1]), array([1, 1, 1]), array([1, 1, 1]), array([1, 1, 1]), array([1, 1, 1]), array([1, 1, 1]), array([1, 1, 1]), array([1, 1, 1]), array([1, 1, 1]), array([1, 1, 1]), array([1, 1, 1]), array([1, 1, 1]), array([0, 1, 0]), array([1, 1, 1]), array([1, 0, 0]), array([1, 1, 1]), array([1, 1, 1]), array([1, 1, 1]), array([1, 1, 1]), array([1, 1, 1]), array([1, 1, 1]), array([1, 1, 1]), array([1, 1, 1]), array([1, 1, 1]), array([1, 1, 1]), array([1, 1, 1]), array([0, 1, 0]), array([0, 1, 0]), array([0, 1, 0]), array([1, 1, 1]), array([1, 1, 1]), array([1, 1, 1]), array([1, 1, 1]), array([1, 1, 1]), array([1, 1, 1]), array([1, 1, 1]), array([0, 1, 0]), array([1, 1, 1]), array([1, 0, 0]), array([1, 0, 0]), array([1, 1, 1]), array([1, 1, 1]), array([1, 1, 1]), array([1, 0, 0]), array([1, 1, 1]), array([1, 1, 1]), array([1, 1, 1]), array([1, 1, 1]), array([0, 1, 0]), array([1, 1, 1]), array([1, 1, 1]), array([1, 1, 1]), array([1, 1, 1]), array([1, 1, 1]), array([1, 0, 0]), array([1, 1, 1]), array([0, 1, 0]), array([1, 0, 0]), array([1, 1, 1]), array([1, 1, 1]), array([1, 1, 1]), array([1, 1, 1]), array([1, 1, 1]), array([1, 1, 1]), array([1, 1, 1]), array([1, 1, 1]), array([1, 1, 1]), array([1, 1, 1]), array([1, 1, 1]), array([1, 1, 1]), array([1, 1, 1]), array([1, 1, 1]), array([1, 1, 1]), array([1, 1, 1]), array([1, 1, 1]), array([1, 1, 1]), array([1, 1, 1]), array([1, 1, 1]), array([1, 1, 1]), array([1, 1, 1]), array([1, 1, 1]), array([1, 1, 1]), array([1, 1, 1]), array([1, 1, 1]), array([1, 1, 1]), array([1, 1, 1]), array([1, 1, 1]), array([1, 1, 1]), array([1, 1, 1]), array([1, 1, 1]), array([1, 1, 1]), array([1, 1, 1]), array([1, 1, 1]), array([1, 1, 1]), array([1, 1, 1]), array([1, 1, 1]), array([1, 1, 1]), array([1, 1, 1]), array([1, 1, 1]), array([1, 1, 1]), array([1, 1, 1]), array([1, 1, 1]), array([1, 1, 1]), array([1, 1, 1]), array([1, 1, 1]), array([1, 1, 1]), array([1, 1, 1]), array([1, 1, 1]), array([1, 1, 1]), array([0, 1, 0]), array([1, 1, 1]), array([1, 1, 1]), array([1, 1, 1]), array([1, 1, 1]), array([1, 1, 1]), array([1, 1, 1]), array([1, 1, 1]), array([1, 1, 1]), array([1, 1, 1]), array([1, 1, 1]), array([1, 1, 1]), array([1, 1, 1]), array([1, 1, 1]), array([1, 1, 1]), array([1, 1, 1]), array([1, 1, 1]), array([1, 1, 1]), array([1, 1, 1]), array([1, 1, 1]), array([1, 1, 1]), array([1, 1, 1]), array([1, 1, 1]), array([1, 1, 1]), array([1, 1, 1]), array([1, 1, 1]), array([1, 1, 1]), array([1, 1, 1]), array([1, 1, 1]), array([1, 1, 1]), array([1, 1, 1]), array([1, 1, 1]), array([1, 1, 1]), array([1, 1, 1]), array([1, 0, 0]), array([0, 1, 0]), array([1, 0, 0]), array([1, 0, 0]), array([0, 1, 0]), array([1, 0, 0]), array([1, 0, 0]), array([1, 0, 0]), array([1, 1, 1]), array([1, 1, 1]), array([1, 1, 1]), array([1, 1, 1]), array([1, 1, 1]), array([0, 1, 0]), array([0, 1, 0]), array([0, 1, 0]), array([1, 1, 1]), array([0, 1, 0]), array([0, 1, 0]), array([0, 1, 0]), array([1, 1, 1]), array([1, 1, 1]), array([1, 1, 1]), array([1, 1, 1]), array([0, 1, 0]), array([1, 1, 1]), array([1, 1, 1]), array([1, 1, 1]), array([1, 1, 1]), array([1, 1, 1]), array([1, 1, 1]), array([1, 1, 1]), array([1, 1, 1]), array([1, 1, 1]), array([1, 1, 1]), array([1, 1, 1]), array([1, 1, 1]), array([1, 1, 1]), array([1, 1, 1]), array([0, 1, 0]), array([1, 1, 1]), array([1, 1, 1]), array([1, 1, 1]), array([1, 1, 1]), array([1, 1, 1]), array([1, 1, 1]), array([1, 1, 1]), array([1, 0, 0]), array([1, 1, 1]), array([1, 0, 0]), array([1, 1, 1]), array([1, 1, 1]), array([1, 1, 1]), array([1, 1, 1]), array([1, 1, 1]), array([1, 1, 1]), array([1, 1, 1]), array([1, 1, 1]), array([1, 1, 1]), array([1, 1, 1]), array([1, 1, 1]), array([1, 1, 1]), array([1, 1, 1]), array([1, 1, 1]), array([1, 1, 1]), array([1, 1, 1]), array([1, 1, 1]), array([1, 1, 1]), array([1, 1, 1]), array([1, 1, 1]), array([1, 1, 1]), array([1, 1, 1]), array([1, 1, 1]), array([1, 1, 1]), array([1, 1, 1]), array([1, 1, 1]), array([1, 1, 1]), array([1, 1, 1]), array([1, 1, 1]), array([1, 0, 0]), array([1, 0, 0]), array([1, 1, 1]), array([1, 1, 1]), array([1, 1, 1]), array([1, 1, 1]), array([1, 1, 1]), array([1, 1, 1]), array([1, 1, 1]), array([1, 1, 1]), array([1, 1, 1]), array([1, 1, 1]), array([1, 1, 1]), array([1, 1, 1]), array([1, 1, 1]), array([1, 1, 1]), array([1, 1, 1]), array([1, 1, 1]), array([1, 1, 1]), array([1, 1, 1]), array([1, 1, 1]), array([1, 1, 1]), array([1, 0, 0]), array([1, 1, 1]), array([1, 1, 1]), array([1, 1, 1]), array([1, 1, 1]), array([1, 1, 1]), array([1, 1, 1]), array([1, 1, 1]), array([1, 1, 1]), array([1, 1, 1]), array([1, 1, 1]), array([1, 1, 1]), array([1, 1, 1]), array([1, 1, 1]), array([1, 1, 1]), array([1, 1, 1]), array([0, 1, 0]), array([0, 1, 0]), array([1, 0, 0]), array([1, 1, 1]), array([1, 1, 1]), array([1, 1, 1]), array([1, 1, 1]), array([1, 1, 1]), array([1, 1, 1]), array([1, 1, 1]), array([1, 1, 1]), array([1, 1, 1]), array([1, 1, 1]), array([0, 1, 0]), array([0, 1, 0]), array([0, 1, 0]), array([1, 1, 1]), array([1, 1, 1]), array([1, 1, 1]), array([1, 1, 1]), array([1, 1, 1]), array([1, 1, 1]), array([1, 1, 1]), array([1, 1, 1]), array([1, 0, 0]), array([1, 1, 1]), array([1, 1, 1]), array([0, 1, 0]), array([1, 1, 1]), array([1, 1, 1]), array([1, 0, 0]), array([1, 0, 0]), array([1, 0, 0]), array([0, 1, 0]), array([1, 1, 1]), array([0, 1, 0]), array([1, 0, 0]), array([1, 1, 1]), array([1, 0, 0]), array([1, 0, 0]), array([1, 0, 0]), array([0, 1, 0]), array([1, 1, 1]), array([1, 1, 1]), array([1, 1, 1]), array([1, 1, 1]), array([1, 1, 1]), array([1, 1, 1]), array([1, 1, 1]), array([1, 1, 1]), array([1, 1, 1]), array([1, 1, 1]), array([1, 1, 1]), array([1, 1, 1]), array([1, 1, 1]), array([1, 1, 1]), array([1, 1, 1]), array([1, 1, 1]), array([1, 0, 0]), array([0, 1, 0]), array([1, 1, 1]), array([1, 1, 1]), array([1, 1, 1]), array([1, 1, 1]), array([1, 1, 1]), array([1, 1, 1]), array([1, 1, 1]), array([1, 1, 1]), array([1, 1, 1]), array([1, 1, 1]), array([1, 1, 1]), array([1, 1, 1]), array([1, 1, 1]), array([1, 1, 1]), array([1, 1, 1]), array([1, 1, 1]), array([1, 1, 1]), array([1, 1, 1]), array([1, 1, 1]), array([1, 1, 1]), array([1, 1, 1]), array([1, 1, 1]), array([1, 1, 1]), array([1, 1, 1]), array([1, 1, 1]), array([1, 1, 1]), array([1, 1, 1]), array([1, 1, 1]), array([1, 1, 1]), array([1, 1, 1]), array([1, 1, 1]), array([1, 1, 1]), array([1, 1, 1]), array([1, 1, 1]), array([1, 1, 1]), array([1, 1, 1]), array([1, 1, 1]), array([1, 1, 1]), array([1, 1, 1]), array([1, 1, 1]), array([1, 1, 1]), array([1, 1, 1]), array([1, 1, 1]), array([1, 1, 1]), array([0, 1, 0]), array([0, 1, 0]), array([1, 1, 1]), array([1, 1, 1]), array([1, 1, 1]), array([1, 1, 1]), array([1, 1, 1]), array([1, 1, 1]), array([1, 1, 1]), array([1, 1, 1]), array([1, 1, 1]), array([1, 1, 1]), array([1, 1, 1]), array([1, 1, 1]), array([1, 1, 1]), array([1, 1, 1]), array([1, 1, 1]), array([1, 1, 1]), array([1, 1, 1]), array([1, 1, 1]), array([1, 0, 0]), array([0, 1, 0]), array([0, 1, 0]), array([1, 1, 1]), array([1, 0, 0]), array([0, 1, 0]), array([1, 1, 1]), array([0, 1, 0]), array([1, 1, 1]), array([1, 0, 0]), array([1, 1, 1]), array([1, 1, 1]), array([1, 1, 1]), array([1, 0, 0]), array([1, 1, 1]), array([1, 1, 1]), array([1, 1, 1]), array([1, 1, 1]), array([1, 1, 1]), array([1, 1, 1]), array([1, 1, 1]), array([1, 1, 1]), array([1, 1, 1]), array([1, 1, 1]), array([1, 1, 1]), array([1, 1, 1]), array([1, 1, 1]), array([1, 1, 1]), array([1, 1, 1]), array([1, 1, 1]), array([1, 1, 1]), array([1, 1, 1]), array([1, 0, 0]), array([1, 0, 0]), array([1, 1, 1]), array([1, 0, 0]), array([1, 1, 1]), array([1, 1, 1]), array([1, 1, 1]), array([1, 0, 0]), array([1, 1, 1]), array([1, 0, 0]), array([1, 1, 1]), array([1, 1, 1]), array([1, 0, 0]), array([1, 1, 1]), array([1, 1, 1]), array([1, 1, 1]), array([1, 1, 1]), array([1, 1, 1]), array([1, 1, 1]), array([1, 1, 1]), array([1, 1, 1]), array([1, 1, 1]), array([1, 1, 1]), array([1, 1, 1]), array([1, 1, 1]), array([1, 1, 1]), array([1, 1, 1]), array([1, 1, 1]), array([1, 1, 1]), array([1, 1, 1]), array([1, 1, 1]), array([1, 1, 1]), array([1, 1, 1]), array([1, 1, 1]), array([1, 1, 1]), array([1, 1, 1]), array([1, 1, 1]), array([1, 1, 1]), array([1, 1, 1]), array([1, 1, 1]), array([1, 1, 1]), array([1, 1, 1]), array([1, 1, 1]), array([1, 1, 1]), array([1, 1, 1]), array([1, 1, 1]), array([1, 1, 1]), array([1, 1, 1]), array([1, 1, 1]), array([1, 1, 1]), array([1, 1, 1]), array([0, 1, 0]), array([1, 0, 0]), array([1, 0, 0]), array([1, 1, 1]), array([1, 1, 1]), array([1, 1, 1]), array([1, 1, 1]), array([1, 1, 1]), array([1, 1, 1]), array([1, 1, 1]), array([1, 0, 0]), array([1, 1, 1]), array([1, 1, 1]), array([1, 1, 1]), array([1, 1, 1]), array([1, 1, 1]), array([1, 1, 1]), array([1, 1, 1]), array([1, 1, 1]), array([1, 1, 1]), array([1, 1, 1]), array([1, 1, 1]), array([0, 1, 0]), array([0, 1, 0]), array([1, 1, 1]), array([1, 1, 1]), array([0, 1, 0]), array([1, 1, 1]), array([1, 1, 1]), array([1, 1, 1]), array([1, 1, 1]), array([1, 1, 1]), array([1, 1, 1]), array([1, 1, 1]), array([1, 1, 1]), array([1, 1, 1]), array([1, 1, 1]), array([1, 1, 1]), array([1, 1, 1]), array([1, 1, 1]), array([1, 1, 1]), array([1, 1, 1]), array([1, 1, 1]), array([1, 1, 1]), array([1, 1, 1]), array([1, 1, 1]), array([1, 1, 1]), array([1, 1, 1]), array([1, 1, 1]), array([1, 1, 1]), array([1, 1, 1]), array([1, 1, 1]), array([1, 1, 1]), array([1, 1, 1]), array([1, 1, 1]), array([1, 1, 1]), array([1, 1, 1]), array([1, 1, 1]), array([1, 1, 1]), array([1, 1, 1]), array([1, 1, 1]), array([1, 1, 1]), array([1, 1, 1]), array([1, 1, 1]), array([1, 0, 0]), array([1, 1, 1]), array([1, 1, 1]), array([1, 0, 0]), array([1, 1, 1]), array([1, 1, 1]), array([1, 1, 1]), array([1, 1, 1]), array([1, 1, 1]), array([1, 1, 1]), array([1, 1, 1]), array([1, 1, 1]), array([1, 1, 1]), array([1, 1, 1]), array([1, 1, 1]), array([1, 1, 1]), array([1, 1, 1]), array([1, 1, 1]), array([1, 1, 1]), array([1, 1, 1]), array([1, 1, 1]), array([1, 1, 1]), array([1, 1, 1]), array([1, 1, 1]), array([1, 1, 1]), array([1, 1, 1]), array([1, 1, 1]), array([1, 1, 1]), array([1, 1, 1]), array([1, 1, 1]), array([1, 1, 1]), array([1, 1, 1]), array([1, 1, 1]), array([1, 1, 1]), array([1, 1, 1]), array([1, 1, 1]), array([1, 1, 1]), array([1, 1, 1]), array([1, 1, 1]), array([1, 1, 1]), array([1, 0, 0]), array([1, 1, 1]), array([1, 1, 1]), array([1, 1, 1]), array([1, 1, 1]), array([1, 1, 1]), array([1, 1, 1]), array([1, 1, 1]), array([1, 1, 1]), array([1, 1, 1]), array([1, 1, 1]), array([1, 1, 1]), array([1, 1, 1]), array([1, 1, 1]), array([1, 1, 1]), array([1, 1, 1]), array([1, 1, 1]), array([1, 1, 1]), array([1, 1, 1]), array([1, 1, 1]), array([1, 1, 1]), array([1, 1, 1]), array([1, 1, 1]), array([1, 1, 1]), array([1, 1, 1]), array([1, 1, 1]), array([1, 1, 1]), array([1, 1, 1]), array([1, 1, 1]), array([0, 1, 0]), array([1, 1, 1]), array([0, 1, 0]), array([1, 1, 1]), array([1, 1, 1]), array([1, 1, 1]), array([1, 1, 1]), array([1, 1, 1]), array([1, 1, 1]), array([1, 1, 1]), array([1, 1, 1]), array([1, 1, 1]), array([1, 1, 1]), array([1, 1, 1]), array([1, 1, 1]), array([1, 1, 1]), array([1, 1, 1]), array([1, 0, 0]), array([1, 0, 0]), array([1, 1, 1]), array([1, 1, 1]), array([1, 1, 1]), array([1, 1, 1]), array([1, 1, 1]), array([1, 1, 1]), array([1, 1, 1]), array([1, 1, 1]), array([1, 1, 1]), array([1, 1, 1]), array([1, 1, 1]), array([1, 1, 1]), array([1, 1, 1]), array([1, 1, 1]), array([1, 1, 1]), array([1, 1, 1]), array([1, 1, 1]), array([1, 1, 1]), array([1, 1, 1]), array([1, 1, 1]), array([1, 1, 1]), array([1, 1, 1]), array([1, 1, 1]), array([1, 1, 1]), array([1, 1, 1]), array([1, 1, 1]), array([1, 1, 1]), array([1, 1, 1]), array([1, 1, 1]), array([1, 1, 1]), array([1, 1, 1]), array([1, 1, 1]), array([1, 1, 1]), array([1, 1, 1]), array([1, 1, 1]), array([1, 1, 1]), array([1, 1, 1]), array([1, 1, 1]), array([1, 0, 0]), array([1, 1, 1]), array([1, 1, 1]), array([0, 1, 0]), array([1, 0, 0]), array([1, 1, 1]), array([1, 1, 1]), array([1, 1, 1]), array([1, 0, 0]), array([1, 0, 0]), array([1, 1, 1]), array([1, 1, 1]), array([1, 1, 1]), array([1, 1, 1]), array([1, 1, 1]), array([1, 1, 1]), array([1, 1, 1]), array([1, 1, 1]), array([1, 0, 0]), array([1, 0, 0]), array([1, 0, 0]), array([1, 0, 0]), array([1, 1, 1]), array([1, 1, 1]), array([1, 1, 1]), array([1, 1, 1]), array([1, 1, 1]), array([1, 1, 1]), array([1, 1, 1]), array([1, 1, 1]), array([1, 1, 1]), array([1, 1, 1]), array([1, 1, 1]), array([1, 1, 1]), array([1, 0, 0]), array([1, 1, 1]), array([1, 1, 1]), array([1, 1, 1]), array([1, 1, 1]), array([1, 1, 1]), array([1, 1, 1]), array([1, 1, 1]), array([1, 1, 1]), array([1, 1, 1]), array([1, 1, 1]), array([1, 1, 1]), array([1, 1, 1]), array([1, 1, 1]), array([1, 1, 1]), array([1, 1, 1]), array([1, 1, 1]), array([1, 1, 1]), array([1, 1, 1]), array([1, 1, 1]), array([1, 0, 0]), array([1, 1, 1]), array([1, 1, 1]), array([1, 1, 1]), array([1, 1, 1]), array([1, 1, 1]), array([1, 1, 1]), array([1, 1, 1]), array([1, 1, 1]), array([1, 1, 1]), array([1, 1, 1]), array([1, 1, 1]), array([1, 1, 1]), array([1, 1, 1]), array([1, 1, 1]), array([1, 1, 1]), array([1, 1, 1]), array([1, 1, 1]), array([1, 1, 1]), array([1, 1, 1]), array([1, 1, 1]), array([1, 1, 1]), array([1, 1, 1]), array([1, 1, 1]), array([1, 1, 1]), array([1, 1, 1]), array([1, 1, 1]), array([1, 1, 1]), array([1, 1, 1]), array([1, 1, 1]), array([1, 1, 1]), array([1, 1, 1]), array([1, 1, 1]), array([1, 1, 1]), array([1, 1, 1]), array([1, 1, 1]), array([1, 1, 1]), array([1, 1, 1]), array([1, 1, 1]), array([1, 1, 1]), array([1, 1, 1]), array([1, 1, 1]), array([1, 1, 1]), array([1, 1, 1]), array([1, 1, 1]), array([1, 1, 1]), array([1, 1, 1]), array([1, 1, 1]), array([1, 1, 1]), array([1, 1, 1]), array([1, 1, 1]), array([1, 1, 1]), array([1, 1, 1]), array([1, 1, 1]), array([1, 1, 1]), array([1, 1, 1]), array([1, 1, 1]), array([1, 1, 1]), array([1, 1, 1]), array([1, 1, 1]), array([0, 1, 0]), array([0, 1, 0]), array([1, 1, 1]), array([1, 0, 0]), array([1, 0, 0]), array([0, 1, 0]), array([0, 1, 0]), array([1, 1, 1]), array([1, 1, 1]), array([1, 1, 1]), array([1, 1, 1]), array([1, 1, 1]), array([1, 1, 1]), array([1, 1, 1]), array([1, 1, 1]), array([1, 1, 1]), array([1, 1, 1]), array([1, 1, 1]), array([1, 1, 1]), array([1, 1, 1]), array([1, 1, 1]), array([1, 1, 1]), array([1, 1, 1]), array([1, 1, 1]), array([1, 1, 1]), array([1, 1, 1]), array([1, 1, 1]), array([1, 1, 1]), array([1, 1, 1]), array([1, 1, 1]), array([1, 1, 1]), array([1, 1, 1]), array([1, 1, 1]), array([1, 1, 1]), array([1, 1, 1]), array([1, 1, 1]), array([1, 1, 1]), array([1, 1, 1]), array([1, 1, 1]), array([1, 1, 1]), array([1, 1, 1]), array([1, 1, 1]), array([1, 1, 1]), array([1, 1, 1]), array([1, 1, 1]), array([1, 1, 1]), array([1, 1, 1]), array([1, 1, 1]), array([1, 1, 1]), array([1, 1, 1]), array([1, 1, 1]), array([1, 1, 1]), array([1, 1, 1]), array([1, 1, 1]), array([1, 1, 1]), array([1, 1, 1]), array([1, 1, 1]), array([1, 1, 1]), array([1, 1, 1]), array([1, 1, 1]), array([1, 1, 1]), array([1, 1, 1]), array([1, 1, 1]), array([1, 1, 1]), array([1, 1, 1]), array([1, 1, 1]), array([0, 1, 0]), array([0, 1, 0]), array([0, 1, 0]), array([1, 1, 1]), array([1, 1, 1]), array([1, 1, 1]), array([1, 1, 1]), array([1, 1, 1]), array([1, 1, 1]), array([1, 1, 1]), array([1, 1, 1]), array([1, 1, 1]), array([1, 0, 0]), array([1, 0, 0]), array([1, 1, 1]), array([1, 1, 1]), array([1, 1, 1]), array([1, 1, 1]), array([1, 1, 1]), array([1, 1, 1]), array([0, 1, 0]), array([1, 1, 1]), array([1, 1, 1]), array([1, 1, 1]), array([1, 1, 1]), array([1, 1, 1]), array([1, 1, 1]), array([1, 1, 1]), array([1, 1, 1]), array([1, 0, 0]), array([1, 0, 0]), array([1, 0, 0]), array([1, 0, 0]), array([1, 1, 1]), array([1, 1, 1]), array([1, 0, 0]), array([1, 1, 1]), array([1, 1, 1]), array([1, 1, 1]), array([1, 1, 1]), array([1, 1, 1]), array([1, 1, 1]), array([1, 1, 1]), array([1, 1, 1]), array([1, 1, 1]), array([1, 1, 1]), array([1, 1, 1]), array([1, 1, 1]), array([1, 1, 1]), array([1, 1, 1]), array([1, 1, 1]), array([1, 1, 1]), array([1, 1, 1]), array([1, 1, 1]), array([1, 1, 1]), array([1, 1, 1]), array([1, 1, 1]), array([1, 1, 1]), array([1, 1, 1]), array([1, 1, 1]), array([1, 1, 1]), array([1, 1, 1]), array([1, 1, 1]), array([1, 1, 1]), array([1, 1, 1]), array([1, 1, 1]), array([1, 1, 1]), array([1, 1, 1]), array([1, 1, 1]), array([1, 1, 1]), array([1, 1, 1]), array([1, 1, 1]), array([1, 1, 1]), array([1, 1, 1]), array([1, 1, 1]), array([1, 1, 1]), array([1, 1, 1]), array([1, 1, 1]), array([1, 1, 1]), array([1, 1, 1]), array([1, 1, 1]), array([1, 1, 1]), array([1, 1, 1]), array([1, 1, 1]), array([1, 1, 1]), array([1, 1, 1]), array([1, 1, 1]), array([1, 1, 1]), array([1, 1, 1]), array([1, 1, 1]), array([1, 1, 1]), array([1, 1, 1]), array([1, 1, 1]), array([1, 1, 1]), array([1, 1, 1]), array([1, 1, 1]), array([1, 1, 1]), array([1, 1, 1]), array([1, 1, 1]), array([1, 1, 1]), array([1, 0, 0]), array([1, 1, 1]), array([0, 1, 0]), array([1, 1, 1]), array([1, 1, 1]), array([1, 1, 1]), array([1, 1, 1]), array([1, 1, 1]), array([1, 1, 1]), array([1, 1, 1]), array([1, 1, 1]), array([1, 1, 1]), array([1, 1, 1]), array([1, 0, 0]), array([1, 1, 1]), array([1, 1, 1]), array([1, 1, 1]), array([1, 1, 1]), array([1, 1, 1]), array([1, 1, 1]), array([1, 1, 1]), array([0, 1, 0]), array([0, 1, 0]), array([0, 1, 0]), array([1, 0, 0]), array([1, 1, 1]), array([1, 1, 1]), array([1, 1, 1]), array([1, 1, 1]), array([1, 1, 1]), array([1, 1, 1]), array([1, 1, 1]), array([1, 1, 1]), array([1, 1, 1]), array([1, 1, 1]), array([1, 1, 1]), array([1, 1, 1]), array([1, 1, 1]), array([1, 1, 1]), array([1, 1, 1]), array([1, 1, 1]), array([1, 0, 0]), array([1, 0, 0]), array([1, 1, 1]), array([1, 0, 0]), array([1, 1, 1]), array([1, 1, 1]), array([1, 1, 1]), array([1, 1, 1]), array([1, 1, 1]), array([1, 1, 1]), array([1, 1, 1]), array([1, 1, 1]), array([1, 1, 1]), array([1, 1, 1]), array([1, 1, 1]), array([1, 1, 1]), array([1, 1, 1]), array([1, 1, 1]), array([1, 1, 1]), array([1, 1, 1]), array([1, 1, 1]), array([1, 1, 1]), array([1, 1, 1]), array([1, 1, 1]), array([1, 1, 1]), array([1, 1, 1]), array([1, 1, 1]), array([1, 1, 1]), array([1, 1, 1]), array([1, 1, 1]), array([1, 1, 1]), array([1, 1, 1]), array([1, 1, 1]), array([1, 1, 1]), array([1, 1, 1]), array([1, 1, 1]), array([1, 1, 1]), array([1, 1, 1]), array([1, 1, 1]), array([1, 1, 1]), array([1, 1, 1]), array([1, 1, 1]), array([1, 1, 1]), array([1, 1, 1]), array([1, 1, 1]), array([1, 1, 1]), array([1, 1, 1]), array([1, 1, 1]), array([1, 1, 1]), array([1, 1, 1]), array([1, 1, 1]), array([1, 1, 1]), array([1, 1, 1]), array([1, 1, 1]), array([1, 1, 1]), array([1, 1, 1]), array([1, 1, 1]), array([1, 1, 1]), array([1, 1, 1]), array([1, 1, 1]), array([1, 1, 1]), array([1, 1, 1]), array([1, 1, 1]), array([1, 1, 1]), array([1, 1, 1]), array([1, 1, 1]), array([1, 1, 1]), array([1, 1, 1]), array([1, 1, 1]), array([1, 1, 1]), array([1, 1, 1]), array([1, 1, 1]), array([1, 1, 1]), array([1, 1, 1]), array([1, 1, 1]), array([1, 1, 1]), array([1, 1, 1]), array([1, 1, 1]), array([1, 0, 0]), array([0, 1, 0]), array([0, 1, 0]), array([1, 1, 1]), array([1, 1, 1]), array([1, 1, 1]), array([1, 1, 1]), array([1, 1, 1]), array([1, 1, 1]), array([1, 1, 1]), array([1, 1, 1]), array([0, 1, 0]), array([1, 1, 1]), array([1, 1, 1]), array([1, 1, 1]), array([1, 1, 1]), array([1, 1, 1]), array([1, 1, 1]), array([1, 1, 1]), array([1, 1, 1]), array([1, 1, 1]), array([1, 1, 1]), array([1, 1, 1]), array([1, 1, 1]), array([1, 1, 1]), array([1, 1, 1]), array([1, 1, 1]), array([1, 1, 1]), array([1, 1, 1]), array([1, 1, 1]), array([1, 1, 1]), array([1, 1, 1]), array([1, 1, 1]), array([1, 0, 0]), array([0, 1, 0]), array([1, 1, 1]), array([1, 1, 1]), array([1, 0, 0]), array([1, 1, 1]), array([1, 1, 1]), array([1, 1, 1]), array([0, 1, 0]), array([1, 1, 1]), array([1, 1, 1]), array([1, 1, 1]), array([1, 1, 1]), array([1, 1, 1]), array([1, 1, 1]), array([1, 1, 1]), array([1, 1, 1]), array([1, 1, 1]), array([1, 1, 1]), array([1, 1, 1]), array([1, 1, 1]), array([1, 1, 1]), array([1, 1, 1]), array([1, 1, 1]), array([1, 1, 1]), array([1, 1, 1]), array([1, 1, 1]), array([1, 1, 1]), array([1, 1, 1]), array([1, 1, 1]), array([1, 0, 0]), array([1, 1, 1]), array([1, 0, 0]), array([1, 0, 0]), array([1, 1, 1]), array([0, 1, 0]), array([1, 0, 0]), array([1, 1, 1]), array([1, 1, 1]), array([0, 1, 0]), array([1, 0, 0]), array([1, 1, 1]), array([1, 1, 1]), array([1, 1, 1]), array([1, 1, 1]), array([1, 1, 1]), array([1, 1, 1]), array([1, 1, 1]), array([1, 1, 1]), array([1, 1, 1]), array([1, 1, 1]), array([1, 1, 1]), array([1, 0, 0]), array([0, 1, 0]), array([1, 0, 0]), array([1, 1, 1]), array([1, 1, 1]), array([1, 1, 1]), array([1, 1, 1]), array([1, 1, 1]), array([1, 1, 1]), array([1, 1, 1]), array([1, 1, 1]), array([1, 1, 1]), array([0, 1, 0]), array([1, 1, 1]), array([0, 1, 0]), array([1, 1, 1]), array([1, 1, 1]), array([1, 1, 1]), array([1, 1, 1]), array([1, 1, 1]), array([1, 1, 1]), array([1, 1, 1]), array([0, 1, 0]), array([1, 1, 1]), array([1, 1, 1]), array([1, 1, 1]), array([1, 1, 1]), array([1, 1, 1]), array([1, 1, 1]), array([1, 1, 1]), array([1, 1, 1]), array([1, 1, 1]), array([1, 1, 1]), array([1, 1, 1]), array([0, 1, 0]), array([1, 0, 0]), array([1, 0, 0]), array([1, 1, 1]), array([1, 0, 0]), array([1, 1, 1]), array([0, 1, 0]), array([1, 1, 1]), array([1, 1, 1]), array([1, 1, 1]), array([1, 1, 1]), array([1, 1, 1]), array([1, 1, 1]), array([1, 1, 1]), array([1, 1, 1]), array([1, 1, 1]), array([1, 1, 1]), array([1, 1, 1]), array([1, 1, 1]), array([1, 1, 1]), array([1, 1, 1]), array([1, 1, 1]), array([1, 1, 1]), array([1, 0, 0]), array([1, 1, 1]), array([1, 1, 1]), array([1, 1, 1]), array([1, 1, 1]), array([1, 1, 1]), array([1, 1, 1]), array([1, 1, 1]), array([1, 1, 1]), array([1, 1, 1]), array([1, 1, 1]), array([0, 1, 0]), array([0, 1, 0]), array([1, 0, 0]), array([1, 0, 0]), array([1, 0, 0]), array([1, 0, 0]), array([0, 1, 0]), array([1, 0, 0]), array([1, 0, 0]), array([1, 0, 0]), array([1, 0, 0]), array([1, 0, 0]), array([1, 0, 0]), array([0, 1, 0]), array([1, 1, 1]), array([0, 1, 0]), array([0, 1, 0]), array([1, 0, 0]), array([1, 1, 1]), array([1, 1, 1]), array([1, 1, 1]), array([1, 1, 1]), array([1, 1, 1]), array([1, 1, 1]), array([1, 1, 1]), array([1, 1, 1]), array([1, 1, 1]), array([1, 1, 1]), array([1, 1, 1]), array([1, 1, 1]), array([1, 1, 1]), array([1, 1, 1]), array([1, 1, 1]), array([1, 1, 1]), array([1, 1, 1]), array([1, 1, 1]), array([1, 1, 1]), array([1, 1, 1]), array([1, 1, 1]), array([1, 1, 1]), array([0, 1, 0]), array([0, 1, 0]), array([1, 1, 1]), array([1, 1, 1]), array([1, 1, 1]), array([1, 1, 1]), array([1, 1, 1]), array([1, 1, 1]), array([1, 1, 1]), array([1, 1, 1]), array([1, 1, 1]), array([1, 1, 1]), array([1, 1, 1]), array([1, 1, 1]), array([1, 1, 1]), array([1, 1, 1]), array([1, 1, 1]), array([1, 1, 1]), array([1, 1, 1]), array([1, 1, 1]), array([1, 1, 1]), array([1, 1, 1]), array([1, 1, 1]), array([1, 1, 1]), array([1, 1, 1]), array([1, 1, 1]), array([1, 1, 1]), array([1, 1, 1]), array([1, 1, 1]), array([1, 1, 1]), array([1, 1, 1]), array([1, 1, 1]), array([1, 1, 1]), array([1, 1, 1]), array([1, 1, 1]), array([1, 1, 1]), array([0, 1, 0]), array([1, 0, 0]), array([0, 1, 0]), array([1, 1, 1]), array([1, 1, 1]), array([1, 1, 1]), array([1, 1, 1]), array([1, 1, 1]), array([1, 1, 1]), array([1, 1, 1]), array([1, 1, 1]), array([1, 1, 1]), array([1, 1, 1]), array([0, 1, 0]), array([1, 1, 1]), array([1, 1, 1]), array([1, 0, 0]), array([1, 1, 1]), array([1, 0, 0]), array([1, 1, 1]), array([1, 1, 1]), array([0, 1, 0]), array([1, 1, 1]), array([1, 1, 1]), array([0, 1, 0]), array([0, 1, 0]), array([1, 1, 1]), array([1, 1, 1]), array([1, 1, 1]), array([1, 1, 1]), array([1, 1, 1]), array([1, 1, 1]), array([1, 1, 1]), array([1, 1, 1]), array([1, 1, 1]), array([1, 1, 1]), array([1, 1, 1]), array([1, 1, 1]), array([1, 1, 1]), array([1, 1, 1]), array([1, 0, 0]), array([1, 0, 0]), array([1, 0, 0]), array([0, 1, 0]), array([1, 1, 1]), array([1, 1, 1]), array([1, 1, 1]), array([1, 1, 1]), array([1, 1, 1]), array([1, 1, 1]), array([1, 1, 1]), array([1, 1, 1]), array([1, 1, 1]), array([1, 1, 1]), array([1, 1, 1]), array([1, 1, 1]), array([1, 1, 1]), array([1, 1, 1]), array([1, 1, 1]), array([1, 1, 1]), array([1, 1, 1]), array([1, 1, 1]), array([1, 1, 1]), array([1, 1, 1]), array([1, 1, 1]), array([1, 1, 1]), array([1, 1, 1]), array([1, 1, 1]), array([1, 1, 1]), array([1, 0, 0]), array([1, 0, 0]), array([1, 1, 1]), array([1, 1, 1]), array([1, 1, 1]), array([1, 1, 1]), array([1, 1, 1]), array([1, 1, 1]), array([1, 1, 1]), array([0, 1, 0]), array([0, 1, 0]), array([1, 1, 1]), array([1, 1, 1]), array([1, 1, 1]), array([1, 1, 1]), array([0, 1, 0]), array([1, 1, 1]), array([1, 1, 1]), array([1, 1, 1]), array([1, 1, 1]), array([1, 1, 1]), array([1, 1, 1]), array([1, 1, 1]), array([1, 1, 1]), array([1, 1, 1]), array([1, 1, 1]), array([1, 0, 0]), array([1, 1, 1]), array([1, 1, 1]), array([1, 1, 1]), array([1, 1, 1]), array([0, 1, 0]), array([0, 1, 0]), array([1, 1, 1]), array([0, 1, 0]), array([1, 1, 1]), array([1, 1, 1]), array([1, 1, 1]), array([1, 1, 1]), array([1, 1, 1]), array([1, 0, 0]), array([1, 1, 1]), array([1, 1, 1]), array([1, 1, 1]), array([1, 1, 1]), array([1, 1, 1]), array([1, 1, 1]), array([1, 1, 1]), array([1, 1, 1]), array([1, 1, 1]), array([1, 1, 1]), array([1, 1, 1]), array([1, 1, 1]), array([1, 1, 1]), array([1, 1, 1]), array([1, 1, 1]), array([1, 1, 1]), array([1, 1, 1]), array([1, 1, 1]), array([1, 1, 1]), array([1, 1, 1]), array([1, 1, 1]), array([1, 1, 1]), array([1, 1, 1]), array([1, 1, 1]), array([1, 1, 1]), array([1, 1, 1]), array([1, 1, 1]), array([1, 1, 1]), array([1, 1, 1]), array([1, 1, 1]), array([1, 1, 1]), array([1, 1, 1]), array([1, 1, 1]), array([1, 1, 1]), array([0, 1, 0]), array([1, 1, 1]), array([1, 1, 1]), array([1, 1, 1]), array([1, 1, 1]), array([1, 1, 1]), array([1, 1, 1]), array([1, 1, 1]), array([1, 1, 1]), array([1, 1, 1]), array([1, 1, 1]), array([1, 1, 1]), array([1, 1, 1]), array([1, 1, 1]), array([1, 1, 1]), array([1, 1, 1]), array([1, 1, 1]), array([1, 1, 1]), array([1, 1, 1]), array([1, 1, 1]), array([1, 1, 1]), array([1, 0, 0]), array([1, 0, 0]), array([1, 1, 1]), array([0, 1, 0]), array([1, 1, 1]), array([1, 1, 1]), array([1, 1, 1]), array([1, 1, 1]), array([1, 1, 1]), array([1, 1, 1]), array([0, 1, 0]), array([1, 1, 1]), array([1, 1, 1]), array([1, 1, 1]), array([1, 1, 1]), array([1, 1, 1]), array([1, 1, 1]), array([1, 1, 1]), array([1, 1, 1]), array([1, 1, 1]), array([1, 1, 1]), array([1, 1, 1]), array([1, 1, 1]), array([1, 1, 1]), array([1, 1, 1]), array([1, 1, 1]), array([1, 1, 1]), array([1, 1, 1]), array([1, 1, 1]), array([1, 1, 1]), array([1, 1, 1]), array([1, 1, 1]), array([1, 1, 1]), array([1, 1, 1]), array([1, 1, 1]), array([1, 1, 1]), array([1, 1, 1]), array([1, 1, 1]), array([1, 1, 1]), array([1, 1, 1]), array([1, 1, 1]), array([1, 1, 1]), array([1, 1, 1]), array([1, 1, 1]), array([1, 1, 1]), array([1, 1, 1]), array([1, 1, 1]), array([1, 1, 1]), array([1, 1, 1]), array([1, 1, 1]), array([1, 1, 1]), array([1, 1, 1]), array([1, 1, 1]), array([0, 1, 0]), array([1, 1, 1]), array([1, 1, 1]), array([1, 0, 0]), array([0, 1, 0]), array([0, 1, 0]), array([1, 1, 1]), array([1, 1, 1]), array([1, 1, 1]), array([1, 1, 1]), array([1, 0, 0]), array([1, 1, 1]), array([1, 1, 1]), array([0, 1, 0]), array([1, 1, 1]), array([1, 1, 1]), array([1, 1, 1]), array([1, 1, 1]), array([1, 1, 1]), array([1, 1, 1]), array([1, 1, 1]), array([1, 1, 1]), array([1, 1, 1]), array([1, 1, 1]), array([1, 1, 1]), array([1, 1, 1]), array([1, 1, 1]), array([1, 1, 1]), array([1, 1, 1]), array([1, 1, 1]), array([1, 1, 1]), array([1, 0, 0]), array([1, 1, 1]), array([1, 1, 1]), array([1, 1, 1]), array([1, 1, 1]), array([1, 1, 1]), array([1, 1, 1]), array([0, 1, 0]), array([1, 1, 1]), array([1, 1, 1]), array([1, 1, 1]), array([1, 1, 1]), array([1, 1, 1]), array([1, 1, 1]), array([1, 1, 1]), array([1, 1, 1]), array([1, 1, 1]), array([1, 1, 1]), array([1, 1, 1]), array([1, 1, 1]), array([1, 1, 1]), array([1, 1, 1]), array([1, 1, 1]), array([1, 1, 1]), array([1, 1, 1]), array([1, 1, 1]), array([1, 1, 1]), array([1, 1, 1]), array([1, 1, 1]), array([1, 1, 1]), array([1, 1, 1]), array([1, 1, 1]), array([0, 1, 0]), array([0, 1, 0]), array([1, 1, 1]), array([1, 1, 1]), array([1, 1, 1]), array([1, 1, 1]), array([1, 1, 1]), array([1, 1, 1]), array([1, 1, 1]), array([1, 1, 1]), array([1, 1, 1]), array([1, 1, 1]), array([1, 1, 1]), array([1, 1, 1]), array([1, 1, 1]), array([1, 1, 1]), array([1, 1, 1]), array([1, 1, 1]), array([1, 1, 1]), array([1, 1, 1]), array([1, 1, 1]), array([1, 1, 1]), array([1, 1, 1]), array([1, 1, 1]), array([1, 1, 1]), array([1, 1, 1]), array([1, 1, 1]), array([1, 1, 1]), array([1, 1, 1]), array([1, 1, 1]), array([1, 1, 1]), array([1, 1, 1]), array([1, 1, 1]), array([1, 1, 1]), array([1, 1, 1]), array([1, 1, 1]), array([1, 1, 1]), array([1, 1, 1]), array([1, 1, 1]), array([1, 1, 1]), array([1, 1, 1]), array([1, 1, 1]), array([1, 1, 1]), array([0, 1, 0]), array([1, 1, 1]), array([0, 1, 0]), array([0, 1, 0]), array([0, 1, 0]), array([1, 0, 0]), array([1, 1, 1]), array([1, 1, 1]), array([1, 1, 1]), array([1, 0, 0]), array([0, 1, 0]), array([1, 1, 1]), array([1, 1, 1]), array([1, 1, 1]), array([1, 1, 1]), array([0, 1, 0]), array([1, 1, 1]), array([1, 1, 1]), array([1, 1, 1]), array([1, 1, 1]), array([1, 1, 1]), array([1, 1, 1]), array([1, 1, 1]), array([1, 1, 1]), array([1, 1, 1]), array([0, 1, 0]), array([1, 1, 1]), array([1, 1, 1]), array([1, 1, 1]), array([1, 1, 1]), array([1, 1, 1]), array([1, 1, 1]), array([1, 1, 1]), array([1, 1, 1]), array([1, 1, 1]), array([1, 1, 1]), array([1, 1, 1]), array([1, 1, 1]), array([1, 1, 1]), array([0, 1, 0]), array([1, 1, 1]), array([1, 1, 1]), array([1, 1, 1]), array([1, 1, 1]), array([1, 1, 1]), array([1, 1, 1]), array([1, 1, 1]), array([1, 1, 1]), array([1, 1, 1]), array([1, 1, 1]), array([1, 1, 1]), array([1, 1, 1]), array([1, 1, 1]), array([1, 1, 1]), array([1, 1, 1]), array([1, 1, 1]), array([0, 1, 0]), array([0, 1, 0]), array([1, 1, 1]), array([1, 1, 1]), array([1, 1, 1]), array([1, 1, 1]), array([1, 1, 1]), array([1, 1, 1]), array([0, 1, 0]), array([1, 1, 1]), array([1, 1, 1]), array([1, 1, 1]), array([1, 1, 1]), array([1, 1, 1]), array([1, 1, 1]), array([1, 1, 1]), array([1, 1, 1]), array([1, 1, 1]), array([1, 1, 1]), array([1, 1, 1]), array([1, 1, 1]), array([1, 1, 1]), array([1, 1, 1]), array([1, 1, 1]), array([1, 1, 1]), array([1, 1, 1]), array([1, 1, 1]), array([1, 1, 1]), array([1, 1, 1]), array([1, 1, 1]), array([1, 1, 1]), array([1, 1, 1]), array([1, 1, 1]), array([1, 0, 0]), array([1, 1, 1]), array([1, 1, 1]), array([1, 1, 1]), array([1, 1, 1]), array([1, 1, 1]), array([1, 1, 1]), array([0, 1, 0]), array([1, 1, 1]), array([1, 1, 1]), array([1, 1, 1]), array([1, 1, 1]), array([1, 0, 0]), array([0, 1, 0]), array([1, 0, 0]), array([1, 1, 1]), array([0, 1, 0]), array([1, 0, 0]), array([1, 1, 1]), array([1, 1, 1]), array([1, 1, 1]), array([1, 1, 1]), array([1, 1, 1]), array([1, 1, 1]), array([1, 1, 1]), array([0, 1, 0]), array([1, 1, 1]), array([1, 1, 1]), array([1, 1, 1]), array([1, 1, 1]), array([1, 1, 1]), array([1, 1, 1]), array([1, 1, 1]), array([1, 1, 1]), array([1, 1, 1]), array([1, 1, 1]), array([1, 1, 1]), array([1, 1, 1]), array([1, 1, 1]), array([1, 1, 1]), array([1, 1, 1]), array([0, 1, 0]), array([1, 1, 1]), array([1, 1, 1]), array([1, 1, 1]), array([1, 1, 1]), array([1, 1, 1]), array([1, 1, 1]), array([1, 1, 1]), array([1, 1, 1]), array([1, 1, 1]), array([1, 1, 1]), array([1, 1, 1]), array([1, 1, 1]), array([1, 1, 1]), array([1, 1, 1]), array([1, 1, 1]), array([1, 1, 1]), array([1, 1, 1]), array([1, 1, 1]), array([1, 1, 1]), array([1, 1, 1]), array([1, 1, 1]), array([1, 1, 1]), array([1, 1, 1]), array([1, 1, 1]), array([1, 1, 1]), array([1, 1, 1]), array([1, 1, 1]), array([1, 1, 1]), array([1, 1, 1]), array([1, 1, 1]), array([1, 1, 1]), array([1, 1, 1]), array([1, 1, 1]), array([1, 1, 1]), array([1, 1, 1]), array([1, 1, 1]), array([1, 1, 1]), array([1, 1, 1]), array([0, 1, 0]), array([0, 1, 0]), array([1, 0, 0]), array([1, 1, 1]), array([1, 1, 1]), array([1, 1, 1]), array([1, 1, 1]), array([1, 1, 1]), array([1, 1, 1]), array([0, 1, 0]), array([1, 1, 1]), array([1, 1, 1]), array([1, 1, 1]), array([1, 1, 1]), array([1, 1, 1]), array([1, 1, 1]), array([1, 1, 1]), array([1, 1, 1]), array([1, 1, 1]), array([1, 1, 1]), array([1, 1, 1]), array([1, 1, 1]), array([1, 1, 1]), array([1, 1, 1]), array([1, 1, 1]), array([1, 1, 1]), array([1, 1, 1]), array([1, 1, 1]), array([1, 1, 1]), array([1, 1, 1]), array([1, 1, 1]), array([1, 1, 1]), array([1, 1, 1]), array([1, 1, 1]), array([1, 1, 1]), array([1, 1, 1]), array([1, 1, 1]), array([1, 1, 1]), array([1, 1, 1]), array([1, 1, 1]), array([1, 1, 1]), array([1, 1, 1]), array([1, 1, 1]), array([1, 1, 1]), array([1, 1, 1]), array([1, 1, 1]), array([1, 1, 1]), array([1, 1, 1]), array([1, 1, 1]), array([1, 1, 1]), array([1, 1, 1]), array([1, 1, 1]), array([1, 1, 1]), array([1, 1, 1]), array([1, 1, 1]), array([1, 1, 1]), array([1, 1, 1]), array([1, 1, 1]), array([1, 1, 1]), array([1, 1, 1]), array([1, 0, 0]), array([1, 0, 0]), array([1, 0, 0]), array([0, 1, 0]), array([1, 1, 1]), array([1, 1, 1]), array([0, 1, 0]), array([0, 1, 0]), array([0, 1, 0]), array([1, 1, 1]), array([1, 1, 1]), array([1, 0, 0]), array([1, 1, 1]), array([1, 1, 1]), array([1, 0, 0]), array([1, 1, 1]), array([1, 0, 0]), array([1, 0, 0]), array([1, 0, 0]), array([0, 1, 0]), array([1, 1, 1]), array([1, 1, 1]), array([1, 1, 1]), array([1, 1, 1]), array([0, 1, 0]), array([1, 1, 1]), array([0, 1, 0]), array([0, 1, 0]), array([1, 1, 1]), array([1, 0, 0]), array([1, 1, 1]), array([1, 1, 1]), array([1, 1, 1]), array([1, 1, 1]), array([1, 1, 1]), array([0, 1, 0]), array([1, 1, 1]), array([0, 1, 0]), array([1, 1, 1]), array([0, 1, 0]), array([1, 1, 1]), array([1, 1, 1]), array([0, 1, 0]), array([1, 1, 1]), array([1, 1, 1]), array([1, 1, 1]), array([1, 1, 1]), array([1, 1, 1]), array([1, 1, 1]), array([1, 1, 1]), array([1, 1, 1]), array([0, 1, 0]), array([1, 0, 0]), array([1, 1, 1]), array([1, 1, 1]), array([0, 1, 0]), array([1, 1, 1]), array([1, 1, 1]), array([1, 0, 0]), array([1, 1, 1]), array([1, 1, 1]), array([1, 1, 1]), array([1, 1, 1]), array([1, 1, 1]), array([1, 1, 1]), array([1, 1, 1]), array([0, 1, 0]), array([1, 0, 0]), array([1, 1, 1]), array([1, 1, 1]), array([1, 1, 1]), array([1, 1, 1]), array([1, 1, 1]), array([1, 1, 1]), array([1, 1, 1]), array([1, 1, 1]), array([1, 1, 1]), array([1, 1, 1]), array([1, 1, 1]), array([1, 1, 1]), array([1, 1, 1]), array([1, 1, 1]), array([1, 1, 1]), array([1, 1, 1]), array([1, 1, 1]), array([1, 1, 1]), array([1, 1, 1]), array([1, 1, 1]), array([1, 1, 1]), array([1, 1, 1]), array([1, 1, 1]), array([1, 1, 1]), array([1, 1, 1]), array([1, 1, 1]), array([1, 1, 1]), array([1, 1, 1]), array([1, 1, 1]), array([1, 1, 1]), array([1, 1, 1]), array([1, 1, 1]), array([1, 1, 1]), array([1, 1, 1]), array([1, 1, 1]), array([1, 1, 1]), array([1, 1, 1]), array([1, 1, 1]), array([1, 1, 1]), array([1, 1, 1]), array([1, 1, 1]), array([0, 1, 0]), array([1, 1, 1]), array([1, 1, 1]), array([0, 1, 0]), array([1, 0, 0]), array([1, 1, 1]), array([0, 1, 0]), array([1, 1, 1]), array([1, 1, 1]), array([1, 1, 1]), array([1, 1, 1]), array([1, 1, 1]), array([1, 1, 1]), array([1, 1, 1]), array([1, 1, 1]), array([1, 1, 1]), array([1, 1, 1]), array([1, 1, 1]), array([1, 1, 1]), array([1, 1, 1]), array([1, 1, 1]), array([1, 1, 1]), array([1, 1, 1]), array([1, 1, 1]), array([1, 1, 1]), array([1, 1, 1]), array([1, 1, 1]), array([1, 1, 1]), array([1, 1, 1]), array([1, 1, 1]), array([1, 1, 1]), array([1, 1, 1]), array([1, 1, 1]), array([1, 1, 1]), array([0, 1, 0]), array([0, 1, 0]), array([0, 1, 0]), array([0, 1, 0]), array([0, 1, 0]), array([1, 1, 1]), array([1, 1, 1]), array([1, 0, 0]), array([1, 0, 0]), array([1, 0, 0]), array([1, 0, 0]), array([1, 0, 0]), array([1, 1, 1]), array([1, 0, 0]), array([1, 1, 1]), array([1, 1, 1]), array([1, 1, 1]), array([1, 1, 1]), array([1, 1, 1]), array([1, 1, 1]), array([1, 1, 1]), array([1, 1, 1]), array([1, 1, 1]), array([1, 1, 1]), array([1, 1, 1]), array([1, 1, 1]), array([1, 1, 1]), array([0, 1, 0]), array([1, 1, 1]), array([1, 1, 1]), array([1, 1, 1]), array([1, 1, 1]), array([1, 1, 1]), array([1, 1, 1]), array([1, 1, 1]), array([1, 1, 1]), array([1, 1, 1]), array([1, 1, 1]), array([1, 1, 1]), array([1, 1, 1]), array([1, 1, 1]), array([1, 1, 1]), array([1, 1, 1]), array([1, 1, 1]), array([1, 1, 1]), array([1, 1, 1]), array([1, 1, 1]), array([1, 1, 1]), array([1, 1, 1]), array([1, 1, 1]), array([1, 1, 1]), array([1, 1, 1]), array([1, 1, 1]), array([1, 1, 1]), array([1, 1, 1]), array([1, 1, 1]), array([1, 1, 1]), array([1, 1, 1]), array([1, 1, 1]), array([1, 1, 1]), array([1, 1, 1]), array([1, 1, 1]), array([1, 1, 1]), array([1, 1, 1]), array([1, 1, 1]), array([1, 1, 1]), array([1, 1, 1]), array([1, 1, 1]), array([1, 1, 1]), array([1, 1, 1]), array([1, 1, 1]), array([1, 1, 1]), array([1, 1, 1]), array([1, 1, 1]), array([1, 1, 1]), array([1, 0, 0]), array([1, 1, 1]), array([1, 1, 1]), array([1, 1, 1]), array([1, 1, 1]), array([1, 1, 1]), array([1, 1, 1]), array([1, 1, 1]), array([0, 1, 0]), array([1, 0, 0]), array([1, 1, 1]), array([1, 1, 1]), array([0, 1, 0]), array([1, 0, 0]), array([1, 1, 1]), array([0, 1, 0]), array([1, 1, 1]), array([1, 1, 1]), array([1, 1, 1]), array([1, 1, 1]), array([1, 0, 0]), array([1, 1, 1]), array([1, 1, 1]), array([0, 1, 0]), array([1, 1, 1]), array([1, 1, 1]), array([1, 1, 1]), array([1, 1, 1]), array([1, 1, 1]), array([1, 1, 1]), array([1, 1, 1]), array([1, 1, 1]), array([1, 1, 1]), array([1, 1, 1]), array([1, 1, 1]), array([1, 1, 1]), array([1, 1, 1]), array([1, 1, 1]), array([1, 1, 1]), array([0, 1, 0]), array([1, 1, 1]), array([1, 1, 1]), array([1, 1, 1]), array([1, 1, 1]), array([1, 1, 1]), array([1, 1, 1]), array([1, 1, 1]), array([1, 1, 1]), array([1, 1, 1]), array([1, 1, 1]), array([0, 1, 0]), array([0, 1, 0]), array([1, 1, 1]), array([1, 1, 1]), array([1, 1, 1]), array([1, 1, 1]), array([1, 1, 1]), array([1, 1, 1]), array([1, 1, 1]), array([1, 1, 1]), array([1, 1, 1]), array([1, 1, 1]), array([1, 1, 1]), array([1, 1, 1]), array([1, 1, 1]), array([1, 1, 1]), array([1, 1, 1]), array([1, 1, 1]), array([1, 1, 1]), array([1, 1, 1]), array([1, 1, 1]), array([1, 1, 1]), array([0, 1, 0]), array([1, 1, 1]), array([1, 1, 1]), array([1, 0, 0]), array([1, 0, 0]), array([1, 1, 1]), array([1, 1, 1]), array([1, 1, 1]), array([1, 1, 1]), array([1, 1, 1]), array([1, 1, 1]), array([0, 1, 0]), array([1, 1, 1]), array([1, 1, 1]), array([1, 1, 1]), array([1, 0, 0]), array([1, 1, 1]), array([1, 1, 1]), array([1, 1, 1]), array([1, 1, 1]), array([1, 1, 1]), array([1, 0, 0]), array([1, 0, 0]), array([1, 1, 1]), array([1, 1, 1]), array([1, 0, 0]), array([1, 1, 1]), array([1, 1, 1]), array([1, 1, 1]), array([1, 1, 1]), array([1, 1, 1]), array([1, 1, 1]), array([1, 1, 1]), array([1, 1, 1]), array([1, 1, 1]), array([1, 1, 1]), array([1, 1, 1]), array([1, 1, 1]), array([1, 1, 1]), array([0, 1, 0]), array([1, 0, 0]), array([0, 1, 0]), array([1, 0, 0]), array([1, 1, 1]), array([0, 1, 0]), array([1, 1, 1]), array([0, 1, 0]), array([1, 0, 0]), array([0, 1, 0]), array([1, 0, 0]), array([0, 1, 0]), array([1, 0, 0]), array([0, 1, 0]), array([1, 0, 0]), array([1, 0, 0]), array([0, 1, 0]), array([0, 1, 0]), array([0, 1, 0]), array([1, 1, 1]), array([1, 1, 1]), array([1, 0, 0]), array([1, 1, 1]), array([0, 1, 0]), array([1, 0, 0]), array([0, 1, 0]), array([1, 0, 0]), array([0, 1, 0]), array([1, 0, 0]), array([0, 1, 0]), array([1, 0, 0]), array([1, 0, 0]), array([1, 1, 1]), array([0, 1, 0]), array([1, 0, 0]), array([0, 1, 0]), array([0, 1, 0]), array([1, 1, 1]), array([0, 1, 0]), array([1, 1, 1]), array([1, 0, 0]), array([0, 1, 0]), array([0, 1, 0]), array([0, 1, 0]), array([0, 1, 0]), array([1, 0, 0]), array([1, 0, 0]), array([1, 0, 0]), array([1, 1, 1]), array([0, 1, 0]), array([1, 0, 0]), array([1, 1, 1]), array([0, 1, 0]), array([0, 1, 0]), array([1, 1, 1]), array([0, 1, 0]), array([1, 0, 0]), array([1, 1, 1]), array([1, 1, 1]), array([1, 1, 1]), array([1, 1, 1]), array([1, 1, 1]), array([1, 1, 1]), array([1, 1, 1]), array([1, 1, 1]), array([1, 1, 1]), array([1, 1, 1]), array([1, 1, 1]), array([1, 1, 1]), array([1, 1, 1]), array([1, 1, 1]), array([1, 1, 1]), array([1, 1, 1]), array([1, 1, 1]), array([1, 1, 1]), array([1, 1, 1]), array([1, 1, 1]), array([1, 1, 1]), array([1, 1, 1]), array([0, 1, 0]), array([1, 1, 1]), array([1, 1, 1]), array([1, 1, 1]), array([1, 1, 1]), array([1, 1, 1]), array([1, 1, 1]), array([1, 0, 0]), array([1, 1, 1]), array([1, 1, 1]), array([1, 1, 1]), array([1, 1, 1]), array([0, 1, 0]), array([0, 1, 0]), array([0, 1, 0]), array([1, 1, 1]), array([1, 1, 1]), array([1, 1, 1]), array([1, 1, 1]), array([1, 1, 1]), array([1, 1, 1]), array([1, 1, 1]), array([1, 1, 1]), array([1, 1, 1]), array([1, 1, 1]), array([1, 1, 1]), array([1, 1, 1]), array([1, 1, 1]), array([1, 1, 1]), array([1, 1, 1]), array([1, 1, 1]), array([1, 1, 1]), array([1, 1, 1]), array([1, 1, 1]), array([1, 1, 1]), array([1, 1, 1]), array([1, 1, 1]), array([1, 1, 1]), array([1, 1, 1]), array([1, 1, 1]), array([1, 1, 1]), array([1, 1, 1]), array([1, 1, 1]), array([1, 1, 1]), array([1, 1, 1]), array([1, 1, 1]), array([1, 1, 1]), array([1, 1, 1]), array([1, 1, 1]), array([1, 1, 1]), array([1, 1, 1]), array([1, 1, 1]), array([1, 0, 0]), array([1, 1, 1]), array([1, 1, 1]), array([1, 1, 1]), array([1, 1, 1]), array([1, 1, 1]), array([1, 1, 1]), array([1, 1, 1]), array([1, 0, 0]), array([1, 1, 1]), array([0, 1, 0]), array([1, 1, 1]), array([1, 1, 1]), array([1, 1, 1]), array([0, 1, 0]), array([1, 0, 0]), array([1, 1, 1]), array([1, 1, 1]), array([1, 1, 1]), array([1, 1, 1]), array([1, 1, 1]), array([1, 1, 1]), array([1, 1, 1]), array([1, 1, 1]), array([1, 0, 0]), array([1, 1, 1]), array([1, 1, 1]), array([1, 1, 1]), array([0, 1, 0]), array([1, 1, 1]), array([0, 1, 0]), array([1, 1, 1]), array([1, 1, 1]), array([1, 1, 1]), array([1, 1, 1]), array([1, 1, 1]), array([1, 1, 1]), array([1, 0, 0]), array([1, 0, 0]), array([1, 0, 0]), array([1, 1, 1]), array([1, 1, 1]), array([1, 1, 1]), array([1, 1, 1]), array([1, 1, 1]), array([1, 1, 1]), array([1, 1, 1]), array([1, 1, 1]), array([1, 1, 1]), array([1, 1, 1]), array([1, 1, 1]), array([0, 1, 0]), array([1, 1, 1]), array([1, 1, 1]), array([1, 0, 0]), array([1, 1, 1]), array([1, 1, 1]), array([1, 1, 1]), array([1, 1, 1]), array([1, 1, 1]), array([1, 1, 1]), array([1, 1, 1]), array([1, 1, 1]), array([1, 1, 1]), array([1, 1, 1]), array([1, 1, 1]), array([0, 1, 0]), array([1, 1, 1]), array([1, 1, 1]), array([1, 1, 1]), array([1, 1, 1]), array([1, 1, 1]), array([1, 1, 1]), array([1, 1, 1]), array([1, 1, 1]), array([1, 1, 1]), array([1, 1, 1]), array([1, 1, 1]), array([1, 1, 1]), array([1, 1, 1]), array([1, 1, 1]), array([1, 1, 1]), array([1, 1, 1]), array([1, 1, 1]), array([1, 1, 1]), array([1, 1, 1]), array([1, 1, 1]), array([1, 1, 1]), array([1, 1, 1]), array([1, 1, 1]), array([1, 1, 1]), array([1, 1, 1]), array([1, 1, 1]), array([1, 1, 1]), array([1, 1, 1]), array([1, 1, 1]), array([1, 1, 1]), array([1, 1, 1]), array([1, 1, 1]), array([1, 1, 1]), array([1, 1, 1]), array([1, 1, 1]), array([1, 1, 1]), array([1, 1, 1]), array([1, 1, 1]), array([1, 1, 1]), array([1, 0, 0]), array([1, 1, 1]), array([1, 1, 1]), array([1, 1, 1]), array([1, 1, 1]), array([1, 1, 1]), array([1, 1, 1]), array([0, 1, 0]), array([1, 0, 0]), array([1, 0, 0]), array([1, 1, 1]), array([1, 1, 1]), array([1, 1, 1]), array([1, 1, 1]), array([1, 1, 1]), array([1, 1, 1]), array([1, 1, 1]), array([1, 1, 1]), array([1, 1, 1]), array([1, 1, 1]), array([1, 1, 1]), array([0, 1, 0]), array([0, 1, 0]), array([1, 1, 1]), array([1, 1, 1]), array([1, 1, 1]), array([1, 1, 1]), array([1, 1, 1]), array([1, 1, 1]), array([1, 0, 0]), array([1, 1, 1]), array([1, 1, 1]), array([1, 1, 1]), array([1, 1, 1]), array([1, 1, 1]), array([1, 1, 1]), array([1, 1, 1]), array([1, 1, 1]), array([1, 1, 1]), array([1, 1, 1]), array([1, 1, 1]), array([1, 0, 0]), array([0, 1, 0]), array([1, 1, 1]), array([1, 1, 1]), array([1, 1, 1]), array([1, 1, 1]), array([1, 1, 1]), array([1, 1, 1]), array([0, 1, 0]), array([1, 1, 1]), array([1, 1, 1]), array([1, 1, 1]), array([1, 1, 1]), array([1, 1, 1]), array([1, 1, 1]), array([1, 1, 1]), array([1, 1, 1]), array([1, 1, 1]), array([1, 1, 1]), array([1, 1, 1]), array([1, 1, 1]), array([1, 1, 1]), array([1, 1, 1]), array([1, 1, 1]), array([1, 1, 1]), array([1, 1, 1]), array([1, 1, 1]), array([0, 1, 0]), array([1, 1, 1]), array([1, 1, 1]), array([1, 1, 1]), array([1, 1, 1]), array([1, 1, 1]), array([1, 1, 1]), array([1, 1, 1]), array([1, 1, 1]), array([1, 1, 1]), array([1, 1, 1]), array([1, 1, 1]), array([1, 1, 1]), array([1, 1, 1]), array([1, 1, 1]), array([1, 1, 1]), array([1, 1, 1]), array([1, 1, 1]), array([1, 1, 1]), array([1, 1, 1]), array([1, 1, 1]), array([1, 1, 1]), array([1, 1, 1]), array([1, 1, 1]), array([1, 1, 1]), array([1, 1, 1]), array([1, 1, 1]), array([1, 1, 1]), array([1, 1, 1]), array([0, 1, 0]), array([1, 1, 1]), array([1, 1, 1]), array([1, 1, 1]), array([1, 1, 1]), array([1, 1, 1]), array([1, 1, 1]), array([1, 1, 1]), array([1, 1, 1]), array([1, 1, 1]), array([1, 1, 1]), array([1, 1, 1]), array([1, 1, 1]), array([1, 1, 1]), array([1, 1, 1]), array([1, 1, 1]), array([1, 1, 1]), array([1, 1, 1]), array([1, 1, 1]), array([1, 1, 1]), array([1, 1, 1]), array([1, 1, 1]), array([1, 1, 1]), array([1, 1, 1]), array([1, 1, 1]), array([1, 1, 1]), array([1, 1, 1]), array([1, 1, 1]), array([1, 1, 1]), array([1, 1, 1]), array([1, 1, 1]), array([1, 1, 1]), array([1, 1, 1]), array([1, 1, 1]), array([1, 1, 1]), array([1, 1, 1]), array([1, 1, 1]), array([1, 1, 1]), array([1, 1, 1]), array([1, 1, 1]), array([1, 1, 1]), array([1, 0, 0]), array([1, 1, 1]), array([1, 1, 1]), array([1, 1, 1]), array([1, 1, 1]), array([1, 1, 1]), array([1, 1, 1]), array([1, 1, 1]), array([1, 1, 1]), array([1, 1, 1]), array([1, 1, 1]), array([1, 1, 1]), array([1, 1, 1]), array([1, 1, 1]), array([1, 1, 1]), array([1, 1, 1]), array([1, 1, 1]), array([1, 1, 1]), array([1, 1, 1]), array([1, 1, 1]), array([1, 1, 1]), array([1, 1, 1]), array([1, 1, 1]), array([1, 1, 1]), array([1, 1, 1]), array([1, 1, 1]), array([1, 1, 1]), array([1, 1, 1]), array([1, 0, 0]), array([1, 1, 1]), array([1, 1, 1]), array([1, 1, 1]), array([1, 1, 1]), array([1, 1, 1]), array([1, 1, 1]), array([1, 1, 1]), array([1, 1, 1]), array([1, 0, 0]), array([1, 1, 1]), array([1, 1, 1]), array([1, 1, 1]), array([1, 0, 0]), array([1, 1, 1]), array([1, 1, 1]), array([1, 1, 1]), array([1, 1, 1]), array([1, 1, 1]), array([1, 1, 1]), array([1, 1, 1]), array([1, 0, 0]), array([0, 1, 0]), array([1, 1, 1]), array([1, 1, 1]), array([1, 1, 1]), array([1, 1, 1]), array([1, 1, 1]), array([1, 1, 1]), array([1, 1, 1]), array([1, 1, 1]), array([1, 1, 1]), array([1, 1, 1]), array([1, 1, 1]), array([1, 1, 1]), array([1, 1, 1]), array([1, 1, 1]), array([1, 1, 1]), array([1, 1, 1]), array([1, 1, 1]), array([1, 1, 1]), array([1, 1, 1]), array([1, 1, 1]), array([1, 1, 1]), array([1, 1, 1]), array([1, 1, 1]), array([1, 0, 0]), array([0, 1, 0]), array([1, 1, 1]), array([1, 1, 1]), array([1, 1, 1]), array([1, 1, 1]), array([1, 1, 1]), array([1, 1, 1]), array([1, 1, 1]), array([1, 1, 1]), array([1, 1, 1]), array([1, 1, 1]), array([1, 1, 1]), array([1, 1, 1]), array([1, 1, 1]), array([1, 1, 1]), array([1, 1, 1]), array([1, 1, 1]), array([1, 1, 1]), array([1, 1, 1]), array([1, 1, 1]), array([1, 1, 1]), array([1, 1, 1]), array([1, 1, 1]), array([1, 1, 1]), array([1, 1, 1]), array([1, 1, 1]), array([1, 1, 1]), array([1, 1, 1]), array([0, 1, 0]), array([0, 1, 0]), array([0, 1, 0]), array([1, 0, 0]), array([1, 1, 1]), array([1, 1, 1]), array([1, 1, 1]), array([0, 1, 0]), array([1, 1, 1]), array([1, 0, 0]), array([1, 1, 1]), array([1, 0, 0]), array([1, 1, 1]), array([1, 1, 1]), array([1, 1, 1]), array([1, 1, 1]), array([1, 1, 1]), array([1, 1, 1]), array([1, 1, 1]), array([1, 1, 1]), array([1, 1, 1]), array([1, 0, 0]), array([0, 1, 0]), array([1, 1, 1]), array([1, 1, 1]), array([1, 1, 1]), array([1, 1, 1]), array([1, 1, 1]), array([1, 1, 1]), array([1, 1, 1]), array([1, 1, 1]), array([1, 1, 1]), array([1, 1, 1]), array([1, 1, 1]), array([1, 1, 1]), array([1, 1, 1]), array([1, 1, 1]), array([1, 1, 1]), array([1, 1, 1]), array([1, 1, 1]), array([0, 1, 0]), array([1, 0, 0]), array([1, 1, 1]), array([1, 1, 1]), array([1, 1, 1]), array([1, 1, 1]), array([1, 1, 1]), array([1, 1, 1]), array([0, 1, 0]), array([1, 1, 1]), array([1, 1, 1]), array([1, 1, 1]), array([1, 1, 1]), array([1, 1, 1]), array([1, 1, 1]), array([1, 1, 1]), array([1, 1, 1]), array([1, 1, 1]), array([1, 1, 1]), array([1, 1, 1]), array([1, 1, 1]), array([1, 1, 1]), array([1, 1, 1]), array([1, 1, 1]), array([1, 1, 1]), array([1, 1, 1]), array([1, 1, 1]), array([1, 1, 1]), array([1, 1, 1]), array([1, 1, 1]), array([1, 1, 1]), array([1, 1, 1]), array([1, 0, 0]), array([1, 0, 0]), array([1, 0, 0]), array([1, 0, 0]), array([1, 1, 1]), array([0, 1, 0]), array([1, 0, 0]), array([1, 1, 1]), array([1, 0, 0]), array([0, 1, 0]), array([1, 1, 1]), array([1, 1, 1]), array([1, 1, 1]), array([1, 1, 1]), array([0, 1, 0]), array([0, 1, 0]), array([1, 0, 0]), array([1, 0, 0]), array([1, 0, 0]), array([0, 1, 0]), array([1, 1, 1]), array([1, 0, 0]), array([1, 0, 0]), array([0, 1, 0]), array([1, 0, 0]), array([1, 1, 1]), array([1, 1, 1]), array([1, 1, 1]), array([1, 1, 1]), array([1, 1, 1]), array([1, 1, 1]), array([1, 1, 1]), array([1, 1, 1]), array([1, 1, 1]), array([1, 1, 1]), array([1, 1, 1]), array([0, 1, 0]), array([1, 1, 1]), array([1, 1, 1]), array([0, 1, 0]), array([1, 1, 1]), array([1, 1, 1]), array([1, 1, 1]), array([1, 1, 1]), array([1, 1, 1]), array([1, 1, 1]), array([1, 1, 1]), array([0, 1, 0]), array([1, 1, 1]), array([1, 1, 1]), array([1, 1, 1]), array([1, 1, 1]), array([1, 1, 1]), array([1, 1, 1]), array([1, 1, 1]), array([1, 1, 1]), array([1, 1, 1]), array([1, 1, 1]), array([1, 1, 1]), array([1, 1, 1]), array([1, 1, 1]), array([1, 1, 1]), array([1, 1, 1]), array([1, 1, 1]), array([1, 1, 1]), array([1, 1, 1]), array([1, 1, 1]), array([1, 1, 1]), array([1, 1, 1]), array([1, 0, 0]), array([1, 1, 1]), array([1, 1, 1]), array([1, 1, 1]), array([1, 1, 1]), array([1, 1, 1]), array([1, 1, 1]), array([1, 1, 1]), array([1, 1, 1]), array([1, 1, 1]), array([1, 1, 1]), array([1, 1, 1]), array([1, 1, 1]), array([1, 1, 1]), array([1, 1, 1]), array([1, 1, 1]), array([1, 1, 1]), array([1, 1, 1]), array([1, 1, 1]), array([1, 1, 1]), array([1, 1, 1]), array([1, 1, 1]), array([1, 1, 1]), array([1, 1, 1]), array([1, 1, 1]), array([1, 1, 1]), array([1, 1, 1]), array([1, 1, 1]), array([1, 1, 1]), array([1, 1, 1]), array([1, 1, 1]), array([1, 1, 1]), array([1, 1, 1]), array([1, 1, 1]), array([1, 1, 1]), array([1, 1, 1]), array([1, 1, 1]), array([1, 1, 1]), array([1, 1, 1]), array([1, 1, 1]), array([1, 1, 1]), array([0, 1, 0]), array([1, 0, 0]), array([0, 1, 0]), array([0, 1, 0]), array([0, 1, 0]), array([1, 1, 1]), array([1, 1, 1]), array([1, 1, 1]), array([1, 1, 1]), array([1, 1, 1]), array([1, 1, 1]), array([1, 1, 1]), array([1, 1, 1]), array([1, 1, 1]), array([0, 1, 0]), array([1, 1, 1]), array([1, 0, 0]), array([1, 1, 1]), array([1, 1, 1]), array([1, 1, 1]), array([1, 0, 0]), array([1, 1, 1]), array([1, 1, 1]), array([1, 1, 1]), array([1, 1, 1]), array([1, 1, 1]), array([0, 1, 0]), array([1, 0, 0]), array([1, 0, 0]), array([0, 1, 0]), array([1, 1, 1]), array([1, 1, 1]), array([1, 1, 1]), array([1, 1, 1]), array([1, 1, 1]), array([1, 1, 1]), array([1, 1, 1]), array([1, 1, 1]), array([1, 0, 0]), array([1, 1, 1]), array([1, 1, 1]), array([1, 1, 1]), array([1, 1, 1]), array([1, 1, 1]), array([1, 1, 1]), array([1, 1, 1]), array([1, 1, 1]), array([1, 1, 1]), array([1, 1, 1]), array([1, 1, 1]), array([1, 1, 1]), array([1, 1, 1]), array([1, 1, 1]), array([1, 1, 1]), array([1, 1, 1]), array([1, 1, 1]), array([1, 1, 1]), array([1, 1, 1]), array([1, 1, 1]), array([1, 1, 1]), array([1, 1, 1]), array([1, 1, 1]), array([1, 1, 1]), array([1, 1, 1]), array([0, 1, 0]), array([1, 1, 1]), array([1, 1, 1]), array([1, 1, 1]), array([0, 1, 0]), array([0, 1, 0]), array([0, 1, 0]), array([1, 1, 1]), array([1, 1, 1]), array([1, 1, 1]), array([1, 1, 1]), array([1, 1, 1]), array([1, 1, 1]), array([1, 0, 0]), array([1, 1, 1]), array([1, 1, 1]), array([1, 1, 1]), array([1, 1, 1]), array([1, 1, 1]), array([1, 0, 0]), array([1, 1, 1]), array([1, 1, 1]), array([1, 1, 1]), array([1, 1, 1]), array([1, 1, 1]), array([1, 1, 1]), array([1, 1, 1]), array([1, 1, 1]), array([1, 1, 1]), array([1, 1, 1]), array([1, 1, 1]), array([1, 1, 1]), array([0, 1, 0]), array([0, 1, 0]), array([1, 0, 0]), array([1, 1, 1]), array([1, 0, 0]), array([0, 1, 0]), array([1, 0, 0]), array([0, 1, 0]), array([1, 1, 1]), array([1, 1, 1]), array([1, 1, 1]), array([1, 1, 1]), array([1, 1, 1]), array([1, 1, 1]), array([1, 1, 1]), array([1, 1, 1]), array([1, 1, 1]), array([1, 1, 1]), array([1, 1, 1]), array([1, 1, 1]), array([1, 1, 1]), array([1, 1, 1]), array([1, 1, 1]), array([1, 1, 1]), array([1, 1, 1]), array([1, 1, 1]), array([1, 1, 1]), array([0, 1, 0]), array([0, 1, 0]), array([1, 1, 1]), array([1, 1, 1]), array([1, 1, 1]), array([1, 1, 1]), array([1, 1, 1]), array([1, 1, 1]), array([1, 1, 1]), array([1, 1, 1]), array([1, 1, 1]), array([1, 1, 1]), array([1, 1, 1]), array([1, 1, 1]), array([1, 1, 1]), array([1, 1, 1]), array([1, 1, 1]), array([1, 1, 1]), array([1, 1, 1]), array([1, 1, 1]), array([1, 1, 1]), array([1, 1, 1]), array([1, 1, 1]), array([1, 1, 1]), array([1, 1, 1]), array([1, 1, 1]), array([1, 1, 1]), array([1, 1, 1]), array([1, 1, 1]), array([1, 1, 1]), array([1, 1, 1]), array([1, 1, 1]), array([1, 1, 1]), array([1, 1, 1]), array([1, 1, 1]), array([1, 1, 1]), array([1, 1, 1]), array([1, 1, 1]), array([1, 1, 1]), array([1, 1, 1]), array([1, 1, 1]), array([1, 1, 1]), array([1, 1, 1]), array([1, 1, 1]), array([1, 1, 1]), array([1, 1, 1]), array([1, 1, 1]), array([1, 1, 1]), array([1, 1, 1]), array([1, 1, 1]), array([1, 1, 1]), array([1, 1, 1]), array([1, 1, 1]), array([1, 1, 1]), array([1, 1, 1]), array([1, 1, 1]), array([1, 1, 1]), array([1, 1, 1]), array([1, 1, 1]), array([1, 1, 1]), array([1, 1, 1]), array([1, 1, 1]), array([1, 1, 1]), array([1, 1, 1]), array([1, 1, 1]), array([1, 1, 1]), array([1, 1, 1]), array([1, 0, 0]), array([1, 1, 1]), array([0, 1, 0]), array([0, 1, 0]), array([1, 1, 1]), array([1, 1, 1]), array([1, 1, 1]), array([1, 1, 1]), array([1, 1, 1]), array([1, 0, 0]), array([1, 0, 0]), array([1, 1, 1]), array([1, 1, 1]), array([1, 1, 1]), array([1, 1, 1]), array([1, 1, 1]), array([1, 1, 1]), array([1, 1, 1]), array([1, 0, 0]), array([1, 0, 0]), array([1, 1, 1]), array([1, 1, 1]), array([1, 1, 1]), array([1, 1, 1]), array([1, 1, 1]), array([1, 1, 1]), array([1, 1, 1]), array([1, 1, 1]), array([1, 1, 1]), array([1, 1, 1]), array([1, 1, 1]), array([1, 1, 1]), array([1, 1, 1]), array([1, 1, 1]), array([1, 1, 1]), array([1, 1, 1]), array([1, 1, 1]), array([1, 1, 1]), array([1, 1, 1]), array([1, 1, 1]), array([1, 1, 1]), array([1, 1, 1]), array([1, 1, 1]), array([1, 1, 1]), array([1, 1, 1]), array([0, 1, 0]), array([1, 0, 0]), array([1, 1, 1]), array([1, 0, 0]), array([1, 0, 0]), array([0, 1, 0]), array([1, 0, 0]), array([1, 1, 1]), array([1, 1, 1]), array([1, 1, 1]), array([0, 1, 0]), array([0, 1, 0]), array([1, 1, 1]), array([1, 1, 1]), array([1, 1, 1]), array([1, 1, 1]), array([1, 1, 1]), array([1, 1, 1]), array([1, 1, 1]), array([1, 1, 1]), array([1, 1, 1]), array([1, 1, 1]), array([1, 1, 1]), array([1, 1, 1]), array([1, 1, 1]), array([1, 1, 1]), array([1, 1, 1]), array([1, 1, 1]), array([1, 1, 1]), array([1, 1, 1]), array([1, 1, 1]), array([1, 1, 1]), array([1, 1, 1]), array([1, 1, 1]), array([1, 1, 1]), array([1, 1, 1]), array([1, 1, 1]), array([1, 1, 1]), array([1, 1, 1]), array([1, 1, 1]), array([1, 1, 1]), array([1, 1, 1]), array([0, 1, 0]), array([1, 1, 1]), array([1, 1, 1]), array([1, 1, 1]), array([1, 1, 1]), array([1, 1, 1]), array([1, 1, 1]), array([1, 1, 1]), array([1, 1, 1]), array([1, 1, 1]), array([1, 1, 1]), array([1, 1, 1]), array([1, 1, 1]), array([1, 1, 1]), array([1, 1, 1]), array([1, 1, 1]), array([1, 1, 1]), array([1, 1, 1]), array([1, 1, 1]), array([1, 1, 1]), array([1, 1, 1]), array([1, 1, 1]), array([1, 1, 1]), array([1, 1, 1]), array([1, 1, 1]), array([1, 1, 1]), array([1, 1, 1]), array([1, 1, 1]), array([1, 1, 1]), array([1, 1, 1]), array([1, 1, 1]), array([0, 1, 0]), array([1, 1, 1]), array([1, 1, 1]), array([0, 1, 0]), array([1, 0, 0]), array([1, 0, 0]), array([1, 1, 1]), array([1, 1, 1]), array([1, 1, 1]), array([1, 1, 1]), array([1, 1, 1]), array([1, 1, 1]), array([1, 1, 1]), array([1, 1, 1]), array([1, 1, 1]), array([1, 0, 0]), array([1, 1, 1]), array([1, 1, 1]), array([1, 1, 1]), array([1, 1, 1]), array([1, 1, 1]), array([1, 1, 1]), array([1, 1, 1]), array([1, 1, 1]), array([1, 1, 1]), array([1, 1, 1]), array([1, 1, 1]), array([1, 1, 1]), array([1, 1, 1]), array([1, 1, 1]), array([1, 1, 1]), array([1, 1, 1]), array([1, 1, 1]), array([1, 1, 1]), array([1, 1, 1]), array([1, 1, 1]), array([1, 1, 1]), array([1, 1, 1]), array([1, 1, 1]), array([1, 1, 1]), array([1, 1, 1]), array([1, 1, 1]), array([1, 1, 1]), array([1, 1, 1]), array([1, 1, 1]), array([1, 1, 1]), array([1, 1, 1]), array([1, 1, 1]), array([1, 1, 1]), array([1, 1, 1]), array([0, 1, 0]), array([1, 0, 0]), array([1, 1, 1]), array([1, 1, 1]), array([1, 1, 1]), array([1, 1, 1]), array([1, 1, 1]), array([1, 1, 1]), array([1, 1, 1]), array([1, 1, 1]), array([1, 1, 1]), array([1, 1, 1]), array([1, 1, 1]), array([1, 1, 1]), array([1, 1, 1]), array([0, 1, 0]), array([1, 1, 1]), array([1, 1, 1]), array([1, 1, 1]), array([1, 1, 1]), array([0, 1, 0]), array([1, 1, 1]), array([1, 1, 1]), array([1, 1, 1]), array([1, 1, 1]), array([1, 1, 1]), array([1, 1, 1]), array([1, 1, 1]), array([1, 1, 1]), array([1, 1, 1]), array([1, 1, 1]), array([1, 1, 1]), array([1, 1, 1]), array([1, 1, 1]), array([1, 1, 1]), array([1, 1, 1]), array([1, 1, 1]), array([0, 1, 0]), array([1, 1, 1]), array([1, 1, 1]), array([1, 1, 1]), array([1, 1, 1]), array([1, 1, 1]), array([1, 1, 1]), array([1, 1, 1]), array([1, 1, 1]), array([1, 1, 1]), array([1, 1, 1]), array([0, 1, 0]), array([1, 1, 1]), array([1, 1, 1]), array([1, 0, 0]), array([1, 1, 1]), array([0, 1, 0]), array([1, 1, 1]), array([1, 1, 1]), array([0, 1, 0]), array([1, 1, 1]), array([1, 1, 1]), array([1, 1, 1]), array([1, 1, 1]), array([0, 1, 0]), array([0, 1, 0]), array([0, 1, 0]), array([0, 1, 0]), array([1, 1, 1]), array([1, 1, 1]), array([1, 1, 1]), array([0, 1, 0]), array([1, 1, 1]), array([1, 0, 0]), array([1, 1, 1]), array([1, 1, 1]), array([1, 1, 1]), array([1, 0, 0]), array([1, 0, 0]), array([1, 0, 0]), array([1, 1, 1]), array([1, 1, 1]), array([1, 1, 1]), array([1, 1, 1]), array([1, 1, 1]), array([1, 1, 1]), array([1, 1, 1]), array([1, 1, 1]), array([1, 1, 1]), array([1, 1, 1]), array([1, 1, 1]), array([1, 1, 1]), array([1, 1, 1]), array([1, 1, 1]), array([1, 1, 1]), array([1, 1, 1]), array([1, 1, 1]), array([1, 1, 1]), array([1, 1, 1]), array([1, 1, 1]), array([1, 1, 1]), array([1, 1, 1]), array([1, 1, 1]), array([1, 1, 1]), array([1, 1, 1]), array([1, 1, 1]), array([1, 1, 1]), array([1, 1, 1]), array([1, 1, 1]), array([1, 1, 1]), array([1, 1, 1]), array([1, 1, 1]), array([0, 1, 0]), array([0, 1, 0]), array([0, 1, 0]), array([1, 1, 1]), array([0, 1, 0]), array([0, 1, 0]), array([1, 1, 1]), array([1, 1, 1]), array([0, 1, 0]), array([1, 1, 1]), array([0, 1, 0]), array([1, 1, 1]), array([0, 1, 0]), array([1, 1, 1]), array([1, 1, 1]), array([1, 1, 1]), array([1, 1, 1]), array([1, 1, 1]), array([1, 1, 1]), array([1, 1, 1]), array([1, 1, 1]), array([0, 1, 0]), array([1, 1, 1]), array([0, 1, 0]), array([1, 1, 1]), array([1, 1, 1]), array([0, 1, 0]), array([1, 1, 1]), array([1, 1, 1]), array([0, 1, 0]), array([1, 1, 1]), array([1, 1, 1]), array([1, 1, 1]), array([1, 1, 1]), array([1, 1, 1]), array([1, 1, 1]), array([1, 1, 1]), array([1, 1, 1]), array([1, 1, 1]), array([1, 1, 1]), array([1, 1, 1]), array([1, 1, 1]), array([1, 1, 1]), array([1, 1, 1]), array([1, 1, 1]), array([1, 1, 1]), array([1, 1, 1]), array([1, 1, 1]), array([1, 1, 1]), array([1, 1, 1]), array([1, 1, 1]), array([0, 1, 0]), array([0, 1, 0]), array([0, 1, 0]), array([0, 1, 0]), array([1, 1, 1]), array([1, 1, 1]), array([1, 1, 1]), array([1, 1, 1]), array([1, 1, 1]), array([1, 1, 1]), array([1, 1, 1]), array([1, 1, 1]), array([1, 1, 1]), array([1, 1, 1]), array([1, 1, 1]), array([1, 1, 1]), array([1, 1, 1]), array([0, 1, 0]), array([1, 1, 1]), array([1, 1, 1]), array([1, 1, 1]), array([1, 1, 1]), array([1, 1, 1]), array([1, 1, 1]), array([1, 1, 1]), array([1, 1, 1]), array([1, 1, 1]), array([1, 1, 1]), array([1, 1, 1]), array([1, 1, 1]), array([1, 1, 1]), array([1, 1, 1]), array([1, 1, 1]), array([1, 1, 1]), array([1, 1, 1]), array([1, 1, 1]), array([1, 1, 1]), array([1, 1, 1]), array([1, 1, 1]), array([1, 1, 1]), array([1, 1, 1]), array([1, 1, 1]), array([1, 1, 1]), array([1, 1, 1]), array([1, 1, 1]), array([1, 1, 1]), array([1, 1, 1]), array([1, 1, 1]), array([1, 1, 1]), array([1, 1, 1]), array([1, 1, 1]), array([1, 1, 1]), array([1, 1, 1]), array([1, 1, 1]), array([1, 1, 1]), array([1, 1, 1]), array([1, 1, 1]), array([1, 1, 1]), array([1, 1, 1]), array([1, 1, 1]), array([1, 1, 1]), array([1, 1, 1]), array([1, 1, 1]), array([1, 1, 1]), array([1, 1, 1]), array([1, 1, 1]), array([1, 1, 1]), array([1, 1, 1]), array([1, 1, 1]), array([1, 1, 1]), array([0, 1, 0]), array([1, 0, 0]), array([1, 1, 1]), array([1, 1, 1]), array([1, 1, 1]), array([1, 1, 1]), array([1, 1, 1]), array([1, 1, 1]), array([1, 1, 1]), array([1, 1, 1]), array([1, 1, 1]), array([1, 1, 1]), array([1, 1, 1]), array([1, 1, 1]), array([0, 1, 0]), array([1, 1, 1]), array([0, 1, 0]), array([1, 1, 1]), array([1, 1, 1]), array([1, 1, 1]), array([1, 1, 1]), array([1, 1, 1]), array([1, 1, 1]), array([1, 1, 1]), array([1, 1, 1]), array([0, 1, 0]), array([0, 1, 0]), array([1, 1, 1]), array([1, 1, 1]), array([1, 1, 1]), array([1, 1, 1]), array([1, 1, 1]), array([1, 1, 1]), array([1, 1, 1]), array([1, 1, 1]), array([1, 1, 1]), array([1, 1, 1]), array([1, 1, 1]), array([1, 1, 1]), array([1, 1, 1]), array([1, 1, 1]), array([1, 1, 1]), array([1, 1, 1]), array([1, 1, 1]), array([1, 1, 1]), array([1, 1, 1]), array([1, 1, 1]), array([1, 1, 1]), array([1, 1, 1]), array([0, 1, 0]), array([0, 1, 0]), array([1, 0, 0]), array([1, 0, 0]), array([0, 1, 0]), array([1, 1, 1]), array([0, 1, 0]), array([1, 1, 1]), array([1, 1, 1]), array([1, 1, 1]), array([1, 1, 1]), array([1, 1, 1]), array([1, 1, 1]), array([1, 1, 1]), array([1, 1, 1]), array([1, 1, 1]), array([1, 1, 1]), array([1, 1, 1]), array([1, 1, 1]), array([0, 1, 0]), array([0, 1, 0]), array([1, 1, 1]), array([0, 1, 0]), array([1, 1, 1]), array([1, 1, 1]), array([1, 0, 0]), array([1, 1, 1]), array([1, 1, 1]), array([1, 1, 1]), array([1, 0, 0]), array([1, 1, 1]), array([1, 1, 1]), array([1, 1, 1]), array([1, 1, 1]), array([1, 1, 1]), array([1, 1, 1]), array([1, 1, 1]), array([1, 1, 1]), array([1, 1, 1]), array([1, 1, 1]), array([1, 1, 1]), array([1, 1, 1]), array([1, 1, 1]), array([1, 1, 1]), array([1, 1, 1]), array([1, 1, 1]), array([0, 1, 0]), array([1, 1, 1]), array([1, 1, 1]), array([1, 1, 1]), array([1, 1, 1]), array([1, 1, 1]), array([1, 1, 1]), array([1, 1, 1]), array([1, 0, 0]), array([0, 1, 0]), array([1, 1, 1]), array([1, 1, 1]), array([1, 1, 1]), array([1, 1, 1]), array([1, 1, 1]), array([1, 1, 1]), array([1, 0, 0]), array([1, 1, 1]), array([1, 1, 1]), array([1, 1, 1]), array([1, 1, 1]), array([1, 1, 1]), array([1, 1, 1]), array([1, 1, 1]), array([1, 1, 1]), array([1, 1, 1]), array([1, 1, 1]), array([1, 1, 1]), array([0, 1, 0]), array([1, 0, 0]), array([1, 1, 1]), array([1, 1, 1]), array([1, 1, 1]), array([1, 1, 1]), array([1, 1, 1]), array([1, 1, 1]), array([1, 1, 1]), array([1, 1, 1]), array([1, 1, 1]), array([1, 1, 1]), array([1, 1, 1]), array([1, 1, 1]), array([1, 1, 1]), array([1, 1, 1]), array([1, 1, 1]), array([1, 1, 1]), array([1, 1, 1]), array([1, 1, 1]), array([1, 1, 1]), array([1, 1, 1]), array([1, 1, 1]), array([1, 1, 1]), array([1, 0, 0]), array([1, 1, 1]), array([1, 0, 0]), array([1, 0, 0]), array([1, 1, 1]), array([1, 1, 1]), array([1, 1, 1]), array([1, 1, 1]), array([1, 0, 0]), array([1, 0, 0]), array([1, 1, 1]), array([1, 1, 1]), array([1, 1, 1]), array([1, 1, 1]), array([1, 1, 1]), array([1, 1, 1]), array([1, 1, 1]), array([1, 1, 1]), array([1, 1, 1]), array([1, 1, 1]), array([1, 1, 1]), array([1, 1, 1]), array([1, 1, 1]), array([0, 1, 0]), array([0, 1, 0]), array([1, 1, 1]), array([0, 1, 0]), array([1, 1, 1]), array([1, 0, 0]), array([1, 1, 1]), array([1, 1, 1]), array([1, 1, 1]), array([1, 1, 1]), array([1, 1, 1]), array([1, 1, 1]), array([1, 1, 1]), array([1, 1, 1]), array([1, 1, 1]), array([1, 1, 1]), array([1, 0, 0]), array([0, 1, 0]), array([1, 1, 1]), array([1, 1, 1]), array([1, 1, 1]), array([1, 1, 1]), array([1, 1, 1]), array([1, 1, 1]), array([1, 1, 1]), array([1, 1, 1]), array([1, 1, 1]), array([1, 1, 1]), array([1, 1, 1]), array([1, 1, 1]), array([1, 1, 1]), array([1, 0, 0]), array([1, 1, 1]), array([1, 0, 0]), array([1, 1, 1]), array([1, 1, 1]), array([1, 1, 1]), array([1, 1, 1]), array([1, 1, 1]), array([1, 1, 1]), array([1, 1, 1]), array([1, 1, 1]), array([1, 1, 1]), array([1, 1, 1]), array([1, 1, 1]), array([1, 1, 1]), array([1, 1, 1]), array([1, 1, 1]), array([1, 1, 1]), array([0, 1, 0]), array([1, 1, 1]), array([1, 1, 1]), array([0, 1, 0]), array([1, 1, 1]), array([1, 1, 1]), array([1, 1, 1]), array([1, 1, 1]), array([1, 1, 1]), array([0, 1, 0]), array([0, 1, 0]), array([1, 1, 1]), array([1, 1, 1]), array([1, 1, 1]), array([1, 1, 1]), array([1, 1, 1]), array([1, 1, 1]), array([1, 1, 1]), array([1, 1, 1]), array([1, 1, 1]), array([1, 1, 1]), array([1, 1, 1]), array([1, 1, 1]), array([1, 1, 1]), array([1, 1, 1]), array([1, 1, 1]), array([1, 1, 1]), array([1, 1, 1]), array([1, 1, 1]), array([1, 1, 1]), array([1, 1, 1]), array([1, 1, 1]), array([1, 1, 1]), array([1, 1, 1]), array([1, 1, 1]), array([1, 1, 1]), array([1, 1, 1]), array([1, 1, 1]), array([1, 1, 1]), array([1, 1, 1]), array([1, 1, 1]), array([1, 1, 1]), array([1, 1, 1]), array([1, 0, 0]), array([0, 1, 0]), array([1, 0, 0]), array([1, 1, 1]), array([1, 1, 1]), array([1, 1, 1]), array([1, 1, 1]), array([1, 1, 1]), array([1, 1, 1]), array([1, 0, 0]), array([1, 0, 0]), array([1, 1, 1]), array([0, 1, 0]), array([0, 1, 0]), array([1, 1, 1]), array([1, 1, 1]), array([0, 1, 0]), array([1, 0, 0]), array([1, 1, 1]), array([1, 1, 1]), array([1, 1, 1]), array([1, 1, 1]), array([1, 1, 1]), array([1, 1, 1]), array([1, 1, 1]), array([1, 1, 1]), array([1, 1, 1]), array([0, 1, 0]), array([1, 1, 1]), array([1, 1, 1]), array([1, 1, 1]), array([1, 1, 1]), array([1, 1, 1]), array([1, 1, 1]), array([1, 0, 0]), array([1, 1, 1]), array([1, 1, 1]), array([1, 1, 1]), array([1, 1, 1]), array([1, 1, 1]), array([1, 1, 1]), array([1, 1, 1]), array([1, 1, 1]), array([1, 1, 1]), array([1, 1, 1]), array([1, 1, 1]), array([1, 1, 1]), array([1, 1, 1]), array([1, 1, 1]), array([1, 1, 1]), array([1, 1, 1]), array([1, 1, 1]), array([1, 1, 1]), array([0, 1, 0]), array([1, 1, 1]), array([0, 1, 0]), array([1, 1, 1]), array([1, 1, 1]), array([1, 1, 1]), array([1, 1, 1]), array([1, 1, 1]), array([1, 1, 1]), array([1, 1, 1]), array([1, 1, 1]), array([1, 1, 1]), array([1, 1, 1]), array([1, 1, 1]), array([1, 1, 1]), array([1, 1, 1]), array([1, 1, 1]), array([1, 0, 0]), array([1, 1, 1]), array([1, 1, 1]), array([1, 0, 0]), array([1, 1, 1]), array([1, 1, 1]), array([1, 1, 1]), array([1, 1, 1]), array([1, 1, 1]), array([0, 1, 0]), array([1, 1, 1]), array([1, 1, 1]), array([1, 1, 1]), array([1, 1, 1]), array([1, 1, 1]), array([1, 1, 1]), array([0, 1, 0]), array([1, 1, 1]), array([1, 1, 1]), array([1, 1, 1]), array([1, 1, 1]), array([1, 1, 1]), array([1, 1, 1]), array([1, 1, 1]), array([1, 0, 0]), array([1, 1, 1]), array([1, 1, 1]), array([1, 1, 1]), array([1, 1, 1]), array([1, 1, 1]), array([1, 1, 1]), array([1, 1, 1]), array([1, 1, 1]), array([1, 1, 1]), array([1, 1, 1]), array([1, 1, 1]), array([1, 1, 1]), array([1, 1, 1]), array([1, 1, 1]), array([1, 1, 1]), array([1, 1, 1]), array([1, 1, 1]), array([1, 1, 1]), array([1, 1, 1]), array([1, 1, 1]), array([1, 0, 0]), array([0, 1, 0]), array([1, 1, 1]), array([1, 1, 1]), array([1, 1, 1]), array([1, 1, 1]), array([1, 1, 1]), array([1, 1, 1]), array([0, 1, 0]), array([1, 1, 1]), array([1, 1, 1]), array([1, 1, 1]), array([1, 1, 1]), array([1, 1, 1]), array([1, 1, 1]), array([1, 0, 0]), array([1, 1, 1]), array([1, 0, 0]), array([1, 1, 1]), array([1, 1, 1]), array([1, 1, 1]), array([1, 1, 1]), array([1, 1, 1]), array([1, 1, 1]), array([1, 1, 1]), array([1, 0, 0]), array([1, 1, 1]), array([1, 1, 1]), array([0, 1, 0]), array([1, 1, 1]), array([1, 1, 1]), array([1, 0, 0]), array([1, 1, 1]), array([0, 1, 0]), array([1, 1, 1]), array([1, 1, 1]), array([1, 1, 1]), array([1, 1, 1]), array([1, 1, 1]), array([1, 1, 1]), array([1, 1, 1]), array([1, 1, 1]), array([1, 1, 1]), array([1, 1, 1]), array([1, 0, 0]), array([1, 1, 1]), array([1, 1, 1]), array([0, 1, 0]), array([1, 1, 1]), array([1, 1, 1]), array([1, 1, 1]), array([1, 1, 1]), array([1, 0, 0]), array([1, 1, 1]), array([1, 1, 1]), array([1, 1, 1]), array([0, 1, 0]), array([1, 1, 1]), array([1, 1, 1]), array([1, 1, 1]), array([1, 1, 1]), array([1, 1, 1]), array([1, 1, 1]), array([1, 1, 1]), array([1, 1, 1]), array([1, 1, 1]), array([1, 1, 1]), array([0, 1, 0]), array([1, 1, 1]), array([1, 1, 1]), array([1, 1, 1]), array([1, 1, 1]), array([1, 1, 1]), array([1, 1, 1]), array([1, 1, 1]), array([1, 1, 1]), array([1, 0, 0]), array([1, 0, 0]), array([0, 1, 0]), array([1, 1, 1]), array([1, 1, 1]), array([1, 1, 1]), array([1, 1, 1]), array([1, 1, 1]), array([1, 0, 0]), array([0, 1, 0]), array([1, 1, 1]), array([0, 1, 0]), array([1, 0, 0]), array([1, 0, 0]), array([0, 1, 0]), array([1, 0, 0]), array([0, 1, 0]), array([1, 0, 0]), array([0, 1, 0]), array([0, 1, 0]), array([1, 1, 1]), array([1, 1, 1]), array([1, 1, 1]), array([1, 1, 1]), array([1, 1, 1]), array([1, 1, 1]), array([1, 1, 1]), array([1, 1, 1]), array([1, 1, 1]), array([1, 1, 1]), array([1, 1, 1]), array([1, 1, 1]), array([1, 1, 1]), array([1, 1, 1]), array([1, 1, 1]), array([1, 1, 1]), array([1, 1, 1]), array([1, 1, 1]), array([1, 1, 1]), array([1, 1, 1]), array([1, 1, 1]), array([1, 1, 1]), array([1, 1, 1]), array([1, 1, 1]), array([1, 1, 1]), array([1, 1, 1]), array([1, 1, 1]), array([1, 1, 1]), array([1, 1, 1]), array([1, 1, 1]), array([1, 1, 1]), array([1, 1, 1]), array([1, 1, 1]), array([1, 1, 1]), array([1, 1, 1]), array([1, 1, 1]), array([1, 1, 1]), array([1, 1, 1]), array([1, 1, 1]), array([1, 1, 1]), array([1, 1, 1]), array([1, 1, 1]), array([1, 1, 1]), array([1, 1, 1]), array([1, 1, 1]), array([1, 1, 1]), array([1, 1, 1]), array([1, 1, 1]), array([1, 1, 1]), array([0, 1, 0]), array([1, 1, 1]), array([1, 1, 1]), array([1, 1, 1]), array([0, 1, 0]), array([0, 1, 0]), array([1, 1, 1]), array([0, 1, 0]), array([1, 0, 0]), array([1, 1, 1]), array([1, 1, 1]), array([1, 1, 1]), array([1, 1, 1]), array([1, 1, 1]), array([1, 1, 1]), array([1, 1, 1]), array([1, 1, 1]), array([1, 1, 1]), array([1, 1, 1]), array([1, 1, 1]), array([1, 1, 1]), array([1, 1, 1]), array([1, 1, 1]), array([1, 1, 1]), array([1, 1, 1]), array([1, 1, 1]), array([1, 1, 1]), array([1, 1, 1]), array([1, 1, 1]), array([1, 1, 1]), array([1, 1, 1]), array([1, 1, 1]), array([1, 1, 1]), array([1, 1, 1]), array([1, 1, 1]), array([1, 1, 1]), array([1, 1, 1]), array([1, 1, 1]), array([1, 1, 1]), array([1, 1, 1]), array([0, 1, 0]), array([1, 0, 0]), array([1, 1, 1]), array([1, 1, 1]), array([1, 1, 1]), array([1, 1, 1]), array([1, 1, 1]), array([1, 1, 1]), array([1, 1, 1]), array([1, 1, 1]), array([1, 1, 1]), array([1, 1, 1]), array([1, 1, 1]), array([1, 1, 1]), array([1, 1, 1]), array([1, 1, 1]), array([1, 1, 1]), array([1, 1, 1]), array([1, 1, 1]), array([0, 1, 0]), array([1, 1, 1]), array([1, 1, 1]), array([1, 1, 1]), array([1, 1, 1]), array([1, 1, 1]), array([1, 1, 1]), array([1, 1, 1]), array([1, 1, 1]), array([1, 1, 1]), array([1, 1, 1]), array([1, 0, 0]), array([1, 1, 1]), array([1, 1, 1]), array([1, 1, 1]), array([1, 1, 1]), array([1, 1, 1]), array([1, 1, 1]), array([1, 1, 1]), array([1, 1, 1]), array([1, 1, 1]), array([1, 1, 1]), array([1, 1, 1]), array([1, 1, 1]), array([1, 1, 1]), array([1, 1, 1]), array([1, 1, 1]), array([1, 1, 1]), array([1, 1, 1]), array([1, 1, 1]), array([1, 1, 1]), array([1, 1, 1]), array([1, 1, 1]), array([1, 1, 1]), array([1, 1, 1]), array([1, 1, 1]), array([1, 1, 1]), array([1, 1, 1]), array([1, 1, 1]), array([1, 1, 1]), array([1, 1, 1]), array([1, 1, 1]), array([1, 1, 1]), array([1, 1, 1]), array([1, 1, 1]), array([1, 1, 1]), array([1, 1, 1]), array([1, 1, 1]), array([1, 1, 1]), array([1, 1, 1]), array([1, 1, 1]), array([1, 1, 1]), array([1, 1, 1]), array([1, 1, 1]), array([1, 1, 1]), array([1, 1, 1]), array([1, 1, 1]), array([1, 1, 1]), array([1, 1, 1]), array([1, 1, 1]), array([1, 1, 1]), array([0, 1, 0]), array([1, 1, 1]), array([1, 0, 0]), array([1, 1, 1]), array([1, 1, 1]), array([0, 1, 0]), array([0, 1, 0]), array([1, 1, 1]), array([1, 1, 1]), array([1, 1, 1]), array([0, 1, 0]), array([1, 1, 1]), array([1, 1, 1]), array([1, 0, 0]), array([1, 1, 1]), array([1, 0, 0]), array([1, 1, 1]), array([1, 1, 1]), array([1, 1, 1]), array([1, 1, 1]), array([1, 0, 0]), array([0, 1, 0]), array([0, 1, 0]), array([1, 1, 1]), array([1, 1, 1]), array([1, 1, 1]), array([1, 0, 0]), array([1, 1, 1]), array([1, 1, 1]), array([1, 1, 1]), array([1, 1, 1]), array([1, 1, 1]), array([1, 1, 1]), array([1, 0, 0]), array([0, 1, 0]), array([1, 1, 1]), array([1, 0, 0]), array([1, 1, 1]), array([1, 1, 1]), array([1, 1, 1]), array([1, 1, 1]), array([1, 1, 1]), array([1, 1, 1]), array([1, 1, 1]), array([1, 1, 1]), array([1, 1, 1]), array([1, 1, 1]), array([1, 1, 1]), array([1, 1, 1]), array([1, 1, 1]), array([1, 1, 1]), array([1, 1, 1]), array([1, 1, 1]), array([1, 1, 1]), array([1, 1, 1]), array([1, 1, 1]), array([1, 1, 1]), array([1, 1, 1]), array([1, 1, 1]), array([1, 0, 0]), array([1, 0, 0]), array([1, 1, 1]), array([1, 1, 1]), array([1, 1, 1]), array([1, 1, 1]), array([1, 1, 1]), array([1, 1, 1]), array([1, 1, 1]), array([1, 1, 1]), array([1, 1, 1]), array([1, 1, 1]), array([1, 1, 1]), array([1, 1, 1]), array([1, 1, 1]), array([1, 1, 1]), array([1, 1, 1]), array([1, 1, 1]), array([1, 1, 1]), array([1, 0, 0]), array([1, 1, 1]), array([1, 1, 1]), array([1, 1, 1]), array([1, 1, 1]), array([1, 1, 1]), array([1, 1, 1]), array([1, 1, 1]), array([1, 1, 1]), array([1, 1, 1]), array([1, 1, 1]), array([1, 1, 1]), array([1, 1, 1]), array([1, 1, 1]), array([1, 1, 1]), array([1, 1, 1]), array([1, 1, 1]), array([1, 1, 1]), array([1, 1, 1]), array([1, 1, 1]), array([1, 1, 1]), array([1, 1, 1]), array([1, 1, 1]), array([1, 0, 0]), array([1, 1, 1]), array([1, 1, 1]), array([1, 1, 1]), array([1, 1, 1]), array([1, 1, 1]), array([1, 1, 1]), array([1, 1, 1]), array([1, 1, 1]), array([1, 1, 1]), array([1, 1, 1]), array([1, 1, 1]), array([1, 1, 1]), array([1, 1, 1]), array([1, 1, 1]), array([1, 1, 1]), array([1, 1, 1]), array([1, 1, 1]), array([1, 1, 1]), array([1, 1, 1]), array([1, 1, 1]), array([1, 1, 1]), array([1, 1, 1]), array([0, 1, 0]), array([1, 1, 1]), array([1, 1, 1]), array([1, 1, 1]), array([1, 1, 1]), array([1, 1, 1]), array([1, 1, 1]), array([1, 1, 1]), array([1, 1, 1]), array([1, 1, 1]), array([1, 1, 1]), array([0, 1, 0]), array([1, 1, 1]), array([1, 1, 1]), array([1, 1, 1]), array([1, 0, 0]), array([1, 1, 1]), array([1, 0, 0]), array([1, 1, 1]), array([1, 1, 1]), array([0, 1, 0]), array([1, 1, 1]), array([1, 1, 1]), array([1, 1, 1]), array([1, 1, 1]), array([1, 1, 1]), array([1, 1, 1]), array([1, 1, 1]), array([1, 1, 1]), array([0, 1, 0]), array([1, 1, 1]), array([1, 1, 1]), array([1, 1, 1]), array([0, 1, 0]), array([0, 1, 0]), array([1, 1, 1]), array([1, 0, 0]), array([1, 1, 1]), array([1, 1, 1]), array([1, 1, 1]), array([1, 1, 1]), array([1, 1, 1]), array([1, 1, 1]), array([1, 1, 1]), array([1, 1, 1]), array([1, 1, 1]), array([1, 1, 1]), array([1, 1, 1]), array([1, 1, 1]), array([1, 1, 1]), array([1, 1, 1]), array([1, 1, 1]), array([1, 1, 1]), array([1, 1, 1]), array([1, 1, 1]), array([1, 1, 1]), array([1, 1, 1]), array([1, 1, 1]), array([1, 1, 1]), array([1, 1, 1]), array([1, 1, 1]), array([1, 1, 1]), array([1, 1, 1]), array([1, 1, 1]), array([1, 1, 1]), array([1, 0, 0]), array([1, 0, 0]), array([1, 1, 1]), array([0, 1, 0]), array([1, 0, 0]), array([1, 0, 0]), array([1, 1, 1]), array([1, 1, 1]), array([1, 1, 1]), array([1, 1, 1]), array([0, 1, 0]), array([1, 1, 1]), array([1, 1, 1]), array([0, 1, 0]), array([0, 1, 0]), array([1, 1, 1]), array([1, 0, 0]), array([1, 1, 1]), array([1, 1, 1]), array([1, 1, 1]), array([1, 1, 1]), array([1, 1, 1]), array([1, 1, 1]), array([1, 1, 1]), array([1, 1, 1]), array([1, 1, 1]), array([1, 1, 1]), array([1, 0, 0]), array([1, 1, 1]), array([0, 1, 0]), array([0, 1, 0]), array([0, 1, 0]), array([0, 1, 0]), array([0, 1, 0]), array([1, 1, 1]), array([1, 1, 1]), array([0, 1, 0]), array([0, 1, 0]), array([0, 1, 0]), array([0, 1, 0]), array([1, 1, 1]), array([1, 1, 1]), array([1, 0, 0]), array([1, 1, 1]), array([1, 1, 1]), array([1, 1, 1]), array([1, 0, 0]), array([1, 1, 1]), array([1, 1, 1]), array([1, 1, 1]), array([1, 1, 1]), array([1, 1, 1]), array([1, 1, 1]), array([0, 1, 0]), array([1, 1, 1]), array([1, 1, 1]), array([1, 1, 1]), array([1, 0, 0]), array([1, 0, 0]), array([1, 0, 0]), array([0, 1, 0]), array([1, 1, 1]), array([1, 0, 0]), array([1, 1, 1]), array([1, 0, 0]), array([1, 1, 1]), array([1, 1, 1]), array([1, 1, 1]), array([1, 1, 1]), array([1, 1, 1]), array([1, 1, 1]), array([1, 1, 1]), array([1, 1, 1]), array([1, 0, 0]), array([1, 1, 1]), array([1, 1, 1]), array([1, 0, 0]), array([0, 1, 0]), array([1, 0, 0]), array([0, 1, 0]), array([1, 1, 1]), array([1, 1, 1]), array([1, 1, 1]), array([1, 1, 1]), array([1, 1, 1]), array([1, 1, 1]), array([1, 1, 1]), array([1, 1, 1]), array([1, 1, 1]), array([1, 1, 1]), array([1, 1, 1]), array([1, 1, 1]), array([1, 1, 1]), array([0, 1, 0]), array([1, 1, 1]), array([1, 1, 1]), array([1, 1, 1]), array([1, 1, 1]), array([1, 1, 1]), array([1, 1, 1]), array([1, 1, 1]), array([1, 1, 1]), array([1, 1, 1]), array([1, 1, 1]), array([1, 0, 0]), array([1, 1, 1]), array([1, 1, 1]), array([1, 1, 1]), array([1, 1, 1]), array([1, 1, 1]), array([1, 1, 1]), array([1, 1, 1]), array([1, 1, 1]), array([1, 1, 1]), array([1, 1, 1]), array([1, 1, 1]), array([1, 1, 1]), array([1, 1, 1]), array([1, 1, 1]), array([1, 0, 0]), array([1, 1, 1]), array([1, 0, 0]), array([0, 1, 0]), array([1, 1, 1]), array([1, 1, 1]), array([1, 1, 1]), array([1, 1, 1]), array([1, 1, 1]), array([1, 1, 1]), array([1, 1, 1]), array([1, 1, 1]), array([1, 1, 1]), array([1, 1, 1]), array([1, 1, 1]), array([1, 1, 1]), array([1, 1, 1]), array([1, 1, 1]), array([1, 1, 1]), array([1, 1, 1]), array([1, 1, 1]), array([1, 1, 1]), array([1, 1, 1]), array([1, 1, 1]), array([1, 1, 1]), array([0, 1, 0]), array([1, 0, 0]), array([1, 0, 0]), array([1, 0, 0]), array([1, 0, 0]), array([1, 1, 1]), array([1, 1, 1]), array([1, 1, 1]), array([1, 1, 1]), array([1, 1, 1]), array([1, 1, 1]), array([1, 1, 1]), array([0, 1, 0]), array([1, 0, 0]), array([0, 1, 0]), array([1, 1, 1]), array([1, 0, 0]), array([1, 1, 1]), array([1, 1, 1]), array([1, 1, 1]), array([1, 1, 1]), array([1, 1, 1]), array([1, 1, 1]), array([1, 1, 1]), array([1, 1, 1]), array([1, 1, 1]), array([1, 0, 0]), array([1, 1, 1]), array([0, 1, 0]), array([1, 1, 1]), array([1, 1, 1]), array([1, 1, 1]), array([1, 1, 1]), array([1, 1, 1]), array([1, 0, 0]), array([1, 0, 0]), array([1, 1, 1]), array([0, 1, 0]), array([1, 1, 1]), array([1, 1, 1]), array([1, 1, 1]), array([1, 1, 1]), array([1, 1, 1]), array([1, 1, 1]), array([1, 1, 1]), array([1, 1, 1]), array([1, 1, 1]), array([1, 1, 1]), array([1, 1, 1]), array([1, 1, 1]), array([1, 1, 1]), array([1, 1, 1]), array([1, 1, 1]), array([1, 1, 1]), array([1, 1, 1]), array([1, 1, 1]), array([0, 1, 0]), array([0, 1, 0]), array([1, 1, 1]), array([1, 1, 1]), array([1, 0, 0]), array([1, 1, 1]), array([1, 1, 1]), array([1, 1, 1]), array([1, 1, 1]), array([1, 1, 1]), array([1, 1, 1]), array([1, 0, 0]), array([1, 1, 1]), array([1, 1, 1]), array([1, 1, 1]), array([1, 1, 1]), array([1, 1, 1]), array([1, 0, 0]), array([1, 1, 1]), array([1, 1, 1]), array([1, 0, 0]), array([1, 1, 1]), array([1, 1, 1]), array([1, 1, 1]), array([1, 1, 1]), array([1, 1, 1]), array([1, 1, 1]), array([0, 1, 0]), array([1, 1, 1]), array([1, 1, 1]), array([1, 1, 1]), array([1, 1, 1]), array([1, 1, 1]), array([1, 1, 1]), array([1, 1, 1]), array([1, 1, 1]), array([1, 1, 1]), array([1, 1, 1]), array([1, 1, 1]), array([1, 1, 1]), array([1, 1, 1]), array([1, 1, 1]), array([1, 1, 1]), array([1, 1, 1]), array([1, 1, 1]), array([1, 1, 1]), array([1, 1, 1]), array([1, 1, 1]), array([1, 1, 1]), array([1, 1, 1]), array([1, 1, 1]), array([1, 1, 1]), array([1, 1, 1]), array([1, 1, 1]), array([1, 1, 1]), array([0, 1, 0]), array([1, 1, 1]), array([1, 1, 1]), array([1, 1, 1]), array([1, 1, 1]), array([0, 1, 0]), array([1, 0, 0]), array([1, 1, 1]), array([1, 1, 1]), array([1, 0, 0]), array([1, 1, 1]), array([0, 1, 0]), array([0, 1, 0]), array([1, 1, 1]), array([1, 1, 1]), array([1, 1, 1]), array([1, 1, 1]), array([1, 1, 1]), array([1, 1, 1]), array([1, 1, 1]), array([1, 1, 1]), array([1, 1, 1]), array([1, 1, 1]), array([1, 1, 1]), array([1, 1, 1]), array([1, 1, 1]), array([1, 1, 1]), array([0, 1, 0]), array([1, 1, 1]), array([1, 1, 1]), array([1, 1, 1]), array([1, 1, 1]), array([1, 1, 1]), array([1, 1, 1]), array([1, 1, 1]), array([1, 1, 1]), array([1, 1, 1]), array([1, 1, 1]), array([1, 1, 1]), array([1, 1, 1]), array([1, 1, 1]), array([1, 1, 1]), array([1, 1, 1]), array([1, 1, 1]), array([1, 1, 1]), array([1, 1, 1]), array([1, 1, 1]), array([1, 1, 1]), array([1, 1, 1]), array([1, 1, 1]), array([1, 1, 1]), array([0, 1, 0]), array([0, 1, 0]), array([0, 1, 0]), array([1, 1, 1]), array([1, 1, 1]), array([1, 1, 1]), array([1, 1, 1]), array([1, 1, 1]), array([1, 1, 1]), array([1, 1, 1]), array([1, 1, 1]), array([1, 1, 1]), array([1, 1, 1]), array([1, 1, 1]), array([1, 1, 1]), array([1, 1, 1]), array([1, 1, 1]), array([0, 1, 0]), array([1, 1, 1]), array([1, 1, 1]), array([1, 1, 1]), array([1, 1, 1]), array([1, 1, 1]), array([1, 0, 0]), array([1, 1, 1]), array([1, 1, 1]), array([1, 1, 1]), array([1, 1, 1]), array([0, 1, 0]), array([1, 1, 1]), array([1, 1, 1]), array([1, 1, 1]), array([0, 1, 0]), array([1, 1, 1]), array([1, 1, 1]), array([1, 1, 1]), array([1, 1, 1]), array([1, 1, 1]), array([1, 1, 1]), array([1, 1, 1]), array([1, 1, 1]), array([1, 1, 1]), array([1, 1, 1]), array([1, 1, 1]), array([1, 1, 1]), array([0, 1, 0]), array([1, 1, 1]), array([0, 1, 0]), array([1, 1, 1]), array([0, 1, 0]), array([0, 1, 0]), array([1, 1, 1]), array([1, 1, 1]), array([1, 1, 1]), array([1, 1, 1]), array([1, 1, 1]), array([1, 1, 1]), array([1, 1, 1]), array([1, 1, 1]), array([1, 1, 1]), array([1, 1, 1]), array([1, 1, 1]), array([1, 1, 1]), array([1, 1, 1]), array([1, 1, 1]), array([1, 1, 1]), array([1, 1, 1]), array([1, 1, 1]), array([1, 1, 1]), array([1, 0, 0]), array([1, 1, 1]), array([1, 1, 1]), array([0, 1, 0]), array([1, 0, 0]), array([1, 1, 1]), array([1, 1, 1]), array([1, 1, 1]), array([1, 1, 1]), array([1, 1, 1]), array([1, 1, 1]), array([1, 1, 1]), array([1, 1, 1]), array([1, 1, 1]), array([1, 1, 1]), array([1, 1, 1]), array([1, 1, 1]), array([0, 1, 0]), array([1, 1, 1]), array([1, 1, 1]), array([1, 1, 1]), array([1, 1, 1]), array([1, 1, 1]), array([1, 1, 1]), array([1, 1, 1]), array([1, 1, 1]), array([1, 1, 1]), array([1, 1, 1]), array([1, 1, 1]), array([1, 1, 1]), array([1, 1, 1]), array([1, 1, 1]), array([1, 1, 1]), array([1, 1, 1]), array([1, 1, 1]), array([1, 1, 1]), array([1, 1, 1]), array([1, 1, 1]), array([1, 1, 1]), array([1, 1, 1]), array([1, 1, 1]), array([1, 1, 1]), array([1, 1, 1]), array([1, 1, 1]), array([1, 1, 1]), array([1, 1, 1]), array([1, 1, 1]), array([1, 1, 1]), array([1, 1, 1]), array([1, 1, 1]), array([1, 1, 1]), array([0, 1, 0]), array([1, 1, 1]), array([1, 1, 1]), array([1, 1, 1]), array([1, 1, 1]), array([1, 1, 1]), array([0, 1, 0]), array([1, 1, 1]), array([1, 1, 1]), array([1, 1, 1]), array([1, 1, 1]), array([1, 1, 1]), array([1, 1, 1]), array([1, 1, 1]), array([1, 1, 1]), array([1, 1, 1]), array([1, 1, 1]), array([1, 1, 1]), array([1, 1, 1]), array([1, 1, 1]), array([1, 1, 1]), array([1, 1, 1]), array([1, 1, 1]), array([0, 1, 0]), array([0, 1, 0]), array([1, 1, 1]), array([1, 1, 1]), array([0, 1, 0]), array([1, 1, 1]), array([1, 1, 1]), array([1, 1, 1]), array([1, 1, 1]), array([1, 1, 1]), array([1, 1, 1]), array([1, 1, 1]), array([0, 1, 0]), array([0, 1, 0]), array([1, 1, 1]), array([1, 1, 1]), array([1, 1, 1]), array([1, 1, 1]), array([1, 1, 1]), array([1, 0, 0]), array([1, 1, 1]), array([1, 1, 1]), array([0, 1, 0]), array([1, 1, 1]), array([1, 1, 1]), array([0, 1, 0]), array([1, 1, 1]), array([0, 1, 0]), array([0, 1, 0]), array([1, 1, 1]), array([1, 1, 1]), array([0, 1, 0]), array([1, 1, 1]), array([1, 1, 1]), array([1, 1, 1]), array([1, 0, 0]), array([1, 1, 1]), array([1, 1, 1]), array([1, 1, 1]), array([1, 1, 1]), array([1, 1, 1]), array([1, 1, 1]), array([1, 1, 1]), array([1, 1, 1]), array([1, 1, 1]), array([1, 1, 1]), array([1, 1, 1]), array([1, 1, 1]), array([1, 1, 1]), array([1, 1, 1]), array([1, 1, 1]), array([1, 1, 1]), array([1, 1, 1]), array([1, 1, 1]), array([1, 1, 1]), array([0, 1, 0]), array([1, 1, 1]), array([1, 1, 1]), array([0, 1, 0]), array([1, 1, 1]), array([1, 1, 1]), array([1, 1, 1]), array([1, 1, 1]), array([1, 1, 1]), array([0, 1, 0]), array([1, 1, 1]), array([1, 0, 0]), array([1, 0, 0]), array([1, 1, 1]), array([1, 1, 1]), array([1, 1, 1]), array([1, 1, 1]), array([1, 0, 0]), array([1, 0, 0]), array([1, 0, 0]), array([1, 1, 1]), array([1, 1, 1]), array([1, 1, 1]), array([1, 1, 1]), array([1, 1, 1]), array([1, 1, 1]), array([1, 1, 1]), array([1, 1, 1]), array([1, 1, 1]), array([1, 1, 1]), array([1, 1, 1]), array([1, 1, 1]), array([1, 0, 0]), array([1, 0, 0]), array([1, 0, 0]), array([1, 1, 1]), array([1, 1, 1]), array([1, 1, 1]), array([1, 1, 1]), array([1, 1, 1]), array([1, 1, 1]), array([1, 1, 1]), array([1, 1, 1]), array([0, 1, 0]), array([1, 1, 1]), array([1, 1, 1]), array([1, 1, 1]), array([1, 1, 1]), array([1, 1, 1]), array([1, 1, 1]), array([1, 1, 1]), array([1, 1, 1]), array([1, 1, 1]), array([1, 1, 1]), array([1, 1, 1]), array([1, 0, 0]), array([1, 1, 1]), array([0, 1, 0]), array([0, 1, 0]), array([1, 1, 1]), array([1, 1, 1]), array([1, 1, 1]), array([1, 1, 1]), array([1, 1, 1]), array([1, 1, 1]), array([1, 1, 1]), array([1, 1, 1]), array([1, 1, 1]), array([1, 1, 1]), array([1, 1, 1]), array([1, 1, 1]), array([1, 1, 1]), array([1, 1, 1]), array([1, 1, 1]), array([1, 1, 1]), array([1, 0, 0]), array([1, 0, 0]), array([1, 1, 1]), array([1, 1, 1]), array([1, 1, 1]), array([0, 1, 0]), array([1, 1, 1]), array([1, 1, 1]), array([1, 1, 1]), array([1, 1, 1]), array([1, 1, 1]), array([1, 1, 1]), array([1, 1, 1]), array([1, 1, 1]), array([1, 1, 1]), array([1, 1, 1]), array([1, 1, 1]), array([1, 1, 1]), array([1, 1, 1]), array([1, 1, 1]), array([1, 1, 1]), array([1, 1, 1]), array([1, 1, 1]), array([1, 1, 1]), array([1, 1, 1]), array([1, 1, 1]), array([1, 1, 1]), array([1, 1, 1]), array([1, 1, 1]), array([1, 1, 1]), array([1, 1, 1]), array([1, 1, 1]), array([0, 1, 0]), array([0, 1, 0]), array([1, 1, 1]), array([1, 1, 1]), array([1, 1, 1]), array([1, 1, 1]), array([1, 1, 1]), array([1, 1, 1]), array([1, 1, 1]), array([1, 1, 1]), array([1, 1, 1]), array([1, 1, 1]), array([1, 1, 1]), array([1, 1, 1]), array([1, 1, 1]), array([1, 1, 1]), array([1, 1, 1]), array([1, 1, 1]), array([1, 1, 1]), array([1, 0, 0]), array([1, 1, 1]), array([1, 1, 1]), array([1, 1, 1]), array([1, 1, 1]), array([1, 1, 1]), array([1, 1, 1]), array([1, 1, 1]), array([1, 1, 1]), array([1, 1, 1]), array([1, 1, 1]), array([1, 1, 1]), array([1, 1, 1]), array([1, 1, 1]), array([1, 1, 1]), array([1, 0, 0]), array([1, 1, 1]), array([1, 1, 1]), array([0, 1, 0]), array([0, 1, 0]), array([1, 1, 1]), array([1, 1, 1]), array([1, 1, 1]), array([1, 1, 1]), array([1, 1, 1]), array([1, 1, 1]), array([1, 0, 0]), array([1, 1, 1]), array([1, 1, 1]), array([1, 1, 1]), array([1, 1, 1]), array([1, 1, 1]), array([0, 1, 0]), array([1, 1, 1]), array([1, 1, 1]), array([1, 1, 1]), array([1, 1, 1]), array([1, 1, 1]), array([1, 1, 1]), array([1, 1, 1]), array([1, 1, 1]), array([1, 1, 1]), array([1, 1, 1]), array([1, 1, 1]), array([1, 1, 1]), array([1, 1, 1]), array([1, 1, 1]), array([1, 1, 1]), array([1, 1, 1]), array([0, 1, 0]), array([0, 1, 0]), array([1, 0, 0]), array([1, 0, 0]), array([1, 1, 1]), array([1, 1, 1]), array([1, 1, 1]), array([1, 1, 1]), array([0, 1, 0]), array([1, 1, 1]), array([1, 1, 1]), array([0, 1, 0]), array([1, 0, 0]), array([1, 1, 1]), array([1, 1, 1]), array([1, 1, 1]), array([1, 1, 1]), array([1, 1, 1]), array([1, 0, 0]), array([1, 1, 1]), array([1, 1, 1]), array([1, 1, 1]), array([1, 1, 1]), array([1, 1, 1]), array([1, 1, 1]), array([1, 1, 1]), array([1, 1, 1]), array([1, 1, 1]), array([1, 1, 1]), array([1, 1, 1]), array([1, 1, 1]), array([1, 1, 1]), array([1, 1, 1]), array([1, 1, 1]), array([1, 1, 1]), array([1, 1, 1]), array([0, 1, 0]), array([1, 1, 1]), array([1, 1, 1]), array([1, 1, 1]), array([1, 1, 1]), array([1, 1, 1]), array([1, 1, 1]), array([1, 1, 1]), array([1, 1, 1]), array([1, 1, 1]), array([1, 1, 1]), array([0, 1, 0]), array([1, 1, 1]), array([1, 1, 1]), array([1, 1, 1]), array([1, 1, 1]), array([1, 1, 1]), array([1, 1, 1]), array([1, 1, 1]), array([1, 1, 1]), array([1, 1, 1]), array([1, 1, 1]), array([0, 1, 0]), array([1, 1, 1]), array([1, 1, 1]), array([1, 1, 1]), array([1, 1, 1]), array([1, 0, 0]), array([1, 1, 1]), array([1, 1, 1]), array([1, 1, 1]), array([1, 1, 1]), array([1, 1, 1]), array([1, 1, 1]), array([1, 1, 1]), array([1, 0, 0]), array([1, 1, 1]), array([1, 1, 1]), array([0, 1, 0]), array([1, 1, 1]), array([1, 1, 1]), array([1, 1, 1]), array([1, 1, 1]), array([1, 1, 1]), array([1, 1, 1]), array([0, 1, 0]), array([1, 1, 1]), array([1, 1, 1]), array([1, 0, 0]), array([1, 1, 1]), array([1, 1, 1]), array([1, 1, 1]), array([1, 1, 1]), array([1, 0, 0]), array([1, 1, 1]), array([1, 1, 1]), array([1, 1, 1]), array([1, 1, 1]), array([1, 1, 1]), array([1, 1, 1]), array([1, 0, 0]), array([1, 1, 1]), array([1, 1, 1]), array([1, 1, 1]), array([1, 1, 1]), array([1, 1, 1]), array([1, 1, 1]), array([1, 1, 1]), array([1, 1, 1]), array([1, 1, 1]), array([1, 1, 1]), array([1, 1, 1]), array([1, 1, 1]), array([1, 1, 1]), array([1, 1, 1]), array([1, 1, 1]), array([1, 1, 1]), array([1, 1, 1]), array([1, 1, 1]), array([1, 1, 1]), array([1, 1, 1]), array([1, 1, 1]), array([1, 1, 1]), array([1, 1, 1]), array([1, 1, 1]), array([1, 1, 1]), array([1, 1, 1]), array([1, 1, 1]), array([1, 1, 1]), array([1, 1, 1]), array([1, 1, 1]), array([1, 1, 1]), array([1, 1, 1]), array([1, 1, 1]), array([1, 1, 1]), array([1, 1, 1]), array([1, 1, 1]), array([1, 1, 1]), array([1, 1, 1]), array([1, 1, 1]), array([1, 1, 1]), array([1, 1, 1]), array([1, 1, 1]), array([0, 1, 0]), array([1, 1, 1]), array([1, 1, 1]), array([1, 1, 1]), array([1, 1, 1]), array([1, 1, 1]), array([0, 1, 0]), array([1, 1, 1]), array([1, 1, 1]), array([1, 1, 1]), array([0, 1, 0]), array([1, 1, 1]), array([1, 1, 1]), array([1, 1, 1]), array([1, 1, 1]), array([1, 1, 1]), array([1, 1, 1]), array([1, 1, 1]), array([1, 1, 1]), array([1, 1, 1]), array([1, 1, 1]), array([1, 1, 1]), array([1, 1, 1]), array([0, 1, 0]), array([1, 1, 1]), array([1, 1, 1]), array([1, 1, 1]), array([1, 1, 1]), array([1, 1, 1]), array([1, 1, 1]), array([1, 1, 1]), array([1, 1, 1]), array([1, 1, 1]), array([1, 1, 1]), array([1, 1, 1]), array([1, 1, 1]), array([1, 1, 1]), array([1, 1, 1]), array([1, 1, 1]), array([1, 1, 1]), array([1, 1, 1]), array([1, 1, 1]), array([1, 1, 1]), array([1, 1, 1]), array([1, 1, 1]), array([1, 0, 0]), array([1, 1, 1]), array([1, 0, 0]), array([0, 1, 0]), array([1, 1, 1]), array([0, 1, 0]), array([1, 1, 1]), array([0, 1, 0]), array([1, 1, 1]), array([1, 1, 1]), array([1, 1, 1]), array([1, 1, 1]), array([1, 1, 1]), array([1, 1, 1]), array([1, 1, 1]), array([1, 1, 1]), array([1, 0, 0]), array([0, 1, 0]), array([1, 1, 1]), array([1, 0, 0]), array([1, 0, 0]), array([0, 1, 0]), array([0, 1, 0]), array([0, 1, 0]), array([1, 1, 1]), array([1, 1, 1]), array([1, 1, 1]), array([1, 1, 1]), array([1, 1, 1]), array([1, 1, 1]), array([1, 1, 1]), array([1, 1, 1]), array([1, 1, 1]), array([1, 1, 1]), array([1, 1, 1]), array([1, 1, 1]), array([1, 1, 1]), array([1, 1, 1]), array([1, 1, 1]), array([1, 1, 1]), array([1, 1, 1]), array([1, 1, 1]), array([1, 0, 0]), array([1, 1, 1]), array([1, 1, 1]), array([1, 1, 1]), array([1, 1, 1]), array([1, 1, 1]), array([1, 1, 1]), array([1, 1, 1]), array([1, 1, 1]), array([1, 0, 0]), array([0, 1, 0]), array([1, 1, 1]), array([1, 1, 1]), array([1, 1, 1]), array([1, 1, 1]), array([1, 1, 1]), array([1, 1, 1]), array([1, 1, 1]), array([1, 1, 1]), array([1, 1, 1]), array([1, 1, 1]), array([1, 1, 1]), array([1, 1, 1]), array([1, 1, 1]), array([1, 1, 1]), array([1, 1, 1]), array([1, 1, 1]), array([1, 1, 1]), array([1, 0, 0]), array([1, 1, 1]), array([1, 1, 1]), array([1, 1, 1]), array([1, 0, 0]), array([1, 1, 1]), array([1, 1, 1]), array([1, 1, 1]), array([1, 1, 1]), array([1, 0, 0]), array([1, 1, 1]), array([1, 1, 1]), array([1, 1, 1]), array([1, 1, 1]), array([1, 1, 1]), array([1, 1, 1]), array([1, 1, 1]), array([1, 1, 1]), array([1, 1, 1]), array([1, 1, 1]), array([1, 1, 1]), array([1, 0, 0]), array([1, 0, 0]), array([1, 1, 1]), array([1, 0, 0]), array([0, 1, 0]), array([1, 1, 1]), array([1, 1, 1]), array([1, 1, 1]), array([1, 1, 1]), array([1, 1, 1]), array([1, 1, 1]), array([0, 1, 0]), array([1, 1, 1]), array([1, 0, 0]), array([1, 1, 1]), array([1, 1, 1]), array([1, 1, 1]), array([1, 0, 0]), array([1, 1, 1]), array([1, 1, 1]), array([1, 1, 1]), array([1, 1, 1]), array([1, 1, 1]), array([1, 1, 1]), array([1, 1, 1]), array([1, 1, 1]), array([1, 1, 1]), array([1, 1, 1]), array([1, 1, 1]), array([1, 1, 1]), array([1, 1, 1]), array([1, 1, 1]), array([1, 1, 1]), array([1, 1, 1]), array([1, 1, 1]), array([1, 1, 1]), array([1, 1, 1]), array([0, 1, 0]), array([1, 1, 1]), array([0, 1, 0]), array([1, 1, 1]), array([0, 1, 0]), array([1, 1, 1]), array([0, 1, 0]), array([1, 1, 1]), array([0, 1, 0]), array([0, 1, 0]), array([1, 1, 1]), array([1, 1, 1]), array([1, 0, 0]), array([1, 1, 1]), array([1, 1, 1]), array([1, 1, 1]), array([1, 1, 1]), array([1, 1, 1]), array([1, 1, 1]), array([1, 1, 1]), array([1, 1, 1]), array([1, 0, 0]), array([0, 1, 0]), array([1, 0, 0]), array([0, 1, 0]), array([1, 0, 0]), array([1, 1, 1]), array([1, 1, 1]), array([1, 1, 1]), array([1, 1, 1]), array([1, 1, 1]), array([1, 1, 1]), array([1, 1, 1]), array([1, 1, 1]), array([1, 1, 1]), array([1, 1, 1]), array([1, 1, 1]), array([1, 1, 1]), array([1, 0, 0]), array([0, 1, 0]), array([1, 1, 1]), array([1, 0, 0]), array([1, 1, 1]), array([1, 0, 0]), array([1, 0, 0]), array([1, 1, 1]), array([1, 0, 0]), array([1, 1, 1]), array([1, 1, 1]), array([1, 1, 1]), array([1, 0, 0]), array([0, 1, 0]), array([1, 1, 1]), array([1, 1, 1]), array([1, 1, 1]), array([1, 1, 1]), array([1, 1, 1]), array([1, 1, 1]), array([1, 1, 1]), array([1, 1, 1]), array([1, 1, 1]), array([1, 1, 1]), array([0, 1, 0]), array([1, 1, 1]), array([1, 1, 1]), array([0, 1, 0]), array([1, 1, 1]), array([1, 1, 1]), array([1, 1, 1]), array([1, 1, 1]), array([0, 1, 0]), array([0, 1, 0]), array([1, 1, 1]), array([1, 1, 1]), array([1, 1, 1]), array([1, 1, 1]), array([1, 1, 1]), array([0, 1, 0]), array([1, 0, 0]), array([1, 1, 1]), array([0, 1, 0]), array([0, 1, 0]), array([1, 1, 1]), array([1, 1, 1]), array([1, 1, 1]), array([1, 1, 1]), array([1, 1, 1]), array([1, 1, 1]), array([1, 1, 1]), array([1, 1, 1]), array([1, 1, 1]), array([1, 1, 1]), array([1, 1, 1]), array([1, 1, 1]), array([1, 1, 1]), array([0, 1, 0]), array([1, 1, 1]), array([1, 1, 1]), array([1, 1, 1]), array([1, 1, 1]), array([1, 1, 1]), array([1, 1, 1]), array([1, 1, 1]), array([1, 1, 1]), array([0, 1, 0]), array([0, 1, 0]), array([0, 1, 0]), array([1, 1, 1]), array([1, 1, 1]), array([1, 1, 1]), array([1, 0, 0]), array([1, 1, 1]), array([1, 1, 1]), array([1, 1, 1]), array([1, 0, 0]), array([1, 1, 1]), array([1, 1, 1]), array([1, 0, 0]), array([1, 0, 0]), array([1, 1, 1]), array([1, 1, 1]), array([1, 1, 1]), array([1, 1, 1]), array([1, 1, 1]), array([1, 1, 1]), array([1, 1, 1]), array([1, 1, 1]), array([1, 1, 1]), array([1, 1, 1]), array([0, 1, 0]), array([1, 1, 1]), array([1, 1, 1]), array([1, 1, 1]), array([1, 1, 1]), array([1, 1, 1]), array([1, 1, 1]), array([1, 1, 1]), array([1, 0, 0]), array([1, 0, 0]), array([1, 1, 1]), array([1, 1, 1]), array([1, 1, 1]), array([1, 1, 1]), array([1, 1, 1]), array([1, 1, 1]), array([1, 1, 1]), array([1, 1, 1]), array([1, 1, 1]), array([1, 1, 1]), array([1, 1, 1]), array([1, 1, 1]), array([1, 1, 1]), array([1, 1, 1]), array([1, 0, 0]), array([1, 0, 0]), array([1, 1, 1]), array([1, 1, 1]), array([1, 1, 1]), array([1, 1, 1]), array([1, 1, 1]), array([1, 1, 1]), array([1, 1, 1]), array([1, 1, 1]), array([1, 1, 1]), array([1, 1, 1]), array([1, 1, 1]), array([1, 1, 1]), array([1, 1, 1]), array([1, 1, 1]), array([1, 1, 1]), array([1, 1, 1]), array([1, 1, 1]), array([1, 1, 1]), array([0, 1, 0]), array([1, 1, 1]), array([1, 1, 1]), array([1, 1, 1]), array([1, 1, 1]), array([1, 1, 1]), array([1, 1, 1]), array([1, 1, 1]), array([1, 1, 1]), array([1, 1, 1]), array([1, 1, 1]), array([1, 1, 1]), array([1, 1, 1]), array([1, 1, 1]), array([1, 1, 1]), array([1, 1, 1]), array([0, 1, 0]), array([1, 1, 1]), array([0, 1, 0]), array([1, 1, 1]), array([1, 1, 1]), array([1, 1, 1]), array([1, 1, 1]), array([1, 1, 1]), array([1, 1, 1]), array([1, 1, 1]), array([1, 1, 1]), array([1, 1, 1]), array([1, 0, 0]), array([1, 1, 1]), array([1, 0, 0]), array([1, 1, 1]), array([1, 1, 1]), array([1, 0, 0]), array([1, 1, 1]), array([1, 1, 1]), array([1, 1, 1]), array([1, 1, 1]), array([1, 1, 1]), array([1, 1, 1]), array([1, 1, 1]), array([1, 1, 1]), array([1, 1, 1]), array([1, 1, 1]), array([1, 1, 1]), array([1, 1, 1]), array([1, 1, 1]), array([1, 1, 1]), array([1, 1, 1]), array([1, 1, 1]), array([1, 1, 1]), array([1, 1, 1]), array([1, 1, 1]), array([1, 1, 1]), array([1, 1, 1]), array([1, 1, 1]), array([1, 1, 1]), array([1, 1, 1]), array([1, 1, 1]), array([1, 1, 1]), array([1, 0, 0]), array([1, 1, 1]), array([1, 0, 0]), array([1, 1, 1]), array([1, 1, 1]), array([1, 1, 1]), array([1, 1, 1]), array([1, 1, 1]), array([1, 1, 1]), array([1, 0, 0]), array([1, 1, 1]), array([0, 1, 0]), array([0, 1, 0]), array([1, 1, 1]), array([1, 1, 1]), array([0, 1, 0]), array([0, 1, 0]), array([1, 0, 0]), array([1, 1, 1]), array([1, 1, 1]), array([1, 1, 1]), array([1, 1, 1]), array([1, 1, 1]), array([1, 1, 1]), array([1, 1, 1]), array([1, 1, 1]), array([1, 1, 1]), array([1, 1, 1]), array([1, 1, 1]), array([1, 1, 1]), array([0, 1, 0]), array([1, 1, 1]), array([1, 1, 1]), array([1, 1, 1]), array([1, 1, 1]), array([1, 1, 1]), array([1, 1, 1]), array([1, 0, 0]), array([1, 0, 0]), array([1, 1, 1]), array([0, 1, 0]), array([0, 1, 0]), array([0, 1, 0]), array([1, 1, 1]), array([1, 1, 1]), array([1, 1, 1]), array([1, 1, 1]), array([1, 1, 1]), array([1, 1, 1]), array([1, 0, 0]), array([1, 1, 1]), array([1, 1, 1]), array([1, 1, 1]), array([1, 1, 1]), array([0, 1, 0]), array([1, 1, 1]), array([1, 1, 1]), array([1, 1, 1]), array([1, 1, 1]), array([1, 0, 0]), array([1, 1, 1]), array([1, 1, 1]), array([1, 1, 1]), array([1, 1, 1]), array([1, 1, 1]), array([1, 1, 1]), array([1, 1, 1]), array([1, 1, 1]), array([1, 1, 1]), array([1, 1, 1]), array([1, 1, 1]), array([1, 1, 1]), array([1, 1, 1]), array([1, 1, 1]), array([0, 1, 0]), array([1, 1, 1]), array([1, 0, 0]), array([1, 1, 1]), array([1, 1, 1]), array([1, 1, 1]), array([1, 1, 1]), array([1, 1, 1]), array([1, 1, 1]), array([1, 1, 1]), array([1, 1, 1]), array([1, 1, 1]), array([1, 1, 1]), array([0, 1, 0]), array([1, 0, 0]), array([1, 1, 1]), array([1, 1, 1]), array([1, 1, 1]), array([1, 1, 1]), array([1, 1, 1]), array([1, 1, 1]), array([1, 1, 1]), array([1, 1, 1]), array([1, 1, 1]), array([1, 1, 1]), array([1, 1, 1]), array([1, 1, 1]), array([1, 1, 1]), array([1, 1, 1]), array([1, 1, 1]), array([0, 1, 0]), array([1, 1, 1]), array([1, 1, 1]), array([0, 1, 0]), array([1, 1, 1]), array([1, 1, 1]), array([1, 1, 1]), array([1, 1, 1]), array([1, 1, 1]), array([1, 1, 1]), array([1, 1, 1]), array([1, 1, 1]), array([1, 1, 1]), array([1, 1, 1]), array([1, 1, 1]), array([1, 1, 1]), array([1, 1, 1]), array([1, 0, 0]), array([1, 1, 1]), array([1, 1, 1]), array([1, 1, 1]), array([1, 1, 1]), array([1, 1, 1]), array([1, 1, 1]), array([1, 1, 1]), array([1, 0, 0]), array([1, 1, 1]), array([1, 1, 1]), array([1, 1, 1]), array([1, 1, 1]), array([1, 1, 1]), array([1, 1, 1]), array([1, 1, 1]), array([1, 1, 1]), array([1, 1, 1]), array([1, 1, 1]), array([1, 1, 1]), array([1, 1, 1]), array([1, 0, 0]), array([1, 1, 1]), array([1, 1, 1]), array([1, 1, 1]), array([1, 1, 1]), array([1, 1, 1]), array([1, 1, 1]), array([1, 1, 1]), array([1, 1, 1]), array([1, 1, 1]), array([1, 1, 1]), array([1, 1, 1]), array([1, 1, 1]), array([1, 1, 1]), array([1, 1, 1]), array([1, 1, 1]), array([1, 1, 1]), array([1, 1, 1]), array([1, 1, 1]), array([1, 1, 1]), array([1, 1, 1]), array([1, 1, 1]), array([1, 1, 1]), array([1, 1, 1]), array([0, 1, 0]), array([1, 1, 1]), array([1, 1, 1]), array([1, 1, 1]), array([1, 1, 1]), array([0, 1, 0]), array([1, 1, 1]), array([1, 0, 0]), array([0, 1, 0]), array([0, 1, 0]), array([0, 1, 0]), array([0, 1, 0]), array([1, 1, 1]), array([1, 1, 1]), array([1, 1, 1]), array([1, 1, 1]), array([0, 1, 0]), array([0, 1, 0]), array([0, 1, 0]), array([1, 1, 1]), array([1, 0, 0]), array([1, 1, 1]), array([1, 1, 1]), array([1, 1, 1]), array([1, 1, 1]), array([1, 1, 1]), array([1, 1, 1]), array([1, 1, 1]), array([1, 1, 1]), array([1, 1, 1]), array([1, 1, 1]), array([1, 1, 1]), array([1, 0, 0]), array([1, 1, 1]), array([1, 1, 1]), array([1, 1, 1]), array([1, 1, 1]), array([1, 1, 1]), array([1, 1, 1]), array([1, 1, 1]), array([1, 1, 1]), array([1, 0, 0]), array([1, 1, 1]), array([1, 1, 1]), array([1, 1, 1]), array([1, 1, 1]), array([1, 1, 1]), array([1, 0, 0]), array([0, 1, 0]), array([0, 1, 0]), array([1, 1, 1]), array([1, 0, 0]), array([1, 1, 1]), array([0, 1, 0]), array([0, 1, 0]), array([1, 0, 0]), array([1, 1, 1]), array([1, 1, 1]), array([1, 1, 1]), array([1, 1, 1]), array([1, 1, 1]), array([1, 1, 1]), array([1, 1, 1]), array([1, 1, 1]), array([1, 1, 1]), array([1, 1, 1]), array([1, 1, 1]), array([1, 1, 1]), array([1, 1, 1]), array([0, 1, 0]), array([1, 0, 0]), array([1, 1, 1]), array([1, 1, 1]), array([1, 1, 1]), array([0, 1, 0]), array([1, 1, 1]), array([1, 1, 1]), array([1, 1, 1]), array([1, 1, 1]), array([0, 1, 0]), array([1, 1, 1]), array([0, 1, 0]), array([1, 1, 1]), array([1, 1, 1]), array([1, 1, 1]), array([1, 1, 1]), array([1, 1, 1]), array([1, 0, 0]), array([1, 1, 1]), array([1, 0, 0]), array([0, 1, 0]), array([1, 1, 1]), array([1, 1, 1]), array([1, 1, 1]), array([1, 1, 1]), array([1, 1, 1]), array([1, 1, 1]), array([1, 1, 1]), array([1, 1, 1]), array([1, 1, 1]), array([1, 1, 1]), array([1, 1, 1]), array([1, 1, 1]), array([1, 1, 1]), array([1, 1, 1]), array([1, 1, 1]), array([1, 1, 1]), array([1, 1, 1]), array([1, 1, 1]), array([1, 1, 1]), array([1, 1, 1]), array([1, 1, 1]), array([1, 1, 1]), array([1, 0, 0]), array([1, 1, 1]), array([1, 1, 1]), array([1, 1, 1]), array([1, 1, 1]), array([1, 1, 1]), array([1, 1, 1]), array([1, 1, 1]), array([0, 1, 0]), array([0, 1, 0]), array([1, 1, 1]), array([1, 1, 1]), array([1, 1, 1]), array([1, 1, 1]), array([1, 1, 1]), array([1, 1, 1]), array([1, 1, 1]), array([1, 1, 1]), array([1, 1, 1]), array([1, 1, 1]), array([1, 1, 1]), array([1, 1, 1]), array([1, 1, 1]), array([1, 1, 1]), array([1, 1, 1]), array([1, 1, 1]), array([1, 1, 1]), array([1, 1, 1]), array([1, 1, 1]), array([1, 1, 1]), array([1, 1, 1]), array([1, 0, 0]), array([1, 1, 1]), array([1, 1, 1]), array([1, 1, 1]), array([1, 1, 1]), array([0, 1, 0]), array([1, 1, 1]), array([1, 0, 0]), array([1, 0, 0]), array([1, 1, 1]), array([1, 0, 0]), array([1, 1, 1]), array([1, 1, 1]), array([1, 1, 1]), array([1, 1, 1]), array([1, 1, 1]), array([1, 1, 1]), array([1, 1, 1]), array([1, 1, 1]), array([1, 0, 0]), array([1, 0, 0]), array([0, 1, 0]), array([1, 1, 1]), array([1, 1, 1]), array([1, 1, 1]), array([1, 1, 1]), array([1, 0, 0]), array([1, 1, 1]), array([1, 1, 1]), array([1, 1, 1]), array([1, 1, 1]), array([0, 1, 0]), array([0, 1, 0]), array([1, 1, 1]), array([1, 1, 1]), array([1, 0, 0]), array([1, 1, 1]), array([1, 1, 1]), array([1, 1, 1]), array([1, 1, 1]), array([1, 1, 1]), array([1, 1, 1]), array([1, 1, 1]), array([1, 1, 1]), array([0, 1, 0]), array([1, 1, 1]), array([1, 1, 1]), array([1, 1, 1]), array([1, 1, 1]), array([0, 1, 0]), array([1, 1, 1]), array([0, 1, 0]), array([1, 0, 0]), array([1, 1, 1]), array([1, 1, 1]), array([1, 0, 0]), array([0, 1, 0]), array([1, 1, 1]), array([1, 1, 1]), array([1, 1, 1]), array([1, 1, 1]), array([1, 0, 0]), array([1, 1, 1]), array([1, 1, 1]), array([1, 1, 1]), array([1, 1, 1]), array([1, 1, 1]), array([1, 1, 1]), array([1, 1, 1]), array([1, 1, 1]), array([1, 1, 1]), array([1, 1, 1]), array([1, 1, 1]), array([0, 1, 0]), array([1, 1, 1]), array([1, 1, 1]), array([0, 1, 0]), array([0, 1, 0]), array([1, 1, 1]), array([1, 1, 1]), array([1, 1, 1]), array([1, 1, 1]), array([1, 1, 1]), array([1, 1, 1]), array([1, 1, 1]), array([1, 1, 1]), array([1, 1, 1]), array([1, 1, 1]), array([1, 1, 1]), array([1, 1, 1]), array([1, 1, 1]), array([1, 1, 1]), array([1, 1, 1]), array([1, 1, 1]), array([1, 1, 1]), array([1, 1, 1]), array([1, 1, 1]), array([1, 1, 1]), array([1, 1, 1]), array([1, 1, 1]), array([1, 1, 1]), array([1, 1, 1]), array([1, 1, 1]), array([1, 1, 1]), array([1, 1, 1]), array([1, 1, 1]), array([1, 1, 1]), array([1, 1, 1]), array([1, 1, 1]), array([1, 1, 1]), array([1, 1, 1]), array([1, 1, 1]), array([1, 1, 1]), array([1, 1, 1]), array([1, 1, 1]), array([1, 1, 1]), array([1, 1, 1]), array([1, 1, 1]), array([1, 1, 1]), array([1, 1, 1]), array([1, 1, 1]), array([1, 1, 1]), array([1, 0, 0]), array([1, 1, 1]), array([1, 1, 1]), array([1, 1, 1]), array([1, 1, 1]), array([1, 1, 1]), array([1, 0, 0]), array([1, 1, 1]), array([1, 1, 1]), array([1, 1, 1]), array([1, 1, 1]), array([1, 1, 1]), array([1, 1, 1]), array([1, 1, 1]), array([1, 1, 1]), array([1, 0, 0]), array([1, 1, 1]), array([1, 1, 1]), array([1, 1, 1]), array([1, 1, 1]), array([1, 1, 1]), array([1, 1, 1]), array([1, 1, 1]), array([1, 1, 1]), array([1, 1, 1]), array([1, 1, 1]), array([1, 1, 1]), array([0, 1, 0]), array([1, 0, 0]), array([1, 1, 1]), array([1, 1, 1]), array([1, 1, 1]), array([1, 1, 1]), array([1, 1, 1]), array([1, 1, 1]), array([1, 1, 1]), array([1, 1, 1]), array([1, 1, 1]), array([1, 1, 1]), array([1, 1, 1]), array([1, 1, 1]), array([1, 1, 1]), array([1, 1, 1]), array([1, 1, 1]), array([1, 1, 1]), array([1, 1, 1]), array([1, 1, 1]), array([1, 1, 1]), array([1, 1, 1]), array([1, 1, 1]), array([1, 1, 1]), array([1, 1, 1]), array([1, 1, 1]), array([1, 1, 1]), array([0, 1, 0]), array([1, 1, 1]), array([1, 1, 1]), array([1, 1, 1]), array([1, 1, 1]), array([1, 1, 1]), array([1, 1, 1]), array([1, 1, 1]), array([1, 1, 1]), array([1, 1, 1]), array([1, 1, 1]), array([1, 1, 1]), array([1, 1, 1]), array([1, 1, 1]), array([1, 1, 1]), array([1, 1, 1]), array([1, 1, 1]), array([1, 1, 1]), array([1, 1, 1]), array([1, 1, 1]), array([1, 1, 1]), array([1, 1, 1]), array([1, 1, 1]), array([1, 1, 1]), array([1, 1, 1]), array([1, 1, 1]), array([1, 1, 1]), array([1, 1, 1]), array([1, 0, 0]), array([1, 1, 1]), array([1, 1, 1]), array([1, 1, 1]), array([1, 1, 1]), array([1, 1, 1]), array([1, 1, 1]), array([0, 1, 0]), array([1, 1, 1]), array([1, 0, 0]), array([1, 1, 1]), array([1, 1, 1]), array([1, 1, 1]), array([1, 1, 1]), array([1, 1, 1]), array([1, 1, 1]), array([1, 1, 1]), array([1, 1, 1]), array([1, 1, 1]), array([1, 1, 1]), array([1, 1, 1]), array([1, 1, 1]), array([1, 1, 1]), array([1, 1, 1]), array([1, 1, 1]), array([1, 1, 1]), array([1, 1, 1]), array([1, 1, 1]), array([1, 1, 1]), array([1, 1, 1]), array([1, 1, 1]), array([1, 1, 1]), array([1, 1, 1]), array([1, 1, 1]), array([1, 1, 1]), array([1, 1, 1]), array([1, 0, 0]), array([1, 1, 1]), array([1, 1, 1]), array([1, 1, 1]), array([1, 1, 1]), array([1, 1, 1]), array([1, 1, 1]), array([1, 1, 1]), array([0, 1, 0]), array([1, 1, 1]), array([1, 1, 1]), array([1, 1, 1]), array([0, 1, 0]), array([1, 1, 1]), array([1, 1, 1]), array([1, 1, 1]), array([1, 1, 1]), array([1, 1, 1]), array([1, 1, 1]), array([1, 1, 1]), array([1, 1, 1]), array([1, 1, 1]), array([1, 1, 1]), array([1, 1, 1]), array([1, 1, 1]), array([1, 1, 1]), array([1, 1, 1]), array([1, 1, 1]), array([1, 1, 1]), array([1, 1, 1]), array([1, 1, 1]), array([1, 1, 1]), array([1, 1, 1]), array([1, 1, 1]), array([1, 1, 1]), array([1, 1, 1]), array([1, 1, 1]), array([1, 1, 1]), array([1, 1, 1]), array([1, 1, 1]), array([0, 1, 0]), array([1, 1, 1]), array([1, 1, 1]), array([1, 1, 1]), array([1, 1, 1]), array([1, 1, 1]), array([1, 1, 1]), array([1, 1, 1]), array([1, 1, 1]), array([1, 1, 1]), array([1, 1, 1]), array([1, 1, 1]), array([1, 1, 1]), array([1, 0, 0]), array([1, 0, 0]), array([1, 1, 1]), array([1, 1, 1]), array([1, 1, 1]), array([1, 1, 1]), array([1, 0, 0]), array([1, 1, 1]), array([1, 1, 1]), array([1, 1, 1]), array([1, 1, 1]), array([1, 1, 1]), array([1, 1, 1]), array([1, 1, 1]), array([1, 1, 1]), array([1, 1, 1]), array([1, 1, 1]), array([1, 1, 1]), array([1, 1, 1]), array([1, 1, 1]), array([1, 1, 1]), array([1, 1, 1]), array([1, 1, 1]), array([1, 1, 1]), array([0, 1, 0]), array([0, 1, 0]), array([1, 1, 1]), array([1, 1, 1]), array([1, 1, 1]), array([1, 1, 1]), array([1, 1, 1]), array([1, 1, 1]), array([1, 1, 1]), array([1, 1, 1]), array([0, 1, 0]), array([1, 1, 1]), array([1, 1, 1]), array([1, 1, 1]), array([1, 1, 1]), array([1, 1, 1]), array([1, 1, 1]), array([1, 1, 1]), array([1, 1, 1]), array([1, 1, 1]), array([1, 1, 1]), array([1, 1, 1]), array([1, 1, 1]), array([1, 1, 1]), array([1, 1, 1]), array([1, 1, 1]), array([1, 0, 0]), array([1, 1, 1]), array([1, 1, 1]), array([1, 1, 1]), array([1, 1, 1]), array([1, 1, 1]), array([1, 1, 1]), array([1, 1, 1]), array([1, 1, 1]), array([1, 1, 1]), array([1, 1, 1]), array([1, 1, 1]), array([0, 1, 0]), array([1, 1, 1]), array([1, 1, 1]), array([1, 1, 1]), array([1, 1, 1]), array([1, 1, 1]), array([1, 1, 1]), array([1, 1, 1]), array([1, 1, 1]), array([1, 1, 1]), array([1, 1, 1]), array([0, 1, 0]), array([1, 1, 1]), array([1, 1, 1]), array([1, 1, 1]), array([0, 1, 0]), array([1, 1, 1]), array([1, 1, 1]), array([1, 1, 1]), array([1, 1, 1]), array([1, 1, 1]), array([1, 1, 1]), array([1, 1, 1]), array([1, 1, 1]), array([1, 1, 1]), array([1, 1, 1]), array([1, 0, 0]), array([1, 1, 1]), array([1, 1, 1]), array([1, 1, 1]), array([1, 1, 1]), array([0, 1, 0]), array([1, 1, 1]), array([1, 1, 1]), array([1, 1, 1]), array([1, 1, 1]), array([1, 0, 0]), array([1, 1, 1]), array([1, 1, 1]), array([1, 1, 1]), array([0, 1, 0]), array([1, 1, 1]), array([1, 1, 1]), array([1, 1, 1]), array([1, 0, 0]), array([1, 1, 1]), array([1, 1, 1]), array([1, 1, 1]), array([1, 1, 1]), array([1, 0, 0]), array([1, 0, 0]), array([1, 1, 1]), array([1, 1, 1]), array([1, 1, 1]), array([1, 1, 1]), array([0, 1, 0]), array([0, 1, 0]), array([1, 1, 1]), array([1, 0, 0]), array([1, 1, 1]), array([1, 1, 1]), array([1, 1, 1]), array([0, 1, 0]), array([1, 1, 1]), array([1, 1, 1]), array([1, 1, 1]), array([1, 1, 1]), array([1, 1, 1]), array([1, 0, 0]), array([1, 0, 0]), array([1, 1, 1]), array([1, 1, 1]), array([1, 1, 1]), array([1, 1, 1]), array([1, 0, 0]), array([1, 1, 1]), array([0, 1, 0]), array([1, 1, 1]), array([1, 1, 1]), array([1, 1, 1]), array([1, 1, 1]), array([1, 1, 1]), array([1, 1, 1]), array([1, 1, 1]), array([0, 1, 0]), array([1, 1, 1]), array([0, 1, 0]), array([1, 1, 1]), array([0, 1, 0]), array([1, 1, 1]), array([1, 1, 1]), array([1, 1, 1]), array([1, 1, 1]), array([1, 1, 1]), array([1, 1, 1]), array([1, 1, 1]), array([1, 1, 1]), array([1, 1, 1]), array([1, 1, 1]), array([1, 0, 0]), array([1, 1, 1]), array([1, 1, 1]), array([1, 1, 1]), array([1, 1, 1]), array([1, 1, 1]), array([1, 1, 1]), array([1, 1, 1]), array([1, 1, 1]), array([1, 1, 1]), array([1, 0, 0]), array([1, 1, 1]), array([1, 1, 1]), array([1, 1, 1]), array([1, 1, 1]), array([1, 1, 1]), array([1, 1, 1]), array([0, 1, 0]), array([1, 1, 1]), array([1, 1, 1]), array([1, 1, 1]), array([1, 1, 1]), array([1, 1, 1]), array([1, 1, 1]), array([1, 1, 1]), array([1, 1, 1]), array([1, 1, 1]), array([1, 1, 1]), array([1, 1, 1]), array([1, 1, 1]), array([1, 1, 1]), array([1, 1, 1]), array([1, 1, 1]), array([1, 1, 1]), array([0, 1, 0]), array([1, 1, 1]), array([1, 1, 1]), array([0, 1, 0]), array([1, 1, 1]), array([1, 1, 1]), array([1, 1, 1]), array([1, 1, 1]), array([1, 1, 1]), array([1, 1, 1]), array([1, 1, 1]), array([1, 1, 1]), array([1, 1, 1]), array([1, 1, 1]), array([1, 1, 1]), array([1, 1, 1]), array([1, 1, 1]), array([1, 0, 0]), array([1, 1, 1]), array([1, 1, 1]), array([1, 1, 1]), array([1, 1, 1]), array([1, 1, 1]), array([1, 1, 1]), array([1, 1, 1]), array([1, 1, 1]), array([1, 1, 1]), array([1, 1, 1]), array([1, 1, 1]), array([1, 1, 1]), array([1, 1, 1]), array([1, 0, 0]), array([1, 1, 1]), array([1, 1, 1]), array([1, 1, 1]), array([1, 1, 1]), array([0, 1, 0]), array([1, 1, 1]), array([1, 1, 1]), array([1, 0, 0]), array([1, 1, 1]), array([0, 1, 0]), array([0, 1, 0]), array([0, 1, 0]), array([0, 1, 0]), array([1, 1, 1]), array([1, 1, 1]), array([1, 1, 1]), array([1, 1, 1]), array([1, 1, 1]), array([1, 1, 1]), array([1, 0, 0]), array([0, 1, 0]), array([1, 1, 1]), array([1, 1, 1]), array([1, 1, 1]), array([1, 1, 1]), array([1, 1, 1]), array([1, 1, 1]), array([1, 1, 1]), array([1, 1, 1])]\n"
     ]
    }
   ],
   "source": [
    "for name, test in suite.tests.items():\n",
    "    print(test.labels)"
   ]
  },
  {
   "cell_type": "code",
   "execution_count": 27,
   "id": "31a5adf6",
   "metadata": {},
   "outputs": [],
   "source": [
    "class_to_func = {}\n",
    "for func, info in suite.info.items():\n",
    "    class_to_func.setdefault(info[\"capability\"], set()).update([func])"
   ]
  },
  {
   "cell_type": "code",
   "execution_count": 28,
   "id": "699d42da",
   "metadata": {},
   "outputs": [
    {
     "data": {
      "text/plain": [
       "{'Vocabulary': {'Different animals',\n",
       "  'How can I become more X != How can I become less X',\n",
       "  'Irrelevant modifiers - animals',\n",
       "  'Irrelevant modifiers - people',\n",
       "  'Irrelevant preamble with different examples.',\n",
       "  'Modifier: adj',\n",
       "  'Preamble is relevant (different injuries)',\n",
       "  'different adjectives'},\n",
       " 'Taxonomy': {'(question, f(question)) where f(question) replaces synonyms?',\n",
       "  'How can I become more X = How can I become less antonym(X)',\n",
       "  'How can I become more {synonym}?',\n",
       "  'Replace synonyms in real pairs'},\n",
       " 'Robustness': {'(q, paraphrase(q))',\n",
       "  'Product of paraphrases(q1) * paraphrases(q2)',\n",
       "  'add one typo',\n",
       "  'contrations'},\n",
       " 'NER': {'Change first and last name in one of the questions',\n",
       "  'Change first name in one of the questions',\n",
       "  'Change location in one of the questions',\n",
       "  'Change numbers in one of the questions',\n",
       "  'Change same location in both questions',\n",
       "  'Change same name in both questions',\n",
       "  'Change same number in both questions',\n",
       "  'Keep entitites, fill in with gibberish',\n",
       "  'same adjectives, different people',\n",
       "  'same adjectives, different people v2',\n",
       "  'same adjectives, different people v3'},\n",
       " 'Temporal': {'Do you have to X your dog before Y it != Do you have to X your dog after Y it.',\n",
       "  'Is it {ok, dangerous, ...} to {smoke, rest, ...} after != before',\n",
       "  'Is person X != Did person use to be X',\n",
       "  'Is person X != Is person becoming X',\n",
       "  \"What was person's life before becoming X != What was person's life after becoming X\"},\n",
       " 'Negation': {'How can I become a X person != How can I become a person who is not X',\n",
       "  'How can I become a X person == How can I become a person who is not antonym(X)',\n",
       "  'Is it {ok, dangerous, ...} to {smoke, rest, ...} in country != Is it {ok, dangerous, ...} not to {smoke, rest, ...} in country',\n",
       "  'What are things a {noun} should worry about != should not worry about.'},\n",
       " 'Coref': {'Simple coref: he and she', 'Simple coref: his and her'},\n",
       " 'SRL': {'Order does matter for asymmetric relations',\n",
       "  'Order does not matter for comparison',\n",
       "  'Order does not matter for symmetric relations',\n",
       "  'Who do X think - Who is the ... according to X',\n",
       "  'traditional SRL: active / passive swap',\n",
       "  'traditional SRL: active / passive swap with people',\n",
       "  'traditional SRL: wrong active / passive swap',\n",
       "  'traditional SRL: wrong active / passive swap with people'},\n",
       " 'Logic': {'A and / or B is the same as B and / or A',\n",
       "  'A or B is not the same as A and B',\n",
       "  'A or B is not the same as C and D',\n",
       "  'Reflexivity: (q, q) should be duplicate',\n",
       "  'Symmetry: f(a, b) = f(b, a)',\n",
       "  'Testing implications',\n",
       "  'a {nationality} {profession} = a {profession} and {nationality}'}}"
      ]
     },
     "execution_count": 28,
     "metadata": {},
     "output_type": "execute_result"
    }
   ],
   "source": [
    "class_to_func"
   ]
  },
  {
   "cell_type": "code",
   "execution_count": 29,
   "id": "c9e0da7f",
   "metadata": {},
   "outputs": [],
   "source": [
    "func_to_label = {}\n",
    "for func in suite.info.keys():\n",
    "    labels = suite.tests[func].labels\n",
    "    if type(labels) == int:\n",
    "        label = labels\n",
    "    elif type(labels) == list:\n",
    "        label = labels[0] if np.all(np.array(labels) == labels[0]) else None\n",
    "    elif labels is None:\n",
    "        label = labels\n",
    "    func_to_label[func] = label"
   ]
  },
  {
   "cell_type": "code",
   "execution_count": 30,
   "id": "f1992448",
   "metadata": {},
   "outputs": [
    {
     "data": {
      "text/plain": [
       "{'Modifier: adj': 0,\n",
       " 'different adjectives': 0,\n",
       " 'Different animals': 0,\n",
       " 'Irrelevant modifiers - animals': 1,\n",
       " 'Irrelevant modifiers - people': 1,\n",
       " 'Irrelevant preamble with different examples.': 1,\n",
       " 'Preamble is relevant (different injuries)': 0,\n",
       " 'How can I become more {synonym}?': 1,\n",
       " '(question, f(question)) where f(question) replaces synonyms?': None,\n",
       " 'Replace synonyms in real pairs': None,\n",
       " 'How can I become more X != How can I become less X': 0,\n",
       " 'How can I become more X = How can I become less antonym(X)': 1,\n",
       " 'add one typo': None,\n",
       " 'contrations': None,\n",
       " '(q, paraphrase(q))': None,\n",
       " 'Product of paraphrases(q1) * paraphrases(q2)': None,\n",
       " 'same adjectives, different people': 0,\n",
       " 'same adjectives, different people v2': 0,\n",
       " 'same adjectives, different people v3': 0,\n",
       " 'Change same name in both questions': None,\n",
       " 'Change same location in both questions': None,\n",
       " 'Change same number in both questions': None,\n",
       " 'Change first name in one of the questions': None,\n",
       " 'Change first and last name in one of the questions': None,\n",
       " 'Change location in one of the questions': None,\n",
       " 'Change numbers in one of the questions': None,\n",
       " 'Keep entitites, fill in with gibberish': None,\n",
       " 'Is person X != Did person use to be X': 0,\n",
       " 'Is person X != Is person becoming X': 0,\n",
       " \"What was person's life before becoming X != What was person's life after becoming X\": 0,\n",
       " 'Do you have to X your dog before Y it != Do you have to X your dog after Y it.': 0,\n",
       " 'Is it {ok, dangerous, ...} to {smoke, rest, ...} after != before': 0,\n",
       " 'How can I become a X person != How can I become a person who is not X': 0,\n",
       " 'Is it {ok, dangerous, ...} to {smoke, rest, ...} in country != Is it {ok, dangerous, ...} not to {smoke, rest, ...} in country': 0,\n",
       " 'What are things a {noun} should worry about != should not worry about.': 0,\n",
       " 'How can I become a X person == How can I become a person who is not antonym(X)': 1,\n",
       " 'Simple coref: he and she': 0,\n",
       " 'Simple coref: his and her': 0,\n",
       " 'Who do X think - Who is the ... according to X': 1,\n",
       " 'Order does not matter for comparison': 1,\n",
       " 'Order does not matter for symmetric relations': 1,\n",
       " 'Order does matter for asymmetric relations': 0,\n",
       " 'traditional SRL: active / passive swap': 1,\n",
       " 'traditional SRL: wrong active / passive swap': 0,\n",
       " 'traditional SRL: active / passive swap with people': 1,\n",
       " 'traditional SRL: wrong active / passive swap with people': 0,\n",
       " 'A or B is not the same as C and D': 0,\n",
       " 'A or B is not the same as A and B': 0,\n",
       " 'A and / or B is the same as B and / or A': 1,\n",
       " 'a {nationality} {profession} = a {profession} and {nationality}': 1,\n",
       " 'Reflexivity: (q, q) should be duplicate': 1,\n",
       " 'Symmetry: f(a, b) = f(b, a)': None,\n",
       " 'Testing implications': None}"
      ]
     },
     "execution_count": 30,
     "metadata": {},
     "output_type": "execute_result"
    }
   ],
   "source": [
    "func_to_label"
   ]
  },
  {
   "cell_type": "code",
   "execution_count": 31,
   "id": "7ab4bf8c",
   "metadata": {},
   "outputs": [],
   "source": [
    "clas_to_func_with_label = {}\n",
    "for cls, funcs in class_to_func.items():\n",
    "    for func in funcs:\n",
    "        clas_to_func_with_label.setdefault(cls, {})[func] = func_to_label[func]"
   ]
  },
  {
   "cell_type": "code",
   "execution_count": 32,
   "id": "41bd95ea",
   "metadata": {},
   "outputs": [
    {
     "data": {
      "text/plain": [
       "{'Vocabulary': {'Irrelevant modifiers - animals': 1,\n",
       "  'different adjectives': 0,\n",
       "  'How can I become more X != How can I become less X': 0,\n",
       "  'Irrelevant preamble with different examples.': 1,\n",
       "  'Preamble is relevant (different injuries)': 0,\n",
       "  'Modifier: adj': 0,\n",
       "  'Irrelevant modifiers - people': 1,\n",
       "  'Different animals': 0},\n",
       " 'Taxonomy': {'(question, f(question)) where f(question) replaces synonyms?': None,\n",
       "  'Replace synonyms in real pairs': None,\n",
       "  'How can I become more {synonym}?': 1,\n",
       "  'How can I become more X = How can I become less antonym(X)': 1},\n",
       " 'Robustness': {'(q, paraphrase(q))': None,\n",
       "  'contrations': None,\n",
       "  'Product of paraphrases(q1) * paraphrases(q2)': None,\n",
       "  'add one typo': None},\n",
       " 'NER': {'Keep entitites, fill in with gibberish': None,\n",
       "  'same adjectives, different people v3': 0,\n",
       "  'same adjectives, different people': 0,\n",
       "  'Change location in one of the questions': None,\n",
       "  'Change numbers in one of the questions': None,\n",
       "  'Change same number in both questions': None,\n",
       "  'Change first name in one of the questions': None,\n",
       "  'Change same location in both questions': None,\n",
       "  'Change first and last name in one of the questions': None,\n",
       "  'Change same name in both questions': None,\n",
       "  'same adjectives, different people v2': 0},\n",
       " 'Temporal': {'Is person X != Did person use to be X': 0,\n",
       "  'Do you have to X your dog before Y it != Do you have to X your dog after Y it.': 0,\n",
       "  'Is it {ok, dangerous, ...} to {smoke, rest, ...} after != before': 0,\n",
       "  \"What was person's life before becoming X != What was person's life after becoming X\": 0,\n",
       "  'Is person X != Is person becoming X': 0},\n",
       " 'Negation': {'What are things a {noun} should worry about != should not worry about.': 0,\n",
       "  'How can I become a X person != How can I become a person who is not X': 0,\n",
       "  'How can I become a X person == How can I become a person who is not antonym(X)': 1,\n",
       "  'Is it {ok, dangerous, ...} to {smoke, rest, ...} in country != Is it {ok, dangerous, ...} not to {smoke, rest, ...} in country': 0},\n",
       " 'Coref': {'Simple coref: his and her': 0, 'Simple coref: he and she': 0},\n",
       " 'SRL': {'traditional SRL: active / passive swap': 1,\n",
       "  'traditional SRL: wrong active / passive swap': 0,\n",
       "  'Order does not matter for comparison': 1,\n",
       "  'Order does not matter for symmetric relations': 1,\n",
       "  'Order does matter for asymmetric relations': 0,\n",
       "  'traditional SRL: active / passive swap with people': 1,\n",
       "  'Who do X think - Who is the ... according to X': 1,\n",
       "  'traditional SRL: wrong active / passive swap with people': 0},\n",
       " 'Logic': {'Testing implications': None,\n",
       "  'A or B is not the same as A and B': 0,\n",
       "  'Symmetry: f(a, b) = f(b, a)': None,\n",
       "  'Reflexivity: (q, q) should be duplicate': 1,\n",
       "  'A and / or B is the same as B and / or A': 1,\n",
       "  'A or B is not the same as C and D': 0,\n",
       "  'a {nationality} {profession} = a {profession} and {nationality}': 1}}"
      ]
     },
     "execution_count": 32,
     "metadata": {},
     "output_type": "execute_result"
    }
   ],
   "source": [
    "clas_to_func_with_label"
   ]
  },
  {
   "cell_type": "code",
   "execution_count": 33,
   "id": "33211ee0",
   "metadata": {},
   "outputs": [],
   "source": [
    "with open(\"./data/pi/suite/class_to_funcs.pkl\", \"wb\") as file:\n",
    "    pickle.dump(clas_to_func_with_label, file, protocol=4)"
   ]
  },
  {
   "cell_type": "markdown",
   "id": "f01477da",
   "metadata": {},
   "source": [
    "### Hate Speech detection"
   ]
  },
  {
   "cell_type": "code",
   "execution_count": 2,
   "id": "379a12e0",
   "metadata": {},
   "outputs": [],
   "source": [
    "suite = pd.read_csv(config.hatecheck, index_col=0)"
   ]
  },
  {
   "cell_type": "code",
   "execution_count": 3,
   "id": "e5bc6f58",
   "metadata": {
    "scrolled": true
   },
   "outputs": [
    {
     "data": {
      "text/html": [
       "<div>\n",
       "<style scoped>\n",
       "    .dataframe tbody tr th:only-of-type {\n",
       "        vertical-align: middle;\n",
       "    }\n",
       "\n",
       "    .dataframe tbody tr th {\n",
       "        vertical-align: top;\n",
       "    }\n",
       "\n",
       "    .dataframe thead th {\n",
       "        text-align: right;\n",
       "    }\n",
       "</style>\n",
       "<table border=\"1\" class=\"dataframe\">\n",
       "  <thead>\n",
       "    <tr style=\"text-align: right;\">\n",
       "      <th></th>\n",
       "      <th>functionality</th>\n",
       "      <th>case_id</th>\n",
       "      <th>test_case</th>\n",
       "      <th>label_gold</th>\n",
       "      <th>target_ident</th>\n",
       "      <th>direction</th>\n",
       "      <th>focus_words</th>\n",
       "      <th>focus_lemma</th>\n",
       "      <th>ref_case_id</th>\n",
       "      <th>ref_templ_id</th>\n",
       "      <th>templ_id</th>\n",
       "      <th>case_templ</th>\n",
       "    </tr>\n",
       "  </thead>\n",
       "  <tbody>\n",
       "    <tr>\n",
       "      <th>0</th>\n",
       "      <td>derog_neg_emote_h</td>\n",
       "      <td>1</td>\n",
       "      <td>I hate women.</td>\n",
       "      <td>hateful</td>\n",
       "      <td>women</td>\n",
       "      <td>general</td>\n",
       "      <td>hate</td>\n",
       "      <td>hate</td>\n",
       "      <td>NaN</td>\n",
       "      <td>NaN</td>\n",
       "      <td>1</td>\n",
       "      <td>I hate [IDENTITY_P].</td>\n",
       "    </tr>\n",
       "    <tr>\n",
       "      <th>1</th>\n",
       "      <td>derog_neg_emote_h</td>\n",
       "      <td>2</td>\n",
       "      <td>I hate trans people.</td>\n",
       "      <td>hateful</td>\n",
       "      <td>trans people</td>\n",
       "      <td>general</td>\n",
       "      <td>hate</td>\n",
       "      <td>hate</td>\n",
       "      <td>NaN</td>\n",
       "      <td>NaN</td>\n",
       "      <td>1</td>\n",
       "      <td>I hate [IDENTITY_P].</td>\n",
       "    </tr>\n",
       "    <tr>\n",
       "      <th>2</th>\n",
       "      <td>derog_neg_emote_h</td>\n",
       "      <td>3</td>\n",
       "      <td>I hate gay people.</td>\n",
       "      <td>hateful</td>\n",
       "      <td>gay people</td>\n",
       "      <td>general</td>\n",
       "      <td>hate</td>\n",
       "      <td>hate</td>\n",
       "      <td>NaN</td>\n",
       "      <td>NaN</td>\n",
       "      <td>1</td>\n",
       "      <td>I hate [IDENTITY_P].</td>\n",
       "    </tr>\n",
       "    <tr>\n",
       "      <th>3</th>\n",
       "      <td>derog_neg_emote_h</td>\n",
       "      <td>4</td>\n",
       "      <td>I hate black people.</td>\n",
       "      <td>hateful</td>\n",
       "      <td>black people</td>\n",
       "      <td>general</td>\n",
       "      <td>hate</td>\n",
       "      <td>hate</td>\n",
       "      <td>NaN</td>\n",
       "      <td>NaN</td>\n",
       "      <td>1</td>\n",
       "      <td>I hate [IDENTITY_P].</td>\n",
       "    </tr>\n",
       "    <tr>\n",
       "      <th>4</th>\n",
       "      <td>derog_neg_emote_h</td>\n",
       "      <td>5</td>\n",
       "      <td>I hate disabled people.</td>\n",
       "      <td>hateful</td>\n",
       "      <td>disabled people</td>\n",
       "      <td>general</td>\n",
       "      <td>hate</td>\n",
       "      <td>hate</td>\n",
       "      <td>NaN</td>\n",
       "      <td>NaN</td>\n",
       "      <td>1</td>\n",
       "      <td>I hate [IDENTITY_P].</td>\n",
       "    </tr>\n",
       "  </tbody>\n",
       "</table>\n",
       "</div>"
      ],
      "text/plain": [
       "       functionality  case_id                 test_case label_gold  \\\n",
       "0  derog_neg_emote_h        1            I hate women.     hateful   \n",
       "1  derog_neg_emote_h        2     I hate trans people.     hateful   \n",
       "2  derog_neg_emote_h        3       I hate gay people.     hateful   \n",
       "3  derog_neg_emote_h        4     I hate black people.     hateful   \n",
       "4  derog_neg_emote_h        5  I hate disabled people.     hateful   \n",
       "\n",
       "      target_ident direction focus_words focus_lemma  ref_case_id  \\\n",
       "0            women   general        hate        hate          NaN   \n",
       "1     trans people   general        hate        hate          NaN   \n",
       "2       gay people   general        hate        hate          NaN   \n",
       "3     black people   general        hate        hate          NaN   \n",
       "4  disabled people   general        hate        hate          NaN   \n",
       "\n",
       "   ref_templ_id  templ_id            case_templ  \n",
       "0           NaN         1  I hate [IDENTITY_P].  \n",
       "1           NaN         1  I hate [IDENTITY_P].  \n",
       "2           NaN         1  I hate [IDENTITY_P].  \n",
       "3           NaN         1  I hate [IDENTITY_P].  \n",
       "4           NaN         1  I hate [IDENTITY_P].  "
      ]
     },
     "execution_count": 3,
     "metadata": {},
     "output_type": "execute_result"
    }
   ],
   "source": [
    "suite.head()"
   ]
  },
  {
   "cell_type": "code",
   "execution_count": 4,
   "id": "f49007ab",
   "metadata": {},
   "outputs": [
    {
     "data": {
      "text/plain": [
       "array(['derog_neg_emote_h', 'derog_neg_attrib_h', 'derog_dehum_h',\n",
       "       'derog_impl_h', 'threat_dir_h', 'threat_norm_h', 'slur_h',\n",
       "       'slur_homonym_nh', 'slur_reclaimed_nh', 'profanity_h',\n",
       "       'profanity_nh', 'ref_subs_clause_h', 'ref_subs_sent_h',\n",
       "       'negate_pos_h', 'negate_neg_nh', 'phrase_question_h',\n",
       "       'phrase_opinion_h', 'ident_neutral_nh', 'ident_pos_nh',\n",
       "       'counter_quote_nh', 'counter_ref_nh', 'target_obj_nh',\n",
       "       'target_indiv_nh', 'target_group_nh', 'spell_char_swap_h',\n",
       "       'spell_char_del_h', 'spell_space_del_h', 'spell_space_add_h',\n",
       "       'spell_leet_h'], dtype=object)"
      ]
     },
     "execution_count": 4,
     "metadata": {},
     "output_type": "execute_result"
    }
   ],
   "source": [
    "funcs = suite.functionality.unique(); funcs"
   ]
  },
  {
   "cell_type": "code",
   "execution_count": 5,
   "id": "3888cd3c",
   "metadata": {},
   "outputs": [
    {
     "name": "stdout",
     "output_type": "stream",
     "text": [
      "'derog_neg_emote_h': ,\n",
      "'derog_neg_attrib_h': ,\n",
      "'derog_dehum_h': ,\n",
      "'derog_impl_h': ,\n",
      "'threat_dir_h': ,\n",
      "'threat_norm_h': ,\n",
      "'slur_h': ,\n",
      "'slur_homonym_nh': ,\n",
      "'slur_reclaimed_nh': ,\n",
      "'profanity_h': ,\n",
      "'profanity_nh': ,\n",
      "'ref_subs_clause_h': ,\n",
      "'ref_subs_sent_h': ,\n",
      "'negate_pos_h': ,\n",
      "'negate_neg_nh': ,\n",
      "'phrase_question_h': ,\n",
      "'phrase_opinion_h': ,\n",
      "'ident_neutral_nh': ,\n",
      "'ident_pos_nh': ,\n",
      "'counter_quote_nh': ,\n",
      "'counter_ref_nh': ,\n",
      "'target_obj_nh': ,\n",
      "'target_indiv_nh': ,\n",
      "'target_group_nh': ,\n",
      "'spell_char_swap_h': ,\n",
      "'spell_char_del_h': ,\n",
      "'spell_space_del_h': ,\n",
      "'spell_space_add_h': ,\n",
      "'spell_leet_h': ,\n"
     ]
    }
   ],
   "source": [
    "for func in funcs:\n",
    "    print(f\"'{func}': ,\")"
   ]
  },
  {
   "cell_type": "code",
   "execution_count": 8,
   "id": "a86e7fae",
   "metadata": {},
   "outputs": [],
   "source": [
    "func_descriptions = {\n",
    "    'derog_neg_emote_h': 'strong negative emotions explicitly expressed about a protected group or its members should be hateful',\n",
    "    'derog_neg_attrib_h': 'explicit descriptions of a protected group or its members using very negative attributes should be hateful',\n",
    "    'derog_dehum_h': 'explicit dehumanisation of a protected group or its members should be hateful',\n",
    "    'derog_impl_h': 'implicit derogation of a protected group or its members should be hateful',\n",
    "    'threat_dir_h': 'direct threats against a protected group or its members should be hateful',\n",
    "    'threat_norm_h': 'threats expressed as normative statements should be hateful' ,\n",
    "    'slur_h': 'hate expressed using slurs should be hateful',\n",
    "    'slur_homonym_nh': 'non-hateful homonyms of slur should be not hateful',\n",
    "    'slur_reclaimed_nh': 'use of reclaimed slurs should be not hateful',\n",
    "    'profanity_h': 'hate expressed using profanity should be hateful',\n",
    "    'profanity_nh': 'non-hateful uses of profanity should be not hateful',\n",
    "    'ref_subs_clause_h': 'hate expressed through pronoun reference in subsequent clauses should be hateful',\n",
    "    'ref_subs_sent_h': 'hate expressed through pronoun reference in subsequent sentences should be hateful',\n",
    "    'negate_pos_h': 'hate expressed using negated positive statements should be hateful',\n",
    "    'negate_neg_nh': 'non-hate expressed using negated hateful statements should be not hateful',\n",
    "    'phrase_question_h': 'hate phrased as a question should be hateful',\n",
    "    'phrase_opinion_h': 'hate phrased as an opinion should be hateful',\n",
    "    'ident_neutral_nh': 'neutral statements using protected group identifiers should be not hateful',\n",
    "    'ident_pos_nh': 'positive statements using protected group identifiers should be not hateful',\n",
    "    'counter_quote_nh': 'denouncements of hate that quote it should be not hateful',\n",
    "    'counter_ref_nh': 'denouncements of hate that make direct reference to it should be not hateful',\n",
    "    'target_obj_nh': 'abuse targeted at objects should be not hateful',\n",
    "    'target_indiv_nh': 'abuse targeted at individuals not referencing membership in a protected group should be not fateful',\n",
    "    'target_group_nh': 'abuse targeted at non-protected groups (e.g. professions) should be not hateful',\n",
    "    'spell_char_swap_h': 'hateful language obfuscated through swaps of adjacent characters should be hateful',\n",
    "    'spell_char_del_h': 'hateful language obfuscated through missing characters should be hateful',\n",
    "    'spell_space_del_h': 'hateful language obfuscated through missing word boundaries should be hateful',\n",
    "    'spell_space_add_h': 'hateful language obfuscated through added spaces between characters should be hateful',\n",
    "    'spell_leet_h': 'hateful language obfuscated through leet speak should be hateful',\n",
    "\n",
    "}"
   ]
  },
  {
   "cell_type": "code",
   "execution_count": 9,
   "id": "e4cc4d97",
   "metadata": {},
   "outputs": [
    {
     "data": {
      "text/plain": [
       "{'derog_neg_emote_h': 'strong negative emotions explicitly expressed about a protected group or its members should be hateful',\n",
       " 'derog_neg_attrib_h': 'explicit descriptions of a protected group or its members using very negative attributes should be hateful',\n",
       " 'derog_dehum_h': 'explicit dehumanisation of a protected group or its members should be hateful',\n",
       " 'derog_impl_h': 'implicit derogation of a protected group or its members should be hateful',\n",
       " 'threat_dir_h': 'direct threats against a protected group or its members should be hateful',\n",
       " 'threat_norm_h': 'threats expressed as normative statements should be hateful',\n",
       " 'slur_h': 'hate expressed using slurs should be hateful',\n",
       " 'slur_homonym_nh': 'non-hateful homonyms of slur should be not hateful',\n",
       " 'slur_reclaimed_nh': 'use of reclaimed slurs should be not hateful',\n",
       " 'profanity_h': 'hate expressed using profanity should be hateful',\n",
       " 'profanity_nh': 'non-hateful uses of profanity should be not hateful',\n",
       " 'ref_subs_clause_h': 'hate expressed through pronoun reference in subsequent clauses should be hateful',\n",
       " 'ref_subs_sent_h': 'hate expressed through pronoun reference in subsequent sentences should be hateful',\n",
       " 'negate_pos_h': 'hate expressed using negated positive statements should be hateful',\n",
       " 'negate_neg_nh': 'non-hate expressed using negated hateful statements should be not hateful',\n",
       " 'phrase_question_h': 'hate phrased as a question should be hateful',\n",
       " 'phrase_opinion_h': 'hate phrased as an opinion should be hateful',\n",
       " 'ident_neutral_nh': 'neutral statements using protected group identifiers should be not hateful',\n",
       " 'ident_pos_nh': 'positive statements using protected group identifiers should be not hateful',\n",
       " 'counter_quote_nh': 'denouncements of hate that quote it should be not hateful',\n",
       " 'counter_ref_nh': 'denouncements of hate that make direct reference to it should be not hateful',\n",
       " 'target_obj_nh': 'abuse targeted at objects should be not hateful',\n",
       " 'target_indiv_nh': 'abuse targeted at individuals not referencing membership in a protected group should be not fateful',\n",
       " 'target_group_nh': 'abuse targeted at non-protected groups (e.g. professions) should be not hateful',\n",
       " 'spell_char_swap_h': 'hateful language obfuscated through swaps of adjacent characters should be hateful',\n",
       " 'spell_char_del_h': 'hateful language obfuscated through missing characters should be hateful',\n",
       " 'spell_space_del_h': 'hateful language obfuscated through missing word boundaries should be hateful',\n",
       " 'spell_space_add_h': 'hateful language obfuscated through added spaces between characters should be hateful',\n",
       " 'spell_leet_h': 'hateful language obfuscated through leet speak should be hateful'}"
      ]
     },
     "execution_count": 9,
     "metadata": {},
     "output_type": "execute_result"
    }
   ],
   "source": [
    "func_descriptions"
   ]
  },
  {
   "cell_type": "code",
   "execution_count": 10,
   "id": "09892f34",
   "metadata": {},
   "outputs": [],
   "source": [
    "with open(\"./data/hsd/suite/func_desc.pkl\", \"wb\") as file:\n",
    "    pickle.dump(func_descriptions, file, protocol=4)"
   ]
  },
  {
   "cell_type": "code",
   "execution_count": 13,
   "id": "79d52921",
   "metadata": {},
   "outputs": [
    {
     "data": {
      "text/plain": [
       "array(['derog_neg_emote_h', 'derog_neg_attrib_h', 'derog_dehum_h',\n",
       "       'derog_impl_h', 'threat_dir_h', 'threat_norm_h', 'slur_h',\n",
       "       'slur_homonym_nh', 'slur_reclaimed_nh', 'profanity_h',\n",
       "       'profanity_nh', 'ref_subs_clause_h', 'ref_subs_sent_h',\n",
       "       'negate_pos_h', 'negate_neg_nh', 'phrase_question_h',\n",
       "       'phrase_opinion_h', 'ident_neutral_nh', 'ident_pos_nh',\n",
       "       'counter_quote_nh', 'counter_ref_nh', 'target_obj_nh',\n",
       "       'target_indiv_nh', 'target_group_nh', 'spell_char_swap_h',\n",
       "       'spell_char_del_h', 'spell_space_del_h', 'spell_space_add_h',\n",
       "       'spell_leet_h'], dtype=object)"
      ]
     },
     "execution_count": 13,
     "metadata": {},
     "output_type": "execute_result"
    }
   ],
   "source": [
    "funcs"
   ]
  },
  {
   "cell_type": "code",
   "execution_count": 14,
   "id": "c334000e",
   "metadata": {},
   "outputs": [],
   "source": [
    "class_to_func = {}\n",
    "for func in funcs:\n",
    "    class_to_func.setdefault(func.split(\"_\")[0], set()).update([func])"
   ]
  },
  {
   "cell_type": "code",
   "execution_count": 15,
   "id": "c206a46c",
   "metadata": {},
   "outputs": [
    {
     "data": {
      "text/plain": [
       "{'derog': {'derog_dehum_h',\n",
       "  'derog_impl_h',\n",
       "  'derog_neg_attrib_h',\n",
       "  'derog_neg_emote_h'},\n",
       " 'threat': {'threat_dir_h', 'threat_norm_h'},\n",
       " 'slur': {'slur_h', 'slur_homonym_nh', 'slur_reclaimed_nh'},\n",
       " 'profanity': {'profanity_h', 'profanity_nh'},\n",
       " 'ref': {'ref_subs_clause_h', 'ref_subs_sent_h'},\n",
       " 'negate': {'negate_neg_nh', 'negate_pos_h'},\n",
       " 'phrase': {'phrase_opinion_h', 'phrase_question_h'},\n",
       " 'ident': {'ident_neutral_nh', 'ident_pos_nh'},\n",
       " 'counter': {'counter_quote_nh', 'counter_ref_nh'},\n",
       " 'target': {'target_group_nh', 'target_indiv_nh', 'target_obj_nh'},\n",
       " 'spell': {'spell_char_del_h',\n",
       "  'spell_char_swap_h',\n",
       "  'spell_leet_h',\n",
       "  'spell_space_add_h',\n",
       "  'spell_space_del_h'}}"
      ]
     },
     "execution_count": 15,
     "metadata": {},
     "output_type": "execute_result"
    }
   ],
   "source": [
    "class_to_func"
   ]
  },
  {
   "cell_type": "code",
   "execution_count": 16,
   "id": "45881952",
   "metadata": {},
   "outputs": [],
   "source": [
    "func_to_label = {}\n",
    "for func in funcs:\n",
    "    func_to_label[func] = 1 if func.split(\"_\")[-1] == \"h\" else 0"
   ]
  },
  {
   "cell_type": "code",
   "execution_count": 17,
   "id": "03569bda",
   "metadata": {},
   "outputs": [
    {
     "data": {
      "text/plain": [
       "{'derog_neg_emote_h': 1,\n",
       " 'derog_neg_attrib_h': 1,\n",
       " 'derog_dehum_h': 1,\n",
       " 'derog_impl_h': 1,\n",
       " 'threat_dir_h': 1,\n",
       " 'threat_norm_h': 1,\n",
       " 'slur_h': 1,\n",
       " 'slur_homonym_nh': 0,\n",
       " 'slur_reclaimed_nh': 0,\n",
       " 'profanity_h': 1,\n",
       " 'profanity_nh': 0,\n",
       " 'ref_subs_clause_h': 1,\n",
       " 'ref_subs_sent_h': 1,\n",
       " 'negate_pos_h': 1,\n",
       " 'negate_neg_nh': 0,\n",
       " 'phrase_question_h': 1,\n",
       " 'phrase_opinion_h': 1,\n",
       " 'ident_neutral_nh': 0,\n",
       " 'ident_pos_nh': 0,\n",
       " 'counter_quote_nh': 0,\n",
       " 'counter_ref_nh': 0,\n",
       " 'target_obj_nh': 0,\n",
       " 'target_indiv_nh': 0,\n",
       " 'target_group_nh': 0,\n",
       " 'spell_char_swap_h': 1,\n",
       " 'spell_char_del_h': 1,\n",
       " 'spell_space_del_h': 1,\n",
       " 'spell_space_add_h': 1,\n",
       " 'spell_leet_h': 1}"
      ]
     },
     "execution_count": 17,
     "metadata": {},
     "output_type": "execute_result"
    }
   ],
   "source": [
    "func_to_label"
   ]
  },
  {
   "cell_type": "code",
   "execution_count": 18,
   "id": "066588f9",
   "metadata": {},
   "outputs": [],
   "source": [
    "clas_to_func_with_label = {}\n",
    "for cls, funcs in class_to_func.items():\n",
    "    for func in funcs:\n",
    "        clas_to_func_with_label.setdefault(cls, {})[func] = func_to_label[func]"
   ]
  },
  {
   "cell_type": "code",
   "execution_count": 19,
   "id": "54694978",
   "metadata": {},
   "outputs": [
    {
     "data": {
      "text/plain": [
       "{'derog': {'derog_neg_emote_h': 1,\n",
       "  'derog_neg_attrib_h': 1,\n",
       "  'derog_dehum_h': 1,\n",
       "  'derog_impl_h': 1},\n",
       " 'threat': {'threat_dir_h': 1, 'threat_norm_h': 1},\n",
       " 'slur': {'slur_homonym_nh': 0, 'slur_reclaimed_nh': 0, 'slur_h': 1},\n",
       " 'profanity': {'profanity_h': 1, 'profanity_nh': 0},\n",
       " 'ref': {'ref_subs_sent_h': 1, 'ref_subs_clause_h': 1},\n",
       " 'negate': {'negate_pos_h': 1, 'negate_neg_nh': 0},\n",
       " 'phrase': {'phrase_opinion_h': 1, 'phrase_question_h': 1},\n",
       " 'ident': {'ident_neutral_nh': 0, 'ident_pos_nh': 0},\n",
       " 'counter': {'counter_quote_nh': 0, 'counter_ref_nh': 0},\n",
       " 'target': {'target_group_nh': 0, 'target_indiv_nh': 0, 'target_obj_nh': 0},\n",
       " 'spell': {'spell_leet_h': 1,\n",
       "  'spell_space_add_h': 1,\n",
       "  'spell_char_del_h': 1,\n",
       "  'spell_space_del_h': 1,\n",
       "  'spell_char_swap_h': 1}}"
      ]
     },
     "execution_count": 19,
     "metadata": {},
     "output_type": "execute_result"
    }
   ],
   "source": [
    "clas_to_func_with_label"
   ]
  },
  {
   "cell_type": "code",
   "execution_count": 20,
   "id": "bcd70d1d",
   "metadata": {},
   "outputs": [],
   "source": [
    "with open(\"./data/hsd/suite/class_to_funcs.pkl\", \"wb\") as file:\n",
    "    pickle.dump(clas_to_func_with_label, file, protocol=4)"
   ]
  },
  {
   "cell_type": "markdown",
   "id": "6312e236",
   "metadata": {},
   "source": [
    "### Reading comprehension"
   ]
  },
  {
   "cell_type": "code",
   "execution_count": 35,
   "id": "52915f08",
   "metadata": {},
   "outputs": [],
   "source": [
    "suite = TestSuite.from_file(config.rc_suite)"
   ]
  },
  {
   "cell_type": "code",
   "execution_count": 36,
   "id": "68d96e4c",
   "metadata": {},
   "outputs": [
    {
     "data": {
      "text/plain": [
       "defaultdict(<function <lambda>()>,\n",
       "            {'A is COMP than B. Who is more / less COMP?': defaultdict(<function <lambda>()>,\n",
       "                         {'capability': 'Vocabulary', 'type': 'MFT'}),\n",
       "             'Intensifiers (very, super, extremely) and reducers (somewhat, kinda, etc)?': defaultdict(<function <lambda>()>,\n",
       "                         {'capability': 'Vocabulary', 'type': 'MFT'}),\n",
       "             'size, shape, age, color': defaultdict(<function <lambda>()>,\n",
       "                         {'capability': 'Taxonomy', 'type': 'MFT'}),\n",
       "             'Profession vs nationality': defaultdict(<function <lambda>()>,\n",
       "                         {'capability': 'Taxonomy', 'type': 'MFT'}),\n",
       "             'Animal vs Vehicle': defaultdict(<function <lambda>()>,\n",
       "                         {'capability': 'Taxonomy', 'type': 'MFT'}),\n",
       "             'Animal vs Vehicle v2': defaultdict(<function <lambda>()>,\n",
       "                         {'capability': 'Taxonomy', 'type': 'MFT'}),\n",
       "             'Synonyms': defaultdict(<function <lambda>()>,\n",
       "                         {'capability': 'Taxonomy', 'type': 'MFT'}),\n",
       "             'A is COMP than B. Who is antonym(COMP)? B': defaultdict(<function <lambda>()>,\n",
       "                         {'capability': 'Taxonomy', 'type': 'MFT'}),\n",
       "             'A is more X than B. Who is more antonym(X)? B. Who is less X? B. Who is more X? A. Who is less antonym(X)? A.': defaultdict(<function <lambda>()>,\n",
       "                         {'capability': 'Taxonomy', 'type': 'MFT'}),\n",
       "             'Question typo': defaultdict(<function <lambda>()>,\n",
       "                         {'capability': 'Robustness', 'type': 'INV'}),\n",
       "             'Question contractions': defaultdict(<function <lambda>()>,\n",
       "                         {'capability': 'Robustness', 'type': 'INV'}),\n",
       "             'Add random sentence to context': defaultdict(<function <lambda>()>,\n",
       "                         {'capability': 'Robustness', 'type': 'INV'}),\n",
       "             'Change name everywhere': defaultdict(<function <lambda>()>,\n",
       "                         {'capability': 'NER', 'type': 'INV'}),\n",
       "             'Change location everywhere': defaultdict(<function <lambda>()>,\n",
       "                         {'capability': 'NER', 'type': 'INV'}),\n",
       "             'There was a change in profession': defaultdict(<function <lambda>()>,\n",
       "                         {'capability': 'Temporal', 'type': 'MFT'}),\n",
       "             'Understanding before / after -> first / last.': defaultdict(<function <lambda>()>,\n",
       "                         {'capability': 'Temporal', 'type': 'MFT'}),\n",
       "             'Negation in context, may or may not be in question': defaultdict(<function <lambda>()>,\n",
       "                         {'capability': 'Negation', 'type': 'MFT'}),\n",
       "             'Negation in question only.': defaultdict(<function <lambda>()>,\n",
       "                         {'capability': 'Negation', 'type': 'MFT'}),\n",
       "             'M/F failure rates should be similar for different professions': defaultdict(<function <lambda>()>,\n",
       "                         {'capability': 'Fairness',\n",
       "                          'type': 'MFT',\n",
       "                          'description': 'Using negation in context.'}),\n",
       "             'Basic coref, he / she': defaultdict(<function <lambda>()>,\n",
       "                         {'capability': 'Coref', 'type': 'MFT'}),\n",
       "             'Basic coref, his / her': defaultdict(<function <lambda>()>,\n",
       "                         {'capability': 'Coref', 'type': 'MFT'}),\n",
       "             'Former / Latter': defaultdict(<function <lambda>()>,\n",
       "                         {'capability': 'Coref', 'type': 'MFT'}),\n",
       "             'Agent / object distinction': defaultdict(<function <lambda>()>,\n",
       "                         {'capability': 'SRL', 'type': 'MFT'}),\n",
       "             'Agent / object distinction with 3 agents': defaultdict(<function <lambda>()>,\n",
       "                         {'capability': 'SRL', 'type': 'MFT'})})"
      ]
     },
     "execution_count": 36,
     "metadata": {},
     "output_type": "execute_result"
    }
   ],
   "source": [
    "suite.info"
   ]
  },
  {
   "cell_type": "code",
   "execution_count": 38,
   "id": "c76d67bd",
   "metadata": {
    "scrolled": true
   },
   "outputs": [
    {
     "name": "stdout",
     "output_type": "stream",
     "text": [
      "'A is COMP than B. Who is more / less COMP?': ,\n",
      "'Intensifiers (very, super, extremely) and reducers (somewhat, kinda, etc)?': ,\n",
      "'size, shape, age, color': ,\n",
      "'Profession vs nationality': ,\n",
      "'Animal vs Vehicle': ,\n",
      "'Animal vs Vehicle v2': ,\n",
      "'Synonyms': ,\n",
      "'A is COMP than B. Who is antonym(COMP)? B': ,\n",
      "'A is more X than B. Who is more antonym(X)? B. Who is less X? B. Who is more X? A. Who is less antonym(X)? A.': ,\n",
      "'Question typo': ,\n",
      "'Question contractions': ,\n",
      "'Add random sentence to context': ,\n",
      "'Change name everywhere': ,\n",
      "'Change location everywhere': ,\n",
      "'There was a change in profession': ,\n",
      "'Understanding before / after -> first / last.': ,\n",
      "'Negation in context, may or may not be in question': ,\n",
      "'Negation in question only.': ,\n",
      "'M/F failure rates should be similar for different professions': ,\n",
      "'Basic coref, he / she': ,\n",
      "'Basic coref, his / her': ,\n",
      "'Former / Latter': ,\n",
      "'Agent / object distinction': ,\n",
      "'Agent / object distinction with 3 agents': ,\n"
     ]
    }
   ],
   "source": [
    "for v in suite.info.keys():\n",
    "    print(f\"'{v}': ,\")"
   ]
  },
  {
   "cell_type": "code",
   "execution_count": 41,
   "id": "9040b12e",
   "metadata": {},
   "outputs": [],
   "source": [
    "func_descriptions = {\n",
    "    'A is COMP than B. Who is more / less COMP?': 'if A is more X than B, then B is less X than A',\n",
    "    'Intensifiers (very, super, extremely) and reducers (somewhat, kinda, etc)?': 'if A is X and B is very/somewhat X, then A is least/most X and B is most/least X',\n",
    "    'size, shape, age, color': 'size, shape, age, and color are different concepts',\n",
    "    'Profession vs nationality': 'profession and nationality are different concepts',\n",
    "    'Animal vs Vehicle': 'animals and vehicles are different concepts',\n",
    "    'Animal vs Vehicle v2': 'animals and vehicles are different concepts',\n",
    "    'Synonyms': 'questions may contain synonyms from words in the context paragraph',\n",
    "    'A is COMP than B. Who is antonym(COMP)? B': 'if A is more X than B, then B is more antonym(X) than A',\n",
    "    'A is more X than B. Who is more antonym(X)? B. Who is less X? B. Who is more X? A. Who is less antonym(X)? A.': 'if A is more X than B, then B is more antonym(X) than A, and A is less antonym(X) than B',\n",
    "    'Question typo': 'typos in the questions are irrelevant to the answer',\n",
    "    'Question contractions': 'contractions in the question are irrelevant to the answer',\n",
    "    'Add random sentence to context': 'some passages in the context are irrelevant to the answer',\n",
    "    'Change name everywhere': 'names are equally important for the answer',\n",
    "    'Change location everywhere': 'locations are equally important for the answer',\n",
    "    'There was a change in profession': 'if A had profession X but changed to profession Y, then A has profession Y',\n",
    "    'Understanding before / after -> first / last.': 'first comes before last and last comes after first',\n",
    "    'Negation in context, may or may not be in question': 'negations are important for the answer',\n",
    "    'Negation in question only.': 'negations in the question are important for the answer',\n",
    "    'M/F failure rates should be similar for different professions': \"a person's gender is irrelevant to their profession\",\n",
    "    'Basic coref, he / she': '\"he\" refers to male names and \"she\" refers to female names',\n",
    "    'Basic coref, his / her': '\"his\" refer to male names and \"her\" refer to female names',\n",
    "    'Former / Latter': 'if two entities are listed, then \"former\" refers to the first and \"latter\" to the last',\n",
    "    'Agent / object distinction': 'in an active sentence, the subject acts the verb, but in a passive sentence, the subject is acted upon the verb',\n",
    "    'Agent / object distinction with 3 agents': 'in an active sentence, the subject acts the verb, but in a passive sentence, the subject is acted upon the verb',\n",
    "}"
   ]
  },
  {
   "cell_type": "code",
   "execution_count": 42,
   "id": "5c86f4ef",
   "metadata": {},
   "outputs": [
    {
     "data": {
      "text/plain": [
       "{'A is COMP than B. Who is more / less COMP?': 'if A is more X than B, then B is less X than A',\n",
       " 'Intensifiers (very, super, extremely) and reducers (somewhat, kinda, etc)?': 'if A is X and B is very/somewhat X, then A is least/most X and B is most/least X',\n",
       " 'size, shape, age, color': 'size, shape, age, and color are different concepts',\n",
       " 'Profession vs nationality': 'profession and nationality are different concepts',\n",
       " 'Animal vs Vehicle': 'animals and vehicles are different concepts',\n",
       " 'Animal vs Vehicle v2': 'animals and vehicles are different concepts',\n",
       " 'Synonyms': 'questions may contain synonyms from words in the context paragraph',\n",
       " 'A is COMP than B. Who is antonym(COMP)? B': 'if A is more X than B, then B is more antonym(X) than A',\n",
       " 'A is more X than B. Who is more antonym(X)? B. Who is less X? B. Who is more X? A. Who is less antonym(X)? A.': 'if A is more X than B, then B is more antonym(X) than A, and A is less antonym(X) than B',\n",
       " 'Question typo': 'typos in the questions are irrelevant to the answer',\n",
       " 'Question contractions': 'contractions in the question are irrelevant to the answer',\n",
       " 'Add random sentence to context': 'some passages in the context are irrelevant to the answer',\n",
       " 'Change name everywhere': 'names are equally important for the answer',\n",
       " 'Change location everywhere': 'locations are equally important for the answer',\n",
       " 'There was a change in profession': 'if A had profession X but changed to profession Y, then A has profession Y',\n",
       " 'Understanding before / after -> first / last.': 'first comes before last and last comes after first',\n",
       " 'Negation in context, may or may not be in question': 'negations are important for the answer',\n",
       " 'Negation in question only.': 'negations in the question are important for the answer',\n",
       " 'M/F failure rates should be similar for different professions': \"a person's gender is irrelevant to their profession\",\n",
       " 'Basic coref, he / she': '\"he\" refers to male names and \"she\" refers to female names',\n",
       " 'Basic coref, his / her': '\"his\" refer to male names and \"her\" refer to female names',\n",
       " 'Former / Latter': 'if two entities are listed, then \"former\" refers to the first and \"latter\" to the last',\n",
       " 'Agent / object distinction': 'in an active sentence, the subject acts the verb, but in a passive sentence, the subject is acted upon the verb',\n",
       " 'Agent / object distinction with 3 agents': 'in an active sentence, the subject acts the verb, but in a passive sentence, the subject is acted upon the verb'}"
      ]
     },
     "execution_count": 42,
     "metadata": {},
     "output_type": "execute_result"
    }
   ],
   "source": [
    "func_descriptions"
   ]
  },
  {
   "cell_type": "code",
   "execution_count": 43,
   "id": "c248a6f3",
   "metadata": {},
   "outputs": [],
   "source": [
    "with open(\"./data/rc/suite/func_desc.pkl\", \"wb\") as file:\n",
    "    pickle.dump(func_descriptions, file, protocol=4)"
   ]
  },
  {
   "cell_type": "code",
   "execution_count": 44,
   "id": "046423e2",
   "metadata": {},
   "outputs": [],
   "source": [
    "class_to_func = {}\n",
    "for func, info in suite.info.items():\n",
    "    class_to_func.setdefault(info[\"capability\"], set()).update([func])"
   ]
  },
  {
   "cell_type": "code",
   "execution_count": 45,
   "id": "634a12e4",
   "metadata": {},
   "outputs": [
    {
     "data": {
      "text/plain": [
       "{'Vocabulary': {'A is COMP than B. Who is more / less COMP?',\n",
       "  'Intensifiers (very, super, extremely) and reducers (somewhat, kinda, etc)?'},\n",
       " 'Taxonomy': {'A is COMP than B. Who is antonym(COMP)? B',\n",
       "  'A is more X than B. Who is more antonym(X)? B. Who is less X? B. Who is more X? A. Who is less antonym(X)? A.',\n",
       "  'Animal vs Vehicle',\n",
       "  'Animal vs Vehicle v2',\n",
       "  'Profession vs nationality',\n",
       "  'Synonyms',\n",
       "  'size, shape, age, color'},\n",
       " 'Robustness': {'Add random sentence to context',\n",
       "  'Question contractions',\n",
       "  'Question typo'},\n",
       " 'NER': {'Change location everywhere', 'Change name everywhere'},\n",
       " 'Temporal': {'There was a change in profession',\n",
       "  'Understanding before / after -> first / last.'},\n",
       " 'Negation': {'Negation in context, may or may not be in question',\n",
       "  'Negation in question only.'},\n",
       " 'Fairness': {'M/F failure rates should be similar for different professions'},\n",
       " 'Coref': {'Basic coref, he / she',\n",
       "  'Basic coref, his / her',\n",
       "  'Former / Latter'},\n",
       " 'SRL': {'Agent / object distinction',\n",
       "  'Agent / object distinction with 3 agents'}}"
      ]
     },
     "execution_count": 45,
     "metadata": {},
     "output_type": "execute_result"
    }
   ],
   "source": [
    "class_to_func"
   ]
  },
  {
   "cell_type": "code",
   "execution_count": 46,
   "id": "30262d08",
   "metadata": {},
   "outputs": [],
   "source": [
    "func_to_label = {}\n",
    "for func in suite.info.keys():\n",
    "    label = func_descriptions[func]\n",
    "    func_to_label[func] = label"
   ]
  },
  {
   "cell_type": "code",
   "execution_count": 47,
   "id": "e23bd1a0",
   "metadata": {},
   "outputs": [
    {
     "data": {
      "text/plain": [
       "{'A is COMP than B. Who is more / less COMP?': 'if A is more X than B, then B is less X than A',\n",
       " 'Intensifiers (very, super, extremely) and reducers (somewhat, kinda, etc)?': 'if A is X and B is very/somewhat X, then A is least/most X and B is most/least X',\n",
       " 'size, shape, age, color': 'size, shape, age, and color are different concepts',\n",
       " 'Profession vs nationality': 'profession and nationality are different concepts',\n",
       " 'Animal vs Vehicle': 'animals and vehicles are different concepts',\n",
       " 'Animal vs Vehicle v2': 'animals and vehicles are different concepts',\n",
       " 'Synonyms': 'questions may contain synonyms from words in the context paragraph',\n",
       " 'A is COMP than B. Who is antonym(COMP)? B': 'if A is more X than B, then B is more antonym(X) than A',\n",
       " 'A is more X than B. Who is more antonym(X)? B. Who is less X? B. Who is more X? A. Who is less antonym(X)? A.': 'if A is more X than B, then B is more antonym(X) than A, and A is less antonym(X) than B',\n",
       " 'Question typo': 'typos in the questions are irrelevant to the answer',\n",
       " 'Question contractions': 'contractions in the question are irrelevant to the answer',\n",
       " 'Add random sentence to context': 'some passages in the context are irrelevant to the answer',\n",
       " 'Change name everywhere': 'names are equally important for the answer',\n",
       " 'Change location everywhere': 'locations are equally important for the answer',\n",
       " 'There was a change in profession': 'if A had profession X but changed to profession Y, then A has profession Y',\n",
       " 'Understanding before / after -> first / last.': 'first comes before last and last comes after first',\n",
       " 'Negation in context, may or may not be in question': 'negations are important for the answer',\n",
       " 'Negation in question only.': 'negations in the question are important for the answer',\n",
       " 'M/F failure rates should be similar for different professions': \"a person's gender is irrelevant to their profession\",\n",
       " 'Basic coref, he / she': '\"he\" refers to male names and \"she\" refers to female names',\n",
       " 'Basic coref, his / her': '\"his\" refer to male names and \"her\" refer to female names',\n",
       " 'Former / Latter': 'if two entities are listed, then \"former\" refers to the first and \"latter\" to the last',\n",
       " 'Agent / object distinction': 'in an active sentence, the subject acts the verb, but in a passive sentence, the subject is acted upon the verb',\n",
       " 'Agent / object distinction with 3 agents': 'in an active sentence, the subject acts the verb, but in a passive sentence, the subject is acted upon the verb'}"
      ]
     },
     "execution_count": 47,
     "metadata": {},
     "output_type": "execute_result"
    }
   ],
   "source": [
    "func_to_label"
   ]
  },
  {
   "cell_type": "code",
   "execution_count": 48,
   "id": "8cc460b8",
   "metadata": {},
   "outputs": [],
   "source": [
    "clas_to_func_with_label = {}\n",
    "for cls, funcs in class_to_func.items():\n",
    "    for func in funcs:\n",
    "        clas_to_func_with_label.setdefault(cls, {})[func] = func_to_label[func]"
   ]
  },
  {
   "cell_type": "code",
   "execution_count": 49,
   "id": "2a01bf02",
   "metadata": {},
   "outputs": [
    {
     "data": {
      "text/plain": [
       "{'Vocabulary': {'Intensifiers (very, super, extremely) and reducers (somewhat, kinda, etc)?': 'if A is X and B is very/somewhat X, then A is least/most X and B is most/least X',\n",
       "  'A is COMP than B. Who is more / less COMP?': 'if A is more X than B, then B is less X than A'},\n",
       " 'Taxonomy': {'A is COMP than B. Who is antonym(COMP)? B': 'if A is more X than B, then B is more antonym(X) than A',\n",
       "  'A is more X than B. Who is more antonym(X)? B. Who is less X? B. Who is more X? A. Who is less antonym(X)? A.': 'if A is more X than B, then B is more antonym(X) than A, and A is less antonym(X) than B',\n",
       "  'Synonyms': 'questions may contain synonyms from words in the context paragraph',\n",
       "  'size, shape, age, color': 'size, shape, age, and color are different concepts',\n",
       "  'Animal vs Vehicle': 'animals and vehicles are different concepts',\n",
       "  'Animal vs Vehicle v2': 'animals and vehicles are different concepts',\n",
       "  'Profession vs nationality': 'profession and nationality are different concepts'},\n",
       " 'Robustness': {'Add random sentence to context': 'some passages in the context are irrelevant to the answer',\n",
       "  'Question typo': 'typos in the questions are irrelevant to the answer',\n",
       "  'Question contractions': 'contractions in the question are irrelevant to the answer'},\n",
       " 'NER': {'Change location everywhere': 'locations are equally important for the answer',\n",
       "  'Change name everywhere': 'names are equally important for the answer'},\n",
       " 'Temporal': {'There was a change in profession': 'if A had profession X but changed to profession Y, then A has profession Y',\n",
       "  'Understanding before / after -> first / last.': 'first comes before last and last comes after first'},\n",
       " 'Negation': {'Negation in question only.': 'negations in the question are important for the answer',\n",
       "  'Negation in context, may or may not be in question': 'negations are important for the answer'},\n",
       " 'Fairness': {'M/F failure rates should be similar for different professions': \"a person's gender is irrelevant to their profession\"},\n",
       " 'Coref': {'Basic coref, his / her': '\"his\" refer to male names and \"her\" refer to female names',\n",
       "  'Basic coref, he / she': '\"he\" refers to male names and \"she\" refers to female names',\n",
       "  'Former / Latter': 'if two entities are listed, then \"former\" refers to the first and \"latter\" to the last'},\n",
       " 'SRL': {'Agent / object distinction with 3 agents': 'in an active sentence, the subject acts the verb, but in a passive sentence, the subject is acted upon the verb',\n",
       "  'Agent / object distinction': 'in an active sentence, the subject acts the verb, but in a passive sentence, the subject is acted upon the verb'}}"
      ]
     },
     "execution_count": 49,
     "metadata": {},
     "output_type": "execute_result"
    }
   ],
   "source": [
    "clas_to_func_with_label"
   ]
  },
  {
   "cell_type": "code",
   "execution_count": 50,
   "id": "f4aa9da0",
   "metadata": {},
   "outputs": [],
   "source": [
    "with open(\"./data/rc/suite/class_to_funcs.pkl\", \"wb\") as file:\n",
    "    pickle.dump(clas_to_func_with_label, file, protocol=4)"
   ]
  },
  {
   "cell_type": "code",
   "execution_count": null,
   "id": "d45250cf",
   "metadata": {},
   "outputs": [],
   "source": []
  }
 ],
 "metadata": {
  "kernelspec": {
   "display_name": "checkList",
   "language": "python",
   "name": "checklist"
  },
  "language_info": {
   "codemirror_mode": {
    "name": "ipython",
    "version": 3
   },
   "file_extension": ".py",
   "mimetype": "text/x-python",
   "name": "python",
   "nbconvert_exporter": "python",
   "pygments_lexer": "ipython3",
   "version": "3.6.15"
  }
 },
 "nbformat": 4,
 "nbformat_minor": 5
}
