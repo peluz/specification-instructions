{
 "cells": [
  {
   "cell_type": "code",
   "execution_count": null,
   "id": "4317db75",
   "metadata": {},
   "outputs": [],
   "source": [
    "%load_ext autoreload\n",
    "%autoreload 2\n",
    "\n",
    "import pandas as pd\n",
    "import json\n",
    "import config\n",
    "from checklist.test_suite import TestSuite\n",
    "import pickle\n",
    "from data_sets.suite_utils import *\n",
    "# from utils.results import *\n",
    "from pathlib import Path"
   ]
  },
  {
   "cell_type": "code",
   "execution_count": null,
   "id": "9aa5fcc5",
   "metadata": {},
   "outputs": [],
   "source": [
    "import string\n",
    "import re\n",
    "\n",
    "def normalize_answer(s):\n",
    "    \"\"\"Lower text and remove punctuation, articles and extra whitespace.\"\"\"\n",
    "\n",
    "    def remove_articles(text):\n",
    "        return re.sub(r\"\\b(a|an|the)\\b\", \" \", text)\n",
    "\n",
    "    def white_space_fix(text):\n",
    "        return \" \".join(text.split())\n",
    "\n",
    "    def remove_punc(text):\n",
    "        exclude = set(string.punctuation)\n",
    "        return \"\".join(ch for ch in text if ch not in exclude)\n",
    "\n",
    "    def lower(text):\n",
    "        return text.lower()\n",
    "    return white_space_fix(remove_articles(remove_punc(lower(s))))"
   ]
  },
  {
   "cell_type": "code",
   "execution_count": null,
   "id": "c429a8e9",
   "metadata": {},
   "outputs": [],
   "source": [
    "task = \"pi\""
   ]
  },
  {
   "cell_type": "code",
   "execution_count": null,
   "id": "d9db8d4e",
   "metadata": {},
   "outputs": [],
   "source": [
    "results_path = Path(f\"./results/{task}/suite/\")"
   ]
  },
  {
   "cell_type": "code",
   "execution_count": null,
   "id": "1f79cc3b",
   "metadata": {},
   "outputs": [],
   "source": [
    "files = {}\n",
    "for children in results_path.rglob(f\"*.txt\"):\n",
    "    files[children.name[:-4]] = children"
   ]
  },
  {
   "cell_type": "code",
   "execution_count": null,
   "id": "bf90339e",
   "metadata": {},
   "outputs": [],
   "source": [
    "if task == \"sa\":\n",
    "    suite_path = config.sa_suite\n",
    "elif task == \"pi\":\n",
    "    suite_path = config.pi_suite\n",
    "elif task == \"rc\":\n",
    "    suite_path = config.rc_suite\n",
    "suite = TestSuite.from_file(suite_path)"
   ]
  },
  {
   "cell_type": "code",
   "execution_count": null,
   "id": "3811ddd7",
   "metadata": {},
   "outputs": [],
   "source": [
    "if task == \"rc\":\n",
    "    for test in suite.tests.values():\n",
    "        if test.labels is not None:\n",
    "            for idx, labels in enumerate(test.labels):\n",
    "                if type(labels) == str:\n",
    "                    test.labels[idx] = normalize_answer(labels)\n",
    "                elif type(labels) == list:\n",
    "                    for sample_labels in labels:\n",
    "                        test.labels[idx] = [normalize_answer(label) for label in labels]\n",
    "                else:\n",
    "                    print(type(labels))"
   ]
  },
  {
   "cell_type": "code",
   "execution_count": null,
   "id": "eb60609f",
   "metadata": {},
   "outputs": [],
   "source": [
    "with open(suite_path.parent/\"test_ids.pkl\", \"rb\") as file:\n",
    "    ids = pickle.load(file)"
   ]
  },
  {
   "cell_type": "code",
   "execution_count": null,
   "id": "b721d536",
   "metadata": {},
   "outputs": [],
   "source": [
    "fix_run_idxs(suite, ids)"
   ]
  },
  {
   "cell_type": "code",
   "execution_count": null,
   "id": "e7f9f65e",
   "metadata": {},
   "outputs": [],
   "source": [
    "for model, file in files.items():\n",
    "    output_path = Path(f\"{results_path}/{model}.csv\")\n",
    "    hits_path = Path(f\"{results_path}/{model}_hits.json\")\n",
    "    if output_path.exists() and hits_path.exists():\n",
    "        print(f\"Jumping saved {model} scores\")\n",
    "        continue\n",
    "    if task == \"sa\":\n",
    "        try:\n",
    "            suite.run_from_file(file, overwrite=True)\n",
    "        except IndexError:\n",
    "            print(f\"Problem with file {file}\")\n",
    "    elif task == \"pi\":\n",
    "        suite.run_from_file(file, file_format=\"pred_only\", overwrite=True)\n",
    "    elif task == \"rc\":\n",
    "        suite.run_from_file(file, file_format=\"pred_only\", overwrite=True)\n",
    "    results, all_hits = get_pass_rates(suite)\n",
    "    df = pd.DataFrame.from_dict({model: results}, orient=\"index\")\n",
    "    df[\"avg\"] = df.mean(axis=1)\n",
    "    if not output_path.exists():\n",
    "        df.to_csv(output_path)\n",
    "    with open(hits_path, \"w\") as file:\n",
    "        json.dump(all_hits, file)"
   ]
  }
 ],
 "metadata": {
  "kernelspec": {
   "display_name": "checkList",
   "language": "python",
   "name": "checklist"
  },
  "language_info": {
   "codemirror_mode": {
    "name": "ipython",
    "version": 3
   },
   "file_extension": ".py",
   "mimetype": "text/x-python",
   "name": "python",
   "nbconvert_exporter": "python",
   "pygments_lexer": "ipython3",
   "version": "3.6.15"
  }
 },
 "nbformat": 4,
 "nbformat_minor": 5
}
