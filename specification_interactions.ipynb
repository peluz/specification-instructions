{
 "cells": [
  {
   "cell_type": "code",
   "execution_count": null,
   "id": "1b59529a",
   "metadata": {},
   "outputs": [],
   "source": [
    "%load_ext autoreload\n",
    "%autoreload 2\n",
    "\n",
    "from pathlib import Path\n",
    "from datasets import load_dataset, load_metric\n",
    "from utils.results import *\n",
    "from data_sets.data_utils import load_hsd_dataset,  get_suite\n",
    "import numpy as np\n",
    "import pandas as pd\n",
    "import config\n",
    "import collections"
   ]
  },
  {
   "cell_type": "code",
   "execution_count": null,
   "id": "e8e6c8bf",
   "metadata": {},
   "outputs": [],
   "source": [
    "def get_diffs(df, ai_rules=False, score=\"seen\"):\n",
    "    df = df.set_index([\"model\", \"method\", \"score\"]).sort_index(key=lambda x: x.map(order))\n",
    "    diffs_df = pd.DataFrame()\n",
    "    if not ai_rules:\n",
    "        comps = [(\"Task+Rules\", \"Task\"),\n",
    "                 (\"Task+Rules+Ex\", \"Task+Ex\"),\n",
    "                 (\"Task+Rules(chatGPT)+Ex\", \"Task+Ex\"),\n",
    "                 (\"Task+Rules+Rat\", \"Task\"),\n",
    "                 (\"Task+Rules+Ex+Rat\", \"Task+Ex\")]\n",
    "    else:\n",
    "        comps = [(\"Task+Rules(chatGPT)+Ex\", \"Task+Rules+Ex\")]\n",
    "    for a,b in comps:\n",
    "        row = df[(df.index.isin([a], level=1)) & (df.index.isin([score], level=2))] - df[df.index.isin([b], level=1)].values\n",
    "        diffs_df = pd.concat([diffs_df, row], axis=0)\n",
    "    return diffs_df"
   ]
  },
  {
   "cell_type": "code",
   "execution_count": null,
   "id": "2870f77c",
   "metadata": {},
   "outputs": [],
   "source": [
    "def get_all_diffs(results, return_df=False):\n",
    "    df =pd.concat([x for x in results.values()])\n",
    "\n",
    "    df = process_df(df)\n",
    "\n",
    "    seen_baseline_diffs = get_diffs(df)\n",
    "\n",
    "    func_baseline_diffs = get_diffs(df, score=\"funcOut\")\n",
    "\n",
    "    class_baseline_diffs = get_diffs(df, score=\"classOut\")\n",
    "\n",
    "    func_seen_diffs = df[df.score==\"seen\"].sort_values([\"model\",\"method\"]).iloc[:,:-3] - df[df.score==\"funcOut\"].sort_values([\"model\",\"method\"]).iloc[:,:-3].values\n",
    "\n",
    "    class_seen_diffs = df[df.score==\"seen\"].sort_values([\"model\",\"method\"]).iloc[:,:-3] - df[df.score==\"classOut\"].sort_values([\"model\",\"method\"]).iloc[:,:-3].values\n",
    "\n",
    "    class_func_diffs = df[df.score==\"funcOut\"].sort_values([\"model\",\"method\"]).iloc[:,:-3] - df[df.score==\"classOut\"].sort_values([\"model\",\"method\"]).iloc[:,:-3].values\n",
    "\n",
    "    all_diffs = [seen_baseline_diffs, func_baseline_diffs, class_baseline_diffs, func_seen_diffs, class_seen_diffs, class_func_diffs]\n",
    "\n",
    "    diffs_df = pd.concat([x.mean().round(2) for x in all_diffs], axis=1)\n",
    "\n",
    "    diffs_df = diffs_df.rename(columns={i: col for i, col in enumerate([\"s-b\", \"f-b\", \"c-b\", \"s-f\", \"s-c\", \"f-c\"])})\n",
    "    \n",
    "    if not return_df:\n",
    "        return diffs_df\n",
    "    else:\n",
    "        return diffs_df, df"
   ]
  },
  {
   "cell_type": "code",
   "execution_count": null,
   "id": "7de4741b",
   "metadata": {},
   "outputs": [],
   "source": [
    "def get_sample_diffs(task, result_path, suite_test, path):\n",
    "    preds = load_results(result_path)\n",
    "\n",
    "    preds = {k: np.array(v) for k, v in preds.items() if \"seen\" in k or \"baseline\" in k or \"funcOut\" in k or \"classOut\" in k}\n",
    "\n",
    "    preds_df = pd.DataFrame.from_dict(preds, orient=\"index\")\n",
    "\n",
    "    df, test_idxs =suite_hits_df(\"pi\", path, suite_test)\n",
    "\n",
    "    keep_items = df.columns[~df.isna().any()].tolist()\n",
    "\n",
    "    df = df.dropna(1)\n",
    "\n",
    "    indices = [x[0] for x in list(test_idxs.values())]\n",
    "\n",
    "    suite_test = suite_test.select(indices =indices)\n",
    "\n",
    "    preds_df = preds_df[indices]\n",
    "\n",
    "    suite_test = suite_test.select(indices =keep_items[:-3])\n",
    "\n",
    "    preds_df = preds_df.T.iloc[keep_items[:-3]].T\n",
    "\n",
    "    sample_diffs = get_diffs(df).T.reset_index(drop=True)\n",
    "\n",
    "    sample_diffs[\"functionality\"] = suite_test[\"functionality\"]\n",
    "    return sample_diffs, preds_df, suite_test"
   ]
  },
  {
   "cell_type": "code",
   "execution_count": null,
   "id": "83c5a6b4",
   "metadata": {},
   "outputs": [],
   "source": [
    "all_dfs = []"
   ]
  },
  {
   "cell_type": "code",
   "execution_count": null,
   "id": "ef651003",
   "metadata": {},
   "outputs": [],
   "source": [
    "just_chatGPT = False"
   ]
  },
  {
   "cell_type": "markdown",
   "id": "35951283",
   "metadata": {},
   "source": [
    "### SA"
   ]
  },
  {
   "cell_type": "code",
   "execution_count": null,
   "id": "1a7c48b0",
   "metadata": {},
   "outputs": [],
   "source": [
    "result_path = Path(\"./results/sa/suite/\")"
   ]
  },
  {
   "cell_type": "code",
   "execution_count": null,
   "id": "b5afb8f8",
   "metadata": {},
   "outputs": [],
   "source": [
    "results = load_results(result_path, file_type=\"csv\")"
   ]
  },
  {
   "cell_type": "code",
   "execution_count": null,
   "id": "4c1d1b24",
   "metadata": {},
   "outputs": [],
   "source": [
    "results = {k: v for k, v in results.items() if \"seen\" in k or \"baseline\" in k or \"funcOut\" in k or \"classOut\" in k}"
   ]
  },
  {
   "cell_type": "code",
   "execution_count": null,
   "id": "3e5499bc",
   "metadata": {},
   "outputs": [],
   "source": [
    "if just_chatGPT:\n",
    "    results = {k: v for k, v in results.items() if k.split(\"_\")[0] == \"chatGPT\" and \"rules\" not in k}"
   ]
  },
  {
   "cell_type": "code",
   "execution_count": null,
   "id": "c9a7e56a",
   "metadata": {},
   "outputs": [],
   "source": [
    "diffs_df = get_all_diffs(results)"
   ]
  },
  {
   "cell_type": "code",
   "execution_count": null,
   "id": "5317443b",
   "metadata": {},
   "outputs": [],
   "source": [
    "all_dfs.append(diffs_df)"
   ]
  },
  {
   "cell_type": "markdown",
   "id": "18487bf0",
   "metadata": {},
   "source": [
    "### PI"
   ]
  },
  {
   "cell_type": "code",
   "execution_count": null,
   "id": "4c33265e",
   "metadata": {},
   "outputs": [],
   "source": [
    "result_path = Path(\"./results/pi/suite/\")"
   ]
  },
  {
   "cell_type": "code",
   "execution_count": null,
   "id": "88d38bab",
   "metadata": {},
   "outputs": [],
   "source": [
    "results = load_results(result_path, file_type=\"csv\")"
   ]
  },
  {
   "cell_type": "code",
   "execution_count": null,
   "id": "1e9f9af0",
   "metadata": {},
   "outputs": [],
   "source": [
    "results = {k: v for k, v in results.items() if \"seen\" in k or \"baseline\" in k or \"funcOut\" in k or \"classOut\" in k}"
   ]
  },
  {
   "cell_type": "code",
   "execution_count": null,
   "id": "e425cbc6",
   "metadata": {},
   "outputs": [],
   "source": [
    "if just_chatGPT:\n",
    "    results = {k: v for k, v in results.items() if k.split(\"_\")[0] == \"chatGPT\" and \"rules\" not in k}"
   ]
  },
  {
   "cell_type": "code",
   "execution_count": null,
   "id": "38cf6af4",
   "metadata": {},
   "outputs": [],
   "source": [
    "diffs_df, scores_df = get_all_diffs(results, return_df=True)"
   ]
  },
  {
   "cell_type": "code",
   "execution_count": null,
   "id": "835ebb88",
   "metadata": {},
   "outputs": [],
   "source": [
    "scores_df[scores_df.index.str.startswith(\"chat\")][\"Irrelevant preamble with different examples.\"]"
   ]
  },
  {
   "cell_type": "code",
   "execution_count": null,
   "id": "645f6dab",
   "metadata": {},
   "outputs": [],
   "source": [
    "all_dfs.append(diffs_df)"
   ]
  },
  {
   "cell_type": "markdown",
   "id": "e032d4d1",
   "metadata": {},
   "source": [
    "### RC"
   ]
  },
  {
   "cell_type": "code",
   "execution_count": null,
   "id": "c38b857f",
   "metadata": {},
   "outputs": [],
   "source": [
    "result_path = Path(\"./results/rc/suite/\")"
   ]
  },
  {
   "cell_type": "code",
   "execution_count": null,
   "id": "1154cb62",
   "metadata": {},
   "outputs": [],
   "source": [
    "results = load_results(result_path, file_type=\"csv\")"
   ]
  },
  {
   "cell_type": "code",
   "execution_count": null,
   "id": "3090d731",
   "metadata": {},
   "outputs": [],
   "source": [
    "results = {k: v for k, v in results.items() if \"seen\" in k or \"baseline\" in k or \"funcOut\" in k or \"classOut\" in k}"
   ]
  },
  {
   "cell_type": "code",
   "execution_count": null,
   "id": "48e5e4a0",
   "metadata": {},
   "outputs": [],
   "source": [
    "if just_chatGPT:\n",
    "    results = {k: v for k, v in results.items() if k.split(\"_\")[0] == \"chatGPT\" and \"rules\" not in k}"
   ]
  },
  {
   "cell_type": "code",
   "execution_count": null,
   "id": "e693df2b",
   "metadata": {},
   "outputs": [],
   "source": [
    "diffs_df = get_all_diffs(results)"
   ]
  },
  {
   "cell_type": "code",
   "execution_count": null,
   "id": "1e85b7e3",
   "metadata": {},
   "outputs": [],
   "source": [
    "all_dfs.append(diffs_df)"
   ]
  },
  {
   "cell_type": "markdown",
   "id": "ad4ce060",
   "metadata": {},
   "source": [
    "### HSD"
   ]
  },
  {
   "cell_type": "code",
   "execution_count": null,
   "id": "dd23e82e",
   "metadata": {},
   "outputs": [],
   "source": [
    "result_path = Path(\"./results/hsd/suite/\")"
   ]
  },
  {
   "cell_type": "code",
   "execution_count": null,
   "id": "49770466",
   "metadata": {},
   "outputs": [],
   "source": [
    "results = load_results(result_path, hatecheck=True)"
   ]
  },
  {
   "cell_type": "code",
   "execution_count": null,
   "id": "75495718",
   "metadata": {},
   "outputs": [],
   "source": [
    "results = {k: v for k, v in results.items() if \"seen\" in k or \"baseline\" in k or \"funcOut\" in k or \"classOut\" in k}"
   ]
  },
  {
   "cell_type": "code",
   "execution_count": null,
   "id": "1ed00d3a",
   "metadata": {},
   "outputs": [],
   "source": [
    "if just_chatGPT:\n",
    "    results = {k: v for k, v in results.items() if k.split(\"_\")[0] == \"chatGPT\" and \"rules\" not in k}"
   ]
  },
  {
   "cell_type": "code",
   "execution_count": null,
   "id": "a2ebc0b7",
   "metadata": {},
   "outputs": [],
   "source": [
    "diffs_df = get_all_diffs(results)"
   ]
  },
  {
   "cell_type": "code",
   "execution_count": null,
   "id": "8d85d7c3",
   "metadata": {},
   "outputs": [],
   "source": [
    "all_dfs.append(diffs_df)"
   ]
  },
  {
   "cell_type": "markdown",
   "id": "68df8ece",
   "metadata": {},
   "source": [
    "### Aggregate"
   ]
  },
  {
   "cell_type": "code",
   "execution_count": null,
   "id": "45ca5880",
   "metadata": {},
   "outputs": [],
   "source": [
    "for df in all_dfs:\n",
    "    print(df.mean())"
   ]
  },
  {
   "cell_type": "code",
   "execution_count": null,
   "id": "4991c5d1",
   "metadata": {},
   "outputs": [],
   "source": [
    "full_df = pd.concat(all_dfs)"
   ]
  },
  {
   "cell_type": "code",
   "execution_count": null,
   "id": "4e4875c1",
   "metadata": {},
   "outputs": [],
   "source": [
    "full_df = full_df[~full_df.index.isin([\"avg\"])]"
   ]
  },
  {
   "cell_type": "code",
   "execution_count": null,
   "id": "5b87a750",
   "metadata": {},
   "outputs": [],
   "source": [
    "full_df.mean()"
   ]
  },
  {
   "cell_type": "code",
   "execution_count": null,
   "id": "d690bd89",
   "metadata": {},
   "outputs": [],
   "source": [
    "full_df.head()"
   ]
  },
  {
   "cell_type": "code",
   "execution_count": null,
   "id": "2ee53084",
   "metadata": {
    "scrolled": true
   },
   "outputs": [],
   "source": [
    "full_df.sort_values(\"s-b\")"
   ]
  },
  {
   "cell_type": "code",
   "execution_count": null,
   "id": "3ad9a2cf",
   "metadata": {},
   "outputs": [],
   "source": [
    "full_df.sort_values(\"f-b\")"
   ]
  },
  {
   "cell_type": "code",
   "execution_count": null,
   "id": "94ba7ff4",
   "metadata": {},
   "outputs": [],
   "source": [
    "full_df.sort_values(\"c-b\")"
   ]
  },
  {
   "cell_type": "code",
   "execution_count": null,
   "id": "293617da",
   "metadata": {},
   "outputs": [],
   "source": [
    "path = Path(\"results/pi/suite/\")"
   ]
  },
  {
   "cell_type": "code",
   "execution_count": null,
   "id": "9776c742",
   "metadata": {},
   "outputs": [],
   "source": [
    "suite_test = get_suite(config.pi_path)[\"test\"]"
   ]
  },
  {
   "cell_type": "code",
   "execution_count": null,
   "id": "548721a4",
   "metadata": {},
   "outputs": [],
   "source": [
    "result_path = Path(\"./results/pi/suite/\")"
   ]
  },
  {
   "cell_type": "code",
   "execution_count": null,
   "id": "9e05cdaf",
   "metadata": {},
   "outputs": [],
   "source": [
    "sample_diffs_pi, preds_df_pi, suite_test_pi = get_sample_diffs(\"pi\", result_path, suite_test, path)"
   ]
  },
  {
   "cell_type": "code",
   "execution_count": null,
   "id": "28fbd435",
   "metadata": {},
   "outputs": [],
   "source": [
    "sample_diffs_pi[sample_diffs_pi.functionality==\"Simple coref: he and she\"].mean(1).sort_values()"
   ]
  },
  {
   "cell_type": "code",
   "execution_count": null,
   "id": "919bb3ba",
   "metadata": {},
   "outputs": [],
   "source": [
    "suite_test_pi[8882]"
   ]
  },
  {
   "cell_type": "code",
   "execution_count": null,
   "id": "fbfee6ab",
   "metadata": {},
   "outputs": [],
   "source": [
    "preds_df_pi.T.iloc[8882][\"chatGPT_baseline_zero\"]"
   ]
  },
  {
   "cell_type": "code",
   "execution_count": null,
   "id": "3d3d0be6",
   "metadata": {},
   "outputs": [],
   "source": [
    "preds_df_pi.T.iloc[8882][\"chatGPT_seen_example_with_rules\"]"
   ]
  },
  {
   "cell_type": "code",
   "execution_count": null,
   "id": "f0653d63",
   "metadata": {},
   "outputs": [],
   "source": [
    "sample_diffs_pi[sample_diffs_pi.functionality==\"Irrelevant preamble with different examples.\"].mean(1).sort_values()"
   ]
  },
  {
   "cell_type": "code",
   "execution_count": null,
   "id": "4a35e768",
   "metadata": {},
   "outputs": [],
   "source": [
    "suite_test_pi[1428]"
   ]
  },
  {
   "cell_type": "code",
   "execution_count": null,
   "id": "c5b9acb9",
   "metadata": {},
   "outputs": [],
   "source": [
    "preds_df_pi.T.iloc[1428][\"zephyr-7b-beta_baseline_example\"]"
   ]
  },
  {
   "cell_type": "code",
   "execution_count": null,
   "id": "18df95c9",
   "metadata": {},
   "outputs": [],
   "source": [
    "preds_df_pi.T.iloc[1428][\"zephyr-7b-beta_seen_example_with_rules\"]"
   ]
  },
  {
   "cell_type": "code",
   "execution_count": null,
   "id": "b75805ff",
   "metadata": {
    "scrolled": true
   },
   "outputs": [],
   "source": [
    "full_df.sort_values(\"s-f\")"
   ]
  },
  {
   "cell_type": "code",
   "execution_count": null,
   "id": "e90211ae",
   "metadata": {},
   "outputs": [],
   "source": [
    "path = Path(\"results/sa/suite/\")"
   ]
  },
  {
   "cell_type": "code",
   "execution_count": null,
   "id": "51754582",
   "metadata": {},
   "outputs": [],
   "source": [
    "suite_test = get_suite(config.sa_path)[\"test\"]"
   ]
  },
  {
   "cell_type": "code",
   "execution_count": null,
   "id": "72be4c54",
   "metadata": {},
   "outputs": [],
   "source": [
    "result_path = Path(\"./results/sa/suite/\")"
   ]
  },
  {
   "cell_type": "code",
   "execution_count": null,
   "id": "e27585df",
   "metadata": {},
   "outputs": [],
   "source": [
    "sample_diffs_sa, preds_df_sa, suite_test_sa = get_sample_diffs(\"sa\", result_path, suite_test, path)"
   ]
  },
  {
   "cell_type": "code",
   "execution_count": null,
   "id": "3245ddb4",
   "metadata": {},
   "outputs": [],
   "source": [
    "sample_diffs_pi[sample_diffs_pi.functionality==\"What are things a {noun} should worry about != should not worry about.\"].mean(1).sort_values()"
   ]
  },
  {
   "cell_type": "code",
   "execution_count": null,
   "id": "b0f53d9c",
   "metadata": {},
   "outputs": [],
   "source": [
    "suite_test_pi[7744]"
   ]
  },
  {
   "cell_type": "code",
   "execution_count": null,
   "id": "1c0ba4a4",
   "metadata": {},
   "outputs": [],
   "source": [
    "preds_df_pi.T.iloc[7744][\"chatGPT_seen_with_rules\"]"
   ]
  },
  {
   "cell_type": "code",
   "execution_count": null,
   "id": "5b3e05e5",
   "metadata": {},
   "outputs": [],
   "source": [
    "preds_df_pi.T.iloc[7744][\"chatGPT_funcOut_with_rules\"]"
   ]
  },
  {
   "cell_type": "code",
   "execution_count": null,
   "id": "372d2fcf",
   "metadata": {},
   "outputs": [],
   "source": [
    "sample_diffs_sa[sample_diffs_sa.functionality==\"single positive words\"].mean(1).sort_values()"
   ]
  },
  {
   "cell_type": "code",
   "execution_count": null,
   "id": "8277d31b",
   "metadata": {},
   "outputs": [],
   "source": [
    "suite_test_sa[2]"
   ]
  },
  {
   "cell_type": "code",
   "execution_count": null,
   "id": "1578f7c5",
   "metadata": {},
   "outputs": [],
   "source": [
    "preds_df_sa.T.iloc[2][\"chatGPT_seen_with_rules\"]"
   ]
  },
  {
   "cell_type": "code",
   "execution_count": null,
   "id": "621734c9",
   "metadata": {},
   "outputs": [],
   "source": [
    "preds_df_sa.T.iloc[2][\"chatGPT_funcOut_with_rules\"]"
   ]
  },
  {
   "cell_type": "code",
   "execution_count": null,
   "id": "50ef3c73",
   "metadata": {},
   "outputs": [],
   "source": [
    "full_df.sort_values(\"s-c\")"
   ]
  },
  {
   "cell_type": "code",
   "execution_count": null,
   "id": "4785bf88",
   "metadata": {},
   "outputs": [],
   "source": [
    "sample_diffs_sa[sample_diffs_sa.functionality==\"protected: sexual\"].mean(1).sort_values()"
   ]
  },
  {
   "cell_type": "code",
   "execution_count": null,
   "id": "fcd5dbb2",
   "metadata": {},
   "outputs": [],
   "source": [
    "suite_test_sa[8561]"
   ]
  },
  {
   "cell_type": "code",
   "execution_count": null,
   "id": "409336e6",
   "metadata": {},
   "outputs": [],
   "source": [
    "preds_df_sa.T.iloc[8561][\"chatGPT_seen_example_with_rules\"]"
   ]
  },
  {
   "cell_type": "code",
   "execution_count": null,
   "id": "9bd16d8c",
   "metadata": {},
   "outputs": [],
   "source": [
    "preds_df_sa.T.iloc[8561][\"chatGPT_classOut_example_with_rules\"]"
   ]
  },
  {
   "cell_type": "code",
   "execution_count": null,
   "id": "f34d93a3",
   "metadata": {},
   "outputs": [],
   "source": [
    "sample_diffs_sa[sample_diffs_sa.functionality==\"Q & A: yes (neutral)\"].mean(1).sort_values()"
   ]
  },
  {
   "cell_type": "code",
   "execution_count": null,
   "id": "6d565489",
   "metadata": {},
   "outputs": [],
   "source": [
    "suite_test_sa[19056]"
   ]
  },
  {
   "cell_type": "code",
   "execution_count": null,
   "id": "d6c41def",
   "metadata": {},
   "outputs": [],
   "source": [
    "preds_df_sa.T.iloc[19056][\"chatGPT_seen_example_with_rules\"]"
   ]
  },
  {
   "cell_type": "code",
   "execution_count": null,
   "id": "f67dbae9",
   "metadata": {},
   "outputs": [],
   "source": [
    "preds_df_sa.T.iloc[19056][\"chatGPT_classOut_example_with_rules\"]"
   ]
  },
  {
   "cell_type": "code",
   "execution_count": null,
   "id": "45d243e5",
   "metadata": {},
   "outputs": [],
   "source": [
    "full_df.sort_values(\"f-c\")"
   ]
  },
  {
   "cell_type": "code",
   "execution_count": null,
   "id": "4a97f30d",
   "metadata": {},
   "outputs": [],
   "source": [
    "sample_diffs_sa[sample_diffs_sa.functionality==\"neutral words in context\"].mean(1).sort_values()"
   ]
  },
  {
   "cell_type": "code",
   "execution_count": null,
   "id": "e926eecf",
   "metadata": {},
   "outputs": [],
   "source": [
    "suite_test_sa[2613]"
   ]
  },
  {
   "cell_type": "code",
   "execution_count": null,
   "id": "9d9137f2",
   "metadata": {},
   "outputs": [],
   "source": [
    "preds_df_sa.T.iloc[2613][\"chatGPT_funcOut_with_rules\"]"
   ]
  },
  {
   "cell_type": "code",
   "execution_count": null,
   "id": "e201b5df",
   "metadata": {},
   "outputs": [],
   "source": [
    "preds_df_sa.T.iloc[2613][\"chatGPT_classOut_with_rules\"]"
   ]
  },
  {
   "cell_type": "code",
   "execution_count": null,
   "id": "4a2dfe2a",
   "metadata": {},
   "outputs": [],
   "source": [
    "sample_diffs_sa[sample_diffs_sa.functionality==\"Q & A: yes (neutral)\"].mean(1).sort_values()"
   ]
  },
  {
   "cell_type": "code",
   "execution_count": null,
   "id": "7c9c950e",
   "metadata": {},
   "outputs": [],
   "source": [
    "suite_test_sa[18786]"
   ]
  },
  {
   "cell_type": "code",
   "execution_count": null,
   "id": "a771e936",
   "metadata": {},
   "outputs": [],
   "source": [
    "preds_df_sa.T.iloc[19047][\"chatGPT_funcOut_example_with_rules\"]"
   ]
  },
  {
   "cell_type": "code",
   "execution_count": null,
   "id": "f479030d",
   "metadata": {},
   "outputs": [],
   "source": [
    "preds_df_sa.T.iloc[19047][\"chatGPT_classOut_example_with_rules\"]"
   ]
  },
  {
   "cell_type": "code",
   "execution_count": null,
   "id": "70e749fb",
   "metadata": {},
   "outputs": [],
   "source": [
    "full_df.corr(method=\"kendall\")"
   ]
  },
  {
   "cell_type": "code",
   "execution_count": null,
   "id": "8a3fc287",
   "metadata": {},
   "outputs": [],
   "source": []
  }
 ],
 "metadata": {
  "kernelspec": {
   "display_name": "specification-instruction",
   "language": "python",
   "name": "specification-instruction"
  },
  "language_info": {
   "codemirror_mode": {
    "name": "ipython",
    "version": 3
   },
   "file_extension": ".py",
   "mimetype": "text/x-python",
   "name": "python",
   "nbconvert_exporter": "python",
   "pygments_lexer": "ipython3",
   "version": "3.10.9"
  }
 },
 "nbformat": 4,
 "nbformat_minor": 5
}
