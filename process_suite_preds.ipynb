{
 "cells": [
  {
   "cell_type": "code",
   "execution_count": null,
   "id": "1c6d95bd",
   "metadata": {},
   "outputs": [],
   "source": [
    "%load_ext autoreload\n",
    "%autoreload 2\n",
    "\n",
    "import pandas as pd\n",
    "import json\n",
    "import config\n",
    "import pickle\n",
    "from data_sets.suite_utils import *\n",
    "from utils.results import load_results, get_suite_preds\n",
    "from pathlib import Path"
   ]
  },
  {
   "cell_type": "code",
   "execution_count": null,
   "id": "848fe234",
   "metadata": {},
   "outputs": [],
   "source": [
    "task = \"pi\""
   ]
  },
  {
   "cell_type": "code",
   "execution_count": null,
   "id": "01f83f5a",
   "metadata": {},
   "outputs": [],
   "source": [
    "results_path = Path(f\"./results/{task}/suite/\")"
   ]
  },
  {
   "cell_type": "code",
   "execution_count": null,
   "id": "9ab734c9",
   "metadata": {},
   "outputs": [],
   "source": [
    "results = load_results(results_path)"
   ]
  },
  {
   "cell_type": "code",
   "execution_count": null,
   "id": "5904719f",
   "metadata": {},
   "outputs": [],
   "source": [
    "suite_preds = get_suite_preds(results, task)"
   ]
  },
  {
   "cell_type": "code",
   "execution_count": null,
   "id": "91e32f92",
   "metadata": {},
   "outputs": [],
   "source": [
    "for model, preds in suite_preds.items():\n",
    "    output_path = Path(f\"{results_path}/{model}.txt\")\n",
    "    if output_path.exists():\n",
    "        print(f\"Jumping computed {model} preds\")\n",
    "        continue\n",
    "    with open(output_path, \"w\") as file:\n",
    "        for pred in preds:\n",
    "            if task == \"sa\":\n",
    "                if pred  == 0:\n",
    "                    a, b, c = 1, 0, 0\n",
    "                elif pred == 1:\n",
    "                    a, b, c = 0, 1, 0\n",
    "                else:\n",
    "                    a, b, c = 0, 0, 1\n",
    "                file.write(f\"{pred} {a} {b} {c}\\n\")\n",
    "            elif task == \"rc\":\n",
    "                pred = pred.replace('\\n', ' ')\n",
    "                file.write(f\"{pred}\\n\")\n",
    "            elif task == \"pi\":\n",
    "                file.write(f\"{pred}\\n\")                "
   ]
  }
 ],
 "metadata": {
  "kernelspec": {
   "display_name": "specification-instruction",
   "language": "python",
   "name": "specification-instruction"
  },
  "language_info": {
   "codemirror_mode": {
    "name": "ipython",
    "version": 3
   },
   "file_extension": ".py",
   "mimetype": "text/x-python",
   "name": "python",
   "nbconvert_exporter": "python",
   "pygments_lexer": "ipython3",
   "version": "3.10.9"
  }
 },
 "nbformat": 4,
 "nbformat_minor": 5
}
