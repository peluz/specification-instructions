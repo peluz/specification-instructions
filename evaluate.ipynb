{
 "cells": [
  {
   "cell_type": "code",
   "execution_count": null,
   "id": "de82722d",
   "metadata": {},
   "outputs": [],
   "source": [
    "%load_ext autoreload\n",
    "%autoreload 2\n",
    "\n",
    "from datasets import load_dataset, load_metric\n",
    "from data_sets.data_utils import load_hsd_dataset,  get_suite\n",
    "from utils.results import load_results, get_dataset_scores, get_significance, get_suite_preds, load_hits, metric_max_over_ground_truths, exact_match_score\n",
    "import json\n",
    "import pandas as pd\n",
    "from pathlib import Path\n",
    "import json\n",
    "import numpy as np\n",
    "import matplotlib.pyplot as plt\n",
    "from scipy.stats import hmean\n",
    "import pickle\n",
    "import collections\n",
    "import config"
   ]
  },
  {
   "cell_type": "code",
   "execution_count": null,
   "id": "fdf1aadd",
   "metadata": {},
   "outputs": [],
   "source": [
    "model_order = [\"small\", \"base\", \"large\", \"xl\", \"xxl\", \"chatGPT\"]\n",
    "\n",
    "score_order = [\"baseline\", \"Task\", \"Task+Rules\"]\n",
    "\n",
    "add_order = [\"\", \"+Ex\", \"(chatGPT)+Ex\", \"+Rat\", \"+Ex+Rat\"]\n",
    "\n",
    "method_order = [score + add for score in score_order for add in add_order]\n",
    "\n",
    "order = {x: i for i, x in enumerate(model_order + method_order)}"
   ]
  },
  {
   "cell_type": "code",
   "execution_count": null,
   "id": "6b1dd6a0",
   "metadata": {},
   "outputs": [],
   "source": [
    "order"
   ]
  },
  {
   "cell_type": "code",
   "execution_count": null,
   "id": "d961fd5a",
   "metadata": {},
   "outputs": [],
   "source": [
    "def plot_dataset_results(df, suite=False, values=\"accuracy\"):\n",
    "    ymin = .9 * df[values].min()\n",
    "    ymax = 1.1 * df[values].max()\n",
    "    ylim = (ymin, ymax)\n",
    "    if suite:\n",
    "        df = df[['seen' in s or \"baseline\" in s for s in df.index]].copy()\n",
    "    \n",
    "    df['model'] = [x.split(\"_\")[0] for x in df.index]\n",
    "    df['method'] = [x.split(\"_\")[1] for x in df.index]\n",
    "    df['method'] = [\"Task\" if \"baseline\" in x else f\"Task+Rules\" for x in df.method]\n",
    "    df['method'] = [y+\"(chatGPT)\"  if \"from_chatGPT\" in x else y for x,y in zip(df.index, df.method)]\n",
    "    df['method'] =  [y+\"+Ex\"  if \"example\" in x else y for x,y in zip(df.index, df.method)]\n",
    "    df['method'] =  [y+\"+Rat\"  if \"rules\" in x else y for x,y in zip(df.index, df.method)]\n",
    "    df[\"model\"] = df.model.str.split(\"-\").str[-1]\n",
    "    n_method = len(np.unique(df.method))\n",
    "    fig, ax = plt.subplots(nrows=1, ncols=1, figsize=(8,5))\n",
    "    return_df = df.copy()\n",
    "    df = df.pivot(index=[\"model\"], columns=\"method\", values=values)\n",
    "    df = df.sort_values(by=\"model\", key=lambda x: x.map(order))\n",
    "    df = df[sorted(df.columns, key= lambda item: order[item])]\n",
    "    df.plot.bar(ax = ax, ylim=ylim)\n",
    "    ax.legend(loc='upper center', bbox_to_anchor=(0.5, +1.05),\n",
    "          fancybox=True, shadow=True, ncol=n_method)\n",
    "    return fig, return_df"
   ]
  },
  {
   "cell_type": "code",
   "execution_count": null,
   "id": "b8c485f9",
   "metadata": {},
   "outputs": [],
   "source": [
    "def process_suite_df(df):\n",
    "    df['model'] = [x.split(\"_\")[0] for x in df.index]\n",
    "    df['method'] = [x.split(\"_\")[1] for x in df.index]\n",
    "    df[\"score\"] = df[\"method\"]\n",
    "    df['method'] = [\"Task\" if \"baseline\" in x else f\"Task+Rules\" for x in df.method]\n",
    "    df['method'] = [y+\"(chatGPT)\"  if \"from_chatGPT\" in x else y for x,y in zip(df.index, df.method)]\n",
    "    df['method'] =  [y+\"+Ex\"  if \"example\" in x else y for x,y in zip(df.index, df.method)]\n",
    "    df['method'] =  [y+\"+Rat\"  if \"rules\" in x else y for x,y in zip(df.index, df.method)]\n",
    "    df[\"model\"] = df.model.str.split(\"-\").str[-1]\n",
    "    df = df.set_index([\"model\", \"method\"]).pivot(columns=\"score\", values=\"avg\")\n",
    "    df = df.sort_index(key=lambda x: x.map(order))\n",
    "    return df"
   ]
  },
  {
   "cell_type": "code",
   "execution_count": null,
   "id": "cde73f18",
   "metadata": {},
   "outputs": [],
   "source": [
    "def compute_gs(dataset_df, suite_df, dataset_metric, scale=100):\n",
    "    dataset_df = dataset_df.sort_values(by=[\"model\", \"method\"], key=lambda x: x.map(order))\n",
    "    dataset_df = dataset_df.set_index([\"model\", \"method\"])\n",
    "    suite_df = process_suite_df(suite_df)\n",
    "    merge_df = pd.concat([dataset_df, suite_df], axis=1)\n",
    "    df = pd.DataFrame()\n",
    "    df.index = merge_df.index\n",
    "    \n",
    "    \n",
    "    df[\"baseline\"] = hmean([merge_df[dataset_metric]*scale, merge_df[\"baseline\"]])\n",
    "    df[\"seen\"] = hmean([merge_df[dataset_metric]*scale, merge_df[\"seen\"]])\n",
    "    df[\"funcOut\"] = hmean([merge_df[dataset_metric]*scale, merge_df[\"funcOut\"]])\n",
    "    df[\"classOut\"] = hmean([merge_df[dataset_metric]*scale, merge_df[\"classOut\"]])\n",
    "    for method in [\"Task\", \"Task+Ex\"]:\n",
    "        for score in [\"seen\", \"funcOut\", \"classOut\"]:\n",
    "            df.loc[(slice(None), method), score] = df.loc[(slice(None), method), \"baseline\"]\n",
    "    del df[\"baseline\"]\n",
    "    return df.sort_values(by=[\"model\", \"method\"], key=lambda x: x.map(order))"
   ]
  },
  {
   "cell_type": "code",
   "execution_count": null,
   "id": "eef6dcb2",
   "metadata": {},
   "outputs": [],
   "source": [
    "def compare_func_scores(df):\n",
    "    ret = {}\n",
    "    comps = [(\"Task+Rules\", \"Task\"),\n",
    "             (\"Task+Rules+Ex\", \"Task+Ex\"),\n",
    "             (\"Task+Rules(chatGPT)+Ex\", \"Task+Ex\"),\n",
    "             (\"Task+Rules+Rat\", \"Task\"),\n",
    "             (\"Task+Rules+Ex+Rat\", \"Task+Ex\")]\n",
    "    scores = [\"seen\", \"funcOut\", \"classOut\"]\n",
    "    for m, b in comps:\n",
    "        for s in scores:\n",
    "            ret[f\"improv_{m}_{s}\"] = pd.DataFrame((df.select_dtypes(include=np.number)[(df.method==m) & (df.score== s)] - df.select_dtypes(include=np.number)[(df.method==b)].values > 0).sum(1)).values.reshape(-1)\n",
    "            ret[f\"same_{m}_{s}\"] = pd.DataFrame((df.select_dtypes(include=np.number)[(df.method==m) & (df.score== s)] - df.select_dtypes(include=np.number)[(df.method==b)].values == 0).sum(1)).values.reshape(-1)\n",
    "            ret[f\"worse_{m}_{s}\"] = pd.DataFrame((df.select_dtypes(include=np.number)[(df.method==m) & (df.score== s)] - df.select_dtypes(include=np.number)[(df.method==b)].values < 0).sum(1)).values.reshape(-1)\n",
    "    ret_df = pd.DataFrame.from_dict(ret)\n",
    "    ret_df.index = [\"small\", \"base\", \"large\", \"xl\", \"xxl\", \"chatGPT\"]\n",
    "    return ret_df"
   ]
  },
  {
   "cell_type": "code",
   "execution_count": null,
   "id": "76bbd8fb",
   "metadata": {},
   "outputs": [],
   "source": [
    "all_results = {}"
   ]
  },
  {
   "cell_type": "code",
   "execution_count": null,
   "id": "800a429b",
   "metadata": {},
   "outputs": [],
   "source": [
    "suite_results = {}"
   ]
  },
  {
   "cell_type": "markdown",
   "id": "360a79dd",
   "metadata": {},
   "source": [
    "## Sentiment Analysis"
   ]
  },
  {
   "cell_type": "markdown",
   "id": "9e7af3e9",
   "metadata": {},
   "source": [
    "### Dataset"
   ]
  },
  {
   "cell_type": "code",
   "execution_count": null,
   "id": "6cdc53af",
   "metadata": {},
   "outputs": [],
   "source": [
    "result_path = Path(f\"./results/sa/sst2/\")"
   ]
  },
  {
   "cell_type": "code",
   "execution_count": null,
   "id": "a5dc22d2",
   "metadata": {},
   "outputs": [],
   "source": [
    "results = load_results(result_path)"
   ]
  },
  {
   "cell_type": "code",
   "execution_count": null,
   "id": "9e50ba17",
   "metadata": {},
   "outputs": [],
   "source": [
    "results = {k: v for k, v in results.items() if \"seen\" in k or \"baseline\" in k}"
   ]
  },
  {
   "cell_type": "code",
   "execution_count": null,
   "id": "6105acf1",
   "metadata": {},
   "outputs": [],
   "source": [
    "dataset_test = load_dataset(\"glue\", \"sst2\")[\"validation\"]"
   ]
  },
  {
   "cell_type": "code",
   "execution_count": null,
   "id": "4237061b",
   "metadata": {},
   "outputs": [],
   "source": [
    "metric = load_metric(\"glue\",\"sst2\")"
   ]
  },
  {
   "cell_type": "code",
   "execution_count": null,
   "id": "0110c0de",
   "metadata": {},
   "outputs": [],
   "source": [
    "dataset_scores, preds = get_dataset_scores(\"sa\", results, dataset_test[\"label\"], metric)"
   ]
  },
  {
   "cell_type": "code",
   "execution_count": null,
   "id": "a97e496e",
   "metadata": {},
   "outputs": [],
   "source": [
    "sort = sorted(dataset_scores.items(), key=lambda item: item[1][\"accuracy\"], reverse=True)"
   ]
  },
  {
   "cell_type": "code",
   "execution_count": null,
   "id": "101ee3a7",
   "metadata": {},
   "outputs": [],
   "source": [
    "sort"
   ]
  },
  {
   "cell_type": "code",
   "execution_count": null,
   "id": "6b772578",
   "metadata": {},
   "outputs": [],
   "source": [
    "df = pd.DataFrame.from_dict(dataset_scores, orient=\"index\")"
   ]
  },
  {
   "cell_type": "code",
   "execution_count": null,
   "id": "e875856e",
   "metadata": {},
   "outputs": [],
   "source": [
    "fig, sst_df = plot_dataset_results(df)"
   ]
  },
  {
   "cell_type": "code",
   "execution_count": null,
   "id": "04f36888",
   "metadata": {},
   "outputs": [],
   "source": [
    "fig.savefig(f\"../specification-instruction-paper/media/sa_dataset.pdf\", bbox_inches = \"tight\")"
   ]
  },
  {
   "cell_type": "markdown",
   "id": "78ba6150",
   "metadata": {},
   "source": [
    "### Suite"
   ]
  },
  {
   "cell_type": "code",
   "execution_count": null,
   "id": "aa609c2d",
   "metadata": {},
   "outputs": [],
   "source": [
    "result_path = Path(\"./results/sa/suite/\")"
   ]
  },
  {
   "cell_type": "code",
   "execution_count": null,
   "id": "9c982438",
   "metadata": {},
   "outputs": [],
   "source": [
    "results = load_results(result_path, file_type=\"csv\")"
   ]
  },
  {
   "cell_type": "code",
   "execution_count": null,
   "id": "02b4a53a",
   "metadata": {},
   "outputs": [],
   "source": [
    "results = {k: v for k, v in results.items() if \"seen\" in k or \"baseline\" in k or \"funcOut\" in k or \"classOut\" in k}"
   ]
  },
  {
   "cell_type": "code",
   "execution_count": null,
   "id": "52310e1e",
   "metadata": {},
   "outputs": [],
   "source": [
    "df =pd.concat([x for x in results.values()])"
   ]
  },
  {
   "cell_type": "code",
   "execution_count": null,
   "id": "e5e9c69f",
   "metadata": {},
   "outputs": [],
   "source": [
    "df[\"avg\"].sort_values()"
   ]
  },
  {
   "cell_type": "code",
   "execution_count": null,
   "id": "5f1461aa",
   "metadata": {},
   "outputs": [],
   "source": [
    "suite_results[\"sa\"] = process_suite_df(df)"
   ]
  },
  {
   "cell_type": "code",
   "execution_count": null,
   "id": "39711556",
   "metadata": {
    "scrolled": false
   },
   "outputs": [],
   "source": [
    "df[(df.model == \"chatGPT\") & ((df.method == \"Task+Rules+Ex\") | (df.method==\"Task+Rules+Ex+Rat\")) & (df.score==\"seen\")].T"
   ]
  },
  {
   "cell_type": "code",
   "execution_count": null,
   "id": "8ee3c050",
   "metadata": {},
   "outputs": [],
   "source": [
    "df = df.sort_values(by=[\"model\", \"method\"], key=lambda x: x.map(order))\n",
    "comps = compare_func_scores(df)"
   ]
  },
  {
   "cell_type": "code",
   "execution_count": null,
   "id": "6d60659f",
   "metadata": {},
   "outputs": [],
   "source": [
    "comps.T"
   ]
  },
  {
   "cell_type": "code",
   "execution_count": null,
   "id": "f2c73051",
   "metadata": {},
   "outputs": [],
   "source": [
    "df.select_dtypes(include=np.number)[(df.method==\"Task+Rules\") & (df.score== \"seen\")] - df.select_dtypes(include=np.number)[(df.method==\"Task\")].values"
   ]
  },
  {
   "cell_type": "code",
   "execution_count": null,
   "id": "1880710f",
   "metadata": {},
   "outputs": [],
   "source": [
    "fig, sa_df = plot_dataset_results(df, suite=True, values=\"avg\")"
   ]
  },
  {
   "cell_type": "code",
   "execution_count": null,
   "id": "9f30c427",
   "metadata": {},
   "outputs": [],
   "source": [
    "fig.savefig(f\"../specification-instruction-paper/media/sa_suite.pdf\", bbox_inches = \"tight\")"
   ]
  },
  {
   "cell_type": "code",
   "execution_count": null,
   "id": "367ba84f",
   "metadata": {},
   "outputs": [],
   "source": [
    "all_results[\"sa\"] = compute_gs(sst_df, df, \"accuracy\")"
   ]
  },
  {
   "cell_type": "code",
   "execution_count": null,
   "id": "3c0d012c",
   "metadata": {},
   "outputs": [],
   "source": [
    "all_results[\"sa\"]"
   ]
  },
  {
   "cell_type": "code",
   "execution_count": null,
   "id": "dd2b5bce",
   "metadata": {},
   "outputs": [],
   "source": [
    "# pvalues = get_pvalues_suite(\"sa\", models=df.index.str.split(\"_\").str[0].unique())"
   ]
  },
  {
   "cell_type": "code",
   "execution_count": null,
   "id": "053cf2a3",
   "metadata": {},
   "outputs": [],
   "source": [
    "# df = pd.DataFrame.from_dict(pvalues, orient=\"index\")\n",
    "# df < .05"
   ]
  },
  {
   "cell_type": "markdown",
   "id": "c88287ce",
   "metadata": {},
   "source": [
    "## Hate Speech detection"
   ]
  },
  {
   "cell_type": "markdown",
   "id": "d86ca50d",
   "metadata": {},
   "source": [
    "### Datasets"
   ]
  },
  {
   "cell_type": "code",
   "execution_count": null,
   "id": "b2302f7f",
   "metadata": {},
   "outputs": [],
   "source": [
    "davidson_path = Path(f\"./results/hsd/davidson2017/\")\n",
    "founta_path = Path(f\"./results/hsd/founta2018/\")"
   ]
  },
  {
   "cell_type": "code",
   "execution_count": null,
   "id": "96603a0b",
   "metadata": {},
   "outputs": [],
   "source": [
    "davidson_results = load_results(davidson_path)\n",
    "founta_results = load_results(founta_path)"
   ]
  },
  {
   "cell_type": "code",
   "execution_count": null,
   "id": "94670676",
   "metadata": {},
   "outputs": [],
   "source": [
    "davidson_test = load_hsd_dataset(\"davidson2017\")[\"test\"]\n",
    "founta_test = load_hsd_dataset(\"founta2018\")[\"test\"]"
   ]
  },
  {
   "cell_type": "code",
   "execution_count": null,
   "id": "9536be07",
   "metadata": {},
   "outputs": [],
   "source": [
    "metric = load_metric(\"glue\",\"qqp\")"
   ]
  },
  {
   "cell_type": "code",
   "execution_count": null,
   "id": "4d0b4243",
   "metadata": {},
   "outputs": [],
   "source": [
    "dataset_scores, preds = get_dataset_scores(\"hsd\", davidson_results, davidson_test[\"label\"], metric)"
   ]
  },
  {
   "cell_type": "code",
   "execution_count": null,
   "id": "f0bd50a7",
   "metadata": {},
   "outputs": [],
   "source": [
    "dataset_scores = {k: v for k, v in dataset_scores.items() if \"seen\" in k or \"baseline\" in k}"
   ]
  },
  {
   "cell_type": "code",
   "execution_count": null,
   "id": "211ac076",
   "metadata": {},
   "outputs": [],
   "source": [
    "sort = sorted(dataset_scores.items(), key=lambda item: item[1][\"f1\"], reverse=True)"
   ]
  },
  {
   "cell_type": "code",
   "execution_count": null,
   "id": "51da03b3",
   "metadata": {},
   "outputs": [],
   "source": [
    "sort"
   ]
  },
  {
   "cell_type": "code",
   "execution_count": null,
   "id": "9d63b7bf",
   "metadata": {},
   "outputs": [],
   "source": [
    "df = pd.DataFrame.from_dict(dataset_scores, orient=\"index\")"
   ]
  },
  {
   "cell_type": "code",
   "execution_count": null,
   "id": "ce01e4d0",
   "metadata": {},
   "outputs": [],
   "source": [
    "fig, davidson_df = plot_dataset_results(df, values=\"f1\")"
   ]
  },
  {
   "cell_type": "code",
   "execution_count": null,
   "id": "569ba2b7",
   "metadata": {},
   "outputs": [],
   "source": [
    "fig.savefig(f\"../specification-instruction-paper/media/hsd_davidson.pdf\", bbox_inches = \"tight\")"
   ]
  },
  {
   "cell_type": "code",
   "execution_count": null,
   "id": "686ac7f6",
   "metadata": {},
   "outputs": [],
   "source": [
    "# pvalues = get_pvalues_dataset(preds, \"hsd\", \"davidson2017\", davidson_test)"
   ]
  },
  {
   "cell_type": "code",
   "execution_count": null,
   "id": "3fd4bfc4",
   "metadata": {},
   "outputs": [],
   "source": [
    "# df = pd.DataFrame.from_dict(pvalues, orient=\"index\")\n",
    "# df < .05"
   ]
  },
  {
   "cell_type": "code",
   "execution_count": null,
   "id": "8d30f05c",
   "metadata": {},
   "outputs": [],
   "source": [
    "dataset_scores, preds = get_dataset_scores(\"hsd\", founta_results, founta_test[\"label\"], metric)"
   ]
  },
  {
   "cell_type": "code",
   "execution_count": null,
   "id": "7f40c56f",
   "metadata": {},
   "outputs": [],
   "source": [
    "dataset_scores = {k: v for k, v in dataset_scores.items() if \"seen\" in k or \"baseline\" in k}"
   ]
  },
  {
   "cell_type": "code",
   "execution_count": null,
   "id": "68635d43",
   "metadata": {},
   "outputs": [],
   "source": [
    "sort = sorted(dataset_scores.items(), key=lambda item: item[1][\"f1\"], reverse=True)"
   ]
  },
  {
   "cell_type": "code",
   "execution_count": null,
   "id": "f91db10d",
   "metadata": {},
   "outputs": [],
   "source": [
    "sort"
   ]
  },
  {
   "cell_type": "code",
   "execution_count": null,
   "id": "7137f51e",
   "metadata": {},
   "outputs": [],
   "source": [
    "df = pd.DataFrame.from_dict(dataset_scores, orient=\"index\")"
   ]
  },
  {
   "cell_type": "code",
   "execution_count": null,
   "id": "bd591760",
   "metadata": {},
   "outputs": [],
   "source": [
    "fig, founta_df = plot_dataset_results(df, values=\"f1\")"
   ]
  },
  {
   "cell_type": "code",
   "execution_count": null,
   "id": "6daaf49a",
   "metadata": {},
   "outputs": [],
   "source": [
    "fig.savefig(f\"../specification-instruction-paper/media/hsd_founta.pdf\", bbox_inches = \"tight\")"
   ]
  },
  {
   "cell_type": "code",
   "execution_count": null,
   "id": "7568f6d2",
   "metadata": {
    "scrolled": true
   },
   "outputs": [],
   "source": [
    "# pvalues = get_pvalues_dataset(preds, \"hsd\", \"founta2018\", founta_test)"
   ]
  },
  {
   "cell_type": "code",
   "execution_count": null,
   "id": "73c5607c",
   "metadata": {},
   "outputs": [],
   "source": [
    "# df = pd.DataFrame.from_dict(pvalues, orient=\"index\")\n",
    "# df < .05"
   ]
  },
  {
   "cell_type": "markdown",
   "id": "67a6fb8a",
   "metadata": {},
   "source": [
    "### Suite"
   ]
  },
  {
   "cell_type": "code",
   "execution_count": null,
   "id": "8e1a989b",
   "metadata": {},
   "outputs": [],
   "source": [
    "result_path = Path(\"./results/hsd/suite/\")"
   ]
  },
  {
   "cell_type": "code",
   "execution_count": null,
   "id": "d43cd4c9",
   "metadata": {},
   "outputs": [],
   "source": [
    "results = load_results(result_path, hatecheck=True)"
   ]
  },
  {
   "cell_type": "code",
   "execution_count": null,
   "id": "af24d950",
   "metadata": {},
   "outputs": [],
   "source": [
    "results = {k: v for k, v in results.items() if \"seen\" in k or \"baseline\" in k or \"funcOut\" in k or \"classOut\" in k}"
   ]
  },
  {
   "cell_type": "code",
   "execution_count": null,
   "id": "fda12055",
   "metadata": {},
   "outputs": [],
   "source": [
    "df =pd.concat([x for x in results.values()])"
   ]
  },
  {
   "cell_type": "code",
   "execution_count": null,
   "id": "80ee0169",
   "metadata": {},
   "outputs": [],
   "source": [
    "df *= 100"
   ]
  },
  {
   "cell_type": "code",
   "execution_count": null,
   "id": "888c68ef",
   "metadata": {},
   "outputs": [],
   "source": [
    "df[df.index.str.contains(\"flan-t5-xxl\")][\"avg\"].sort_values()"
   ]
  },
  {
   "cell_type": "code",
   "execution_count": null,
   "id": "91cf19b7",
   "metadata": {},
   "outputs": [],
   "source": [
    "suite_results[\"hsd\"] = process_suite_df(df)"
   ]
  },
  {
   "cell_type": "code",
   "execution_count": null,
   "id": "f0b006b0",
   "metadata": {},
   "outputs": [],
   "source": [
    "fig, hsd_df = plot_dataset_results(df, suite=True, values=\"avg\")"
   ]
  },
  {
   "cell_type": "code",
   "execution_count": null,
   "id": "d872ca73",
   "metadata": {},
   "outputs": [],
   "source": [
    "fig.savefig(f\"../specification-instruction-paper/media/hsd_suite.pdf\", bbox_inches = \"tight\")"
   ]
  },
  {
   "cell_type": "code",
   "execution_count": null,
   "id": "d5d96ad7",
   "metadata": {},
   "outputs": [],
   "source": [
    "all_results[\"hsd_d\"] = compute_gs(davidson_df, df, dataset_metric=\"f1\"); all_results[\"hsd_d\"]"
   ]
  },
  {
   "cell_type": "code",
   "execution_count": null,
   "id": "d5612fe1",
   "metadata": {},
   "outputs": [],
   "source": [
    "all_results[\"hsd_f\"] = compute_gs(founta_df, df, dataset_metric=\"f1\"); all_results[\"hsd_f\"]"
   ]
  },
  {
   "cell_type": "code",
   "execution_count": null,
   "id": "ab777910",
   "metadata": {},
   "outputs": [],
   "source": [
    "# pvalues = get_pvalues_suite(\"hsd\", models=df.index.str.split(\"_\").str[0].unique())"
   ]
  },
  {
   "cell_type": "code",
   "execution_count": null,
   "id": "6801731f",
   "metadata": {},
   "outputs": [],
   "source": [
    "# df = pd.DataFrame.from_dict(pvalues, orient=\"index\")\n",
    "# df < .05"
   ]
  },
  {
   "cell_type": "markdown",
   "id": "85dff032",
   "metadata": {},
   "source": [
    "## Reading comprehension"
   ]
  },
  {
   "cell_type": "markdown",
   "id": "fd676927",
   "metadata": {},
   "source": [
    "### Dataset"
   ]
  },
  {
   "cell_type": "code",
   "execution_count": null,
   "id": "4ac382b5",
   "metadata": {},
   "outputs": [],
   "source": [
    "result_path = Path(f\"./results/rc/squad/\")"
   ]
  },
  {
   "cell_type": "code",
   "execution_count": null,
   "id": "5fe63071",
   "metadata": {},
   "outputs": [],
   "source": [
    "results = load_results(result_path)"
   ]
  },
  {
   "cell_type": "code",
   "execution_count": null,
   "id": "8d804f2c",
   "metadata": {},
   "outputs": [],
   "source": [
    "results = {k: v for k, v in results.items() if \"seen\" in k or \"baseline\" in k}"
   ]
  },
  {
   "cell_type": "code",
   "execution_count": null,
   "id": "49a1b6b3",
   "metadata": {},
   "outputs": [],
   "source": [
    "dataset_test = load_dataset(\"squad\")[\"validation\"]"
   ]
  },
  {
   "cell_type": "code",
   "execution_count": null,
   "id": "64322200",
   "metadata": {
    "scrolled": true
   },
   "outputs": [],
   "source": [
    "metric = load_metric(\"squad\")"
   ]
  },
  {
   "cell_type": "code",
   "execution_count": null,
   "id": "94f89958",
   "metadata": {},
   "outputs": [],
   "source": [
    "dataset_scores, preds = get_dataset_scores(\"rc\", results, dataset_test[\"answers\"], metric)"
   ]
  },
  {
   "cell_type": "code",
   "execution_count": null,
   "id": "8fde0921",
   "metadata": {},
   "outputs": [],
   "source": [
    "sort = sorted(dataset_scores.items(), key=lambda item: item[1][\"exact_match\"], reverse=True); sort"
   ]
  },
  {
   "cell_type": "code",
   "execution_count": null,
   "id": "3e7d7a7b",
   "metadata": {},
   "outputs": [],
   "source": [
    "# from utils.results import normalize_answer\n",
    "\n",
    "# hits = {}\n",
    "# for model, preds in results.items():\n",
    "#     for answers, pred in zip(dataset_test[\"answers\"], preds):\n",
    "#         hit = 0\n",
    "#         for answer in answers[\"text\"]:\n",
    "#             if normalize_answer(answer) in normalize_answer(pred):\n",
    "#                 hit = 1\n",
    "#                 break\n",
    "#         hits.setdefault(model, []).append(hit)\n",
    "    "
   ]
  },
  {
   "cell_type": "code",
   "execution_count": null,
   "id": "06bacfcf",
   "metadata": {},
   "outputs": [],
   "source": [
    "# for model, hit in hits.items():\n",
    "#     hits[model] = {}\n",
    "#     hits[model][\"recall\"] = np.mean(hit)"
   ]
  },
  {
   "cell_type": "code",
   "execution_count": null,
   "id": "d16b404d",
   "metadata": {},
   "outputs": [],
   "source": [
    "# sorted(hits.items(), key=lambda item: item[1][\"recall\"], reverse=True)"
   ]
  },
  {
   "cell_type": "code",
   "execution_count": null,
   "id": "82fb4bdd",
   "metadata": {},
   "outputs": [],
   "source": [
    "df = pd.DataFrame.from_dict(dataset_scores, orient=\"index\")"
   ]
  },
  {
   "cell_type": "code",
   "execution_count": null,
   "id": "f706d655",
   "metadata": {},
   "outputs": [],
   "source": [
    "fig, squad_df = plot_dataset_results(df, values=\"exact_match\")"
   ]
  },
  {
   "cell_type": "code",
   "execution_count": null,
   "id": "4d7c334c",
   "metadata": {},
   "outputs": [],
   "source": [
    "fig.savefig(f\"../specification-instruction-paper/media/rc_dataset.pdf\", bbox_inches = \"tight\")"
   ]
  },
  {
   "cell_type": "code",
   "execution_count": null,
   "id": "aa9f2bab",
   "metadata": {},
   "outputs": [],
   "source": [
    "# pvalues = get_pvalues_dataset(preds, \"rc\", \"squad\", dataset_test)"
   ]
  },
  {
   "cell_type": "code",
   "execution_count": null,
   "id": "f3eac588",
   "metadata": {},
   "outputs": [],
   "source": [
    "# df = pd.DataFrame.from_dict(pvalues, orient=\"index\")\n",
    "# df < .05"
   ]
  },
  {
   "cell_type": "markdown",
   "id": "ead76ecc",
   "metadata": {},
   "source": [
    "### Suite"
   ]
  },
  {
   "cell_type": "code",
   "execution_count": null,
   "id": "049d4a66",
   "metadata": {},
   "outputs": [],
   "source": [
    "result_path = Path(\"./results/rc/suite/\")"
   ]
  },
  {
   "cell_type": "code",
   "execution_count": null,
   "id": "c53e1664",
   "metadata": {},
   "outputs": [],
   "source": [
    "results = load_results(result_path, file_type=\"csv\")"
   ]
  },
  {
   "cell_type": "code",
   "execution_count": null,
   "id": "c9ac31ee",
   "metadata": {},
   "outputs": [],
   "source": [
    "results = {k: v for k, v in results.items() if \"seen\" in k or \"baseline\" in k or \"funcOut\" in k or \"classOut\" in k}"
   ]
  },
  {
   "cell_type": "code",
   "execution_count": null,
   "id": "f03ddf45",
   "metadata": {},
   "outputs": [],
   "source": [
    "# from utils.results import normalize_answer\n",
    "# from collections import Counter\n",
    "\n",
    "# def get_recall(prediction, ground_truth):\n",
    "#     prediction_tokens = normalize_answer(prediction).split()\n",
    "#     ground_truth_tokens = normalize_answer(ground_truth).split()\n",
    "#     common = Counter(prediction_tokens) & Counter(ground_truth_tokens)\n",
    "#     num_same = sum(common.values())\n",
    "#     if num_same == 0:\n",
    "#         return 0\n",
    "#     precision = 1.0 * num_same / len(prediction_tokens)\n",
    "#     recall = 1.0 * num_same / len(ground_truth_tokens)\n",
    "#     f1 = (2 * precision * recall) / (precision + recall)\n",
    "#     return recall"
   ]
  },
  {
   "cell_type": "code",
   "execution_count": null,
   "id": "910990ca",
   "metadata": {},
   "outputs": [],
   "source": [
    "# from tqdm.auto import tqdm\n",
    "# from data_sets.data_utils import get_suite\n",
    "# import config\n",
    "# from utils.results import f1_score\n",
    "\n",
    "# suite_test = get_suite(config.rc_path)[\"test\"]\n",
    "# f1s = {}\n",
    "# results_raw = load_results(result_path, file_type=\"json\")\n",
    "# results_raw = {k: v for k, v in results_raw.items() if \"seen\" in k or \"baseline_zero\" in k or \"funcOut\" in k or \"classOut\" in k}\n",
    "# results_raw = get_suite_preds(results_raw, \"rc\")"
   ]
  },
  {
   "cell_type": "code",
   "execution_count": null,
   "id": "c69405b6",
   "metadata": {},
   "outputs": [],
   "source": [
    "# for model, preds in tqdm(results_raw.items()):\n",
    "#     for example, pred in zip(suite_test, preds):\n",
    "#         if example[\"answers\"][\"answer_start\"][0] == -1:\n",
    "#             continue\n",
    "#         func = example[\"functionality\"]\n",
    "#         answer = example[\"answers\"][\"text\"][0]\n",
    "#         f1 = get_recall(pred, answer)\n",
    "#         f1s.setdefault(model, {}).setdefault(func, []).append(f1)"
   ]
  },
  {
   "cell_type": "code",
   "execution_count": null,
   "id": "56fa7cc2",
   "metadata": {},
   "outputs": [],
   "source": [
    "# for model, scores in f1s.items():\n",
    "#     for func, score in scores.items():\n",
    "#         f1s[model][func] = np.mean(score) * 100"
   ]
  },
  {
   "cell_type": "code",
   "execution_count": null,
   "id": "cd05a0d8",
   "metadata": {},
   "outputs": [],
   "source": [
    "# for model, scores in f1s.items():\n",
    "#     for func, score in scores.items():\n",
    "#         results[model][func] = score "
   ]
  },
  {
   "cell_type": "code",
   "execution_count": null,
   "id": "168e57cc",
   "metadata": {},
   "outputs": [],
   "source": [
    "df =pd.concat([x for x in results.values()])"
   ]
  },
  {
   "cell_type": "code",
   "execution_count": null,
   "id": "bfd29e6e",
   "metadata": {},
   "outputs": [],
   "source": [
    "# del df[\"avg\"]\n",
    "# df[\"avg\"] = df.mean(axis=1)"
   ]
  },
  {
   "cell_type": "code",
   "execution_count": null,
   "id": "c3d186f7",
   "metadata": {},
   "outputs": [],
   "source": [
    "df[\"avg\"].sort_values()"
   ]
  },
  {
   "cell_type": "code",
   "execution_count": null,
   "id": "4cf73d99",
   "metadata": {},
   "outputs": [],
   "source": [
    "suite_results[\"rc\"] = process_suite_df(df)"
   ]
  },
  {
   "cell_type": "code",
   "execution_count": null,
   "id": "8f11af27",
   "metadata": {},
   "outputs": [],
   "source": [
    "fig, rc_df = plot_dataset_results(df, suite=True, values=\"avg\")"
   ]
  },
  {
   "cell_type": "code",
   "execution_count": null,
   "id": "e3400fed",
   "metadata": {},
   "outputs": [],
   "source": [
    "fig.savefig(f\"../specification-instruction-paper/media/rc_suite.pdf\", bbox_inches = \"tight\")"
   ]
  },
  {
   "cell_type": "code",
   "execution_count": null,
   "id": "7f82d50d",
   "metadata": {},
   "outputs": [],
   "source": [
    "all_results[\"rc\"] = compute_gs(squad_df, df, dataset_metric=\"exact_match\", scale=1.0); all_results[\"rc\"]"
   ]
  },
  {
   "cell_type": "code",
   "execution_count": null,
   "id": "2adec5f6",
   "metadata": {},
   "outputs": [],
   "source": [
    "# pvalues = get_pvalues_suite(\"rc\", models=df.index.str.split(\"_\").str[0].unique())"
   ]
  },
  {
   "cell_type": "code",
   "execution_count": null,
   "id": "ae11ddb6",
   "metadata": {},
   "outputs": [],
   "source": [
    "# df = pd.DataFrame.from_dict(pvalues, orient=\"index\")\n",
    "# df < .05"
   ]
  },
  {
   "cell_type": "markdown",
   "id": "7134bc0c",
   "metadata": {},
   "source": [
    "## Paraphrase identification"
   ]
  },
  {
   "cell_type": "markdown",
   "id": "ec8dd0de",
   "metadata": {},
   "source": [
    "### Dataset"
   ]
  },
  {
   "cell_type": "code",
   "execution_count": null,
   "id": "21ac89d2",
   "metadata": {},
   "outputs": [],
   "source": [
    "result_path = Path(f\"./results/pi/qqp/\")"
   ]
  },
  {
   "cell_type": "code",
   "execution_count": null,
   "id": "e5aad8a5",
   "metadata": {},
   "outputs": [],
   "source": [
    "results = load_results(result_path)"
   ]
  },
  {
   "cell_type": "code",
   "execution_count": null,
   "id": "3f06152b",
   "metadata": {},
   "outputs": [],
   "source": [
    "results = {k: v for k, v in results.items() if \"seen\" in k or \"baseline\" in k}"
   ]
  },
  {
   "cell_type": "code",
   "execution_count": null,
   "id": "ba2faa50",
   "metadata": {},
   "outputs": [],
   "source": [
    "dataset_test = load_dataset(\"glue\", \"qqp\")[\"validation\"]"
   ]
  },
  {
   "cell_type": "code",
   "execution_count": null,
   "id": "ba612b74",
   "metadata": {
    "scrolled": true
   },
   "outputs": [],
   "source": [
    "metric = load_metric(\"glue\", \"qqp\")"
   ]
  },
  {
   "cell_type": "code",
   "execution_count": null,
   "id": "64689af6",
   "metadata": {},
   "outputs": [],
   "source": [
    "dataset_scores, preds = get_dataset_scores(\"pi\", results, dataset_test[\"label\"], metric)"
   ]
  },
  {
   "cell_type": "code",
   "execution_count": null,
   "id": "79467cb7",
   "metadata": {},
   "outputs": [],
   "source": [
    "sort = sorted(dataset_scores.items(), key=lambda item: item[1][\"accuracy\"], reverse=True)"
   ]
  },
  {
   "cell_type": "code",
   "execution_count": null,
   "id": "c3b09803",
   "metadata": {
    "scrolled": true
   },
   "outputs": [],
   "source": [
    "sort"
   ]
  },
  {
   "cell_type": "code",
   "execution_count": null,
   "id": "acf8b5b9",
   "metadata": {},
   "outputs": [],
   "source": [
    "df = pd.DataFrame.from_dict(dataset_scores, orient=\"index\")"
   ]
  },
  {
   "cell_type": "code",
   "execution_count": null,
   "id": "0a4e84bc",
   "metadata": {},
   "outputs": [],
   "source": [
    "fig, qqp_df = plot_dataset_results(df)"
   ]
  },
  {
   "cell_type": "code",
   "execution_count": null,
   "id": "5497c3b2",
   "metadata": {},
   "outputs": [],
   "source": [
    "fig.savefig(f\"../specification-instruction-paper/media/pi_dataset.pdf\", bbox_inches = \"tight\")"
   ]
  },
  {
   "cell_type": "code",
   "execution_count": null,
   "id": "18a2813b",
   "metadata": {},
   "outputs": [],
   "source": [
    "# pvalues = get_pvalues_dataset(preds, \"pi\", \"qqp\", dataset_test)"
   ]
  },
  {
   "cell_type": "code",
   "execution_count": null,
   "id": "7824db8a",
   "metadata": {},
   "outputs": [],
   "source": [
    "# df = pd.DataFrame.from_dict(pvalues, orient=\"index\")\n",
    "# df < .05"
   ]
  },
  {
   "cell_type": "markdown",
   "id": "e02fd4f8",
   "metadata": {},
   "source": [
    "### Suite"
   ]
  },
  {
   "cell_type": "code",
   "execution_count": null,
   "id": "cd178435",
   "metadata": {},
   "outputs": [],
   "source": [
    "result_path = Path(\"./results/pi/suite/\")"
   ]
  },
  {
   "cell_type": "code",
   "execution_count": null,
   "id": "8c602517",
   "metadata": {},
   "outputs": [],
   "source": [
    "results = load_results(result_path, file_type=\"csv\")"
   ]
  },
  {
   "cell_type": "code",
   "execution_count": null,
   "id": "15094ca4",
   "metadata": {},
   "outputs": [],
   "source": [
    "results = {k: v for k, v in results.items() if \"seen\" in k or \"baseline\" in k or \"funcOut\" in k or \"classOut\" in k}"
   ]
  },
  {
   "cell_type": "code",
   "execution_count": null,
   "id": "1da3e0fb",
   "metadata": {},
   "outputs": [],
   "source": [
    "df =pd.concat([x for x in results.values()])"
   ]
  },
  {
   "cell_type": "code",
   "execution_count": null,
   "id": "6f5863c7",
   "metadata": {},
   "outputs": [],
   "source": [
    "suite_results[\"pi\"] = process_suite_df(df)"
   ]
  },
  {
   "cell_type": "code",
   "execution_count": null,
   "id": "63704c6b",
   "metadata": {},
   "outputs": [],
   "source": [
    "fig, pi_df = plot_dataset_results(df, suite=True, values=\"avg\")"
   ]
  },
  {
   "cell_type": "code",
   "execution_count": null,
   "id": "1981cdb6",
   "metadata": {},
   "outputs": [],
   "source": [
    "fig.savefig(f\"../specification-instruction-paper/media/pi_suite.pdf\", bbox_inches = \"tight\")"
   ]
  },
  {
   "cell_type": "code",
   "execution_count": null,
   "id": "c77c12a4",
   "metadata": {},
   "outputs": [],
   "source": [
    "compute_gs(qqp_df, df, dataset_metric=\"accuracy\")"
   ]
  },
  {
   "cell_type": "code",
   "execution_count": null,
   "id": "d06fb565",
   "metadata": {},
   "outputs": [],
   "source": [
    "all_results[\"pi\"] = compute_gs(qqp_df, df, dataset_metric=\"accuracy\"); all_results[\"pi\"]"
   ]
  },
  {
   "cell_type": "code",
   "execution_count": null,
   "id": "d82959c2",
   "metadata": {},
   "outputs": [],
   "source": [
    "# pvalues = get_pvalues_suite(\"pi\", models=df.index.str.split(\"_\").str[0].unique())"
   ]
  },
  {
   "cell_type": "code",
   "execution_count": null,
   "id": "563acb39",
   "metadata": {},
   "outputs": [],
   "source": [
    "# df = pd.DataFrame.from_dict(pvalues, orient=\"index\")\n",
    "# df < .05"
   ]
  },
  {
   "cell_type": "markdown",
   "id": "6718101f",
   "metadata": {},
   "source": [
    "## Table"
   ]
  },
  {
   "cell_type": "code",
   "execution_count": null,
   "id": "463aba9d",
   "metadata": {},
   "outputs": [],
   "source": [
    "import collections\n",
    "\n",
    "order_task = {\"sa\": 0, \"pi\": 1, \"rc\": 2, \"hsd_d\": 3, \"hsd_f\":4}"
   ]
  },
  {
   "cell_type": "code",
   "execution_count": null,
   "id": "07bbd6bc",
   "metadata": {},
   "outputs": [],
   "source": [
    "od = collections.OrderedDict(sorted(all_results.items(), key= lambda item: order_task[item[0]]))"
   ]
  },
  {
   "cell_type": "code",
   "execution_count": null,
   "id": "b5127629",
   "metadata": {},
   "outputs": [],
   "source": [
    "for task, df in od.items():\n",
    "    df.columns = [f\"{col}_{task}\" for col in df.columns]\n",
    "    "
   ]
  },
  {
   "cell_type": "code",
   "execution_count": null,
   "id": "1c88f6a0",
   "metadata": {},
   "outputs": [],
   "source": [
    "all_gs = pd.concat([df for df in od.values()], names=all_results.keys(), axis=1)"
   ]
  },
  {
   "cell_type": "code",
   "execution_count": null,
   "id": "cd70bfe5",
   "metadata": {},
   "outputs": [],
   "source": [
    "all_gs = all_gs.sort_values(by=[\"model\", \"method\"], key=lambda x: x.map(order))"
   ]
  },
  {
   "cell_type": "code",
   "execution_count": null,
   "id": "078e664f",
   "metadata": {},
   "outputs": [],
   "source": [
    "all_gs"
   ]
  },
  {
   "cell_type": "code",
   "execution_count": null,
   "id": "1c0ab541",
   "metadata": {},
   "outputs": [],
   "source": [
    "all_gs[\"avg\"] = all_gs.mean(1)"
   ]
  },
  {
   "cell_type": "code",
   "execution_count": null,
   "id": "fd386676",
   "metadata": {},
   "outputs": [],
   "source": [
    "all_gs[\"avg\"].sort_values()"
   ]
  },
  {
   "cell_type": "code",
   "execution_count": null,
   "id": "a51bb65f",
   "metadata": {},
   "outputs": [],
   "source": [
    "all_gs[\"avg\"]"
   ]
  },
  {
   "cell_type": "code",
   "execution_count": null,
   "id": "fbf6f4e9",
   "metadata": {},
   "outputs": [],
   "source": [
    "all_gs.to_csv(\"./results/all_gs.csv\")"
   ]
  },
  {
   "cell_type": "code",
   "execution_count": null,
   "id": "418963d0",
   "metadata": {},
   "outputs": [],
   "source": [
    "all_gs = pd.read_csv(\"./results/all_gs.csv\", index_col=[0,1])"
   ]
  },
  {
   "cell_type": "code",
   "execution_count": null,
   "id": "aa028831",
   "metadata": {},
   "outputs": [],
   "source": [
    "all_gs"
   ]
  },
  {
   "cell_type": "code",
   "execution_count": null,
   "id": "b431e69e",
   "metadata": {},
   "outputs": [],
   "source": [
    "sa_df.to_csv(\"./results/sa_df.csv\")\n",
    "pi_df.to_csv(\"./results/pi_df.csv\")\n",
    "rc_df.to_csv(\"./results/rc_df.csv\")\n",
    "hsd_df.to_csv(\"./results/hsd_df.csv\")\n",
    "sst_df.to_csv(\"./results/sst_df.csv\")\n",
    "qqp_df.to_csv(\"./results/qqp_df.csv\")\n",
    "squad_df.to_csv(\"./results/squad_df.csv\")\n",
    "davidson_df.to_csv(\"./results/davidson_df.csv\")\n",
    "founta_df.to_csv(\"./results/founta_df.csv\")"
   ]
  },
  {
   "cell_type": "code",
   "execution_count": null,
   "id": "e683ac83",
   "metadata": {},
   "outputs": [],
   "source": [
    "sa_df = pd.read_csv(\"./results/sa_df.csv\", index_col=0)\n",
    "pi_df = pd.read_csv(\"./results/pi_df.csv\", index_col=0)\n",
    "rc_df = pd.read_csv(\"./results/rc_df.csv\", index_col=0)\n",
    "hsd_df = pd.read_csv(\"./results/hsd_df.csv\", index_col=0)\n",
    "sst_df = pd.read_csv(\"./results/sst_df.csv\", index_col=0)\n",
    "qqp_df = pd.read_csv(\"./results/qqp_df.csv\", index_col=0)\n",
    "squad_df = pd.read_csv(\"./results/squad_df.csv\", index_col=0)\n",
    "davidson_df = pd.read_csv(\"./results/davidson_df.csv\", index_col=0)\n",
    "founta_df = pd.read_csv(\"./results/founta_df.csv\", index_col=0)"
   ]
  },
  {
   "cell_type": "code",
   "execution_count": null,
   "id": "108b8b36",
   "metadata": {},
   "outputs": [],
   "source": [
    "with open(\"./results/all_suite_avgs.pkl\", \"wb\") as file:\n",
    "    pickle.dump(suite_results, file)"
   ]
  },
  {
   "cell_type": "code",
   "execution_count": null,
   "id": "04f2a770",
   "metadata": {},
   "outputs": [],
   "source": [
    "with open(\"./results/all_suite_avgs.pkl\", \"rb\") as file:\n",
    "    suite_results = pickle.load(file)"
   ]
  },
  {
   "cell_type": "markdown",
   "id": "fb9368ff",
   "metadata": {},
   "source": [
    "### Some statistics"
   ]
  },
  {
   "cell_type": "code",
   "execution_count": null,
   "id": "03db5a3e",
   "metadata": {},
   "outputs": [],
   "source": [
    "# Rule improvement (no demonstrations)\n",
    "for v in all_gs[\"avg\"].xs(\"Task+Rules\", level=1) - all_gs[\"avg\"].xs(\"Task\", level=1):\n",
    "    print(np.round(v, 2))"
   ]
  },
  {
   "cell_type": "code",
   "execution_count": null,
   "id": "ed9e39fc",
   "metadata": {},
   "outputs": [],
   "source": [
    "# Rule improvemen (with demonstrations)\n",
    "for v in all_gs[\"avg\"].xs(\"Task+Rules+Ex\", level=1) - all_gs[\"avg\"].xs(\"Task+Ex\", level=1):\n",
    "    print(np.round(v, 2))"
   ]
  },
  {
   "cell_type": "code",
   "execution_count": null,
   "id": "4c664654",
   "metadata": {},
   "outputs": [],
   "source": [
    "# impact of demonstrations\n",
    "for v in all_gs[\"avg\"].xs(\"Task+Ex\", level=1) - all_gs[\"avg\"].xs(\"Task\", level=1):\n",
    "    print(np.round(v, 2))"
   ]
  },
  {
   "cell_type": "code",
   "execution_count": null,
   "id": "0b82579c",
   "metadata": {},
   "outputs": [],
   "source": [
    "# impact of demonstrations\n",
    "for v in all_gs[\"avg\"].xs(\"Task+Rules+Ex\", level=1) - all_gs[\"avg\"].xs(\"Task+Rules\", level=1):\n",
    "    print(np.round(v, 2))"
   ]
  },
  {
   "cell_type": "code",
   "execution_count": null,
   "id": "acb283ed",
   "metadata": {},
   "outputs": [],
   "source": [
    "# impact of demonstrations\n",
    "for v in all_gs[\"avg\"].xs(\"Task+Rules+Ex+Rat\", level=1) - all_gs[\"avg\"].xs(\"Task+Rules+Rat\", level=1):\n",
    "    print(np.round(v, 2))"
   ]
  },
  {
   "cell_type": "code",
   "execution_count": null,
   "id": "1ee3ab82",
   "metadata": {},
   "outputs": [],
   "source": [
    "# impact of demonstrations\n",
    "(all_gs.xs(\"Task+Ex\", level=1) - all_gs.xs(\"Task\", level=1)).mean()"
   ]
  },
  {
   "cell_type": "code",
   "execution_count": null,
   "id": "ac533e6b",
   "metadata": {},
   "outputs": [],
   "source": [
    "(all_gs.xs(\"Task+Rules+Ex\", level=1) - all_gs.xs(\"Task+Rules\", level=1)).mean()"
   ]
  },
  {
   "cell_type": "code",
   "execution_count": null,
   "id": "88252726",
   "metadata": {},
   "outputs": [],
   "source": [
    "(all_gs.xs(\"Task+Rules+Ex+Rat\", level=1) - all_gs.xs(\"Task+Rules+Rat\", level=1)).mean()"
   ]
  },
  {
   "cell_type": "code",
   "execution_count": null,
   "id": "ab9d0516",
   "metadata": {},
   "outputs": [],
   "source": [
    "# impact of rationales\n",
    "for v in all_gs[\"avg\"].xs(\"Task+Rules+Rat\", level=1) - all_gs[\"avg\"].xs(\"Task+Rules\", level=1):\n",
    "    print(np.round(v, 2))"
   ]
  },
  {
   "cell_type": "code",
   "execution_count": null,
   "id": "467e7753",
   "metadata": {},
   "outputs": [],
   "source": [
    "# impact of Rationales\n",
    "for v in all_gs[\"avg\"].xs(\"Task+Rules+Ex+Rat\", level=1) - all_gs[\"avg\"].xs(\"Task+Rules+Ex\", level=1):\n",
    "    print(np.round(v, 2))"
   ]
  },
  {
   "cell_type": "code",
   "execution_count": null,
   "id": "3b26834d",
   "metadata": {},
   "outputs": [],
   "source": [
    "# impact of rationales\n",
    "(all_gs.xs(\"Task+Rules+Rat\", level=1) - all_gs.xs(\"Task+Rules\", level=1)).mean()"
   ]
  },
  {
   "cell_type": "code",
   "execution_count": null,
   "id": "df11d085",
   "metadata": {},
   "outputs": [],
   "source": [
    "(all_gs.xs(\"Task+Rules+Ex+Rat\", level=1) - all_gs.xs(\"Task+Rules+Ex\", level=1)).mean()"
   ]
  },
  {
   "cell_type": "code",
   "execution_count": null,
   "id": "8fcf346f",
   "metadata": {},
   "outputs": [],
   "source": [
    "sa_df.select_dtypes(include=np.number).loc[\"flan-t5-large_seen\"] - sa_df.select_dtypes(include=np.number).loc[\"flan-t5-large_baseline_zero\"]"
   ]
  },
  {
   "cell_type": "code",
   "execution_count": null,
   "id": "092549b1",
   "metadata": {},
   "outputs": [],
   "source": [
    "dataset_results = pd.concat([sst_df[\"model\"], sst_df[\"method\"], sst_df[\"accuracy\"]*100, qqp_df[\"accuracy\"]*100, squad_df[\"exact_match\"], davidson_df[\"f1\"]*100, founta_df[\"f1\"]*100], axis=1)"
   ]
  },
  {
   "cell_type": "code",
   "execution_count": null,
   "id": "46037e9d",
   "metadata": {},
   "outputs": [],
   "source": [
    "dataset_results[\"avg\"] = dataset_results.mean(1, numeric_only=True)"
   ]
  },
  {
   "cell_type": "code",
   "execution_count": null,
   "id": "dedfa0a1",
   "metadata": {},
   "outputs": [],
   "source": [
    "suites_df = pd.concat(suite_results.values(), axis=1)"
   ]
  },
  {
   "cell_type": "code",
   "execution_count": null,
   "id": "b82e9552",
   "metadata": {},
   "outputs": [],
   "source": [
    "suites_df[\"avg\"] = suites_df.mean(1, numeric_only=True)"
   ]
  },
  {
   "cell_type": "code",
   "execution_count": null,
   "id": "7f813b52",
   "metadata": {},
   "outputs": [],
   "source": [
    "dataset_results.select_dtypes(include=np.number)[dataset_results[\"method\"] == \"Task+Rules+Ex\"] - dataset_results.select_dtypes(include=np.number)[dataset_results[\"method\"] == \"Task+Ex\"].values"
   ]
  },
  {
   "cell_type": "code",
   "execution_count": null,
   "id": "032059da",
   "metadata": {},
   "outputs": [],
   "source": [
    "(dataset_results.select_dtypes(include=np.number)[dataset_results[\"method\"] == \"Task+Ex\"] - dataset_results.select_dtypes(include=np.number)[dataset_results[\"method\"] == \"Task\"].values).mean()"
   ]
  },
  {
   "cell_type": "code",
   "execution_count": null,
   "id": "788f748e",
   "metadata": {},
   "outputs": [],
   "source": [
    "(dataset_results.select_dtypes(include=np.number)[dataset_results[\"method\"] == \"Task+Rules+Ex\"] - dataset_results.select_dtypes(include=np.number)[dataset_results[\"method\"] == \"Task+Rules\"].values).mean()"
   ]
  },
  {
   "cell_type": "code",
   "execution_count": null,
   "id": "eb29224c",
   "metadata": {},
   "outputs": [],
   "source": [
    "(dataset_results.select_dtypes(include=np.number)[dataset_results[\"method\"] == \"Task+Rules+Ex+Rat\"] - dataset_results.select_dtypes(include=np.number)[dataset_results[\"method\"] == \"Task+Rules+Rat\"].values).mean()"
   ]
  },
  {
   "cell_type": "code",
   "execution_count": null,
   "id": "e3dd1700",
   "metadata": {},
   "outputs": [],
   "source": [
    "(dataset_results.select_dtypes(include=np.number)[dataset_results[\"method\"] == \"Task+Rules+Rat\"] - dataset_results.select_dtypes(include=np.number)[dataset_results[\"method\"] == \"Task+Rules\"].values).mean()"
   ]
  },
  {
   "cell_type": "code",
   "execution_count": null,
   "id": "fc200e60",
   "metadata": {},
   "outputs": [],
   "source": [
    "(dataset_results.select_dtypes(include=np.number)[dataset_results[\"method\"] == \"Task+Rules+Ex+Rat\"] - dataset_results.select_dtypes(include=np.number)[dataset_results[\"method\"] == \"Task+Rules+Ex\"].values).mean()"
   ]
  },
  {
   "cell_type": "code",
   "execution_count": null,
   "id": "8cbe938b",
   "metadata": {},
   "outputs": [],
   "source": [
    "for suite in suite_results.values():\n",
    "    print(suite.select_dtypes(include=np.number).xs(\"Task+Rules+Ex\", level=1)[\"seen\"] - suite.select_dtypes(include=np.number).xs(\"Task+Ex\", level=1)[\"baseline\"])"
   ]
  },
  {
   "cell_type": "code",
   "execution_count": null,
   "id": "c213d668",
   "metadata": {},
   "outputs": [],
   "source": [
    "suites_df.select_dtypes(include=np.number).xs(\"Task+Rules+Ex\", level=1)[\"seen\"].mean(1) - suites_df.select_dtypes(include=np.number).xs(\"Task+Ex\", level=1)[\"baseline\"].mean(1)"
   ]
  },
  {
   "cell_type": "code",
   "execution_count": null,
   "id": "164f1fcb",
   "metadata": {},
   "outputs": [],
   "source": [
    "for suite in suite_results.values():\n",
    "    print((suite.select_dtypes(include=np.number).xs(\"Task+Ex\", level=1).mean(1) - suite.select_dtypes(include=np.number).xs(\"Task\", level=1).mean(1)).mean())"
   ]
  },
  {
   "cell_type": "code",
   "execution_count": null,
   "id": "54f6a0a6",
   "metadata": {},
   "outputs": [],
   "source": [
    "for suite in suite_results.values():\n",
    "    print((suite.select_dtypes(include=np.number).xs(\"Task+Rules+Ex\", level=1).mean(1) - suite.select_dtypes(include=np.number).xs(\"Task+Rules\", level=1).mean(1)).mean())"
   ]
  },
  {
   "cell_type": "code",
   "execution_count": null,
   "id": "0674aee7",
   "metadata": {},
   "outputs": [],
   "source": [
    "for suite in suite_results.values():\n",
    "    print((suite.select_dtypes(include=np.number).xs(\"Task+Rules+Ex+Rat\", level=1).mean(1) - suite.select_dtypes(include=np.number).xs(\"Task+Rules+Rat\", level=1).mean(1)).mean())"
   ]
  },
  {
   "cell_type": "code",
   "execution_count": null,
   "id": "77571db6",
   "metadata": {},
   "outputs": [],
   "source": [
    "for suite in suite_results.values():\n",
    "    print((suite.select_dtypes(include=np.number).xs(\"Task+Rules+Rat\", level=1).mean(1) - suite.select_dtypes(include=np.number).xs(\"Task+Rules\", level=1).mean(1)).mean())"
   ]
  },
  {
   "cell_type": "code",
   "execution_count": null,
   "id": "92d61e00",
   "metadata": {},
   "outputs": [],
   "source": [
    "for suite in suite_results.values():\n",
    "    print((suite.select_dtypes(include=np.number).xs(\"Task+Rules+Ex+Rat\", level=1).mean(1) - suite.select_dtypes(include=np.number).xs(\"Task+Rules+Ex\", level=1).mean(1)).mean())"
   ]
  },
  {
   "cell_type": "code",
   "execution_count": null,
   "id": "1f2e0400",
   "metadata": {},
   "outputs": [],
   "source": [
    "all_gs.xs(\"Task\",level=1)"
   ]
  },
  {
   "cell_type": "code",
   "execution_count": null,
   "id": "a9ae3fd2",
   "metadata": {},
   "outputs": [],
   "source": [
    "ruleMethods = [\"Task+Rules\", \"Task+Rules+Ex\", \"Task+Rules(cGPT)+Ex\", \"Task+Rules+Rat\", \"Task+Rules+Ex+Rat\"]"
   ]
  },
  {
   "cell_type": "code",
   "execution_count": null,
   "id": "6caa57dc",
   "metadata": {},
   "outputs": [],
   "source": [
    "ruleMethodsDf = all_gs.loc[pd.IndexSlice[:, ruleMethods], :]"
   ]
  },
  {
   "cell_type": "code",
   "execution_count": null,
   "id": "864e380a",
   "metadata": {},
   "outputs": [],
   "source": [
    "# impact on unseen cases\n",
    "for v in (ruleMethodsDf.iloc[:,range(0, len(all_gs.columns) - 1, 3)] - ruleMethodsDf.iloc[:,range(1, len(all_gs.columns) - 1, 3)].values).mean().values:\n",
    "    print(np.round(v, 2))"
   ]
  },
  {
   "cell_type": "code",
   "execution_count": null,
   "id": "1aed6347",
   "metadata": {},
   "outputs": [],
   "source": [
    "# impact on unseen cases\n",
    "(ruleMethodsDf.iloc[:,range(1, len(all_gs.columns) - 1, 3)] - ruleMethodsDf.iloc[:,range(0, len(all_gs.columns) - 1, 3)].values).mean().mean()"
   ]
  },
  {
   "cell_type": "code",
   "execution_count": null,
   "id": "c19561e2",
   "metadata": {},
   "outputs": [],
   "source": [
    "# impact on unseen cases\n",
    "for v in (ruleMethodsDf.iloc[:,range(0, len(all_gs.columns) - 1, 3)] - ruleMethodsDf.iloc[:,range(2, len(all_gs.columns) - 1, 3)].values).mean().values:\n",
    "    print(np.round(v, 2))"
   ]
  },
  {
   "cell_type": "code",
   "execution_count": null,
   "id": "97d8c168",
   "metadata": {},
   "outputs": [],
   "source": [
    "# impact on unseen cases\n",
    "(ruleMethodsDf.iloc[:,range(2, len(all_gs.columns) - 1, 3)] - ruleMethodsDf.iloc[:,range(0, len(all_gs.columns) - 1, 3)].values).mean().mean()"
   ]
  },
  {
   "cell_type": "code",
   "execution_count": null,
   "id": "08f7226a",
   "metadata": {},
   "outputs": [],
   "source": [
    "ruleMethodsDf.iloc[:,range(0, len(all_gs.columns) - 1, 3)].mean()"
   ]
  },
  {
   "cell_type": "code",
   "execution_count": null,
   "id": "d06f0e29",
   "metadata": {},
   "outputs": [],
   "source": [
    "ruleMethodsDf.iloc[:,range(1, len(all_gs.columns) - 1, 3)].mean()"
   ]
  },
  {
   "cell_type": "code",
   "execution_count": null,
   "id": "6e15a631",
   "metadata": {},
   "outputs": [],
   "source": [
    "ruleMethodsDf.iloc[:,range(2, len(all_gs.columns) - 1, 3)].mean()"
   ]
  },
  {
   "cell_type": "code",
   "execution_count": null,
   "id": "f23a229e",
   "metadata": {
    "scrolled": true
   },
   "outputs": [],
   "source": [
    "for v in (ruleMethodsDf.iloc[:,range(0, len(all_gs.columns) - 1, 3)] - ruleMethodsDf.iloc[:,range(1, len(all_gs.columns) - 1, 3)].values >=0).mean().values:\n",
    "    print(np.round(v*100, 2))"
   ]
  },
  {
   "cell_type": "code",
   "execution_count": null,
   "id": "21e9ec38",
   "metadata": {},
   "outputs": [],
   "source": [
    "for v in (all_gs.iloc[:,range(0, len(all_gs.columns) - 1, 3)] - all_gs.iloc[:,range(2, len(all_gs.columns) - 1, 3)].values >=0).mean():\n",
    "    print(np.round(v*100, 2))"
   ]
  },
  {
   "cell_type": "code",
   "execution_count": null,
   "id": "ddbc82fb",
   "metadata": {},
   "outputs": [],
   "source": [
    "# Rule improvemen (with demonstrations)\n",
    "for v in all_gs[\"avg\"].xs(\"Task+Rules+Ex\", level=1) - all_gs[\"avg\"].xs(\"Task+Ex\", level=1):\n",
    "    print(np.round(v, 2))"
   ]
  },
  {
   "cell_type": "code",
   "execution_count": null,
   "id": "d4052e1e",
   "metadata": {},
   "outputs": [],
   "source": [
    "# ChatGPT rules vs human rules\n",
    "\n",
    "(all_gs.xs(\"Task+Rules(chatGPT)+Ex\", level=1) - all_gs.xs(\"Task+Rules+Ex\", level=1)).mean(1)"
   ]
  },
  {
   "cell_type": "code",
   "execution_count": null,
   "id": "a537748e",
   "metadata": {
    "scrolled": true
   },
   "outputs": [],
   "source": [
    "(all_gs.xs(\"Task+Rules(chatGPT)+Ex\", level=1) - all_gs.xs(\"Task+Ex\", level=1)).mean(1)"
   ]
  },
  {
   "cell_type": "code",
   "execution_count": null,
   "id": "7a557755",
   "metadata": {},
   "outputs": [],
   "source": [
    "all_gs.xs(\"chatGPT\", level=0).iloc[:,range(0, len(all_gs.columns) - 1, 3)] "
   ]
  },
  {
   "cell_type": "code",
   "execution_count": null,
   "id": "b28a86c3",
   "metadata": {},
   "outputs": [],
   "source": [
    "all_gs.xs(\"chatGPT\", level=0).iloc[:,range(0, len(all_gs.columns) - 1, 3)].mean(1) "
   ]
  },
  {
   "cell_type": "code",
   "execution_count": null,
   "id": "8e2c333d",
   "metadata": {},
   "outputs": [],
   "source": [
    "all_gs.xs(\"chatGPT\", level=0).iloc[:,range(1, len(all_gs.columns) - 1, 3)].mean(1)"
   ]
  },
  {
   "cell_type": "code",
   "execution_count": null,
   "id": "a48ad78a",
   "metadata": {},
   "outputs": [],
   "source": [
    "all_gs.xs(\"chatGPT\", level=0).iloc[:,range(2, len(all_gs.columns) - 1, 3)].mean(1)"
   ]
  },
  {
   "cell_type": "markdown",
   "id": "dcce330b",
   "metadata": {},
   "source": [
    "### Table"
   ]
  },
  {
   "cell_type": "code",
   "execution_count": null,
   "id": "d816ba62",
   "metadata": {},
   "outputs": [],
   "source": [
    "with open(f\"./results/pvalues.pickle\", \"rb\") as file:\n",
    "        pvalues = pickle.load(file)"
   ]
  },
  {
   "cell_type": "code",
   "execution_count": null,
   "id": "6b421553",
   "metadata": {},
   "outputs": [],
   "source": [
    "pvalues_df = pd.DataFrame.from_dict(pvalues, orient=\"index\").reset_index()"
   ]
  },
  {
   "cell_type": "code",
   "execution_count": null,
   "id": "e16baf94",
   "metadata": {},
   "outputs": [],
   "source": [
    "pvalues_df = pvalues_df.rename(columns  ={\"level_0\": \"model\", \"level_1\":\"method\"})"
   ]
  },
  {
   "cell_type": "code",
   "execution_count": null,
   "id": "53466a2e",
   "metadata": {},
   "outputs": [],
   "source": [
    "pvalues_df = pd.concat([pvalues_df.drop('sa', axis=1), pd.DataFrame(pvalues_df['sa'].tolist()).rename(columns={\"seen\": \"seen_sa\",\n",
    "                                                                                                  \"funcOut\": \"funcOut_sa\",\n",
    "                                                                                                  \"classOut\": \"classOut_sa\"})], axis=1)"
   ]
  },
  {
   "cell_type": "code",
   "execution_count": null,
   "id": "c780285c",
   "metadata": {},
   "outputs": [],
   "source": [
    "pvalues_df = pd.concat([pvalues_df.drop('pi', axis=1), pd.DataFrame(pvalues_df['pi'].tolist()).rename(columns={\"seen\": \"seen_pi\",\n",
    "                                                                                                  \"funcOut\": \"funcOut_pi\",\n",
    "                                                                                                  \"classOut\": \"classOut_pi\"})], axis=1)"
   ]
  },
  {
   "cell_type": "code",
   "execution_count": null,
   "id": "b842e684",
   "metadata": {},
   "outputs": [],
   "source": [
    "pvalues_df = pd.concat([pvalues_df.drop('rc', axis=1), pd.DataFrame(pvalues_df['rc'].tolist()).rename(columns={\"seen\": \"seen_rc\",\n",
    "                                                                                                  \"funcOut\": \"funcOut_rc\",\n",
    "                                                                                                  \"classOut\": \"classOut_rc\"})], axis=1)"
   ]
  },
  {
   "cell_type": "code",
   "execution_count": null,
   "id": "4587bf3f",
   "metadata": {},
   "outputs": [],
   "source": [
    "pvalues_df = pd.concat([pvalues_df.drop('hsd_f', axis=1), pd.DataFrame(pvalues_df['hsd_f'].tolist()).rename(columns={\"seen\": \"seen_hsd_f\",\n",
    "                                                                                                  \"funcOut\": \"funcOut_hsd_f\",\n",
    "                                                                                                  \"classOut\": \"classOut_hsd_f\"})], axis=1)"
   ]
  },
  {
   "cell_type": "code",
   "execution_count": null,
   "id": "1723fb7e",
   "metadata": {},
   "outputs": [],
   "source": [
    "pvalues_df = pd.concat([pvalues_df.drop('hsd_d', axis=1), pd.DataFrame(pvalues_df['hsd_d'].tolist()).rename(columns={\"seen\": \"seen_hsd_d\",\n",
    "                                                                                                  \"funcOut\": \"funcOut_hsd_d\",\n",
    "                                                                                                  \"classOut\": \"classOut_hsd_d\"})], axis=1)"
   ]
  },
  {
   "cell_type": "code",
   "execution_count": null,
   "id": "e00c4c4a",
   "metadata": {},
   "outputs": [],
   "source": [
    "pvalues_df = pd.concat([pvalues_df.drop('avg', axis=1), pvalues_df['avg']], axis=1)"
   ]
  },
  {
   "cell_type": "code",
   "execution_count": null,
   "id": "56266270",
   "metadata": {},
   "outputs": [],
   "source": [
    "method_map = {\n",
    "    \"\": \"Task+Rules\",\n",
    "    \"example\": \"Task+Rules+Ex\",\n",
    "    \"from_chatGPT_example\": \"Task+Rules(chatGPT)+Ex\",\n",
    "    \"with_rules\": \"Task+Rules+Rat\",\n",
    "    \"example_with_rules\": \"Task+Rules+Ex+Rat\"\n",
    "}"
   ]
  },
  {
   "cell_type": "code",
   "execution_count": null,
   "id": "70498a55",
   "metadata": {},
   "outputs": [],
   "source": [
    "pvalues_df['model'] = [x.split(\"-\")[-1] for x in pvalues_df.model] \n",
    "pvalues_df['method'] = [method_map[x] for x in pvalues_df.method]"
   ]
  },
  {
   "cell_type": "code",
   "execution_count": null,
   "id": "e3684224",
   "metadata": {},
   "outputs": [],
   "source": [
    "pvalues_df = pvalues_df.set_index([\"model\", \"method\"])"
   ]
  },
  {
   "cell_type": "code",
   "execution_count": null,
   "id": "8e841f47",
   "metadata": {},
   "outputs": [],
   "source": [
    "table = pvalues_df.style"
   ]
  },
  {
   "cell_type": "code",
   "execution_count": null,
   "id": "7c706196",
   "metadata": {},
   "outputs": [],
   "source": [
    "table = table.format(precision=3)"
   ]
  },
  {
   "cell_type": "code",
   "execution_count": null,
   "id": "c5bc0e9d",
   "metadata": {},
   "outputs": [],
   "source": [
    "print(table.to_latex(multirow_align=\"t\"))"
   ]
  },
  {
   "cell_type": "code",
   "execution_count": null,
   "id": "26397b29",
   "metadata": {},
   "outputs": [],
   "source": [
    "pvalues_df.loc[(\"small\", \"Task\"), :] = 16*[1.0]\n",
    "pvalues_df.loc[(\"base\", \"Task\"), :] = 16*[1.0]\n",
    "pvalues_df.loc[(\"large\", \"Task\"), :] = 16*[1.0]\n",
    "pvalues_df.loc[(\"xl\", \"Task\"), :] = 16*[1.0]\n",
    "pvalues_df.loc[(\"xxl\", \"Task\"), :] = 16*[1.0]\n",
    "pvalues_df.loc[(\"chatGPT\", \"Task\"), :] = 16*[1.0]"
   ]
  },
  {
   "cell_type": "code",
   "execution_count": null,
   "id": "5716d624",
   "metadata": {},
   "outputs": [],
   "source": [
    "pvalues_df.loc[(\"small\", \"Task+Ex\"), :] = 16*[1.0]\n",
    "pvalues_df.loc[(\"base\", \"Task+Ex\"), :] = 16*[1.0]\n",
    "pvalues_df.loc[(\"large\", \"Task+Ex\"), :] = 16*[1.0]\n",
    "pvalues_df.loc[(\"xl\", \"Task+Ex\"), :] = 16*[1.0]\n",
    "pvalues_df.loc[(\"xxl\", \"Task+Ex\"), :] = 16*[1.0]\n",
    "pvalues_df.loc[(\"chatGPT\", \"Task+Ex\"), :] = 16*[1.0]"
   ]
  },
  {
   "cell_type": "code",
   "execution_count": null,
   "id": "6fa5fb68",
   "metadata": {},
   "outputs": [],
   "source": [
    "pvalues_df = pvalues_df.sort_index(key= lambda x: x.map(order))"
   ]
  },
  {
   "cell_type": "code",
   "execution_count": null,
   "id": "b4c6dbcb",
   "metadata": {},
   "outputs": [],
   "source": [
    "significant = pvalues_df < .05"
   ]
  },
  {
   "cell_type": "code",
   "execution_count": null,
   "id": "f499861b",
   "metadata": {},
   "outputs": [],
   "source": [
    "l = all_gs.style"
   ]
  },
  {
   "cell_type": "code",
   "execution_count": null,
   "id": "42616033",
   "metadata": {},
   "outputs": [],
   "source": [
    "l = l.format(precision=2)"
   ]
  },
  {
   "cell_type": "code",
   "execution_count": null,
   "id": "782d5ca9",
   "metadata": {},
   "outputs": [],
   "source": [
    "def baseline_index(i):\n",
    "    if i in [2, 5]: return 0\n",
    "    else: return 1"
   ]
  },
  {
   "cell_type": "code",
   "execution_count": null,
   "id": "fa5c8baf",
   "metadata": {},
   "outputs": [],
   "source": [
    "def color_values(df, significant):\n",
    "    better = \"textcolor: {PineGreen} --rwrap;\"\n",
    "    worse = \"textcolor: {red} --rwrap;\"\n",
    "    best = \"textbf:--rwrap;\"\n",
    "    same = '' \n",
    "    df1 =  pd.DataFrame(same, index=df.index, columns=df.columns)\n",
    "#     bb = df.apply(lambda x: [v == all_gs.iloc[i//7*7:i//7*7+7].to_numpy().max() for i, v in enumerate(x)], axis = 0)\n",
    "    b = df.apply(lambda x: [i% 7 not in  [0, 1] and v > x.iloc[i//7*7 + baseline_index(i%7)] for i, v in enumerate(x)], axis = 0)\n",
    "    w = df.apply(lambda x: [i% 7 not in  [0, 1] and v <  x.iloc[i//7*7 + baseline_index(i%7)] for i, v in enumerate(x)], axis = 0)\n",
    "    return df1.mask(b, better).mask(w, worse).mask(~significant, same)"
   ]
  },
  {
   "cell_type": "code",
   "execution_count": null,
   "id": "686479e9",
   "metadata": {},
   "outputs": [],
   "source": [
    "def color(df):\n",
    "    better = \"textcolor: {PineGreen} --rwrap;\"\n",
    "    worse = \"textcolor: {red} --rwrap;\"\n",
    "    best = \"textbf:--rwrap;\"\n",
    "    same = '' \n",
    "    df1 =  pd.DataFrame(same, index=df.index, columns=df.columns)\n",
    "#     bb = df.apply(lambda x: [v == all_gs.iloc[i//7*7:i//7*7+7].to_numpy().max() for i, v in enumerate(x)], axis = 0)\n",
    "    b = df.apply(lambda x: [i% 7 not in  [0, 1] and v > x.iloc[i//7*7 + baseline_index(i%7)] for i, v in enumerate(x)], axis = 0)\n",
    "    w = df.apply(lambda x: [i% 7 not in  [0, 1] and v <  x.iloc[i//7*7 + baseline_index(i%7)] for i, v in enumerate(x)], axis = 0)\n",
    "#     return df1.mask(bb, best).mask(b, better).mask(w, worse)\n",
    "    return df1.mask(b, better).mask(w, worse)"
   ]
  },
  {
   "cell_type": "code",
   "execution_count": null,
   "id": "c8a27ffb",
   "metadata": {},
   "outputs": [],
   "source": [
    "from functools import partial\n",
    "\n",
    "color = partial(color_values, significant=significant)"
   ]
  },
  {
   "cell_type": "code",
   "execution_count": null,
   "id": "79bbc2bf",
   "metadata": {},
   "outputs": [],
   "source": [
    "l = l.apply(color, axis=None)"
   ]
  },
  {
   "cell_type": "code",
   "execution_count": null,
   "id": "eea056ab",
   "metadata": {},
   "outputs": [],
   "source": [
    "l = l.highlight_max(axis=0, props=\"textbf:--rwrap;\")"
   ]
  },
  {
   "cell_type": "code",
   "execution_count": null,
   "id": "eefc4f75",
   "metadata": {},
   "outputs": [],
   "source": [
    "print(l.to_latex(multirow_align=\"t\"))"
   ]
  },
  {
   "cell_type": "code",
   "execution_count": null,
   "id": "f1f4f640",
   "metadata": {},
   "outputs": [],
   "source": [
    "all_gs.iloc[:,0:9].mean(1).sort_values()"
   ]
  },
  {
   "cell_type": "markdown",
   "id": "879609f9",
   "metadata": {},
   "source": [
    "## Figures"
   ]
  },
  {
   "cell_type": "code",
   "execution_count": null,
   "id": "13945f07",
   "metadata": {},
   "outputs": [],
   "source": [
    "dfs = [\n",
    "    sst_df,\n",
    "    qqp_df,\n",
    "    squad_df,\n",
    "    davidson_df,\n",
    "    founta_df,\n",
    "    sa_df,\n",
    "    pi_df,\n",
    "    rc_df,\n",
    "    hsd_df,\n",
    "]"
   ]
  },
  {
   "cell_type": "code",
   "execution_count": null,
   "id": "d4192c41",
   "metadata": {},
   "outputs": [],
   "source": [
    "values = [\"accuracy\", \"accuracy\", \"exact_match\", \"f1\", \"f1\", \"avg\", \"avg\", \"avg\", \"avg\"]"
   ]
  },
  {
   "cell_type": "code",
   "execution_count": null,
   "id": "e3ed4c87",
   "metadata": {},
   "outputs": [],
   "source": [
    "titles = [\"SST2\", \"QQP\", \"SQuAD\", \"Davidson\", \"Founta\", \"SENT Suite\", \"PARA Suite\", \"READ Suite\", \"HATE suite\"]"
   ]
  },
  {
   "cell_type": "code",
   "execution_count": null,
   "id": "aa6894ed",
   "metadata": {},
   "outputs": [],
   "source": [
    "fig, axes = plt.subplots(nrows=2, ncols=5, figsize=(15,6), gridspec_kw=dict(wspace=0.1))\n",
    "for row in range(2):\n",
    "    for col in range(5):\n",
    "        i = row*5 + col\n",
    "        if row == 1 and col==4: \n",
    "            fig.delaxes(axes[row][col])\n",
    "            break\n",
    "        value = values[i]\n",
    "        df = dfs[i].copy()\n",
    "        if row == 0 and col != 2: df[value] = df[value] *100\n",
    "        df = df.pivot(index=[\"model\"], columns=\"method\", values=value)\n",
    "        df = df.sort_values(by=\"model\", key=lambda x: x.map(order))\n",
    "        df = df[sorted(df.columns, key= lambda item: order[item])]\n",
    "        df.plot.bar(ax = axes[row, col], legend=0, ylim=(0,100), width=.8)\n",
    "        axes[row,col].xaxis.label.set_visible(False)\n",
    "        axes[row,col].title.set_text(titles[i])\n",
    "        if row == 0: axes[row,col].tick_params('x', labelbottom=False)\n",
    "        if col != 0: axes[row,col].tick_params('y', labelleft=False)\n",
    "handles, labels = axes[1,3].get_legend_handles_labels()\n",
    "fig.legend(handles, labels,  loc='upper left', bbox_to_anchor=(0.75, 0.45))"
   ]
  },
  {
   "cell_type": "code",
   "execution_count": null,
   "id": "3a8d650a",
   "metadata": {},
   "outputs": [],
   "source": [
    "fig.savefig(f\"../specification-instruction-paper/media/dataset_results.pdf\", bbox_inches = \"tight\")"
   ]
  },
  {
   "cell_type": "code",
   "execution_count": null,
   "id": "468192fb",
   "metadata": {},
   "outputs": [],
   "source": [
    "fig, axes = plt.subplots(nrows=2, ncols=5, figsize=(16,5), gridspec_kw=dict(wspace=0.1))\n",
    "for row in range(2):\n",
    "    for col in range(5):\n",
    "        i = row*5 + col\n",
    "        if row == 1 and col==4: \n",
    "            fig.delaxes(axes[row][col])\n",
    "            break\n",
    "        value = values[i]\n",
    "        df = dfs[i].copy()\n",
    "        if row == 0 and col != 2: df[value] = df[value] *100\n",
    "        df = df.pivot(index=[\"method\"], columns=\"model\", values=value)\n",
    "        df = df.sort_values(by=\"method\", key=lambda x: x.map(order))\n",
    "        df = df[sorted(df.columns, key= lambda item: order[item])]\n",
    "        df.plot.bar(ax = axes[row, col], legend=0, ylim=(0,100), width=.8, rot=90)\n",
    "        axes[row,col].xaxis.label.set_visible(False)\n",
    "        axes[row,col].title.set_text(titles[i])\n",
    "        if row == 0: axes[row,col].tick_params('x', labelbottom=False)\n",
    "        if col != 0: axes[row,col].tick_params('y', labelleft=False)\n",
    "handles, labels = axes[1,3].get_legend_handles_labels()\n",
    "fig.legend(handles, labels,  loc='upper left', bbox_to_anchor=(0.75, 0.45))"
   ]
  },
  {
   "cell_type": "code",
   "execution_count": null,
   "id": "8459064b",
   "metadata": {},
   "outputs": [],
   "source": [
    "fig.savefig(f\"../specification-instruction-paper/media/dataset_results_by_method.pdf\", bbox_inches = \"tight\")"
   ]
  },
  {
   "cell_type": "code",
   "execution_count": null,
   "id": "46f70e8e",
   "metadata": {},
   "outputs": [],
   "source": [
    "suite_dfs = dfs[5:]"
   ]
  },
  {
   "cell_type": "code",
   "execution_count": null,
   "id": "15b82338",
   "metadata": {},
   "outputs": [],
   "source": [
    "suites_agg_df = pd.concat([x[[\"avg\", \"model\", \"method\"]] if i == 0 else x[\"avg\"] for i, x in enumerate(suite_dfs)], axis = 1)"
   ]
  },
  {
   "cell_type": "code",
   "execution_count": null,
   "id": "77e10ead",
   "metadata": {},
   "outputs": [],
   "source": [
    "suites_agg_df.columns = [\"avg_sa\", \"model\", \"method\", \"avg_pi\", \"avg_rc\", \"avg_hsd\"]"
   ]
  },
  {
   "cell_type": "code",
   "execution_count": null,
   "id": "404dffc8",
   "metadata": {},
   "outputs": [],
   "source": [
    "suites_agg_df[\"avg\"] = suites_agg_df.mean(1)"
   ]
  },
  {
   "cell_type": "code",
   "execution_count": null,
   "id": "100c9d77",
   "metadata": {},
   "outputs": [],
   "source": [
    "data_dfs = [dataset_results, suites_agg_df]"
   ]
  },
  {
   "cell_type": "code",
   "execution_count": null,
   "id": "0b1cb668",
   "metadata": {},
   "outputs": [],
   "source": [
    "fig, axes = plt.subplots(nrows=2, ncols=1, figsize=(16,5), gridspec_kw=dict(wspace=0.1))\n",
    "titles = [\"Datasets\", \"Suites\"]\n",
    "for row in range(2):\n",
    "    df = data_dfs[row].copy().reset_index()\n",
    "    df = df.pivot(index=[\"model\"], columns=\"method\", values=\"avg\")\n",
    "    df = df.sort_values(by=\"model\", key=lambda x: x.map(order))\n",
    "    df = df[sorted(df.columns, key= lambda item: order[item])]\n",
    "    df.plot.bar(ax = axes[row], legend=0, width=.8)\n",
    "    axes[row].xaxis.label.set_visible(False)\n",
    "    axes[row].title.set_text(titles[row])\n",
    "    if row == 0: axes[row].tick_params('x', labelbottom=False)\n",
    "#     if col != 0: axes[row,col].tick_params('y', labelleft=False)\n",
    "handles, labels = axes[1].get_legend_handles_labels()\n",
    "fig.legend(handles, labels, loc='upper center', bbox_to_anchor=(0.5, +1.05),\n",
    "          fancybox=True, shadow=True, ncol=7)"
   ]
  },
  {
   "cell_type": "code",
   "execution_count": null,
   "id": "c3f0a227",
   "metadata": {},
   "outputs": [],
   "source": [
    "dataset_results = dataset_results.sort_values(by=[\"model\", \"method\"], key=lambda x: x.map(order))"
   ]
  },
  {
   "cell_type": "code",
   "execution_count": null,
   "id": "00f59eaf",
   "metadata": {},
   "outputs": [],
   "source": [
    "suites_agg_df = suites_agg_df.sort_values(by=[\"model\", \"method\"], key=lambda x: x.map(order))"
   ]
  },
  {
   "cell_type": "code",
   "execution_count": null,
   "id": "0e961360",
   "metadata": {},
   "outputs": [],
   "source": [
    "comps = []\n",
    "for method in [\"Task+Rules\", \"Task+Rules+Ex\", \"Task+Rules(chatGPT)+Ex\", \"Task+Rules+Rat\", \"Task+Rules+Ex+Rat\"]:\n",
    "    if \"Ex\" in method:\n",
    "        base = \"Task+Ex\"\n",
    "    else:\n",
    "        base = \"Task\"\n",
    "    comps.append(dataset_results.select_dtypes(include=np.number)[dataset_results.method == method] - dataset_results.select_dtypes(include=np.number)[dataset_results.method == base].values)\n",
    "    comps[-1][\"method\"] = dataset_results[dataset_results.method == method].method\n",
    "    comps[-1][\"model\"] = dataset_results[dataset_results.method == method].model\n",
    "dataset_diffs = pd.concat(comps)"
   ]
  },
  {
   "cell_type": "code",
   "execution_count": null,
   "id": "a0b12932",
   "metadata": {},
   "outputs": [],
   "source": [
    "comps = []\n",
    "df = suites_agg_df.copy()\n",
    "for method in [\"Task+Rules\", \"Task+Rules+Ex\", \"Task+Rules(chatGPT)+Ex\", \"Task+Rules+Rat\", \"Task+Rules+Ex+Rat\"]:\n",
    "    if \"Ex\" in method:\n",
    "        base = \"Task+Ex\"\n",
    "    else:\n",
    "        base = \"Task\"\n",
    "    comps.append(df.select_dtypes(include=np.number)[df.method == method] - df.select_dtypes(include=np.number)[df.method == base].values)\n",
    "    comps[-1][\"method\"] = df[df.method == method].method\n",
    "    comps[-1][\"model\"] = df[df.method == method].model\n",
    "suite_diffs = pd.concat(comps)"
   ]
  },
  {
   "cell_type": "code",
   "execution_count": null,
   "id": "551d4e70",
   "metadata": {},
   "outputs": [],
   "source": [
    "cycle = plt.rcParams['axes.prop_cycle'].by_key()['color']"
   ]
  },
  {
   "cell_type": "code",
   "execution_count": null,
   "id": "e49f2847",
   "metadata": {},
   "outputs": [],
   "source": [
    "comps[0]"
   ]
  },
  {
   "cell_type": "code",
   "execution_count": null,
   "id": "5cefe122",
   "metadata": {},
   "outputs": [],
   "source": [
    "fig, axes = plt.subplots(nrows=2, ncols=5, figsize=(15,6))\n",
    "values = ['accuracy_sa', 'accuracy_pi', 'exact_match', 'f1_d', 'f1_f', 'avg_sa', 'avg_pi', 'avg_rc', 'avg_hsd']\n",
    "titles = [\"SST2\", \"QQP\", \"SQuAD\", \"Davidson\", \"Founta\", \"SENT Suite\", \"PARA Suite\", \"READ Suite\", \"HATE suite\"]\n",
    "dataset_diffs.columns = ['accuracy_sa', 'accuracy_pi', 'exact_match', 'f1_d', 'f1_f', \"avg\", \"method\", \"model\"]\n",
    "data_dfs = [dataset_diffs, suite_diffs]\n",
    "for row in range(2):\n",
    "    for col in range(5):\n",
    "        i = row*5 + col\n",
    "        if row == 1 and col==4: \n",
    "            fig.delaxes(axes[row][col])\n",
    "            break\n",
    "        value = values[i]\n",
    "        df = data_dfs[row].copy()\n",
    "        df = df.pivot(index=[\"model\"], columns=\"method\", values=value)\n",
    "        df = df.sort_values(by=\"model\", key=lambda x: x.map(order))\n",
    "        df = df[sorted(df.columns, key= lambda item: order[item])]\n",
    "        df.plot.bar(ax = axes[row, col], legend=0, width=.8, color = cycle[2:])\n",
    "        axes[row,col].xaxis.label.set_visible(False)\n",
    "        axes[row,col].title.set_text(titles[i])\n",
    "        axes[row, col].axhline(0, color='black', linewidth=.5)\n",
    "#         axes[row, col].set_yscale(\"symlog\")\n",
    "        if row == 0: axes[row,col].tick_params('x', labelbottom=False)\n",
    "#         if col != 0: axes[row,col].tick_params('y', labelleft=False)\n",
    "handles, labels = axes[1,3].get_legend_handles_labels()\n",
    "fig.legend(handles, labels,  loc='upper left', bbox_to_anchor=(0.75, 0.45))"
   ]
  },
  {
   "cell_type": "code",
   "execution_count": null,
   "id": "4f9e0f77",
   "metadata": {},
   "outputs": [],
   "source": [
    "fig.savefig(f\"../specification-instruction-paper/media/dataset_results_diffs.pdf\", bbox_inches = \"tight\")"
   ]
  },
  {
   "cell_type": "code",
   "execution_count": null,
   "id": "309b4458",
   "metadata": {},
   "outputs": [],
   "source": [
    "data_dfs = [dataset_diffs[[\"model\", \"method\", \"avg\"]], suite_diffs[[\"model\", \"method\", \"avg\"]]]"
   ]
  },
  {
   "cell_type": "code",
   "execution_count": null,
   "id": "c0389791",
   "metadata": {},
   "outputs": [],
   "source": [
    "fig, axes = plt.subplots(nrows=2, ncols=1, figsize=(12,6), gridspec_kw=dict(wspace=0.1))\n",
    "titles = [\"Datasets\", \"Suites\"] \n",
    "for row in range(2):\n",
    "    df = data_dfs[row].copy().reset_index()\n",
    "    df = df.pivot(index=[\"model\"], columns=\"method\", values=\"avg\")\n",
    "    df = df.sort_values(by=\"model\", key=lambda x: x.map(order))\n",
    "    df = df[sorted(df.columns, key= lambda item: order[item])]\n",
    "    df.plot.bar(ax = axes[row], legend=0, width=.8, color = cycle[2:])\n",
    "    axes[row].xaxis.label.set_visible(False)\n",
    "    axes[row].title.set_text(titles[row])\n",
    "#     axes[row].set_yscale(\"symlog\", linthresh = .01)\n",
    "    axes[row].axhline(0, color='black', linewidth=.5)\n",
    "    if row == 0: axes[row].tick_params('x', labelbottom=False)\n",
    "#     if col != 0: axes[row,col].tick_params('y', labelleft=False)\n",
    "handles, labels = axes[1].get_legend_handles_labels()\n",
    "fig.legend(handles, labels, loc='upper center', bbox_to_anchor=(0.5, +1.05),\n",
    "          fancybox=True, shadow=True, ncol=7)"
   ]
  },
  {
   "cell_type": "code",
   "execution_count": null,
   "id": "d80c415e",
   "metadata": {},
   "outputs": [],
   "source": [
    "fig.savefig(f\"../specification-instruction-paper/media/dataset_results_agg_diffs.pdf\", bbox_inches = \"tight\")"
   ]
  },
  {
   "cell_type": "markdown",
   "id": "2a223d99",
   "metadata": {},
   "source": [
    "### Rule generation quality vs functionality performances"
   ]
  },
  {
   "cell_type": "code",
   "execution_count": null,
   "id": "f09cd12a",
   "metadata": {},
   "outputs": [],
   "source": [
    "func_scores = pd.concat([sa_df, pi_df, rc_df, hsd_df], axis=1)"
   ]
  },
  {
   "cell_type": "code",
   "execution_count": null,
   "id": "410c3cb3",
   "metadata": {},
   "outputs": [],
   "source": [
    "rule_ratings = pd.read_csv(\"./data/chatGPTgeneratedRules/rule_ratings.csv\").T"
   ]
  },
  {
   "cell_type": "code",
   "execution_count": null,
   "id": "4fb680a0",
   "metadata": {},
   "outputs": [],
   "source": [
    "tasks = 36*[\"SENT\"] + 53*[\"PARA\"] + 24*[\"READ\"] + 29*[\"HATE\"]"
   ]
  },
  {
   "cell_type": "code",
   "execution_count": null,
   "id": "61e44f1e",
   "metadata": {},
   "outputs": [],
   "source": [
    "rule_ratings.columns = rule_ratings.loc[\"Functionality\"]"
   ]
  },
  {
   "cell_type": "code",
   "execution_count": null,
   "id": "9a1725bd",
   "metadata": {},
   "outputs": [],
   "source": [
    "rule_ratings"
   ]
  },
  {
   "cell_type": "code",
   "execution_count": null,
   "id": "72b5150e",
   "metadata": {},
   "outputs": [],
   "source": [
    "func_scores.loc[\"ratings\"] = rule_ratings.loc[\"Rating\"]"
   ]
  },
  {
   "cell_type": "code",
   "execution_count": null,
   "id": "f0900c6f",
   "metadata": {},
   "outputs": [],
   "source": [
    "func_scores = func_scores.T"
   ]
  },
  {
   "cell_type": "code",
   "execution_count": null,
   "id": "2ac4afd4",
   "metadata": {},
   "outputs": [],
   "source": [
    "func_scores = func_scores.iloc[:-3]"
   ]
  },
  {
   "cell_type": "code",
   "execution_count": null,
   "id": "eb315195",
   "metadata": {},
   "outputs": [],
   "source": [
    "func_scores = func_scores.drop(index=[\"avg\", \"model\", \"method\", \"score\"])"
   ]
  },
  {
   "cell_type": "code",
   "execution_count": null,
   "id": "d78b9d3b",
   "metadata": {},
   "outputs": [],
   "source": [
    "func_scores[\"task\"] = tasks"
   ]
  },
  {
   "cell_type": "code",
   "execution_count": null,
   "id": "0c8d5f9a",
   "metadata": {},
   "outputs": [],
   "source": [
    "func_scores"
   ]
  },
  {
   "cell_type": "code",
   "execution_count": null,
   "id": "e1baefb5",
   "metadata": {},
   "outputs": [],
   "source": [
    "func_scores.groupby([\"task\", \"ratings\"]).mean()[[\"chatGPT_seen_example\", \"chatGPT_seen_from_chatGPT_example\"]]"
   ]
  },
  {
   "cell_type": "code",
   "execution_count": null,
   "id": "f8b1da3e",
   "metadata": {},
   "outputs": [],
   "source": [
    "func_scores.groupby([\"task\", \"ratings\"]).mean()[[\"chatGPT_seen_example\", \"chatGPT_seen_from_chatGPT_example\"]]"
   ]
  },
  {
   "cell_type": "code",
   "execution_count": null,
   "id": "87c9b6d6",
   "metadata": {},
   "outputs": [],
   "source": [
    "func_scores.groupby([\"task\", \"ratings\"]).mean()[[\"chatGPT_seen_example\", \"chatGPT_seen_from_chatGPT_example\"]]"
   ]
  },
  {
   "cell_type": "code",
   "execution_count": null,
   "id": "85333f0c",
   "metadata": {},
   "outputs": [],
   "source": [
    "func_scores[[\"chatGPT_seen_example\", \"chatGPT_seen_from_chatGPT_example\"]]"
   ]
  },
  {
   "cell_type": "code",
   "execution_count": null,
   "id": "af6c5aea",
   "metadata": {},
   "outputs": [],
   "source": [
    "plt.rcParams.update({'font.size': 13})"
   ]
  },
  {
   "cell_type": "code",
   "execution_count": null,
   "id": "82fe2ef7",
   "metadata": {},
   "outputs": [],
   "source": [
    "fig, axes = plt.subplots(nrows=1, ncols=2, figsize=(10,5), gridspec_kw=dict(wspace=0.1), sharex=True, sharey=False)\n",
    "axes = func_scores.boxplot(by=\"ratings\", column=[\"chatGPT_baseline_example\", \"chatGPT_seen_from_chatGPT_example\"], ax=axes)\n",
    "axes[0].title.set_text(\"Task+Ex pass rates by rating\")\n",
    "axes[1].title.set_text(\"Task+Rules(cGPT)+Ex pass rates by rating\")\n",
    "axes[0].xaxis.label.set_visible(False)\n",
    "axes[1].xaxis.label.set_text(\"Rating\")\n",
    "fig.suptitle(\"\")"
   ]
  },
  {
   "cell_type": "code",
   "execution_count": null,
   "id": "f014d563",
   "metadata": {},
   "outputs": [],
   "source": [
    "fig.savefig(f\"../specification-instruction-paper/media/funcVsGen.pdf\", bbox_inches = \"tight\")"
   ]
  },
  {
   "cell_type": "markdown",
   "id": "eb536b98",
   "metadata": {},
   "source": [
    "### Table functionality descriptions"
   ]
  },
  {
   "cell_type": "code",
   "execution_count": null,
   "id": "485d655e",
   "metadata": {},
   "outputs": [],
   "source": [
    "rule_ratings = rule_ratings.T"
   ]
  },
  {
   "cell_type": "code",
   "execution_count": null,
   "id": "cff2936b",
   "metadata": {},
   "outputs": [],
   "source": [
    "rule_ratings"
   ]
  },
  {
   "cell_type": "code",
   "execution_count": null,
   "id": "92a7d3bb",
   "metadata": {},
   "outputs": [],
   "source": [
    "sa_ratings = rule_ratings.iloc[:38].copy()"
   ]
  },
  {
   "cell_type": "code",
   "execution_count": null,
   "id": "76ecc0bb",
   "metadata": {},
   "outputs": [],
   "source": [
    "pi_ratings = rule_ratings.iloc[38:38+53].copy()"
   ]
  },
  {
   "cell_type": "code",
   "execution_count": null,
   "id": "18f66bdc",
   "metadata": {},
   "outputs": [],
   "source": [
    "rc_ratings = rule_ratings.iloc[38+53:38+53+24].copy()"
   ]
  },
  {
   "cell_type": "code",
   "execution_count": null,
   "id": "af7ff8e1",
   "metadata": {},
   "outputs": [],
   "source": [
    "hsd_ratings = rule_ratings.iloc[38+53+24:].copy()"
   ]
  },
  {
   "cell_type": "code",
   "execution_count": null,
   "id": "9c9b387a",
   "metadata": {},
   "outputs": [],
   "source": [
    "for task, ratings in zip([\"sa\", \"pi\", \"rc\", \"hsd\"], [sa_ratings, pi_ratings, rc_ratings, hsd_ratings]):\n",
    "    with open(f\"./data/{task}/suite/func_desc.pkl\", \"rb\") as file:\n",
    "        func_desc = pickle.load(file)\n",
    "        order = {func.replace('\"', \"\"): idx for idx, func in enumerate(ratings.Functionality.tolist())}\n",
    "        od = collections.OrderedDict(sorted(func_desc.items(), key= lambda item: order[item[0].replace('\"', \"\")]))\n",
    "        ratings[\"h_descriptions\"] = od.values()"
   ]
  },
  {
   "cell_type": "code",
   "execution_count": null,
   "id": "c89b32f2",
   "metadata": {},
   "outputs": [],
   "source": [
    "sa_ratings"
   ]
  },
  {
   "cell_type": "code",
   "execution_count": null,
   "id": "2285f977",
   "metadata": {},
   "outputs": [],
   "source": [
    "sa_table = sa_ratings[[\"Functionality\", \"h_descriptions\", \"Description\", \"Rating\"]].style.format(escape=\"latex\")"
   ]
  },
  {
   "cell_type": "code",
   "execution_count": null,
   "id": "cafdfc0a",
   "metadata": {},
   "outputs": [],
   "source": [
    "print(sa_table.hide(axis=0).to_latex())"
   ]
  },
  {
   "cell_type": "code",
   "execution_count": null,
   "id": "58d393af",
   "metadata": {},
   "outputs": [],
   "source": [
    "pi_table = pi_ratings[[\"Functionality\", \"h_descriptions\", \"Description\", \"Rating\"]].style.format(escape=\"latex\")"
   ]
  },
  {
   "cell_type": "code",
   "execution_count": null,
   "id": "723ff847",
   "metadata": {},
   "outputs": [],
   "source": [
    "print(pi_table.hide(axis=0).to_latex())"
   ]
  },
  {
   "cell_type": "code",
   "execution_count": null,
   "id": "06d467f7",
   "metadata": {},
   "outputs": [],
   "source": [
    "rc_table = rc_ratings[[\"Functionality\", \"h_descriptions\", \"Description\", \"Rating\"]].style.format(escape=\"latex\")"
   ]
  },
  {
   "cell_type": "code",
   "execution_count": null,
   "id": "95023d2b",
   "metadata": {},
   "outputs": [],
   "source": [
    "print(rc_table.hide(axis=0).to_latex())"
   ]
  },
  {
   "cell_type": "code",
   "execution_count": null,
   "id": "78043fdc",
   "metadata": {},
   "outputs": [],
   "source": [
    "hsd_ratings"
   ]
  },
  {
   "cell_type": "code",
   "execution_count": null,
   "id": "26fab319",
   "metadata": {},
   "outputs": [],
   "source": [
    "hsd_table = hsd_ratings[[\"Functionality\", \"h_descriptions\", \"Description\", \"Rating\"]].style.format(escape=\"latex\")"
   ]
  },
  {
   "cell_type": "code",
   "execution_count": null,
   "id": "cb4f501e",
   "metadata": {},
   "outputs": [],
   "source": [
    "print(hsd_table.hide(axis=0).to_latex())"
   ]
  },
  {
   "cell_type": "code",
   "execution_count": null,
   "id": "1321a341",
   "metadata": {},
   "outputs": [],
   "source": [
    "all_ratings = pd.concat([sa_ratings, pi_ratings, rc_ratings, hsd_ratings])"
   ]
  },
  {
   "cell_type": "code",
   "execution_count": null,
   "id": "bff744d5",
   "metadata": {},
   "outputs": [],
   "source": [
    "all_ratings.Description.str.split().str.len().describe()"
   ]
  },
  {
   "cell_type": "code",
   "execution_count": null,
   "id": "4bef1aec",
   "metadata": {},
   "outputs": [],
   "source": [
    "all_ratings.h_descriptions.str.split().str.len().describe()"
   ]
  },
  {
   "cell_type": "code",
   "execution_count": null,
   "id": "eb702d9a",
   "metadata": {},
   "outputs": [],
   "source": [
    "all_ratings.iloc[90][\"h_descriptions\"]"
   ]
  },
  {
   "cell_type": "code",
   "execution_count": null,
   "id": "872595a3",
   "metadata": {},
   "outputs": [],
   "source": [
    "pi_ratings.iloc[0].Description"
   ]
  },
  {
   "cell_type": "markdown",
   "id": "b6729550",
   "metadata": {},
   "source": [
    "### Table rationale analysis"
   ]
  },
  {
   "cell_type": "code",
   "execution_count": null,
   "id": "07e91cd3",
   "metadata": {},
   "outputs": [],
   "source": [
    "rat_samples = pd.read_csv(\"./results/labelled_rat_samples.csv\")"
   ]
  },
  {
   "cell_type": "code",
   "execution_count": null,
   "id": "e9fe54b3",
   "metadata": {},
   "outputs": [],
   "source": [
    "rat_samples = rat_samples[[\"input\", \"pred\", \"Explanation correct\", \"Pred match expl.\", \"Why no correct\", \"Correct answer\"]]"
   ]
  },
  {
   "cell_type": "code",
   "execution_count": null,
   "id": "d8ee2125",
   "metadata": {},
   "outputs": [],
   "source": [
    "rat_samples"
   ]
  },
  {
   "cell_type": "code",
   "execution_count": null,
   "id": "4e3358ad",
   "metadata": {},
   "outputs": [],
   "source": [
    "rat_samples[\"Explanation correct\"].value_counts()"
   ]
  },
  {
   "cell_type": "code",
   "execution_count": null,
   "id": "374ca8ed",
   "metadata": {},
   "outputs": [],
   "source": [
    "21/40"
   ]
  },
  {
   "cell_type": "code",
   "execution_count": null,
   "id": "1659deea",
   "metadata": {},
   "outputs": [],
   "source": [
    "rat_samples[\"Pred match expl.\"].value_counts()"
   ]
  },
  {
   "cell_type": "code",
   "execution_count": null,
   "id": "259c7fa7",
   "metadata": {},
   "outputs": [],
   "source": [
    "rat_samples[\"Why no correct\"].value_counts()"
   ]
  },
  {
   "cell_type": "code",
   "execution_count": null,
   "id": "d855f92d",
   "metadata": {},
   "outputs": [],
   "source": [
    "rat_samples[\"Correct answer\"].value_counts()"
   ]
  },
  {
   "cell_type": "code",
   "execution_count": null,
   "id": "591e7904",
   "metadata": {},
   "outputs": [],
   "source": [
    "rat_samples[rat_samples[\"Explanation correct\"] == \"1\"][\"Correct answer\"].value_counts()"
   ]
  },
  {
   "cell_type": "code",
   "execution_count": null,
   "id": "3a1eb531",
   "metadata": {},
   "outputs": [],
   "source": [
    "rat_samples[rat_samples[\"Explanation correct\"] == \"0\"][\"Correct answer\"].value_counts()"
   ]
  },
  {
   "cell_type": "code",
   "execution_count": null,
   "id": "94f48dfd",
   "metadata": {},
   "outputs": [],
   "source": [
    "rat_samples.groupby(\"Why no correct\")[\"Correct answer\"].value_counts()"
   ]
  },
  {
   "cell_type": "markdown",
   "id": "4a17a3ac",
   "metadata": {},
   "source": [
    "## Qualitative analysis: samples that frequently change"
   ]
  },
  {
   "cell_type": "code",
   "execution_count": null,
   "id": "dec6b72f",
   "metadata": {},
   "outputs": [],
   "source": [
    "def process_df(df):\n",
    "    df['model'] = [x.split(\"_\")[0] for x in df.index]\n",
    "    df['method'] = [x.split(\"_\")[1] for x in df.index]\n",
    "    df[\"score\"] = df[\"method\"]\n",
    "    df['method'] = [\"Task\" if \"baseline\" in x else f\"Task+Rules\" for x in df.method]\n",
    "    df['method'] = [y+\"(chatGPT)\"  if \"from_chatGPT\" in x else y for x,y in zip(df.index, df.method)]\n",
    "    df['method'] =  [y+\"+Ex\"  if \"example\" in x else y for x,y in zip(df.index, df.method)]\n",
    "    df['method'] =  [y+\"+Rat\"  if \"rules\" in x else y for x,y in zip(df.index, df.method)]\n",
    "    df[\"model\"] = df.model.str.split(\"-\").str[-1]\n",
    "    df = df.sort_values([\"model\", \"method\"], key=lambda x: x.map(order))\n",
    "    return df"
   ]
  },
  {
   "cell_type": "code",
   "execution_count": null,
   "id": "fce900ed",
   "metadata": {},
   "outputs": [],
   "source": [
    "def dataset_hits_df(task, result_path, dataset_test, metric, label_col=\"label\"):\n",
    "    results = load_results(result_path)\n",
    "    results = {k: v for k, v in results.items() if \"seen\" in k or \"baseline\" in k}\n",
    "    dataset_scores, preds = get_dataset_scores(task, results, dataset_test[label_col], metric)\n",
    "    labels = dataset_test[label_col] if task != \"rc\" else [x[\"text\"] for x in dataset_test[\"answers\"]]\n",
    "    hits = {}\n",
    "    for model, pred in preds.items():\n",
    "        if task != \"rc\":\n",
    "            hits[model] = (np.array(pred) == np.array(labels)).astype(int)\n",
    "        else:\n",
    "            hits[model] = np.array([metric_max_over_ground_truths(exact_match_score, p[\"prediction_text\"], label) for p, label in zip(pred, labels)]).astype(int)\n",
    "    df = pd.DataFrame(hits).T\n",
    "    df = process_df(df)\n",
    "    return df, results"
   ]
  },
  {
   "cell_type": "code",
   "execution_count": null,
   "id": "52d59290",
   "metadata": {},
   "outputs": [],
   "source": [
    "def suite_hits_df(task, path, suite_test):\n",
    "    hits = load_hits(path)\n",
    "    all_hits = {}\n",
    "    for model, hit in hits.items():\n",
    "        all_hits.setdefault(model, []).extend([x for v in hit.values() for x in v])\n",
    "    if task == \"sa\":\n",
    "        suite_test = suite_test.filter(lambda x: x[\"functionality\"] not in  ['\"used to\" should reduce', 'reducers'])\n",
    "    test_id_to_row = collections.OrderedDict()\n",
    "    if task != \"hsd\":\n",
    "        for i, ex in enumerate(suite_test):\n",
    "            test_id_to_row.setdefault((ex[\"functionality\"], ex[\"test_id\"]), []).append(i)\n",
    "    df = pd.DataFrame(all_hits).T\n",
    "    df = process_df(df)\n",
    "    df = df[(df.score == \"seen\") | (df.score == \"baseline\")]\n",
    "    return df, test_id_to_row"
   ]
  },
  {
   "cell_type": "code",
   "execution_count": null,
   "id": "c0d6b509",
   "metadata": {},
   "outputs": [],
   "source": [
    "def get_diffs(df):\n",
    "    comps = [(\"Task+Rules\", \"Task\"),\n",
    "             (\"Task+Rules+Ex\", \"Task+Ex\"),\n",
    "             (\"Task+Rules(chatGPT)+Ex\", \"Task+Ex\"),\n",
    "             (\"Task+Rules+Rat\", \"Task\"),\n",
    "             (\"Task+Rules+Ex+Rat\", \"Task+Ex\")]\n",
    "    better = (df.select_dtypes(include=np.number)[(df.method == \"Task+Rules\") & (df.score==\"seen\")] > df.select_dtypes(include=np.number)[df.method == \"Task\"].values).sum()\n",
    "    worse =  (df.select_dtypes(include=np.number)[(df.method == \"Task+Rules\") & (df.score==\"seen\")] < df.select_dtypes(include=np.number)[df.method == \"Task\"].values).sum()\n",
    "    for a, b in comps[1:]:\n",
    "        better += (df.select_dtypes(include=np.number)[(df.method == a) & (df.score==\"seen\")] > df.select_dtypes(include=np.number)[df.method == b].values).sum()\n",
    "        worse += (df.select_dtypes(include=np.number)[(df.method == a) & (df.score==\"seen\")] < df.select_dtypes(include=np.number)[df.method == b].values).sum()\n",
    "    return better, worse"
   ]
  },
  {
   "cell_type": "markdown",
   "id": "ac226449",
   "metadata": {},
   "source": [
    "### Sentiment analysis"
   ]
  },
  {
   "cell_type": "code",
   "execution_count": null,
   "id": "0003abff",
   "metadata": {},
   "outputs": [],
   "source": [
    "result_path = Path(f\"./results/sa/sst2/\")"
   ]
  },
  {
   "cell_type": "code",
   "execution_count": null,
   "id": "bd6c40ea",
   "metadata": {},
   "outputs": [],
   "source": [
    "dataset_test = load_dataset(\"glue\", \"sst2\")[\"validation\"]"
   ]
  },
  {
   "cell_type": "code",
   "execution_count": null,
   "id": "06638295",
   "metadata": {},
   "outputs": [],
   "source": [
    "metric = load_metric(\"glue\",\"sst2\")"
   ]
  },
  {
   "cell_type": "code",
   "execution_count": null,
   "id": "7ed84f21",
   "metadata": {},
   "outputs": [],
   "source": [
    "df, preds = dataset_hits_df(\"sa\", result_path, dataset_test, metric)"
   ]
  },
  {
   "cell_type": "code",
   "execution_count": null,
   "id": "a01c50a0",
   "metadata": {},
   "outputs": [],
   "source": [
    "better, worse = get_diffs(df)"
   ]
  },
  {
   "cell_type": "code",
   "execution_count": null,
   "id": "9ad20227",
   "metadata": {},
   "outputs": [],
   "source": [
    "better.value_counts(), worse.value_counts()"
   ]
  },
  {
   "cell_type": "code",
   "execution_count": null,
   "id": "e8791415",
   "metadata": {},
   "outputs": [],
   "source": [
    "better.argmax(), better.max()"
   ]
  },
  {
   "cell_type": "code",
   "execution_count": null,
   "id": "603a6993",
   "metadata": {},
   "outputs": [],
   "source": [
    "worse.argmax(), worse.max()"
   ]
  },
  {
   "cell_type": "code",
   "execution_count": null,
   "id": "907c6372",
   "metadata": {},
   "outputs": [],
   "source": [
    "dataset_test[377]"
   ]
  },
  {
   "cell_type": "code",
   "execution_count": null,
   "id": "7d479d84",
   "metadata": {},
   "outputs": [],
   "source": [
    "worse[377]"
   ]
  },
  {
   "cell_type": "code",
   "execution_count": null,
   "id": "5e8a9b1b",
   "metadata": {},
   "outputs": [],
   "source": [
    "dataset_test[312]"
   ]
  },
  {
   "cell_type": "code",
   "execution_count": null,
   "id": "3b2848a7",
   "metadata": {},
   "outputs": [],
   "source": [
    "better[312]"
   ]
  },
  {
   "cell_type": "code",
   "execution_count": null,
   "id": "0f103506",
   "metadata": {},
   "outputs": [],
   "source": [
    "path = Path(\"results/sa/suite/\")"
   ]
  },
  {
   "cell_type": "code",
   "execution_count": null,
   "id": "86d28a79",
   "metadata": {},
   "outputs": [],
   "source": [
    "suite_test = get_suite(config.sa_path)[\"test\"]"
   ]
  },
  {
   "cell_type": "code",
   "execution_count": null,
   "id": "26b50297",
   "metadata": {},
   "outputs": [],
   "source": [
    "df, test_id_to_row = suite_hits_df(\"sa\", path, suite_test)"
   ]
  },
  {
   "cell_type": "code",
   "execution_count": null,
   "id": "2aa3c8ca",
   "metadata": {},
   "outputs": [],
   "source": [
    "better, worse = get_diffs(df)"
   ]
  },
  {
   "cell_type": "code",
   "execution_count": null,
   "id": "cceeff4a",
   "metadata": {},
   "outputs": [],
   "source": [
    "better.value_counts(), worse.value_counts()"
   ]
  },
  {
   "cell_type": "code",
   "execution_count": null,
   "id": "c4816c5e",
   "metadata": {},
   "outputs": [],
   "source": [
    "better.argmax(), better.max()"
   ]
  },
  {
   "cell_type": "code",
   "execution_count": null,
   "id": "380a558b",
   "metadata": {},
   "outputs": [],
   "source": [
    "worse.argmax(), worse.max()"
   ]
  },
  {
   "cell_type": "code",
   "execution_count": null,
   "id": "b9965c3b",
   "metadata": {},
   "outputs": [],
   "source": [
    "worse[worse == 15]"
   ]
  },
  {
   "cell_type": "code",
   "execution_count": null,
   "id": "02a06832",
   "metadata": {},
   "outputs": [],
   "source": [
    "suite_test[list(test_id_to_row.items())[4648][1]]"
   ]
  },
  {
   "cell_type": "code",
   "execution_count": null,
   "id": "17a1ae37",
   "metadata": {},
   "outputs": [],
   "source": [
    "worse[4648]"
   ]
  },
  {
   "cell_type": "code",
   "execution_count": null,
   "id": "cd2bb137",
   "metadata": {},
   "outputs": [],
   "source": [
    "suite_test[list(test_id_to_row.items())[7180][1]]"
   ]
  },
  {
   "cell_type": "code",
   "execution_count": null,
   "id": "4ca00de1",
   "metadata": {},
   "outputs": [],
   "source": [
    "better[7180]"
   ]
  },
  {
   "cell_type": "code",
   "execution_count": null,
   "id": "8c8f768f",
   "metadata": {},
   "outputs": [],
   "source": [
    "suite_test[list(test_id_to_row.items())[13924][1]]"
   ]
  },
  {
   "cell_type": "code",
   "execution_count": null,
   "id": "97700d69",
   "metadata": {},
   "outputs": [],
   "source": [
    "df[13924]"
   ]
  },
  {
   "cell_type": "code",
   "execution_count": null,
   "id": "e9ad98fd",
   "metadata": {},
   "outputs": [],
   "source": [
    "better[13924]"
   ]
  },
  {
   "cell_type": "markdown",
   "id": "07b6d823",
   "metadata": {},
   "source": [
    "### Paraphrase identification"
   ]
  },
  {
   "cell_type": "code",
   "execution_count": null,
   "id": "d8143d23",
   "metadata": {},
   "outputs": [],
   "source": [
    "result_path = Path(f\"./results/pi/qqp/\")"
   ]
  },
  {
   "cell_type": "code",
   "execution_count": null,
   "id": "21ecde10",
   "metadata": {},
   "outputs": [],
   "source": [
    "dataset_test = load_dataset(\"glue\", \"qqp\")[\"validation\"]"
   ]
  },
  {
   "cell_type": "code",
   "execution_count": null,
   "id": "92cb6167",
   "metadata": {},
   "outputs": [],
   "source": [
    "metric = load_metric(\"glue\",\"qqp\")"
   ]
  },
  {
   "cell_type": "code",
   "execution_count": null,
   "id": "0ffa2eb6",
   "metadata": {},
   "outputs": [],
   "source": [
    "df, preds = dataset_hits_df(\"pi\", result_path, dataset_test, metric)"
   ]
  },
  {
   "cell_type": "code",
   "execution_count": null,
   "id": "1a936127",
   "metadata": {},
   "outputs": [],
   "source": [
    "better, worse = get_diffs(df)"
   ]
  },
  {
   "cell_type": "code",
   "execution_count": null,
   "id": "a5a8d0e2",
   "metadata": {},
   "outputs": [],
   "source": [
    "better.value_counts(), worse.value_counts()"
   ]
  },
  {
   "cell_type": "code",
   "execution_count": null,
   "id": "fbc8269c",
   "metadata": {},
   "outputs": [],
   "source": [
    "better.argmax(), better.max()"
   ]
  },
  {
   "cell_type": "code",
   "execution_count": null,
   "id": "fc738e2a",
   "metadata": {},
   "outputs": [],
   "source": [
    "worse.argmax(), worse.max()"
   ]
  },
  {
   "cell_type": "code",
   "execution_count": null,
   "id": "ab4cd3f6",
   "metadata": {},
   "outputs": [],
   "source": [
    "dataset_test[22480]"
   ]
  },
  {
   "cell_type": "code",
   "execution_count": null,
   "id": "d3e24e80",
   "metadata": {},
   "outputs": [],
   "source": [
    "preds[\"chatGPT_seen_example_with_rules\"][22480]"
   ]
  },
  {
   "cell_type": "code",
   "execution_count": null,
   "id": "6bad0903",
   "metadata": {},
   "outputs": [],
   "source": [
    "worse[22480]"
   ]
  },
  {
   "cell_type": "code",
   "execution_count": null,
   "id": "ac04bca5",
   "metadata": {},
   "outputs": [],
   "source": [
    "dataset_test[19260]"
   ]
  },
  {
   "cell_type": "code",
   "execution_count": null,
   "id": "7794049c",
   "metadata": {},
   "outputs": [],
   "source": [
    "better[19260]"
   ]
  },
  {
   "cell_type": "code",
   "execution_count": null,
   "id": "edf4893c",
   "metadata": {},
   "outputs": [],
   "source": [
    "preds[\"chatGPT_seen_example_with_rules\"][19260]"
   ]
  },
  {
   "cell_type": "code",
   "execution_count": null,
   "id": "c940f642",
   "metadata": {},
   "outputs": [],
   "source": [
    "path = Path(\"results/pi/suite/\")"
   ]
  },
  {
   "cell_type": "code",
   "execution_count": null,
   "id": "21021caa",
   "metadata": {},
   "outputs": [],
   "source": [
    "suite_test = get_suite(config.pi_path)[\"test\"]"
   ]
  },
  {
   "cell_type": "code",
   "execution_count": null,
   "id": "00ddb47e",
   "metadata": {},
   "outputs": [],
   "source": [
    "df, test_id_to_row = suite_hits_df(\"pi\", path, suite_test)"
   ]
  },
  {
   "cell_type": "code",
   "execution_count": null,
   "id": "ed6a8b35",
   "metadata": {},
   "outputs": [],
   "source": [
    "better, worse = get_diffs(df)"
   ]
  },
  {
   "cell_type": "code",
   "execution_count": null,
   "id": "7240d3b8",
   "metadata": {},
   "outputs": [],
   "source": [
    "better.value_counts(), worse.value_counts()"
   ]
  },
  {
   "cell_type": "code",
   "execution_count": null,
   "id": "775b2467",
   "metadata": {},
   "outputs": [],
   "source": [
    "better.argmax(), better.max()"
   ]
  },
  {
   "cell_type": "code",
   "execution_count": null,
   "id": "4083429c",
   "metadata": {},
   "outputs": [],
   "source": [
    "worse.argmax(), worse.max()"
   ]
  },
  {
   "cell_type": "code",
   "execution_count": null,
   "id": "b5e7c5da",
   "metadata": {},
   "outputs": [],
   "source": [
    "better[better==19]"
   ]
  },
  {
   "cell_type": "code",
   "execution_count": null,
   "id": "124cb059",
   "metadata": {},
   "outputs": [],
   "source": [
    "suite_test[list(test_id_to_row.items())[1327][1]]"
   ]
  },
  {
   "cell_type": "code",
   "execution_count": null,
   "id": "a7f33b3f",
   "metadata": {},
   "outputs": [],
   "source": [
    "worse[1327]"
   ]
  },
  {
   "cell_type": "code",
   "execution_count": null,
   "id": "92ca7557",
   "metadata": {},
   "outputs": [],
   "source": [
    "suite_test[list(test_id_to_row.items())[15009][1]]"
   ]
  },
  {
   "cell_type": "code",
   "execution_count": null,
   "id": "a44a62ba",
   "metadata": {},
   "outputs": [],
   "source": [
    "worse[15009]"
   ]
  },
  {
   "cell_type": "code",
   "execution_count": null,
   "id": "f8227d8c",
   "metadata": {},
   "outputs": [],
   "source": [
    "suite_test[list(test_id_to_row.items())[1621][1]]"
   ]
  },
  {
   "cell_type": "code",
   "execution_count": null,
   "id": "cf967f7e",
   "metadata": {},
   "outputs": [],
   "source": [
    "better[1621]"
   ]
  },
  {
   "cell_type": "markdown",
   "id": "bdcfc2a7",
   "metadata": {},
   "source": [
    "### Reading comprehension"
   ]
  },
  {
   "cell_type": "code",
   "execution_count": null,
   "id": "e603f7ba",
   "metadata": {},
   "outputs": [],
   "source": [
    "result_path = Path(f\"./results/rc/squad/\")"
   ]
  },
  {
   "cell_type": "code",
   "execution_count": null,
   "id": "8b21945f",
   "metadata": {},
   "outputs": [],
   "source": [
    "sqadv2 = load_dataset(\"squad_v2\")[\"validation\"]"
   ]
  },
  {
   "cell_type": "code",
   "execution_count": null,
   "id": "9ad740de",
   "metadata": {},
   "outputs": [],
   "source": [
    "dataset_test = load_dataset(\"squad\")[\"validation\"]"
   ]
  },
  {
   "cell_type": "code",
   "execution_count": null,
   "id": "da7f69a5",
   "metadata": {},
   "outputs": [],
   "source": [
    "metric = load_metric(\"squad\")"
   ]
  },
  {
   "cell_type": "code",
   "execution_count": null,
   "id": "924e3e10",
   "metadata": {},
   "outputs": [],
   "source": [
    "df, preds = dataset_hits_df(\"rc\", result_path, dataset_test, metric, label_col=\"answers\")"
   ]
  },
  {
   "cell_type": "code",
   "execution_count": null,
   "id": "bf1f56fb",
   "metadata": {},
   "outputs": [],
   "source": [
    "better, worse = get_diffs(df)"
   ]
  },
  {
   "cell_type": "code",
   "execution_count": null,
   "id": "243b9651",
   "metadata": {},
   "outputs": [],
   "source": [
    "better.value_counts(), worse.value_counts()"
   ]
  },
  {
   "cell_type": "code",
   "execution_count": null,
   "id": "778a77eb",
   "metadata": {
    "scrolled": true
   },
   "outputs": [],
   "source": [
    "better.argmax(), better.max()"
   ]
  },
  {
   "cell_type": "code",
   "execution_count": null,
   "id": "991eaa0b",
   "metadata": {},
   "outputs": [],
   "source": [
    "worse.argmax(), worse.max()"
   ]
  },
  {
   "cell_type": "code",
   "execution_count": null,
   "id": "53aa39c9",
   "metadata": {},
   "outputs": [],
   "source": [
    "dataset_test[2054]"
   ]
  },
  {
   "cell_type": "code",
   "execution_count": null,
   "id": "5b48c2da",
   "metadata": {},
   "outputs": [],
   "source": [
    "worse[2054]"
   ]
  },
  {
   "cell_type": "code",
   "execution_count": null,
   "id": "f4e1c225",
   "metadata": {},
   "outputs": [],
   "source": [
    "preds[\"flan-t5-xxl_baseline_example\"][2054]"
   ]
  },
  {
   "cell_type": "code",
   "execution_count": null,
   "id": "82ca0cd1",
   "metadata": {},
   "outputs": [],
   "source": [
    "preds[\"chatGPT_seen_example_with_rules\"][2054]"
   ]
  },
  {
   "cell_type": "code",
   "execution_count": null,
   "id": "08e36d4f",
   "metadata": {},
   "outputs": [],
   "source": [
    "dataset_test[7344]"
   ]
  },
  {
   "cell_type": "code",
   "execution_count": null,
   "id": "6ae2d6df",
   "metadata": {},
   "outputs": [],
   "source": [
    "better[7344]"
   ]
  },
  {
   "cell_type": "code",
   "execution_count": null,
   "id": "3e5071cf",
   "metadata": {},
   "outputs": [],
   "source": [
    "preds[\"chatGPT_seen_example_with_rules\"][7344]"
   ]
  },
  {
   "cell_type": "code",
   "execution_count": null,
   "id": "1beb40c2",
   "metadata": {},
   "outputs": [],
   "source": [
    "path = Path(\"results/rc/suite/\")"
   ]
  },
  {
   "cell_type": "code",
   "execution_count": null,
   "id": "20af10c2",
   "metadata": {},
   "outputs": [],
   "source": [
    "suite_test = get_suite(config.rc_path)[\"test\"]"
   ]
  },
  {
   "cell_type": "code",
   "execution_count": null,
   "id": "e286f377",
   "metadata": {},
   "outputs": [],
   "source": [
    "df, test_id_to_row = suite_hits_df(\"rc\", path, suite_test)"
   ]
  },
  {
   "cell_type": "code",
   "execution_count": null,
   "id": "e0c5c0d3",
   "metadata": {},
   "outputs": [],
   "source": [
    "better, worse = get_diffs(df)"
   ]
  },
  {
   "cell_type": "code",
   "execution_count": null,
   "id": "429c9f10",
   "metadata": {},
   "outputs": [],
   "source": [
    "better.value_counts(), worse.value_counts()"
   ]
  },
  {
   "cell_type": "code",
   "execution_count": null,
   "id": "f2062821",
   "metadata": {},
   "outputs": [],
   "source": [
    "better.argmax(), better.max()"
   ]
  },
  {
   "cell_type": "code",
   "execution_count": null,
   "id": "19d0f37d",
   "metadata": {},
   "outputs": [],
   "source": [
    "worse.argmax(), worse.max()"
   ]
  },
  {
   "cell_type": "code",
   "execution_count": null,
   "id": "c97b34bb",
   "metadata": {},
   "outputs": [],
   "source": [
    "suite_test[list(test_id_to_row.items())[3108][1]]"
   ]
  },
  {
   "cell_type": "code",
   "execution_count": null,
   "id": "782cc8a9",
   "metadata": {},
   "outputs": [],
   "source": [
    "worse[3108]"
   ]
  },
  {
   "cell_type": "code",
   "execution_count": null,
   "id": "dc342723",
   "metadata": {
    "scrolled": false
   },
   "outputs": [],
   "source": [
    "suite_test[list(test_id_to_row.items())[3145][1]]"
   ]
  },
  {
   "cell_type": "code",
   "execution_count": null,
   "id": "b5973076",
   "metadata": {},
   "outputs": [],
   "source": [
    "better[3145]"
   ]
  },
  {
   "cell_type": "markdown",
   "id": "bb2e2374",
   "metadata": {},
   "source": [
    "### Hate speech detection"
   ]
  },
  {
   "cell_type": "code",
   "execution_count": null,
   "id": "979abe4d",
   "metadata": {},
   "outputs": [],
   "source": [
    "result_path = Path(f\"./results/hsd/davidson2017/\")"
   ]
  },
  {
   "cell_type": "code",
   "execution_count": null,
   "id": "dd5fef15",
   "metadata": {},
   "outputs": [],
   "source": [
    "dataset_test = load_hsd_dataset(\"davidson2017\")[\"test\"]"
   ]
  },
  {
   "cell_type": "code",
   "execution_count": null,
   "id": "8997776a",
   "metadata": {},
   "outputs": [],
   "source": [
    "metric = load_metric(\"glue\", \"qqp\")"
   ]
  },
  {
   "cell_type": "code",
   "execution_count": null,
   "id": "c7a6a68f",
   "metadata": {},
   "outputs": [],
   "source": [
    "df, preds = dataset_hits_df(\"hsd\", result_path, dataset_test, metric)"
   ]
  },
  {
   "cell_type": "code",
   "execution_count": null,
   "id": "dd89853f",
   "metadata": {},
   "outputs": [],
   "source": [
    "better, worse = get_diffs(df)"
   ]
  },
  {
   "cell_type": "code",
   "execution_count": null,
   "id": "b828a7df",
   "metadata": {},
   "outputs": [],
   "source": [
    "better.value_counts(), worse.value_counts()"
   ]
  },
  {
   "cell_type": "code",
   "execution_count": null,
   "id": "2bd81925",
   "metadata": {
    "scrolled": true
   },
   "outputs": [],
   "source": [
    "better.argmax(), better.max()"
   ]
  },
  {
   "cell_type": "code",
   "execution_count": null,
   "id": "75bcd84e",
   "metadata": {},
   "outputs": [],
   "source": [
    "worse.argmax(), worse.max()"
   ]
  },
  {
   "cell_type": "code",
   "execution_count": null,
   "id": "912318ae",
   "metadata": {},
   "outputs": [],
   "source": [
    "better[better==10]"
   ]
  },
  {
   "cell_type": "code",
   "execution_count": null,
   "id": "b2fe29a8",
   "metadata": {},
   "outputs": [],
   "source": [
    "dataset_test[89]"
   ]
  },
  {
   "cell_type": "code",
   "execution_count": null,
   "id": "0846093c",
   "metadata": {},
   "outputs": [],
   "source": [
    "preds[\"chatGPT_seen_example_with_rules\"][89]"
   ]
  },
  {
   "cell_type": "code",
   "execution_count": null,
   "id": "ecaef704",
   "metadata": {},
   "outputs": [],
   "source": [
    "worse[89]"
   ]
  },
  {
   "cell_type": "code",
   "execution_count": null,
   "id": "4e946dd4",
   "metadata": {},
   "outputs": [],
   "source": [
    "dataset_test[484]"
   ]
  },
  {
   "cell_type": "code",
   "execution_count": null,
   "id": "d4ee66e1",
   "metadata": {},
   "outputs": [],
   "source": [
    "preds[\"chatGPT_seen_with_rules\"][484]"
   ]
  },
  {
   "cell_type": "code",
   "execution_count": null,
   "id": "8da442dc",
   "metadata": {},
   "outputs": [],
   "source": [
    "worse[484]"
   ]
  },
  {
   "cell_type": "code",
   "execution_count": null,
   "id": "a7dc0442",
   "metadata": {},
   "outputs": [],
   "source": [
    "dataset_test[1718]"
   ]
  },
  {
   "cell_type": "code",
   "execution_count": null,
   "id": "0fcda7a2",
   "metadata": {},
   "outputs": [],
   "source": [
    "preds[\"chatGPT_seen_example_with_rules\"][1718]"
   ]
  },
  {
   "cell_type": "code",
   "execution_count": null,
   "id": "ec1f2c95",
   "metadata": {},
   "outputs": [],
   "source": [
    "better[1718]"
   ]
  },
  {
   "cell_type": "code",
   "execution_count": null,
   "id": "7908ff7a",
   "metadata": {},
   "outputs": [],
   "source": [
    "result_path = Path(f\"./results/hsd/founta2018/\")"
   ]
  },
  {
   "cell_type": "code",
   "execution_count": null,
   "id": "121740b6",
   "metadata": {},
   "outputs": [],
   "source": [
    "dataset_test = load_hsd_dataset(\"founta2018\")[\"test\"]"
   ]
  },
  {
   "cell_type": "code",
   "execution_count": null,
   "id": "b718a7cb",
   "metadata": {},
   "outputs": [],
   "source": [
    "df, preds = dataset_hits_df(\"hsd\", result_path, dataset_test, metric)"
   ]
  },
  {
   "cell_type": "code",
   "execution_count": null,
   "id": "0628aac1",
   "metadata": {},
   "outputs": [],
   "source": [
    "better, worse = get_diffs(df)"
   ]
  },
  {
   "cell_type": "code",
   "execution_count": null,
   "id": "766eb07c",
   "metadata": {},
   "outputs": [],
   "source": [
    "better.value_counts(), worse.value_counts()"
   ]
  },
  {
   "cell_type": "code",
   "execution_count": null,
   "id": "3706634e",
   "metadata": {
    "scrolled": true
   },
   "outputs": [],
   "source": [
    "better.argmax(), better.max()"
   ]
  },
  {
   "cell_type": "code",
   "execution_count": null,
   "id": "c3b7f576",
   "metadata": {},
   "outputs": [],
   "source": [
    "worse.argmax(), worse.max()"
   ]
  },
  {
   "cell_type": "code",
   "execution_count": null,
   "id": "8ec19010",
   "metadata": {},
   "outputs": [],
   "source": [
    "dataset_test[9520]"
   ]
  },
  {
   "cell_type": "code",
   "execution_count": null,
   "id": "a5cd5a21",
   "metadata": {},
   "outputs": [],
   "source": [
    "preds[\"chatGPT_seen_example_with_rules\"][9520]"
   ]
  },
  {
   "cell_type": "code",
   "execution_count": null,
   "id": "8e05fe58",
   "metadata": {},
   "outputs": [],
   "source": [
    "preds[\"chatGPT_seen_with_rules\"][9520]"
   ]
  },
  {
   "cell_type": "code",
   "execution_count": null,
   "id": "2ce3b674",
   "metadata": {},
   "outputs": [],
   "source": [
    "worse[9520]"
   ]
  },
  {
   "cell_type": "code",
   "execution_count": null,
   "id": "e13785fb",
   "metadata": {},
   "outputs": [],
   "source": [
    "preds[\"chatGPT_seen_example_with_rules\"][1021]"
   ]
  },
  {
   "cell_type": "code",
   "execution_count": null,
   "id": "f8603168",
   "metadata": {},
   "outputs": [],
   "source": [
    "worse[worse==12]"
   ]
  },
  {
   "cell_type": "code",
   "execution_count": null,
   "id": "aad828c6",
   "metadata": {},
   "outputs": [],
   "source": [
    "dataset_test[1021]"
   ]
  },
  {
   "cell_type": "code",
   "execution_count": null,
   "id": "c80bd0c5",
   "metadata": {},
   "outputs": [],
   "source": [
    "better[1021]"
   ]
  },
  {
   "cell_type": "code",
   "execution_count": null,
   "id": "7d9636f1",
   "metadata": {},
   "outputs": [],
   "source": [
    "dataset_test[4717]"
   ]
  },
  {
   "cell_type": "code",
   "execution_count": null,
   "id": "b3782e35",
   "metadata": {},
   "outputs": [],
   "source": [
    "better[4717]"
   ]
  },
  {
   "cell_type": "code",
   "execution_count": null,
   "id": "abbef823",
   "metadata": {},
   "outputs": [],
   "source": [
    "dataset_test[8296]"
   ]
  },
  {
   "cell_type": "code",
   "execution_count": null,
   "id": "c12d2036",
   "metadata": {},
   "outputs": [],
   "source": [
    "better[8296]"
   ]
  },
  {
   "cell_type": "code",
   "execution_count": null,
   "id": "64cbebed",
   "metadata": {},
   "outputs": [],
   "source": [
    "dataset_test[8492]"
   ]
  },
  {
   "cell_type": "code",
   "execution_count": null,
   "id": "24186128",
   "metadata": {},
   "outputs": [],
   "source": [
    "better[8492]"
   ]
  },
  {
   "cell_type": "code",
   "execution_count": null,
   "id": "a1960d0a",
   "metadata": {},
   "outputs": [],
   "source": [
    "preds[\"chatGPT_seen_example_with_rules\"][4717]"
   ]
  },
  {
   "cell_type": "code",
   "execution_count": null,
   "id": "bdddf032",
   "metadata": {},
   "outputs": [],
   "source": [
    "preds[\"chatGPT_seen_with_rules\"][4717]"
   ]
  },
  {
   "cell_type": "code",
   "execution_count": null,
   "id": "d58ffa1d",
   "metadata": {},
   "outputs": [],
   "source": [
    "path = Path(\"results/hsd/suite/\")"
   ]
  },
  {
   "cell_type": "code",
   "execution_count": null,
   "id": "6503b180",
   "metadata": {},
   "outputs": [],
   "source": [
    "suite_test = get_suite(config.hatecheck_path, hateCheck=True)[\"test\"]"
   ]
  },
  {
   "cell_type": "code",
   "execution_count": null,
   "id": "132c857f",
   "metadata": {},
   "outputs": [],
   "source": [
    "df, preds = dataset_hits_df(\"hsd\", path, suite_test, metric, label_col=\"label_gold\")"
   ]
  },
  {
   "cell_type": "code",
   "execution_count": null,
   "id": "b7f01079",
   "metadata": {},
   "outputs": [],
   "source": [
    "better, worse = get_diffs(df)"
   ]
  },
  {
   "cell_type": "code",
   "execution_count": null,
   "id": "5a219221",
   "metadata": {},
   "outputs": [],
   "source": [
    "better.value_counts(), worse.value_counts()"
   ]
  },
  {
   "cell_type": "code",
   "execution_count": null,
   "id": "b3e375d3",
   "metadata": {},
   "outputs": [],
   "source": [
    "better.argmax(), better.max()"
   ]
  },
  {
   "cell_type": "code",
   "execution_count": null,
   "id": "08382121",
   "metadata": {},
   "outputs": [],
   "source": [
    "worse.argmax(), worse.max()"
   ]
  },
  {
   "cell_type": "code",
   "execution_count": null,
   "id": "27fd468f",
   "metadata": {},
   "outputs": [],
   "source": [
    "better[better==13]"
   ]
  },
  {
   "cell_type": "code",
   "execution_count": null,
   "id": "e88b3425",
   "metadata": {},
   "outputs": [],
   "source": [
    "suite_test[762]"
   ]
  },
  {
   "cell_type": "code",
   "execution_count": null,
   "id": "526f6e57",
   "metadata": {},
   "outputs": [],
   "source": [
    "worse[762]"
   ]
  },
  {
   "cell_type": "code",
   "execution_count": null,
   "id": "7b807cd7",
   "metadata": {},
   "outputs": [],
   "source": [
    "preds[\"chatGPT_seen_example_with_rules\"][762]"
   ]
  },
  {
   "cell_type": "code",
   "execution_count": null,
   "id": "a492bbf6",
   "metadata": {},
   "outputs": [],
   "source": [
    "suite_test[846]"
   ]
  },
  {
   "cell_type": "code",
   "execution_count": null,
   "id": "3369757b",
   "metadata": {},
   "outputs": [],
   "source": [
    "worse[846]"
   ]
  },
  {
   "cell_type": "code",
   "execution_count": null,
   "id": "9e3eafa8",
   "metadata": {},
   "outputs": [],
   "source": [
    "suite_test[859]"
   ]
  },
  {
   "cell_type": "code",
   "execution_count": null,
   "id": "498ce45c",
   "metadata": {},
   "outputs": [],
   "source": [
    "worse[859]"
   ]
  },
  {
   "cell_type": "code",
   "execution_count": null,
   "id": "ec97fbec",
   "metadata": {},
   "outputs": [],
   "source": [
    "suite_test[872]"
   ]
  },
  {
   "cell_type": "code",
   "execution_count": null,
   "id": "47baf5b0",
   "metadata": {},
   "outputs": [],
   "source": [
    "better[872]"
   ]
  },
  {
   "cell_type": "code",
   "execution_count": null,
   "id": "303b9a3d",
   "metadata": {},
   "outputs": [],
   "source": []
  }
 ],
 "metadata": {
  "kernelspec": {
   "display_name": "specification-instruction",
   "language": "python",
   "name": "specification-instruction"
  },
  "language_info": {
   "codemirror_mode": {
    "name": "ipython",
    "version": 3
   },
   "file_extension": ".py",
   "mimetype": "text/x-python",
   "name": "python",
   "nbconvert_exporter": "python",
   "pygments_lexer": "ipython3",
   "version": "3.10.9"
  }
 },
 "nbformat": 4,
 "nbformat_minor": 5
}
