{
 "cells": [
  {
   "cell_type": "code",
   "execution_count": null,
   "id": "7c2950a9",
   "metadata": {},
   "outputs": [],
   "source": [
    "%load_ext autoreload\n",
    "%autoreload 2\n",
    "\n",
    "from pathlib import Path\n",
    "from datasets import load_dataset, load_metric, concatenate_datasets\n",
    "from utils.results import *\n",
    "from utils.prompts import *\n",
    "from data_sets.data_utils import load_hsd_dataset,  get_suite\n",
    "from transformers import T5TokenizerFast\n",
    "from scipy.stats import kendalltau\n",
    "import seaborn as sns\n",
    "import numpy as np\n",
    "import pandas as pd\n",
    "import config\n",
    "import collections\n",
    "import pickle\n",
    "import matplotlib.pyplot as plt"
   ]
  },
  {
   "cell_type": "code",
   "execution_count": null,
   "id": "0fb864ce",
   "metadata": {},
   "outputs": [],
   "source": [
    "def kendall_pval(x,y):\n",
    "    return kendalltau(x,y)[1]"
   ]
  },
  {
   "cell_type": "code",
   "execution_count": null,
   "id": "433fdb5e",
   "metadata": {},
   "outputs": [],
   "source": [
    "tokenizer = T5TokenizerFast.from_pretrained(\"google/flan-t5-small\")"
   ]
  },
  {
   "cell_type": "code",
   "execution_count": null,
   "id": "57cc7309",
   "metadata": {},
   "outputs": [],
   "source": [
    "tokenizer.model_max_length = 4096"
   ]
  },
  {
   "cell_type": "code",
   "execution_count": null,
   "id": "06dc70f8",
   "metadata": {},
   "outputs": [],
   "source": [
    "def get_prompt_length_and_perf(df, test_data, examples_per_label, task, suite=False):\n",
    "    performances_with_lengths = pd.DataFrame()\n",
    "    with open(f\"./data/{task}/suite/class_to_funcs.pkl\", \"rb\") as file:\n",
    "            class_to_funcs = pickle.load(file)\n",
    "    func_to_class = {func: func_class for func_class, funcs in class_to_funcs.items() for func in funcs.keys()}\n",
    "    with open(f\"./data/{task}/suite/func_desc.pkl\", \"rb\") as file:\n",
    "        human_func_desc = pickle.load(file)\n",
    "    with open(f\"./data/chatGPTgeneratedRules/{task}/rules.json\", \"r\") as file:\n",
    "        chatGPT_func_desc = json.load(file)\n",
    "    for method, data in df.groupby([\"method\", \"score\"]):\n",
    "        prompt_perf = pd.DataFrame(data.T.iloc[:-3].mean(1), columns=[\"avg\"])\n",
    "        from_chatGPT=True if \"chatGPT\" in method[0] else False\n",
    "        ask_rule = True if \"Rat\" in method[0] else False\n",
    "        add_examples = True if \"Ex\" in method[0] else False\n",
    "        if not add_examples:\n",
    "            output_format = \"\\nOutput a concise, minimal answer.\"\n",
    "            examples=None\n",
    "        else:\n",
    "            output_format = \"\"\n",
    "            examples = examples_per_label\n",
    "        if not from_chatGPT:\n",
    "            func_desc = human_func_desc\n",
    "        else:\n",
    "            func_desc = chatGPT_func_desc\n",
    "        prompts = prompt(task, test_data, method=method[1], func_desc=func_desc, func_to_class=func_to_class,\n",
    "                                class_to_funcs=class_to_funcs, suite=suite, ask_rule=ask_rule, examples=examples)\n",
    "        dataset = Dataset.from_list([{\"prompt\": prompt + output_format} for prompt in prompts])\n",
    "        tokenized_prompts = dataset.map(lambda x: tokenizer(x[\"prompt\"], truncation=True),\n",
    "                                        remove_columns=dataset.column_names,\n",
    "                                        batched=True)\n",
    "        prompt_perf[\"length\"] = [len(x[\"input_ids\"]) for x in tokenized_prompts]\n",
    "        prompt_perf[\"method\"] = [method]*len(tokenized_prompts)\n",
    "        performances_with_lengths = pd.concat([performances_with_lengths, prompt_perf], axis=0)\n",
    "    return performances_with_lengths"
   ]
  },
  {
   "cell_type": "code",
   "execution_count": null,
   "id": "f027d6d8",
   "metadata": {},
   "outputs": [],
   "source": [
    "all_prompts = []"
   ]
  },
  {
   "cell_type": "markdown",
   "id": "0d32a364",
   "metadata": {},
   "source": [
    "## Sentiment analysis"
   ]
  },
  {
   "cell_type": "markdown",
   "id": "e4eaa471",
   "metadata": {},
   "source": [
    "### Dataset"
   ]
  },
  {
   "cell_type": "code",
   "execution_count": null,
   "id": "afc3c78f",
   "metadata": {},
   "outputs": [],
   "source": [
    "result_path = Path(f\"./results/sa/sst2/\")"
   ]
  },
  {
   "cell_type": "code",
   "execution_count": null,
   "id": "3fb1aad8",
   "metadata": {},
   "outputs": [],
   "source": [
    "metric = load_metric(\"glue\", \"sst2\")"
   ]
  },
  {
   "cell_type": "code",
   "execution_count": null,
   "id": "ea0750c6",
   "metadata": {},
   "outputs": [],
   "source": [
    "dataset = load_dataset(\"glue\", \"sst2\")\n",
    "dataset_test = dataset[\"validation\"]\n",
    "dataset_train = dataset[\"train\"]"
   ]
  },
  {
   "cell_type": "code",
   "execution_count": null,
   "id": "a764c288",
   "metadata": {},
   "outputs": [],
   "source": [
    "examples_per_label = [dataset_train.filter(lambda x: x[\"label\"] == label) for label in [0, 1]]"
   ]
  },
  {
   "cell_type": "code",
   "execution_count": null,
   "id": "7ead1ce2",
   "metadata": {},
   "outputs": [],
   "source": [
    "df, preds = dataset_hits_df(\"sa\", result_path, dataset_test, metric)"
   ]
  },
  {
   "cell_type": "code",
   "execution_count": null,
   "id": "bb47104e",
   "metadata": {},
   "outputs": [],
   "source": [
    "performances_with_lengths = get_prompt_length_and_perf(df, dataset_test, examples_per_label, \"sa\")"
   ]
  },
  {
   "cell_type": "code",
   "execution_count": null,
   "id": "8b4a8ed4",
   "metadata": {
    "scrolled": true
   },
   "outputs": [],
   "source": [
    "performances_with_lengths.plot(kind=\"scatter\", x=\"length\", y=\"avg\")"
   ]
  },
  {
   "cell_type": "code",
   "execution_count": null,
   "id": "9647859f",
   "metadata": {},
   "outputs": [],
   "source": [
    "# fig, ax = plt.subplots(figsize=(25,8))\n",
    "# g = sns.scatterplot(x='length', y='avg', hue='method', data=performances_with_lengths, ax=ax)\n",
    "# sns.move_legend(g,\"lower center\", bbox_to_anchor=(.5, 1), ncol=7, title=None, frameon=False)"
   ]
  },
  {
   "cell_type": "code",
   "execution_count": null,
   "id": "691768be",
   "metadata": {},
   "outputs": [],
   "source": [
    "performances_with_lengths.corr(method=\"kendall\").loc[\"avg\", \"length\"]"
   ]
  },
  {
   "cell_type": "code",
   "execution_count": null,
   "id": "d71f91aa",
   "metadata": {},
   "outputs": [],
   "source": [
    "performances_with_lengths.corr(method=kendall_pval).loc[\"avg\", \"length\"]"
   ]
  },
  {
   "cell_type": "code",
   "execution_count": null,
   "id": "5fcaa478",
   "metadata": {},
   "outputs": [],
   "source": [
    "for m, data in performances_with_lengths.groupby(\"method\"):\n",
    "    print(m)\n",
    "    print(data.corr(method=\"kendall\").loc[\"avg\", \"length\"])\n",
    "    print(\"====\")"
   ]
  },
  {
   "cell_type": "code",
   "execution_count": null,
   "id": "f7998b3e",
   "metadata": {},
   "outputs": [],
   "source": [
    "all_prompts.append(performances_with_lengths)"
   ]
  },
  {
   "cell_type": "markdown",
   "id": "ac349672",
   "metadata": {},
   "source": [
    "### Suite"
   ]
  },
  {
   "cell_type": "code",
   "execution_count": null,
   "id": "8a8f9bf4",
   "metadata": {},
   "outputs": [],
   "source": [
    "path = Path(\"results/sa/suite/\")"
   ]
  },
  {
   "cell_type": "code",
   "execution_count": null,
   "id": "ad46de6b",
   "metadata": {},
   "outputs": [],
   "source": [
    "suite_test = get_suite(config.sa_path)[\"test\"]"
   ]
  },
  {
   "cell_type": "code",
   "execution_count": null,
   "id": "3b28580f",
   "metadata": {},
   "outputs": [],
   "source": [
    "df, test_idxs =suite_hits_df(\"sa\", path, suite_test)"
   ]
  },
  {
   "cell_type": "code",
   "execution_count": null,
   "id": "ed078ba7",
   "metadata": {},
   "outputs": [],
   "source": [
    "keep_items = df.columns[~df.isna().any()].tolist()"
   ]
  },
  {
   "cell_type": "code",
   "execution_count": null,
   "id": "9dd7fbde",
   "metadata": {},
   "outputs": [],
   "source": [
    "df = df.dropna(1)"
   ]
  },
  {
   "cell_type": "code",
   "execution_count": null,
   "id": "bcff5573",
   "metadata": {},
   "outputs": [],
   "source": [
    "suite_test = suite_test.select(indices =[x[0] for x in list(test_idxs.values())])"
   ]
  },
  {
   "cell_type": "code",
   "execution_count": null,
   "id": "978fd7f3",
   "metadata": {},
   "outputs": [],
   "source": [
    "suite_test = suite_test.select(indices =keep_items[:-3])"
   ]
  },
  {
   "cell_type": "code",
   "execution_count": null,
   "id": "c7cacbe1",
   "metadata": {},
   "outputs": [],
   "source": [
    "performances_with_lengths = get_prompt_length_and_perf(df, suite_test, examples_per_label, \"sa\", suite=True)"
   ]
  },
  {
   "cell_type": "code",
   "execution_count": null,
   "id": "ff2901d9",
   "metadata": {
    "scrolled": true
   },
   "outputs": [],
   "source": [
    "performances_with_lengths.plot(kind=\"scatter\", x=\"length\", y=\"avg\")"
   ]
  },
  {
   "cell_type": "code",
   "execution_count": null,
   "id": "c34caf2e",
   "metadata": {},
   "outputs": [],
   "source": [
    "# fig, ax = plt.subplots(figsize=(25,8))\n",
    "# g = sns.scatterplot(x='length', y='avg', hue='method', data=performances_with_lengths, ax=ax)\n",
    "# sns.move_legend(g,\"lower center\", bbox_to_anchor=(.5, 1), ncol=7, title=None, frameon=False)"
   ]
  },
  {
   "cell_type": "code",
   "execution_count": null,
   "id": "424f5f87",
   "metadata": {},
   "outputs": [],
   "source": [
    "performances_with_lengths.corr(method=\"kendall\").loc[\"avg\", \"length\"]"
   ]
  },
  {
   "cell_type": "code",
   "execution_count": null,
   "id": "288da506",
   "metadata": {},
   "outputs": [],
   "source": [
    "performances_with_lengths.corr(method=kendall_pval).loc[\"avg\", \"length\"]"
   ]
  },
  {
   "cell_type": "code",
   "execution_count": null,
   "id": "c58f4263",
   "metadata": {},
   "outputs": [],
   "source": [
    "for m, data in performances_with_lengths.groupby(\"method\"):\n",
    "    print(m)\n",
    "    print(data.corr(method=\"kendall\").loc[\"avg\", \"length\"])\n",
    "    print(\"====\")"
   ]
  },
  {
   "cell_type": "code",
   "execution_count": null,
   "id": "dbaf52e0",
   "metadata": {},
   "outputs": [],
   "source": [
    "all_prompts.append(performances_with_lengths)"
   ]
  },
  {
   "cell_type": "markdown",
   "id": "2a8d8642",
   "metadata": {},
   "source": [
    "## Paraphrase identification"
   ]
  },
  {
   "cell_type": "markdown",
   "id": "b19d9bcc",
   "metadata": {},
   "source": [
    "### Dataset"
   ]
  },
  {
   "cell_type": "code",
   "execution_count": null,
   "id": "5ea03625",
   "metadata": {},
   "outputs": [],
   "source": [
    "result_path = Path(f\"./results/pi/qqp/\")"
   ]
  },
  {
   "cell_type": "code",
   "execution_count": null,
   "id": "255eee45",
   "metadata": {},
   "outputs": [],
   "source": [
    "dataset = load_dataset(\"glue\", \"qqp\")\n",
    "dataset_test = dataset[\"validation\"]\n",
    "dataset_train = dataset[\"train\"]"
   ]
  },
  {
   "cell_type": "code",
   "execution_count": null,
   "id": "bc22de61",
   "metadata": {},
   "outputs": [],
   "source": [
    "metric = load_metric(\"glue\",\"qqp\")"
   ]
  },
  {
   "cell_type": "code",
   "execution_count": null,
   "id": "d0598f02",
   "metadata": {},
   "outputs": [],
   "source": [
    "examples_per_label = [dataset_train.filter(lambda x: x[\"label\"] == label) for label in [0, 1]]"
   ]
  },
  {
   "cell_type": "code",
   "execution_count": null,
   "id": "69c69353",
   "metadata": {},
   "outputs": [],
   "source": [
    "df, preds = dataset_hits_df(\"pi\", result_path, dataset_test, metric)"
   ]
  },
  {
   "cell_type": "code",
   "execution_count": null,
   "id": "b8b57f5a",
   "metadata": {},
   "outputs": [],
   "source": [
    "performances_with_lengths = get_prompt_length_and_perf(df, dataset_test, examples_per_label, \"pi\")"
   ]
  },
  {
   "cell_type": "code",
   "execution_count": null,
   "id": "a4e83551",
   "metadata": {
    "scrolled": true
   },
   "outputs": [],
   "source": [
    "performances_with_lengths.plot(kind=\"scatter\", x=\"length\", y=\"avg\")"
   ]
  },
  {
   "cell_type": "code",
   "execution_count": null,
   "id": "c908304a",
   "metadata": {},
   "outputs": [],
   "source": [
    "# fig, ax = plt.subplots(figsize=(25,8))\n",
    "# g = sns.scatterplot(x='length', y='avg', hue='method', data=performances_with_lengths, ax=ax)\n",
    "# sns.move_legend(g,\"lower center\", bbox_to_anchor=(.5, 1), ncol=7, title=None, frameon=False)"
   ]
  },
  {
   "cell_type": "code",
   "execution_count": null,
   "id": "e625d5c6",
   "metadata": {},
   "outputs": [],
   "source": [
    "performances_with_lengths.corr(method=\"kendall\").loc[\"avg\", \"length\"]"
   ]
  },
  {
   "cell_type": "code",
   "execution_count": null,
   "id": "d34714f7",
   "metadata": {},
   "outputs": [],
   "source": [
    "performances_with_lengths.corr(method=kendall_pval).loc[\"avg\", \"length\"]"
   ]
  },
  {
   "cell_type": "code",
   "execution_count": null,
   "id": "c72f86ff",
   "metadata": {},
   "outputs": [],
   "source": [
    "for m, data in performances_with_lengths.groupby(\"method\"):\n",
    "    print(m)\n",
    "    print(data.corr(method=\"kendall\").loc[\"avg\", \"length\"])\n",
    "    print(\"====\")"
   ]
  },
  {
   "cell_type": "code",
   "execution_count": null,
   "id": "420f8769",
   "metadata": {},
   "outputs": [],
   "source": [
    "all_prompts.append(performances_with_lengths)"
   ]
  },
  {
   "cell_type": "markdown",
   "id": "8f713f51",
   "metadata": {},
   "source": [
    "### Suite"
   ]
  },
  {
   "cell_type": "code",
   "execution_count": null,
   "id": "d3dda846",
   "metadata": {},
   "outputs": [],
   "source": [
    "path = Path(\"results/pi/suite/\")"
   ]
  },
  {
   "cell_type": "code",
   "execution_count": null,
   "id": "bd2c15cf",
   "metadata": {},
   "outputs": [],
   "source": [
    "suite_test = get_suite(config.pi_path)[\"test\"]"
   ]
  },
  {
   "cell_type": "code",
   "execution_count": null,
   "id": "0d5fe3ec",
   "metadata": {},
   "outputs": [],
   "source": [
    "df, test_idxs =suite_hits_df(\"pi\", path, suite_test)"
   ]
  },
  {
   "cell_type": "code",
   "execution_count": null,
   "id": "5bd4c146",
   "metadata": {},
   "outputs": [],
   "source": [
    "keep_items = df.columns[~df.isna().any()].tolist()"
   ]
  },
  {
   "cell_type": "code",
   "execution_count": null,
   "id": "7f711554",
   "metadata": {},
   "outputs": [],
   "source": [
    "df = df.dropna(1)"
   ]
  },
  {
   "cell_type": "code",
   "execution_count": null,
   "id": "e851698c",
   "metadata": {},
   "outputs": [],
   "source": [
    "suite_test = suite_test.select(indices =[x[0] for x in list(test_idxs.values())])"
   ]
  },
  {
   "cell_type": "code",
   "execution_count": null,
   "id": "eeee54fc",
   "metadata": {},
   "outputs": [],
   "source": [
    "suite_test = suite_test.select(indices =keep_items[:-3])"
   ]
  },
  {
   "cell_type": "code",
   "execution_count": null,
   "id": "3f8fcb0b",
   "metadata": {},
   "outputs": [],
   "source": [
    "performances_with_lengths = get_prompt_length_and_perf(df, suite_test, examples_per_label, \"pi\", suite=True)"
   ]
  },
  {
   "cell_type": "code",
   "execution_count": null,
   "id": "c0c00ded",
   "metadata": {
    "scrolled": true
   },
   "outputs": [],
   "source": [
    "performances_with_lengths.plot(kind=\"scatter\", x=\"length\", y=\"avg\")"
   ]
  },
  {
   "cell_type": "code",
   "execution_count": null,
   "id": "8b4a0fa7",
   "metadata": {},
   "outputs": [],
   "source": [
    "# fig, ax = plt.subplots(figsize=(25,8))\n",
    "# g = sns.scatterplot(x='length', y='avg', hue='method', data=performances_with_lengths, ax=ax)\n",
    "# sns.move_legend(g,\"lower center\", bbox_to_anchor=(.5, 1), ncol=7, title=None, frameon=False)"
   ]
  },
  {
   "cell_type": "code",
   "execution_count": null,
   "id": "9b82736c",
   "metadata": {},
   "outputs": [],
   "source": [
    "performances_with_lengths.corr(method=\"kendall\").loc[\"avg\", \"length\"]"
   ]
  },
  {
   "cell_type": "code",
   "execution_count": null,
   "id": "1b6ffeb3",
   "metadata": {},
   "outputs": [],
   "source": [
    "performances_with_lengths.corr(method=kendall_pval).loc[\"avg\", \"length\"]"
   ]
  },
  {
   "cell_type": "code",
   "execution_count": null,
   "id": "cd3e2a4c",
   "metadata": {},
   "outputs": [],
   "source": [
    "for m, data in performances_with_lengths.groupby(\"method\"):\n",
    "    print(m)\n",
    "    print(data.corr(method=\"kendall\").loc[\"avg\", \"length\"])\n",
    "    print(\"====\")"
   ]
  },
  {
   "cell_type": "code",
   "execution_count": null,
   "id": "498884be",
   "metadata": {},
   "outputs": [],
   "source": [
    "all_prompts.append(performances_with_lengths)"
   ]
  },
  {
   "cell_type": "markdown",
   "id": "99bcb76c",
   "metadata": {},
   "source": [
    "## Reading comprehension"
   ]
  },
  {
   "cell_type": "markdown",
   "id": "974f80bd",
   "metadata": {},
   "source": [
    "### Dataset"
   ]
  },
  {
   "cell_type": "code",
   "execution_count": null,
   "id": "c8e1de61",
   "metadata": {},
   "outputs": [],
   "source": [
    "result_path = Path(f\"./results/rc/squad/\")"
   ]
  },
  {
   "cell_type": "code",
   "execution_count": null,
   "id": "36101348",
   "metadata": {},
   "outputs": [],
   "source": [
    "dataset = load_dataset(\"squad\")\n",
    "dataset_test = dataset[\"validation\"]\n",
    "dataset_train = dataset[\"train\"]"
   ]
  },
  {
   "cell_type": "code",
   "execution_count": null,
   "id": "ea9b4712",
   "metadata": {},
   "outputs": [],
   "source": [
    "metric = load_metric(\"squad\")"
   ]
  },
  {
   "cell_type": "code",
   "execution_count": null,
   "id": "91351c66",
   "metadata": {},
   "outputs": [],
   "source": [
    "examples_per_label = dataset_train"
   ]
  },
  {
   "cell_type": "code",
   "execution_count": null,
   "id": "d8378d8c",
   "metadata": {},
   "outputs": [],
   "source": [
    "df, preds = dataset_hits_df(\"rc\", result_path, dataset_test, metric, label_col=\"answers\")"
   ]
  },
  {
   "cell_type": "code",
   "execution_count": null,
   "id": "29b4ecb0",
   "metadata": {},
   "outputs": [],
   "source": [
    "performances_with_lengths = get_prompt_length_and_perf(df, dataset_test, examples_per_label, \"rc\")"
   ]
  },
  {
   "cell_type": "code",
   "execution_count": null,
   "id": "13ce60fc",
   "metadata": {
    "scrolled": true
   },
   "outputs": [],
   "source": [
    "performances_with_lengths.plot(kind=\"scatter\", x=\"length\", y=\"avg\")"
   ]
  },
  {
   "cell_type": "code",
   "execution_count": null,
   "id": "1c8c0b1d",
   "metadata": {},
   "outputs": [],
   "source": [
    "# fig, ax = plt.subplots(figsize=(25,8))\n",
    "# g = sns.scatterplot(x='length', y='avg', hue='method', data=performances_with_lengths, ax=ax)\n",
    "# sns.move_legend(g,\"lower center\", bbox_to_anchor=(.5, 1), ncol=7, title=None, frameon=False)"
   ]
  },
  {
   "cell_type": "code",
   "execution_count": null,
   "id": "c40c5082",
   "metadata": {},
   "outputs": [],
   "source": [
    "performances_with_lengths.corr(method=\"kendall\").loc[\"avg\", \"length\"]"
   ]
  },
  {
   "cell_type": "code",
   "execution_count": null,
   "id": "e6d494bf",
   "metadata": {},
   "outputs": [],
   "source": [
    "performances_with_lengths.corr(method=kendall_pval).loc[\"avg\", \"length\"]"
   ]
  },
  {
   "cell_type": "code",
   "execution_count": null,
   "id": "322b297a",
   "metadata": {},
   "outputs": [],
   "source": [
    "for m, data in performances_with_lengths.groupby(\"method\"):\n",
    "    print(m)\n",
    "    print(data.corr(method=\"kendall\").loc[\"avg\", \"length\"])\n",
    "    print(\"====\")"
   ]
  },
  {
   "cell_type": "code",
   "execution_count": null,
   "id": "f0dcafc1",
   "metadata": {},
   "outputs": [],
   "source": [
    "all_prompts.append(performances_with_lengths)"
   ]
  },
  {
   "cell_type": "markdown",
   "id": "fcb85b02",
   "metadata": {},
   "source": [
    "### Suite"
   ]
  },
  {
   "cell_type": "code",
   "execution_count": null,
   "id": "7079c497",
   "metadata": {},
   "outputs": [],
   "source": [
    "path = Path(\"results/rc/suite/\")"
   ]
  },
  {
   "cell_type": "code",
   "execution_count": null,
   "id": "7ff5d306",
   "metadata": {},
   "outputs": [],
   "source": [
    "suite_test = get_suite(config.rc_path)[\"test\"]"
   ]
  },
  {
   "cell_type": "code",
   "execution_count": null,
   "id": "4a7b084e",
   "metadata": {},
   "outputs": [],
   "source": [
    "df, test_idxs =suite_hits_df(\"rc\", path, suite_test)"
   ]
  },
  {
   "cell_type": "code",
   "execution_count": null,
   "id": "84be4fbe",
   "metadata": {},
   "outputs": [],
   "source": [
    "keep_items = df.columns[~df.isna().any()].tolist()"
   ]
  },
  {
   "cell_type": "code",
   "execution_count": null,
   "id": "c777c036",
   "metadata": {},
   "outputs": [],
   "source": [
    "df = df.dropna(1)"
   ]
  },
  {
   "cell_type": "code",
   "execution_count": null,
   "id": "49da2b7a",
   "metadata": {},
   "outputs": [],
   "source": [
    "suite_test = suite_test.select(indices =[x[0] for x in list(test_idxs.values())])"
   ]
  },
  {
   "cell_type": "code",
   "execution_count": null,
   "id": "42074c1a",
   "metadata": {},
   "outputs": [],
   "source": [
    "suite_test = suite_test.select(indices =keep_items[:-3])"
   ]
  },
  {
   "cell_type": "code",
   "execution_count": null,
   "id": "066d1209",
   "metadata": {},
   "outputs": [],
   "source": [
    "performances_with_lengths = get_prompt_length_and_perf(df, suite_test, examples_per_label, \"rc\", suite=True)"
   ]
  },
  {
   "cell_type": "code",
   "execution_count": null,
   "id": "1b65e944",
   "metadata": {
    "scrolled": true
   },
   "outputs": [],
   "source": [
    "performances_with_lengths.plot(kind=\"scatter\", x=\"length\", y=\"avg\")"
   ]
  },
  {
   "cell_type": "code",
   "execution_count": null,
   "id": "c031a93c",
   "metadata": {},
   "outputs": [],
   "source": [
    "# fig, ax = plt.subplots(figsize=(25,8))\n",
    "# g = sns.scatterplot(x='length', y='avg', hue='method', data=performances_with_lengths, ax=ax)\n",
    "# sns.move_legend(g,\"lower center\", bbox_to_anchor=(.5, 1), ncol=7, title=None, frameon=False)"
   ]
  },
  {
   "cell_type": "code",
   "execution_count": null,
   "id": "8c71459c",
   "metadata": {},
   "outputs": [],
   "source": [
    "performances_with_lengths.corr(method=\"kendall\").loc[\"avg\", \"length\"]"
   ]
  },
  {
   "cell_type": "code",
   "execution_count": null,
   "id": "b56663d7",
   "metadata": {},
   "outputs": [],
   "source": [
    "performances_with_lengths.corr(method=kendall_pval).loc[\"avg\", \"length\"]"
   ]
  },
  {
   "cell_type": "code",
   "execution_count": null,
   "id": "c5ae3bad",
   "metadata": {},
   "outputs": [],
   "source": [
    "for m, data in performances_with_lengths.groupby(\"method\"):\n",
    "    print(m)\n",
    "    print(data.corr(method=\"kendall\").loc[\"avg\", \"length\"])\n",
    "    print(\"====\")"
   ]
  },
  {
   "cell_type": "code",
   "execution_count": null,
   "id": "2da6964c",
   "metadata": {},
   "outputs": [],
   "source": [
    "all_prompts.append(performances_with_lengths)"
   ]
  },
  {
   "cell_type": "markdown",
   "id": "896554cb",
   "metadata": {},
   "source": [
    "## Hate speech detection"
   ]
  },
  {
   "cell_type": "markdown",
   "id": "f1b8abc7",
   "metadata": {},
   "source": [
    "### Dataset"
   ]
  },
  {
   "cell_type": "code",
   "execution_count": null,
   "id": "9d932cf3",
   "metadata": {},
   "outputs": [],
   "source": [
    "davidson_result_path = Path(f\"./results/hsd/davidson2017/\")\n",
    "davidson = load_hsd_dataset(\"davidson2017\")\n",
    "davidson_test = davidson[\"test\"]\n",
    "davidson_train = davidson[\"train\"]"
   ]
  },
  {
   "cell_type": "code",
   "execution_count": null,
   "id": "33678e4d",
   "metadata": {},
   "outputs": [],
   "source": [
    "founta_result_path = Path(f\"./results/hsd/founta2018/\")\n",
    "founta = load_hsd_dataset(\"founta2018\")\n",
    "founta_test = founta[\"test\"]\n",
    "founta_train = founta[\"train\"]"
   ]
  },
  {
   "cell_type": "code",
   "execution_count": null,
   "id": "0b51f011",
   "metadata": {},
   "outputs": [],
   "source": [
    "davidson_examples_per_label = [davidson_train.filter(lambda x: x[\"label\"] == label) for label in [0, 1]]\n",
    "founta_examples_per_label = [founta_train.filter(lambda x: x[\"label\"] == label) for label in [0, 1]]\n",
    "dataset_train = concatenate_datasets([davidson_train, founta_train])\n",
    "examples_per_label = [dataset_train.filter(lambda x: x[\"label\"] == label) for label in [0, 1]]"
   ]
  },
  {
   "cell_type": "code",
   "execution_count": null,
   "id": "24e2f33c",
   "metadata": {},
   "outputs": [],
   "source": [
    "metric = load_metric(\"glue\",\"qqp\")"
   ]
  },
  {
   "cell_type": "code",
   "execution_count": null,
   "id": "876ce192",
   "metadata": {},
   "outputs": [],
   "source": [
    "df, preds = dataset_hits_df(\"hsd\", davidson_result_path, davidson_test, metric)"
   ]
  },
  {
   "cell_type": "code",
   "execution_count": null,
   "id": "025d70c0",
   "metadata": {},
   "outputs": [],
   "source": [
    "performances_with_lengths = get_prompt_length_and_perf(df, davidson_test, davidson_examples_per_label, \"hsd\")"
   ]
  },
  {
   "cell_type": "code",
   "execution_count": null,
   "id": "1ab0ef33",
   "metadata": {
    "scrolled": true
   },
   "outputs": [],
   "source": [
    "performances_with_lengths.plot(kind=\"scatter\", x=\"length\", y=\"avg\")"
   ]
  },
  {
   "cell_type": "code",
   "execution_count": null,
   "id": "a5ad184b",
   "metadata": {},
   "outputs": [],
   "source": [
    "# fig, ax = plt.subplots(figsize=(25,8))\n",
    "# g = sns.scatterplot(x='length', y='avg', hue='method', data=performances_with_lengths, ax=ax)\n",
    "# sns.move_legend(g,\"lower center\", bbox_to_anchor=(.5, 1), ncol=7, title=None, frameon=False)"
   ]
  },
  {
   "cell_type": "code",
   "execution_count": null,
   "id": "9977c954",
   "metadata": {},
   "outputs": [],
   "source": [
    "performances_with_lengths.corr(method=\"kendall\").loc[\"avg\", \"length\"]"
   ]
  },
  {
   "cell_type": "code",
   "execution_count": null,
   "id": "aeabb5c5",
   "metadata": {},
   "outputs": [],
   "source": [
    "performances_with_lengths.corr(method=kendall_pval).loc[\"avg\", \"length\"]"
   ]
  },
  {
   "cell_type": "code",
   "execution_count": null,
   "id": "f16d2ba5",
   "metadata": {},
   "outputs": [],
   "source": [
    "for m, data in performances_with_lengths.groupby(\"method\"):\n",
    "    print(m)\n",
    "    print(data.corr(method=\"kendall\").loc[\"avg\", \"length\"])\n",
    "    print(\"====\")"
   ]
  },
  {
   "cell_type": "code",
   "execution_count": null,
   "id": "ffbc1a5c",
   "metadata": {},
   "outputs": [],
   "source": [
    "all_prompts.append(performances_with_lengths)"
   ]
  },
  {
   "cell_type": "code",
   "execution_count": null,
   "id": "f636966e",
   "metadata": {},
   "outputs": [],
   "source": [
    "df, preds = dataset_hits_df(\"hsd\", founta_result_path, founta_test, metric)"
   ]
  },
  {
   "cell_type": "code",
   "execution_count": null,
   "id": "5e61e8f7",
   "metadata": {},
   "outputs": [],
   "source": [
    "performances_with_lengths = get_prompt_length_and_perf(df, founta_test, founta_examples_per_label, \"hsd\")"
   ]
  },
  {
   "cell_type": "code",
   "execution_count": null,
   "id": "d2c1232e",
   "metadata": {
    "scrolled": true
   },
   "outputs": [],
   "source": [
    "performances_with_lengths.plot(kind=\"scatter\", x=\"length\", y=\"avg\")"
   ]
  },
  {
   "cell_type": "code",
   "execution_count": null,
   "id": "4e31d2ff",
   "metadata": {},
   "outputs": [],
   "source": [
    "# fig, ax = plt.subplots(figsize=(25,8))\n",
    "# g = sns.scatterplot(x='length', y='avg', hue='method', data=performances_with_lengths, ax=ax)\n",
    "# sns.move_legend(g,\"lower center\", bbox_to_anchor=(.5, 1), ncol=7, title=None, frameon=False)"
   ]
  },
  {
   "cell_type": "code",
   "execution_count": null,
   "id": "70aaf3d2",
   "metadata": {},
   "outputs": [],
   "source": [
    "performances_with_lengths.corr(method=\"kendall\").loc[\"avg\", \"length\"]"
   ]
  },
  {
   "cell_type": "code",
   "execution_count": null,
   "id": "da214411",
   "metadata": {},
   "outputs": [],
   "source": [
    "performances_with_lengths.corr(method=kendall_pval).loc[\"avg\", \"length\"]"
   ]
  },
  {
   "cell_type": "code",
   "execution_count": null,
   "id": "1b4bbf03",
   "metadata": {},
   "outputs": [],
   "source": [
    "for m, data in performances_with_lengths.groupby(\"method\"):\n",
    "    print(m)\n",
    "    print(data.corr(method=\"kendall\").loc[\"avg\", \"length\"])\n",
    "    print(\"====\")"
   ]
  },
  {
   "cell_type": "code",
   "execution_count": null,
   "id": "89bbaf79",
   "metadata": {},
   "outputs": [],
   "source": [
    "all_prompts.append(performances_with_lengths)"
   ]
  },
  {
   "cell_type": "markdown",
   "id": "b84fb9f9",
   "metadata": {},
   "source": [
    "### Suite"
   ]
  },
  {
   "cell_type": "code",
   "execution_count": null,
   "id": "c4ce8c63",
   "metadata": {},
   "outputs": [],
   "source": [
    "path = Path(\"results/hsd/suite/\")"
   ]
  },
  {
   "cell_type": "code",
   "execution_count": null,
   "id": "784ebf65",
   "metadata": {},
   "outputs": [],
   "source": [
    "suite_test = get_suite(config.hatecheck_path, hateCheck=True)[\"test\"]"
   ]
  },
  {
   "cell_type": "code",
   "execution_count": null,
   "id": "d9a9dbc3",
   "metadata": {},
   "outputs": [],
   "source": [
    "df, test_idxs =suite_hits_df(\"hsd\", path, suite_test)"
   ]
  },
  {
   "cell_type": "code",
   "execution_count": null,
   "id": "410ee785",
   "metadata": {},
   "outputs": [],
   "source": [
    "suite_test = suite_test.rename_column(\"test_case\", \"text\")"
   ]
  },
  {
   "cell_type": "code",
   "execution_count": null,
   "id": "b7e63429",
   "metadata": {},
   "outputs": [],
   "source": [
    "performances_with_lengths = get_prompt_length_and_perf(df, suite_test, examples_per_label, \"hsd\", suite=True)"
   ]
  },
  {
   "cell_type": "code",
   "execution_count": null,
   "id": "17f88c12",
   "metadata": {
    "scrolled": true
   },
   "outputs": [],
   "source": [
    "performances_with_lengths.plot(kind=\"scatter\", x=\"length\", y=\"avg\")"
   ]
  },
  {
   "cell_type": "code",
   "execution_count": null,
   "id": "de93870b",
   "metadata": {},
   "outputs": [],
   "source": [
    "# fig, ax = plt.subplots(figsize=(25,8))\n",
    "# g = sns.scatterplot(x='length', y='avg', hue='method', data=performances_with_lengths, ax=ax)\n",
    "# sns.move_legend(g,\"lower center\", bbox_to_anchor=(.5, 1), ncol=7, title=None, frameon=False)"
   ]
  },
  {
   "cell_type": "code",
   "execution_count": null,
   "id": "37251df8",
   "metadata": {},
   "outputs": [],
   "source": [
    "performances_with_lengths.corr(method=\"kendall\").loc[\"avg\", \"length\"]"
   ]
  },
  {
   "cell_type": "code",
   "execution_count": null,
   "id": "0649f0f7",
   "metadata": {},
   "outputs": [],
   "source": [
    "performances_with_lengths.corr(method=kendall_pval).loc[\"avg\", \"length\"]"
   ]
  },
  {
   "cell_type": "code",
   "execution_count": null,
   "id": "b9008e84",
   "metadata": {},
   "outputs": [],
   "source": [
    "for m, data in performances_with_lengths.groupby(\"method\"):\n",
    "    print(m)\n",
    "    print(data.corr(method=\"kendall\").loc[\"avg\", \"length\"])\n",
    "    print(\"====\")"
   ]
  },
  {
   "cell_type": "code",
   "execution_count": null,
   "id": "6b2888fd",
   "metadata": {},
   "outputs": [],
   "source": [
    "all_prompts.append(performances_with_lengths)"
   ]
  },
  {
   "cell_type": "markdown",
   "id": "966eb69e",
   "metadata": {},
   "source": [
    "## Aggregate"
   ]
  },
  {
   "cell_type": "code",
   "execution_count": null,
   "id": "1e0577da",
   "metadata": {},
   "outputs": [],
   "source": [
    "for prompts in all_prompts:\n",
    "    print(prompts.groupby(\"method\").agg(max))"
   ]
  },
  {
   "cell_type": "code",
   "execution_count": null,
   "id": "71461dec",
   "metadata": {},
   "outputs": [],
   "source": [
    "all_prompts_df = pd.concat(all_prompts)"
   ]
  },
  {
   "cell_type": "code",
   "execution_count": null,
   "id": "8cf282e8",
   "metadata": {
    "scrolled": true
   },
   "outputs": [],
   "source": [
    "all_prompts_df.plot(kind=\"scatter\", x=\"length\", y=\"avg\")"
   ]
  },
  {
   "cell_type": "code",
   "execution_count": null,
   "id": "7d9c1a7f",
   "metadata": {},
   "outputs": [],
   "source": [
    "# fig, ax = plt.subplots(figsize=(25,8))\n",
    "# g = sns.scatterplot(x='length', y='avg', hue='method', data=performances_with_lengths, ax=ax)\n",
    "# sns.move_legend(g,\"lower center\", bbox_to_anchor=(.5, 1), ncol=7, title=None, frameon=False)"
   ]
  },
  {
   "cell_type": "code",
   "execution_count": null,
   "id": "052e9863",
   "metadata": {},
   "outputs": [],
   "source": [
    "all_prompts_df.corr(method=\"kendall\").loc[\"avg\", \"length\"]"
   ]
  },
  {
   "cell_type": "code",
   "execution_count": null,
   "id": "37c63a62",
   "metadata": {},
   "outputs": [],
   "source": [
    "all_prompts_df.corr(method=kendall_pval).loc[\"avg\", \"length\"]"
   ]
  },
  {
   "cell_type": "code",
   "execution_count": null,
   "id": "04548ed9",
   "metadata": {},
   "outputs": [],
   "source": [
    "for m, data in all_prompts_df.groupby(\"method\"):\n",
    "    print(m)\n",
    "    print(data.corr(method=\"kendall\").loc[\"avg\", \"length\"])\n",
    "    print(\"====\")"
   ]
  },
  {
   "cell_type": "code",
   "execution_count": null,
   "id": "7cdb6de1",
   "metadata": {},
   "outputs": [],
   "source": [
    "all_prompts_df.groupby(\"method\")[\"length\"].mean().sort_values()"
   ]
  },
  {
   "cell_type": "code",
   "execution_count": null,
   "id": "a11eb1bf",
   "metadata": {},
   "outputs": [],
   "source": []
  }
 ],
 "metadata": {
  "kernelspec": {
   "display_name": "specification-instruction",
   "language": "python",
   "name": "specification-instruction"
  },
  "language_info": {
   "codemirror_mode": {
    "name": "ipython",
    "version": 3
   },
   "file_extension": ".py",
   "mimetype": "text/x-python",
   "name": "python",
   "nbconvert_exporter": "python",
   "pygments_lexer": "ipython3",
   "version": "3.10.9"
  }
 },
 "nbformat": 4,
 "nbformat_minor": 5
}
